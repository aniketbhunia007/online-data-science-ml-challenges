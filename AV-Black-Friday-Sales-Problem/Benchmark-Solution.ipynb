{
 "cells": [
  {
   "cell_type": "markdown",
   "metadata": {},
   "source": [
    "# Approaches to predict the Purchase are:\n",
    "* Multiple Linear Regression: RMSE of Validation Set = 6416.093\n",
    "* Backward Subsetting of variables: RMSE of Validation Set = 3230.107\n",
    "* Lasso Regression: RMSE of Validation Set = 2970.445\n",
    "\n",
    "* Leaderboard Accuracy (for test set): 2992.02138074499"
   ]
  },
  {
   "cell_type": "code",
   "execution_count": 1,
   "metadata": {},
   "outputs": [
    {
     "name": "stderr",
     "output_type": "stream",
     "text": [
      "\n",
      "Attaching package: ‘dplyr’\n",
      "\n",
      "\n",
      "The following objects are masked from ‘package:stats’:\n",
      "\n",
      "    filter, lag\n",
      "\n",
      "\n",
      "The following objects are masked from ‘package:base’:\n",
      "\n",
      "    intersect, setdiff, setequal, union\n",
      "\n",
      "\n",
      "\n",
      "Attaching package: ‘MASS’\n",
      "\n",
      "\n",
      "The following object is masked from ‘package:dplyr’:\n",
      "\n",
      "    select\n",
      "\n",
      "\n",
      "Loading required package: Matrix\n",
      "\n",
      "Loaded glmnet 3.0-1\n",
      "\n",
      "\n",
      "Loading required package: carData\n",
      "\n",
      "\n",
      "Attaching package: ‘car’\n",
      "\n",
      "\n",
      "The following object is masked from ‘package:dplyr’:\n",
      "\n",
      "    recode\n",
      "\n",
      "\n"
     ]
    }
   ],
   "source": [
    "library(dplyr)\n",
    "library(caTools)\n",
    "library(mltools)\n",
    "library(MASS)\n",
    "library(leaps)\n",
    "library(glmnet)\n",
    "library(ISLR)\n",
    "library(car)"
   ]
  },
  {
   "cell_type": "code",
   "execution_count": 2,
   "metadata": {},
   "outputs": [],
   "source": [
    "train = read.csv('../input/black-friday/train.csv')\n",
    "test = read.csv('../input/black-friday/test.csv')"
   ]
  },
  {
   "cell_type": "markdown",
   "metadata": {},
   "source": [
    "# Preprocessing"
   ]
  },
  {
   "cell_type": "code",
   "execution_count": 3,
   "metadata": {},
   "outputs": [
    {
     "name": "stdout",
     "output_type": "stream",
     "text": [
      "'data.frame':\t783667 obs. of  12 variables:\n",
      " $ User_ID                   : int  1000001 1000001 1000001 1000001 1000002 1000003 1000004 1000004 1000004 1000005 ...\n",
      " $ Product_ID                : Factor w/ 3677 levels \"P00000142\",\"P00000242\",..: 673 2377 853 829 2735 1832 1746 3321 3605 2632 ...\n",
      " $ Gender                    : Factor w/ 2 levels \"F\",\"M\": 1 1 1 1 2 2 2 2 2 2 ...\n",
      " $ Age                       : Factor w/ 7 levels \"0-17\",\"18-25\",..: 1 1 1 1 7 3 5 5 5 3 ...\n",
      " $ Occupation                : int  10 10 10 10 16 15 7 7 7 20 ...\n",
      " $ City_Category             : Factor w/ 3 levels \"A\",\"B\",\"C\": 1 1 1 1 3 1 2 2 2 1 ...\n",
      " $ Stay_In_Current_City_Years: Factor w/ 5 levels \"0\",\"1\",\"2\",\"3\",..: 3 3 3 3 5 4 3 3 3 2 ...\n",
      " $ Marital_Status            : int  0 0 0 0 0 0 1 1 1 1 ...\n",
      " $ Product_Category_1        : int  3 1 12 12 8 1 1 1 1 8 ...\n",
      " $ Product_Category_2        : int  NA 6 NA 14 NA 2 8 15 16 NA ...\n",
      " $ Product_Category_3        : int  NA 14 NA NA NA NA 17 NA NA NA ...\n",
      " $ Purchase                  : num  8370 15200 1422 1057 7969 ...\n"
     ]
    }
   ],
   "source": [
    "Purchase = 0\n",
    "test = cbind(test, Purchase)\n",
    "\n",
    "data = rbind(train, test)\n",
    "\n",
    "str(data)"
   ]
  },
  {
   "cell_type": "code",
   "execution_count": 4,
   "metadata": {},
   "outputs": [
    {
     "data": {
      "text/html": [
       "<dl class=dl-horizontal>\n",
       "\t<dt>User_ID</dt>\n",
       "\t\t<dd>0</dd>\n",
       "\t<dt>Product_ID</dt>\n",
       "\t\t<dd>0</dd>\n",
       "\t<dt>Gender</dt>\n",
       "\t\t<dd>0</dd>\n",
       "\t<dt>Age</dt>\n",
       "\t\t<dd>0</dd>\n",
       "\t<dt>Occupation</dt>\n",
       "\t\t<dd>0</dd>\n",
       "\t<dt>City_Category</dt>\n",
       "\t\t<dd>0</dd>\n",
       "\t<dt>Stay_In_Current_City_Years</dt>\n",
       "\t\t<dd>0</dd>\n",
       "\t<dt>Marital_Status</dt>\n",
       "\t\t<dd>0</dd>\n",
       "\t<dt>Product_Category_1</dt>\n",
       "\t\t<dd>0</dd>\n",
       "\t<dt>Product_Category_2</dt>\n",
       "\t\t<dd>245982</dd>\n",
       "\t<dt>Product_Category_3</dt>\n",
       "\t\t<dd>545809</dd>\n",
       "\t<dt>Purchase</dt>\n",
       "\t\t<dd>0</dd>\n",
       "</dl>\n"
      ],
      "text/latex": [
       "\\begin{description*}\n",
       "\\item[User\\textbackslash{}\\_ID] 0\n",
       "\\item[Product\\textbackslash{}\\_ID] 0\n",
       "\\item[Gender] 0\n",
       "\\item[Age] 0\n",
       "\\item[Occupation] 0\n",
       "\\item[City\\textbackslash{}\\_Category] 0\n",
       "\\item[Stay\\textbackslash{}\\_In\\textbackslash{}\\_Current\\textbackslash{}\\_City\\textbackslash{}\\_Years] 0\n",
       "\\item[Marital\\textbackslash{}\\_Status] 0\n",
       "\\item[Product\\textbackslash{}\\_Category\\textbackslash{}\\_1] 0\n",
       "\\item[Product\\textbackslash{}\\_Category\\textbackslash{}\\_2] 245982\n",
       "\\item[Product\\textbackslash{}\\_Category\\textbackslash{}\\_3] 545809\n",
       "\\item[Purchase] 0\n",
       "\\end{description*}\n"
      ],
      "text/markdown": [
       "User_ID\n",
       ":   0Product_ID\n",
       ":   0Gender\n",
       ":   0Age\n",
       ":   0Occupation\n",
       ":   0City_Category\n",
       ":   0Stay_In_Current_City_Years\n",
       ":   0Marital_Status\n",
       ":   0Product_Category_1\n",
       ":   0Product_Category_2\n",
       ":   245982Product_Category_3\n",
       ":   545809Purchase\n",
       ":   0\n",
       "\n"
      ],
      "text/plain": [
       "                   User_ID                 Product_ID \n",
       "                         0                          0 \n",
       "                    Gender                        Age \n",
       "                         0                          0 \n",
       "                Occupation              City_Category \n",
       "                         0                          0 \n",
       "Stay_In_Current_City_Years             Marital_Status \n",
       "                         0                          0 \n",
       "        Product_Category_1         Product_Category_2 \n",
       "                         0                     245982 \n",
       "        Product_Category_3                   Purchase \n",
       "                    545809                          0 "
      ]
     },
     "metadata": {},
     "output_type": "display_data"
    }
   ],
   "source": [
    "colSums(is.na(data))"
   ]
  },
  {
   "cell_type": "code",
   "execution_count": 5,
   "metadata": {},
   "outputs": [
    {
     "data": {
      "text/html": [
       "<dl class=dl-horizontal>\n",
       "\t<dt>F</dt>\n",
       "\t\t<dd>193636</dd>\n",
       "\t<dt>M</dt>\n",
       "\t\t<dd>590031</dd>\n",
       "</dl>\n"
      ],
      "text/latex": [
       "\\begin{description*}\n",
       "\\item[F] 193636\n",
       "\\item[M] 590031\n",
       "\\end{description*}\n"
      ],
      "text/markdown": [
       "F\n",
       ":   193636M\n",
       ":   590031\n",
       "\n"
      ],
      "text/plain": [
       "     F      M \n",
       "193636 590031 "
      ]
     },
     "metadata": {},
     "output_type": "display_data"
    },
    {
     "data": {
      "text/html": [
       "<dl class=dl-horizontal>\n",
       "\t<dt>0-17</dt>\n",
       "\t\t<dd>21334</dd>\n",
       "\t<dt>18-25</dt>\n",
       "\t\t<dd>141953</dd>\n",
       "\t<dt>26-35</dt>\n",
       "\t\t<dd>313015</dd>\n",
       "\t<dt>36-45</dt>\n",
       "\t\t<dd>156724</dd>\n",
       "\t<dt>46-50</dt>\n",
       "\t\t<dd>65278</dd>\n",
       "\t<dt>51-55</dt>\n",
       "\t\t<dd>54784</dd>\n",
       "\t<dt>55+</dt>\n",
       "\t\t<dd>30579</dd>\n",
       "</dl>\n"
      ],
      "text/latex": [
       "\\begin{description*}\n",
       "\\item[0-17] 21334\n",
       "\\item[18-25] 141953\n",
       "\\item[26-35] 313015\n",
       "\\item[36-45] 156724\n",
       "\\item[46-50] 65278\n",
       "\\item[51-55] 54784\n",
       "\\item[55+] 30579\n",
       "\\end{description*}\n"
      ],
      "text/markdown": [
       "0-17\n",
       ":   2133418-25\n",
       ":   14195326-35\n",
       ":   31301536-45\n",
       ":   15672446-50\n",
       ":   6527851-55\n",
       ":   5478455+\n",
       ":   30579\n",
       "\n"
      ],
      "text/plain": [
       "  0-17  18-25  26-35  36-45  46-50  51-55    55+ \n",
       " 21334 141953 313015 156724  65278  54784  30579 "
      ]
     },
     "metadata": {},
     "output_type": "display_data"
    }
   ],
   "source": [
    "summary(data$Gender)\n",
    "summary(data$Age)"
   ]
  },
  {
   "cell_type": "code",
   "execution_count": 6,
   "metadata": {},
   "outputs": [
    {
     "data": {
      "text/html": [
       "<dl class=dl-horizontal>\n",
       "\t<dt>0</dt>\n",
       "\t\t<dd>105716</dd>\n",
       "\t<dt>1</dt>\n",
       "\t\t<dd>276425</dd>\n",
       "\t<dt>2</dt>\n",
       "\t\t<dd>145427</dd>\n",
       "\t<dt>3</dt>\n",
       "\t\t<dd>135428</dd>\n",
       "\t<dt>4+</dt>\n",
       "\t\t<dd>120671</dd>\n",
       "</dl>\n"
      ],
      "text/latex": [
       "\\begin{description*}\n",
       "\\item[0] 105716\n",
       "\\item[1] 276425\n",
       "\\item[2] 145427\n",
       "\\item[3] 135428\n",
       "\\item[4+] 120671\n",
       "\\end{description*}\n"
      ],
      "text/markdown": [
       "0\n",
       ":   1057161\n",
       ":   2764252\n",
       ":   1454273\n",
       ":   1354284+\n",
       ":   120671\n",
       "\n"
      ],
      "text/plain": [
       "     0      1      2      3     4+ \n",
       "105716 276425 145427 135428 120671 "
      ]
     },
     "metadata": {},
     "output_type": "display_data"
    },
    {
     "data": {
      "text/html": [
       "<ol class=list-inline>\n",
       "\t<li>'0'</li>\n",
       "\t<li>'1'</li>\n",
       "\t<li>'2'</li>\n",
       "\t<li>'3'</li>\n",
       "\t<li>'4+'</li>\n",
       "</ol>\n"
      ],
      "text/latex": [
       "\\begin{enumerate*}\n",
       "\\item '0'\n",
       "\\item '1'\n",
       "\\item '2'\n",
       "\\item '3'\n",
       "\\item '4+'\n",
       "\\end{enumerate*}\n"
      ],
      "text/markdown": [
       "1. '0'\n",
       "2. '1'\n",
       "3. '2'\n",
       "4. '3'\n",
       "5. '4+'\n",
       "\n",
       "\n"
      ],
      "text/plain": [
       "[1] \"0\"  \"1\"  \"2\"  \"3\"  \"4+\""
      ]
     },
     "metadata": {},
     "output_type": "display_data"
    }
   ],
   "source": [
    "summary(data$Stay_In_Current_City_Years)\n",
    "\n",
    "levels(data$Stay_In_Current_City_Years)\n",
    "data$Stay_In_Current_City_Years = ordered(as.numeric(data$Stay_In_Current_City_Years) - 1)"
   ]
  },
  {
   "cell_type": "code",
   "execution_count": 7,
   "metadata": {},
   "outputs": [
    {
     "data": {
      "text/html": [
       "<dl class=dl-horizontal>\n",
       "\t<dt>0</dt>\n",
       "\t\t<dd>462538</dd>\n",
       "\t<dt>1</dt>\n",
       "\t\t<dd>321129</dd>\n",
       "</dl>\n"
      ],
      "text/latex": [
       "\\begin{description*}\n",
       "\\item[0] 462538\n",
       "\\item[1] 321129\n",
       "\\end{description*}\n"
      ],
      "text/markdown": [
       "0\n",
       ":   4625381\n",
       ":   321129\n",
       "\n"
      ],
      "text/plain": [
       "     0      1 \n",
       "462538 321129 "
      ]
     },
     "metadata": {},
     "output_type": "display_data"
    }
   ],
   "source": [
    "data$Marital_Status = as.factor(data$Marital_Status)\n",
    "summary(data$Marital_Status)"
   ]
  },
  {
   "cell_type": "code",
   "execution_count": 8,
   "metadata": {},
   "outputs": [
    {
     "data": {
      "text/html": [
       "<dl class=dl-horizontal>\n",
       "\t<dt>0</dt>\n",
       "\t\t<dd>98850</dd>\n",
       "\t<dt>1</dt>\n",
       "\t\t<dd>67687</dd>\n",
       "\t<dt>2</dt>\n",
       "\t\t<dd>37996</dd>\n",
       "\t<dt>3</dt>\n",
       "\t\t<dd>25126</dd>\n",
       "\t<dt>4</dt>\n",
       "\t\t<dd>103086</dd>\n",
       "\t<dt>5</dt>\n",
       "\t\t<dd>17373</dd>\n",
       "\t<dt>6</dt>\n",
       "\t\t<dd>29102</dd>\n",
       "\t<dt>7</dt>\n",
       "\t\t<dd>84127</dd>\n",
       "\t<dt>8</dt>\n",
       "\t\t<dd>2189</dd>\n",
       "\t<dt>9</dt>\n",
       "\t\t<dd>8929</dd>\n",
       "\t<dt>10</dt>\n",
       "\t\t<dd>18304</dd>\n",
       "\t<dt>11</dt>\n",
       "\t\t<dd>16593</dd>\n",
       "\t<dt>12</dt>\n",
       "\t\t<dd>44448</dd>\n",
       "\t<dt>13</dt>\n",
       "\t\t<dd>11053</dd>\n",
       "\t<dt>14</dt>\n",
       "\t\t<dd>38782</dd>\n",
       "\t<dt>15</dt>\n",
       "\t\t<dd>17356</dd>\n",
       "\t<dt>16</dt>\n",
       "\t\t<dd>36122</dd>\n",
       "\t<dt>17</dt>\n",
       "\t\t<dd>57418</dd>\n",
       "\t<dt>18</dt>\n",
       "\t\t<dd>9367</dd>\n",
       "\t<dt>19</dt>\n",
       "\t\t<dd>11919</dd>\n",
       "\t<dt>20</dt>\n",
       "\t\t<dd>47840</dd>\n",
       "</dl>\n"
      ],
      "text/latex": [
       "\\begin{description*}\n",
       "\\item[0] 98850\n",
       "\\item[1] 67687\n",
       "\\item[2] 37996\n",
       "\\item[3] 25126\n",
       "\\item[4] 103086\n",
       "\\item[5] 17373\n",
       "\\item[6] 29102\n",
       "\\item[7] 84127\n",
       "\\item[8] 2189\n",
       "\\item[9] 8929\n",
       "\\item[10] 18304\n",
       "\\item[11] 16593\n",
       "\\item[12] 44448\n",
       "\\item[13] 11053\n",
       "\\item[14] 38782\n",
       "\\item[15] 17356\n",
       "\\item[16] 36122\n",
       "\\item[17] 57418\n",
       "\\item[18] 9367\n",
       "\\item[19] 11919\n",
       "\\item[20] 47840\n",
       "\\end{description*}\n"
      ],
      "text/markdown": [
       "0\n",
       ":   988501\n",
       ":   676872\n",
       ":   379963\n",
       ":   251264\n",
       ":   1030865\n",
       ":   173736\n",
       ":   291027\n",
       ":   841278\n",
       ":   21899\n",
       ":   892910\n",
       ":   1830411\n",
       ":   1659312\n",
       ":   4444813\n",
       ":   1105314\n",
       ":   3878215\n",
       ":   1735616\n",
       ":   3612217\n",
       ":   5741818\n",
       ":   936719\n",
       ":   1191920\n",
       ":   47840\n",
       "\n"
      ],
      "text/plain": [
       "     0      1      2      3      4      5      6      7      8      9     10 \n",
       " 98850  67687  37996  25126 103086  17373  29102  84127   2189   8929  18304 \n",
       "    11     12     13     14     15     16     17     18     19     20 \n",
       " 16593  44448  11053  38782  17356  36122  57418   9367  11919  47840 "
      ]
     },
     "metadata": {},
     "output_type": "display_data"
    }
   ],
   "source": [
    "data$Occupation = as.factor(data$Occupation)\n",
    "summary(data$Occupation)"
   ]
  },
  {
   "cell_type": "code",
   "execution_count": 9,
   "metadata": {},
   "outputs": [
    {
     "data": {
      "text/html": [
       "<dl class=dl-horizontal>\n",
       "\t<dt>2</dt>\n",
       "\t\t<dd>70498</dd>\n",
       "\t<dt>3</dt>\n",
       "\t\t<dd>4123</dd>\n",
       "\t<dt>4</dt>\n",
       "\t\t<dd>36705</dd>\n",
       "\t<dt>5</dt>\n",
       "\t\t<dd>37165</dd>\n",
       "\t<dt>6</dt>\n",
       "\t\t<dd>23575</dd>\n",
       "\t<dt>7</dt>\n",
       "\t\t<dd>854</dd>\n",
       "\t<dt>8</dt>\n",
       "\t\t<dd>91317</dd>\n",
       "\t<dt>9</dt>\n",
       "\t\t<dd>8177</dd>\n",
       "\t<dt>10</dt>\n",
       "\t\t<dd>4420</dd>\n",
       "\t<dt>11</dt>\n",
       "\t\t<dd>20230</dd>\n",
       "\t<dt>12</dt>\n",
       "\t\t<dd>7801</dd>\n",
       "\t<dt>13</dt>\n",
       "\t\t<dd>15054</dd>\n",
       "\t<dt>14</dt>\n",
       "\t\t<dd>78834</dd>\n",
       "\t<dt>15</dt>\n",
       "\t\t<dd>54114</dd>\n",
       "\t<dt>16</dt>\n",
       "\t\t<dd>61687</dd>\n",
       "\t<dt>17</dt>\n",
       "\t\t<dd>19104</dd>\n",
       "\t<dt>18</dt>\n",
       "\t\t<dd>4027</dd>\n",
       "\t<dt>NA's</dt>\n",
       "\t\t<dd>245982</dd>\n",
       "</dl>\n"
      ],
      "text/latex": [
       "\\begin{description*}\n",
       "\\item[2] 70498\n",
       "\\item[3] 4123\n",
       "\\item[4] 36705\n",
       "\\item[5] 37165\n",
       "\\item[6] 23575\n",
       "\\item[7] 854\n",
       "\\item[8] 91317\n",
       "\\item[9] 8177\n",
       "\\item[10] 4420\n",
       "\\item[11] 20230\n",
       "\\item[12] 7801\n",
       "\\item[13] 15054\n",
       "\\item[14] 78834\n",
       "\\item[15] 54114\n",
       "\\item[16] 61687\n",
       "\\item[17] 19104\n",
       "\\item[18] 4027\n",
       "\\item[NA's] 245982\n",
       "\\end{description*}\n"
      ],
      "text/markdown": [
       "2\n",
       ":   704983\n",
       ":   41234\n",
       ":   367055\n",
       ":   371656\n",
       ":   235757\n",
       ":   8548\n",
       ":   913179\n",
       ":   817710\n",
       ":   442011\n",
       ":   2023012\n",
       ":   780113\n",
       ":   1505414\n",
       ":   7883415\n",
       ":   5411416\n",
       ":   6168717\n",
       ":   1910418\n",
       ":   4027NA's\n",
       ":   245982\n",
       "\n"
      ],
      "text/plain": [
       "     2      3      4      5      6      7      8      9     10     11     12 \n",
       " 70498   4123  36705  37165  23575    854  91317   8177   4420  20230   7801 \n",
       "    13     14     15     16     17     18   NA's \n",
       " 15054  78834  54114  61687  19104   4027 245982 "
      ]
     },
     "metadata": {},
     "output_type": "display_data"
    },
    {
     "data": {
      "text/html": [
       "<dl class=dl-horizontal>\n",
       "\t<dt>-1</dt>\n",
       "\t\t<dd>245982</dd>\n",
       "\t<dt>2</dt>\n",
       "\t\t<dd>70498</dd>\n",
       "\t<dt>3</dt>\n",
       "\t\t<dd>4123</dd>\n",
       "\t<dt>4</dt>\n",
       "\t\t<dd>36705</dd>\n",
       "\t<dt>5</dt>\n",
       "\t\t<dd>37165</dd>\n",
       "\t<dt>6</dt>\n",
       "\t\t<dd>23575</dd>\n",
       "\t<dt>7</dt>\n",
       "\t\t<dd>854</dd>\n",
       "\t<dt>8</dt>\n",
       "\t\t<dd>91317</dd>\n",
       "\t<dt>9</dt>\n",
       "\t\t<dd>8177</dd>\n",
       "\t<dt>10</dt>\n",
       "\t\t<dd>4420</dd>\n",
       "\t<dt>11</dt>\n",
       "\t\t<dd>20230</dd>\n",
       "\t<dt>12</dt>\n",
       "\t\t<dd>7801</dd>\n",
       "\t<dt>13</dt>\n",
       "\t\t<dd>15054</dd>\n",
       "\t<dt>14</dt>\n",
       "\t\t<dd>78834</dd>\n",
       "\t<dt>15</dt>\n",
       "\t\t<dd>54114</dd>\n",
       "\t<dt>16</dt>\n",
       "\t\t<dd>61687</dd>\n",
       "\t<dt>17</dt>\n",
       "\t\t<dd>19104</dd>\n",
       "\t<dt>18</dt>\n",
       "\t\t<dd>4027</dd>\n",
       "</dl>\n"
      ],
      "text/latex": [
       "\\begin{description*}\n",
       "\\item[-1] 245982\n",
       "\\item[2] 70498\n",
       "\\item[3] 4123\n",
       "\\item[4] 36705\n",
       "\\item[5] 37165\n",
       "\\item[6] 23575\n",
       "\\item[7] 854\n",
       "\\item[8] 91317\n",
       "\\item[9] 8177\n",
       "\\item[10] 4420\n",
       "\\item[11] 20230\n",
       "\\item[12] 7801\n",
       "\\item[13] 15054\n",
       "\\item[14] 78834\n",
       "\\item[15] 54114\n",
       "\\item[16] 61687\n",
       "\\item[17] 19104\n",
       "\\item[18] 4027\n",
       "\\end{description*}\n"
      ],
      "text/markdown": [
       "-1\n",
       ":   2459822\n",
       ":   704983\n",
       ":   41234\n",
       ":   367055\n",
       ":   371656\n",
       ":   235757\n",
       ":   8548\n",
       ":   913179\n",
       ":   817710\n",
       ":   442011\n",
       ":   2023012\n",
       ":   780113\n",
       ":   1505414\n",
       ":   7883415\n",
       ":   5411416\n",
       ":   6168717\n",
       ":   1910418\n",
       ":   4027\n",
       "\n"
      ],
      "text/plain": [
       "    -1      2      3      4      5      6      7      8      9     10     11 \n",
       "245982  70498   4123  36705  37165  23575    854  91317   8177   4420  20230 \n",
       "    12     13     14     15     16     17     18 \n",
       "  7801  15054  78834  54114  61687  19104   4027 "
      ]
     },
     "metadata": {},
     "output_type": "display_data"
    }
   ],
   "source": [
    "summary(as.factor(data$Product_Category_2))\n",
    "data = data %>% mutate(Product_Category_2=replace(Product_Category_2, is.na(Product_Category_2), -1))\n",
    "data$Product_Category_2 = as.factor(data$Product_Category_2)\n",
    "summary(data$Product_Category_2)"
   ]
  },
  {
   "cell_type": "code",
   "execution_count": 10,
   "metadata": {},
   "outputs": [
    {
     "data": {
      "text/html": [
       "<dl class=dl-horizontal>\n",
       "\t<dt>3</dt>\n",
       "\t\t<dd>878</dd>\n",
       "\t<dt>4</dt>\n",
       "\t\t<dd>2691</dd>\n",
       "\t<dt>5</dt>\n",
       "\t\t<dd>23799</dd>\n",
       "\t<dt>6</dt>\n",
       "\t\t<dd>6888</dd>\n",
       "\t<dt>8</dt>\n",
       "\t\t<dd>17861</dd>\n",
       "\t<dt>9</dt>\n",
       "\t\t<dd>16532</dd>\n",
       "\t<dt>10</dt>\n",
       "\t\t<dd>2501</dd>\n",
       "\t<dt>11</dt>\n",
       "\t\t<dd>2585</dd>\n",
       "\t<dt>12</dt>\n",
       "\t\t<dd>13115</dd>\n",
       "\t<dt>13</dt>\n",
       "\t\t<dd>7849</dd>\n",
       "\t<dt>14</dt>\n",
       "\t\t<dd>26283</dd>\n",
       "\t<dt>15</dt>\n",
       "\t\t<dd>39968</dd>\n",
       "\t<dt>16</dt>\n",
       "\t\t<dd>46469</dd>\n",
       "\t<dt>17</dt>\n",
       "\t\t<dd>23818</dd>\n",
       "\t<dt>18</dt>\n",
       "\t\t<dd>6621</dd>\n",
       "\t<dt>NA's</dt>\n",
       "\t\t<dd>545809</dd>\n",
       "</dl>\n"
      ],
      "text/latex": [
       "\\begin{description*}\n",
       "\\item[3] 878\n",
       "\\item[4] 2691\n",
       "\\item[5] 23799\n",
       "\\item[6] 6888\n",
       "\\item[8] 17861\n",
       "\\item[9] 16532\n",
       "\\item[10] 2501\n",
       "\\item[11] 2585\n",
       "\\item[12] 13115\n",
       "\\item[13] 7849\n",
       "\\item[14] 26283\n",
       "\\item[15] 39968\n",
       "\\item[16] 46469\n",
       "\\item[17] 23818\n",
       "\\item[18] 6621\n",
       "\\item[NA's] 545809\n",
       "\\end{description*}\n"
      ],
      "text/markdown": [
       "3\n",
       ":   8784\n",
       ":   26915\n",
       ":   237996\n",
       ":   68888\n",
       ":   178619\n",
       ":   1653210\n",
       ":   250111\n",
       ":   258512\n",
       ":   1311513\n",
       ":   784914\n",
       ":   2628315\n",
       ":   3996816\n",
       ":   4646917\n",
       ":   2381818\n",
       ":   6621NA's\n",
       ":   545809\n",
       "\n"
      ],
      "text/plain": [
       "     3      4      5      6      8      9     10     11     12     13     14 \n",
       "   878   2691  23799   6888  17861  16532   2501   2585  13115   7849  26283 \n",
       "    15     16     17     18   NA's \n",
       " 39968  46469  23818   6621 545809 "
      ]
     },
     "metadata": {},
     "output_type": "display_data"
    },
    {
     "data": {
      "text/html": [
       "<dl class=dl-horizontal>\n",
       "\t<dt>-1</dt>\n",
       "\t\t<dd>545809</dd>\n",
       "\t<dt>3</dt>\n",
       "\t\t<dd>878</dd>\n",
       "\t<dt>4</dt>\n",
       "\t\t<dd>2691</dd>\n",
       "\t<dt>5</dt>\n",
       "\t\t<dd>23799</dd>\n",
       "\t<dt>6</dt>\n",
       "\t\t<dd>6888</dd>\n",
       "\t<dt>8</dt>\n",
       "\t\t<dd>17861</dd>\n",
       "\t<dt>9</dt>\n",
       "\t\t<dd>16532</dd>\n",
       "\t<dt>10</dt>\n",
       "\t\t<dd>2501</dd>\n",
       "\t<dt>11</dt>\n",
       "\t\t<dd>2585</dd>\n",
       "\t<dt>12</dt>\n",
       "\t\t<dd>13115</dd>\n",
       "\t<dt>13</dt>\n",
       "\t\t<dd>7849</dd>\n",
       "\t<dt>14</dt>\n",
       "\t\t<dd>26283</dd>\n",
       "\t<dt>15</dt>\n",
       "\t\t<dd>39968</dd>\n",
       "\t<dt>16</dt>\n",
       "\t\t<dd>46469</dd>\n",
       "\t<dt>17</dt>\n",
       "\t\t<dd>23818</dd>\n",
       "\t<dt>18</dt>\n",
       "\t\t<dd>6621</dd>\n",
       "</dl>\n"
      ],
      "text/latex": [
       "\\begin{description*}\n",
       "\\item[-1] 545809\n",
       "\\item[3] 878\n",
       "\\item[4] 2691\n",
       "\\item[5] 23799\n",
       "\\item[6] 6888\n",
       "\\item[8] 17861\n",
       "\\item[9] 16532\n",
       "\\item[10] 2501\n",
       "\\item[11] 2585\n",
       "\\item[12] 13115\n",
       "\\item[13] 7849\n",
       "\\item[14] 26283\n",
       "\\item[15] 39968\n",
       "\\item[16] 46469\n",
       "\\item[17] 23818\n",
       "\\item[18] 6621\n",
       "\\end{description*}\n"
      ],
      "text/markdown": [
       "-1\n",
       ":   5458093\n",
       ":   8784\n",
       ":   26915\n",
       ":   237996\n",
       ":   68888\n",
       ":   178619\n",
       ":   1653210\n",
       ":   250111\n",
       ":   258512\n",
       ":   1311513\n",
       ":   784914\n",
       ":   2628315\n",
       ":   3996816\n",
       ":   4646917\n",
       ":   2381818\n",
       ":   6621\n",
       "\n"
      ],
      "text/plain": [
       "    -1      3      4      5      6      8      9     10     11     12     13 \n",
       "545809    878   2691  23799   6888  17861  16532   2501   2585  13115   7849 \n",
       "    14     15     16     17     18 \n",
       " 26283  39968  46469  23818   6621 "
      ]
     },
     "metadata": {},
     "output_type": "display_data"
    }
   ],
   "source": [
    "summary(as.factor(data$Product_Category_3))\n",
    "data = data %>% mutate(Product_Category_3=replace(Product_Category_3, is.na(Product_Category_3), -1))\n",
    "data$Product_Category_3 = as.factor(data$Product_Category_3)\n",
    "summary(data$Product_Category_3)"
   ]
  },
  {
   "cell_type": "code",
   "execution_count": 11,
   "metadata": {},
   "outputs": [
    {
     "data": {
      "text/html": [
       "<dl class=dl-horizontal>\n",
       "\t<dt>1</dt>\n",
       "\t\t<dd>200699</dd>\n",
       "\t<dt>2</dt>\n",
       "\t\t<dd>34056</dd>\n",
       "\t<dt>3</dt>\n",
       "\t\t<dd>28791</dd>\n",
       "\t<dt>4</dt>\n",
       "\t\t<dd>16756</dd>\n",
       "\t<dt>5</dt>\n",
       "\t\t<dd>215950</dd>\n",
       "\t<dt>6</dt>\n",
       "\t\t<dd>29326</dd>\n",
       "\t<dt>7</dt>\n",
       "\t\t<dd>5345</dd>\n",
       "\t<dt>8</dt>\n",
       "\t\t<dd>162294</dd>\n",
       "\t<dt>9</dt>\n",
       "\t\t<dd>604</dd>\n",
       "\t<dt>10</dt>\n",
       "\t\t<dd>7373</dd>\n",
       "\t<dt>11</dt>\n",
       "\t\t<dd>34440</dd>\n",
       "\t<dt>12</dt>\n",
       "\t\t<dd>5610</dd>\n",
       "\t<dt>13</dt>\n",
       "\t\t<dd>7930</dd>\n",
       "\t<dt>14</dt>\n",
       "\t\t<dd>2186</dd>\n",
       "\t<dt>15</dt>\n",
       "\t\t<dd>8984</dd>\n",
       "\t<dt>16</dt>\n",
       "\t\t<dd>13933</dd>\n",
       "\t<dt>17</dt>\n",
       "\t\t<dd>801</dd>\n",
       "\t<dt>18</dt>\n",
       "\t\t<dd>4436</dd>\n",
       "\t<dt>19</dt>\n",
       "\t\t<dd>1603</dd>\n",
       "\t<dt>20</dt>\n",
       "\t\t<dd>2550</dd>\n",
       "</dl>\n"
      ],
      "text/latex": [
       "\\begin{description*}\n",
       "\\item[1] 200699\n",
       "\\item[2] 34056\n",
       "\\item[3] 28791\n",
       "\\item[4] 16756\n",
       "\\item[5] 215950\n",
       "\\item[6] 29326\n",
       "\\item[7] 5345\n",
       "\\item[8] 162294\n",
       "\\item[9] 604\n",
       "\\item[10] 7373\n",
       "\\item[11] 34440\n",
       "\\item[12] 5610\n",
       "\\item[13] 7930\n",
       "\\item[14] 2186\n",
       "\\item[15] 8984\n",
       "\\item[16] 13933\n",
       "\\item[17] 801\n",
       "\\item[18] 4436\n",
       "\\item[19] 1603\n",
       "\\item[20] 2550\n",
       "\\end{description*}\n"
      ],
      "text/markdown": [
       "1\n",
       ":   2006992\n",
       ":   340563\n",
       ":   287914\n",
       ":   167565\n",
       ":   2159506\n",
       ":   293267\n",
       ":   53458\n",
       ":   1622949\n",
       ":   60410\n",
       ":   737311\n",
       ":   3444012\n",
       ":   561013\n",
       ":   793014\n",
       ":   218615\n",
       ":   898416\n",
       ":   1393317\n",
       ":   80118\n",
       ":   443619\n",
       ":   160320\n",
       ":   2550\n",
       "\n"
      ],
      "text/plain": [
       "     1      2      3      4      5      6      7      8      9     10     11 \n",
       "200699  34056  28791  16756 215950  29326   5345 162294    604   7373  34440 \n",
       "    12     13     14     15     16     17     18     19     20 \n",
       "  5610   7930   2186   8984  13933    801   4436   1603   2550 "
      ]
     },
     "metadata": {},
     "output_type": "display_data"
    }
   ],
   "source": [
    "data$Product_Category_1 = as.factor(data$Product_Category_1)\n",
    "summary(data$Product_Category_1)"
   ]
  },
  {
   "cell_type": "code",
   "execution_count": 12,
   "metadata": {},
   "outputs": [
    {
     "name": "stdout",
     "output_type": "stream",
     "text": [
      "'data.frame':\t783667 obs. of  10 variables:\n",
      " $ Gender                    : Factor w/ 2 levels \"F\",\"M\": 1 1 1 1 2 2 2 2 2 2 ...\n",
      " $ Age                       : Factor w/ 7 levels \"0-17\",\"18-25\",..: 1 1 1 1 7 3 5 5 5 3 ...\n",
      " $ Occupation                : Factor w/ 21 levels \"0\",\"1\",\"2\",\"3\",..: 11 11 11 11 17 16 8 8 8 21 ...\n",
      " $ City_Category             : Factor w/ 3 levels \"A\",\"B\",\"C\": 1 1 1 1 3 1 2 2 2 1 ...\n",
      " $ Stay_In_Current_City_Years: Ord.factor w/ 5 levels \"0\"<\"1\"<\"2\"<\"3\"<..: 3 3 3 3 5 4 3 3 3 2 ...\n",
      " $ Marital_Status            : Factor w/ 2 levels \"0\",\"1\": 1 1 1 1 1 1 2 2 2 2 ...\n",
      " $ Product_Category_1        : Factor w/ 20 levels \"1\",\"2\",\"3\",\"4\",..: 3 1 12 12 8 1 1 1 1 8 ...\n",
      " $ Product_Category_2        : Factor w/ 18 levels \"-1\",\"2\",\"3\",\"4\",..: 1 6 1 14 1 2 8 15 16 1 ...\n",
      " $ Product_Category_3        : Factor w/ 16 levels \"-1\",\"3\",\"4\",\"5\",..: 1 12 1 1 1 1 15 1 1 1 ...\n",
      " $ Purchase                  : num  8370 15200 1422 1057 7969 ...\n"
     ]
    }
   ],
   "source": [
    "data = data[-c(1, 2)]\n",
    "str(data)"
   ]
  },
  {
   "cell_type": "markdown",
   "metadata": {},
   "source": [
    "# Segregating train test data"
   ]
  },
  {
   "cell_type": "code",
   "execution_count": 13,
   "metadata": {},
   "outputs": [],
   "source": [
    "train_ = data[1:nrow(train),]\n",
    "test_ = data[(nrow(train) + 1):nrow(data),]"
   ]
  },
  {
   "cell_type": "markdown",
   "metadata": {},
   "source": [
    "# Splitting train data into train-validation set"
   ]
  },
  {
   "cell_type": "code",
   "execution_count": 14,
   "metadata": {},
   "outputs": [],
   "source": [
    "set.seed(123)\n",
    "split = sample.split(train_$Purchase, SplitRatio = 0.8)\n",
    "training_set = subset(train_, split==TRUE)\n",
    "validation_set = subset(train_, split==FALSE)"
   ]
  },
  {
   "cell_type": "code",
   "execution_count": 15,
   "metadata": {},
   "outputs": [],
   "source": [
    "X_train = model.matrix(Purchase ~ ., data = training_set)[,-1]\n",
    "X_val = model.matrix(Purchase ~ ., data = validation_set)[,-1]"
   ]
  },
  {
   "cell_type": "markdown",
   "metadata": {},
   "source": [
    "# Normal Multiple Linear Regression"
   ]
  },
  {
   "cell_type": "code",
   "execution_count": 16,
   "metadata": {},
   "outputs": [
    {
     "data": {
      "text/plain": [
       "\n",
       "Call:\n",
       "lm(formula = Purchase ~ ., data = training_set)\n",
       "\n",
       "Residuals:\n",
       "     Min       1Q   Median       3Q      Max \n",
       "-15370.2  -1535.7    358.8   1964.8  10135.3 \n",
       "\n",
       "Coefficients:\n",
       "                               Estimate Std. Error  t value Pr(>|t|)    \n",
       "(Intercept)                   1.326e+04  4.909e+01  270.008  < 2e-16 ***\n",
       "GenderM                      -5.792e+01  1.096e+01   -5.283 1.27e-07 ***\n",
       "Age18-25                     -1.836e+02  4.508e+01   -4.074 4.62e-05 ***\n",
       "Age26-35                     -1.100e+02  4.494e+01   -2.447 0.014397 *  \n",
       "Age36-45                      1.703e-01  4.559e+01    0.004 0.997019    \n",
       "Age46-50                      1.747e+01  4.763e+01    0.367 0.713730    \n",
       "Age51-55                      2.537e+02  4.820e+01    5.263 1.42e-07 ***\n",
       "Age55+                        1.241e+02  5.100e+01    2.433 0.014994 *  \n",
       "Occupation1                  -3.071e+01  2.005e+01   -1.531 0.125732    \n",
       "Occupation2                   3.830e+01  2.410e+01    1.589 0.112075    \n",
       "Occupation3                   2.511e+02  2.823e+01    8.893  < 2e-16 ***\n",
       "Occupation4                   1.470e+02  1.922e+01    7.646 2.08e-14 ***\n",
       "Occupation5                   7.469e+01  3.285e+01    2.274 0.022982 *  \n",
       "Occupation6                   2.180e+02  2.691e+01    8.101 5.44e-16 ***\n",
       "Occupation7                   1.084e+02  1.887e+01    5.744 9.23e-09 ***\n",
       "Occupation8                  -3.137e+02  8.635e+01   -3.633 0.000281 ***\n",
       "Occupation9                   1.113e+02  4.484e+01    2.482 0.013072 *  \n",
       "Occupation10                 -2.694e+01  4.833e+01   -0.557 0.577217    \n",
       "Occupation11                  1.094e+02  3.363e+01    3.254 0.001137 ** \n",
       "Occupation12                  2.710e+02  2.287e+01   11.847  < 2e-16 ***\n",
       "Occupation13                  7.327e+01  4.306e+01    1.702 0.088819 .  \n",
       "Occupation14                  1.947e+02  2.388e+01    8.156 3.48e-16 ***\n",
       "Occupation15                  3.840e+02  3.279e+01   11.711  < 2e-16 ***\n",
       "Occupation16                  1.262e+02  2.473e+01    5.101 3.38e-07 ***\n",
       "Occupation17                  1.969e+02  2.112e+01    9.321  < 2e-16 ***\n",
       "Occupation18                 -9.631e+00  4.307e+01   -0.224 0.823038    \n",
       "Occupation19                 -2.965e+02  3.847e+01   -7.707 1.29e-14 ***\n",
       "Occupation20                 -9.951e+01  2.226e+01   -4.470 7.81e-06 ***\n",
       "City_CategoryB                1.316e+02  1.123e+01   11.715  < 2e-16 ***\n",
       "City_CategoryC                5.340e+02  1.219e+01   43.801  < 2e-16 ***\n",
       "Stay_In_Current_City_Years.L  1.265e+01  1.143e+01    1.106 0.268543    \n",
       "Stay_In_Current_City_Years.Q -1.079e+01  1.117e+01   -0.966 0.333806    \n",
       "Stay_In_Current_City_Years.C  4.076e+00  9.943e+00    0.410 0.681858    \n",
       "Stay_In_Current_City_Years^4  3.789e+01  1.003e+01    3.779 0.000157 ***\n",
       "Marital_Status1              -5.115e+01  9.774e+00   -5.233 1.67e-07 ***\n",
       "Product_Category_12          -1.734e+03  3.072e+01  -56.449  < 2e-16 ***\n",
       "Product_Category_13          -2.189e+03  4.261e+01  -51.379  < 2e-16 ***\n",
       "Product_Category_14          -1.092e+04  3.833e+01 -284.898  < 2e-16 ***\n",
       "Product_Category_15          -7.266e+03  1.695e+01 -428.774  < 2e-16 ***\n",
       "Product_Category_16           2.126e+03  2.953e+01   71.988  < 2e-16 ***\n",
       "Product_Category_17           2.994e+03  5.750e+01   52.075  < 2e-16 ***\n",
       "Product_Category_18          -6.007e+03  1.806e+01 -332.652  < 2e-16 ***\n",
       "Product_Category_19           2.220e+03  1.561e+02   14.217  < 2e-16 ***\n",
       "Product_Category_110          6.095e+03  4.901e+01  124.350  < 2e-16 ***\n",
       "Product_Category_111         -8.725e+03  2.561e+01 -340.627  < 2e-16 ***\n",
       "Product_Category_112         -1.215e+04  5.589e+01 -217.371  < 2e-16 ***\n",
       "Product_Category_113         -1.276e+04  4.736e+01 -269.411  < 2e-16 ***\n",
       "Product_Category_114         -2.446e+02  8.461e+01   -2.891 0.003839 ** \n",
       "Product_Category_115          1.196e+03  4.435e+01   26.976  < 2e-16 ***\n",
       "Product_Category_116          1.340e+03  3.774e+01   35.517  < 2e-16 ***\n",
       "Product_Category_117         -3.373e+03  1.358e+02  -24.840  < 2e-16 ***\n",
       "Product_Category_118         -1.052e+04  6.194e+01 -169.795  < 2e-16 ***\n",
       "Product_Category_119         -1.355e+04  8.509e+01 -159.234  < 2e-16 ***\n",
       "Product_Category_120         -1.319e+04  6.828e+01 -193.232  < 2e-16 ***\n",
       "Product_Category_22           1.174e+02  2.621e+01    4.480 7.45e-06 ***\n",
       "Product_Category_23           1.511e+03  9.726e+01   15.531  < 2e-16 ***\n",
       "Product_Category_24          -1.646e+03  4.373e+01  -37.649  < 2e-16 ***\n",
       "Product_Category_25          -6.302e+02  3.133e+01  -20.113  < 2e-16 ***\n",
       "Product_Category_26           1.267e+02  3.193e+01    3.968 7.24e-05 ***\n",
       "Product_Category_27           6.782e+02  1.339e+02    5.065 4.08e-07 ***\n",
       "Product_Category_28           3.135e+02  1.881e+01   16.668  < 2e-16 ***\n",
       "Product_Category_29          -1.283e+02  4.749e+01   -2.701 0.006908 ** \n",
       "Product_Category_210          1.561e+03  6.980e+01   22.368  < 2e-16 ***\n",
       "Product_Category_211         -2.362e+02  3.075e+01   -7.683 1.56e-14 ***\n",
       "Product_Category_212         -3.997e+02  4.651e+01   -8.594  < 2e-16 ***\n",
       "Product_Category_213         -1.209e+02  3.594e+01   -3.365 0.000765 ***\n",
       "Product_Category_214         -1.338e+02  1.722e+01   -7.768 7.97e-15 ***\n",
       "Product_Category_215         -1.400e+02  2.161e+01   -6.478 9.28e-11 ***\n",
       "Product_Category_216          5.487e+01  1.994e+01    2.751 0.005942 ** \n",
       "Product_Category_217          5.865e+02  3.049e+01   19.240  < 2e-16 ***\n",
       "Product_Category_218          6.132e+02  6.476e+01    9.470  < 2e-16 ***\n",
       "Product_Category_33           4.210e+02  1.374e+02    3.065 0.002178 ** \n",
       "Product_Category_34          -3.712e+03  1.025e+02  -36.206  < 2e-16 ***\n",
       "Product_Category_35           5.542e+02  3.281e+01   16.891  < 2e-16 ***\n",
       "Product_Category_36           6.634e+01  5.220e+01    1.271 0.203797    \n",
       "Product_Category_38           1.630e+03  3.509e+01   46.460  < 2e-16 ***\n",
       "Product_Category_39           3.690e+02  3.600e+01   10.251  < 2e-16 ***\n",
       "Product_Category_310         -8.977e+02  9.748e+01   -9.209  < 2e-16 ***\n",
       "Product_Category_311         -6.841e+02  8.126e+01   -8.419  < 2e-16 ***\n",
       "Product_Category_312          3.763e+02  3.948e+01    9.533  < 2e-16 ***\n",
       "Product_Category_313         -8.194e+02  5.099e+01  -16.070  < 2e-16 ***\n",
       "Product_Category_314          1.189e+02  2.758e+01    4.310 1.63e-05 ***\n",
       "Product_Category_315         -4.103e+02  2.561e+01  -16.020  < 2e-16 ***\n",
       "Product_Category_316          8.057e+01  2.212e+01    3.642 0.000270 ***\n",
       "Product_Category_317          1.025e+03  2.838e+01   36.115  < 2e-16 ***\n",
       "Product_Category_318          1.433e+02  5.119e+01    2.799 0.005124 ** \n",
       "---\n",
       "Signif. codes:  0 ‘***’ 0.001 ‘**’ 0.01 ‘*’ 0.05 ‘.’ 0.1 ‘ ’ 1\n",
       "\n",
       "Residual standard error: 2984 on 440498 degrees of freedom\n",
       "Multiple R-squared:  0.6477,\tAdjusted R-squared:  0.6477 \n",
       "F-statistic:  9530 on 85 and 440498 DF,  p-value: < 2.2e-16\n"
      ]
     },
     "metadata": {},
     "output_type": "display_data"
    },
    {
     "name": "stderr",
     "output_type": "stream",
     "text": [
      "Warning message in validation_set$Purchase - pred_lm:\n",
      "“longer object length is not a multiple of shorter object length”\n"
     ]
    },
    {
     "data": {
      "text/html": [
       "6416.09330032616"
      ],
      "text/latex": [
       "6416.09330032616"
      ],
      "text/markdown": [
       "6416.09330032616"
      ],
      "text/plain": [
       "[1] 6416.093"
      ]
     },
     "metadata": {},
     "output_type": "display_data"
    }
   ],
   "source": [
    "lm.fit = lm(Purchase ~ ., data = training_set)\n",
    "summary(lm.fit)\n",
    "pred_lm = predict(lm.fit, newx = X_val)\n",
    "sqrt(mean((validation_set$Purchase - pred_lm)^2))"
   ]
  },
  {
   "cell_type": "markdown",
   "metadata": {},
   "source": [
    "# Subsetting Approach"
   ]
  },
  {
   "cell_type": "code",
   "execution_count": 17,
   "metadata": {},
   "outputs": [
    {
     "data": {
      "text/html": [
       "<ol class=list-inline>\n",
       "\t<li>0.136977202230147</li>\n",
       "\t<li>0.234430039017842</li>\n",
       "\t<li>0.32529363248331</li>\n",
       "\t<li>0.411512101228028</li>\n",
       "\t<li>0.469923209112763</li>\n",
       "\t<li>0.508627533780668</li>\n",
       "\t<li>0.538861724387567</li>\n",
       "\t<li>0.563228556178984</li>\n",
       "\t<li>0.584010444468193</li>\n",
       "</ol>\n"
      ],
      "text/latex": [
       "\\begin{enumerate*}\n",
       "\\item 0.136977202230147\n",
       "\\item 0.234430039017842\n",
       "\\item 0.32529363248331\n",
       "\\item 0.411512101228028\n",
       "\\item 0.469923209112763\n",
       "\\item 0.508627533780668\n",
       "\\item 0.538861724387567\n",
       "\\item 0.563228556178984\n",
       "\\item 0.584010444468193\n",
       "\\end{enumerate*}\n"
      ],
      "text/markdown": [
       "1. 0.136977202230147\n",
       "2. 0.234430039017842\n",
       "3. 0.32529363248331\n",
       "4. 0.411512101228028\n",
       "5. 0.469923209112763\n",
       "6. 0.508627533780668\n",
       "7. 0.538861724387567\n",
       "8. 0.563228556178984\n",
       "9. 0.584010444468193\n",
       "\n",
       "\n"
      ],
      "text/plain": [
       "[1] 0.1369772 0.2344300 0.3252936 0.4115121 0.4699232 0.5086275 0.5388617\n",
       "[8] 0.5632286 0.5840104"
      ]
     },
     "metadata": {},
     "output_type": "display_data"
    }
   ],
   "source": [
    "nvmax_ = 9\n",
    "\n",
    "subset.fit = regsubsets(Purchase ~ ., data = training_set, method='backward', nvmax = nvmax_)\n",
    "k = summary(subset.fit)\n",
    "k$adjr2"
   ]
  },
  {
   "cell_type": "code",
   "execution_count": 18,
   "metadata": {},
   "outputs": [
    {
     "data": {
      "text/html": [
       "<ol class=list-inline>\n",
       "\t<li>4652.75275975648</li>\n",
       "\t<li>4386.11747715534</li>\n",
       "\t<li>4121.36590707084</li>\n",
       "\t<li>3844.20414896368</li>\n",
       "\t<li>3648.25074333246</li>\n",
       "\t<li>3509.4478872903</li>\n",
       "\t<li>3398.82328592116</li>\n",
       "\t<li>3310.39556309872</li>\n",
       "\t<li>3230.10662551973</li>\n",
       "</ol>\n"
      ],
      "text/latex": [
       "\\begin{enumerate*}\n",
       "\\item 4652.75275975648\n",
       "\\item 4386.11747715534\n",
       "\\item 4121.36590707084\n",
       "\\item 3844.20414896368\n",
       "\\item 3648.25074333246\n",
       "\\item 3509.4478872903\n",
       "\\item 3398.82328592116\n",
       "\\item 3310.39556309872\n",
       "\\item 3230.10662551973\n",
       "\\end{enumerate*}\n"
      ],
      "text/markdown": [
       "1. 4652.75275975648\n",
       "2. 4386.11747715534\n",
       "3. 4121.36590707084\n",
       "4. 3844.20414896368\n",
       "5. 3648.25074333246\n",
       "6. 3509.4478872903\n",
       "7. 3398.82328592116\n",
       "8. 3310.39556309872\n",
       "9. 3230.10662551973\n",
       "\n",
       "\n"
      ],
      "text/plain": [
       "[1] 4652.753 4386.117 4121.366 3844.204 3648.251 3509.448 3398.823 3310.396\n",
       "[9] 3230.107"
      ]
     },
     "metadata": {},
     "output_type": "display_data"
    },
    {
     "data": {
      "text/html": [
       "3230.10662551973"
      ],
      "text/latex": [
       "3230.10662551973"
      ],
      "text/markdown": [
       "3230.10662551973"
      ],
      "text/plain": [
       "[1] 3230.107"
      ]
     },
     "metadata": {},
     "output_type": "display_data"
    }
   ],
   "source": [
    "val.errors = rep(NA, nvmax_)\n",
    "for(i in 1:nvmax_){\n",
    "  coefi = coef(subset.fit, id=i)\n",
    "  pred = cbind(1, X_val[,names(coefi[-c(1)])]) %*% coefi\n",
    "  val.errors[i]= sqrt(mean((validation_set$Purchase - pred) ^2))\n",
    "}\n",
    "val.errors\n",
    "val.errors[which.min(val.errors)]"
   ]
  },
  {
   "cell_type": "markdown",
   "metadata": {},
   "source": [
    "# Lasso Regression"
   ]
  },
  {
   "cell_type": "code",
   "execution_count": 19,
   "metadata": {},
   "outputs": [
    {
     "name": "stderr",
     "output_type": "stream",
     "text": [
      "Warning message in regularize.values(x, y, ties, missing(ties)):\n",
      "“collapsing to unique 'x' values”\n"
     ]
    },
    {
     "data": {
      "image/png": "[encoded data removed]"
     },
     "metadata": {
      "image/png": {
       "height": 420,
       "width": 420
      }
     },
     "output_type": "display_data"
    }
   ],
   "source": [
    "ld = 10^seq(10, -2, length=100)\n",
    "\n",
    "y = training_set$Purchase\n",
    "rig.fit = glmnet(X_train, y, alpha=1, lambda=ld)\n",
    "plot(rig.fit)"
   ]
  },
  {
   "cell_type": "code",
   "execution_count": 20,
   "metadata": {},
   "outputs": [
    {
     "data": {
      "image/png": "[encoded data removed]"
     },
     "metadata": {
      "image/png": {
       "height": 420,
       "width": 420
      }
     },
     "output_type": "display_data"
    }
   ],
   "source": [
    "cvglm = cv.glmnet(X_train, y, alpha=1, lambda=ld, nfolds=5)\n",
    "plot(cvglm)"
   ]
  },
  {
   "cell_type": "code",
   "execution_count": 21,
   "metadata": {},
   "outputs": [
    {
     "data": {
      "text/html": [
       "0.123284673944206"
      ],
      "text/latex": [
       "0.123284673944206"
      ],
      "text/markdown": [
       "0.123284673944206"
      ],
      "text/plain": [
       "[1] 0.1232847"
      ]
     },
     "metadata": {},
     "output_type": "display_data"
    }
   ],
   "source": [
    "best = cvglm$lambda.min\n",
    "best"
   ]
  },
  {
   "cell_type": "code",
   "execution_count": 22,
   "metadata": {},
   "outputs": [
    {
     "data": {
      "text/plain": [
       "86 x 1 sparse Matrix of class \"dgCMatrix\"\n",
       "                                         1\n",
       "(Intercept)                   13256.068470\n",
       "GenderM                         -57.387382\n",
       "Age18-25                       -182.873413\n",
       "Age26-35                       -109.879434\n",
       "Age36-45                          .       \n",
       "Age46-50                         16.987562\n",
       "Age51-55                        253.095455\n",
       "Age55+                          123.467678\n",
       "Occupation1                     -34.295846\n",
       "Occupation2                      33.520293\n",
       "Occupation3                     246.422142\n",
       "Occupation4                     142.192682\n",
       "Occupation5                      69.951928\n",
       "Occupation6                     213.714614\n",
       "Occupation7                     104.245059\n",
       "Occupation8                    -314.829613\n",
       "Occupation9                     106.536774\n",
       "Occupation10                    -29.990258\n",
       "Occupation11                    104.786651\n",
       "Occupation12                    266.521915\n",
       "Occupation13                     68.964605\n",
       "Occupation14                    190.354076\n",
       "Occupation15                    379.462198\n",
       "Occupation16                    121.909797\n",
       "Occupation17                    192.775596\n",
       "Occupation18                    -12.287886\n",
       "Occupation19                   -299.373135\n",
       "Occupation20                   -102.836452\n",
       "City_CategoryB                  130.980680\n",
       "City_CategoryC                  533.454148\n",
       "Stay_In_Current_City_Years.L     12.340851\n",
       "Stay_In_Current_City_Years.Q    -10.608223\n",
       "Stay_In_Current_City_Years.C      3.694214\n",
       "Stay_In_Current_City_Years^4     37.534442\n",
       "Marital_Status1                 -50.674462\n",
       "Product_Category_12           -1731.745722\n",
       "Product_Category_13           -2188.273499\n",
       "Product_Category_14          -10917.691561\n",
       "Product_Category_15           -7262.947925\n",
       "Product_Category_16            2126.967344\n",
       "Product_Category_17            2995.738618\n",
       "Product_Category_18           -6004.324647\n",
       "Product_Category_19            2215.773165\n",
       "Product_Category_110           6095.105680\n",
       "Product_Category_111          -8721.853930\n",
       "Product_Category_112         -12144.815649\n",
       "Product_Category_113         -12755.716827\n",
       "Product_Category_114           -239.232224\n",
       "Product_Category_115           1198.024872\n",
       "Product_Category_116           1342.792160\n",
       "Product_Category_117          -3365.916231\n",
       "Product_Category_118         -10511.491041\n",
       "Product_Category_119         -13543.593404\n",
       "Product_Category_120         -13189.112120\n",
       "Product_Category_22             120.992396\n",
       "Product_Category_23            1501.734025\n",
       "Product_Category_24           -1642.235270\n",
       "Product_Category_25            -626.602693\n",
       "Product_Category_26             128.916919\n",
       "Product_Category_27             674.775778\n",
       "Product_Category_28             314.786718\n",
       "Product_Category_29            -126.053521\n",
       "Product_Category_210           1560.505676\n",
       "Product_Category_211           -234.061166\n",
       "Product_Category_212           -397.630056\n",
       "Product_Category_213           -118.739660\n",
       "Product_Category_214           -132.862738\n",
       "Product_Category_215           -137.492355\n",
       "Product_Category_216             55.775014\n",
       "Product_Category_217            586.365514\n",
       "Product_Category_218            612.474644\n",
       "Product_Category_33             416.615405\n",
       "Product_Category_34           -3702.742674\n",
       "Product_Category_35             551.982588\n",
       "Product_Category_36              64.371217\n",
       "Product_Category_38            1628.613894\n",
       "Product_Category_39             366.863363\n",
       "Product_Category_310           -889.742179\n",
       "Product_Category_311           -682.880882\n",
       "Product_Category_312            373.478964\n",
       "Product_Category_313           -817.678263\n",
       "Product_Category_314            117.540785\n",
       "Product_Category_315           -410.063420\n",
       "Product_Category_316             80.076914\n",
       "Product_Category_317           1024.673088\n",
       "Product_Category_318            141.290205"
      ]
     },
     "metadata": {},
     "output_type": "display_data"
    }
   ],
   "source": [
    "predict(rig.fit, s=best, type='coefficients')"
   ]
  },
  {
   "cell_type": "code",
   "execution_count": 23,
   "metadata": {},
   "outputs": [
    {
     "data": {
      "text/html": [
       "2970.44606615374"
      ],
      "text/latex": [
       "2970.44606615374"
      ],
      "text/markdown": [
       "2970.44606615374"
      ],
      "text/plain": [
       "[1] 2970.446"
      ]
     },
     "metadata": {},
     "output_type": "display_data"
    }
   ],
   "source": [
    "pred_rl = predict(rig.fit, s=best, newx = X_val)\n",
    "sqrt(mean((validation_set$Purchase - pred_rl)^2))"
   ]
  },
  {
   "cell_type": "markdown",
   "metadata": {},
   "source": [
    "# Predicting Test Set"
   ]
  },
  {
   "cell_type": "code",
   "execution_count": 24,
   "metadata": {},
   "outputs": [],
   "source": [
    "test_set = model.matrix(Purchase ~ ., data = test_)[,-1]\n",
    "pred_test = predict(rig.fit, s=best, newx = test_set)\n",
    "\n",
    "submission = data.frame('Purchase'=pred_test,\n",
    "                        'User_ID'=test$User_ID,\n",
    "                        'Product_ID'=test$Product_ID)\n",
    "names(submission)[1] = 'Purchase'\n",
    "\n",
    "write.csv(submission, 'RL.csv', row.names = F)"
   ]
  }
 ],
 "metadata": {
  "kernelspec": {
   "display_name": "R",
   "language": "R",
   "name": "ir"
  },
  "language_info": {
   "codemirror_mode": "r",
   "file_extension": ".r",
   "mimetype": "text/x-r-source",
   "name": "R",
   "pygments_lexer": "r",
   "version": "3.6.0"
  }
 },
 "nbformat": 4,
 "nbformat_minor": 1
}
