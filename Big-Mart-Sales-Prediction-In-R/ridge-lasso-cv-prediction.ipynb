{
 "cells": [
  {
   "cell_type": "markdown",
   "metadata": {},
   "source": [
    "# Importing libraries"
   ]
  },
  {
   "cell_type": "code",
   "execution_count": 1,
   "metadata": {},
   "outputs": [
    {
     "name": "stderr",
     "output_type": "stream",
     "text": [
      "\n",
      "Attaching package: ‘dplyr’\n",
      "\n",
      "\n",
      "The following objects are masked from ‘package:stats’:\n",
      "\n",
      "    filter, lag\n",
      "\n",
      "\n",
      "The following objects are masked from ‘package:base’:\n",
      "\n",
      "    intersect, setdiff, setequal, union\n",
      "\n",
      "\n",
      "\n",
      "Attaching package: ‘MASS’\n",
      "\n",
      "\n",
      "The following object is masked from ‘package:dplyr’:\n",
      "\n",
      "    select\n",
      "\n",
      "\n",
      "Loading required package: Matrix\n",
      "\n",
      "Loaded glmnet 3.0-1\n",
      "\n",
      "\n",
      "Loading required package: carData\n",
      "\n",
      "\n",
      "Attaching package: ‘car’\n",
      "\n",
      "\n",
      "The following object is masked from ‘package:dplyr’:\n",
      "\n",
      "    recode\n",
      "\n",
      "\n"
     ]
    }
   ],
   "source": [
    "library(readxl)\n",
    "library(dplyr)\n",
    "library(caTools)\n",
    "library(MASS)\n",
    "library(leaps)\n",
    "library(glmnet)\n",
    "library(ISLR)\n",
    "library(car)"
   ]
  },
  {
   "cell_type": "markdown",
   "metadata": {},
   "source": [
    "# Loading the data"
   ]
  },
  {
   "cell_type": "code",
   "execution_count": 2,
   "metadata": {},
   "outputs": [],
   "source": [
    "train = read.csv(\"../input/big-mart-sales-prediction/Train.csv\")\n",
    "test = read.csv(\"../input/big-mart-sales-prediction/Test.csv\")"
   ]
  },
  {
   "cell_type": "code",
   "execution_count": 3,
   "metadata": {},
   "outputs": [
    {
     "data": {
      "text/html": [
       "<table>\n",
       "<caption>A data.frame: 3 × 12</caption>\n",
       "<thead>\n",
       "\t<tr><th></th><th scope=col>Item_Identifier</th><th scope=col>Item_Weight</th><th scope=col>Item_Fat_Content</th><th scope=col>Item_Visibility</th><th scope=col>Item_Type</th><th scope=col>Item_MRP</th><th scope=col>Outlet_Identifier</th><th scope=col>Outlet_Establishment_Year</th><th scope=col>Outlet_Size</th><th scope=col>Outlet_Location_Type</th><th scope=col>Outlet_Type</th><th scope=col>Item_Outlet_Sales</th></tr>\n",
       "\t<tr><th></th><th scope=col>&lt;fct&gt;</th><th scope=col>&lt;dbl&gt;</th><th scope=col>&lt;fct&gt;</th><th scope=col>&lt;dbl&gt;</th><th scope=col>&lt;fct&gt;</th><th scope=col>&lt;dbl&gt;</th><th scope=col>&lt;fct&gt;</th><th scope=col>&lt;int&gt;</th><th scope=col>&lt;fct&gt;</th><th scope=col>&lt;fct&gt;</th><th scope=col>&lt;fct&gt;</th><th scope=col>&lt;dbl&gt;</th></tr>\n",
       "</thead>\n",
       "<tbody>\n",
       "\t<tr><th scope=row>1</th><td>FDA15</td><td> 9.30</td><td>Low Fat</td><td>0.01604730</td><td>Dairy      </td><td>249.8092</td><td>OUT049</td><td>1999</td><td>Medium</td><td>Tier 1</td><td>Supermarket Type1</td><td>3735.1380</td></tr>\n",
       "\t<tr><th scope=row>2</th><td>DRC01</td><td> 5.92</td><td>Regular</td><td>0.01927822</td><td>Soft Drinks</td><td> 48.2692</td><td>OUT018</td><td>2009</td><td>Medium</td><td>Tier 3</td><td>Supermarket Type2</td><td> 443.4228</td></tr>\n",
       "\t<tr><th scope=row>3</th><td>FDN15</td><td>17.50</td><td>Low Fat</td><td>0.01676007</td><td>Meat       </td><td>141.6180</td><td>OUT049</td><td>1999</td><td>Medium</td><td>Tier 1</td><td>Supermarket Type1</td><td>2097.2700</td></tr>\n",
       "</tbody>\n",
       "</table>\n"
      ],
      "text/latex": [
       "A data.frame: 3 × 12\n",
       "\\begin{tabular}{r|llllllllllll}\n",
       "  & Item\\_Identifier & Item\\_Weight & Item\\_Fat\\_Content & Item\\_Visibility & Item\\_Type & Item\\_MRP & Outlet\\_Identifier & Outlet\\_Establishment\\_Year & Outlet\\_Size & Outlet\\_Location\\_Type & Outlet\\_Type & Item\\_Outlet\\_Sales\\\\\n",
       "  & <fct> & <dbl> & <fct> & <dbl> & <fct> & <dbl> & <fct> & <int> & <fct> & <fct> & <fct> & <dbl>\\\\\n",
       "\\hline\n",
       "\t1 & FDA15 &  9.30 & Low Fat & 0.01604730 & Dairy       & 249.8092 & OUT049 & 1999 & Medium & Tier 1 & Supermarket Type1 & 3735.1380\\\\\n",
       "\t2 & DRC01 &  5.92 & Regular & 0.01927822 & Soft Drinks &  48.2692 & OUT018 & 2009 & Medium & Tier 3 & Supermarket Type2 &  443.4228\\\\\n",
       "\t3 & FDN15 & 17.50 & Low Fat & 0.01676007 & Meat        & 141.6180 & OUT049 & 1999 & Medium & Tier 1 & Supermarket Type1 & 2097.2700\\\\\n",
       "\\end{tabular}\n"
      ],
      "text/markdown": [
       "\n",
       "A data.frame: 3 × 12\n",
       "\n",
       "| <!--/--> | Item_Identifier &lt;fct&gt; | Item_Weight &lt;dbl&gt; | Item_Fat_Content &lt;fct&gt; | Item_Visibility &lt;dbl&gt; | Item_Type &lt;fct&gt; | Item_MRP &lt;dbl&gt; | Outlet_Identifier &lt;fct&gt; | Outlet_Establishment_Year &lt;int&gt; | Outlet_Size &lt;fct&gt; | Outlet_Location_Type &lt;fct&gt; | Outlet_Type &lt;fct&gt; | Item_Outlet_Sales &lt;dbl&gt; |\n",
       "|---|---|---|---|---|---|---|---|---|---|---|---|---|\n",
       "| 1 | FDA15 |  9.30 | Low Fat | 0.01604730 | Dairy       | 249.8092 | OUT049 | 1999 | Medium | Tier 1 | Supermarket Type1 | 3735.1380 |\n",
       "| 2 | DRC01 |  5.92 | Regular | 0.01927822 | Soft Drinks |  48.2692 | OUT018 | 2009 | Medium | Tier 3 | Supermarket Type2 |  443.4228 |\n",
       "| 3 | FDN15 | 17.50 | Low Fat | 0.01676007 | Meat        | 141.6180 | OUT049 | 1999 | Medium | Tier 1 | Supermarket Type1 | 2097.2700 |\n",
       "\n"
      ],
      "text/plain": [
       "  Item_Identifier Item_Weight Item_Fat_Content Item_Visibility Item_Type  \n",
       "1 FDA15            9.30       Low Fat          0.01604730      Dairy      \n",
       "2 DRC01            5.92       Regular          0.01927822      Soft Drinks\n",
       "3 FDN15           17.50       Low Fat          0.01676007      Meat       \n",
       "  Item_MRP Outlet_Identifier Outlet_Establishment_Year Outlet_Size\n",
       "1 249.8092 OUT049            1999                      Medium     \n",
       "2  48.2692 OUT018            2009                      Medium     \n",
       "3 141.6180 OUT049            1999                      Medium     \n",
       "  Outlet_Location_Type Outlet_Type       Item_Outlet_Sales\n",
       "1 Tier 1               Supermarket Type1 3735.1380        \n",
       "2 Tier 3               Supermarket Type2  443.4228        \n",
       "3 Tier 1               Supermarket Type1 2097.2700        "
      ]
     },
     "metadata": {},
     "output_type": "display_data"
    }
   ],
   "source": [
    "head(train, 3)"
   ]
  },
  {
   "cell_type": "markdown",
   "metadata": {},
   "source": [
    "# Data Preprocessing"
   ]
  },
  {
   "cell_type": "code",
   "execution_count": 4,
   "metadata": {},
   "outputs": [],
   "source": [
    "Item_Outlet_Sales = 0\n",
    "test = cbind(test, Item_Outlet_Sales)"
   ]
  },
  {
   "cell_type": "code",
   "execution_count": 5,
   "metadata": {},
   "outputs": [
    {
     "data": {
      "text/html": [
       "<dl class=dl-horizontal>\n",
       "\t<dt>Item_Identifier</dt>\n",
       "\t\t<dd>0</dd>\n",
       "\t<dt>Item_Weight</dt>\n",
       "\t\t<dd>2439</dd>\n",
       "\t<dt>Item_Fat_Content</dt>\n",
       "\t\t<dd>0</dd>\n",
       "\t<dt>Item_Visibility</dt>\n",
       "\t\t<dd>0</dd>\n",
       "\t<dt>Item_Type</dt>\n",
       "\t\t<dd>0</dd>\n",
       "\t<dt>Item_MRP</dt>\n",
       "\t\t<dd>0</dd>\n",
       "\t<dt>Outlet_Identifier</dt>\n",
       "\t\t<dd>0</dd>\n",
       "\t<dt>Outlet_Establishment_Year</dt>\n",
       "\t\t<dd>0</dd>\n",
       "\t<dt>Outlet_Size</dt>\n",
       "\t\t<dd>0</dd>\n",
       "\t<dt>Outlet_Location_Type</dt>\n",
       "\t\t<dd>0</dd>\n",
       "\t<dt>Outlet_Type</dt>\n",
       "\t\t<dd>0</dd>\n",
       "\t<dt>Item_Outlet_Sales</dt>\n",
       "\t\t<dd>0</dd>\n",
       "</dl>\n"
      ],
      "text/latex": [
       "\\begin{description*}\n",
       "\\item[Item\\textbackslash{}\\_Identifier] 0\n",
       "\\item[Item\\textbackslash{}\\_Weight] 2439\n",
       "\\item[Item\\textbackslash{}\\_Fat\\textbackslash{}\\_Content] 0\n",
       "\\item[Item\\textbackslash{}\\_Visibility] 0\n",
       "\\item[Item\\textbackslash{}\\_Type] 0\n",
       "\\item[Item\\textbackslash{}\\_MRP] 0\n",
       "\\item[Outlet\\textbackslash{}\\_Identifier] 0\n",
       "\\item[Outlet\\textbackslash{}\\_Establishment\\textbackslash{}\\_Year] 0\n",
       "\\item[Outlet\\textbackslash{}\\_Size] 0\n",
       "\\item[Outlet\\textbackslash{}\\_Location\\textbackslash{}\\_Type] 0\n",
       "\\item[Outlet\\textbackslash{}\\_Type] 0\n",
       "\\item[Item\\textbackslash{}\\_Outlet\\textbackslash{}\\_Sales] 0\n",
       "\\end{description*}\n"
      ],
      "text/markdown": [
       "Item_Identifier\n",
       ":   0Item_Weight\n",
       ":   2439Item_Fat_Content\n",
       ":   0Item_Visibility\n",
       ":   0Item_Type\n",
       ":   0Item_MRP\n",
       ":   0Outlet_Identifier\n",
       ":   0Outlet_Establishment_Year\n",
       ":   0Outlet_Size\n",
       ":   0Outlet_Location_Type\n",
       ":   0Outlet_Type\n",
       ":   0Item_Outlet_Sales\n",
       ":   0\n",
       "\n"
      ],
      "text/plain": [
       "          Item_Identifier               Item_Weight          Item_Fat_Content \n",
       "                        0                      2439                         0 \n",
       "          Item_Visibility                 Item_Type                  Item_MRP \n",
       "                        0                         0                         0 \n",
       "        Outlet_Identifier Outlet_Establishment_Year               Outlet_Size \n",
       "                        0                         0                         0 \n",
       "     Outlet_Location_Type               Outlet_Type         Item_Outlet_Sales \n",
       "                        0                         0                         0 "
      ]
     },
     "metadata": {},
     "output_type": "display_data"
    }
   ],
   "source": [
    "data = rbind(train, test)\n",
    "\n",
    "colSums(is.na(data))"
   ]
  },
  {
   "cell_type": "code",
   "execution_count": 6,
   "metadata": {},
   "outputs": [],
   "source": [
    "data = data %>% mutate(Item_Weight=replace(Item_Weight, is.na(Item_Weight), round(mean(Item_Weight, na.rm = T),2)))"
   ]
  },
  {
   "cell_type": "code",
   "execution_count": 7,
   "metadata": {},
   "outputs": [
    {
     "data": {
      "text/html": [
       "<dl class=dl-horizontal>\n",
       "\t<dt>1</dt>\n",
       "\t\t<dd>4016</dd>\n",
       "\t<dt>High</dt>\n",
       "\t\t<dd>1553</dd>\n",
       "\t<dt>Medium</dt>\n",
       "\t\t<dd>4655</dd>\n",
       "\t<dt>Small</dt>\n",
       "\t\t<dd>3980</dd>\n",
       "</dl>\n"
      ],
      "text/latex": [
       "\\begin{description*}\n",
       "\\item[1] 4016\n",
       "\\item[High] 1553\n",
       "\\item[Medium] 4655\n",
       "\\item[Small] 3980\n",
       "\\end{description*}\n"
      ],
      "text/markdown": [
       "1\n",
       ":   4016High\n",
       ":   1553Medium\n",
       ":   4655Small\n",
       ":   3980\n",
       "\n"
      ],
      "text/plain": [
       "         High Medium  Small \n",
       "  4016   1553   4655   3980 "
      ]
     },
     "metadata": {},
     "output_type": "display_data"
    },
    {
     "data": {
      "text/html": [
       "<dl class=dl-horizontal>\n",
       "\t<dt>High</dt>\n",
       "\t\t<dd>1553</dd>\n",
       "\t<dt>Medium</dt>\n",
       "\t\t<dd>8671</dd>\n",
       "\t<dt>Small</dt>\n",
       "\t\t<dd>3980</dd>\n",
       "</dl>\n"
      ],
      "text/latex": [
       "\\begin{description*}\n",
       "\\item[High] 1553\n",
       "\\item[Medium] 8671\n",
       "\\item[Small] 3980\n",
       "\\end{description*}\n"
      ],
      "text/markdown": [
       "High\n",
       ":   1553Medium\n",
       ":   8671Small\n",
       ":   3980\n",
       "\n"
      ],
      "text/plain": [
       "  High Medium  Small \n",
       "  1553   8671   3980 "
      ]
     },
     "metadata": {},
     "output_type": "display_data"
    }
   ],
   "source": [
    "summary(as.factor(data$Outlet_Size))\n",
    "data$Outlet_Size = ifelse(data$Outlet_Size=='Small','Small',ifelse(data$Outlet_Size=='High','High', 'Medium'))\n",
    "summary(as.factor(data$Outlet_Size))"
   ]
  },
  {
   "cell_type": "code",
   "execution_count": 8,
   "metadata": {},
   "outputs": [
    {
     "data": {
      "text/html": [
       "0"
      ],
      "text/latex": [
       "0"
      ],
      "text/markdown": [
       "0"
      ],
      "text/plain": [
       "[1] 0"
      ]
     },
     "metadata": {},
     "output_type": "display_data"
    }
   ],
   "source": [
    "sum(is.na(data))"
   ]
  },
  {
   "cell_type": "code",
   "execution_count": 9,
   "metadata": {},
   "outputs": [
    {
     "data": {
      "text/html": [
       "<dl class=dl-horizontal>\n",
       "\t<dt>LF</dt>\n",
       "\t\t<dd>522</dd>\n",
       "\t<dt>low fat</dt>\n",
       "\t\t<dd>178</dd>\n",
       "\t<dt>Low Fat</dt>\n",
       "\t\t<dd>8485</dd>\n",
       "\t<dt>reg</dt>\n",
       "\t\t<dd>195</dd>\n",
       "\t<dt>Regular</dt>\n",
       "\t\t<dd>4824</dd>\n",
       "</dl>\n"
      ],
      "text/latex": [
       "\\begin{description*}\n",
       "\\item[LF] 522\n",
       "\\item[low fat] 178\n",
       "\\item[Low Fat] 8485\n",
       "\\item[reg] 195\n",
       "\\item[Regular] 4824\n",
       "\\end{description*}\n"
      ],
      "text/markdown": [
       "LF\n",
       ":   522low fat\n",
       ":   178Low Fat\n",
       ":   8485reg\n",
       ":   195Regular\n",
       ":   4824\n",
       "\n"
      ],
      "text/plain": [
       "     LF low fat Low Fat     reg Regular \n",
       "    522     178    8485     195    4824 "
      ]
     },
     "metadata": {},
     "output_type": "display_data"
    }
   ],
   "source": [
    "summary(as.factor(data$Item_Fat_Content))\n",
    "data$Item_Fat_Content = ifelse(data$Item_Fat_Content=='LF' | data$Item_Fat_Content=='low fat','Low Fat',\n",
    "                          ifelse(data$Item_Fat_Content=='reg' | data$Item_Fat_Content=='Regular','Regular', \n",
    "                                 'Low Fat'))"
   ]
  },
  {
   "cell_type": "code",
   "execution_count": 10,
   "metadata": {},
   "outputs": [
    {
     "data": {
      "text/html": [
       "<dl class=dl-horizontal>\n",
       "\t<dt>Low Fat</dt>\n",
       "\t\t<dd>9185</dd>\n",
       "\t<dt>Regular</dt>\n",
       "\t\t<dd>5019</dd>\n",
       "</dl>\n"
      ],
      "text/latex": [
       "\\begin{description*}\n",
       "\\item[Low Fat] 9185\n",
       "\\item[Regular] 5019\n",
       "\\end{description*}\n"
      ],
      "text/markdown": [
       "Low Fat\n",
       ":   9185Regular\n",
       ":   5019\n",
       "\n"
      ],
      "text/plain": [
       "Low Fat Regular \n",
       "   9185    5019 "
      ]
     },
     "metadata": {},
     "output_type": "display_data"
    },
    {
     "data": {
      "text/html": [
       "<dl class=dl-horizontal>\n",
       "\t<dt>High</dt>\n",
       "\t\t<dd>1553</dd>\n",
       "\t<dt>Medium</dt>\n",
       "\t\t<dd>8671</dd>\n",
       "\t<dt>Small</dt>\n",
       "\t\t<dd>3980</dd>\n",
       "</dl>\n"
      ],
      "text/latex": [
       "\\begin{description*}\n",
       "\\item[High] 1553\n",
       "\\item[Medium] 8671\n",
       "\\item[Small] 3980\n",
       "\\end{description*}\n"
      ],
      "text/markdown": [
       "High\n",
       ":   1553Medium\n",
       ":   8671Small\n",
       ":   3980\n",
       "\n"
      ],
      "text/plain": [
       "  High Medium  Small \n",
       "  1553   8671   3980 "
      ]
     },
     "metadata": {},
     "output_type": "display_data"
    },
    {
     "data": {
      "text/html": [
       "<dl class=dl-horizontal>\n",
       "\t<dt>Baking Goods</dt>\n",
       "\t\t<dd>1086</dd>\n",
       "\t<dt>Breads</dt>\n",
       "\t\t<dd>416</dd>\n",
       "\t<dt>Breakfast</dt>\n",
       "\t\t<dd>186</dd>\n",
       "\t<dt>Canned</dt>\n",
       "\t\t<dd>1084</dd>\n",
       "\t<dt>Dairy</dt>\n",
       "\t\t<dd>1136</dd>\n",
       "\t<dt>Frozen Foods</dt>\n",
       "\t\t<dd>1426</dd>\n",
       "\t<dt>Fruits and Vegetables</dt>\n",
       "\t\t<dd>2013</dd>\n",
       "\t<dt>Hard Drinks</dt>\n",
       "\t\t<dd>362</dd>\n",
       "\t<dt>Health and Hygiene</dt>\n",
       "\t\t<dd>858</dd>\n",
       "\t<dt>Household</dt>\n",
       "\t\t<dd>1548</dd>\n",
       "\t<dt>Meat</dt>\n",
       "\t\t<dd>736</dd>\n",
       "\t<dt>Others</dt>\n",
       "\t\t<dd>280</dd>\n",
       "\t<dt>Seafood</dt>\n",
       "\t\t<dd>89</dd>\n",
       "\t<dt>Snack Foods</dt>\n",
       "\t\t<dd>1989</dd>\n",
       "\t<dt>Soft Drinks</dt>\n",
       "\t\t<dd>726</dd>\n",
       "\t<dt>Starchy Foods</dt>\n",
       "\t\t<dd>269</dd>\n",
       "</dl>\n"
      ],
      "text/latex": [
       "\\begin{description*}\n",
       "\\item[Baking Goods] 1086\n",
       "\\item[Breads] 416\n",
       "\\item[Breakfast] 186\n",
       "\\item[Canned] 1084\n",
       "\\item[Dairy] 1136\n",
       "\\item[Frozen Foods] 1426\n",
       "\\item[Fruits and Vegetables] 2013\n",
       "\\item[Hard Drinks] 362\n",
       "\\item[Health and Hygiene] 858\n",
       "\\item[Household] 1548\n",
       "\\item[Meat] 736\n",
       "\\item[Others] 280\n",
       "\\item[Seafood] 89\n",
       "\\item[Snack Foods] 1989\n",
       "\\item[Soft Drinks] 726\n",
       "\\item[Starchy Foods] 269\n",
       "\\end{description*}\n"
      ],
      "text/markdown": [
       "Baking Goods\n",
       ":   1086Breads\n",
       ":   416Breakfast\n",
       ":   186Canned\n",
       ":   1084Dairy\n",
       ":   1136Frozen Foods\n",
       ":   1426Fruits and Vegetables\n",
       ":   2013Hard Drinks\n",
       ":   362Health and Hygiene\n",
       ":   858Household\n",
       ":   1548Meat\n",
       ":   736Others\n",
       ":   280Seafood\n",
       ":   89Snack Foods\n",
       ":   1989Soft Drinks\n",
       ":   726Starchy Foods\n",
       ":   269\n",
       "\n"
      ],
      "text/plain": [
       "         Baking Goods                Breads             Breakfast \n",
       "                 1086                   416                   186 \n",
       "               Canned                 Dairy          Frozen Foods \n",
       "                 1084                  1136                  1426 \n",
       "Fruits and Vegetables           Hard Drinks    Health and Hygiene \n",
       "                 2013                   362                   858 \n",
       "            Household                  Meat                Others \n",
       "                 1548                   736                   280 \n",
       "              Seafood           Snack Foods           Soft Drinks \n",
       "                   89                  1989                   726 \n",
       "        Starchy Foods \n",
       "                  269 "
      ]
     },
     "metadata": {},
     "output_type": "display_data"
    },
    {
     "data": {
      "text/html": [
       "<dl class=dl-horizontal>\n",
       "\t<dt>OUT010</dt>\n",
       "\t\t<dd>925</dd>\n",
       "\t<dt>OUT013</dt>\n",
       "\t\t<dd>1553</dd>\n",
       "\t<dt>OUT017</dt>\n",
       "\t\t<dd>1543</dd>\n",
       "\t<dt>OUT018</dt>\n",
       "\t\t<dd>1546</dd>\n",
       "\t<dt>OUT019</dt>\n",
       "\t\t<dd>880</dd>\n",
       "\t<dt>OUT027</dt>\n",
       "\t\t<dd>1559</dd>\n",
       "\t<dt>OUT035</dt>\n",
       "\t\t<dd>1550</dd>\n",
       "\t<dt>OUT045</dt>\n",
       "\t\t<dd>1548</dd>\n",
       "\t<dt>OUT046</dt>\n",
       "\t\t<dd>1550</dd>\n",
       "\t<dt>OUT049</dt>\n",
       "\t\t<dd>1550</dd>\n",
       "</dl>\n"
      ],
      "text/latex": [
       "\\begin{description*}\n",
       "\\item[OUT010] 925\n",
       "\\item[OUT013] 1553\n",
       "\\item[OUT017] 1543\n",
       "\\item[OUT018] 1546\n",
       "\\item[OUT019] 880\n",
       "\\item[OUT027] 1559\n",
       "\\item[OUT035] 1550\n",
       "\\item[OUT045] 1548\n",
       "\\item[OUT046] 1550\n",
       "\\item[OUT049] 1550\n",
       "\\end{description*}\n"
      ],
      "text/markdown": [
       "OUT010\n",
       ":   925OUT013\n",
       ":   1553OUT017\n",
       ":   1543OUT018\n",
       ":   1546OUT019\n",
       ":   880OUT027\n",
       ":   1559OUT035\n",
       ":   1550OUT045\n",
       ":   1548OUT046\n",
       ":   1550OUT049\n",
       ":   1550\n",
       "\n"
      ],
      "text/plain": [
       "OUT010 OUT013 OUT017 OUT018 OUT019 OUT027 OUT035 OUT045 OUT046 OUT049 \n",
       "   925   1553   1543   1546    880   1559   1550   1548   1550   1550 "
      ]
     },
     "metadata": {},
     "output_type": "display_data"
    },
    {
     "data": {
      "text/html": [
       "<dl class=dl-horizontal>\n",
       "\t<dt>Tier 1</dt>\n",
       "\t\t<dd>3980</dd>\n",
       "\t<dt>Tier 2</dt>\n",
       "\t\t<dd>4641</dd>\n",
       "\t<dt>Tier 3</dt>\n",
       "\t\t<dd>5583</dd>\n",
       "</dl>\n"
      ],
      "text/latex": [
       "\\begin{description*}\n",
       "\\item[Tier 1] 3980\n",
       "\\item[Tier 2] 4641\n",
       "\\item[Tier 3] 5583\n",
       "\\end{description*}\n"
      ],
      "text/markdown": [
       "Tier 1\n",
       ":   3980Tier 2\n",
       ":   4641Tier 3\n",
       ":   5583\n",
       "\n"
      ],
      "text/plain": [
       "Tier 1 Tier 2 Tier 3 \n",
       "  3980   4641   5583 "
      ]
     },
     "metadata": {},
     "output_type": "display_data"
    },
    {
     "data": {
      "text/html": [
       "<dl class=dl-horizontal>\n",
       "\t<dt>Grocery Store</dt>\n",
       "\t\t<dd>1805</dd>\n",
       "\t<dt>Supermarket Type1</dt>\n",
       "\t\t<dd>9294</dd>\n",
       "\t<dt>Supermarket Type2</dt>\n",
       "\t\t<dd>1546</dd>\n",
       "\t<dt>Supermarket Type3</dt>\n",
       "\t\t<dd>1559</dd>\n",
       "</dl>\n"
      ],
      "text/latex": [
       "\\begin{description*}\n",
       "\\item[Grocery Store] 1805\n",
       "\\item[Supermarket Type1] 9294\n",
       "\\item[Supermarket Type2] 1546\n",
       "\\item[Supermarket Type3] 1559\n",
       "\\end{description*}\n"
      ],
      "text/markdown": [
       "Grocery Store\n",
       ":   1805Supermarket Type1\n",
       ":   9294Supermarket Type2\n",
       ":   1546Supermarket Type3\n",
       ":   1559\n",
       "\n"
      ],
      "text/plain": [
       "    Grocery Store Supermarket Type1 Supermarket Type2 Supermarket Type3 \n",
       "             1805              9294              1546              1559 "
      ]
     },
     "metadata": {},
     "output_type": "display_data"
    }
   ],
   "source": [
    "summary(as.factor(data$Item_Fat_Content))\n",
    "summary(as.factor(data$Outlet_Size))\n",
    "summary(as.factor(data$Item_Type))\n",
    "summary(as.factor(data$Outlet_Identifier))\n",
    "summary(as.factor(data$Outlet_Location_Type))\n",
    "summary(as.factor(data$Outlet_Type))"
   ]
  },
  {
   "cell_type": "markdown",
   "metadata": {},
   "source": [
    "# Applying one-hot encoding"
   ]
  },
  {
   "cell_type": "code",
   "execution_count": 11,
   "metadata": {},
   "outputs": [],
   "source": [
    "Item_Outlet_Sales = data$Item_Outlet_Sales\n",
    "data = as.data.frame(model.matrix(Item_Outlet_Sales ~ .-Item_Identifier, data = data)[,-1])\n",
    "data = cbind(data, Item_Outlet_Sales)"
   ]
  },
  {
   "cell_type": "markdown",
   "metadata": {},
   "source": [
    "# Seperating train and test data"
   ]
  },
  {
   "cell_type": "code",
   "execution_count": 12,
   "metadata": {},
   "outputs": [],
   "source": [
    "train_ = data[1:nrow(train),]\n",
    "test_ = data[(nrow(train) + 1):nrow(data),]"
   ]
  },
  {
   "cell_type": "markdown",
   "metadata": {},
   "source": [
    "# Seperating train data into train_test_split for validation of model"
   ]
  },
  {
   "cell_type": "code",
   "execution_count": 13,
   "metadata": {},
   "outputs": [],
   "source": [
    "set.seed(123)\n",
    "split = sample.split(train_$Item_Outlet_Sales, SplitRatio = 0.8)\n",
    "training_set = subset(train_, split==TRUE)\n",
    "testing_set = subset(train_, split==FALSE)"
   ]
  },
  {
   "cell_type": "code",
   "execution_count": 14,
   "metadata": {},
   "outputs": [],
   "source": [
    "X = model.matrix(Item_Outlet_Sales ~ ., data = training_set)[,-1]\n",
    "X_test = model.matrix(Item_Outlet_Sales ~ ., data = testing_set)[,-1]"
   ]
  },
  {
   "cell_type": "markdown",
   "metadata": {},
   "source": [
    "# Applying Linear Regression"
   ]
  },
  {
   "cell_type": "code",
   "execution_count": 15,
   "metadata": {},
   "outputs": [
    {
     "data": {
      "text/plain": [
       "\n",
       "Call:\n",
       "lm(formula = Item_Outlet_Sales ~ ., data = training_set)\n",
       "\n",
       "Residuals:\n",
       "    Min      1Q  Median      3Q     Max \n",
       "-4479.3  -708.8   -92.1   595.8  7833.1 \n",
       "\n",
       "Coefficients: (8 not defined because of singularities)\n",
       "                                   Estimate Std. Error t value Pr(>|t|)    \n",
       "(Intercept)                      -1878.7370    92.2964 -20.355   <2e-16 ***\n",
       "Item_Weight                         -2.4048     3.2748  -0.734    0.463    \n",
       "Item_Fat_ContentRegular             45.5512    31.4781   1.447    0.148    \n",
       "Item_Visibility                   -296.1527   277.1799  -1.068    0.285    \n",
       "Item_TypeBreads                     -9.2965    93.2784  -0.100    0.921    \n",
       "Item_TypeBreakfast                  59.7554   127.3695   0.469    0.639    \n",
       "Item_TypeCanned                     32.5027    69.9549   0.465    0.642    \n",
       "Item_TypeDairy                     -62.7956    69.3723  -0.905    0.365    \n",
       "`Item_TypeFrozen Foods`            -59.4464    65.5829  -0.906    0.365    \n",
       "`Item_TypeFruits and Vegetables`    13.9526    61.5059   0.227    0.821    \n",
       "`Item_TypeHard Drinks`             -19.3493   100.7728  -0.192    0.848    \n",
       "`Item_TypeHealth and Hygiene`      -21.7761    76.5344  -0.285    0.776    \n",
       "Item_TypeHousehold                 -46.7580    67.0057  -0.698    0.485    \n",
       "Item_TypeMeat                      -30.1173    78.0708  -0.386    0.700    \n",
       "Item_TypeOthers                    -69.0415   111.3509  -0.620    0.535    \n",
       "Item_TypeSeafood                   264.1567   171.3636   1.541    0.123    \n",
       "`Item_TypeSnack Foods`             -18.3944    61.7621  -0.298    0.766    \n",
       "`Item_TypeSoft Drinks`             -44.3231    77.6039  -0.571    0.568    \n",
       "`Item_TypeStarchy Foods`           -35.6496   113.7091  -0.314    0.754    \n",
       "Item_MRP                            16.0989     0.2198  73.243   <2e-16 ***\n",
       "Outlet_IdentifierOUT013           1997.7586    68.4485  29.186   <2e-16 ***\n",
       "Outlet_IdentifierOUT017           2066.3466    68.5024  30.165   <2e-16 ***\n",
       "Outlet_IdentifierOUT018           1678.5312    68.3296  24.565   <2e-16 ***\n",
       "Outlet_IdentifierOUT019             52.1179    76.7110   0.679    0.497    \n",
       "Outlet_IdentifierOUT027           3430.0705    67.3820  50.905   <2e-16 ***\n",
       "Outlet_IdentifierOUT035           2106.0132    68.4140  30.783   <2e-16 ***\n",
       "Outlet_IdentifierOUT045           1868.7458    68.8040  27.160   <2e-16 ***\n",
       "Outlet_IdentifierOUT046           1976.3097    68.4604  28.868   <2e-16 ***\n",
       "Outlet_IdentifierOUT049           2047.3760    68.3190  29.968   <2e-16 ***\n",
       "Outlet_Establishment_Year                NA         NA      NA       NA    \n",
       "Outlet_SizeMedium                        NA         NA      NA       NA    \n",
       "Outlet_SizeSmall                         NA         NA      NA       NA    \n",
       "`Outlet_Location_TypeTier 2`             NA         NA      NA       NA    \n",
       "`Outlet_Location_TypeTier 3`             NA         NA      NA       NA    \n",
       "`Outlet_TypeSupermarket Type1`           NA         NA      NA       NA    \n",
       "`Outlet_TypeSupermarket Type2`           NA         NA      NA       NA    \n",
       "`Outlet_TypeSupermarket Type3`           NA         NA      NA       NA    \n",
       "---\n",
       "Signif. codes:  0 ‘***’ 0.001 ‘**’ 0.01 ‘*’ 0.05 ‘.’ 0.1 ‘ ’ 1\n",
       "\n",
       "Residual standard error: 1159 on 7198 degrees of freedom\n",
       "Multiple R-squared:  0.5693,\tAdjusted R-squared:  0.5677 \n",
       "F-statistic: 339.8 on 28 and 7198 DF,  p-value: < 2.2e-16\n"
      ]
     },
     "metadata": {},
     "output_type": "display_data"
    },
    {
     "name": "stderr",
     "output_type": "stream",
     "text": [
      "Warning message in testing_set$Item_Outlet_Sales - pred_lm:\n",
      "“longer object length is not a multiple of shorter object length”\n"
     ]
    },
    {
     "data": {
      "text/html": [
       "1906.73686553938"
      ],
      "text/latex": [
       "1906.73686553938"
      ],
      "text/markdown": [
       "1906.73686553938"
      ],
      "text/plain": [
       "[1] 1906.737"
      ]
     },
     "metadata": {},
     "output_type": "display_data"
    }
   ],
   "source": [
    "# Linear Regression\n",
    "lm.fit = lm(Item_Outlet_Sales ~ ., data = training_set)\n",
    "summary(lm.fit)\n",
    "pred_lm = predict(lm.fit, newx = X_test)\n",
    "sqrt(mean((testing_set$Item_Outlet_Sales - pred_lm)^2))"
   ]
  },
  {
   "cell_type": "markdown",
   "metadata": {},
   "source": [
    "**It can be observed that linear regression would not be the best model to predict the sales, as there are some variables which are not significant in the model (i.e. their p-values are greater than 0.05), also the Adjusted R-squared and RMSE are low and high respectively. **\n",
    "\n",
    "** Hence, model can be more tuned by applying subsetting among the variables, so that best model can be picked.**"
   ]
  },
  {
   "cell_type": "markdown",
   "metadata": {},
   "source": [
    "# Applying Backward Subsetting"
   ]
  },
  {
   "cell_type": "markdown",
   "metadata": {},
   "source": [
    "**For the data, backward subsetting is getting more good results, that too with only 10 models, as there are some linear dependencies available among the data.**"
   ]
  },
  {
   "cell_type": "code",
   "execution_count": 16,
   "metadata": {},
   "outputs": [
    {
     "name": "stderr",
     "output_type": "stream",
     "text": [
      "Warning message in leaps.setup(x, y, wt = wt, nbest = nbest, nvmax = nvmax, force.in = force.in, :\n",
      "“8  linear dependencies found”\n"
     ]
    },
    {
     "data": {
      "text/html": [
       "0.568135944066828"
      ],
      "text/latex": [
       "0.568135944066828"
      ],
      "text/markdown": [
       "0.568135944066828"
      ],
      "text/plain": [
       "[1] 0.5681359"
      ]
     },
     "metadata": {},
     "output_type": "display_data"
    }
   ],
   "source": [
    "# Subsetting\n",
    "\n",
    "nvmax_ = 10\n",
    "\n",
    "subset.fit = regsubsets(Item_Outlet_Sales ~ ., data = training_set, method='backward', nvmax = nvmax_)\n",
    "k = summary(subset.fit)\n",
    "k$adjr2[which.max(k$adjr2)]"
   ]
  },
  {
   "cell_type": "code",
   "execution_count": 17,
   "metadata": {},
   "outputs": [
    {
     "data": {
      "text/html": [
       "<ol class=list-inline>\n",
       "\t<li>1166.00006693133</li>\n",
       "\t<li>1111.09346388569</li>\n",
       "\t<li>1104.03486431065</li>\n",
       "\t<li>1095.57552073517</li>\n",
       "\t<li>1081.82134080962</li>\n",
       "\t<li>1070.81554704616</li>\n",
       "\t<li>1060.9771562738</li>\n",
       "\t<li>1012.99795871886</li>\n",
       "\t<li>949.766730812982</li>\n",
       "\t<li>949.92366357204</li>\n",
       "</ol>\n"
      ],
      "text/latex": [
       "\\begin{enumerate*}\n",
       "\\item 1166.00006693133\n",
       "\\item 1111.09346388569\n",
       "\\item 1104.03486431065\n",
       "\\item 1095.57552073517\n",
       "\\item 1081.82134080962\n",
       "\\item 1070.81554704616\n",
       "\\item 1060.9771562738\n",
       "\\item 1012.99795871886\n",
       "\\item 949.766730812982\n",
       "\\item 949.92366357204\n",
       "\\end{enumerate*}\n"
      ],
      "text/markdown": [
       "1. 1166.00006693133\n",
       "2. 1111.09346388569\n",
       "3. 1104.03486431065\n",
       "4. 1095.57552073517\n",
       "5. 1081.82134080962\n",
       "6. 1070.81554704616\n",
       "7. 1060.9771562738\n",
       "8. 1012.99795871886\n",
       "9. 949.766730812982\n",
       "10. 949.92366357204\n",
       "\n",
       "\n"
      ],
      "text/plain": [
       " [1] 1166.0001 1111.0935 1104.0349 1095.5755 1081.8213 1070.8155 1060.9772\n",
       " [8] 1012.9980  949.7667  949.9237"
      ]
     },
     "metadata": {},
     "output_type": "display_data"
    },
    {
     "data": {
      "text/html": [
       "'Best RMSE Value'"
      ],
      "text/latex": [
       "'Best RMSE Value'"
      ],
      "text/markdown": [
       "'Best RMSE Value'"
      ],
      "text/plain": [
       "[1] \"Best RMSE Value\""
      ]
     },
     "metadata": {},
     "output_type": "display_data"
    },
    {
     "data": {
      "text/html": [
       "949.766730812982"
      ],
      "text/latex": [
       "949.766730812982"
      ],
      "text/markdown": [
       "949.766730812982"
      ],
      "text/plain": [
       "[1] 949.7667"
      ]
     },
     "metadata": {},
     "output_type": "display_data"
    }
   ],
   "source": [
    "val.errors = rep(NA, nvmax_)\n",
    "for(i in 1:nvmax_){\n",
    "  coefi = coef(subset.fit, id=i)\n",
    "  pred = cbind(1, X_test[,names(coefi[-c(1)])]) %*% coefi\n",
    "  val.errors[i]= sqrt(mean((testing_set$Item_Outlet_Sales - pred) ^2))\n",
    "}\n",
    "val.errors\n",
    "\"Best RMSE Value\"\n",
    "val.errors[which.min(val.errors)]"
   ]
  },
  {
   "cell_type": "markdown",
   "metadata": {},
   "source": [
    "# Applying Lasso Regression"
   ]
  },
  {
   "cell_type": "markdown",
   "metadata": {},
   "source": [
    "**User defined lambda are generated because, system lambda are not giving good results, hence 100 sequence are generated from 1e10 to 0.02**"
   ]
  },
  {
   "cell_type": "code",
   "execution_count": 18,
   "metadata": {},
   "outputs": [
    {
     "name": "stderr",
     "output_type": "stream",
     "text": [
      "Warning message in regularize.values(x, y, ties, missing(ties)):\n",
      "“collapsing to unique 'x' values”\n"
     ]
    },
    {
     "data": {
      "image/png": "[encoded data removed]"
     },
     "metadata": {
      "image/png": {
       "height": 420,
       "width": 420
      }
     },
     "output_type": "display_data"
    }
   ],
   "source": [
    "# Ridge and Lasso\n",
    "\n",
    "ld = 10^seq(10, -2, length=100)\n",
    "\n",
    "y = training_set$Item_Outlet_Sales\n",
    "rig.fit = glmnet(X, y, alpha=1, lambda=ld)\n",
    "plot(rig.fit)"
   ]
  },
  {
   "cell_type": "markdown",
   "metadata": {},
   "source": [
    "**From the above graph it can be observed that many variables are tending towards zero which represents that these variables can be neglected and will not affect the model accuracy, also this can lead to minimum RMSE.**"
   ]
  },
  {
   "cell_type": "markdown",
   "metadata": {},
   "source": [
    "**Applying 5-fold Cross Validation in the model**"
   ]
  },
  {
   "cell_type": "code",
   "execution_count": 19,
   "metadata": {},
   "outputs": [
    {
     "data": {
      "image/png": "[encoded data removed]"
     },
     "metadata": {
      "image/png": {
       "height": 420,
       "width": 420
      }
     },
     "output_type": "display_data"
    }
   ],
   "source": [
    "cvglm = cv.glmnet(X, y, alpha=1, lambda=ld, nfolds=5)\n",
    "plot(cvglm)"
   ]
  },
  {
   "cell_type": "code",
   "execution_count": 20,
   "metadata": {},
   "outputs": [
    {
     "data": {
      "text/html": [
       "8.11130830789686"
      ],
      "text/latex": [
       "8.11130830789686"
      ],
      "text/markdown": [
       "8.11130830789686"
      ],
      "text/plain": [
       "[1] 8.111308"
      ]
     },
     "metadata": {},
     "output_type": "display_data"
    }
   ],
   "source": [
    "best = cvglm$lambda.min\n",
    "best"
   ]
  },
  {
   "cell_type": "markdown",
   "metadata": {},
   "source": [
    "**Best lambda generated from the lambda sequence which gives the best model.**"
   ]
  },
  {
   "cell_type": "code",
   "execution_count": 21,
   "metadata": {},
   "outputs": [
    {
     "data": {
      "text/plain": [
       "37 x 1 sparse Matrix of class \"dgCMatrix\"\n",
       "                                             1\n",
       "(Intercept)                      -1799.5553443\n",
       "Item_Weight                         -0.5008405\n",
       "Item_Fat_ContentRegular             37.6270631\n",
       "Item_Visibility                   -257.7754311\n",
       "Item_TypeBreads                      .        \n",
       "Item_TypeBreakfast                  12.1814693\n",
       "Item_TypeCanned                     31.3087109\n",
       "Item_TypeDairy                     -11.3826903\n",
       "`Item_TypeFrozen Foods`            -10.6721046\n",
       "`Item_TypeFruits and Vegetables`    19.5917103\n",
       "`Item_TypeHard Drinks`               .        \n",
       "`Item_TypeHealth and Hygiene`        .        \n",
       "Item_TypeHousehold                  -3.2016368\n",
       "Item_TypeMeat                        .        \n",
       "Item_TypeOthers                      .        \n",
       "Item_TypeSeafood                   187.3085422\n",
       "`Item_TypeSnack Foods`               .        \n",
       "`Item_TypeSoft Drinks`               .        \n",
       "`Item_TypeStarchy Foods`             .        \n",
       "Item_MRP                            15.9605989\n",
       "Outlet_IdentifierOUT013              .        \n",
       "Outlet_IdentifierOUT017             50.6251315\n",
       "Outlet_IdentifierOUT018           1530.2181406\n",
       "Outlet_IdentifierOUT019            -26.2838414\n",
       "Outlet_IdentifierOUT027           1858.5236573\n",
       "Outlet_IdentifierOUT035             91.6342366\n",
       "Outlet_IdentifierOUT045            -97.6010986\n",
       "Outlet_IdentifierOUT046              .        \n",
       "Outlet_IdentifierOUT049             32.7389034\n",
       "Outlet_Establishment_Year            .        \n",
       "Outlet_SizeMedium                    .        \n",
       "Outlet_SizeSmall                     .        \n",
       "`Outlet_Location_TypeTier 2`         .        \n",
       "`Outlet_Location_TypeTier 3`         .        \n",
       "`Outlet_TypeSupermarket Type1`    1884.3338603\n",
       "`Outlet_TypeSupermarket Type2`      17.7433725\n",
       "`Outlet_TypeSupermarket Type3`    1442.8488818"
      ]
     },
     "metadata": {},
     "output_type": "display_data"
    }
   ],
   "source": [
    "predict(rig.fit, s=best, type='coefficients')"
   ]
  },
  {
   "cell_type": "markdown",
   "metadata": {},
   "source": [
    "**Some of the variables which tends to zero, which can be neglected.**"
   ]
  },
  {
   "cell_type": "code",
   "execution_count": 22,
   "metadata": {},
   "outputs": [
    {
     "data": {
      "text/html": [
       "946.509554543896"
      ],
      "text/latex": [
       "946.509554543896"
      ],
      "text/markdown": [
       "946.509554543896"
      ],
      "text/plain": [
       "[1] 946.5096"
      ]
     },
     "metadata": {},
     "output_type": "display_data"
    }
   ],
   "source": [
    "pred_rl = predict(rig.fit, s=best, newx = X_test)\n",
    "sqrt(mean((testing_set$Item_Outlet_Sales - pred_rl)^2))"
   ]
  },
  {
   "cell_type": "markdown",
   "metadata": {},
   "source": [
    "# Writing the Submission File"
   ]
  },
  {
   "cell_type": "code",
   "execution_count": 23,
   "metadata": {},
   "outputs": [],
   "source": [
    "# Predicting the test set\n",
    "test_set = model.matrix(Item_Outlet_Sales ~ ., data = test_)[,-1]\n",
    "pred_test = predict(rig.fit, s=best, newx = test_set)\n",
    "\n",
    "submission = data.frame('Item_Identifier'=test$Item_Identifier,\n",
    "                        'Outlet_Identifier'=test$Outlet_Identifier,pred_test)\n",
    "names(submission)[3] = 'Item_Outlet_Sales'"
   ]
  },
  {
   "cell_type": "code",
   "execution_count": 24,
   "metadata": {},
   "outputs": [],
   "source": [
    "write.csv(submission, 'Ridge_Lasso.csv', row.names = F)"
   ]
  }
 ],
 "metadata": {
  "kernelspec": {
   "display_name": "R",
   "language": "R",
   "name": "ir"
  },
  "language_info": {
   "codemirror_mode": "r",
   "file_extension": ".r",
   "mimetype": "text/x-r-source",
   "name": "R",
   "pygments_lexer": "r",
   "version": "3.6.0"
  }
 },
 "nbformat": 4,
 "nbformat_minor": 1
}
