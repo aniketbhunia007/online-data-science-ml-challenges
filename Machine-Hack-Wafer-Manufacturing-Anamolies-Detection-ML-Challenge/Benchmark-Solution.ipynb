{
  "nbformat": 4,
  "nbformat_minor": 0,
  "metadata": {
    "colab": {
      "name": "MachineHack-Wafer-Manufacturing-Anamolies-Detection-ML-Challenge.ipynb",
      "provenance": [],
      "collapsed_sections": [],
      "authorship_tag": "ABX9TyMQw8E1zD3drY7xpKIGrSQP",
      "include_colab_link": true
    },
    "kernelspec": {
      "name": "python3",
      "display_name": "Python 3"
    }
  },
  "cells": [
    {
      "cell_type": "markdown",
      "metadata": {
        "id": "view-in-github",
        "colab_type": "text"
      },
      "source": [
        "<a href=\"https://colab.research.google.com/github/bilalProgTech/online-data-science-ml-challenges/blob/master/Machine-Hack-Wafer-Manufacturing-Anamolies-Detection-ML-Challenge/Benchmark-Solution.ipynb\" target=\"_parent\"><img src=\"https://colab.research.google.com/assets/colab-badge.svg\" alt=\"Open In Colab\"/></a>"
      ]
    },
    {
      "cell_type": "code",
      "metadata": {
        "id": "6B9SBJ26Snh8",
        "outputId": "aa8c3763-4754-4213-a64f-c82d302022ec",
        "colab": {
          "base_uri": "https://localhost:8080/",
          "height": 340
        }
      },
      "source": [
        "!wget https://machinehack-be.s3.amazonaws.com/detecting_anomalies_in_wafer_manufacturing_weekend_hackathon_18/Participants_Data_WH18.zip\n",
        "!unzip \\*.zip  && rm *.zip"
      ],
      "execution_count": null,
      "outputs": [
        {
          "output_type": "stream",
          "text": [
            "--2020-08-30 11:19:11--  https://machinehack-be.s3.amazonaws.com/detecting_anomalies_in_wafer_manufacturing_weekend_hackathon_18/Participants_Data_WH18.zip\n",
            "Resolving machinehack-be.s3.amazonaws.com (machinehack-be.s3.amazonaws.com)... 52.219.64.80\n",
            "Connecting to machinehack-be.s3.amazonaws.com (machinehack-be.s3.amazonaws.com)|52.219.64.80|:443... connected.\n",
            "HTTP request sent, awaiting response... 200 OK\n",
            "Length: 114903 (112K) [application/zip]\n",
            "Saving to: ‘Participants_Data_WH18.zip’\n",
            "\n",
            "Participants_Data_W 100%[===================>] 112.21K   226KB/s    in 0.5s    \n",
            "\n",
            "2020-08-30 11:19:13 (226 KB/s) - ‘Participants_Data_WH18.zip’ saved [114903/114903]\n",
            "\n",
            "Archive:  Participants_Data_WH18.zip\n",
            "   creating: Participants_Data_WH18/\n",
            "  inflating: Participants_Data_WH18/Test.csv  \n",
            "  inflating: __MACOSX/Participants_Data_WH18/._Test.csv  \n",
            "  inflating: Participants_Data_WH18/Train.csv  \n",
            "  inflating: __MACOSX/Participants_Data_WH18/._Train.csv  \n",
            "  inflating: Participants_Data_WH18/Sample_submission.csv  \n",
            "  inflating: __MACOSX/Participants_Data_WH18/._Sample_submission.csv  \n"
          ],
          "name": "stdout"
        }
      ]
    },
    {
      "cell_type": "code",
      "metadata": {
        "id": "NhwiyXmCS4Fs",
        "outputId": "7462288e-6abb-4f1b-ce05-f36c5fbae87d",
        "colab": {
          "base_uri": "https://localhost:8080/",
          "height": 51
        }
      },
      "source": [
        "import pandas as pd\n",
        "import numpy as np\n",
        "import matplotlib.pyplot as plt\n",
        "%matplotlib inline\n",
        "import seaborn as sns"
      ],
      "execution_count": null,
      "outputs": [
        {
          "output_type": "stream",
          "text": [
            "/usr/local/lib/python3.6/dist-packages/statsmodels/tools/_testing.py:19: FutureWarning: pandas.util.testing is deprecated. Use the functions in the public API at pandas.testing instead.\n",
            "  import pandas.util.testing as tm\n"
          ],
          "name": "stderr"
        }
      ]
    },
    {
      "cell_type": "code",
      "metadata": {
        "id": "lgyzzGVvTMxo",
        "outputId": "9f14fe84-d0ac-4e7b-92f4-855ff3145525",
        "colab": {
          "base_uri": "https://localhost:8080/",
          "height": 253
        }
      },
      "source": [
        "train = pd.read_csv('/content/Participants_Data_WH18/Train.csv')\n",
        "test = pd.read_csv('/content/Participants_Data_WH18/Test.csv')\n",
        "train.head()"
      ],
      "execution_count": null,
      "outputs": [
        {
          "output_type": "execute_result",
          "data": {
            "text/html": [
              "<div>\n",
              "<style scoped>\n",
              "    .dataframe tbody tr th:only-of-type {\n",
              "        vertical-align: middle;\n",
              "    }\n",
              "\n",
              "    .dataframe tbody tr th {\n",
              "        vertical-align: top;\n",
              "    }\n",
              "\n",
              "    .dataframe thead th {\n",
              "        text-align: right;\n",
              "    }\n",
              "</style>\n",
              "<table border=\"1\" class=\"dataframe\">\n",
              "  <thead>\n",
              "    <tr style=\"text-align: right;\">\n",
              "      <th></th>\n",
              "      <th>feature_1</th>\n",
              "      <th>feature_2</th>\n",
              "      <th>feature_3</th>\n",
              "      <th>feature_4</th>\n",
              "      <th>feature_5</th>\n",
              "      <th>feature_6</th>\n",
              "      <th>feature_7</th>\n",
              "      <th>feature_8</th>\n",
              "      <th>feature_9</th>\n",
              "      <th>feature_10</th>\n",
              "      <th>feature_11</th>\n",
              "      <th>feature_12</th>\n",
              "      <th>feature_13</th>\n",
              "      <th>feature_14</th>\n",
              "      <th>feature_15</th>\n",
              "      <th>feature_16</th>\n",
              "      <th>feature_17</th>\n",
              "      <th>feature_18</th>\n",
              "      <th>feature_19</th>\n",
              "      <th>feature_20</th>\n",
              "      <th>feature_21</th>\n",
              "      <th>feature_22</th>\n",
              "      <th>feature_23</th>\n",
              "      <th>feature_24</th>\n",
              "      <th>feature_25</th>\n",
              "      <th>feature_26</th>\n",
              "      <th>feature_27</th>\n",
              "      <th>feature_28</th>\n",
              "      <th>feature_29</th>\n",
              "      <th>feature_30</th>\n",
              "      <th>feature_31</th>\n",
              "      <th>feature_32</th>\n",
              "      <th>feature_33</th>\n",
              "      <th>feature_34</th>\n",
              "      <th>feature_35</th>\n",
              "      <th>feature_36</th>\n",
              "      <th>feature_37</th>\n",
              "      <th>feature_38</th>\n",
              "      <th>feature_39</th>\n",
              "      <th>feature_40</th>\n",
              "      <th>...</th>\n",
              "      <th>feature_1520</th>\n",
              "      <th>feature_1521</th>\n",
              "      <th>feature_1522</th>\n",
              "      <th>feature_1523</th>\n",
              "      <th>feature_1524</th>\n",
              "      <th>feature_1525</th>\n",
              "      <th>feature_1526</th>\n",
              "      <th>feature_1527</th>\n",
              "      <th>feature_1528</th>\n",
              "      <th>feature_1529</th>\n",
              "      <th>feature_1530</th>\n",
              "      <th>feature_1531</th>\n",
              "      <th>feature_1532</th>\n",
              "      <th>feature_1533</th>\n",
              "      <th>feature_1534</th>\n",
              "      <th>feature_1535</th>\n",
              "      <th>feature_1536</th>\n",
              "      <th>feature_1537</th>\n",
              "      <th>feature_1538</th>\n",
              "      <th>feature_1539</th>\n",
              "      <th>feature_1540</th>\n",
              "      <th>feature_1541</th>\n",
              "      <th>feature_1542</th>\n",
              "      <th>feature_1543</th>\n",
              "      <th>feature_1544</th>\n",
              "      <th>feature_1545</th>\n",
              "      <th>feature_1546</th>\n",
              "      <th>feature_1547</th>\n",
              "      <th>feature_1548</th>\n",
              "      <th>feature_1549</th>\n",
              "      <th>feature_1550</th>\n",
              "      <th>feature_1551</th>\n",
              "      <th>feature_1552</th>\n",
              "      <th>feature_1553</th>\n",
              "      <th>feature_1554</th>\n",
              "      <th>feature_1555</th>\n",
              "      <th>feature_1556</th>\n",
              "      <th>feature_1557</th>\n",
              "      <th>feature_1558</th>\n",
              "      <th>Class</th>\n",
              "    </tr>\n",
              "  </thead>\n",
              "  <tbody>\n",
              "    <tr>\n",
              "      <th>0</th>\n",
              "      <td>100</td>\n",
              "      <td>160</td>\n",
              "      <td>1.6000</td>\n",
              "      <td>0</td>\n",
              "      <td>0</td>\n",
              "      <td>0</td>\n",
              "      <td>0</td>\n",
              "      <td>0</td>\n",
              "      <td>0</td>\n",
              "      <td>0</td>\n",
              "      <td>0</td>\n",
              "      <td>0</td>\n",
              "      <td>0</td>\n",
              "      <td>0</td>\n",
              "      <td>0</td>\n",
              "      <td>0</td>\n",
              "      <td>0</td>\n",
              "      <td>0</td>\n",
              "      <td>0</td>\n",
              "      <td>0</td>\n",
              "      <td>0</td>\n",
              "      <td>0</td>\n",
              "      <td>0</td>\n",
              "      <td>0</td>\n",
              "      <td>0</td>\n",
              "      <td>0</td>\n",
              "      <td>0</td>\n",
              "      <td>0</td>\n",
              "      <td>0</td>\n",
              "      <td>0</td>\n",
              "      <td>0</td>\n",
              "      <td>0</td>\n",
              "      <td>0</td>\n",
              "      <td>0</td>\n",
              "      <td>0</td>\n",
              "      <td>0</td>\n",
              "      <td>0</td>\n",
              "      <td>0</td>\n",
              "      <td>0</td>\n",
              "      <td>0</td>\n",
              "      <td>...</td>\n",
              "      <td>0</td>\n",
              "      <td>0</td>\n",
              "      <td>0</td>\n",
              "      <td>0</td>\n",
              "      <td>0</td>\n",
              "      <td>0</td>\n",
              "      <td>0</td>\n",
              "      <td>0</td>\n",
              "      <td>0</td>\n",
              "      <td>0</td>\n",
              "      <td>0</td>\n",
              "      <td>0</td>\n",
              "      <td>0</td>\n",
              "      <td>0</td>\n",
              "      <td>0</td>\n",
              "      <td>0</td>\n",
              "      <td>0</td>\n",
              "      <td>0</td>\n",
              "      <td>0</td>\n",
              "      <td>0</td>\n",
              "      <td>0</td>\n",
              "      <td>0</td>\n",
              "      <td>0</td>\n",
              "      <td>0</td>\n",
              "      <td>0</td>\n",
              "      <td>0</td>\n",
              "      <td>0</td>\n",
              "      <td>0</td>\n",
              "      <td>0</td>\n",
              "      <td>0</td>\n",
              "      <td>0</td>\n",
              "      <td>0</td>\n",
              "      <td>0</td>\n",
              "      <td>0</td>\n",
              "      <td>0</td>\n",
              "      <td>0</td>\n",
              "      <td>0</td>\n",
              "      <td>0</td>\n",
              "      <td>0</td>\n",
              "      <td>0</td>\n",
              "    </tr>\n",
              "    <tr>\n",
              "      <th>1</th>\n",
              "      <td>20</td>\n",
              "      <td>83</td>\n",
              "      <td>4.1500</td>\n",
              "      <td>1</td>\n",
              "      <td>0</td>\n",
              "      <td>0</td>\n",
              "      <td>0</td>\n",
              "      <td>0</td>\n",
              "      <td>0</td>\n",
              "      <td>1</td>\n",
              "      <td>0</td>\n",
              "      <td>0</td>\n",
              "      <td>0</td>\n",
              "      <td>0</td>\n",
              "      <td>0</td>\n",
              "      <td>0</td>\n",
              "      <td>0</td>\n",
              "      <td>0</td>\n",
              "      <td>0</td>\n",
              "      <td>0</td>\n",
              "      <td>0</td>\n",
              "      <td>0</td>\n",
              "      <td>0</td>\n",
              "      <td>0</td>\n",
              "      <td>0</td>\n",
              "      <td>0</td>\n",
              "      <td>0</td>\n",
              "      <td>0</td>\n",
              "      <td>0</td>\n",
              "      <td>0</td>\n",
              "      <td>0</td>\n",
              "      <td>0</td>\n",
              "      <td>0</td>\n",
              "      <td>0</td>\n",
              "      <td>0</td>\n",
              "      <td>0</td>\n",
              "      <td>0</td>\n",
              "      <td>0</td>\n",
              "      <td>0</td>\n",
              "      <td>0</td>\n",
              "      <td>...</td>\n",
              "      <td>0</td>\n",
              "      <td>0</td>\n",
              "      <td>0</td>\n",
              "      <td>0</td>\n",
              "      <td>0</td>\n",
              "      <td>0</td>\n",
              "      <td>0</td>\n",
              "      <td>0</td>\n",
              "      <td>0</td>\n",
              "      <td>0</td>\n",
              "      <td>0</td>\n",
              "      <td>0</td>\n",
              "      <td>0</td>\n",
              "      <td>0</td>\n",
              "      <td>0</td>\n",
              "      <td>0</td>\n",
              "      <td>0</td>\n",
              "      <td>0</td>\n",
              "      <td>0</td>\n",
              "      <td>0</td>\n",
              "      <td>0</td>\n",
              "      <td>0</td>\n",
              "      <td>0</td>\n",
              "      <td>0</td>\n",
              "      <td>0</td>\n",
              "      <td>0</td>\n",
              "      <td>0</td>\n",
              "      <td>0</td>\n",
              "      <td>0</td>\n",
              "      <td>0</td>\n",
              "      <td>0</td>\n",
              "      <td>0</td>\n",
              "      <td>0</td>\n",
              "      <td>0</td>\n",
              "      <td>0</td>\n",
              "      <td>1</td>\n",
              "      <td>0</td>\n",
              "      <td>0</td>\n",
              "      <td>0</td>\n",
              "      <td>0</td>\n",
              "    </tr>\n",
              "    <tr>\n",
              "      <th>2</th>\n",
              "      <td>99</td>\n",
              "      <td>150</td>\n",
              "      <td>1.5151</td>\n",
              "      <td>1</td>\n",
              "      <td>0</td>\n",
              "      <td>0</td>\n",
              "      <td>0</td>\n",
              "      <td>0</td>\n",
              "      <td>0</td>\n",
              "      <td>0</td>\n",
              "      <td>0</td>\n",
              "      <td>0</td>\n",
              "      <td>0</td>\n",
              "      <td>0</td>\n",
              "      <td>0</td>\n",
              "      <td>0</td>\n",
              "      <td>0</td>\n",
              "      <td>0</td>\n",
              "      <td>0</td>\n",
              "      <td>0</td>\n",
              "      <td>0</td>\n",
              "      <td>0</td>\n",
              "      <td>0</td>\n",
              "      <td>0</td>\n",
              "      <td>0</td>\n",
              "      <td>0</td>\n",
              "      <td>0</td>\n",
              "      <td>0</td>\n",
              "      <td>0</td>\n",
              "      <td>0</td>\n",
              "      <td>0</td>\n",
              "      <td>0</td>\n",
              "      <td>0</td>\n",
              "      <td>0</td>\n",
              "      <td>0</td>\n",
              "      <td>0</td>\n",
              "      <td>0</td>\n",
              "      <td>0</td>\n",
              "      <td>0</td>\n",
              "      <td>0</td>\n",
              "      <td>...</td>\n",
              "      <td>0</td>\n",
              "      <td>0</td>\n",
              "      <td>0</td>\n",
              "      <td>0</td>\n",
              "      <td>0</td>\n",
              "      <td>0</td>\n",
              "      <td>0</td>\n",
              "      <td>0</td>\n",
              "      <td>0</td>\n",
              "      <td>0</td>\n",
              "      <td>0</td>\n",
              "      <td>0</td>\n",
              "      <td>0</td>\n",
              "      <td>0</td>\n",
              "      <td>0</td>\n",
              "      <td>0</td>\n",
              "      <td>0</td>\n",
              "      <td>0</td>\n",
              "      <td>0</td>\n",
              "      <td>0</td>\n",
              "      <td>0</td>\n",
              "      <td>0</td>\n",
              "      <td>0</td>\n",
              "      <td>0</td>\n",
              "      <td>0</td>\n",
              "      <td>0</td>\n",
              "      <td>0</td>\n",
              "      <td>0</td>\n",
              "      <td>0</td>\n",
              "      <td>0</td>\n",
              "      <td>0</td>\n",
              "      <td>0</td>\n",
              "      <td>0</td>\n",
              "      <td>0</td>\n",
              "      <td>0</td>\n",
              "      <td>0</td>\n",
              "      <td>0</td>\n",
              "      <td>0</td>\n",
              "      <td>0</td>\n",
              "      <td>0</td>\n",
              "    </tr>\n",
              "    <tr>\n",
              "      <th>3</th>\n",
              "      <td>40</td>\n",
              "      <td>40</td>\n",
              "      <td>1.0000</td>\n",
              "      <td>0</td>\n",
              "      <td>0</td>\n",
              "      <td>0</td>\n",
              "      <td>0</td>\n",
              "      <td>0</td>\n",
              "      <td>0</td>\n",
              "      <td>0</td>\n",
              "      <td>0</td>\n",
              "      <td>0</td>\n",
              "      <td>0</td>\n",
              "      <td>0</td>\n",
              "      <td>0</td>\n",
              "      <td>0</td>\n",
              "      <td>0</td>\n",
              "      <td>0</td>\n",
              "      <td>0</td>\n",
              "      <td>1</td>\n",
              "      <td>0</td>\n",
              "      <td>0</td>\n",
              "      <td>0</td>\n",
              "      <td>0</td>\n",
              "      <td>0</td>\n",
              "      <td>0</td>\n",
              "      <td>0</td>\n",
              "      <td>0</td>\n",
              "      <td>0</td>\n",
              "      <td>0</td>\n",
              "      <td>0</td>\n",
              "      <td>0</td>\n",
              "      <td>0</td>\n",
              "      <td>0</td>\n",
              "      <td>0</td>\n",
              "      <td>0</td>\n",
              "      <td>0</td>\n",
              "      <td>0</td>\n",
              "      <td>0</td>\n",
              "      <td>0</td>\n",
              "      <td>...</td>\n",
              "      <td>0</td>\n",
              "      <td>0</td>\n",
              "      <td>0</td>\n",
              "      <td>0</td>\n",
              "      <td>0</td>\n",
              "      <td>0</td>\n",
              "      <td>0</td>\n",
              "      <td>0</td>\n",
              "      <td>0</td>\n",
              "      <td>0</td>\n",
              "      <td>0</td>\n",
              "      <td>0</td>\n",
              "      <td>0</td>\n",
              "      <td>0</td>\n",
              "      <td>0</td>\n",
              "      <td>0</td>\n",
              "      <td>0</td>\n",
              "      <td>0</td>\n",
              "      <td>0</td>\n",
              "      <td>0</td>\n",
              "      <td>0</td>\n",
              "      <td>0</td>\n",
              "      <td>0</td>\n",
              "      <td>1</td>\n",
              "      <td>0</td>\n",
              "      <td>0</td>\n",
              "      <td>0</td>\n",
              "      <td>0</td>\n",
              "      <td>0</td>\n",
              "      <td>0</td>\n",
              "      <td>0</td>\n",
              "      <td>0</td>\n",
              "      <td>0</td>\n",
              "      <td>0</td>\n",
              "      <td>0</td>\n",
              "      <td>0</td>\n",
              "      <td>0</td>\n",
              "      <td>0</td>\n",
              "      <td>0</td>\n",
              "      <td>0</td>\n",
              "    </tr>\n",
              "    <tr>\n",
              "      <th>4</th>\n",
              "      <td>12</td>\n",
              "      <td>234</td>\n",
              "      <td>19.5000</td>\n",
              "      <td>1</td>\n",
              "      <td>0</td>\n",
              "      <td>0</td>\n",
              "      <td>0</td>\n",
              "      <td>0</td>\n",
              "      <td>0</td>\n",
              "      <td>0</td>\n",
              "      <td>0</td>\n",
              "      <td>0</td>\n",
              "      <td>0</td>\n",
              "      <td>0</td>\n",
              "      <td>0</td>\n",
              "      <td>0</td>\n",
              "      <td>0</td>\n",
              "      <td>0</td>\n",
              "      <td>0</td>\n",
              "      <td>0</td>\n",
              "      <td>0</td>\n",
              "      <td>0</td>\n",
              "      <td>0</td>\n",
              "      <td>0</td>\n",
              "      <td>0</td>\n",
              "      <td>0</td>\n",
              "      <td>0</td>\n",
              "      <td>0</td>\n",
              "      <td>0</td>\n",
              "      <td>0</td>\n",
              "      <td>0</td>\n",
              "      <td>0</td>\n",
              "      <td>0</td>\n",
              "      <td>0</td>\n",
              "      <td>0</td>\n",
              "      <td>0</td>\n",
              "      <td>0</td>\n",
              "      <td>0</td>\n",
              "      <td>0</td>\n",
              "      <td>0</td>\n",
              "      <td>...</td>\n",
              "      <td>0</td>\n",
              "      <td>0</td>\n",
              "      <td>0</td>\n",
              "      <td>0</td>\n",
              "      <td>0</td>\n",
              "      <td>0</td>\n",
              "      <td>0</td>\n",
              "      <td>0</td>\n",
              "      <td>1</td>\n",
              "      <td>0</td>\n",
              "      <td>0</td>\n",
              "      <td>0</td>\n",
              "      <td>0</td>\n",
              "      <td>0</td>\n",
              "      <td>0</td>\n",
              "      <td>0</td>\n",
              "      <td>0</td>\n",
              "      <td>0</td>\n",
              "      <td>0</td>\n",
              "      <td>0</td>\n",
              "      <td>0</td>\n",
              "      <td>0</td>\n",
              "      <td>0</td>\n",
              "      <td>0</td>\n",
              "      <td>0</td>\n",
              "      <td>0</td>\n",
              "      <td>0</td>\n",
              "      <td>0</td>\n",
              "      <td>0</td>\n",
              "      <td>0</td>\n",
              "      <td>0</td>\n",
              "      <td>0</td>\n",
              "      <td>0</td>\n",
              "      <td>0</td>\n",
              "      <td>0</td>\n",
              "      <td>0</td>\n",
              "      <td>0</td>\n",
              "      <td>0</td>\n",
              "      <td>0</td>\n",
              "      <td>0</td>\n",
              "    </tr>\n",
              "  </tbody>\n",
              "</table>\n",
              "<p>5 rows × 1559 columns</p>\n",
              "</div>"
            ],
            "text/plain": [
              "   feature_1  feature_2  feature_3  ...  feature_1557  feature_1558  Class\n",
              "0        100        160     1.6000  ...             0             0      0\n",
              "1         20         83     4.1500  ...             0             0      0\n",
              "2         99        150     1.5151  ...             0             0      0\n",
              "3         40         40     1.0000  ...             0             0      0\n",
              "4         12        234    19.5000  ...             0             0      0\n",
              "\n",
              "[5 rows x 1559 columns]"
            ]
          },
          "metadata": {
            "tags": []
          },
          "execution_count": 3
        }
      ]
    },
    {
      "cell_type": "code",
      "metadata": {
        "id": "TTlfch3FTVYp"
      },
      "source": [
        "from sklearn.model_selection import train_test_split\n",
        "\n",
        "X, X_test, y, y_test = train_test_split(train.drop(['Class'], axis=1), train['Class'], test_size=0.10)\n",
        "#X = train.drop(['Class'], axis=1)\n",
        "#y = train['Class']\n",
        "bool_train_labels = train['Class'] != 0"
      ],
      "execution_count": null,
      "outputs": []
    },
    {
      "cell_type": "code",
      "metadata": {
        "id": "PygyJp-bRBrE"
      },
      "source": [
        "from lightgbm import LGBMClassifier\n",
        "from sklearn.metrics import log_loss, roc_auc_score"
      ],
      "execution_count": null,
      "outputs": []
    },
    {
      "cell_type": "code",
      "metadata": {
        "id": "EEZ-nPlOQx-f",
        "outputId": "c8a89784-d733-4628-fac0-2bd035ce6c20",
        "colab": {
          "base_uri": "https://localhost:8080/",
          "height": 1000
        }
      },
      "source": [
        "err = []\n",
        "y_pred_tot_lgm = []\n",
        "\n",
        "from sklearn.model_selection import StratifiedKFold\n",
        "\n",
        "fold = StratifiedKFold(n_splits=15, shuffle=True, random_state=2020)\n",
        "i = 1\n",
        "for train_index, test_index in fold.split(X, y):\n",
        "    x_train, x_val = X.iloc[train_index], X.iloc[test_index]\n",
        "    y_train, y_val = y[train_index], y[test_index]\n",
        "    m = LGBMClassifier(boosting_type='gbdt',\n",
        "                       max_depth=5,\n",
        "                       learning_rate=0.05,\n",
        "                       n_estimators=5000,\n",
        "                       min_child_weight=0.01,\n",
        "                       colsample_bytree=0.5,\n",
        "                       num_leaves=30,\n",
        "                       random_state=1994)\n",
        "    m.fit(x_train, y_train,\n",
        "          eval_set=[(x_train,y_train),(x_val, y_val)],\n",
        "          early_stopping_rounds=200,\n",
        "          eval_metric='auc',\n",
        "          verbose=200)\n",
        "    pred_y = m.predict_proba(x_val)[:,-1]\n",
        "    print(\"err_lgm: \",roc_auc_score(y_val,pred_y))\n",
        "    err.append(roc_auc_score(y_val, pred_y))\n",
        "    pred_test = m.predict_proba(test)[:,-1]\n",
        "    i = i + 1\n",
        "    y_pred_tot_lgm.append(pred_test)"
      ],
      "execution_count": null,
      "outputs": [
        {
          "output_type": "stream",
          "text": [
            "Training until validation scores don't improve for 200 rounds.\n",
            "[200]\ttraining's auc: 0.972411\ttraining's binary_logloss: 0.115031\tvalid_1's auc: 0.917593\tvalid_1's binary_logloss: 0.187945\n",
            "Early stopping, best iteration is:\n",
            "[23]\ttraining's auc: 0.94124\ttraining's binary_logloss: 0.169547\tvalid_1's auc: 0.924074\tvalid_1's binary_logloss: 0.181154\n",
            "err_lgm:  0.9240740740740742\n",
            "Training until validation scores don't improve for 200 rounds.\n",
            "[200]\ttraining's auc: 0.972886\ttraining's binary_logloss: 0.116249\tvalid_1's auc: 0.969907\tvalid_1's binary_logloss: 0.128151\n",
            "Early stopping, best iteration is:\n",
            "[12]\ttraining's auc: 0.932187\ttraining's binary_logloss: 0.195979\tvalid_1's auc: 0.980093\tvalid_1's binary_logloss: 0.173227\n",
            "err_lgm:  0.9800925925925926\n",
            "Training until validation scores don't improve for 200 rounds.\n",
            "[200]\ttraining's auc: 0.972859\ttraining's binary_logloss: 0.114812\tvalid_1's auc: 0.9\tvalid_1's binary_logloss: 0.206695\n",
            "Early stopping, best iteration is:\n",
            "[17]\ttraining's auc: 0.940844\ttraining's binary_logloss: 0.181003\tvalid_1's auc: 0.940741\tvalid_1's binary_logloss: 0.20172\n",
            "err_lgm:  0.9407407407407408\n",
            "Training until validation scores don't improve for 200 rounds.\n",
            "[200]\ttraining's auc: 0.972754\ttraining's binary_logloss: 0.113253\tvalid_1's auc: 0.824074\tvalid_1's binary_logloss: 0.217136\n",
            "Early stopping, best iteration is:\n",
            "[34]\ttraining's auc: 0.947478\ttraining's binary_logloss: 0.153388\tvalid_1's auc: 0.891667\tvalid_1's binary_logloss: 0.199702\n",
            "err_lgm:  0.8916666666666667\n",
            "Training until validation scores don't improve for 200 rounds.\n",
            "[200]\ttraining's auc: 0.971708\ttraining's binary_logloss: 0.117042\tvalid_1's auc: 0.909259\tvalid_1's binary_logloss: 0.163399\n",
            "[400]\ttraining's auc: 0.983978\ttraining's binary_logloss: 0.0946326\tvalid_1's auc: 0.919444\tvalid_1's binary_logloss: 0.155467\n",
            "[600]\ttraining's auc: 0.988931\ttraining's binary_logloss: 0.0816358\tvalid_1's auc: 0.922222\tvalid_1's binary_logloss: 0.154025\n",
            "Early stopping, best iteration is:\n",
            "[593]\ttraining's auc: 0.988767\ttraining's binary_logloss: 0.0820333\tvalid_1's auc: 0.922222\tvalid_1's binary_logloss: 0.153901\n",
            "err_lgm:  0.9222222222222222\n",
            "Training until validation scores don't improve for 200 rounds.\n",
            "[200]\ttraining's auc: 0.9759\ttraining's binary_logloss: 0.111137\tvalid_1's auc: 0.852778\tvalid_1's binary_logloss: 0.240756\n",
            "Early stopping, best iteration is:\n",
            "[31]\ttraining's auc: 0.948268\ttraining's binary_logloss: 0.157637\tvalid_1's auc: 0.878704\tvalid_1's binary_logloss: 0.217444\n",
            "err_lgm:  0.8787037037037037\n",
            "Training until validation scores don't improve for 200 rounds.\n",
            "[200]\ttraining's auc: 0.973197\ttraining's binary_logloss: 0.115096\tvalid_1's auc: 0.916667\tvalid_1's binary_logloss: 0.187358\n",
            "[400]\ttraining's auc: 0.983192\ttraining's binary_logloss: 0.0952487\tvalid_1's auc: 0.921296\tvalid_1's binary_logloss: 0.196017\n",
            "Early stopping, best iteration is:\n",
            "[228]\ttraining's auc: 0.974542\ttraining's binary_logloss: 0.111968\tvalid_1's auc: 0.918519\tvalid_1's binary_logloss: 0.184625\n",
            "err_lgm:  0.9185185185185185\n",
            "Training until validation scores don't improve for 200 rounds.\n",
            "[200]\ttraining's auc: 0.970959\ttraining's binary_logloss: 0.119428\tvalid_1's auc: 0.937037\tvalid_1's binary_logloss: 0.153548\n",
            "Early stopping, best iteration is:\n",
            "[21]\ttraining's auc: 0.943529\ttraining's binary_logloss: 0.174209\tvalid_1's auc: 0.943981\tvalid_1's binary_logloss: 0.18323\n",
            "err_lgm:  0.9439814814814815\n",
            "Training until validation scores don't improve for 200 rounds.\n",
            "[200]\ttraining's auc: 0.973338\ttraining's binary_logloss: 0.113026\tvalid_1's auc: 0.903292\tvalid_1's binary_logloss: 0.202795\n",
            "Early stopping, best iteration is:\n",
            "[39]\ttraining's auc: 0.948815\ttraining's binary_logloss: 0.150015\tvalid_1's auc: 0.891975\tvalid_1's binary_logloss: 0.197312\n",
            "err_lgm:  0.8919753086419754\n",
            "Training until validation scores don't improve for 200 rounds.\n",
            "[200]\ttraining's auc: 0.972587\ttraining's binary_logloss: 0.118307\tvalid_1's auc: 0.960905\tvalid_1's binary_logloss: 0.139772\n",
            "Early stopping, best iteration is:\n",
            "[155]\ttraining's auc: 0.969537\ttraining's binary_logloss: 0.124154\tvalid_1's auc: 0.962963\tvalid_1's binary_logloss: 0.143379\n",
            "err_lgm:  0.962962962962963\n",
            "Training until validation scores don't improve for 200 rounds.\n",
            "[200]\ttraining's auc: 0.972884\ttraining's binary_logloss: 0.116018\tvalid_1's auc: 0.943416\tvalid_1's binary_logloss: 0.140737\n",
            "Early stopping, best iteration is:\n",
            "[159]\ttraining's auc: 0.970971\ttraining's binary_logloss: 0.121208\tvalid_1's auc: 0.941358\tvalid_1's binary_logloss: 0.138779\n",
            "err_lgm:  0.941358024691358\n",
            "Training until validation scores don't improve for 200 rounds.\n",
            "[200]\ttraining's auc: 0.971413\ttraining's binary_logloss: 0.119238\tvalid_1's auc: 0.918724\tvalid_1's binary_logloss: 0.152438\n",
            "Early stopping, best iteration is:\n",
            "[9]\ttraining's auc: 0.926286\ttraining's binary_logloss: 0.210681\tvalid_1's auc: 0.981481\tvalid_1's binary_logloss: 0.188129\n",
            "err_lgm:  0.9814814814814815\n",
            "Training until validation scores don't improve for 200 rounds.\n",
            "[200]\ttraining's auc: 0.969841\ttraining's binary_logloss: 0.118915\tvalid_1's auc: 0.958848\tvalid_1's binary_logloss: 0.146402\n",
            "Early stopping, best iteration is:\n",
            "[61]\ttraining's auc: 0.952287\ttraining's binary_logloss: 0.142966\tvalid_1's auc: 0.958848\tvalid_1's binary_logloss: 0.153194\n",
            "err_lgm:  0.9588477366255144\n",
            "Training until validation scores don't improve for 200 rounds.\n",
            "[200]\ttraining's auc: 0.972852\ttraining's binary_logloss: 0.117042\tvalid_1's auc: 0.963992\tvalid_1's binary_logloss: 0.132973\n",
            "Early stopping, best iteration is:\n",
            "[130]\ttraining's auc: 0.966667\ttraining's binary_logloss: 0.127573\tvalid_1's auc: 0.965021\tvalid_1's binary_logloss: 0.133473\n",
            "err_lgm:  0.9650205761316872\n",
            "Training until validation scores don't improve for 200 rounds.\n",
            "[200]\ttraining's auc: 0.974155\ttraining's binary_logloss: 0.114929\tvalid_1's auc: 0.790123\tvalid_1's binary_logloss: 0.237832\n",
            "Early stopping, best iteration is:\n",
            "[3]\ttraining's auc: 0.921876\ttraining's binary_logloss: 0.244464\tvalid_1's auc: 0.835905\tvalid_1's binary_logloss: 0.250021\n",
            "err_lgm:  0.8359053497942386\n"
          ],
          "name": "stdout"
        }
      ]
    },
    {
      "cell_type": "code",
      "metadata": {
        "id": "fmvtox8YQ6-l",
        "outputId": "70de47e5-4407-4de7-fff0-785b8a6588a4",
        "colab": {
          "base_uri": "https://localhost:8080/",
          "height": 34
        }
      },
      "source": [
        "np.mean(err, 0)"
      ],
      "execution_count": null,
      "outputs": [
        {
          "output_type": "execute_result",
          "data": {
            "text/plain": [
              "0.9291700960219479"
            ]
          },
          "metadata": {
            "tags": []
          },
          "execution_count": 7
        }
      ]
    },
    {
      "cell_type": "code",
      "metadata": {
        "id": "WfsNsgWZQ7ed",
        "outputId": "a6d96d3a-ea78-4d6a-fa35-63a8006b35b3",
        "colab": {
          "base_uri": "https://localhost:8080/",
          "height": 1000
        }
      },
      "source": [
        "from xgboost import XGBClassifier\n",
        "\n",
        "errxgb = []\n",
        "y_pred_tot_xgb = []\n",
        "\n",
        "from sklearn.model_selection import KFold,StratifiedKFold\n",
        "\n",
        "fold = StratifiedKFold(n_splits=15, shuffle=True, random_state=2020)\n",
        "i = 1\n",
        "for train_index, test_index in fold.split(X,y):\n",
        "    x_train, x_val = X.iloc[train_index], X.iloc[test_index]\n",
        "    y_train, y_val = y[train_index], y[test_index]\n",
        "    m = XGBClassifier(boosting_type='gbdt',\n",
        "                      max_depth=5,\n",
        "                      learning_rate=0.07,\n",
        "                      n_estimators=5000,\n",
        "                      random_state=1994)\n",
        "    m.fit(x_train, y_train,\n",
        "          eval_set=[(x_train,y_train),(x_val, y_val)],\n",
        "          early_stopping_rounds=200,\n",
        "          eval_metric='logloss',\n",
        "          verbose=200)\n",
        "    pred_y = m.predict_proba(x_val)[:,-1]\n",
        "    print(\"err_xgb: \",roc_auc_score(y_val,pred_y))\n",
        "    errxgb.append(roc_auc_score(y_val, pred_y))\n",
        "    pred_test = m.predict_proba(test)[:,-1]\n",
        "    i = i + 1\n",
        "    y_pred_tot_xgb.append(pred_test)"
      ],
      "execution_count": null,
      "outputs": [
        {
          "output_type": "stream",
          "text": [
            "[0]\tvalidation_0-logloss:0.637433\tvalidation_1-logloss:0.639368\n",
            "Multiple eval metrics have been passed: 'validation_1-logloss' will be used for early stopping.\n",
            "\n",
            "Will train until validation_1-logloss hasn't improved in 200 rounds.\n",
            "[200]\tvalidation_0-logloss:0.089133\tvalidation_1-logloss:0.217638\n",
            "Stopping. Best iteration:\n",
            "[59]\tvalidation_0-logloss:0.122703\tvalidation_1-logloss:0.190871\n",
            "\n",
            "err_xgb:  0.9222222222222223\n",
            "[0]\tvalidation_0-logloss:0.63773\tvalidation_1-logloss:0.635014\n",
            "Multiple eval metrics have been passed: 'validation_1-logloss' will be used for early stopping.\n",
            "\n",
            "Will train until validation_1-logloss hasn't improved in 200 rounds.\n",
            "[200]\tvalidation_0-logloss:0.09221\tvalidation_1-logloss:0.128113\n",
            "Stopping. Best iteration:\n",
            "[83]\tvalidation_0-logloss:0.116794\tvalidation_1-logloss:0.11509\n",
            "\n",
            "err_xgb:  0.9740740740740741\n",
            "[0]\tvalidation_0-logloss:0.637365\tvalidation_1-logloss:0.640369\n",
            "Multiple eval metrics have been passed: 'validation_1-logloss' will be used for early stopping.\n",
            "\n",
            "Will train until validation_1-logloss hasn't improved in 200 rounds.\n",
            "[200]\tvalidation_0-logloss:0.090299\tvalidation_1-logloss:0.220534\n",
            "Stopping. Best iteration:\n",
            "[70]\tvalidation_0-logloss:0.116781\tvalidation_1-logloss:0.209137\n",
            "\n",
            "err_xgb:  0.9060185185185186\n",
            "[0]\tvalidation_0-logloss:0.637152\tvalidation_1-logloss:0.640649\n",
            "Multiple eval metrics have been passed: 'validation_1-logloss' will be used for early stopping.\n",
            "\n",
            "Will train until validation_1-logloss hasn't improved in 200 rounds.\n",
            "[200]\tvalidation_0-logloss:0.089669\tvalidation_1-logloss:0.218388\n",
            "Stopping. Best iteration:\n",
            "[46]\tvalidation_0-logloss:0.134192\tvalidation_1-logloss:0.208816\n",
            "\n",
            "err_xgb:  0.8282407407407408\n",
            "[0]\tvalidation_0-logloss:0.637434\tvalidation_1-logloss:0.639832\n",
            "Multiple eval metrics have been passed: 'validation_1-logloss' will be used for early stopping.\n",
            "\n",
            "Will train until validation_1-logloss hasn't improved in 200 rounds.\n",
            "[200]\tvalidation_0-logloss:0.094219\tvalidation_1-logloss:0.188271\n",
            "[400]\tvalidation_0-logloss:0.072905\tvalidation_1-logloss:0.189128\n",
            "Stopping. Best iteration:\n",
            "[228]\tvalidation_0-logloss:0.089708\tvalidation_1-logloss:0.18447\n",
            "\n",
            "err_xgb:  0.8675925925925927\n",
            "[0]\tvalidation_0-logloss:0.637579\tvalidation_1-logloss:0.641425\n",
            "Multiple eval metrics have been passed: 'validation_1-logloss' will be used for early stopping.\n",
            "\n",
            "Will train until validation_1-logloss hasn't improved in 200 rounds.\n",
            "[200]\tvalidation_0-logloss:0.086372\tvalidation_1-logloss:0.274086\n",
            "Stopping. Best iteration:\n",
            "[45]\tvalidation_0-logloss:0.1347\tvalidation_1-logloss:0.227822\n",
            "\n",
            "err_xgb:  0.861574074074074\n",
            "[0]\tvalidation_0-logloss:0.637094\tvalidation_1-logloss:0.64141\n",
            "Multiple eval metrics have been passed: 'validation_1-logloss' will be used for early stopping.\n",
            "\n",
            "Will train until validation_1-logloss hasn't improved in 200 rounds.\n",
            "[200]\tvalidation_0-logloss:0.09283\tvalidation_1-logloss:0.201351\n",
            "[400]\tvalidation_0-logloss:0.073304\tvalidation_1-logloss:0.197388\n",
            "[600]\tvalidation_0-logloss:0.063359\tvalidation_1-logloss:0.196769\n",
            "Stopping. Best iteration:\n",
            "[447]\tvalidation_0-logloss:0.070373\tvalidation_1-logloss:0.19408\n",
            "\n",
            "err_xgb:  0.9425925925925925\n",
            "[0]\tvalidation_0-logloss:0.637371\tvalidation_1-logloss:0.640497\n",
            "Multiple eval metrics have been passed: 'validation_1-logloss' will be used for early stopping.\n",
            "\n",
            "Will train until validation_1-logloss hasn't improved in 200 rounds.\n",
            "[200]\tvalidation_0-logloss:0.094139\tvalidation_1-logloss:0.180758\n",
            "Stopping. Best iteration:\n",
            "[66]\tvalidation_0-logloss:0.122624\tvalidation_1-logloss:0.166494\n",
            "\n",
            "err_xgb:  0.9171296296296296\n",
            "[0]\tvalidation_0-logloss:0.637178\tvalidation_1-logloss:0.641673\n",
            "Multiple eval metrics have been passed: 'validation_1-logloss' will be used for early stopping.\n",
            "\n",
            "Will train until validation_1-logloss hasn't improved in 200 rounds.\n",
            "[200]\tvalidation_0-logloss:0.087376\tvalidation_1-logloss:0.236845\n",
            "Stopping. Best iteration:\n",
            "[62]\tvalidation_0-logloss:0.116033\tvalidation_1-logloss:0.213964\n",
            "\n",
            "err_xgb:  0.8837448559670782\n",
            "[0]\tvalidation_0-logloss:0.637274\tvalidation_1-logloss:0.639669\n",
            "Multiple eval metrics have been passed: 'validation_1-logloss' will be used for early stopping.\n",
            "\n",
            "Will train until validation_1-logloss hasn't improved in 200 rounds.\n",
            "[200]\tvalidation_0-logloss:0.094153\tvalidation_1-logloss:0.155471\n",
            "[400]\tvalidation_0-logloss:0.074849\tvalidation_1-logloss:0.144943\n",
            "Stopping. Best iteration:\n",
            "[381]\tvalidation_0-logloss:0.076151\tvalidation_1-logloss:0.144018\n",
            "\n",
            "err_xgb:  0.95679012345679\n",
            "[0]\tvalidation_0-logloss:0.637696\tvalidation_1-logloss:0.634501\n",
            "Multiple eval metrics have been passed: 'validation_1-logloss' will be used for early stopping.\n",
            "\n",
            "Will train until validation_1-logloss hasn't improved in 200 rounds.\n",
            "[200]\tvalidation_0-logloss:0.091859\tvalidation_1-logloss:0.146267\n",
            "Stopping. Best iteration:\n",
            "[47]\tvalidation_0-logloss:0.135957\tvalidation_1-logloss:0.129517\n",
            "\n",
            "err_xgb:  0.9459876543209876\n",
            "[0]\tvalidation_0-logloss:0.637804\tvalidation_1-logloss:0.636833\n",
            "Multiple eval metrics have been passed: 'validation_1-logloss' will be used for early stopping.\n",
            "\n",
            "Will train until validation_1-logloss hasn't improved in 200 rounds.\n",
            "[200]\tvalidation_0-logloss:0.094212\tvalidation_1-logloss:0.185712\n",
            "Stopping. Best iteration:\n",
            "[52]\tvalidation_0-logloss:0.132069\tvalidation_1-logloss:0.150958\n",
            "\n",
            "err_xgb:  0.9609053497942386\n",
            "[0]\tvalidation_0-logloss:0.637416\tvalidation_1-logloss:0.639239\n",
            "Multiple eval metrics have been passed: 'validation_1-logloss' will be used for early stopping.\n",
            "\n",
            "Will train until validation_1-logloss hasn't improved in 200 rounds.\n",
            "[200]\tvalidation_0-logloss:0.090951\tvalidation_1-logloss:0.15952\n",
            "Stopping. Best iteration:\n",
            "[155]\tvalidation_0-logloss:0.097\tvalidation_1-logloss:0.155008\n",
            "\n",
            "err_xgb:  0.9506172839506173\n",
            "[0]\tvalidation_0-logloss:0.637469\tvalidation_1-logloss:0.638839\n",
            "Multiple eval metrics have been passed: 'validation_1-logloss' will be used for early stopping.\n",
            "\n",
            "Will train until validation_1-logloss hasn't improved in 200 rounds.\n",
            "[200]\tvalidation_0-logloss:0.092261\tvalidation_1-logloss:0.146709\n",
            "Stopping. Best iteration:\n",
            "[98]\tvalidation_0-logloss:0.111008\tvalidation_1-logloss:0.143714\n",
            "\n",
            "err_xgb:  0.9557613168724279\n",
            "[0]\tvalidation_0-logloss:0.637137\tvalidation_1-logloss:0.639531\n",
            "Multiple eval metrics have been passed: 'validation_1-logloss' will be used for early stopping.\n",
            "\n",
            "Will train until validation_1-logloss hasn't improved in 200 rounds.\n",
            "[200]\tvalidation_0-logloss:0.087415\tvalidation_1-logloss:0.259969\n",
            "Stopping. Best iteration:\n",
            "[39]\tvalidation_0-logloss:0.141008\tvalidation_1-logloss:0.233554\n",
            "\n",
            "err_xgb:  0.8127572016460904\n"
          ],
          "name": "stdout"
        }
      ]
    },
    {
      "cell_type": "code",
      "metadata": {
        "id": "Mx4-vM3lQ7q8",
        "outputId": "0f01b040-9feb-4dc8-ddb2-daaea19515da",
        "colab": {
          "base_uri": "https://localhost:8080/",
          "height": 34
        }
      },
      "source": [
        "np.mean(errxgb,0)"
      ],
      "execution_count": null,
      "outputs": [
        {
          "output_type": "execute_result",
          "data": {
            "text/plain": [
              "0.9124005486968447"
            ]
          },
          "metadata": {
            "tags": []
          },
          "execution_count": 9
        }
      ]
    },
    {
      "cell_type": "code",
      "metadata": {
        "id": "gzlxtIK-Q7T-",
        "outputId": "24fb27e9-7889-4a6e-9c40-d150f39856b3",
        "colab": {
          "base_uri": "https://localhost:8080/",
          "height": 1000
        }
      },
      "source": [
        "!pip install catboost\n",
        "from catboost import CatBoostClassifier,Pool, cv\n",
        "errCB = []\n",
        "y_pred_tot_cb = []\n",
        "from sklearn.model_selection import KFold,StratifiedKFold\n",
        "\n",
        "fold = StratifiedKFold(n_splits=15, shuffle=True, random_state=2020)\n",
        "i = 1\n",
        "for train_index, test_index in fold.split(X,y):\n",
        "    x_train, x_val = X.iloc[train_index], X.iloc[test_index]\n",
        "    y_train, y_val = y[train_index], y[test_index]\n",
        "    m = CatBoostClassifier(n_estimators=1000,\n",
        "                           random_state=1994,\n",
        "                           eval_metric='AUC',\n",
        "                           learning_rate=0.5, \n",
        "                           max_depth=10)\n",
        "    m.fit(x_train, y_train,\n",
        "          eval_set=[(x_train,y_train),(x_val, y_val)],\n",
        "          early_stopping_rounds=200,\n",
        "          verbose=200)\n",
        "    pred_y = m.predict_proba(x_val)[:,-1]\n",
        "    print(i, \"err_cb: \",roc_auc_score(y_val,pred_y))\n",
        "    errCB.append(roc_auc_score(y_val,pred_y))\n",
        "    pred_test = m.predict_proba(test)[:,-1]\n",
        "    i = i + 1\n",
        "    y_pred_tot_cb.append(pred_test)"
      ],
      "execution_count": null,
      "outputs": [
        {
          "output_type": "stream",
          "text": [
            "Collecting catboost\n",
            "\u001b[?25l  Downloading https://files.pythonhosted.org/packages/90/86/c3dcb600b4f9e7584ed90ea9d30a717fb5c0111574675f442c3e7bc19535/catboost-0.24.1-cp36-none-manylinux1_x86_64.whl (66.1MB)\n",
            "\u001b[K     |████████████████████████████████| 66.1MB 57kB/s \n",
            "\u001b[?25hRequirement already satisfied: graphviz in /usr/local/lib/python3.6/dist-packages (from catboost) (0.10.1)\n",
            "Requirement already satisfied: numpy>=1.16.0 in /usr/local/lib/python3.6/dist-packages (from catboost) (1.18.5)\n",
            "Requirement already satisfied: matplotlib in /usr/local/lib/python3.6/dist-packages (from catboost) (3.2.2)\n",
            "Requirement already satisfied: pandas>=0.24.0 in /usr/local/lib/python3.6/dist-packages (from catboost) (1.0.5)\n",
            "Requirement already satisfied: plotly in /usr/local/lib/python3.6/dist-packages (from catboost) (4.4.1)\n",
            "Requirement already satisfied: scipy in /usr/local/lib/python3.6/dist-packages (from catboost) (1.4.1)\n",
            "Requirement already satisfied: six in /usr/local/lib/python3.6/dist-packages (from catboost) (1.15.0)\n",
            "Requirement already satisfied: python-dateutil>=2.1 in /usr/local/lib/python3.6/dist-packages (from matplotlib->catboost) (2.8.1)\n",
            "Requirement already satisfied: pyparsing!=2.0.4,!=2.1.2,!=2.1.6,>=2.0.1 in /usr/local/lib/python3.6/dist-packages (from matplotlib->catboost) (2.4.7)\n",
            "Requirement already satisfied: kiwisolver>=1.0.1 in /usr/local/lib/python3.6/dist-packages (from matplotlib->catboost) (1.2.0)\n",
            "Requirement already satisfied: cycler>=0.10 in /usr/local/lib/python3.6/dist-packages (from matplotlib->catboost) (0.10.0)\n",
            "Requirement already satisfied: pytz>=2017.2 in /usr/local/lib/python3.6/dist-packages (from pandas>=0.24.0->catboost) (2018.9)\n",
            "Requirement already satisfied: retrying>=1.3.3 in /usr/local/lib/python3.6/dist-packages (from plotly->catboost) (1.3.3)\n",
            "Installing collected packages: catboost\n",
            "Successfully installed catboost-0.24.1\n",
            "0:\ttest: 0.8001527\ttest1: 0.8560185\tbest: 0.8560185 (0)\ttotal: 114ms\tremaining: 1m 54s\n",
            "200:\ttest: 0.9997514\ttest1: 0.8351852\tbest: 0.9074074 (5)\ttotal: 10.7s\tremaining: 42.4s\n",
            "Stopped by overfitting detector  (200 iterations wait)\n",
            "\n",
            "bestTest = 0.9074074074\n",
            "bestIteration = 5\n",
            "\n",
            "Shrink model to first 6 iterations.\n",
            "1 err_cb:  0.9074074074074073\n",
            "0:\ttest: 0.7899312\ttest1: 0.9425926\tbest: 0.9425926 (0)\ttotal: 64.4ms\tremaining: 1m 4s\n",
            "200:\ttest: 0.9997514\ttest1: 0.9509259\tbest: 0.9800926 (6)\ttotal: 11.4s\tremaining: 45.4s\n",
            "Stopped by overfitting detector  (200 iterations wait)\n",
            "\n",
            "bestTest = 0.9800925926\n",
            "bestIteration = 6\n",
            "\n",
            "Shrink model to first 7 iterations.\n",
            "2 err_cb:  0.9800925925925925\n",
            "0:\ttest: 0.6834994\ttest1: 0.7398148\tbest: 0.7398148 (0)\ttotal: 61.4ms\tremaining: 1m 1s\n",
            "200:\ttest: 0.9996991\ttest1: 0.8407407\tbest: 0.9148148 (3)\ttotal: 11.7s\tremaining: 46.5s\n",
            "Stopped by overfitting detector  (200 iterations wait)\n",
            "\n",
            "bestTest = 0.9148148148\n",
            "bestIteration = 3\n",
            "\n",
            "Shrink model to first 4 iterations.\n",
            "3 err_cb:  0.9148148148148147\n",
            "0:\ttest: 0.8392086\ttest1: 0.7722222\tbest: 0.7722222 (0)\ttotal: 59.3ms\tremaining: 59.3s\n",
            "200:\ttest: 0.9996991\ttest1: 0.8407407\tbest: 0.8481481 (151)\ttotal: 11.4s\tremaining: 45.3s\n",
            "Stopped by overfitting detector  (200 iterations wait)\n",
            "\n",
            "bestTest = 0.8481481481\n",
            "bestIteration = 151\n",
            "\n",
            "Shrink model to first 152 iterations.\n",
            "4 err_cb:  0.8481481481481481\n",
            "0:\ttest: 0.7960800\ttest1: 0.6722222\tbest: 0.6722222 (0)\ttotal: 58.1ms\tremaining: 58s\n",
            "200:\ttest: 0.9996991\ttest1: 0.9351852\tbest: 0.9453704 (21)\ttotal: 11.5s\tremaining: 45.8s\n",
            "Stopped by overfitting detector  (200 iterations wait)\n",
            "\n",
            "bestTest = 0.9453703704\n",
            "bestIteration = 21\n",
            "\n",
            "Shrink model to first 22 iterations.\n",
            "5 err_cb:  0.9453703703703703\n",
            "0:\ttest: 0.7922385\ttest1: 0.7037037\tbest: 0.7037037 (0)\ttotal: 61.1ms\tremaining: 1m 1s\n",
            "200:\ttest: 0.9998782\ttest1: 0.8250000\tbest: 0.8388889 (69)\ttotal: 11.5s\tremaining: 45.7s\n",
            "Stopped by overfitting detector  (200 iterations wait)\n",
            "\n",
            "bestTest = 0.8388888889\n",
            "bestIteration = 69\n",
            "\n",
            "Shrink model to first 70 iterations.\n",
            "6 err_cb:  0.8388888888888888\n",
            "0:\ttest: 0.6899043\ttest1: 0.6263889\tbest: 0.6263889 (0)\ttotal: 56.9ms\tremaining: 56.9s\n",
            "200:\ttest: 0.9996991\ttest1: 0.9027778\tbest: 0.9166667 (16)\ttotal: 10.9s\tremaining: 43.2s\n",
            "Stopped by overfitting detector  (200 iterations wait)\n",
            "\n",
            "bestTest = 0.9166666667\n",
            "bestIteration = 16\n",
            "\n",
            "Shrink model to first 17 iterations.\n",
            "7 err_cb:  0.9166666666666666\n",
            "0:\ttest: 0.7200740\ttest1: 0.7185185\tbest: 0.7185185 (0)\ttotal: 54.6ms\tremaining: 54.5s\n",
            "200:\ttest: 0.9996420\ttest1: 0.9129630\tbest: 0.9157407 (197)\ttotal: 10.3s\tremaining: 41s\n",
            "Stopped by overfitting detector  (200 iterations wait)\n",
            "\n",
            "bestTest = 0.9157407407\n",
            "bestIteration = 197\n",
            "\n",
            "Shrink model to first 198 iterations.\n",
            "8 err_cb:  0.9157407407407407\n",
            "0:\ttest: 0.8155354\ttest1: 0.7407407\tbest: 0.7407407 (0)\ttotal: 58.2ms\tremaining: 58.2s\n",
            "200:\ttest: 0.9998421\ttest1: 0.8600823\tbest: 0.8858025 (8)\ttotal: 11.5s\tremaining: 45.9s\n",
            "Stopped by overfitting detector  (200 iterations wait)\n",
            "\n",
            "bestTest = 0.8858024691\n",
            "bestIteration = 8\n",
            "\n",
            "Shrink model to first 9 iterations.\n",
            "9 err_cb:  0.8858024691358025\n",
            "0:\ttest: 0.6890572\ttest1: 0.6743827\tbest: 0.6743827 (0)\ttotal: 54.5ms\tremaining: 54.5s\n",
            "200:\ttest: 0.9996446\ttest1: 0.8641975\tbest: 0.9043210 (17)\ttotal: 10.4s\tremaining: 41.3s\n",
            "Stopped by overfitting detector  (200 iterations wait)\n",
            "\n",
            "bestTest = 0.9043209877\n",
            "bestIteration = 17\n",
            "\n",
            "Shrink model to first 18 iterations.\n",
            "10 err_cb:  0.904320987654321\n",
            "0:\ttest: 0.7461527\ttest1: 0.6512346\tbest: 0.6512346 (0)\ttotal: 57.3ms\tremaining: 57.3s\n",
            "200:\ttest: 0.9997014\ttest1: 0.8899177\tbest: 0.9403292 (18)\ttotal: 11.4s\tremaining: 45.5s\n",
            "Stopped by overfitting detector  (200 iterations wait)\n",
            "\n",
            "bestTest = 0.9403292181\n",
            "bestIteration = 18\n",
            "\n",
            "Shrink model to first 19 iterations.\n",
            "11 err_cb:  0.9403292181069959\n",
            "0:\ttest: 0.8260039\ttest1: 0.9753086\tbest: 0.9753086 (0)\ttotal: 32.2ms\tremaining: 32.1s\n",
            "200:\ttest: 0.9997014\ttest1: 0.9372428\tbest: 0.9768519 (1)\ttotal: 11.5s\tremaining: 45.7s\n",
            "Stopped by overfitting detector  (200 iterations wait)\n",
            "\n",
            "bestTest = 0.9768518519\n",
            "bestIteration = 1\n",
            "\n",
            "Shrink model to first 2 iterations.\n",
            "12 err_cb:  0.9768518518518519\n",
            "0:\ttest: 0.8620514\ttest1: 0.8400206\tbest: 0.8400206 (0)\ttotal: 56.7ms\tremaining: 56.6s\n",
            "200:\ttest: 0.9996446\ttest1: 0.9454733\tbest: 0.9547325 (14)\ttotal: 10.3s\tremaining: 41.1s\n",
            "Stopped by overfitting detector  (200 iterations wait)\n",
            "\n",
            "bestTest = 0.9547325103\n",
            "bestIteration = 14\n",
            "\n",
            "Shrink model to first 15 iterations.\n",
            "13 err_cb:  0.9547325102880658\n",
            "0:\ttest: 0.7920961\ttest1: 0.7793210\tbest: 0.7793210 (0)\ttotal: 58.2ms\tremaining: 58.2s\n",
            "200:\ttest: 0.9997532\ttest1: 0.9567901\tbest: 0.9691358 (4)\ttotal: 11.5s\tremaining: 45.7s\n",
            "Stopped by overfitting detector  (200 iterations wait)\n",
            "\n",
            "bestTest = 0.9691358025\n",
            "bestIteration = 4\n",
            "\n",
            "Shrink model to first 5 iterations.\n",
            "14 err_cb:  0.9691358024691358\n",
            "0:\ttest: 0.7998327\ttest1: 0.7613169\tbest: 0.7613169 (0)\ttotal: 59.2ms\tremaining: 59.2s\n",
            "200:\ttest: 0.9998001\ttest1: 0.8292181\tbest: 0.8508230 (82)\ttotal: 11.3s\tremaining: 45s\n",
            "Stopped by overfitting detector  (200 iterations wait)\n",
            "\n",
            "bestTest = 0.8508230453\n",
            "bestIteration = 82\n",
            "\n",
            "Shrink model to first 83 iterations.\n",
            "15 err_cb:  0.8508230452674898\n"
          ],
          "name": "stdout"
        }
      ]
    },
    {
      "cell_type": "code",
      "metadata": {
        "id": "K2ISOv7HRl2l",
        "outputId": "cfe72224-7241-4917-915f-ff6c5161e44a",
        "colab": {
          "base_uri": "https://localhost:8080/",
          "height": 34
        }
      },
      "source": [
        "np.mean(errCB, 0)"
      ],
      "execution_count": null,
      "outputs": [
        {
          "output_type": "execute_result",
          "data": {
            "text/plain": [
              "0.916608367626886"
            ]
          },
          "metadata": {
            "tags": []
          },
          "execution_count": 12
        }
      ]
    },
    {
      "cell_type": "code",
      "metadata": {
        "id": "uXugitBBRmOK",
        "outputId": "6e25d238-052d-4c87-80a1-225137db3ab8",
        "colab": {
          "base_uri": "https://localhost:8080/",
          "height": 34
        }
      },
      "source": [
        "(np.mean(errxgb, 0) + np.mean(err, 0) + np.mean(errCB, 0))/3"
      ],
      "execution_count": null,
      "outputs": [
        {
          "output_type": "execute_result",
          "data": {
            "text/plain": [
              "0.9193930041152262"
            ]
          },
          "metadata": {
            "tags": []
          },
          "execution_count": 13
        }
      ]
    },
    {
      "cell_type": "code",
      "metadata": {
        "id": "hKA11hzDRlsC",
        "outputId": "1651c109-c141-4bf8-be1e-62643a25436c",
        "colab": {
          "base_uri": "https://localhost:8080/",
          "height": 204
        }
      },
      "source": [
        "submission = pd.DataFrame()\n",
        "submission['Class'] = (np.mean(y_pred_tot_lgm, 0)+np.mean(y_pred_tot_xgb, 0)+np.mean(y_pred_tot_cb, 0))/3\n",
        "submission.to_csv('Stacking.csv', index=False)\n",
        "submission.head()"
      ],
      "execution_count": null,
      "outputs": [
        {
          "output_type": "execute_result",
          "data": {
            "text/html": [
              "<div>\n",
              "<style scoped>\n",
              "    .dataframe tbody tr th:only-of-type {\n",
              "        vertical-align: middle;\n",
              "    }\n",
              "\n",
              "    .dataframe tbody tr th {\n",
              "        vertical-align: top;\n",
              "    }\n",
              "\n",
              "    .dataframe thead th {\n",
              "        text-align: right;\n",
              "    }\n",
              "</style>\n",
              "<table border=\"1\" class=\"dataframe\">\n",
              "  <thead>\n",
              "    <tr style=\"text-align: right;\">\n",
              "      <th></th>\n",
              "      <th>Class</th>\n",
              "    </tr>\n",
              "  </thead>\n",
              "  <tbody>\n",
              "    <tr>\n",
              "      <th>0</th>\n",
              "      <td>0.480789</td>\n",
              "    </tr>\n",
              "    <tr>\n",
              "      <th>1</th>\n",
              "      <td>0.021812</td>\n",
              "    </tr>\n",
              "    <tr>\n",
              "      <th>2</th>\n",
              "      <td>0.067598</td>\n",
              "    </tr>\n",
              "    <tr>\n",
              "      <th>3</th>\n",
              "      <td>0.247244</td>\n",
              "    </tr>\n",
              "    <tr>\n",
              "      <th>4</th>\n",
              "      <td>0.656972</td>\n",
              "    </tr>\n",
              "  </tbody>\n",
              "</table>\n",
              "</div>"
            ],
            "text/plain": [
              "      Class\n",
              "0  0.480789\n",
              "1  0.021812\n",
              "2  0.067598\n",
              "3  0.247244\n",
              "4  0.656972"
            ]
          },
          "metadata": {
            "tags": []
          },
          "execution_count": 14
        }
      ]
    },
    {
      "cell_type": "code",
      "metadata": {
        "id": "DhJ2MzIJQ61y",
        "outputId": "17265a03-dc03-4722-8711-82b2507c69af",
        "colab": {
          "base_uri": "https://localhost:8080/",
          "height": 34
        }
      },
      "source": [
        "submission.shape, test.shape"
      ],
      "execution_count": null,
      "outputs": [
        {
          "output_type": "execute_result",
          "data": {
            "text/plain": [
              "((756, 1), (756, 1558))"
            ]
          },
          "metadata": {
            "tags": []
          },
          "execution_count": 16
        }
      ]
    },
    {
      "cell_type": "code",
      "metadata": {
        "id": "VDInwJaVTpHQ"
      },
      "source": [
        "import tensorflow as tf\n",
        "from tensorflow import keras\n",
        "import os\n",
        "import tempfile"
      ],
      "execution_count": null,
      "outputs": []
    },
    {
      "cell_type": "code",
      "metadata": {
        "id": "fq2br7RLTxov",
        "outputId": "7379b795-7d82-4cc3-ac58-0c7d4a24b878",
        "colab": {
          "base_uri": "https://localhost:8080/",
          "height": 85
        }
      },
      "source": [
        "neg, pos = np.bincount(train['Class'])\n",
        "total = neg + pos\n",
        "print('Examples:\\n    Total: {}\\n    Positive: {} ({:.2f}% of total)\\n'.format(total, pos, 100 * pos / total))"
      ],
      "execution_count": null,
      "outputs": [
        {
          "output_type": "stream",
          "text": [
            "Examples:\n",
            "    Total: 1763\n",
            "    Positive: 143 (8.11% of total)\n",
            "\n"
          ],
          "name": "stdout"
        }
      ]
    },
    {
      "cell_type": "code",
      "metadata": {
        "id": "wqKOhainTzV3"
      },
      "source": [
        "tf.keras.backend.clear_session()"
      ],
      "execution_count": null,
      "outputs": []
    },
    {
      "cell_type": "code",
      "metadata": {
        "id": "fzhnqflaT4Lo"
      },
      "source": [
        "METRICS = [ \n",
        "      keras.metrics.BinaryAccuracy(name='accuracy'),\n",
        "      keras.metrics.Precision(name='precision'),\n",
        "      keras.metrics.Recall(name='recall'),\n",
        "      keras.metrics.AUC(name='auc'),\n",
        "]\n",
        "\n",
        "def make_model(metrics = METRICS, output_bias=None):\n",
        "    if output_bias is not None:\n",
        "      output_bias = tf.keras.initializers.Constant(output_bias)\n",
        "    model = keras.Sequential([\n",
        "        keras.layers.Dense(\n",
        "            32, activation='relu',\n",
        "            input_shape=(X.shape[-1],)),\n",
        "        keras.layers.Dense(\n",
        "            16, activation='relu'),\n",
        "        keras.layers.Dropout(0.4),\n",
        "        keras.layers.Dense(1, activation='sigmoid',\n",
        "                          bias_initializer=output_bias),\n",
        "    ])\n",
        "\n",
        "    model.compile(\n",
        "        optimizer=keras.optimizers.Adam(lr=1e-3),\n",
        "        loss=keras.losses.BinaryCrossentropy(),\n",
        "        metrics=metrics)\n",
        "\n",
        "    return model"
      ],
      "execution_count": null,
      "outputs": []
    },
    {
      "cell_type": "code",
      "metadata": {
        "id": "93S1ss4qT7N4"
      },
      "source": [
        "EPOCHS = 100\n",
        "BATCH_SIZE = 2048\n",
        "\n",
        "early_stopping = tf.keras.callbacks.EarlyStopping(\n",
        "    monitor='val_auc', \n",
        "    verbose=1,\n",
        "    patience=10,\n",
        "    mode='max',\n",
        "    restore_best_weights=True)"
      ],
      "execution_count": null,
      "outputs": []
    },
    {
      "cell_type": "code",
      "metadata": {
        "id": "Ly3CWy22T-lI",
        "outputId": "0bedcc1e-e9d8-461a-926b-cb0a2064f615",
        "colab": {
          "base_uri": "https://localhost:8080/",
          "height": 289
        }
      },
      "source": [
        "model = make_model()\n",
        "model.summary()"
      ],
      "execution_count": null,
      "outputs": [
        {
          "output_type": "stream",
          "text": [
            "Model: \"sequential\"\n",
            "_________________________________________________________________\n",
            "Layer (type)                 Output Shape              Param #   \n",
            "=================================================================\n",
            "dense (Dense)                (None, 32)                49888     \n",
            "_________________________________________________________________\n",
            "dense_1 (Dense)              (None, 16)                528       \n",
            "_________________________________________________________________\n",
            "dropout (Dropout)            (None, 16)                0         \n",
            "_________________________________________________________________\n",
            "dense_2 (Dense)              (None, 1)                 17        \n",
            "=================================================================\n",
            "Total params: 50,433\n",
            "Trainable params: 50,433\n",
            "Non-trainable params: 0\n",
            "_________________________________________________________________\n"
          ],
          "name": "stdout"
        }
      ]
    },
    {
      "cell_type": "code",
      "metadata": {
        "id": "UaD9sIGdT_7o",
        "outputId": "ee01af56-e853-4f89-d778-2f7e685a7087",
        "colab": {
          "base_uri": "https://localhost:8080/",
          "height": 187
        }
      },
      "source": [
        "model.predict(X[:10])"
      ],
      "execution_count": null,
      "outputs": [
        {
          "output_type": "execute_result",
          "data": {
            "text/plain": [
              "array([[0.83250725],\n",
              "       [0.9926244 ],\n",
              "       [0.9519987 ],\n",
              "       [0.87190235],\n",
              "       [0.8763459 ],\n",
              "       [0.9746401 ],\n",
              "       [0.9884372 ],\n",
              "       [0.9682547 ],\n",
              "       [0.7824942 ],\n",
              "       [0.9660274 ]], dtype=float32)"
            ]
          },
          "metadata": {
            "tags": []
          },
          "execution_count": 11
        }
      ]
    },
    {
      "cell_type": "code",
      "metadata": {
        "id": "YYXz6nD6UCFw",
        "outputId": "ca0e2231-6995-4593-a17d-f0606f38d368",
        "colab": {
          "base_uri": "https://localhost:8080/",
          "height": 34
        }
      },
      "source": [
        "results = model.evaluate(X, y, batch_size=BATCH_SIZE, verbose=0)\n",
        "print(\"Loss: {:0.4f}\".format(results[0]))"
      ],
      "execution_count": null,
      "outputs": [
        {
          "output_type": "stream",
          "text": [
            "Loss: 3.2497\n"
          ],
          "name": "stdout"
        }
      ]
    },
    {
      "cell_type": "code",
      "metadata": {
        "id": "mNI_5DGWUDR5",
        "outputId": "84b6ef8c-bbb2-4b9d-bc48-3431a381571e",
        "colab": {
          "base_uri": "https://localhost:8080/",
          "height": 34
        }
      },
      "source": [
        "initial_bias = np.log([pos/neg])\n",
        "initial_bias"
      ],
      "execution_count": null,
      "outputs": [
        {
          "output_type": "execute_result",
          "data": {
            "text/plain": [
              "array([-2.4273368])"
            ]
          },
          "metadata": {
            "tags": []
          },
          "execution_count": 13
        }
      ]
    },
    {
      "cell_type": "code",
      "metadata": {
        "id": "fUmoM9GvUE5A",
        "outputId": "9d03d952-8991-4603-e791-571613d465ba",
        "colab": {
          "base_uri": "https://localhost:8080/",
          "height": 187
        }
      },
      "source": [
        "model = make_model(output_bias = initial_bias)\n",
        "model.predict(X[:10])"
      ],
      "execution_count": null,
      "outputs": [
        {
          "output_type": "execute_result",
          "data": {
            "text/plain": [
              "array([[0.03539875],\n",
              "       [0.0060648 ],\n",
              "       [0.02967829],\n",
              "       [0.02413619],\n",
              "       [0.03456697],\n",
              "       [0.02407607],\n",
              "       [0.013338  ],\n",
              "       [0.0138756 ],\n",
              "       [0.06540254],\n",
              "       [0.00810245]], dtype=float32)"
            ]
          },
          "metadata": {
            "tags": []
          },
          "execution_count": 14
        }
      ]
    },
    {
      "cell_type": "code",
      "metadata": {
        "id": "q_4JEVnQUGHY",
        "outputId": "d36c3b05-8518-440a-a188-8ac73e91e1c2",
        "colab": {
          "base_uri": "https://localhost:8080/",
          "height": 34
        }
      },
      "source": [
        "results = model.evaluate(X, y, batch_size=BATCH_SIZE, verbose=0)\n",
        "print(\"Loss: {:0.4f}\".format(results[0]))"
      ],
      "execution_count": null,
      "outputs": [
        {
          "output_type": "stream",
          "text": [
            "Loss: 0.6704\n"
          ],
          "name": "stdout"
        }
      ]
    },
    {
      "cell_type": "code",
      "metadata": {
        "id": "_3oh3TLZUHvA"
      },
      "source": [
        "initial_weights = os.path.join(tempfile.mkdtemp(),'initial_weights')\n",
        "model.save_weights(initial_weights)"
      ],
      "execution_count": null,
      "outputs": []
    },
    {
      "cell_type": "code",
      "metadata": {
        "id": "unK_rMqDUJvg",
        "outputId": "5e356412-c2b8-4d03-b57c-d20c2cf3c076",
        "colab": {
          "base_uri": "https://localhost:8080/",
          "height": 717
        }
      },
      "source": [
        "model = make_model()\n",
        "model.load_weights(initial_weights)\n",
        "model.layers[-1].bias.assign([0.0])\n",
        "zero_bias_history = model.fit(\n",
        "    X,\n",
        "    y,\n",
        "    batch_size=BATCH_SIZE,\n",
        "    epochs=20,\n",
        "    validation_data=(X_test, y_test), \n",
        "    verbose=1)"
      ],
      "execution_count": null,
      "outputs": [
        {
          "output_type": "stream",
          "text": [
            "Epoch 1/20\n",
            "1/1 [==============================] - 1s 655ms/step - loss: 0.8312 - accuracy: 0.6093 - precision: 0.0829 - recall: 0.3744 - auc: 0.4463 - val_loss: 0.6153 - val_accuracy: 0.9266 - val_precision: 0.0000e+00 - val_recall: 0.0000e+00 - val_auc: 0.1914\n",
            "Epoch 2/20\n",
            "1/1 [==============================] - 0s 20ms/step - loss: 0.7151 - accuracy: 0.8607 - precision: 0.1176 - recall: 0.1077 - auc: 0.3879 - val_loss: 0.5724 - val_accuracy: 0.9266 - val_precision: 0.0000e+00 - val_recall: 0.0000e+00 - val_auc: 0.1942\n",
            "Epoch 3/20\n",
            "1/1 [==============================] - 0s 20ms/step - loss: 0.6945 - accuracy: 0.8619 - precision: 0.1322 - recall: 0.1231 - auc: 0.3948 - val_loss: 0.5364 - val_accuracy: 0.9266 - val_precision: 0.0000e+00 - val_recall: 0.0000e+00 - val_auc: 0.2033\n",
            "Epoch 4/20\n",
            "1/1 [==============================] - 0s 19ms/step - loss: 0.6515 - accuracy: 0.8537 - precision: 0.0887 - recall: 0.0846 - auc: 0.3781 - val_loss: 0.5059 - val_accuracy: 0.9266 - val_precision: 0.0000e+00 - val_recall: 0.0000e+00 - val_auc: 0.2153\n",
            "Epoch 5/20\n",
            "1/1 [==============================] - 0s 20ms/step - loss: 0.5940 - accuracy: 0.8707 - precision: 0.1359 - recall: 0.1077 - auc: 0.3922 - val_loss: 0.4808 - val_accuracy: 0.9266 - val_precision: 0.0000e+00 - val_recall: 0.0000e+00 - val_auc: 0.2437\n",
            "Epoch 6/20\n",
            "1/1 [==============================] - 0s 21ms/step - loss: 0.5885 - accuracy: 0.8651 - precision: 0.1250 - recall: 0.1077 - auc: 0.3958 - val_loss: 0.4609 - val_accuracy: 0.9266 - val_precision: 0.0000e+00 - val_recall: 0.0000e+00 - val_auc: 0.2699\n",
            "Epoch 7/20\n",
            "1/1 [==============================] - 0s 22ms/step - loss: 0.5484 - accuracy: 0.8644 - precision: 0.1239 - recall: 0.1077 - auc: 0.4330 - val_loss: 0.4438 - val_accuracy: 0.9266 - val_precision: 0.0000e+00 - val_recall: 0.0000e+00 - val_auc: 0.3046\n",
            "Epoch 8/20\n",
            "1/1 [==============================] - 0s 20ms/step - loss: 0.5273 - accuracy: 0.8733 - precision: 0.1340 - recall: 0.1000 - auc: 0.4295 - val_loss: 0.4287 - val_accuracy: 0.9266 - val_precision: 0.0000e+00 - val_recall: 0.0000e+00 - val_auc: 0.3609\n",
            "Epoch 9/20\n",
            "1/1 [==============================] - 0s 21ms/step - loss: 0.4935 - accuracy: 0.8834 - precision: 0.1687 - recall: 0.1077 - auc: 0.4689 - val_loss: 0.4156 - val_accuracy: 0.9266 - val_precision: 0.0000e+00 - val_recall: 0.0000e+00 - val_auc: 0.4074\n",
            "Epoch 10/20\n",
            "1/1 [==============================] - 0s 20ms/step - loss: 0.4790 - accuracy: 0.8840 - precision: 0.1625 - recall: 0.1000 - auc: 0.4649 - val_loss: 0.4055 - val_accuracy: 0.9266 - val_precision: 0.0000e+00 - val_recall: 0.0000e+00 - val_auc: 0.4561\n",
            "Epoch 11/20\n",
            "1/1 [==============================] - 0s 20ms/step - loss: 0.4579 - accuracy: 0.8979 - precision: 0.2949 - recall: 0.1769 - auc: 0.5535 - val_loss: 0.3969 - val_accuracy: 0.9266 - val_precision: 0.0000e+00 - val_recall: 0.0000e+00 - val_auc: 0.4899\n",
            "Epoch 12/20\n",
            "1/1 [==============================] - 0s 21ms/step - loss: 0.4364 - accuracy: 0.9010 - precision: 0.2985 - recall: 0.1538 - auc: 0.5827 - val_loss: 0.3883 - val_accuracy: 0.9266 - val_precision: 0.0000e+00 - val_recall: 0.0000e+00 - val_auc: 0.5446\n",
            "Epoch 13/20\n",
            "1/1 [==============================] - 0s 20ms/step - loss: 0.4167 - accuracy: 0.9086 - precision: 0.3684 - recall: 0.1615 - auc: 0.6386 - val_loss: 0.3789 - val_accuracy: 0.9266 - val_precision: 0.0000e+00 - val_recall: 0.0000e+00 - val_auc: 0.5760\n",
            "Epoch 14/20\n",
            "1/1 [==============================] - 0s 21ms/step - loss: 0.4193 - accuracy: 0.9067 - precision: 0.2955 - recall: 0.1000 - auc: 0.5779 - val_loss: 0.3700 - val_accuracy: 0.9266 - val_precision: 0.0000e+00 - val_recall: 0.0000e+00 - val_auc: 0.5903\n",
            "Epoch 15/20\n",
            "1/1 [==============================] - 0s 20ms/step - loss: 0.3891 - accuracy: 0.9149 - precision: 0.4194 - recall: 0.1000 - auc: 0.6692 - val_loss: 0.3600 - val_accuracy: 0.9266 - val_precision: 0.0000e+00 - val_recall: 0.0000e+00 - val_auc: 0.5957\n",
            "Epoch 16/20\n",
            "1/1 [==============================] - 0s 21ms/step - loss: 0.3914 - accuracy: 0.9161 - precision: 0.4483 - recall: 0.1000 - auc: 0.6517 - val_loss: 0.3512 - val_accuracy: 0.9266 - val_precision: 0.0000e+00 - val_recall: 0.0000e+00 - val_auc: 0.5760\n",
            "Epoch 17/20\n",
            "1/1 [==============================] - 0s 21ms/step - loss: 0.3733 - accuracy: 0.9155 - precision: 0.4231 - recall: 0.0846 - auc: 0.6622 - val_loss: 0.3443 - val_accuracy: 0.9266 - val_precision: 0.0000e+00 - val_recall: 0.0000e+00 - val_auc: 0.5593\n",
            "Epoch 18/20\n",
            "1/1 [==============================] - 0s 20ms/step - loss: 0.3643 - accuracy: 0.9142 - precision: 0.3500 - recall: 0.0538 - auc: 0.6584 - val_loss: 0.3382 - val_accuracy: 0.9266 - val_precision: 0.0000e+00 - val_recall: 0.0000e+00 - val_auc: 0.5624\n",
            "Epoch 19/20\n",
            "1/1 [==============================] - 0s 22ms/step - loss: 0.3552 - accuracy: 0.9161 - precision: 0.4400 - recall: 0.0846 - auc: 0.6551 - val_loss: 0.3320 - val_accuracy: 0.9266 - val_precision: 0.0000e+00 - val_recall: 0.0000e+00 - val_auc: 0.5811\n",
            "Epoch 20/20\n",
            "1/1 [==============================] - 0s 22ms/step - loss: 0.3669 - accuracy: 0.9142 - precision: 0.3636 - recall: 0.0615 - auc: 0.6434 - val_loss: 0.3253 - val_accuracy: 0.9266 - val_precision: 0.0000e+00 - val_recall: 0.0000e+00 - val_auc: 0.6236\n"
          ],
          "name": "stdout"
        }
      ]
    },
    {
      "cell_type": "code",
      "metadata": {
        "id": "fknmspChULBI",
        "outputId": "b84944e1-d7ae-4123-a422-73ddaf236b38",
        "colab": {
          "base_uri": "https://localhost:8080/",
          "height": 717
        }
      },
      "source": [
        "model = make_model()\n",
        "model.load_weights(initial_weights)\n",
        "careful_bias_history = model.fit(\n",
        "    X,\n",
        "    y,\n",
        "    batch_size=BATCH_SIZE,\n",
        "    epochs=20,\n",
        "    validation_data=(X_test, y_test), \n",
        "    verbose=1)"
      ],
      "execution_count": null,
      "outputs": [
        {
          "output_type": "stream",
          "text": [
            "Epoch 1/20\n",
            "1/1 [==============================] - 1s 502ms/step - loss: 0.6667 - accuracy: 0.9172 - precision: 0.2000 - recall: 0.0070 - auc: 0.4124 - val_loss: 0.5091 - val_accuracy: 0.9266 - val_precision: 0.0000e+00 - val_recall: 0.0000e+00 - val_auc: 0.1907\n",
            "Epoch 2/20\n",
            "1/1 [==============================] - 0s 20ms/step - loss: 0.6064 - accuracy: 0.9168 - precision: 0.4000 - recall: 0.0308 - auc: 0.3923 - val_loss: 0.4570 - val_accuracy: 0.9266 - val_precision: 0.0000e+00 - val_recall: 0.0000e+00 - val_auc: 0.2153\n",
            "Epoch 3/20\n",
            "1/1 [==============================] - 0s 25ms/step - loss: 0.5099 - accuracy: 0.9187 - precision: 0.5263 - recall: 0.0769 - auc: 0.4160 - val_loss: 0.4151 - val_accuracy: 0.9266 - val_precision: 0.0000e+00 - val_recall: 0.0000e+00 - val_auc: 0.2296\n",
            "Epoch 4/20\n",
            "1/1 [==============================] - 0s 20ms/step - loss: 0.5358 - accuracy: 0.9174 - precision: 0.4667 - recall: 0.0538 - auc: 0.3932 - val_loss: 0.3783 - val_accuracy: 0.9266 - val_precision: 0.0000e+00 - val_recall: 0.0000e+00 - val_auc: 0.2559\n",
            "Epoch 5/20\n",
            "1/1 [==============================] - 0s 20ms/step - loss: 0.4749 - accuracy: 0.9174 - precision: 0.4737 - recall: 0.0692 - auc: 0.3962 - val_loss: 0.3427 - val_accuracy: 0.9266 - val_precision: 0.0000e+00 - val_recall: 0.0000e+00 - val_auc: 0.2981\n",
            "Epoch 6/20\n",
            "1/1 [==============================] - 0s 20ms/step - loss: 0.4233 - accuracy: 0.9168 - precision: 0.4444 - recall: 0.0615 - auc: 0.4027 - val_loss: 0.3105 - val_accuracy: 0.9266 - val_precision: 0.0000e+00 - val_recall: 0.0000e+00 - val_auc: 0.3347\n",
            "Epoch 7/20\n",
            "1/1 [==============================] - 0s 20ms/step - loss: 0.3827 - accuracy: 0.9180 - precision: 0.5000 - recall: 0.0615 - auc: 0.4279 - val_loss: 0.2829 - val_accuracy: 0.9266 - val_precision: 0.0000e+00 - val_recall: 0.0000e+00 - val_auc: 0.4543\n",
            "Epoch 8/20\n",
            "1/1 [==============================] - 0s 20ms/step - loss: 0.3483 - accuracy: 0.9111 - precision: 0.2800 - recall: 0.0538 - auc: 0.4825 - val_loss: 0.2612 - val_accuracy: 0.9266 - val_precision: 0.0000e+00 - val_recall: 0.0000e+00 - val_auc: 0.5804\n",
            "Epoch 9/20\n",
            "1/1 [==============================] - 0s 20ms/step - loss: 0.3143 - accuracy: 0.9149 - precision: 0.3529 - recall: 0.0462 - auc: 0.5180 - val_loss: 0.2449 - val_accuracy: 0.9266 - val_precision: 0.0000e+00 - val_recall: 0.0000e+00 - val_auc: 0.8440\n",
            "Epoch 10/20\n",
            "1/1 [==============================] - 0s 21ms/step - loss: 0.2857 - accuracy: 0.9199 - precision: 0.5714 - recall: 0.0923 - auc: 0.5752 - val_loss: 0.2375 - val_accuracy: 0.9266 - val_precision: 0.0000e+00 - val_recall: 0.0000e+00 - val_auc: 0.8368\n",
            "Epoch 11/20\n",
            "1/1 [==============================] - 0s 21ms/step - loss: 0.2695 - accuracy: 0.9174 - precision: 0.4706 - recall: 0.0615 - auc: 0.6211 - val_loss: 0.2358 - val_accuracy: 0.9266 - val_precision: 0.0000e+00 - val_recall: 0.0000e+00 - val_auc: 0.8070\n",
            "Epoch 12/20\n",
            "1/1 [==============================] - 0s 19ms/step - loss: 0.2585 - accuracy: 0.9142 - precision: 0.2857 - recall: 0.0308 - auc: 0.6898 - val_loss: 0.2358 - val_accuracy: 0.9266 - val_precision: 0.0000e+00 - val_recall: 0.0000e+00 - val_auc: 0.7688\n",
            "Epoch 13/20\n",
            "1/1 [==============================] - 0s 19ms/step - loss: 0.2575 - accuracy: 0.9180 - precision: 0.5000 - recall: 0.0231 - auc: 0.7032 - val_loss: 0.2380 - val_accuracy: 0.9266 - val_precision: 0.0000e+00 - val_recall: 0.0000e+00 - val_auc: 0.7549\n",
            "Epoch 14/20\n",
            "1/1 [==============================] - 0s 20ms/step - loss: 0.2577 - accuracy: 0.9180 - precision: 0.5000 - recall: 0.0077 - auc: 0.7098 - val_loss: 0.2392 - val_accuracy: 0.9266 - val_precision: 0.0000e+00 - val_recall: 0.0000e+00 - val_auc: 0.7427\n",
            "Epoch 15/20\n",
            "1/1 [==============================] - 0s 20ms/step - loss: 0.2608 - accuracy: 0.9168 - precision: 0.0000e+00 - recall: 0.0000e+00 - auc: 0.6897 - val_loss: 0.2392 - val_accuracy: 0.9266 - val_precision: 0.0000e+00 - val_recall: 0.0000e+00 - val_auc: 0.7535\n",
            "Epoch 16/20\n",
            "1/1 [==============================] - 0s 20ms/step - loss: 0.2630 - accuracy: 0.9168 - precision: 0.0000e+00 - recall: 0.0000e+00 - auc: 0.6758 - val_loss: 0.2392 - val_accuracy: 0.9266 - val_precision: 0.0000e+00 - val_recall: 0.0000e+00 - val_auc: 0.7580\n",
            "Epoch 17/20\n",
            "1/1 [==============================] - 0s 20ms/step - loss: 0.2521 - accuracy: 0.9168 - precision: 0.0000e+00 - recall: 0.0000e+00 - auc: 0.7871 - val_loss: 0.2387 - val_accuracy: 0.9266 - val_precision: 0.0000e+00 - val_recall: 0.0000e+00 - val_auc: 0.7655\n",
            "Epoch 18/20\n",
            "1/1 [==============================] - 0s 20ms/step - loss: 0.2641 - accuracy: 0.9174 - precision: 0.0000e+00 - recall: 0.0000e+00 - auc: 0.7222 - val_loss: 0.2380 - val_accuracy: 0.9266 - val_precision: 0.0000e+00 - val_recall: 0.0000e+00 - val_auc: 0.7704\n",
            "Epoch 19/20\n",
            "1/1 [==============================] - 0s 20ms/step - loss: 0.2559 - accuracy: 0.9180 - precision: 0.0000e+00 - recall: 0.0000e+00 - auc: 0.7363 - val_loss: 0.2372 - val_accuracy: 0.9266 - val_precision: 0.0000e+00 - val_recall: 0.0000e+00 - val_auc: 0.7624\n",
            "Epoch 20/20\n",
            "1/1 [==============================] - 0s 20ms/step - loss: 0.2530 - accuracy: 0.9180 - precision: 0.0000e+00 - recall: 0.0000e+00 - auc: 0.7550 - val_loss: 0.2357 - val_accuracy: 0.9266 - val_precision: 0.0000e+00 - val_recall: 0.0000e+00 - val_auc: 0.7659\n"
          ],
          "name": "stdout"
        }
      ]
    },
    {
      "cell_type": "code",
      "metadata": {
        "id": "bOJM0F45UueG"
      },
      "source": [
        "colors = plt.rcParams['axes.prop_cycle'].by_key()['color']\n",
        "def plot_loss(history, label, n):\n",
        "    # Use a log scale to show the wide range of values.\n",
        "    plt.semilogy(history.epoch,  history.history['loss'],\n",
        "                color=colors[n], label='Train '+label)\n",
        "    plt.semilogy(history.epoch,  history.history['val_loss'],\n",
        "            color=colors[n], label='Val '+label,\n",
        "            linestyle=\"--\")\n",
        "    plt.xlabel('Epoch')\n",
        "    plt.ylabel('Loss')\n",
        "    \n",
        "    plt.legend()"
      ],
      "execution_count": null,
      "outputs": []
    },
    {
      "cell_type": "code",
      "metadata": {
        "id": "M2YA0TL_UzPo",
        "outputId": "a669e95a-bb35-4bed-d9e7-4938a7b5bd57",
        "colab": {
          "base_uri": "https://localhost:8080/",
          "height": 279
        }
      },
      "source": [
        "plot_loss(zero_bias_history, \"Zero Bias\", 0)\n",
        "plot_loss(careful_bias_history, \"Careful Bias\", 1)"
      ],
      "execution_count": null,
      "outputs": [
        {
          "output_type": "display_data",
          "data": {
            "image/png": "[encoded data removed]",
            "text/plain": [
              "<Figure size 432x288 with 1 Axes>"
            ]
          },
          "metadata": {
            "tags": [],
            "needs_background": "light"
          }
        }
      ]
    },
    {
      "cell_type": "code",
      "metadata": {
        "id": "fOdaE7pcU0MP",
        "outputId": "7f20b109-2c8a-471e-a333-0763a0d0af25",
        "colab": {
          "base_uri": "https://localhost:8080/",
          "height": 1000
        }
      },
      "source": [
        "model = make_model()\n",
        "model.load_weights(initial_weights)\n",
        "baseline_history = model.fit(\n",
        "    X,\n",
        "    y,\n",
        "    batch_size=BATCH_SIZE,\n",
        "    epochs=EPOCHS,\n",
        "    validation_data=(X_test, y_test))"
      ],
      "execution_count": null,
      "outputs": [
        {
          "output_type": "stream",
          "text": [
            "Epoch 1/100\n",
            "1/1 [==============================] - 1s 526ms/step - loss: 0.6767 - accuracy: 0.9189 - precision: 0.5000 - recall: 0.0210 - auc: 0.4180 - val_loss: 0.5087 - val_accuracy: 0.9266 - val_precision: 0.0000e+00 - val_recall: 0.0000e+00 - val_auc: 0.1935\n",
            "Epoch 2/100\n",
            "1/1 [==============================] - 0s 20ms/step - loss: 0.6016 - accuracy: 0.9168 - precision: 0.4375 - recall: 0.0538 - auc: 0.3803 - val_loss: 0.4559 - val_accuracy: 0.9266 - val_precision: 0.0000e+00 - val_recall: 0.0000e+00 - val_auc: 0.2155\n",
            "Epoch 3/100\n",
            "1/1 [==============================] - 0s 20ms/step - loss: 0.5250 - accuracy: 0.9161 - precision: 0.3846 - recall: 0.0385 - auc: 0.3606 - val_loss: 0.4136 - val_accuracy: 0.9266 - val_precision: 0.0000e+00 - val_recall: 0.0000e+00 - val_auc: 0.2284\n",
            "Epoch 4/100\n",
            "1/1 [==============================] - 0s 23ms/step - loss: 0.5084 - accuracy: 0.9149 - precision: 0.2222 - recall: 0.0154 - auc: 0.3254 - val_loss: 0.3768 - val_accuracy: 0.9266 - val_precision: 0.0000e+00 - val_recall: 0.0000e+00 - val_auc: 0.2575\n",
            "Epoch 5/100\n",
            "1/1 [==============================] - 0s 20ms/step - loss: 0.5002 - accuracy: 0.9130 - precision: 0.2143 - recall: 0.0231 - auc: 0.3406 - val_loss: 0.3413 - val_accuracy: 0.9266 - val_precision: 0.0000e+00 - val_recall: 0.0000e+00 - val_auc: 0.3021\n",
            "Epoch 6/100\n",
            "1/1 [==============================] - 0s 20ms/step - loss: 0.4259 - accuracy: 0.9149 - precision: 0.3810 - recall: 0.0615 - auc: 0.3995 - val_loss: 0.3092 - val_accuracy: 0.9266 - val_precision: 0.0000e+00 - val_recall: 0.0000e+00 - val_auc: 0.3368\n",
            "Epoch 7/100\n",
            "1/1 [==============================] - 0s 21ms/step - loss: 0.3979 - accuracy: 0.9149 - precision: 0.2727 - recall: 0.0231 - auc: 0.3704 - val_loss: 0.2809 - val_accuracy: 0.9266 - val_precision: 0.0000e+00 - val_recall: 0.0000e+00 - val_auc: 0.4512\n",
            "Epoch 8/100\n",
            "1/1 [==============================] - 0s 20ms/step - loss: 0.3420 - accuracy: 0.9155 - precision: 0.3889 - recall: 0.0538 - auc: 0.4569 - val_loss: 0.2592 - val_accuracy: 0.9266 - val_precision: 0.0000e+00 - val_recall: 0.0000e+00 - val_auc: 0.6161\n",
            "Epoch 9/100\n",
            "1/1 [==============================] - 0s 20ms/step - loss: 0.3109 - accuracy: 0.9136 - precision: 0.1818 - recall: 0.0154 - auc: 0.4839 - val_loss: 0.2443 - val_accuracy: 0.9266 - val_precision: 0.0000e+00 - val_recall: 0.0000e+00 - val_auc: 0.8673\n",
            "Epoch 10/100\n",
            "1/1 [==============================] - 0s 21ms/step - loss: 0.2910 - accuracy: 0.9180 - precision: 0.5000 - recall: 0.0538 - auc: 0.5411 - val_loss: 0.2395 - val_accuracy: 0.9266 - val_precision: 0.0000e+00 - val_recall: 0.0000e+00 - val_auc: 0.8412\n",
            "Epoch 11/100\n",
            "1/1 [==============================] - 0s 21ms/step - loss: 0.2725 - accuracy: 0.9180 - precision: 0.5000 - recall: 0.0538 - auc: 0.6114 - val_loss: 0.2372 - val_accuracy: 0.9266 - val_precision: 0.0000e+00 - val_recall: 0.0000e+00 - val_auc: 0.8037\n",
            "Epoch 12/100\n",
            "1/1 [==============================] - 0s 25ms/step - loss: 0.2637 - accuracy: 0.9193 - precision: 0.6667 - recall: 0.0308 - auc: 0.6166 - val_loss: 0.2366 - val_accuracy: 0.9266 - val_precision: 0.0000e+00 - val_recall: 0.0000e+00 - val_auc: 0.7871\n",
            "Epoch 13/100\n",
            "1/1 [==============================] - 0s 20ms/step - loss: 0.2622 - accuracy: 0.9180 - precision: 0.0000e+00 - recall: 0.0000e+00 - auc: 0.6498 - val_loss: 0.2386 - val_accuracy: 0.9266 - val_precision: 0.0000e+00 - val_recall: 0.0000e+00 - val_auc: 0.7591\n",
            "Epoch 14/100\n",
            "1/1 [==============================] - 0s 22ms/step - loss: 0.2578 - accuracy: 0.9168 - precision: 0.0000e+00 - recall: 0.0000e+00 - auc: 0.7165 - val_loss: 0.2398 - val_accuracy: 0.9266 - val_precision: 0.0000e+00 - val_recall: 0.0000e+00 - val_auc: 0.7566\n",
            "Epoch 15/100\n",
            "1/1 [==============================] - 0s 22ms/step - loss: 0.2514 - accuracy: 0.9180 - precision: 0.0000e+00 - recall: 0.0000e+00 - auc: 0.7223 - val_loss: 0.2399 - val_accuracy: 0.9266 - val_precision: 0.0000e+00 - val_recall: 0.0000e+00 - val_auc: 0.7629\n",
            "Epoch 16/100\n",
            "1/1 [==============================] - 0s 20ms/step - loss: 0.2587 - accuracy: 0.9180 - precision: 0.0000e+00 - recall: 0.0000e+00 - auc: 0.7322 - val_loss: 0.2399 - val_accuracy: 0.9266 - val_precision: 0.0000e+00 - val_recall: 0.0000e+00 - val_auc: 0.7699\n",
            "Epoch 17/100\n",
            "1/1 [==============================] - 0s 20ms/step - loss: 0.2511 - accuracy: 0.9180 - precision: 0.0000e+00 - recall: 0.0000e+00 - auc: 0.7625 - val_loss: 0.2393 - val_accuracy: 0.9266 - val_precision: 0.0000e+00 - val_recall: 0.0000e+00 - val_auc: 0.7727\n",
            "Epoch 18/100\n",
            "1/1 [==============================] - 0s 20ms/step - loss: 0.2561 - accuracy: 0.9174 - precision: 0.0000e+00 - recall: 0.0000e+00 - auc: 0.7466 - val_loss: 0.2383 - val_accuracy: 0.9266 - val_precision: 0.0000e+00 - val_recall: 0.0000e+00 - val_auc: 0.7627\n",
            "Epoch 19/100\n",
            "1/1 [==============================] - 0s 21ms/step - loss: 0.2547 - accuracy: 0.9180 - precision: 0.0000e+00 - recall: 0.0000e+00 - auc: 0.7732 - val_loss: 0.2367 - val_accuracy: 0.9266 - val_precision: 0.0000e+00 - val_recall: 0.0000e+00 - val_auc: 0.7763\n",
            "Epoch 20/100\n",
            "1/1 [==============================] - 0s 22ms/step - loss: 0.2554 - accuracy: 0.9180 - precision: 0.0000e+00 - recall: 0.0000e+00 - auc: 0.7232 - val_loss: 0.2350 - val_accuracy: 0.9266 - val_precision: 0.0000e+00 - val_recall: 0.0000e+00 - val_auc: 0.7774\n",
            "Epoch 21/100\n",
            "1/1 [==============================] - 0s 21ms/step - loss: 0.2542 - accuracy: 0.9180 - precision: 0.0000e+00 - recall: 0.0000e+00 - auc: 0.7275 - val_loss: 0.2332 - val_accuracy: 0.9266 - val_precision: 0.0000e+00 - val_recall: 0.0000e+00 - val_auc: 0.7840\n",
            "Epoch 22/100\n",
            "1/1 [==============================] - 0s 20ms/step - loss: 0.2543 - accuracy: 0.9180 - precision: 0.0000e+00 - recall: 0.0000e+00 - auc: 0.7529 - val_loss: 0.2316 - val_accuracy: 0.9266 - val_precision: 0.0000e+00 - val_recall: 0.0000e+00 - val_auc: 0.7906\n",
            "Epoch 23/100\n",
            "1/1 [==============================] - 0s 23ms/step - loss: 0.2544 - accuracy: 0.9180 - precision: 0.0000e+00 - recall: 0.0000e+00 - auc: 0.7337 - val_loss: 0.2302 - val_accuracy: 0.9266 - val_precision: 0.0000e+00 - val_recall: 0.0000e+00 - val_auc: 0.7845\n",
            "Epoch 24/100\n",
            "1/1 [==============================] - 0s 21ms/step - loss: 0.2465 - accuracy: 0.9174 - precision: 0.3333 - recall: 0.0077 - auc: 0.7492 - val_loss: 0.2287 - val_accuracy: 0.9266 - val_precision: 0.0000e+00 - val_recall: 0.0000e+00 - val_auc: 0.7983\n",
            "Epoch 25/100\n",
            "1/1 [==============================] - 0s 21ms/step - loss: 0.2452 - accuracy: 0.9206 - precision: 0.8333 - recall: 0.0385 - auc: 0.7751 - val_loss: 0.2274 - val_accuracy: 0.9266 - val_precision: 0.0000e+00 - val_recall: 0.0000e+00 - val_auc: 0.8030\n",
            "Epoch 26/100\n",
            "1/1 [==============================] - 0s 20ms/step - loss: 0.2519 - accuracy: 0.9180 - precision: 0.5000 - recall: 0.1000 - auc: 0.7323 - val_loss: 0.2263 - val_accuracy: 0.9266 - val_precision: 0.0000e+00 - val_recall: 0.0000e+00 - val_auc: 0.8082\n",
            "Epoch 27/100\n",
            "1/1 [==============================] - 0s 21ms/step - loss: 0.2537 - accuracy: 0.9168 - precision: 0.4667 - recall: 0.1077 - auc: 0.7439 - val_loss: 0.2253 - val_accuracy: 0.9266 - val_precision: 0.0000e+00 - val_recall: 0.0000e+00 - val_auc: 0.8145\n",
            "Epoch 28/100\n",
            "1/1 [==============================] - 0s 20ms/step - loss: 0.2438 - accuracy: 0.9168 - precision: 0.4750 - recall: 0.1462 - auc: 0.7609 - val_loss: 0.2245 - val_accuracy: 0.9266 - val_precision: 0.0000e+00 - val_recall: 0.0000e+00 - val_auc: 0.8192\n",
            "Epoch 29/100\n",
            "1/1 [==============================] - 0s 21ms/step - loss: 0.2452 - accuracy: 0.9206 - precision: 0.5625 - recall: 0.1385 - auc: 0.7740 - val_loss: 0.2238 - val_accuracy: 0.9266 - val_precision: 0.0000e+00 - val_recall: 0.0000e+00 - val_auc: 0.8152\n",
            "Epoch 30/100\n",
            "1/1 [==============================] - 0s 21ms/step - loss: 0.2470 - accuracy: 0.9212 - precision: 0.6316 - recall: 0.0923 - auc: 0.7722 - val_loss: 0.2233 - val_accuracy: 0.9266 - val_precision: 0.0000e+00 - val_recall: 0.0000e+00 - val_auc: 0.8213\n",
            "Epoch 31/100\n",
            "1/1 [==============================] - 0s 25ms/step - loss: 0.2430 - accuracy: 0.9193 - precision: 0.5833 - recall: 0.0538 - auc: 0.7632 - val_loss: 0.2228 - val_accuracy: 0.9266 - val_precision: 0.0000e+00 - val_recall: 0.0000e+00 - val_auc: 0.8222\n",
            "Epoch 32/100\n",
            "1/1 [==============================] - 0s 20ms/step - loss: 0.2406 - accuracy: 0.9193 - precision: 0.7500 - recall: 0.0231 - auc: 0.7930 - val_loss: 0.2222 - val_accuracy: 0.9266 - val_precision: 0.0000e+00 - val_recall: 0.0000e+00 - val_auc: 0.8220\n",
            "Epoch 33/100\n",
            "1/1 [==============================] - 0s 20ms/step - loss: 0.2400 - accuracy: 0.9187 - precision: 1.0000 - recall: 0.0077 - auc: 0.7918 - val_loss: 0.2215 - val_accuracy: 0.9266 - val_precision: 0.0000e+00 - val_recall: 0.0000e+00 - val_auc: 0.8286\n",
            "Epoch 34/100\n",
            "1/1 [==============================] - 0s 20ms/step - loss: 0.2386 - accuracy: 0.9168 - precision: 0.0000e+00 - recall: 0.0000e+00 - auc: 0.7897 - val_loss: 0.2206 - val_accuracy: 0.9266 - val_precision: 0.0000e+00 - val_recall: 0.0000e+00 - val_auc: 0.8361\n",
            "Epoch 35/100\n",
            "1/1 [==============================] - 0s 21ms/step - loss: 0.2447 - accuracy: 0.9174 - precision: 0.0000e+00 - recall: 0.0000e+00 - auc: 0.7921 - val_loss: 0.2198 - val_accuracy: 0.9266 - val_precision: 0.0000e+00 - val_recall: 0.0000e+00 - val_auc: 0.8351\n",
            "Epoch 36/100\n",
            "1/1 [==============================] - 0s 21ms/step - loss: 0.2393 - accuracy: 0.9174 - precision: 0.0000e+00 - recall: 0.0000e+00 - auc: 0.8179 - val_loss: 0.2187 - val_accuracy: 0.9266 - val_precision: 0.0000e+00 - val_recall: 0.0000e+00 - val_auc: 0.8450\n",
            "Epoch 37/100\n",
            "1/1 [==============================] - 0s 20ms/step - loss: 0.2432 - accuracy: 0.9168 - precision: 0.0000e+00 - recall: 0.0000e+00 - auc: 0.8162 - val_loss: 0.2175 - val_accuracy: 0.9266 - val_precision: 0.0000e+00 - val_recall: 0.0000e+00 - val_auc: 0.8487\n",
            "Epoch 38/100\n",
            "1/1 [==============================] - 0s 20ms/step - loss: 0.2382 - accuracy: 0.9187 - precision: 1.0000 - recall: 0.0077 - auc: 0.8037 - val_loss: 0.2163 - val_accuracy: 0.9266 - val_precision: 0.0000e+00 - val_recall: 0.0000e+00 - val_auc: 0.8548\n",
            "Epoch 39/100\n",
            "1/1 [==============================] - 0s 21ms/step - loss: 0.2359 - accuracy: 0.9193 - precision: 0.6250 - recall: 0.0385 - auc: 0.8220 - val_loss: 0.2150 - val_accuracy: 0.9266 - val_precision: 0.0000e+00 - val_recall: 0.0000e+00 - val_auc: 0.8635\n",
            "Epoch 40/100\n",
            "1/1 [==============================] - 0s 20ms/step - loss: 0.2335 - accuracy: 0.9187 - precision: 0.5385 - recall: 0.0538 - auc: 0.8164 - val_loss: 0.2136 - val_accuracy: 0.9266 - val_precision: 0.0000e+00 - val_recall: 0.0000e+00 - val_auc: 0.8647\n",
            "Epoch 41/100\n",
            "1/1 [==============================] - 0s 20ms/step - loss: 0.2313 - accuracy: 0.9231 - precision: 0.7857 - recall: 0.0846 - auc: 0.8171 - val_loss: 0.2121 - val_accuracy: 0.9266 - val_precision: 0.0000e+00 - val_recall: 0.0000e+00 - val_auc: 0.8684\n",
            "Epoch 42/100\n",
            "1/1 [==============================] - 0s 21ms/step - loss: 0.2349 - accuracy: 0.9206 - precision: 0.5667 - recall: 0.1308 - auc: 0.8168 - val_loss: 0.2109 - val_accuracy: 0.9266 - val_precision: 0.0000e+00 - val_recall: 0.0000e+00 - val_auc: 0.8654\n",
            "Epoch 43/100\n",
            "1/1 [==============================] - 0s 20ms/step - loss: 0.2302 - accuracy: 0.9224 - precision: 0.6129 - recall: 0.1462 - auc: 0.8203 - val_loss: 0.2097 - val_accuracy: 0.9266 - val_precision: 0.0000e+00 - val_recall: 0.0000e+00 - val_auc: 0.8694\n",
            "Epoch 44/100\n",
            "1/1 [==============================] - 0s 21ms/step - loss: 0.2297 - accuracy: 0.9218 - precision: 0.6000 - recall: 0.1385 - auc: 0.8279 - val_loss: 0.2086 - val_accuracy: 0.9266 - val_precision: 0.0000e+00 - val_recall: 0.0000e+00 - val_auc: 0.8727\n",
            "Epoch 45/100\n",
            "1/1 [==============================] - 0s 21ms/step - loss: 0.2256 - accuracy: 0.9224 - precision: 0.5946 - recall: 0.1692 - auc: 0.8376 - val_loss: 0.2076 - val_accuracy: 0.9266 - val_precision: 0.0000e+00 - val_recall: 0.0000e+00 - val_auc: 0.8771\n",
            "Epoch 46/100\n",
            "1/1 [==============================] - 0s 21ms/step - loss: 0.2329 - accuracy: 0.9149 - precision: 0.4194 - recall: 0.1000 - auc: 0.8266 - val_loss: 0.2068 - val_accuracy: 0.9266 - val_precision: 0.0000e+00 - val_recall: 0.0000e+00 - val_auc: 0.8816\n",
            "Epoch 47/100\n",
            "1/1 [==============================] - 0s 24ms/step - loss: 0.2295 - accuracy: 0.9174 - precision: 0.4800 - recall: 0.0923 - auc: 0.8353 - val_loss: 0.2057 - val_accuracy: 0.9266 - val_precision: 0.0000e+00 - val_recall: 0.0000e+00 - val_auc: 0.8858\n",
            "Epoch 48/100\n",
            "1/1 [==============================] - 0s 21ms/step - loss: 0.2285 - accuracy: 0.9206 - precision: 0.5833 - recall: 0.1077 - auc: 0.8226 - val_loss: 0.2043 - val_accuracy: 0.9266 - val_precision: 0.0000e+00 - val_recall: 0.0000e+00 - val_auc: 0.8893\n",
            "Epoch 49/100\n",
            "1/1 [==============================] - 0s 21ms/step - loss: 0.2289 - accuracy: 0.9193 - precision: 0.5312 - recall: 0.1308 - auc: 0.8420 - val_loss: 0.2031 - val_accuracy: 0.9266 - val_precision: 0.0000e+00 - val_recall: 0.0000e+00 - val_auc: 0.8893\n",
            "Epoch 50/100\n",
            "1/1 [==============================] - 0s 20ms/step - loss: 0.2195 - accuracy: 0.9224 - precision: 0.6129 - recall: 0.1462 - auc: 0.8588 - val_loss: 0.2007 - val_accuracy: 0.9266 - val_precision: 0.0000e+00 - val_recall: 0.0000e+00 - val_auc: 0.8949\n",
            "Epoch 51/100\n",
            "1/1 [==============================] - 0s 20ms/step - loss: 0.2205 - accuracy: 0.9218 - precision: 0.5882 - recall: 0.1538 - auc: 0.8683 - val_loss: 0.1994 - val_accuracy: 0.9266 - val_precision: 0.0000e+00 - val_recall: 0.0000e+00 - val_auc: 0.9064\n",
            "Epoch 52/100\n",
            "1/1 [==============================] - 0s 20ms/step - loss: 0.2223 - accuracy: 0.9206 - precision: 0.5588 - recall: 0.1462 - auc: 0.8576 - val_loss: 0.1979 - val_accuracy: 0.9266 - val_precision: 0.0000e+00 - val_recall: 0.0000e+00 - val_auc: 0.9095\n",
            "Epoch 53/100\n",
            "1/1 [==============================] - 0s 20ms/step - loss: 0.2210 - accuracy: 0.9193 - precision: 0.5278 - recall: 0.1462 - auc: 0.8611 - val_loss: 0.1963 - val_accuracy: 0.9266 - val_precision: 0.0000e+00 - val_recall: 0.0000e+00 - val_auc: 0.9149\n",
            "Epoch 54/100\n",
            "1/1 [==============================] - 0s 20ms/step - loss: 0.2165 - accuracy: 0.9224 - precision: 0.6061 - recall: 0.1538 - auc: 0.8681 - val_loss: 0.1934 - val_accuracy: 0.9266 - val_precision: 0.0000e+00 - val_recall: 0.0000e+00 - val_auc: 0.9207\n",
            "Epoch 55/100\n",
            "1/1 [==============================] - 0s 20ms/step - loss: 0.2097 - accuracy: 0.9212 - precision: 0.5676 - recall: 0.1615 - auc: 0.8724 - val_loss: 0.1892 - val_accuracy: 0.9266 - val_precision: 0.0000e+00 - val_recall: 0.0000e+00 - val_auc: 0.9247\n",
            "Epoch 56/100\n",
            "1/1 [==============================] - 0s 21ms/step - loss: 0.2093 - accuracy: 0.9180 - precision: 0.5000 - recall: 0.1385 - auc: 0.8796 - val_loss: 0.1864 - val_accuracy: 0.9266 - val_precision: 0.0000e+00 - val_recall: 0.0000e+00 - val_auc: 0.9287\n",
            "Epoch 57/100\n",
            "1/1 [==============================] - 0s 21ms/step - loss: 0.2176 - accuracy: 0.9155 - precision: 0.4600 - recall: 0.1769 - auc: 0.8666 - val_loss: 0.1879 - val_accuracy: 0.9266 - val_precision: 0.0000e+00 - val_recall: 0.0000e+00 - val_auc: 0.9273\n",
            "Epoch 58/100\n",
            "1/1 [==============================] - 0s 21ms/step - loss: 0.2096 - accuracy: 0.9193 - precision: 0.5263 - recall: 0.1538 - auc: 0.8845 - val_loss: 0.1903 - val_accuracy: 0.9266 - val_precision: 0.0000e+00 - val_recall: 0.0000e+00 - val_auc: 0.9287\n",
            "Epoch 59/100\n",
            "1/1 [==============================] - 0s 21ms/step - loss: 0.2177 - accuracy: 0.9174 - precision: 0.4889 - recall: 0.1692 - auc: 0.8721 - val_loss: 0.1915 - val_accuracy: 0.9266 - val_precision: 0.0000e+00 - val_recall: 0.0000e+00 - val_auc: 0.9306\n",
            "Epoch 60/100\n",
            "1/1 [==============================] - 0s 24ms/step - loss: 0.2167 - accuracy: 0.9212 - precision: 0.5862 - recall: 0.1308 - auc: 0.8641 - val_loss: 0.1885 - val_accuracy: 0.9266 - val_precision: 0.0000e+00 - val_recall: 0.0000e+00 - val_auc: 0.9329\n",
            "Epoch 61/100\n",
            "1/1 [==============================] - 0s 21ms/step - loss: 0.2158 - accuracy: 0.9212 - precision: 0.6316 - recall: 0.0923 - auc: 0.8775 - val_loss: 0.1857 - val_accuracy: 0.9266 - val_precision: 0.0000e+00 - val_recall: 0.0000e+00 - val_auc: 0.9362\n",
            "Epoch 62/100\n",
            "1/1 [==============================] - 0s 21ms/step - loss: 0.2076 - accuracy: 0.9174 - precision: 0.4872 - recall: 0.1462 - auc: 0.8971 - val_loss: 0.1864 - val_accuracy: 0.9266 - val_precision: 0.0000e+00 - val_recall: 0.0000e+00 - val_auc: 0.9315\n",
            "Epoch 63/100\n",
            "1/1 [==============================] - 0s 21ms/step - loss: 0.2026 - accuracy: 0.9168 - precision: 0.4688 - recall: 0.1154 - auc: 0.9034 - val_loss: 0.1867 - val_accuracy: 0.9266 - val_precision: 0.0000e+00 - val_recall: 0.0000e+00 - val_auc: 0.9296\n",
            "Epoch 64/100\n",
            "1/1 [==============================] - 0s 20ms/step - loss: 0.2052 - accuracy: 0.9212 - precision: 0.5510 - recall: 0.2077 - auc: 0.9014 - val_loss: 0.1862 - val_accuracy: 0.9266 - val_precision: 0.0000e+00 - val_recall: 0.0000e+00 - val_auc: 0.9259\n",
            "Epoch 65/100\n",
            "1/1 [==============================] - 0s 19ms/step - loss: 0.2078 - accuracy: 0.9174 - precision: 0.4872 - recall: 0.1462 - auc: 0.8949 - val_loss: 0.1856 - val_accuracy: 0.9266 - val_precision: 0.0000e+00 - val_recall: 0.0000e+00 - val_auc: 0.9238\n",
            "Epoch 66/100\n",
            "1/1 [==============================] - 0s 21ms/step - loss: 0.2058 - accuracy: 0.9180 - precision: 0.5000 - recall: 0.1231 - auc: 0.8905 - val_loss: 0.1819 - val_accuracy: 0.9266 - val_precision: 0.0000e+00 - val_recall: 0.0000e+00 - val_auc: 0.9231\n",
            "Epoch 67/100\n",
            "1/1 [==============================] - 0s 22ms/step - loss: 0.2031 - accuracy: 0.9187 - precision: 0.5185 - recall: 0.1077 - auc: 0.8963 - val_loss: 0.1763 - val_accuracy: 0.9266 - val_precision: 0.0000e+00 - val_recall: 0.0000e+00 - val_auc: 0.9259\n",
            "Epoch 68/100\n",
            "1/1 [==============================] - 0s 20ms/step - loss: 0.2018 - accuracy: 0.9161 - precision: 0.4717 - recall: 0.1923 - auc: 0.8959 - val_loss: 0.1725 - val_accuracy: 0.9266 - val_precision: 0.0000e+00 - val_recall: 0.0000e+00 - val_auc: 0.9292\n",
            "Epoch 69/100\n",
            "1/1 [==============================] - 0s 21ms/step - loss: 0.2018 - accuracy: 0.9174 - precision: 0.4898 - recall: 0.1846 - auc: 0.9030 - val_loss: 0.1731 - val_accuracy: 0.9266 - val_precision: 0.0000e+00 - val_recall: 0.0000e+00 - val_auc: 0.9294\n",
            "Epoch 70/100\n",
            "1/1 [==============================] - 0s 20ms/step - loss: 0.1928 - accuracy: 0.9231 - precision: 0.5909 - recall: 0.2000 - auc: 0.9067 - val_loss: 0.1741 - val_accuracy: 0.9266 - val_precision: 0.0000e+00 - val_recall: 0.0000e+00 - val_auc: 0.9311\n",
            "Epoch 71/100\n",
            "1/1 [==============================] - 0s 19ms/step - loss: 0.1975 - accuracy: 0.9224 - precision: 0.5814 - recall: 0.1923 - auc: 0.9010 - val_loss: 0.1740 - val_accuracy: 0.9266 - val_precision: 0.0000e+00 - val_recall: 0.0000e+00 - val_auc: 0.9325\n",
            "Epoch 72/100\n",
            "1/1 [==============================] - 0s 20ms/step - loss: 0.2021 - accuracy: 0.9187 - precision: 0.5135 - recall: 0.1462 - auc: 0.8992 - val_loss: 0.1746 - val_accuracy: 0.9266 - val_precision: 0.0000e+00 - val_recall: 0.0000e+00 - val_auc: 0.9362\n",
            "Epoch 73/100\n",
            "1/1 [==============================] - 0s 20ms/step - loss: 0.1987 - accuracy: 0.9193 - precision: 0.5556 - recall: 0.0769 - auc: 0.9092 - val_loss: 0.1740 - val_accuracy: 0.9266 - val_precision: 0.0000e+00 - val_recall: 0.0000e+00 - val_auc: 0.9329\n",
            "Epoch 74/100\n",
            "1/1 [==============================] - 0s 20ms/step - loss: 0.1959 - accuracy: 0.9218 - precision: 0.7143 - recall: 0.0769 - auc: 0.9163 - val_loss: 0.1724 - val_accuracy: 0.9266 - val_precision: 0.0000e+00 - val_recall: 0.0000e+00 - val_auc: 0.9339\n",
            "Epoch 75/100\n",
            "1/1 [==============================] - 0s 19ms/step - loss: 0.1903 - accuracy: 0.9218 - precision: 0.6364 - recall: 0.1077 - auc: 0.9237 - val_loss: 0.1706 - val_accuracy: 0.9266 - val_precision: 0.0000e+00 - val_recall: 0.0000e+00 - val_auc: 0.9369\n",
            "Epoch 76/100\n",
            "1/1 [==============================] - 0s 19ms/step - loss: 0.1836 - accuracy: 0.9275 - precision: 0.7419 - recall: 0.1769 - auc: 0.9283 - val_loss: 0.1674 - val_accuracy: 0.9266 - val_precision: 0.0000e+00 - val_recall: 0.0000e+00 - val_auc: 0.9364\n",
            "Epoch 77/100\n",
            "1/1 [==============================] - 0s 22ms/step - loss: 0.1998 - accuracy: 0.9161 - precision: 0.4595 - recall: 0.1308 - auc: 0.9186 - val_loss: 0.1655 - val_accuracy: 0.9266 - val_precision: 0.0000e+00 - val_recall: 0.0000e+00 - val_auc: 0.9379\n",
            "Epoch 78/100\n",
            "1/1 [==============================] - 0s 22ms/step - loss: 0.1787 - accuracy: 0.9250 - precision: 0.6222 - recall: 0.2154 - auc: 0.9327 - val_loss: 0.1635 - val_accuracy: 0.9266 - val_precision: 0.0000e+00 - val_recall: 0.0000e+00 - val_auc: 0.9402\n",
            "Epoch 79/100\n",
            "1/1 [==============================] - 0s 20ms/step - loss: 0.1918 - accuracy: 0.9180 - precision: 0.5000 - recall: 0.1538 - auc: 0.9231 - val_loss: 0.1624 - val_accuracy: 0.9266 - val_precision: 0.0000e+00 - val_recall: 0.0000e+00 - val_auc: 0.9397\n",
            "Epoch 80/100\n",
            "1/1 [==============================] - 0s 21ms/step - loss: 0.1799 - accuracy: 0.9224 - precision: 0.5686 - recall: 0.2231 - auc: 0.9351 - val_loss: 0.1622 - val_accuracy: 0.9266 - val_precision: 0.0000e+00 - val_recall: 0.0000e+00 - val_auc: 0.9397\n",
            "Epoch 81/100\n",
            "1/1 [==============================] - 0s 21ms/step - loss: 0.1843 - accuracy: 0.9231 - precision: 0.5952 - recall: 0.1923 - auc: 0.9246 - val_loss: 0.1611 - val_accuracy: 0.9266 - val_precision: 0.0000e+00 - val_recall: 0.0000e+00 - val_auc: 0.9421\n",
            "Epoch 82/100\n",
            "1/1 [==============================] - 0s 22ms/step - loss: 0.1850 - accuracy: 0.9180 - precision: 0.5000 - recall: 0.1692 - auc: 0.9299 - val_loss: 0.1597 - val_accuracy: 0.9266 - val_precision: 0.0000e+00 - val_recall: 0.0000e+00 - val_auc: 0.9362\n",
            "Epoch 83/100\n",
            "1/1 [==============================] - 0s 21ms/step - loss: 0.1773 - accuracy: 0.9212 - precision: 0.5532 - recall: 0.2000 - auc: 0.9350 - val_loss: 0.1579 - val_accuracy: 0.9266 - val_precision: 0.0000e+00 - val_recall: 0.0000e+00 - val_auc: 0.9376\n",
            "Epoch 84/100\n",
            "1/1 [==============================] - 0s 20ms/step - loss: 0.1778 - accuracy: 0.9218 - precision: 0.5625 - recall: 0.2077 - auc: 0.9356 - val_loss: 0.1568 - val_accuracy: 0.9266 - val_precision: 0.0000e+00 - val_recall: 0.0000e+00 - val_auc: 0.9400\n",
            "Epoch 85/100\n",
            "1/1 [==============================] - 0s 21ms/step - loss: 0.1780 - accuracy: 0.9231 - precision: 0.5769 - recall: 0.2308 - auc: 0.9351 - val_loss: 0.1563 - val_accuracy: 0.9266 - val_precision: 0.0000e+00 - val_recall: 0.0000e+00 - val_auc: 0.9390\n",
            "Epoch 86/100\n",
            "1/1 [==============================] - 0s 20ms/step - loss: 0.1688 - accuracy: 0.9288 - precision: 0.6393 - recall: 0.3000 - auc: 0.9412 - val_loss: 0.1558 - val_accuracy: 0.9266 - val_precision: 0.0000e+00 - val_recall: 0.0000e+00 - val_auc: 0.9393\n",
            "Epoch 87/100\n",
            "1/1 [==============================] - 0s 27ms/step - loss: 0.1743 - accuracy: 0.9262 - precision: 0.6226 - recall: 0.2538 - auc: 0.9372 - val_loss: 0.1554 - val_accuracy: 0.9266 - val_precision: 0.0000e+00 - val_recall: 0.0000e+00 - val_auc: 0.9395\n",
            "Epoch 88/100\n",
            "1/1 [==============================] - 0s 20ms/step - loss: 0.1779 - accuracy: 0.9243 - precision: 0.5926 - recall: 0.2462 - auc: 0.9363 - val_loss: 0.1553 - val_accuracy: 0.9266 - val_precision: 0.0000e+00 - val_recall: 0.0000e+00 - val_auc: 0.9390\n",
            "Epoch 89/100\n",
            "1/1 [==============================] - 0s 21ms/step - loss: 0.1795 - accuracy: 0.9237 - precision: 0.6000 - recall: 0.2077 - auc: 0.9310 - val_loss: 0.1555 - val_accuracy: 0.9266 - val_precision: 0.0000e+00 - val_recall: 0.0000e+00 - val_auc: 0.9423\n",
            "Epoch 90/100\n",
            "1/1 [==============================] - 0s 20ms/step - loss: 0.1745 - accuracy: 0.9187 - precision: 0.5098 - recall: 0.2000 - auc: 0.9412 - val_loss: 0.1563 - val_accuracy: 0.9266 - val_precision: 0.0000e+00 - val_recall: 0.0000e+00 - val_auc: 0.9432\n",
            "Epoch 91/100\n",
            "1/1 [==============================] - 0s 20ms/step - loss: 0.1699 - accuracy: 0.9288 - precision: 0.6809 - recall: 0.2462 - auc: 0.9424 - val_loss: 0.1554 - val_accuracy: 0.9266 - val_precision: 0.0000e+00 - val_recall: 0.0000e+00 - val_auc: 0.9430\n",
            "Epoch 92/100\n",
            "1/1 [==============================] - 0s 20ms/step - loss: 0.1660 - accuracy: 0.9306 - precision: 0.7273 - recall: 0.2462 - auc: 0.9501 - val_loss: 0.1536 - val_accuracy: 0.9266 - val_precision: 0.0000e+00 - val_recall: 0.0000e+00 - val_auc: 0.9423\n",
            "Epoch 93/100\n",
            "1/1 [==============================] - 0s 21ms/step - loss: 0.1672 - accuracy: 0.9243 - precision: 0.5962 - recall: 0.2385 - auc: 0.9508 - val_loss: 0.1515 - val_accuracy: 0.9266 - val_precision: 0.0000e+00 - val_recall: 0.0000e+00 - val_auc: 0.9425\n",
            "Epoch 94/100\n",
            "1/1 [==============================] - 0s 20ms/step - loss: 0.1637 - accuracy: 0.9281 - precision: 0.6379 - recall: 0.2846 - auc: 0.9492 - val_loss: 0.1505 - val_accuracy: 0.9209 - val_precision: 0.0000e+00 - val_recall: 0.0000e+00 - val_auc: 0.9411\n",
            "Epoch 95/100\n",
            "1/1 [==============================] - 0s 21ms/step - loss: 0.1619 - accuracy: 0.9275 - precision: 0.6087 - recall: 0.3231 - auc: 0.9523 - val_loss: 0.1493 - val_accuracy: 0.9209 - val_precision: 0.0000e+00 - val_recall: 0.0000e+00 - val_auc: 0.9435\n",
            "Epoch 96/100\n",
            "1/1 [==============================] - 0s 21ms/step - loss: 0.1746 - accuracy: 0.9218 - precision: 0.5500 - recall: 0.2538 - auc: 0.9407 - val_loss: 0.1501 - val_accuracy: 0.9209 - val_precision: 0.0000e+00 - val_recall: 0.0000e+00 - val_auc: 0.9442\n",
            "Epoch 97/100\n",
            "1/1 [==============================] - 0s 21ms/step - loss: 0.1638 - accuracy: 0.9281 - precision: 0.6290 - recall: 0.3000 - auc: 0.9491 - val_loss: 0.1527 - val_accuracy: 0.9209 - val_precision: 0.0000e+00 - val_recall: 0.0000e+00 - val_auc: 0.9461\n",
            "Epoch 98/100\n",
            "1/1 [==============================] - 0s 21ms/step - loss: 0.1597 - accuracy: 0.9275 - precision: 0.6415 - recall: 0.2615 - auc: 0.9539 - val_loss: 0.1558 - val_accuracy: 0.9209 - val_precision: 0.0000e+00 - val_recall: 0.0000e+00 - val_auc: 0.9449\n",
            "Epoch 99/100\n",
            "1/1 [==============================] - 0s 21ms/step - loss: 0.1625 - accuracy: 0.9275 - precision: 0.6531 - recall: 0.2462 - auc: 0.9509 - val_loss: 0.1562 - val_accuracy: 0.9209 - val_precision: 0.0000e+00 - val_recall: 0.0000e+00 - val_auc: 0.9451\n",
            "Epoch 100/100\n",
            "1/1 [==============================] - 0s 22ms/step - loss: 0.1510 - accuracy: 0.9357 - precision: 0.7800 - recall: 0.3000 - auc: 0.9568 - val_loss: 0.1523 - val_accuracy: 0.9209 - val_precision: 0.0000e+00 - val_recall: 0.0000e+00 - val_auc: 0.9451\n"
          ],
          "name": "stdout"
        }
      ]
    },
    {
      "cell_type": "code",
      "metadata": {
        "id": "g_UZPFKGU1nH"
      },
      "source": [
        "def plot_metrics(history):\n",
        "    plt.figure(figsize=(15,10))\n",
        "    metrics =  ['loss', 'accuracy', 'precision', 'auc']\n",
        "    for n, metric in enumerate(metrics):\n",
        "      name = metric.replace(\"_\",\" \").capitalize()\n",
        "      plt.subplot(2,2,n+1)\n",
        "      plt.plot(history.epoch,  history.history[metric], color=colors[0], label='Train')\n",
        "      plt.plot(history.epoch, history.history['val_'+metric],\n",
        "              color=colors[0], linestyle=\"--\", label='Val')\n",
        "      plt.xlabel('Epoch')\n",
        "      plt.ylabel(name)\n",
        "\n",
        "      plt.legend()"
      ],
      "execution_count": null,
      "outputs": []
    },
    {
      "cell_type": "code",
      "metadata": {
        "id": "Hou5vai7VWow",
        "outputId": "3297ad13-e9c7-4feb-b1f6-c4bc62745307",
        "colab": {
          "base_uri": "https://localhost:8080/",
          "height": 608
        }
      },
      "source": [
        "plot_metrics(baseline_history)"
      ],
      "execution_count": null,
      "outputs": [
        {
          "output_type": "display_data",
          "data": {
            "image/png": "[encoded data removed]",
            "text/plain": [
              "<Figure size 1080x720 with 4 Axes>"
            ]
          },
          "metadata": {
            "tags": [],
            "needs_background": "light"
          }
        }
      ]
    },
    {
      "cell_type": "code",
      "metadata": {
        "id": "TvJxO---VXnP"
      },
      "source": [
        "train_predictions_baseline = model.predict(X, batch_size=BATCH_SIZE)\n",
        "test_predictions_baseline = model.predict(X_test, batch_size=BATCH_SIZE)"
      ],
      "execution_count": null,
      "outputs": []
    },
    {
      "cell_type": "code",
      "metadata": {
        "id": "4LYJU86XVbMo"
      },
      "source": [
        "from sklearn.metrics import confusion_matrix\n",
        "def plot_cm(labels, predictions, p=0.5):\n",
        "    cm = confusion_matrix(labels, predictions > p)\n",
        "    plt.figure(figsize=(5,5))\n",
        "    sns.heatmap(cm, annot=True, fmt=\"d\")\n",
        "    plt.title('Confusion matrix @{:.2f}'.format(p))\n",
        "    plt.ylabel('Actual label')\n",
        "    plt.xlabel('Predicted label')\n",
        "\n",
        "    print('(True Negatives): ', cm[0][0])\n",
        "    print('(False Positives): ', cm[0][1])\n",
        "    print('(False Negatives): ', cm[1][0])\n",
        "    print('(True Positives): ', cm[1][1])\n",
        "    print('Total: ', np.sum(cm[1]))"
      ],
      "execution_count": null,
      "outputs": []
    },
    {
      "cell_type": "code",
      "metadata": {
        "id": "NyrP_KoaVco_",
        "outputId": "d90f22bc-d6dd-4e33-de89-3569b801339b",
        "colab": {
          "base_uri": "https://localhost:8080/",
          "height": 119
        }
      },
      "source": [
        "baseline_results = model.evaluate(X, y,\n",
        "                                  batch_size=BATCH_SIZE, verbose=0)\n",
        "for name, value in zip(model.metrics_names, baseline_results):\n",
        "  print(name, ': ', value)\n",
        "print()"
      ],
      "execution_count": null,
      "outputs": [
        {
          "output_type": "stream",
          "text": [
            "loss :  0.13956674933433533\n",
            "accuracy :  0.9287515878677368\n",
            "precision :  0.7931034564971924\n",
            "recall :  0.17692308127880096\n",
            "auc :  0.9681794047355652\n",
            "\n"
          ],
          "name": "stdout"
        }
      ]
    },
    {
      "cell_type": "code",
      "metadata": {
        "id": "_RzKYNLUVeQz",
        "outputId": "ff24db24-d2c0-4fa5-f2ad-d132a12513d2",
        "colab": {
          "base_uri": "https://localhost:8080/",
          "height": 537
        }
      },
      "source": [
        "baseline_results = model.evaluate(X_test, y_test,\n",
        "                                  batch_size=BATCH_SIZE, verbose=0)\n",
        "for name, value in zip(model.metrics_names, baseline_results):\n",
        "  print(name, ': ', value)\n",
        "print()\n",
        "\n",
        "plot_cm(y_test, np.round(np.mean(test_predictions_baseline, 1)).astype('int64'))"
      ],
      "execution_count": null,
      "outputs": [
        {
          "output_type": "stream",
          "text": [
            "loss :  0.15233156085014343\n",
            "accuracy :  0.9209039807319641\n",
            "precision :  0.0\n",
            "recall :  0.0\n",
            "auc :  0.9451219439506531\n",
            "\n",
            "(True Negatives):  163\n",
            "(False Positives):  1\n",
            "(False Negatives):  13\n",
            "(True Positives):  0\n",
            "Total:  13\n"
          ],
          "name": "stdout"
        },
        {
          "output_type": "display_data",
          "data": {
            "image/png": "[encoded data removed]",
            "text/plain": [
              "<Figure size 360x360 with 2 Axes>"
            ]
          },
          "metadata": {
            "tags": [],
            "needs_background": "light"
          }
        }
      ]
    },
    {
      "cell_type": "code",
      "metadata": {
        "id": "jKtruQSNVfgX"
      },
      "source": [
        "import sklearn\n",
        "def plot_roc(name, labels, predictions, **kwargs):\n",
        "    fp, tp, _ = sklearn.metrics.roc_curve(labels, predictions)\n",
        "    plt.plot(100*fp, 100*tp, label=name, linewidth=2, **kwargs)\n",
        "    plt.xlabel('False positives [%]')\n",
        "    plt.ylabel('True positives [%]')\n",
        "    plt.grid(True)\n",
        "    ax = plt.gca()\n",
        "    ax.set_aspect('equal')"
      ],
      "execution_count": null,
      "outputs": []
    },
    {
      "cell_type": "code",
      "metadata": {
        "id": "0FBWUO88VtbP",
        "outputId": "f3af8cf9-739c-4e20-b156-edd1632f022d",
        "colab": {
          "base_uri": "https://localhost:8080/",
          "height": 497
        }
      },
      "source": [
        "plt.figure(figsize=(12, 8))\n",
        "plot_roc(\"Train Baseline\", y, train_predictions_baseline, color=colors[0])\n",
        "plot_roc(\"Test Baseline\", y_test, test_predictions_baseline, color=colors[1], linestyle='--')\n",
        "plt.legend(loc='lower right')\n",
        "plt.show()"
      ],
      "execution_count": null,
      "outputs": [
        {
          "output_type": "display_data",
          "data": {
            "image/png": "[encoded data removed]",
            "text/plain": [
              "<Figure size 864x576 with 1 Axes>"
            ]
          },
          "metadata": {
            "tags": [],
            "needs_background": "light"
          }
        }
      ]
    },
    {
      "cell_type": "code",
      "metadata": {
        "id": "tncPpxZlW0Sp",
        "outputId": "5e8b8127-76a3-4e21-e6c2-bf113b31ff2b",
        "colab": {
          "base_uri": "https://localhost:8080/",
          "height": 51
        }
      },
      "source": [
        "weight_for_0 = (1 / neg)*(total)/2.0 \n",
        "weight_for_1 = (1 / pos)*(total)/2.0\n",
        "\n",
        "class_weight = {0: weight_for_0, 1: weight_for_1}\n",
        "\n",
        "print('Weight for class 0: {:.2f}'.format(weight_for_0))\n",
        "print('Weight for class 1: {:.2f}'.format(weight_for_1))"
      ],
      "execution_count": null,
      "outputs": [
        {
          "output_type": "stream",
          "text": [
            "Weight for class 0: 0.54\n",
            "Weight for class 1: 6.16\n"
          ],
          "name": "stdout"
        }
      ]
    },
    {
      "cell_type": "code",
      "metadata": {
        "id": "9S-5Gj9KkmR_",
        "outputId": "f063513a-994b-4f01-ca8e-57088673763d",
        "colab": {
          "base_uri": "https://localhost:8080/",
          "height": 1000
        }
      },
      "source": [
        "weighted_model = make_model()\n",
        "weighted_model.load_weights(initial_weights)\n",
        "\n",
        "weighted_history = weighted_model.fit(\n",
        "    X,\n",
        "    y,\n",
        "    batch_size=BATCH_SIZE,\n",
        "    epochs=EPOCHS,\n",
        "    callbacks = [early_stopping],\n",
        "    validation_data=(X_test, y_test),\n",
        "    class_weight=class_weight) "
      ],
      "execution_count": null,
      "outputs": [
        {
          "output_type": "stream",
          "text": [
            "Epoch 1/100\n",
            "1/1 [==============================] - 1s 520ms/step - loss: 3.8426 - accuracy: 0.9189 - precision: 0.5000 - recall: 0.0210 - auc: 0.4482 - val_loss: 0.5094 - val_accuracy: 0.9266 - val_precision: 0.0000e+00 - val_recall: 0.0000e+00 - val_auc: 0.1904\n",
            "Epoch 2/100\n",
            "1/1 [==============================] - 0s 21ms/step - loss: 3.4177 - accuracy: 0.9155 - precision: 0.3333 - recall: 0.0308 - auc: 0.3683 - val_loss: 0.4573 - val_accuracy: 0.9266 - val_precision: 0.0000e+00 - val_recall: 0.0000e+00 - val_auc: 0.2080\n",
            "Epoch 3/100\n",
            "1/1 [==============================] - 0s 21ms/step - loss: 2.9774 - accuracy: 0.9092 - precision: 0.1818 - recall: 0.0308 - auc: 0.3389 - val_loss: 0.4193 - val_accuracy: 0.9266 - val_precision: 0.0000e+00 - val_recall: 0.0000e+00 - val_auc: 0.2333\n",
            "Epoch 4/100\n",
            "1/1 [==============================] - 0s 23ms/step - loss: 2.3533 - accuracy: 0.9105 - precision: 0.3000 - recall: 0.0692 - auc: 0.4057 - val_loss: 0.3863 - val_accuracy: 0.9266 - val_precision: 0.0000e+00 - val_recall: 0.0000e+00 - val_auc: 0.2589\n",
            "Epoch 5/100\n",
            "1/1 [==============================] - 0s 23ms/step - loss: 2.1930 - accuracy: 0.9079 - precision: 0.2778 - recall: 0.0769 - auc: 0.3869 - val_loss: 0.3583 - val_accuracy: 0.9266 - val_precision: 0.0000e+00 - val_recall: 0.0000e+00 - val_auc: 0.2932\n",
            "Epoch 6/100\n",
            "1/1 [==============================] - 0s 21ms/step - loss: 1.9617 - accuracy: 0.9042 - precision: 0.1944 - recall: 0.0538 - auc: 0.4144 - val_loss: 0.3327 - val_accuracy: 0.9209 - val_precision: 0.0000e+00 - val_recall: 0.0000e+00 - val_auc: 0.3283\n",
            "Epoch 7/100\n",
            "1/1 [==============================] - 0s 21ms/step - loss: 1.7916 - accuracy: 0.8972 - precision: 0.0769 - recall: 0.0231 - auc: 0.3803 - val_loss: 0.3063 - val_accuracy: 0.9209 - val_precision: 0.0000e+00 - val_recall: 0.0000e+00 - val_auc: 0.4334\n",
            "Epoch 8/100\n",
            "1/1 [==============================] - 0s 21ms/step - loss: 1.4228 - accuracy: 0.9029 - precision: 0.2273 - recall: 0.0769 - auc: 0.4691 - val_loss: 0.2868 - val_accuracy: 0.9153 - val_precision: 0.0000e+00 - val_recall: 0.0000e+00 - val_auc: 0.6377\n",
            "Epoch 9/100\n",
            "1/1 [==============================] - 0s 20ms/step - loss: 1.1829 - accuracy: 0.8916 - precision: 0.2558 - recall: 0.1692 - auc: 0.5485 - val_loss: 0.2757 - val_accuracy: 0.9153 - val_precision: 0.0000e+00 - val_recall: 0.0000e+00 - val_auc: 0.7713\n",
            "Epoch 10/100\n",
            "1/1 [==============================] - 0s 21ms/step - loss: 1.1146 - accuracy: 0.8840 - precision: 0.1786 - recall: 0.1154 - auc: 0.5197 - val_loss: 0.2744 - val_accuracy: 0.9153 - val_precision: 0.0000e+00 - val_recall: 0.0000e+00 - val_auc: 0.8211\n",
            "Epoch 11/100\n",
            "1/1 [==============================] - 0s 22ms/step - loss: 0.9568 - accuracy: 0.8827 - precision: 0.2500 - recall: 0.2154 - auc: 0.6037 - val_loss: 0.2765 - val_accuracy: 0.9153 - val_precision: 0.0000e+00 - val_recall: 0.0000e+00 - val_auc: 0.8260\n",
            "Epoch 12/100\n",
            "1/1 [==============================] - 0s 21ms/step - loss: 0.9200 - accuracy: 0.8897 - precision: 0.2897 - recall: 0.2385 - auc: 0.6088 - val_loss: 0.2828 - val_accuracy: 0.9266 - val_precision: 0.5000 - val_recall: 0.3846 - val_auc: 0.8260\n",
            "Epoch 13/100\n",
            "1/1 [==============================] - 0s 22ms/step - loss: 0.8548 - accuracy: 0.8689 - precision: 0.2562 - recall: 0.3154 - auc: 0.6489 - val_loss: 0.2903 - val_accuracy: 0.9209 - val_precision: 0.4545 - val_recall: 0.3846 - val_auc: 0.8201\n",
            "Epoch 14/100\n",
            "1/1 [==============================] - 0s 20ms/step - loss: 0.8285 - accuracy: 0.8802 - precision: 0.3125 - recall: 0.3846 - auc: 0.6508 - val_loss: 0.2977 - val_accuracy: 0.8927 - val_precision: 0.3125 - val_recall: 0.3846 - val_auc: 0.8218\n",
            "Epoch 15/100\n",
            "1/1 [==============================] - 0s 20ms/step - loss: 0.8122 - accuracy: 0.8613 - precision: 0.2680 - recall: 0.4000 - auc: 0.6655 - val_loss: 0.3050 - val_accuracy: 0.8927 - val_precision: 0.3125 - val_recall: 0.3846 - val_auc: 0.8234\n",
            "Epoch 16/100\n",
            "1/1 [==============================] - 0s 21ms/step - loss: 0.7902 - accuracy: 0.8588 - precision: 0.2650 - recall: 0.4077 - auc: 0.6798 - val_loss: 0.3104 - val_accuracy: 0.8870 - val_precision: 0.2941 - val_recall: 0.3846 - val_auc: 0.8236\n",
            "Epoch 17/100\n",
            "1/1 [==============================] - 0s 21ms/step - loss: 0.7590 - accuracy: 0.8531 - precision: 0.2605 - recall: 0.4308 - auc: 0.7046 - val_loss: 0.3161 - val_accuracy: 0.8870 - val_precision: 0.2941 - val_recall: 0.3846 - val_auc: 0.8255\n",
            "Epoch 18/100\n",
            "1/1 [==============================] - 0s 22ms/step - loss: 0.7539 - accuracy: 0.8531 - precision: 0.2648 - recall: 0.4462 - auc: 0.6994 - val_loss: 0.3220 - val_accuracy: 0.8814 - val_precision: 0.2778 - val_recall: 0.3846 - val_auc: 0.8279\n",
            "Epoch 19/100\n",
            "1/1 [==============================] - 0s 21ms/step - loss: 0.7942 - accuracy: 0.8499 - precision: 0.2429 - recall: 0.3923 - auc: 0.6916 - val_loss: 0.3283 - val_accuracy: 0.8814 - val_precision: 0.2778 - val_recall: 0.3846 - val_auc: 0.8290\n",
            "Epoch 20/100\n",
            "1/1 [==============================] - 0s 20ms/step - loss: 0.7820 - accuracy: 0.8468 - precision: 0.2443 - recall: 0.4154 - auc: 0.7008 - val_loss: 0.3348 - val_accuracy: 0.8814 - val_precision: 0.2778 - val_recall: 0.3846 - val_auc: 0.8279\n",
            "Epoch 21/100\n",
            "1/1 [==============================] - 0s 21ms/step - loss: 0.8083 - accuracy: 0.8562 - precision: 0.2689 - recall: 0.4385 - auc: 0.6654 - val_loss: 0.3407 - val_accuracy: 0.8814 - val_precision: 0.2778 - val_recall: 0.3846 - val_auc: 0.8304\n",
            "Epoch 22/100\n",
            "1/1 [==============================] - 0s 23ms/step - loss: 0.8094 - accuracy: 0.8291 - precision: 0.2213 - recall: 0.4308 - auc: 0.6601 - val_loss: 0.3459 - val_accuracy: 0.8814 - val_precision: 0.2778 - val_recall: 0.3846 - val_auc: 0.8323\n",
            "Epoch 23/100\n",
            "1/1 [==============================] - 0s 22ms/step - loss: 0.8287 - accuracy: 0.8348 - precision: 0.2295 - recall: 0.4308 - auc: 0.6495 - val_loss: 0.3507 - val_accuracy: 0.8814 - val_precision: 0.2778 - val_recall: 0.3846 - val_auc: 0.8347\n",
            "Epoch 24/100\n",
            "1/1 [==============================] - 0s 22ms/step - loss: 0.7915 - accuracy: 0.8361 - precision: 0.2379 - recall: 0.4538 - auc: 0.6756 - val_loss: 0.3553 - val_accuracy: 0.8814 - val_precision: 0.2778 - val_recall: 0.3846 - val_auc: 0.8382\n",
            "Epoch 25/100\n",
            "1/1 [==============================] - 0s 20ms/step - loss: 0.7236 - accuracy: 0.8367 - precision: 0.2584 - recall: 0.5308 - auc: 0.7222 - val_loss: 0.3583 - val_accuracy: 0.8814 - val_precision: 0.2778 - val_recall: 0.3846 - val_auc: 0.8382\n",
            "Epoch 26/100\n",
            "1/1 [==============================] - 0s 22ms/step - loss: 0.8226 - accuracy: 0.8253 - precision: 0.2118 - recall: 0.4154 - auc: 0.6627 - val_loss: 0.3631 - val_accuracy: 0.8814 - val_precision: 0.2778 - val_recall: 0.3846 - val_auc: 0.8422\n",
            "Epoch 27/100\n",
            "1/1 [==============================] - 0s 22ms/step - loss: 0.7436 - accuracy: 0.8228 - precision: 0.2351 - recall: 0.5154 - auc: 0.7059 - val_loss: 0.3672 - val_accuracy: 0.8814 - val_precision: 0.2778 - val_recall: 0.3846 - val_auc: 0.8440\n",
            "Epoch 28/100\n",
            "1/1 [==============================] - 0s 22ms/step - loss: 0.7551 - accuracy: 0.8304 - precision: 0.2435 - recall: 0.5077 - auc: 0.7042 - val_loss: 0.3707 - val_accuracy: 0.8757 - val_precision: 0.2632 - val_recall: 0.3846 - val_auc: 0.8494\n",
            "Epoch 29/100\n",
            "1/1 [==============================] - 0s 22ms/step - loss: 0.7236 - accuracy: 0.8443 - precision: 0.2706 - recall: 0.5308 - auc: 0.7162 - val_loss: 0.3735 - val_accuracy: 0.8757 - val_precision: 0.2632 - val_recall: 0.3846 - val_auc: 0.8534\n",
            "Epoch 30/100\n",
            "1/1 [==============================] - 0s 22ms/step - loss: 0.7457 - accuracy: 0.8310 - precision: 0.2500 - recall: 0.5308 - auc: 0.7014 - val_loss: 0.3750 - val_accuracy: 0.8814 - val_precision: 0.2778 - val_recall: 0.3846 - val_auc: 0.8537\n",
            "Epoch 31/100\n",
            "1/1 [==============================] - 0s 21ms/step - loss: 0.7068 - accuracy: 0.8373 - precision: 0.2557 - recall: 0.5154 - auc: 0.7234 - val_loss: 0.3755 - val_accuracy: 0.8814 - val_precision: 0.2778 - val_recall: 0.3846 - val_auc: 0.8546\n",
            "Epoch 32/100\n",
            "1/1 [==============================] - 0s 21ms/step - loss: 0.8045 - accuracy: 0.8228 - precision: 0.2107 - recall: 0.4231 - auc: 0.6722 - val_loss: 0.3752 - val_accuracy: 0.8814 - val_precision: 0.2778 - val_recall: 0.3846 - val_auc: 0.8576\n",
            "Epoch 33/100\n",
            "1/1 [==============================] - 0s 21ms/step - loss: 0.7381 - accuracy: 0.8342 - precision: 0.2471 - recall: 0.5000 - auc: 0.6999 - val_loss: 0.3741 - val_accuracy: 0.8814 - val_precision: 0.2778 - val_recall: 0.3846 - val_auc: 0.8593\n",
            "Epoch 34/100\n",
            "1/1 [==============================] - 0s 21ms/step - loss: 0.7552 - accuracy: 0.8354 - precision: 0.2451 - recall: 0.4846 - auc: 0.6912 - val_loss: 0.3724 - val_accuracy: 0.8814 - val_precision: 0.2778 - val_recall: 0.3846 - val_auc: 0.8642\n",
            "Epoch 35/100\n",
            "1/1 [==============================] - 0s 21ms/step - loss: 0.7229 - accuracy: 0.8367 - precision: 0.2548 - recall: 0.5154 - auc: 0.7087 - val_loss: 0.3696 - val_accuracy: 0.8814 - val_precision: 0.2778 - val_recall: 0.3846 - val_auc: 0.8668\n",
            "Epoch 36/100\n",
            "1/1 [==============================] - 0s 21ms/step - loss: 0.7608 - accuracy: 0.8392 - precision: 0.2449 - recall: 0.4615 - auc: 0.6989 - val_loss: 0.3667 - val_accuracy: 0.8814 - val_precision: 0.2778 - val_recall: 0.3846 - val_auc: 0.8694\n",
            "Epoch 37/100\n",
            "1/1 [==============================] - 0s 22ms/step - loss: 0.6985 - accuracy: 0.8449 - precision: 0.2680 - recall: 0.5154 - auc: 0.7356 - val_loss: 0.3634 - val_accuracy: 0.8757 - val_precision: 0.2632 - val_recall: 0.3846 - val_auc: 0.8708\n",
            "Epoch 38/100\n",
            "1/1 [==============================] - 0s 22ms/step - loss: 0.7339 - accuracy: 0.8493 - precision: 0.2681 - recall: 0.4846 - auc: 0.7085 - val_loss: 0.3605 - val_accuracy: 0.8757 - val_precision: 0.2632 - val_recall: 0.3846 - val_auc: 0.8729\n",
            "Epoch 39/100\n",
            "1/1 [==============================] - 0s 24ms/step - loss: 0.7273 - accuracy: 0.8462 - precision: 0.2702 - recall: 0.5154 - auc: 0.7111 - val_loss: 0.3560 - val_accuracy: 0.8757 - val_precision: 0.2632 - val_recall: 0.3846 - val_auc: 0.8755\n",
            "Epoch 40/100\n",
            "1/1 [==============================] - 0s 21ms/step - loss: 0.6839 - accuracy: 0.8556 - precision: 0.2800 - recall: 0.4846 - auc: 0.7563 - val_loss: 0.3526 - val_accuracy: 0.8757 - val_precision: 0.2632 - val_recall: 0.3846 - val_auc: 0.8757\n",
            "Epoch 41/100\n",
            "1/1 [==============================] - 0s 22ms/step - loss: 0.7638 - accuracy: 0.8556 - precision: 0.2740 - recall: 0.4615 - auc: 0.6960 - val_loss: 0.3487 - val_accuracy: 0.8814 - val_precision: 0.2778 - val_recall: 0.3846 - val_auc: 0.8766\n",
            "Epoch 42/100\n",
            "1/1 [==============================] - 0s 21ms/step - loss: 0.7091 - accuracy: 0.8556 - precision: 0.2780 - recall: 0.4769 - auc: 0.7416 - val_loss: 0.3442 - val_accuracy: 0.8814 - val_precision: 0.2778 - val_recall: 0.3846 - val_auc: 0.8773\n",
            "Epoch 43/100\n",
            "1/1 [==============================] - 0s 21ms/step - loss: 0.6870 - accuracy: 0.8588 - precision: 0.2902 - recall: 0.5000 - auc: 0.7504 - val_loss: 0.3385 - val_accuracy: 0.8814 - val_precision: 0.2778 - val_recall: 0.3846 - val_auc: 0.8788\n",
            "Epoch 44/100\n",
            "1/1 [==============================] - 0s 21ms/step - loss: 0.6776 - accuracy: 0.8588 - precision: 0.2883 - recall: 0.4923 - auc: 0.7540 - val_loss: 0.3330 - val_accuracy: 0.8870 - val_precision: 0.2941 - val_recall: 0.3846 - val_auc: 0.8802\n",
            "Epoch 45/100\n",
            "1/1 [==============================] - 0s 21ms/step - loss: 0.6923 - accuracy: 0.8670 - precision: 0.3024 - recall: 0.4769 - auc: 0.7502 - val_loss: 0.3282 - val_accuracy: 0.8870 - val_precision: 0.2941 - val_recall: 0.3846 - val_auc: 0.8832\n",
            "Epoch 46/100\n",
            "1/1 [==============================] - 0s 23ms/step - loss: 0.7116 - accuracy: 0.8657 - precision: 0.2976 - recall: 0.4692 - auc: 0.7267 - val_loss: 0.3256 - val_accuracy: 0.8870 - val_precision: 0.2941 - val_recall: 0.3846 - val_auc: 0.8841\n",
            "Epoch 47/100\n",
            "1/1 [==============================] - 0s 21ms/step - loss: 0.7018 - accuracy: 0.8651 - precision: 0.2941 - recall: 0.4615 - auc: 0.7525 - val_loss: 0.3224 - val_accuracy: 0.8870 - val_precision: 0.2941 - val_recall: 0.3846 - val_auc: 0.8841\n",
            "Epoch 48/100\n",
            "1/1 [==============================] - 0s 23ms/step - loss: 0.6747 - accuracy: 0.8707 - precision: 0.3134 - recall: 0.4846 - auc: 0.7583 - val_loss: 0.3180 - val_accuracy: 0.8870 - val_precision: 0.2941 - val_recall: 0.3846 - val_auc: 0.8853\n",
            "Epoch 49/100\n",
            "1/1 [==============================] - 0s 21ms/step - loss: 0.6723 - accuracy: 0.8720 - precision: 0.3202 - recall: 0.5000 - auc: 0.7693 - val_loss: 0.3151 - val_accuracy: 0.8870 - val_precision: 0.2941 - val_recall: 0.3846 - val_auc: 0.8867\n",
            "Epoch 50/100\n",
            "1/1 [==============================] - 0s 21ms/step - loss: 0.6697 - accuracy: 0.8707 - precision: 0.3153 - recall: 0.4923 - auc: 0.7718 - val_loss: 0.3138 - val_accuracy: 0.8870 - val_precision: 0.2941 - val_recall: 0.3846 - val_auc: 0.8874\n",
            "Epoch 51/100\n",
            "1/1 [==============================] - 0s 22ms/step - loss: 0.6455 - accuracy: 0.8752 - precision: 0.3229 - recall: 0.4769 - auc: 0.7921 - val_loss: 0.3130 - val_accuracy: 0.8814 - val_precision: 0.2778 - val_recall: 0.3846 - val_auc: 0.8879\n",
            "Epoch 52/100\n",
            "1/1 [==============================] - 0s 21ms/step - loss: 0.6556 - accuracy: 0.8745 - precision: 0.3266 - recall: 0.5000 - auc: 0.7783 - val_loss: 0.3135 - val_accuracy: 0.8814 - val_precision: 0.2778 - val_recall: 0.3846 - val_auc: 0.8881\n",
            "Epoch 53/100\n",
            "1/1 [==============================] - 0s 22ms/step - loss: 0.6934 - accuracy: 0.8821 - precision: 0.3390 - recall: 0.4615 - auc: 0.7512 - val_loss: 0.3141 - val_accuracy: 0.8757 - val_precision: 0.2632 - val_recall: 0.3846 - val_auc: 0.8891\n",
            "Epoch 54/100\n",
            "1/1 [==============================] - 0s 21ms/step - loss: 0.6804 - accuracy: 0.8720 - precision: 0.3128 - recall: 0.4692 - auc: 0.7714 - val_loss: 0.3152 - val_accuracy: 0.8757 - val_precision: 0.2632 - val_recall: 0.3846 - val_auc: 0.8884\n",
            "Epoch 55/100\n",
            "1/1 [==============================] - 0s 20ms/step - loss: 0.6675 - accuracy: 0.8726 - precision: 0.3182 - recall: 0.4846 - auc: 0.7676 - val_loss: 0.3181 - val_accuracy: 0.8814 - val_precision: 0.3182 - val_recall: 0.5385 - val_auc: 0.8900\n",
            "Epoch 56/100\n",
            "1/1 [==============================] - 0s 21ms/step - loss: 0.6388 - accuracy: 0.8796 - precision: 0.3452 - recall: 0.5231 - auc: 0.7933 - val_loss: 0.3242 - val_accuracy: 0.8814 - val_precision: 0.3462 - val_recall: 0.6923 - val_auc: 0.8905\n",
            "Epoch 57/100\n",
            "1/1 [==============================] - 0s 24ms/step - loss: 0.6081 - accuracy: 0.8770 - precision: 0.3445 - recall: 0.5538 - auc: 0.8091 - val_loss: 0.3320 - val_accuracy: 0.8814 - val_precision: 0.3462 - val_recall: 0.6923 - val_auc: 0.8914\n",
            "Epoch 58/100\n",
            "1/1 [==============================] - 0s 20ms/step - loss: 0.6534 - accuracy: 0.8670 - precision: 0.3043 - recall: 0.4846 - auc: 0.7825 - val_loss: 0.3389 - val_accuracy: 0.8757 - val_precision: 0.3333 - val_recall: 0.6923 - val_auc: 0.8954\n",
            "Epoch 59/100\n",
            "1/1 [==============================] - 0s 21ms/step - loss: 0.6558 - accuracy: 0.8701 - precision: 0.3137 - recall: 0.4923 - auc: 0.7803 - val_loss: 0.3407 - val_accuracy: 0.8757 - val_precision: 0.3333 - val_recall: 0.6923 - val_auc: 0.8977\n",
            "Epoch 60/100\n",
            "1/1 [==============================] - 0s 21ms/step - loss: 0.6576 - accuracy: 0.8632 - precision: 0.2958 - recall: 0.4846 - auc: 0.7760 - val_loss: 0.3362 - val_accuracy: 0.8757 - val_precision: 0.3333 - val_recall: 0.6923 - val_auc: 0.9013\n",
            "Epoch 61/100\n",
            "1/1 [==============================] - 0s 21ms/step - loss: 0.6082 - accuracy: 0.8726 - precision: 0.3286 - recall: 0.5308 - auc: 0.8158 - val_loss: 0.3263 - val_accuracy: 0.8814 - val_precision: 0.3462 - val_recall: 0.6923 - val_auc: 0.9015\n",
            "Epoch 62/100\n",
            "1/1 [==============================] - 0s 23ms/step - loss: 0.6226 - accuracy: 0.8758 - precision: 0.3366 - recall: 0.5308 - auc: 0.8077 - val_loss: 0.3130 - val_accuracy: 0.8870 - val_precision: 0.3600 - val_recall: 0.6923 - val_auc: 0.9048\n",
            "Epoch 63/100\n",
            "1/1 [==============================] - 0s 23ms/step - loss: 0.6060 - accuracy: 0.8827 - precision: 0.3511 - recall: 0.5077 - auc: 0.8252 - val_loss: 0.3008 - val_accuracy: 0.8870 - val_precision: 0.3600 - val_recall: 0.6923 - val_auc: 0.9060\n",
            "Epoch 64/100\n",
            "1/1 [==============================] - 0s 21ms/step - loss: 0.5776 - accuracy: 0.8953 - precision: 0.3989 - recall: 0.5462 - auc: 0.8334 - val_loss: 0.2937 - val_accuracy: 0.8870 - val_precision: 0.3600 - val_recall: 0.6923 - val_auc: 0.9092\n",
            "Epoch 65/100\n",
            "1/1 [==============================] - 0s 25ms/step - loss: 0.6459 - accuracy: 0.8846 - precision: 0.3503 - recall: 0.4769 - auc: 0.8128 - val_loss: 0.2881 - val_accuracy: 0.8870 - val_precision: 0.3600 - val_recall: 0.6923 - val_auc: 0.9104\n",
            "Epoch 66/100\n",
            "1/1 [==============================] - 0s 21ms/step - loss: 0.5972 - accuracy: 0.8972 - precision: 0.4012 - recall: 0.5154 - auc: 0.8404 - val_loss: 0.2890 - val_accuracy: 0.8870 - val_precision: 0.3600 - val_recall: 0.6923 - val_auc: 0.9114\n",
            "Epoch 67/100\n",
            "1/1 [==============================] - 0s 21ms/step - loss: 0.5398 - accuracy: 0.9010 - precision: 0.4220 - recall: 0.5615 - auc: 0.8653 - val_loss: 0.2990 - val_accuracy: 0.8870 - val_precision: 0.3600 - val_recall: 0.6923 - val_auc: 0.9139\n",
            "Epoch 68/100\n",
            "1/1 [==============================] - 0s 26ms/step - loss: 0.5663 - accuracy: 0.8960 - precision: 0.4011 - recall: 0.5462 - auc: 0.8509 - val_loss: 0.3087 - val_accuracy: 0.8757 - val_precision: 0.3333 - val_recall: 0.6923 - val_auc: 0.9151\n",
            "Epoch 69/100\n",
            "1/1 [==============================] - 0s 21ms/step - loss: 0.5703 - accuracy: 0.8916 - precision: 0.3871 - recall: 0.5538 - auc: 0.8453 - val_loss: 0.3166 - val_accuracy: 0.8757 - val_precision: 0.3333 - val_recall: 0.6923 - val_auc: 0.9139\n",
            "Epoch 70/100\n",
            "1/1 [==============================] - 0s 20ms/step - loss: 0.5563 - accuracy: 0.8802 - precision: 0.3571 - recall: 0.5769 - auc: 0.8526 - val_loss: 0.3137 - val_accuracy: 0.8757 - val_precision: 0.3333 - val_recall: 0.6923 - val_auc: 0.9139\n",
            "Epoch 71/100\n",
            "1/1 [==============================] - 0s 20ms/step - loss: 0.5932 - accuracy: 0.8796 - precision: 0.3512 - recall: 0.5538 - auc: 0.8302 - val_loss: 0.3051 - val_accuracy: 0.8870 - val_precision: 0.3600 - val_recall: 0.6923 - val_auc: 0.9116\n",
            "Epoch 72/100\n",
            "1/1 [==============================] - 0s 21ms/step - loss: 0.5276 - accuracy: 0.8890 - precision: 0.3905 - recall: 0.6308 - auc: 0.8563 - val_loss: 0.2904 - val_accuracy: 0.8870 - val_precision: 0.3600 - val_recall: 0.6923 - val_auc: 0.9139\n",
            "Epoch 73/100\n",
            "1/1 [==============================] - 0s 20ms/step - loss: 0.5894 - accuracy: 0.8966 - precision: 0.3988 - recall: 0.5154 - auc: 0.8548 - val_loss: 0.2838 - val_accuracy: 0.8870 - val_precision: 0.3600 - val_recall: 0.6923 - val_auc: 0.9125\n",
            "Epoch 74/100\n",
            "1/1 [==============================] - 0s 21ms/step - loss: 0.5333 - accuracy: 0.8979 - precision: 0.4175 - recall: 0.6231 - auc: 0.8670 - val_loss: 0.2803 - val_accuracy: 0.8927 - val_precision: 0.3750 - val_recall: 0.6923 - val_auc: 0.9123\n",
            "Epoch 75/100\n",
            "1/1 [==============================] - 0s 20ms/step - loss: 0.5576 - accuracy: 0.8934 - precision: 0.3886 - recall: 0.5231 - auc: 0.8685 - val_loss: 0.2805 - val_accuracy: 0.8927 - val_precision: 0.3750 - val_recall: 0.6923 - val_auc: 0.9118\n",
            "Epoch 76/100\n",
            "1/1 [==============================] - 0s 20ms/step - loss: 0.5333 - accuracy: 0.8991 - precision: 0.4148 - recall: 0.5615 - auc: 0.8787 - val_loss: 0.2867 - val_accuracy: 0.9040 - val_precision: 0.4231 - val_recall: 0.8462 - val_auc: 0.9095\n",
            "Epoch 77/100\n",
            "1/1 [==============================] - 0s 23ms/step - loss: 0.5175 - accuracy: 0.8972 - precision: 0.4162 - recall: 0.6308 - auc: 0.8780 - val_loss: 0.2944 - val_accuracy: 0.9040 - val_precision: 0.4231 - val_recall: 0.8462 - val_auc: 0.9116\n",
            "Epoch 78/100\n",
            "1/1 [==============================] - ETA: 0s - loss: 0.4825 - accuracy: 0.9029 - precision: 0.4375 - recall: 0.6462 - auc: 0.8968Restoring model weights from the end of the best epoch.\n",
            "1/1 [==============================] - 0s 23ms/step - loss: 0.4825 - accuracy: 0.9029 - precision: 0.4375 - recall: 0.6462 - auc: 0.8968 - val_loss: 0.3040 - val_accuracy: 0.9040 - val_precision: 0.4231 - val_recall: 0.8462 - val_auc: 0.9095\n",
            "Epoch 00078: early stopping\n"
          ],
          "name": "stdout"
        }
      ]
    },
    {
      "cell_type": "code",
      "metadata": {
        "id": "vJ4nC-FkkqQr",
        "outputId": "c93756b9-3c02-4a11-8d14-41b5bb4a04e4",
        "colab": {
          "base_uri": "https://localhost:8080/",
          "height": 608
        }
      },
      "source": [
        "plot_metrics(weighted_history)"
      ],
      "execution_count": null,
      "outputs": [
        {
          "output_type": "display_data",
          "data": {
            "image/png": "[encoded data removed]",
            "text/plain": [
              "<Figure size 1080x720 with 4 Axes>"
            ]
          },
          "metadata": {
            "tags": [],
            "needs_background": "light"
          }
        }
      ]
    },
    {
      "cell_type": "code",
      "metadata": {
        "id": "Li_a7vDdkwg7"
      },
      "source": [
        "train_predictions_weighted = weighted_model.predict(X, batch_size=BATCH_SIZE)\n",
        "test_predictions_weighted = weighted_model.predict(X_test, batch_size=BATCH_SIZE)"
      ],
      "execution_count": null,
      "outputs": []
    },
    {
      "cell_type": "code",
      "metadata": {
        "id": "SOlj4OwXk2_7",
        "outputId": "146abc68-b3b2-4b68-a046-1b7c017ed6a3",
        "colab": {
          "base_uri": "https://localhost:8080/",
          "height": 537
        }
      },
      "source": [
        "weighted_results = weighted_model.evaluate(X_test, y_test,\n",
        "                                           batch_size=BATCH_SIZE, verbose=0)\n",
        "for name, value in zip(weighted_model.metrics_names, weighted_results):\n",
        "    print(name, ': ', value)\n",
        "print()\n",
        "\n",
        "plot_cm(y_test, np.round(np.mean(test_predictions_weighted, 1)).astype('int64'))"
      ],
      "execution_count": null,
      "outputs": [
        {
          "output_type": "stream",
          "text": [
            "loss :  0.3087049424648285\n",
            "accuracy :  0.8757061958312988\n",
            "precision :  0.3333333432674408\n",
            "recall :  0.692307710647583\n",
            "auc :  0.9151031970977783\n",
            "\n",
            "(True Negatives):  146\n",
            "(False Positives):  18\n",
            "(False Negatives):  4\n",
            "(True Positives):  9\n",
            "Total:  13\n"
          ],
          "name": "stdout"
        },
        {
          "output_type": "display_data",
          "data": {
            "image/png": "[encoded data removed]",
            "text/plain": [
              "<Figure size 360x360 with 2 Axes>"
            ]
          },
          "metadata": {
            "tags": [],
            "needs_background": "light"
          }
        }
      ]
    },
    {
      "cell_type": "code",
      "metadata": {
        "id": "7WmWULRPk4GU",
        "outputId": "31c2fb2d-684d-427e-e19b-e80a59cf7a26",
        "colab": {
          "base_uri": "https://localhost:8080/",
          "height": 296
        }
      },
      "source": [
        "plot_roc(\"Train Baseline\", y, train_predictions_baseline, color=colors[0])\n",
        "plot_roc(\"Test Baseline\", y_test, test_predictions_baseline, color=colors[0], linestyle='--')\n",
        "\n",
        "plot_roc(\"Train Weighted\", y, train_predictions_weighted, color=colors[1])\n",
        "plot_roc(\"Test Weighted\", y_test, test_predictions_weighted, color=colors[1], linestyle='--')\n",
        "\n",
        "\n",
        "plt.legend()"
      ],
      "execution_count": null,
      "outputs": [
        {
          "output_type": "execute_result",
          "data": {
            "text/plain": [
              "<matplotlib.legend.Legend at 0x7ff6c9b5c358>"
            ]
          },
          "metadata": {
            "tags": []
          },
          "execution_count": 37
        },
        {
          "output_type": "display_data",
          "data": {
            "image/png": "[encoded data removed]",
            "text/plain": [
              "<Figure size 432x288 with 1 Axes>"
            ]
          },
          "metadata": {
            "tags": [],
            "needs_background": "light"
          }
        }
      ]
    },
    {
      "cell_type": "code",
      "metadata": {
        "id": "MmPVXmGSlHL8",
        "outputId": "b48e11b8-2bba-426d-8ced-9f89c80bd85f",
        "colab": {
          "base_uri": "https://localhost:8080/",
          "height": 85
        }
      },
      "source": [
        "pos_features = X[bool_train_labels].reset_index(drop=True)\n",
        "neg_features = X[~bool_train_labels].reset_index(drop=True)\n",
        "\n",
        "pos_labels = y[bool_train_labels].reset_index(drop=True)\n",
        "neg_labels = y[~bool_train_labels].reset_index(drop=True)"
      ],
      "execution_count": null,
      "outputs": [
        {
          "output_type": "stream",
          "text": [
            "/usr/local/lib/python3.6/dist-packages/ipykernel_launcher.py:1: UserWarning: Boolean Series key will be reindexed to match DataFrame index.\n",
            "  \"\"\"Entry point for launching an IPython kernel.\n",
            "/usr/local/lib/python3.6/dist-packages/ipykernel_launcher.py:2: UserWarning: Boolean Series key will be reindexed to match DataFrame index.\n",
            "  \n"
          ],
          "name": "stderr"
        }
      ]
    },
    {
      "cell_type": "code",
      "metadata": {
        "id": "m_HwNiywlaqG",
        "outputId": "087b9bc7-c20d-4d76-b7ae-c8b25a36574b",
        "colab": {
          "base_uri": "https://localhost:8080/",
          "height": 34
        }
      },
      "source": [
        "ids = np.arange(len(pos_features))\n",
        "choices = np.random.choice(ids, len(neg_features))\n",
        "\n",
        "res_pos_features = pos_features.iloc[choices]\n",
        "res_pos_labels = pos_labels[choices]\n",
        "\n",
        "res_pos_features.shape"
      ],
      "execution_count": null,
      "outputs": [
        {
          "output_type": "execute_result",
          "data": {
            "text/plain": [
              "(1456, 1558)"
            ]
          },
          "metadata": {
            "tags": []
          },
          "execution_count": 39
        }
      ]
    },
    {
      "cell_type": "code",
      "metadata": {
        "id": "Gc0Vml53lmDz",
        "outputId": "91f9f98c-db6c-4859-dfec-7d84116c0f08",
        "colab": {
          "base_uri": "https://localhost:8080/",
          "height": 34
        }
      },
      "source": [
        "resampled_features = np.concatenate([res_pos_features, neg_features], axis=0)\n",
        "resampled_labels = np.concatenate([res_pos_labels, neg_labels], axis=0)\n",
        "\n",
        "order = np.arange(len(resampled_labels))\n",
        "np.random.shuffle(order)\n",
        "resampled_features = resampled_features[order]\n",
        "resampled_labels = resampled_labels[order]\n",
        "\n",
        "resampled_features.shape"
      ],
      "execution_count": null,
      "outputs": [
        {
          "output_type": "execute_result",
          "data": {
            "text/plain": [
              "(2912, 1558)"
            ]
          },
          "metadata": {
            "tags": []
          },
          "execution_count": 40
        }
      ]
    },
    {
      "cell_type": "code",
      "metadata": {
        "id": "KgyoOXAql7yF"
      },
      "source": [
        "BUFFER_SIZE = 100000\n",
        "\n",
        "def make_ds(features, labels):\n",
        "    ds = tf.data.Dataset.from_tensor_slices((features, labels))\n",
        "    ds = ds.shuffle(BUFFER_SIZE).repeat()\n",
        "    return ds\n",
        "\n",
        "pos_ds = make_ds(pos_features, pos_labels)\n",
        "neg_ds = make_ds(neg_features, neg_labels)"
      ],
      "execution_count": null,
      "outputs": []
    },
    {
      "cell_type": "code",
      "metadata": {
        "id": "ZCnUNrwhmABj",
        "outputId": "f316099f-cb48-497e-e920-cff39312f232",
        "colab": {
          "base_uri": "https://localhost:8080/",
          "height": 85
        }
      },
      "source": [
        "for features, label in pos_ds.take(1):\n",
        "    print(\"Features:\\n\", features.numpy())\n",
        "    print()\n",
        "    print(\"Label: \", label.numpy())"
      ],
      "execution_count": null,
      "outputs": [
        {
          "output_type": "stream",
          "text": [
            "Features:\n",
            " [ 60.  468.    7.8 ...   0.    0.    0. ]\n",
            "\n",
            "Label:  1\n"
          ],
          "name": "stdout"
        }
      ]
    },
    {
      "cell_type": "code",
      "metadata": {
        "id": "ipjs-rkJmBij"
      },
      "source": [
        "resampled_ds = tf.data.experimental.sample_from_datasets([pos_ds, neg_ds], weights=[0.5, 0.5])\n",
        "resampled_ds = resampled_ds.batch(BATCH_SIZE).prefetch(2)"
      ],
      "execution_count": null,
      "outputs": []
    },
    {
      "cell_type": "code",
      "metadata": {
        "id": "MIN2yZxAmDb0",
        "outputId": "c182bced-89ec-4624-f1cd-b2d7695ec129",
        "colab": {
          "base_uri": "https://localhost:8080/",
          "height": 34
        }
      },
      "source": [
        "for features, label in resampled_ds.take(1):\n",
        "    print(label.numpy().mean())"
      ],
      "execution_count": null,
      "outputs": [
        {
          "output_type": "stream",
          "text": [
            "0.4951171875\n"
          ],
          "name": "stdout"
        }
      ]
    },
    {
      "cell_type": "code",
      "metadata": {
        "id": "BuxGeM68mEaj",
        "outputId": "13f60bc3-95e7-4b45-cdba-a4d1d8d71b1f",
        "colab": {
          "base_uri": "https://localhost:8080/",
          "height": 34
        }
      },
      "source": [
        "resampled_steps_per_epoch = np.ceil(2.0*neg/BATCH_SIZE)\n",
        "resampled_steps_per_epoch"
      ],
      "execution_count": null,
      "outputs": [
        {
          "output_type": "execute_result",
          "data": {
            "text/plain": [
              "2.0"
            ]
          },
          "metadata": {
            "tags": []
          },
          "execution_count": 45
        }
      ]
    },
    {
      "cell_type": "code",
      "metadata": {
        "id": "ouFO247GmGFD",
        "outputId": "d7b60b4b-178a-4100-a045-3bb347130023",
        "colab": {
          "base_uri": "https://localhost:8080/",
          "height": 581
        }
      },
      "source": [
        "resampled_model = make_model()\n",
        "resampled_model.load_weights(initial_weights)\n",
        "\n",
        "# Reset the bias to zero, since this dataset is balanced.\n",
        "output_layer = resampled_model.layers[-1] \n",
        "output_layer.bias.assign([0])\n",
        "\n",
        "val_ds = tf.data.Dataset.from_tensor_slices((X_test, y_test)).cache()\n",
        "val_ds = val_ds.batch(BATCH_SIZE).prefetch(2) \n",
        "\n",
        "resampled_history = resampled_model.fit(\n",
        "    resampled_ds,\n",
        "    epochs=EPOCHS,\n",
        "    steps_per_epoch=resampled_steps_per_epoch,\n",
        "    callbacks = [early_stopping],\n",
        "    validation_data=val_ds)"
      ],
      "execution_count": null,
      "outputs": [
        {
          "output_type": "stream",
          "text": [
            "Epoch 1/100\n",
            "2/2 [==============================] - 0s 229ms/step - loss: 2.7671 - accuracy: 0.5256 - precision: 0.4991 - recall: 0.1347 - auc: 0.3755 - val_loss: 0.6614 - val_accuracy: 0.8305 - val_precision: 0.0526 - val_recall: 0.0769 - val_auc: 0.2104\n",
            "Epoch 2/100\n",
            "2/2 [==============================] - 0s 31ms/step - loss: 2.1351 - accuracy: 0.4622 - precision: 0.4531 - recall: 0.2297 - auc: 0.3680 - val_loss: 0.7187 - val_accuracy: 0.6497 - val_precision: 0.0545 - val_recall: 0.2308 - val_auc: 0.2629\n",
            "Epoch 3/100\n",
            "2/2 [==============================] - 0s 39ms/step - loss: 1.5439 - accuracy: 0.4399 - precision: 0.4331 - recall: 0.3465 - auc: 0.3810 - val_loss: 0.7358 - val_accuracy: 0.5876 - val_precision: 0.0588 - val_recall: 0.3077 - val_auc: 0.3361\n",
            "Epoch 4/100\n",
            "2/2 [==============================] - 0s 30ms/step - loss: 1.0755 - accuracy: 0.4546 - precision: 0.4572 - recall: 0.4742 - auc: 0.4395 - val_loss: 0.7603 - val_accuracy: 0.4068 - val_precision: 0.0893 - val_recall: 0.7692 - val_auc: 0.6004\n",
            "Epoch 5/100\n",
            "2/2 [==============================] - 0s 39ms/step - loss: 0.7798 - accuracy: 0.4922 - precision: 0.4896 - recall: 0.6487 - auc: 0.5553 - val_loss: 0.7772 - val_accuracy: 0.3333 - val_precision: 0.0992 - val_recall: 1.0000 - val_auc: 0.8281\n",
            "Epoch 6/100\n",
            "2/2 [==============================] - 0s 39ms/step - loss: 0.6865 - accuracy: 0.5293 - precision: 0.5187 - recall: 0.7172 - auc: 0.6065 - val_loss: 0.7621 - val_accuracy: 0.4068 - val_precision: 0.1034 - val_recall: 0.9231 - val_auc: 0.7819\n",
            "Epoch 7/100\n",
            "2/2 [==============================] - 0s 30ms/step - loss: 0.6473 - accuracy: 0.5659 - precision: 0.5490 - recall: 0.7640 - auc: 0.6550 - val_loss: 0.7275 - val_accuracy: 0.4689 - val_precision: 0.0909 - val_recall: 0.6923 - val_auc: 0.7296\n",
            "Epoch 8/100\n",
            "2/2 [==============================] - 0s 40ms/step - loss: 0.6363 - accuracy: 0.5920 - precision: 0.5639 - recall: 0.7603 - auc: 0.6901 - val_loss: 0.6952 - val_accuracy: 0.5706 - val_precision: 0.1111 - val_recall: 0.6923 - val_auc: 0.7029\n",
            "Epoch 9/100\n",
            "2/2 [==============================] - 0s 31ms/step - loss: 0.6324 - accuracy: 0.6218 - precision: 0.6013 - recall: 0.7430 - auc: 0.7090 - val_loss: 0.6743 - val_accuracy: 0.6497 - val_precision: 0.1231 - val_recall: 0.6154 - val_auc: 0.6679\n",
            "Epoch 10/100\n",
            "2/2 [==============================] - 0s 35ms/step - loss: 0.6377 - accuracy: 0.6362 - precision: 0.6063 - recall: 0.7315 - auc: 0.7211 - val_loss: 0.6613 - val_accuracy: 0.6949 - val_precision: 0.1404 - val_recall: 0.6154 - val_auc: 0.6656\n",
            "Epoch 11/100\n",
            "2/2 [==============================] - 0s 37ms/step - loss: 0.6317 - accuracy: 0.6370 - precision: 0.6188 - recall: 0.7208 - auc: 0.7313 - val_loss: 0.6570 - val_accuracy: 0.6780 - val_precision: 0.1333 - val_recall: 0.6154 - val_auc: 0.6998\n",
            "Epoch 12/100\n",
            "2/2 [==============================] - 0s 39ms/step - loss: 0.6207 - accuracy: 0.6375 - precision: 0.6102 - recall: 0.7372 - auc: 0.7483 - val_loss: 0.6606 - val_accuracy: 0.6610 - val_precision: 0.1385 - val_recall: 0.6923 - val_auc: 0.7244\n",
            "Epoch 13/100\n",
            "2/2 [==============================] - 0s 34ms/step - loss: 0.6117 - accuracy: 0.6462 - precision: 0.6287 - recall: 0.7448 - auc: 0.7534 - val_loss: 0.6695 - val_accuracy: 0.6384 - val_precision: 0.1304 - val_recall: 0.6923 - val_auc: 0.7376\n",
            "Epoch 14/100\n",
            "2/2 [==============================] - 0s 31ms/step - loss: 0.6076 - accuracy: 0.6445 - precision: 0.6163 - recall: 0.7622 - auc: 0.7519 - val_loss: 0.6792 - val_accuracy: 0.6215 - val_precision: 0.1250 - val_recall: 0.6923 - val_auc: 0.7559\n",
            "Epoch 15/100\n",
            "1/2 [==============>...............] - ETA: 0s - loss: 0.6084 - accuracy: 0.6372 - precision: 0.6014 - recall: 0.7753 - auc: 0.7516Restoring model weights from the end of the best epoch.\n",
            "2/2 [==============================] - 0s 32ms/step - loss: 0.6064 - accuracy: 0.6421 - precision: 0.6069 - recall: 0.7776 - auc: 0.7530 - val_loss: 0.6855 - val_accuracy: 0.6158 - val_precision: 0.1233 - val_recall: 0.6923 - val_auc: 0.7847\n",
            "Epoch 00015: early stopping\n"
          ],
          "name": "stdout"
        }
      ]
    },
    {
      "cell_type": "code",
      "metadata": {
        "id": "yLa_5KXqmHdD",
        "outputId": "7d255368-30d7-42b6-e435-cb76dcca6964",
        "colab": {
          "base_uri": "https://localhost:8080/",
          "height": 606
        }
      },
      "source": [
        "plot_metrics(resampled_history)"
      ],
      "execution_count": null,
      "outputs": [
        {
          "output_type": "display_data",
          "data": {
            "image/png": "[encoded data removed]",
            "text/plain": [
              "<Figure size 1080x720 with 4 Axes>"
            ]
          },
          "metadata": {
            "tags": [],
            "needs_background": "light"
          }
        }
      ]
    },
    {
      "cell_type": "code",
      "metadata": {
        "id": "11GVjo_Omwse",
        "outputId": "1e552cbc-7bea-4ef4-8bed-c732baf07b71",
        "colab": {
          "base_uri": "https://localhost:8080/",
          "height": 547
        }
      },
      "source": [
        "resampled_model = make_model()\n",
        "resampled_model.load_weights(initial_weights)\n",
        "\n",
        "# Reset the bias to zero, since this dataset is balanced.\n",
        "output_layer = resampled_model.layers[-1] \n",
        "output_layer.bias.assign([0])\n",
        "\n",
        "resampled_history = resampled_model.fit(\n",
        "    resampled_ds,\n",
        "    # These are not real epochs\n",
        "    steps_per_epoch = 20,\n",
        "    epochs=10*EPOCHS,\n",
        "    callbacks = [early_stopping],\n",
        "    validation_data=(val_ds))"
      ],
      "execution_count": null,
      "outputs": [
        {
          "output_type": "stream",
          "text": [
            "Epoch 1/1000\n",
            "20/20 [==============================] - 1s 66ms/step - loss: 1.1378 - accuracy: 0.5301 - precision: 0.5292 - recall: 0.5616 - auc: 0.5471 - val_loss: 0.6688 - val_accuracy: 0.6780 - val_precision: 0.1333 - val_recall: 0.6154 - val_auc: 0.6907\n",
            "Epoch 2/1000\n",
            "20/20 [==============================] - 1s 46ms/step - loss: 0.5990 - accuracy: 0.6710 - precision: 0.6405 - recall: 0.7830 - auc: 0.7725 - val_loss: 0.6257 - val_accuracy: 0.6836 - val_precision: 0.1587 - val_recall: 0.7692 - val_auc: 0.8455\n",
            "Epoch 3/1000\n",
            "20/20 [==============================] - 1s 48ms/step - loss: 0.5073 - accuracy: 0.7661 - precision: 0.8034 - recall: 0.7043 - auc: 0.8604 - val_loss: 0.4020 - val_accuracy: 0.8927 - val_precision: 0.4000 - val_recall: 0.9231 - val_auc: 0.9303\n",
            "Epoch 4/1000\n",
            "20/20 [==============================] - 1s 46ms/step - loss: 0.3899 - accuracy: 0.8352 - precision: 0.8708 - recall: 0.7875 - auc: 0.9213 - val_loss: 0.2903 - val_accuracy: 0.9209 - val_precision: 0.4800 - val_recall: 0.9231 - val_auc: 0.9451\n",
            "Epoch 5/1000\n",
            "20/20 [==============================] - 1s 46ms/step - loss: 0.3163 - accuracy: 0.8822 - precision: 0.8992 - recall: 0.8612 - auc: 0.9456 - val_loss: 0.2452 - val_accuracy: 0.9209 - val_precision: 0.4800 - val_recall: 0.9231 - val_auc: 0.9425\n",
            "Epoch 6/1000\n",
            "20/20 [==============================] - 1s 46ms/step - loss: 0.2690 - accuracy: 0.9196 - precision: 0.9133 - recall: 0.9277 - auc: 0.9576 - val_loss: 0.2338 - val_accuracy: 0.9266 - val_precision: 0.5000 - val_recall: 0.9231 - val_auc: 0.9402\n",
            "Epoch 7/1000\n",
            "20/20 [==============================] - 1s 47ms/step - loss: 0.2289 - accuracy: 0.9350 - precision: 0.9219 - recall: 0.9506 - auc: 0.9654 - val_loss: 0.2208 - val_accuracy: 0.9322 - val_precision: 0.5217 - val_recall: 0.9231 - val_auc: 0.9409\n",
            "Epoch 8/1000\n",
            "20/20 [==============================] - 1s 47ms/step - loss: 0.2020 - accuracy: 0.9440 - precision: 0.9298 - recall: 0.9603 - auc: 0.9707 - val_loss: 0.2058 - val_accuracy: 0.9322 - val_precision: 0.5238 - val_recall: 0.8462 - val_auc: 0.9409\n",
            "Epoch 9/1000\n",
            "20/20 [==============================] - 1s 47ms/step - loss: 0.1842 - accuracy: 0.9499 - precision: 0.9332 - recall: 0.9695 - auc: 0.9738 - val_loss: 0.2031 - val_accuracy: 0.9266 - val_precision: 0.5000 - val_recall: 0.7692 - val_auc: 0.9362\n",
            "Epoch 10/1000\n",
            "20/20 [==============================] - 1s 47ms/step - loss: 0.1671 - accuracy: 0.9541 - precision: 0.9365 - recall: 0.9747 - auc: 0.9777 - val_loss: 0.2098 - val_accuracy: 0.9266 - val_precision: 0.5000 - val_recall: 0.7692 - val_auc: 0.9369\n",
            "Epoch 11/1000\n",
            "20/20 [==============================] - 1s 48ms/step - loss: 0.1531 - accuracy: 0.9580 - precision: 0.9410 - recall: 0.9769 - auc: 0.9808 - val_loss: 0.2110 - val_accuracy: 0.9266 - val_precision: 0.5000 - val_recall: 0.7692 - val_auc: 0.9350\n",
            "Epoch 12/1000\n",
            "20/20 [==============================] - 1s 48ms/step - loss: 0.1478 - accuracy: 0.9595 - precision: 0.9435 - recall: 0.9774 - auc: 0.9813 - val_loss: 0.2075 - val_accuracy: 0.9266 - val_precision: 0.5000 - val_recall: 0.7692 - val_auc: 0.9350\n",
            "Epoch 13/1000\n",
            "20/20 [==============================] - 1s 47ms/step - loss: 0.1380 - accuracy: 0.9628 - precision: 0.9463 - recall: 0.9822 - auc: 0.9836 - val_loss: 0.2121 - val_accuracy: 0.9266 - val_precision: 0.5000 - val_recall: 0.7692 - val_auc: 0.9043\n",
            "Epoch 14/1000\n",
            "20/20 [==============================] - ETA: 0s - loss: 0.1290 - accuracy: 0.9658 - precision: 0.9502 - recall: 0.9839 - auc: 0.9852Restoring model weights from the end of the best epoch.\n",
            "20/20 [==============================] - 1s 48ms/step - loss: 0.1290 - accuracy: 0.9658 - precision: 0.9502 - recall: 0.9839 - auc: 0.9852 - val_loss: 0.2151 - val_accuracy: 0.9266 - val_precision: 0.5000 - val_recall: 0.7692 - val_auc: 0.9071\n",
            "Epoch 00014: early stopping\n"
          ],
          "name": "stdout"
        }
      ]
    },
    {
      "cell_type": "code",
      "metadata": {
        "id": "9g6v7zZymybD",
        "outputId": "354d57c1-cfa6-4553-fc4e-95383b234877",
        "colab": {
          "base_uri": "https://localhost:8080/",
          "height": 606
        }
      },
      "source": [
        "plot_metrics(resampled_history)"
      ],
      "execution_count": null,
      "outputs": [
        {
          "output_type": "display_data",
          "data": {
            "image/png": "[encoded data removed]",
            "text/plain": [
              "<Figure size 1080x720 with 4 Axes>"
            ]
          },
          "metadata": {
            "tags": [],
            "needs_background": "light"
          }
        }
      ]
    },
    {
      "cell_type": "code",
      "metadata": {
        "id": "h1Vg-ZZlm7Dj",
        "outputId": "fdf74cb5-96b0-4432-e219-aadfbbe4d113",
        "colab": {
          "base_uri": "https://localhost:8080/",
          "height": 54
        }
      },
      "source": [
        "train_predictions_resampled = resampled_model.predict(X, batch_size=BATCH_SIZE)\n",
        "test_predictions_resampled = resampled_model.predict(X_test, batch_size=BATCH_SIZE)"
      ],
      "execution_count": null,
      "outputs": [
        {
          "output_type": "stream",
          "text": [
            "WARNING:tensorflow:5 out of the last 7 calls to <function Model.make_predict_function.<locals>.predict_function at 0x7ff6c6ca5ea0> triggered tf.function retracing. Tracing is expensive and the excessive number of tracings could be due to (1) creating @tf.function repeatedly in a loop, (2) passing tensors with different shapes, (3) passing Python objects instead of tensors. For (1), please define your @tf.function outside of the loop. For (2), @tf.function has experimental_relax_shapes=True option that relaxes argument shapes that can avoid unnecessary retracing. For (3), please refer to https://www.tensorflow.org/tutorials/customization/performance#python_or_tensor_args and https://www.tensorflow.org/api_docs/python/tf/function for  more details.\n"
          ],
          "name": "stdout"
        }
      ]
    },
    {
      "cell_type": "code",
      "metadata": {
        "id": "lMvY9nWEm-FF",
        "outputId": "874ffb98-be29-4370-a18b-4bbcd1d37443",
        "colab": {
          "base_uri": "https://localhost:8080/",
          "height": 537
        }
      },
      "source": [
        "resampled_results = resampled_model.evaluate(X_test, y_test,\n",
        "                                             batch_size=BATCH_SIZE, verbose=0)\n",
        "for name, value in zip(resampled_model.metrics_names, resampled_results):\n",
        "    print(name, ': ', value)\n",
        "print()\n",
        "\n",
        "plot_cm(y_test, np.round(np.mean(test_predictions_resampled, 1)).astype('int64'))"
      ],
      "execution_count": null,
      "outputs": [
        {
          "output_type": "stream",
          "text": [
            "loss :  0.2902928590774536\n",
            "accuracy :  0.9209039807319641\n",
            "precision :  0.47999998927116394\n",
            "recall :  0.9230769276618958\n",
            "auc :  0.9451219439506531\n",
            "\n",
            "(True Negatives):  151\n",
            "(False Positives):  13\n",
            "(False Negatives):  1\n",
            "(True Positives):  12\n",
            "Total:  13\n"
          ],
          "name": "stdout"
        },
        {
          "output_type": "display_data",
          "data": {
            "image/png": "[encoded data removed]",
            "text/plain": [
              "<Figure size 360x360 with 2 Axes>"
            ]
          },
          "metadata": {
            "tags": [],
            "needs_background": "light"
          }
        }
      ]
    },
    {
      "cell_type": "code",
      "metadata": {
        "id": "l0r6fjWTnHM7",
        "outputId": "a5443fa8-14d5-46a4-d8aa-2344d7f36979",
        "colab": {
          "base_uri": "https://localhost:8080/",
          "height": 296
        }
      },
      "source": [
        "plot_roc(\"Train Baseline\", y, train_predictions_baseline, color=colors[0])\n",
        "plot_roc(\"Test Baseline\", y_test, test_predictions_baseline, color=colors[0], linestyle='--')\n",
        "\n",
        "plot_roc(\"Train Weighted\", y, train_predictions_weighted, color=colors[1])\n",
        "plot_roc(\"Test Weighted\", y_test, test_predictions_weighted, color=colors[1], linestyle='--')\n",
        "\n",
        "plot_roc(\"Train Resampled\", y, train_predictions_resampled,  color=colors[2])\n",
        "plot_roc(\"Test Resampled\", y_test, test_predictions_resampled,  color=colors[2], linestyle='--')\n",
        "plt.legend()"
      ],
      "execution_count": null,
      "outputs": [
        {
          "output_type": "execute_result",
          "data": {
            "text/plain": [
              "<matplotlib.legend.Legend at 0x7ff6c6cc94a8>"
            ]
          },
          "metadata": {
            "tags": []
          },
          "execution_count": 52
        },
        {
          "output_type": "display_data",
          "data": {
            "image/png": "[encoded data removed]",
            "text/plain": [
              "<Figure size 432x288 with 1 Axes>"
            ]
          },
          "metadata": {
            "tags": [],
            "needs_background": "light"
          }
        }
      ]
    },
    {
      "cell_type": "code",
      "metadata": {
        "id": "WbJ7BDnonRP7",
        "outputId": "0ce3650d-6219-494f-8fa2-1e7767ab3de6",
        "colab": {
          "base_uri": "https://localhost:8080/",
          "height": 221
        }
      },
      "source": [
        "test_pred = resampled_model.predict(test, batch_size=BATCH_SIZE)\n",
        "df_result = pd.DataFrame()\n",
        "\n",
        "df_result['Class'] = np.mean(test_pred, 1)\n",
        "print(df_result.shape, test.shape)\n",
        "df_result.to_csv('tf1_5.csv', index=False)\n",
        "df_result.head()"
      ],
      "execution_count": null,
      "outputs": [
        {
          "output_type": "stream",
          "text": [
            "(756, 1) (756, 1558)\n"
          ],
          "name": "stdout"
        },
        {
          "output_type": "execute_result",
          "data": {
            "text/html": [
              "<div>\n",
              "<style scoped>\n",
              "    .dataframe tbody tr th:only-of-type {\n",
              "        vertical-align: middle;\n",
              "    }\n",
              "\n",
              "    .dataframe tbody tr th {\n",
              "        vertical-align: top;\n",
              "    }\n",
              "\n",
              "    .dataframe thead th {\n",
              "        text-align: right;\n",
              "    }\n",
              "</style>\n",
              "<table border=\"1\" class=\"dataframe\">\n",
              "  <thead>\n",
              "    <tr style=\"text-align: right;\">\n",
              "      <th></th>\n",
              "      <th>Class</th>\n",
              "    </tr>\n",
              "  </thead>\n",
              "  <tbody>\n",
              "    <tr>\n",
              "      <th>0</th>\n",
              "      <td>0.871093</td>\n",
              "    </tr>\n",
              "    <tr>\n",
              "      <th>1</th>\n",
              "      <td>0.070056</td>\n",
              "    </tr>\n",
              "    <tr>\n",
              "      <th>2</th>\n",
              "      <td>0.544910</td>\n",
              "    </tr>\n",
              "    <tr>\n",
              "      <th>3</th>\n",
              "      <td>0.882870</td>\n",
              "    </tr>\n",
              "    <tr>\n",
              "      <th>4</th>\n",
              "      <td>0.688548</td>\n",
              "    </tr>\n",
              "  </tbody>\n",
              "</table>\n",
              "</div>"
            ],
            "text/plain": [
              "      Class\n",
              "0  0.871093\n",
              "1  0.070056\n",
              "2  0.544910\n",
              "3  0.882870\n",
              "4  0.688548"
            ]
          },
          "metadata": {
            "tags": []
          },
          "execution_count": 53
        }
      ]
    },
    {
      "cell_type": "code",
      "metadata": {
        "id": "HWS1rFmSnhE_",
        "outputId": "8e701c43-1fca-493d-dee2-36c167481219",
        "colab": {
          "base_uri": "https://localhost:8080/",
          "height": 282
        }
      },
      "source": [
        "df_result['Class'].plot.box()"
      ],
      "execution_count": null,
      "outputs": [
        {
          "output_type": "execute_result",
          "data": {
            "text/plain": [
              "<matplotlib.axes._subplots.AxesSubplot at 0x7ff6c6ae0160>"
            ]
          },
          "metadata": {
            "tags": []
          },
          "execution_count": 54
        },
        {
          "output_type": "display_data",
          "data": {
            "image/png": "[encoded data removed]",
            "text/plain": [
              "<Figure size 432x288 with 1 Axes>"
            ]
          },
          "metadata": {
            "tags": [],
            "needs_background": "light"
          }
        }
      ]
    }
  ]
}