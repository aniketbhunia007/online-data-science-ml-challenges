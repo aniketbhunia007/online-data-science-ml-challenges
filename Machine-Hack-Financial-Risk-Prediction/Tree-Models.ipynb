{
 "cells": [
  {
   "cell_type": "markdown",
   "metadata": {},
   "source": [
    "# Problem Statement"
   ]
  },
  {
   "cell_type": "markdown",
   "metadata": {},
   "source": [
    "For any organization, even the slightest chance of financial risk can not be ignored. Organizations conduct regular inspections on their expenditures and revenue to make sure that they do not fall below the critical limit. In this hackathon, you as a data scientist must use the given data to predict whether an organization is under a possible financial risk or not.\n",
    "\n",
    "Given are 7 distinguishing factors that can provide insight into whether an organization may face a financial risk or not. Your objective as a data scientist is to build a machine learning model that can predict if an organization will fall under the risk using the given features."
   ]
  },
  {
   "cell_type": "code",
   "execution_count": 1,
   "metadata": {},
   "outputs": [],
   "source": [
    "import pandas as pd\n",
    "import numpy as np"
   ]
  },
  {
   "cell_type": "code",
   "execution_count": 2,
   "metadata": {},
   "outputs": [],
   "source": [
    "train = pd.read_csv('Train.csv')\n",
    "test = pd.read_csv('Test.csv')"
   ]
  },
  {
   "cell_type": "code",
   "execution_count": 3,
   "metadata": {},
   "outputs": [
    {
     "data": {
      "text/plain": [
       "((543, 8), (233, 7))"
      ]
     },
     "execution_count": 3,
     "metadata": {},
     "output_type": "execute_result"
    }
   ],
   "source": [
    "train.shape, test.shape"
   ]
  },
  {
   "cell_type": "code",
   "execution_count": 4,
   "metadata": {},
   "outputs": [
    {
     "data": {
      "text/html": [
       "<div>\n",
       "<style scoped>\n",
       "    .dataframe tbody tr th:only-of-type {\n",
       "        vertical-align: middle;\n",
       "    }\n",
       "\n",
       "    .dataframe tbody tr th {\n",
       "        vertical-align: top;\n",
       "    }\n",
       "\n",
       "    .dataframe thead th {\n",
       "        text-align: right;\n",
       "    }\n",
       "</style>\n",
       "<table border=\"1\" class=\"dataframe\">\n",
       "  <thead>\n",
       "    <tr style=\"text-align: right;\">\n",
       "      <th></th>\n",
       "      <th>City</th>\n",
       "      <th>Location_Score</th>\n",
       "      <th>Internal_Audit_Score</th>\n",
       "      <th>External_Audit_Score</th>\n",
       "      <th>Fin_Score</th>\n",
       "      <th>Loss_score</th>\n",
       "      <th>Past_Results</th>\n",
       "      <th>IsUnderRisk</th>\n",
       "    </tr>\n",
       "  </thead>\n",
       "  <tbody>\n",
       "    <tr>\n",
       "      <th>0</th>\n",
       "      <td>2</td>\n",
       "      <td>8.032</td>\n",
       "      <td>14</td>\n",
       "      <td>8</td>\n",
       "      <td>3</td>\n",
       "      <td>6</td>\n",
       "      <td>0</td>\n",
       "      <td>1</td>\n",
       "    </tr>\n",
       "    <tr>\n",
       "      <th>1</th>\n",
       "      <td>31</td>\n",
       "      <td>77.730</td>\n",
       "      <td>8</td>\n",
       "      <td>3</td>\n",
       "      <td>3</td>\n",
       "      <td>8</td>\n",
       "      <td>1</td>\n",
       "      <td>0</td>\n",
       "    </tr>\n",
       "    <tr>\n",
       "      <th>2</th>\n",
       "      <td>40</td>\n",
       "      <td>59.203</td>\n",
       "      <td>3</td>\n",
       "      <td>12</td>\n",
       "      <td>11</td>\n",
       "      <td>3</td>\n",
       "      <td>0</td>\n",
       "      <td>1</td>\n",
       "    </tr>\n",
       "    <tr>\n",
       "      <th>3</th>\n",
       "      <td>12</td>\n",
       "      <td>73.080</td>\n",
       "      <td>4</td>\n",
       "      <td>5</td>\n",
       "      <td>7</td>\n",
       "      <td>6</td>\n",
       "      <td>0</td>\n",
       "      <td>0</td>\n",
       "    </tr>\n",
       "    <tr>\n",
       "      <th>4</th>\n",
       "      <td>4</td>\n",
       "      <td>15.666</td>\n",
       "      <td>13</td>\n",
       "      <td>15</td>\n",
       "      <td>6</td>\n",
       "      <td>7</td>\n",
       "      <td>2</td>\n",
       "      <td>1</td>\n",
       "    </tr>\n",
       "  </tbody>\n",
       "</table>\n",
       "</div>"
      ],
      "text/plain": [
       "   City  Location_Score  Internal_Audit_Score  External_Audit_Score  \\\n",
       "0     2           8.032                    14                     8   \n",
       "1    31          77.730                     8                     3   \n",
       "2    40          59.203                     3                    12   \n",
       "3    12          73.080                     4                     5   \n",
       "4     4          15.666                    13                    15   \n",
       "\n",
       "   Fin_Score  Loss_score  Past_Results  IsUnderRisk  \n",
       "0          3           6             0            1  \n",
       "1          3           8             1            0  \n",
       "2         11           3             0            1  \n",
       "3          7           6             0            0  \n",
       "4          6           7             2            1  "
      ]
     },
     "execution_count": 4,
     "metadata": {},
     "output_type": "execute_result"
    }
   ],
   "source": [
    "train.head()"
   ]
  },
  {
   "cell_type": "code",
   "execution_count": 5,
   "metadata": {},
   "outputs": [
    {
     "name": "stderr",
     "output_type": "stream",
     "text": [
      "C:\\Users\\hungu\\anaconda.x\\lib\\site-packages\\pandas\\core\\frame.py:6692: FutureWarning: Sorting because non-concatenation axis is not aligned. A future version\n",
      "of pandas will change to not sort by default.\n",
      "\n",
      "To accept the future behavior, pass 'sort=False'.\n",
      "\n",
      "To retain the current behavior and silence the warning, pass 'sort=True'.\n",
      "\n",
      "  sort=sort)\n"
     ]
    },
    {
     "data": {
      "text/plain": [
       "(776, 8)"
      ]
     },
     "execution_count": 5,
     "metadata": {},
     "output_type": "execute_result"
    }
   ],
   "source": [
    "combine = train.append(test)\n",
    "combine.shape"
   ]
  },
  {
   "cell_type": "code",
   "execution_count": 6,
   "metadata": {},
   "outputs": [
    {
     "data": {
      "text/plain": [
       "40    76\n",
       "9     68\n",
       "41    53\n",
       "6     52\n",
       "2     47\n",
       "37    44\n",
       "10    41\n",
       "31    37\n",
       "3     35\n",
       "5     35\n",
       "38    33\n",
       "23    29\n",
       "1     26\n",
       "13    24\n",
       "19    21\n",
       "4     20\n",
       "8     16\n",
       "22    12\n",
       "0     11\n",
       "28    10\n",
       "30     9\n",
       "12     8\n",
       "18     8\n",
       "17     8\n",
       "35     7\n",
       "16     6\n",
       "11     5\n",
       "27     4\n",
       "39     4\n",
       "21     4\n",
       "29     4\n",
       "20     3\n",
       "32     3\n",
       "26     2\n",
       "33     1\n",
       "36     1\n",
       "42     1\n",
       "34     1\n",
       "25     1\n",
       "7      1\n",
       "24     1\n",
       "14     1\n",
       "15     1\n",
       "43     1\n",
       "44     1\n",
       "Name: City, dtype: int64"
      ]
     },
     "execution_count": 6,
     "metadata": {},
     "output_type": "execute_result"
    }
   ],
   "source": [
    "combine['City'].value_counts()"
   ]
  },
  {
   "cell_type": "code",
   "execution_count": 7,
   "metadata": {},
   "outputs": [
    {
     "data": {
      "text/plain": [
       "count    776.000000\n",
       "mean      32.358938\n",
       "std       24.961530\n",
       "min        5.185000\n",
       "25%       13.044250\n",
       "50%       19.844000\n",
       "75%       62.680750\n",
       "max       80.809000\n",
       "Name: Location_Score, dtype: float64"
      ]
     },
     "execution_count": 7,
     "metadata": {},
     "output_type": "execute_result"
    }
   ],
   "source": [
    "combine['Location_Score'].describe()"
   ]
  },
  {
   "cell_type": "code",
   "execution_count": 8,
   "metadata": {},
   "outputs": [
    {
     "data": {
      "text/plain": [
       "5     104\n",
       "3      99\n",
       "8      94\n",
       "7      87\n",
       "6      85\n",
       "4      85\n",
       "10     47\n",
       "11     39\n",
       "15     32\n",
       "12     32\n",
       "14     30\n",
       "13     30\n",
       "9      12\n",
       "Name: External_Audit_Score, dtype: int64"
      ]
     },
     "execution_count": 8,
     "metadata": {},
     "output_type": "execute_result"
    }
   ],
   "source": [
    "combine['External_Audit_Score'].value_counts()"
   ]
  },
  {
   "cell_type": "code",
   "execution_count": 9,
   "metadata": {},
   "outputs": [
    {
     "data": {
      "text/plain": [
       "8     111\n",
       "7     104\n",
       "6      89\n",
       "11     71\n",
       "10     71\n",
       "5      62\n",
       "3      62\n",
       "4      57\n",
       "12     46\n",
       "13     40\n",
       "15     33\n",
       "14     15\n",
       "9      15\n",
       "Name: Internal_Audit_Score, dtype: int64"
      ]
     },
     "execution_count": 9,
     "metadata": {},
     "output_type": "execute_result"
    }
   ],
   "source": [
    "combine['Internal_Audit_Score'].value_counts()"
   ]
  },
  {
   "cell_type": "code",
   "execution_count": 10,
   "metadata": {},
   "outputs": [
    {
     "data": {
      "text/plain": [
       "4     110\n",
       "8     105\n",
       "7     100\n",
       "5      98\n",
       "6      91\n",
       "3      91\n",
       "11     38\n",
       "10     38\n",
       "14     28\n",
       "12     27\n",
       "13     23\n",
       "15     17\n",
       "9      10\n",
       "Name: Fin_Score, dtype: int64"
      ]
     },
     "execution_count": 10,
     "metadata": {},
     "output_type": "execute_result"
    }
   ],
   "source": [
    "combine['Fin_Score'].value_counts()"
   ]
  },
  {
   "cell_type": "code",
   "execution_count": 11,
   "metadata": {},
   "outputs": [
    {
     "data": {
      "text/plain": [
       "6     144\n",
       "8     137\n",
       "3     130\n",
       "4     129\n",
       "5     116\n",
       "7     110\n",
       "11      3\n",
       "10      3\n",
       "9       3\n",
       "13      1\n",
       "Name: Loss_score, dtype: int64"
      ]
     },
     "execution_count": 11,
     "metadata": {},
     "output_type": "execute_result"
    }
   ],
   "source": [
    "combine['Loss_score'].value_counts()"
   ]
  },
  {
   "cell_type": "code",
   "execution_count": 12,
   "metadata": {},
   "outputs": [
    {
     "data": {
      "text/plain": [
       "1     382\n",
       "0     364\n",
       "2      19\n",
       "3       6\n",
       "5       2\n",
       "10      1\n",
       "6       1\n",
       "4       1\n",
       "Name: Past_Results, dtype: int64"
      ]
     },
     "execution_count": 12,
     "metadata": {},
     "output_type": "execute_result"
    }
   ],
   "source": [
    "combine['Past_Results'].value_counts()"
   ]
  },
  {
   "cell_type": "code",
   "execution_count": 13,
   "metadata": {},
   "outputs": [
    {
     "data": {
      "text/plain": [
       "Index(['City', 'External_Audit_Score', 'Fin_Score', 'Internal_Audit_Score',\n",
       "       'IsUnderRisk', 'Location_Score', 'Loss_score', 'Past_Results'],\n",
       "      dtype='object')"
      ]
     },
     "execution_count": 13,
     "metadata": {},
     "output_type": "execute_result"
    }
   ],
   "source": [
    "combine.columns"
   ]
  },
  {
   "cell_type": "code",
   "execution_count": 14,
   "metadata": {},
   "outputs": [
    {
     "name": "stderr",
     "output_type": "stream",
     "text": [
      "C:\\Users\\hungu\\anaconda.x\\lib\\site-packages\\sklearn\\preprocessing\\data.py:334: DataConversionWarning: Data with input dtype int64, float64 were all converted to float64 by MinMaxScaler.\n",
      "  return self.partial_fit(X, y)\n"
     ]
    }
   ],
   "source": [
    "from sklearn.preprocessing import MinMaxScaler\n",
    "scaler = MinMaxScaler()\n",
    "cols = ['External_Audit_Score', 'Fin_Score', 'Internal_Audit_Score',\n",
    "        'Location_Score', 'Loss_score', 'Past_Results']\n",
    "\n",
    "combine[cols] = scaler.fit_transform(combine[cols])"
   ]
  },
  {
   "cell_type": "code",
   "execution_count": 15,
   "metadata": {},
   "outputs": [
    {
     "data": {
      "text/html": [
       "<div>\n",
       "<style scoped>\n",
       "    .dataframe tbody tr th:only-of-type {\n",
       "        vertical-align: middle;\n",
       "    }\n",
       "\n",
       "    .dataframe tbody tr th {\n",
       "        vertical-align: top;\n",
       "    }\n",
       "\n",
       "    .dataframe thead th {\n",
       "        text-align: right;\n",
       "    }\n",
       "</style>\n",
       "<table border=\"1\" class=\"dataframe\">\n",
       "  <thead>\n",
       "    <tr style=\"text-align: right;\">\n",
       "      <th></th>\n",
       "      <th>City</th>\n",
       "      <th>External_Audit_Score</th>\n",
       "      <th>Fin_Score</th>\n",
       "      <th>Internal_Audit_Score</th>\n",
       "      <th>IsUnderRisk</th>\n",
       "      <th>Location_Score</th>\n",
       "      <th>Loss_score</th>\n",
       "      <th>Past_Results</th>\n",
       "    </tr>\n",
       "  </thead>\n",
       "  <tbody>\n",
       "    <tr>\n",
       "      <th>0</th>\n",
       "      <td>2</td>\n",
       "      <td>0.416667</td>\n",
       "      <td>0.000000</td>\n",
       "      <td>0.916667</td>\n",
       "      <td>1.0</td>\n",
       "      <td>0.037647</td>\n",
       "      <td>0.3</td>\n",
       "      <td>0.0</td>\n",
       "    </tr>\n",
       "    <tr>\n",
       "      <th>1</th>\n",
       "      <td>31</td>\n",
       "      <td>0.000000</td>\n",
       "      <td>0.000000</td>\n",
       "      <td>0.416667</td>\n",
       "      <td>0.0</td>\n",
       "      <td>0.959285</td>\n",
       "      <td>0.5</td>\n",
       "      <td>0.1</td>\n",
       "    </tr>\n",
       "    <tr>\n",
       "      <th>2</th>\n",
       "      <td>40</td>\n",
       "      <td>0.750000</td>\n",
       "      <td>0.666667</td>\n",
       "      <td>0.000000</td>\n",
       "      <td>1.0</td>\n",
       "      <td>0.714297</td>\n",
       "      <td>0.0</td>\n",
       "      <td>0.0</td>\n",
       "    </tr>\n",
       "    <tr>\n",
       "      <th>3</th>\n",
       "      <td>12</td>\n",
       "      <td>0.166667</td>\n",
       "      <td>0.333333</td>\n",
       "      <td>0.083333</td>\n",
       "      <td>0.0</td>\n",
       "      <td>0.897797</td>\n",
       "      <td>0.3</td>\n",
       "      <td>0.0</td>\n",
       "    </tr>\n",
       "    <tr>\n",
       "      <th>4</th>\n",
       "      <td>4</td>\n",
       "      <td>1.000000</td>\n",
       "      <td>0.250000</td>\n",
       "      <td>0.833333</td>\n",
       "      <td>1.0</td>\n",
       "      <td>0.138594</td>\n",
       "      <td>0.4</td>\n",
       "      <td>0.2</td>\n",
       "    </tr>\n",
       "  </tbody>\n",
       "</table>\n",
       "</div>"
      ],
      "text/plain": [
       "   City  External_Audit_Score  Fin_Score  Internal_Audit_Score  IsUnderRisk  \\\n",
       "0     2              0.416667   0.000000              0.916667          1.0   \n",
       "1    31              0.000000   0.000000              0.416667          0.0   \n",
       "2    40              0.750000   0.666667              0.000000          1.0   \n",
       "3    12              0.166667   0.333333              0.083333          0.0   \n",
       "4     4              1.000000   0.250000              0.833333          1.0   \n",
       "\n",
       "   Location_Score  Loss_score  Past_Results  \n",
       "0        0.037647         0.3           0.0  \n",
       "1        0.959285         0.5           0.1  \n",
       "2        0.714297         0.0           0.0  \n",
       "3        0.897797         0.3           0.0  \n",
       "4        0.138594         0.4           0.2  "
      ]
     },
     "execution_count": 15,
     "metadata": {},
     "output_type": "execute_result"
    }
   ],
   "source": [
    "combine.head()"
   ]
  },
  {
   "cell_type": "code",
   "execution_count": 16,
   "metadata": {},
   "outputs": [
    {
     "data": {
      "text/plain": [
       "((543, 7), (543,), (233, 7))"
      ]
     },
     "execution_count": 16,
     "metadata": {},
     "output_type": "execute_result"
    }
   ],
   "source": [
    "X = combine[combine['IsUnderRisk'].isnull()!=True].drop(['IsUnderRisk'], axis=1)\n",
    "y = combine[combine['IsUnderRisk'].isnull()!=True]['IsUnderRisk'].reset_index(drop=True)\n",
    "\n",
    "X_test = combine[combine['IsUnderRisk'].isnull()==True].drop(['IsUnderRisk'], axis=1)\n",
    "\n",
    "X.shape, y.shape, X_test.shape"
   ]
  },
  {
   "cell_type": "code",
   "execution_count": 17,
   "metadata": {},
   "outputs": [],
   "source": [
    "from sklearn.model_selection import train_test_split\n",
    "x_train, x_val, y_train, y_val = train_test_split(X, y, test_size=0.2)"
   ]
  },
  {
   "cell_type": "code",
   "execution_count": 18,
   "metadata": {},
   "outputs": [
    {
     "name": "stdout",
     "output_type": "stream",
     "text": [
      "Training until validation scores don't improve for 100 rounds.\n",
      "Early stopping, best iteration is:\n",
      "[77]\ttraining's binary_logloss: 0.217411\tvalid_1's binary_logloss: 0.350859\n"
     ]
    }
   ],
   "source": [
    "from lightgbm import LGBMClassifier\n",
    "model = LGBMClassifier(boosting_type='gbdt',\n",
    "                       max_depth=5,\n",
    "                       learning_rate=0.05,\n",
    "                       n_estimators=5000,\n",
    "                       min_child_weight=0.01,\n",
    "                       colsample_bytree=0.5,\n",
    "                       num_leaves=30,\n",
    "                       random_state=1994)\n",
    "\n",
    "model.fit(x_train,y_train,\n",
    "          eval_set=[(x_train,y_train),(x_val, y_val.values)],\n",
    "          eval_metric='log_loss',\n",
    "          early_stopping_rounds=100,\n",
    "          verbose=200)\n",
    "\n",
    "pred_y = model.predict_proba(x_val)"
   ]
  },
  {
   "cell_type": "code",
   "execution_count": 19,
   "metadata": {},
   "outputs": [
    {
     "data": {
      "text/plain": [
       "0.3508587294296281"
      ]
     },
     "execution_count": 19,
     "metadata": {},
     "output_type": "execute_result"
    }
   ],
   "source": [
    "from sklearn.metrics import log_loss\n",
    "log_loss(y_val, pred_y)"
   ]
  },
  {
   "cell_type": "code",
   "execution_count": 20,
   "metadata": {},
   "outputs": [],
   "source": [
    "pred_test = model.predict_proba(X_test)"
   ]
  },
  {
   "cell_type": "code",
   "execution_count": 21,
   "metadata": {},
   "outputs": [
    {
     "data": {
      "text/plain": [
       "<matplotlib.axes._subplots.AxesSubplot at 0x1a65b4f7da0>"
      ]
     },
     "execution_count": 21,
     "metadata": {},
     "output_type": "execute_result"
    },
    {
     "data": {
      "image/png": "[encoded data removed]",
      "text/plain": [
       "<Figure size 432x288 with 1 Axes>"
      ]
     },
     "metadata": {
      "needs_background": "light"
     },
     "output_type": "display_data"
    }
   ],
   "source": [
    "import lightgbm\n",
    "import matplotlib.pyplot as plt\n",
    "%matplotlib inline\n",
    "lightgbm.plot_importance(model)"
   ]
  },
  {
   "cell_type": "code",
   "execution_count": 22,
   "metadata": {},
   "outputs": [
    {
     "data": {
      "text/plain": [
       "(543, 7)"
      ]
     },
     "execution_count": 22,
     "metadata": {},
     "output_type": "execute_result"
    }
   ],
   "source": [
    "X.shape"
   ]
  },
  {
   "cell_type": "code",
   "execution_count": 23,
   "metadata": {
    "scrolled": false
   },
   "outputs": [
    {
     "name": "stdout",
     "output_type": "stream",
     "text": [
      "Training until validation scores don't improve for 200 rounds.\n",
      "[200]\ttraining's binary_logloss: 0.150467\tvalid_1's binary_logloss: 0.315625\n",
      "Early stopping, best iteration is:\n",
      "[157]\ttraining's binary_logloss: 0.170293\tvalid_1's binary_logloss: 0.306952\n",
      "err_lgm:  0.3069519658073337\n",
      "Training until validation scores don't improve for 200 rounds.\n",
      "[200]\ttraining's binary_logloss: 0.151419\tvalid_1's binary_logloss: 0.18847\n",
      "[400]\ttraining's binary_logloss: 0.0873209\tvalid_1's binary_logloss: 0.192115\n",
      "Early stopping, best iteration is:\n",
      "[354]\ttraining's binary_logloss: 0.100171\tvalid_1's binary_logloss: 0.185219\n",
      "err_lgm:  0.18521882994835806\n",
      "Training until validation scores don't improve for 200 rounds.\n",
      "[200]\ttraining's binary_logloss: 0.143362\tvalid_1's binary_logloss: 0.339139\n",
      "Early stopping, best iteration is:\n",
      "[106]\ttraining's binary_logloss: 0.199148\tvalid_1's binary_logloss: 0.32458\n",
      "err_lgm:  0.3245795675119481\n",
      "Training until validation scores don't improve for 200 rounds.\n",
      "[200]\ttraining's binary_logloss: 0.153198\tvalid_1's binary_logloss: 0.237126\n",
      "Early stopping, best iteration is:\n",
      "[137]\ttraining's binary_logloss: 0.184187\tvalid_1's binary_logloss: 0.219719\n",
      "err_lgm:  0.21971852624598154\n",
      "Training until validation scores don't improve for 200 rounds.\n",
      "[200]\ttraining's binary_logloss: 0.148572\tvalid_1's binary_logloss: 0.237039\n",
      "[400]\ttraining's binary_logloss: 0.0922611\tvalid_1's binary_logloss: 0.240554\n",
      "Early stopping, best iteration is:\n",
      "[265]\ttraining's binary_logloss: 0.126285\tvalid_1's binary_logloss: 0.227907\n",
      "err_lgm:  0.22790701299517072\n",
      "Training until validation scores don't improve for 200 rounds.\n",
      "[200]\ttraining's binary_logloss: 0.148747\tvalid_1's binary_logloss: 0.262579\n",
      "Early stopping, best iteration is:\n",
      "[139]\ttraining's binary_logloss: 0.182494\tvalid_1's binary_logloss: 0.254187\n",
      "err_lgm:  0.2541867735607388\n",
      "Training until validation scores don't improve for 200 rounds.\n",
      "[200]\ttraining's binary_logloss: 0.145583\tvalid_1's binary_logloss: 0.294611\n",
      "Early stopping, best iteration is:\n",
      "[170]\ttraining's binary_logloss: 0.159052\tvalid_1's binary_logloss: 0.291837\n",
      "err_lgm:  0.29183696839664625\n",
      "Training until validation scores don't improve for 200 rounds.\n",
      "[200]\ttraining's binary_logloss: 0.142737\tvalid_1's binary_logloss: 0.313677\n",
      "Early stopping, best iteration is:\n",
      "[145]\ttraining's binary_logloss: 0.170951\tvalid_1's binary_logloss: 0.298505\n",
      "err_lgm:  0.2985054856011127\n",
      "Training until validation scores don't improve for 200 rounds.\n",
      "[200]\ttraining's binary_logloss: 0.153244\tvalid_1's binary_logloss: 0.240733\n",
      "[400]\ttraining's binary_logloss: 0.0895796\tvalid_1's binary_logloss: 0.247616\n",
      "Early stopping, best iteration is:\n",
      "[288]\ttraining's binary_logloss: 0.121696\tvalid_1's binary_logloss: 0.229379\n",
      "err_lgm:  0.22937893397330095\n",
      "Training until validation scores don't improve for 200 rounds.\n",
      "[200]\ttraining's binary_logloss: 0.145957\tvalid_1's binary_logloss: 0.346423\n",
      "[400]\ttraining's binary_logloss: 0.0810317\tvalid_1's binary_logloss: 0.33519\n",
      "Early stopping, best iteration is:\n",
      "[325]\ttraining's binary_logloss: 0.101611\tvalid_1's binary_logloss: 0.326089\n",
      "err_lgm:  0.32608882560185376\n",
      "Training until validation scores don't improve for 200 rounds.\n",
      "[200]\ttraining's binary_logloss: 0.147246\tvalid_1's binary_logloss: 0.179546\n",
      "Early stopping, best iteration is:\n",
      "[198]\ttraining's binary_logloss: 0.148821\tvalid_1's binary_logloss: 0.177627\n",
      "err_lgm:  0.1776267017144362\n",
      "Training until validation scores don't improve for 200 rounds.\n",
      "[200]\ttraining's binary_logloss: 0.13665\tvalid_1's binary_logloss: 0.454901\n",
      "Early stopping, best iteration is:\n",
      "[84]\ttraining's binary_logloss: 0.216804\tvalid_1's binary_logloss: 0.412359\n",
      "err_lgm:  0.41235893804765306\n",
      "Training until validation scores don't improve for 200 rounds.\n",
      "[200]\ttraining's binary_logloss: 0.14153\tvalid_1's binary_logloss: 0.427633\n",
      "Early stopping, best iteration is:\n",
      "[70]\ttraining's binary_logloss: 0.239413\tvalid_1's binary_logloss: 0.375502\n",
      "err_lgm:  0.3755023294052345\n",
      "Training until validation scores don't improve for 200 rounds.\n",
      "[200]\ttraining's binary_logloss: 0.149995\tvalid_1's binary_logloss: 0.221977\n",
      "Early stopping, best iteration is:\n",
      "[172]\ttraining's binary_logloss: 0.162712\tvalid_1's binary_logloss: 0.214649\n",
      "err_lgm:  0.21464878742755936\n",
      "Training until validation scores don't improve for 200 rounds.\n",
      "[200]\ttraining's binary_logloss: 0.137642\tvalid_1's binary_logloss: 0.408602\n",
      "Early stopping, best iteration is:\n",
      "[155]\ttraining's binary_logloss: 0.163084\tvalid_1's binary_logloss: 0.401555\n",
      "err_lgm:  0.40155493268117476\n"
     ]
    }
   ],
   "source": [
    "err = []\n",
    "y_pred_tot_lgm = []\n",
    "\n",
    "from sklearn.model_selection import StratifiedKFold\n",
    "\n",
    "fold = StratifiedKFold(n_splits=15, shuffle=True, random_state=2020)\n",
    "i = 1\n",
    "for train_index, test_index in fold.split(X, y):\n",
    "    x_train, x_val = X.iloc[train_index], X.iloc[test_index]\n",
    "    y_train, y_val = y[train_index], y[test_index]\n",
    "    m = LGBMClassifier(boosting_type='gbdt',\n",
    "                       max_depth=5,\n",
    "                       learning_rate=0.05,\n",
    "                       n_estimators=5000,\n",
    "                       min_child_weight=0.01,\n",
    "                       colsample_bytree=0.5,\n",
    "                       num_leaves=30,\n",
    "                       random_state=1994)\n",
    "    m.fit(x_train, y_train,\n",
    "          eval_set=[(x_train,y_train),(x_val, y_val)],\n",
    "          early_stopping_rounds=200,\n",
    "          eval_metric='log_loss',\n",
    "          verbose=200)\n",
    "    pred_y = m.predict_proba(x_val)\n",
    "    print(\"err_lgm: \",log_loss(y_val,pred_y))\n",
    "    err.append(log_loss(y_val, pred_y))\n",
    "    pred_test = m.predict_proba(X_test)\n",
    "    i = i + 1\n",
    "    y_pred_tot_lgm.append(pred_test)"
   ]
  },
  {
   "cell_type": "code",
   "execution_count": 24,
   "metadata": {},
   "outputs": [
    {
     "data": {
      "text/plain": [
       "0.2830709719279002"
      ]
     },
     "execution_count": 24,
     "metadata": {},
     "output_type": "execute_result"
    }
   ],
   "source": [
    "np.mean(err,0)"
   ]
  },
  {
   "cell_type": "code",
   "execution_count": 25,
   "metadata": {
    "scrolled": false
   },
   "outputs": [
    {
     "name": "stdout",
     "output_type": "stream",
     "text": [
      "[0]\tvalidation_0-logloss:0.652165\tvalidation_1-logloss:0.652958\n",
      "Multiple eval metrics have been passed: 'validation_1-logloss' will be used for early stopping.\n",
      "\n",
      "Will train until validation_1-logloss hasn't improved in 200 rounds.\n",
      "[200]\tvalidation_0-logloss:0.081922\tvalidation_1-logloss:0.311106\n",
      "Stopping. Best iteration:\n",
      "[114]\tvalidation_0-logloss:0.138294\tvalidation_1-logloss:0.295306\n",
      "\n",
      "err_xgb:  0.29530598950018555\n",
      "[0]\tvalidation_0-logloss:0.652464\tvalidation_1-logloss:0.649286\n",
      "Multiple eval metrics have been passed: 'validation_1-logloss' will be used for early stopping.\n",
      "\n",
      "Will train until validation_1-logloss hasn't improved in 200 rounds.\n",
      "[200]\tvalidation_0-logloss:0.076355\tvalidation_1-logloss:0.216733\n",
      "Stopping. Best iteration:\n",
      "[93]\tvalidation_0-logloss:0.158082\tvalidation_1-logloss:0.203557\n",
      "\n",
      "err_xgb:  0.20355679182260222\n",
      "[0]\tvalidation_0-logloss:0.651531\tvalidation_1-logloss:0.658801\n",
      "Multiple eval metrics have been passed: 'validation_1-logloss' will be used for early stopping.\n",
      "\n",
      "Will train until validation_1-logloss hasn't improved in 200 rounds.\n",
      "[200]\tvalidation_0-logloss:0.072907\tvalidation_1-logloss:0.394984\n",
      "Stopping. Best iteration:\n",
      "[72]\tvalidation_0-logloss:0.180617\tvalidation_1-logloss:0.305847\n",
      "\n",
      "err_xgb:  0.30584719960854667\n",
      "[0]\tvalidation_0-logloss:0.651646\tvalidation_1-logloss:0.647294\n",
      "Multiple eval metrics have been passed: 'validation_1-logloss' will be used for early stopping.\n",
      "\n",
      "Will train until validation_1-logloss hasn't improved in 200 rounds.\n",
      "[200]\tvalidation_0-logloss:0.073686\tvalidation_1-logloss:0.29143\n",
      "Stopping. Best iteration:\n",
      "[62]\tvalidation_0-logloss:0.196373\tvalidation_1-logloss:0.23191\n",
      "\n",
      "err_xgb:  0.23191011488135602\n",
      "[0]\tvalidation_0-logloss:0.651321\tvalidation_1-logloss:0.655138\n",
      "Multiple eval metrics have been passed: 'validation_1-logloss' will be used for early stopping.\n",
      "\n",
      "Will train until validation_1-logloss hasn't improved in 200 rounds.\n",
      "[200]\tvalidation_0-logloss:0.075843\tvalidation_1-logloss:0.296328\n",
      "Stopping. Best iteration:\n",
      "[73]\tvalidation_0-logloss:0.176352\tvalidation_1-logloss:0.256772\n",
      "\n",
      "err_xgb:  0.2567718077224453\n",
      "[0]\tvalidation_0-logloss:0.651982\tvalidation_1-logloss:0.651876\n",
      "Multiple eval metrics have been passed: 'validation_1-logloss' will be used for early stopping.\n",
      "\n",
      "Will train until validation_1-logloss hasn't improved in 200 rounds.\n",
      "[200]\tvalidation_0-logloss:0.076082\tvalidation_1-logloss:0.319073\n",
      "Stopping. Best iteration:\n",
      "[69]\tvalidation_0-logloss:0.183192\tvalidation_1-logloss:0.229706\n",
      "\n",
      "err_xgb:  0.2297060512560042\n",
      "[0]\tvalidation_0-logloss:0.65187\tvalidation_1-logloss:0.656146\n",
      "Multiple eval metrics have been passed: 'validation_1-logloss' will be used for early stopping.\n",
      "\n",
      "Will train until validation_1-logloss hasn't improved in 200 rounds.\n",
      "[200]\tvalidation_0-logloss:0.072605\tvalidation_1-logloss:0.385922\n",
      "Stopping. Best iteration:\n",
      "[62]\tvalidation_0-logloss:0.193493\tvalidation_1-logloss:0.278818\n",
      "\n",
      "err_xgb:  0.2788178373279201\n",
      "[0]\tvalidation_0-logloss:0.651013\tvalidation_1-logloss:0.658703\n",
      "Multiple eval metrics have been passed: 'validation_1-logloss' will be used for early stopping.\n",
      "\n",
      "Will train until validation_1-logloss hasn't improved in 200 rounds.\n",
      "[200]\tvalidation_0-logloss:0.073075\tvalidation_1-logloss:0.410143\n",
      "Stopping. Best iteration:\n",
      "[88]\tvalidation_0-logloss:0.155162\tvalidation_1-logloss:0.318944\n",
      "\n",
      "err_xgb:  0.3189436625940977\n",
      "[0]\tvalidation_0-logloss:0.652332\tvalidation_1-logloss:0.653532\n",
      "Multiple eval metrics have been passed: 'validation_1-logloss' will be used for early stopping.\n",
      "\n",
      "Will train until validation_1-logloss hasn't improved in 200 rounds.\n",
      "[200]\tvalidation_0-logloss:0.077815\tvalidation_1-logloss:0.231366\n",
      "Stopping. Best iteration:\n",
      "[98]\tvalidation_0-logloss:0.150328\tvalidation_1-logloss:0.21986\n",
      "\n",
      "err_xgb:  0.2198596521241901\n",
      "[0]\tvalidation_0-logloss:0.650844\tvalidation_1-logloss:0.661633\n",
      "Multiple eval metrics have been passed: 'validation_1-logloss' will be used for early stopping.\n",
      "\n",
      "Will train until validation_1-logloss hasn't improved in 200 rounds.\n",
      "[200]\tvalidation_0-logloss:0.076144\tvalidation_1-logloss:0.379361\n",
      "Stopping. Best iteration:\n",
      "[85]\tvalidation_0-logloss:0.162785\tvalidation_1-logloss:0.351822\n",
      "\n",
      "err_xgb:  0.35182229009741506\n",
      "[0]\tvalidation_0-logloss:0.651981\tvalidation_1-logloss:0.646597\n",
      "Multiple eval metrics have been passed: 'validation_1-logloss' will be used for early stopping.\n",
      "\n",
      "Will train until validation_1-logloss hasn't improved in 200 rounds.\n",
      "[200]\tvalidation_0-logloss:0.075396\tvalidation_1-logloss:0.16237\n",
      "Stopping. Best iteration:\n",
      "[103]\tvalidation_0-logloss:0.144297\tvalidation_1-logloss:0.150647\n",
      "\n",
      "err_xgb:  0.1506467485833647\n",
      "[0]\tvalidation_0-logloss:0.65088\tvalidation_1-logloss:0.658195\n",
      "Multiple eval metrics have been passed: 'validation_1-logloss' will be used for early stopping.\n",
      "\n",
      "Will train until validation_1-logloss hasn't improved in 200 rounds.\n",
      "[200]\tvalidation_0-logloss:0.069335\tvalidation_1-logloss:0.606051\n",
      "Stopping. Best iteration:\n",
      "[36]\tvalidation_0-logloss:0.244568\tvalidation_1-logloss:0.368623\n",
      "\n",
      "err_xgb:  0.3686225683561393\n",
      "[0]\tvalidation_0-logloss:0.651321\tvalidation_1-logloss:0.664569\n",
      "Multiple eval metrics have been passed: 'validation_1-logloss' will be used for early stopping.\n",
      "\n",
      "Will train until validation_1-logloss hasn't improved in 200 rounds.\n",
      "[200]\tvalidation_0-logloss:0.075803\tvalidation_1-logloss:0.45664\n",
      "Stopping. Best iteration:\n",
      "[56]\tvalidation_0-logloss:0.195639\tvalidation_1-logloss:0.372354\n",
      "\n",
      "err_xgb:  0.3723544295611126\n",
      "[0]\tvalidation_0-logloss:0.652312\tvalidation_1-logloss:0.652075\n",
      "Multiple eval metrics have been passed: 'validation_1-logloss' will be used for early stopping.\n",
      "\n",
      "Will train until validation_1-logloss hasn't improved in 200 rounds.\n",
      "[200]\tvalidation_0-logloss:0.085138\tvalidation_1-logloss:0.229775\n",
      "Stopping. Best iteration:\n",
      "[94]\tvalidation_0-logloss:0.161406\tvalidation_1-logloss:0.19152\n",
      "\n",
      "err_xgb:  0.19151972314741994\n",
      "[0]\tvalidation_0-logloss:0.65127\tvalidation_1-logloss:0.661416\n",
      "Multiple eval metrics have been passed: 'validation_1-logloss' will be used for early stopping.\n",
      "\n",
      "Will train until validation_1-logloss hasn't improved in 200 rounds.\n",
      "[200]\tvalidation_0-logloss:0.066602\tvalidation_1-logloss:0.470235\n",
      "Stopping. Best iteration:\n",
      "[67]\tvalidation_0-logloss:0.178605\tvalidation_1-logloss:0.406125\n",
      "\n",
      "err_xgb:  0.4061252519488335\n"
     ]
    }
   ],
   "source": [
    "from xgboost import XGBClassifier\n",
    "\n",
    "errxgb = []\n",
    "y_pred_tot_xgb = []\n",
    "\n",
    "from sklearn.model_selection import KFold,StratifiedKFold\n",
    "\n",
    "fold = StratifiedKFold(n_splits=15, shuffle=True, random_state=2020)\n",
    "i = 1\n",
    "for train_index, test_index in fold.split(X,y):\n",
    "    x_train, x_val = X.iloc[train_index], X.iloc[test_index]\n",
    "    y_train, y_val = y[train_index], y[test_index]\n",
    "    m = XGBClassifier(boosting_type='gbdt',\n",
    "                      max_depth=5,\n",
    "                      learning_rate=0.07,\n",
    "                      n_estimators=5000,\n",
    "                      random_state=1994)\n",
    "    m.fit(x_train, y_train,\n",
    "          eval_set=[(x_train,y_train),(x_val, y_val)],\n",
    "          early_stopping_rounds=200,\n",
    "          eval_metric='logloss',\n",
    "          verbose=200)\n",
    "    pred_y = m.predict_proba(x_val)\n",
    "    print(\"err_xgb: \",log_loss(y_val,pred_y))\n",
    "    errxgb.append(log_loss(y_val, pred_y))\n",
    "    pred_test = m.predict_proba(X_test)\n",
    "    i = i + 1\n",
    "    y_pred_tot_xgb.append(pred_test)"
   ]
  },
  {
   "cell_type": "code",
   "execution_count": 26,
   "metadata": {},
   "outputs": [
    {
     "data": {
      "text/plain": [
       "0.27878734123544224"
      ]
     },
     "execution_count": 26,
     "metadata": {},
     "output_type": "execute_result"
    }
   ],
   "source": [
    "np.mean(errxgb,0)"
   ]
  },
  {
   "cell_type": "code",
   "execution_count": 27,
   "metadata": {
    "scrolled": false
   },
   "outputs": [
    {
     "name": "stdout",
     "output_type": "stream",
     "text": [
      "0:\tlearn: 0.4368786\ttest: 0.4368786\ttest1: 0.4542807\tbest: 0.4542807 (0)\ttotal: 666ms\tremaining: 11m 4s\n",
      "200:\tlearn: 0.0166842\ttest: 0.0166842\ttest1: 0.4768127\tbest: 0.3016665 (3)\ttotal: 28s\tremaining: 1m 51s\n",
      "Stopped by overfitting detector  (200 iterations wait)\n",
      "\n",
      "bestTest = 0.3016665299\n",
      "bestIteration = 3\n",
      "\n",
      "Shrink model to first 4 iterations.\n",
      "err_cb:  0.3016665299193479\n",
      "0:\tlearn: 0.4308824\ttest: 0.4308824\ttest1: 0.4892891\tbest: 0.4892891 (0)\ttotal: 228ms\tremaining: 3m 47s\n",
      "200:\tlearn: 0.0098090\ttest: 0.0098090\ttest1: 0.2351385\tbest: 0.1713204 (47)\ttotal: 30.5s\tremaining: 2m 1s\n",
      "Stopped by overfitting detector  (200 iterations wait)\n",
      "\n",
      "bestTest = 0.1713203772\n",
      "bestIteration = 47\n",
      "\n",
      "Shrink model to first 48 iterations.\n",
      "err_cb:  0.17132037720366547\n",
      "0:\tlearn: 0.4306822\ttest: 0.4306822\ttest1: 0.4814039\tbest: 0.4814039 (0)\ttotal: 213ms\tremaining: 3m 32s\n",
      "200:\tlearn: 0.0222992\ttest: 0.0222992\ttest1: 0.5089425\tbest: 0.3189941 (43)\ttotal: 26.4s\tremaining: 1m 45s\n",
      "Stopped by overfitting detector  (200 iterations wait)\n",
      "\n",
      "bestTest = 0.3189941394\n",
      "bestIteration = 43\n",
      "\n",
      "Shrink model to first 44 iterations.\n",
      "err_cb:  0.3189941393509595\n",
      "0:\tlearn: 0.4456498\ttest: 0.4456498\ttest1: 0.3971816\tbest: 0.3971816 (0)\ttotal: 210ms\tremaining: 3m 29s\n",
      "200:\tlearn: 0.0259681\ttest: 0.0259681\ttest1: 0.2592473\tbest: 0.1892728 (25)\ttotal: 32.4s\tremaining: 2m 8s\n",
      "Stopped by overfitting detector  (200 iterations wait)\n",
      "\n",
      "bestTest = 0.1892728011\n",
      "bestIteration = 25\n",
      "\n",
      "Shrink model to first 26 iterations.\n",
      "err_cb:  0.18927280106136546\n",
      "0:\tlearn: 0.4147804\ttest: 0.4147804\ttest1: 0.4341705\tbest: 0.4341705 (0)\ttotal: 330ms\tremaining: 5m 29s\n",
      "200:\tlearn: 0.0210777\ttest: 0.0210777\ttest1: 0.2341607\tbest: 0.1337857 (39)\ttotal: 30.8s\tremaining: 2m 2s\n",
      "Stopped by overfitting detector  (200 iterations wait)\n",
      "\n",
      "bestTest = 0.1337857068\n",
      "bestIteration = 39\n",
      "\n",
      "Shrink model to first 40 iterations.\n",
      "err_cb:  0.13378570677768659\n",
      "0:\tlearn: 0.4329877\ttest: 0.4329877\ttest1: 0.4340050\tbest: 0.4340050 (0)\ttotal: 297ms\tremaining: 4m 56s\n",
      "200:\tlearn: 0.0114455\ttest: 0.0114455\ttest1: 0.5483120\tbest: 0.2947856 (19)\ttotal: 26.1s\tremaining: 1m 43s\n",
      "Stopped by overfitting detector  (200 iterations wait)\n",
      "\n",
      "bestTest = 0.2947856418\n",
      "bestIteration = 19\n",
      "\n",
      "Shrink model to first 20 iterations.\n",
      "err_cb:  0.2947856417701184\n",
      "0:\tlearn: 0.4124804\ttest: 0.4124804\ttest1: 0.4845128\tbest: 0.4845128 (0)\ttotal: 153ms\tremaining: 2m 32s\n",
      "200:\tlearn: 0.0116185\ttest: 0.0116185\ttest1: 0.4732696\tbest: 0.3017275 (31)\ttotal: 26.7s\tremaining: 1m 46s\n",
      "Stopped by overfitting detector  (200 iterations wait)\n",
      "\n",
      "bestTest = 0.3017274887\n",
      "bestIteration = 31\n",
      "\n",
      "Shrink model to first 32 iterations.\n",
      "err_cb:  0.30172748874818345\n",
      "0:\tlearn: 0.4417842\ttest: 0.4417842\ttest1: 0.4477341\tbest: 0.4477341 (0)\ttotal: 209ms\tremaining: 3m 28s\n",
      "200:\tlearn: 0.0163062\ttest: 0.0163062\ttest1: 0.2533473\tbest: 0.2347135 (119)\ttotal: 25.3s\tremaining: 1m 40s\n",
      "Stopped by overfitting detector  (200 iterations wait)\n",
      "\n",
      "bestTest = 0.2347135252\n",
      "bestIteration = 119\n",
      "\n",
      "Shrink model to first 120 iterations.\n",
      "err_cb:  0.23471352519848745\n",
      "0:\tlearn: 0.4179220\ttest: 0.4179220\ttest1: 0.4027872\tbest: 0.4027872 (0)\ttotal: 159ms\tremaining: 2m 38s\n",
      "200:\tlearn: 0.0186549\ttest: 0.0186549\ttest1: 0.3370421\tbest: 0.2353584 (10)\ttotal: 25.2s\tremaining: 1m 40s\n",
      "Stopped by overfitting detector  (200 iterations wait)\n",
      "\n",
      "bestTest = 0.2353583656\n",
      "bestIteration = 10\n",
      "\n",
      "Shrink model to first 11 iterations.\n",
      "err_cb:  0.23535836555971035\n",
      "0:\tlearn: 0.4093949\ttest: 0.4093949\ttest1: 0.4103040\tbest: 0.4103040 (0)\ttotal: 200ms\tremaining: 3m 19s\n",
      "200:\tlearn: 0.0115002\ttest: 0.0115002\ttest1: 0.6339644\tbest: 0.3207953 (2)\ttotal: 30.6s\tremaining: 2m 1s\n",
      "Stopped by overfitting detector  (200 iterations wait)\n",
      "\n",
      "bestTest = 0.3207953364\n",
      "bestIteration = 2\n",
      "\n",
      "Shrink model to first 3 iterations.\n",
      "err_cb:  0.32079533639782926\n",
      "0:\tlearn: 0.3876927\ttest: 0.3876927\ttest1: 0.3261564\tbest: 0.3261564 (0)\ttotal: 297ms\tremaining: 4m 57s\n",
      "200:\tlearn: 0.0085235\ttest: 0.0085235\ttest1: 0.2095128\tbest: 0.1518349 (112)\ttotal: 33.6s\tremaining: 2m 13s\n",
      "Stopped by overfitting detector  (200 iterations wait)\n",
      "\n",
      "bestTest = 0.1518349241\n",
      "bestIteration = 112\n",
      "\n",
      "Shrink model to first 113 iterations.\n",
      "err_cb:  0.15183492406388055\n",
      "0:\tlearn: 0.3744915\ttest: 0.3744915\ttest1: 0.4943233\tbest: 0.4943233 (0)\ttotal: 162ms\tremaining: 2m 42s\n",
      "200:\tlearn: 0.0301056\ttest: 0.0301056\ttest1: 0.9485614\tbest: 0.3832819 (6)\ttotal: 31.8s\tremaining: 2m 6s\n",
      "Stopped by overfitting detector  (200 iterations wait)\n",
      "\n",
      "bestTest = 0.3832818587\n",
      "bestIteration = 6\n",
      "\n",
      "Shrink model to first 7 iterations.\n",
      "err_cb:  0.3832818587126233\n",
      "0:\tlearn: 0.3778665\ttest: 0.3778665\ttest1: 0.4698792\tbest: 0.4698792 (0)\ttotal: 151ms\tremaining: 2m 30s\n",
      "200:\tlearn: 0.0169484\ttest: 0.0169484\ttest1: 0.8329882\tbest: 0.3413316 (8)\ttotal: 34.4s\tremaining: 2m 16s\n",
      "Stopped by overfitting detector  (200 iterations wait)\n",
      "\n",
      "bestTest = 0.341331604\n",
      "bestIteration = 8\n",
      "\n",
      "Shrink model to first 9 iterations.\n",
      "err_cb:  0.34133160397264056\n",
      "0:\tlearn: 0.3906189\ttest: 0.3906189\ttest1: 0.4097378\tbest: 0.4097378 (0)\ttotal: 293ms\tremaining: 4m 53s\n",
      "200:\tlearn: 0.0123118\ttest: 0.0123118\ttest1: 0.2606816\tbest: 0.1849374 (19)\ttotal: 32.5s\tremaining: 2m 9s\n",
      "Stopped by overfitting detector  (200 iterations wait)\n",
      "\n",
      "bestTest = 0.1849374013\n",
      "bestIteration = 19\n",
      "\n",
      "Shrink model to first 20 iterations.\n",
      "err_cb:  0.18493740134494852\n",
      "0:\tlearn: 0.3965934\ttest: 0.3965934\ttest1: 0.4728771\tbest: 0.4728771 (0)\ttotal: 310ms\tremaining: 5m 10s\n",
      "200:\tlearn: 0.0165406\ttest: 0.0165406\ttest1: 0.5257507\tbest: 0.3514767 (43)\ttotal: 31.1s\tremaining: 2m 3s\n",
      "Stopped by overfitting detector  (200 iterations wait)\n",
      "\n",
      "bestTest = 0.3514766741\n",
      "bestIteration = 43\n",
      "\n",
      "Shrink model to first 44 iterations.\n",
      "err_cb:  0.3514766740659834\n"
     ]
    }
   ],
   "source": [
    "from catboost import CatBoostClassifier,Pool, cv\n",
    "errCB = []\n",
    "y_pred_tot_cb = []\n",
    "from sklearn.model_selection import KFold,StratifiedKFold\n",
    "\n",
    "fold = StratifiedKFold(n_splits=15, shuffle=True, random_state=2020)\n",
    "i = 1\n",
    "for train_index, test_index in fold.split(X,y):\n",
    "    x_train, x_val = X.iloc[train_index], X.iloc[test_index]\n",
    "    y_train, y_val = y[train_index], y[test_index]\n",
    "    m = CatBoostClassifier(n_estimators=1000,\n",
    "                           random_state=1994,\n",
    "                           eval_metric='Logloss',\n",
    "                           learning_rate=0.5, \n",
    "                           max_depth=10)\n",
    "    m.fit(x_train, y_train,\n",
    "          eval_set=[(x_train,y_train),(x_val, y_val)],\n",
    "          early_stopping_rounds=200,\n",
    "          verbose=200)\n",
    "    pred_y = m.predict_proba(x_val)\n",
    "    print(\"err_cb: \",log_loss(y_val,pred_y))\n",
    "    errCB.append(log_loss(y_val,pred_y))\n",
    "    pred_test = m.predict_proba(X_test)\n",
    "    i = i + 1\n",
    "    y_pred_tot_cb.append(pred_test)"
   ]
  },
  {
   "cell_type": "code",
   "execution_count": 28,
   "metadata": {},
   "outputs": [
    {
     "data": {
      "text/plain": [
       "0.26101882494316203"
      ]
     },
     "execution_count": 28,
     "metadata": {},
     "output_type": "execute_result"
    }
   ],
   "source": [
    "np.mean(errCB, 0)"
   ]
  },
  {
   "cell_type": "code",
   "execution_count": 29,
   "metadata": {},
   "outputs": [
    {
     "data": {
      "text/plain": [
       "0.2742923793688348"
      ]
     },
     "execution_count": 29,
     "metadata": {},
     "output_type": "execute_result"
    }
   ],
   "source": [
    "(np.mean(errxgb, 0) + np.mean(err, 0) + np.mean(errCB, 0))/3"
   ]
  },
  {
   "cell_type": "code",
   "execution_count": 30,
   "metadata": {
    "scrolled": false
   },
   "outputs": [],
   "source": [
    "submission = pd.DataFrame((np.mean(y_pred_tot_lgm, 0)+np.mean(y_pred_tot_xgb, 0)+np.mean(y_pred_tot_cb, 0))/3)\n",
    "submission.to_excel('Submission.xlsx', index=False)"
   ]
  },
  {
   "cell_type": "code",
   "execution_count": 31,
   "metadata": {},
   "outputs": [
    {
     "data": {
      "text/plain": [
       "(233, 2)"
      ]
     },
     "execution_count": 31,
     "metadata": {},
     "output_type": "execute_result"
    }
   ],
   "source": [
    "submission.shape"
   ]
  },
  {
   "cell_type": "code",
   "execution_count": 32,
   "metadata": {},
   "outputs": [
    {
     "data": {
      "text/html": [
       "<div>\n",
       "<style scoped>\n",
       "    .dataframe tbody tr th:only-of-type {\n",
       "        vertical-align: middle;\n",
       "    }\n",
       "\n",
       "    .dataframe tbody tr th {\n",
       "        vertical-align: top;\n",
       "    }\n",
       "\n",
       "    .dataframe thead th {\n",
       "        text-align: right;\n",
       "    }\n",
       "</style>\n",
       "<table border=\"1\" class=\"dataframe\">\n",
       "  <thead>\n",
       "    <tr style=\"text-align: right;\">\n",
       "      <th></th>\n",
       "      <th>0</th>\n",
       "      <th>1</th>\n",
       "    </tr>\n",
       "  </thead>\n",
       "  <tbody>\n",
       "    <tr>\n",
       "      <th>0</th>\n",
       "      <td>0.004210</td>\n",
       "      <td>0.995790</td>\n",
       "    </tr>\n",
       "    <tr>\n",
       "      <th>1</th>\n",
       "      <td>0.091560</td>\n",
       "      <td>0.908440</td>\n",
       "    </tr>\n",
       "    <tr>\n",
       "      <th>2</th>\n",
       "      <td>0.903180</td>\n",
       "      <td>0.096820</td>\n",
       "    </tr>\n",
       "    <tr>\n",
       "      <th>3</th>\n",
       "      <td>0.005282</td>\n",
       "      <td>0.994718</td>\n",
       "    </tr>\n",
       "    <tr>\n",
       "      <th>4</th>\n",
       "      <td>0.208438</td>\n",
       "      <td>0.791562</td>\n",
       "    </tr>\n",
       "  </tbody>\n",
       "</table>\n",
       "</div>"
      ],
      "text/plain": [
       "          0         1\n",
       "0  0.004210  0.995790\n",
       "1  0.091560  0.908440\n",
       "2  0.903180  0.096820\n",
       "3  0.005282  0.994718\n",
       "4  0.208438  0.791562"
      ]
     },
     "execution_count": 32,
     "metadata": {},
     "output_type": "execute_result"
    }
   ],
   "source": [
    "submission.head()"
   ]
  }
 ],
 "metadata": {
  "kernelspec": {
   "display_name": "Python 3",
   "language": "python",
   "name": "python3"
  },
  "language_info": {
   "codemirror_mode": {
    "name": "ipython",
    "version": 3
   },
   "file_extension": ".py",
   "mimetype": "text/x-python",
   "name": "python",
   "nbconvert_exporter": "python",
   "pygments_lexer": "ipython3",
   "version": "3.7.3"
  }
 },
 "nbformat": 4,
 "nbformat_minor": 2
}
