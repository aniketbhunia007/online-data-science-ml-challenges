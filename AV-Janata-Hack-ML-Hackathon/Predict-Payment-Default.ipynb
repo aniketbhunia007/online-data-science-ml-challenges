{
 "cells": [
  {
   "cell_type": "code",
   "execution_count": 1,
   "metadata": {
    "_cell_guid": "b1076dfc-b9ad-4769-8c92-a6c4dae69d19",
    "_uuid": "8f2839f25d086af736a60e9eeb907d3b93b6e0e5"
   },
   "outputs": [
    {
     "name": "stdout",
     "output_type": "stream",
     "text": [
      "/kaggle/input/av-janata-hack-payment-default-prediction/train_20D8GL3.csv\n",
      "/kaggle/input/av-janata-hack-payment-default-prediction/test_O6kKpvt.csv\n",
      "/kaggle/input/av-janata-hack-payment-default-prediction/sample_submission_gm6gE0l.csv\n"
     ]
    }
   ],
   "source": [
    "import numpy as np\n",
    "import pandas as pd\n",
    "\n",
    "import os\n",
    "for dirname, _, filenames in os.walk('/kaggle/input'):\n",
    "    for filename in filenames:\n",
    "        print(os.path.join(dirname, filename))"
   ]
  },
  {
   "cell_type": "code",
   "execution_count": 2,
   "metadata": {
    "_cell_guid": "79c7e3d0-c299-4dcb-8224-4455121ee9b0",
    "_uuid": "d629ff2d2480ee46fbb7e2d37f6b5fab8052498a"
   },
   "outputs": [
    {
     "data": {
      "text/plain": [
       "((21000, 25), (9000, 24))"
      ]
     },
     "execution_count": 2,
     "metadata": {},
     "output_type": "execute_result"
    }
   ],
   "source": [
    "train = pd.read_csv('/kaggle/input/av-janata-hack-payment-default-prediction/train_20D8GL3.csv')\n",
    "test = pd.read_csv('/kaggle/input/av-janata-hack-payment-default-prediction/test_O6kKpvt.csv')\n",
    "train.shape, test.shape"
   ]
  },
  {
   "cell_type": "code",
   "execution_count": 3,
   "metadata": {},
   "outputs": [
    {
     "name": "stderr",
     "output_type": "stream",
     "text": [
      "/opt/conda/lib/python3.6/site-packages/pandas/core/frame.py:7138: FutureWarning: Sorting because non-concatenation axis is not aligned. A future version\n",
      "of pandas will change to not sort by default.\n",
      "\n",
      "To accept the future behavior, pass 'sort=False'.\n",
      "\n",
      "To retain the current behavior and silence the warning, pass 'sort=True'.\n",
      "\n",
      "  sort=sort,\n"
     ]
    },
    {
     "data": {
      "text/plain": [
       "(30000, 25)"
      ]
     },
     "execution_count": 3,
     "metadata": {},
     "output_type": "execute_result"
    }
   ],
   "source": [
    "combine = train.append(test)\n",
    "combine.shape"
   ]
  },
  {
   "cell_type": "code",
   "execution_count": 4,
   "metadata": {},
   "outputs": [
    {
     "data": {
      "text/plain": [
       "AGE                              0\n",
       "BILL_AMT1                        0\n",
       "BILL_AMT2                        0\n",
       "BILL_AMT3                        0\n",
       "BILL_AMT4                        0\n",
       "BILL_AMT5                        0\n",
       "BILL_AMT6                        0\n",
       "EDUCATION                        0\n",
       "ID                               0\n",
       "LIMIT_BAL                        0\n",
       "MARRIAGE                         0\n",
       "PAY_0                            0\n",
       "PAY_2                            0\n",
       "PAY_3                            0\n",
       "PAY_4                            0\n",
       "PAY_5                            0\n",
       "PAY_6                            0\n",
       "PAY_AMT1                         0\n",
       "PAY_AMT2                         0\n",
       "PAY_AMT3                         0\n",
       "PAY_AMT4                         0\n",
       "PAY_AMT5                         0\n",
       "PAY_AMT6                         0\n",
       "SEX                              0\n",
       "default_payment_next_month    9000\n",
       "dtype: int64"
      ]
     },
     "execution_count": 4,
     "metadata": {},
     "output_type": "execute_result"
    }
   ],
   "source": [
    "combine.isnull().sum()"
   ]
  },
  {
   "cell_type": "code",
   "execution_count": 5,
   "metadata": {},
   "outputs": [
    {
     "data": {
      "text/plain": [
       "AGE                             int64\n",
       "BILL_AMT1                       int64\n",
       "BILL_AMT2                       int64\n",
       "BILL_AMT3                       int64\n",
       "BILL_AMT4                       int64\n",
       "BILL_AMT5                       int64\n",
       "BILL_AMT6                       int64\n",
       "EDUCATION                       int64\n",
       "ID                              int64\n",
       "LIMIT_BAL                       int64\n",
       "MARRIAGE                        int64\n",
       "PAY_0                           int64\n",
       "PAY_2                           int64\n",
       "PAY_3                           int64\n",
       "PAY_4                           int64\n",
       "PAY_5                           int64\n",
       "PAY_6                           int64\n",
       "PAY_AMT1                        int64\n",
       "PAY_AMT2                        int64\n",
       "PAY_AMT3                        int64\n",
       "PAY_AMT4                        int64\n",
       "PAY_AMT5                        int64\n",
       "PAY_AMT6                        int64\n",
       "SEX                             int64\n",
       "default_payment_next_month    float64\n",
       "dtype: object"
      ]
     },
     "execution_count": 5,
     "metadata": {},
     "output_type": "execute_result"
    }
   ],
   "source": [
    "combine.dtypes"
   ]
  },
  {
   "cell_type": "code",
   "execution_count": 6,
   "metadata": {},
   "outputs": [
    {
     "data": {
      "text/plain": [
       "count      30000.000000\n",
       "mean      167484.322667\n",
       "std       129747.661567\n",
       "min        10000.000000\n",
       "25%        50000.000000\n",
       "50%       140000.000000\n",
       "75%       240000.000000\n",
       "max      1000000.000000\n",
       "Name: LIMIT_BAL, dtype: float64"
      ]
     },
     "execution_count": 6,
     "metadata": {},
     "output_type": "execute_result"
    }
   ],
   "source": [
    "combine['LIMIT_BAL'].describe()"
   ]
  },
  {
   "cell_type": "code",
   "execution_count": 7,
   "metadata": {},
   "outputs": [
    {
     "data": {
      "text/plain": [
       "count    30000.000000\n",
       "mean        11.663002\n",
       "std          0.941135\n",
       "min          9.210340\n",
       "25%         10.819778\n",
       "50%         11.849398\n",
       "75%         12.388394\n",
       "max         13.815511\n",
       "Name: LIMIT_BAL, dtype: float64"
      ]
     },
     "execution_count": 7,
     "metadata": {},
     "output_type": "execute_result"
    }
   ],
   "source": [
    "combine['LIMIT_BAL'] = np.log(combine['LIMIT_BAL'])\n",
    "combine['LIMIT_BAL'].describe()"
   ]
  },
  {
   "cell_type": "code",
   "execution_count": 8,
   "metadata": {},
   "outputs": [
    {
     "data": {
      "text/plain": [
       "2    18112\n",
       "1    11888\n",
       "Name: SEX, dtype: int64"
      ]
     },
     "execution_count": 8,
     "metadata": {},
     "output_type": "execute_result"
    }
   ],
   "source": [
    "combine['SEX'].value_counts()"
   ]
  },
  {
   "cell_type": "code",
   "execution_count": 9,
   "metadata": {},
   "outputs": [
    {
     "data": {
      "text/plain": [
       "Female    18112\n",
       "Male      11888\n",
       "Name: SEX, dtype: int64"
      ]
     },
     "execution_count": 9,
     "metadata": {},
     "output_type": "execute_result"
    }
   ],
   "source": [
    "combine['SEX'] = combine['SEX'].replace(1, \"Male\")\n",
    "combine['SEX'] = combine['SEX'].replace(2, \"Female\")\n",
    "combine['SEX'].value_counts()"
   ]
  },
  {
   "cell_type": "code",
   "execution_count": 10,
   "metadata": {},
   "outputs": [
    {
     "data": {
      "text/plain": [
       "2    14030\n",
       "1    10585\n",
       "3     4917\n",
       "5      280\n",
       "4      123\n",
       "6       51\n",
       "0       14\n",
       "Name: EDUCATION, dtype: int64"
      ]
     },
     "execution_count": 10,
     "metadata": {},
     "output_type": "execute_result"
    }
   ],
   "source": [
    "combine['EDUCATION'].value_counts()"
   ]
  },
  {
   "cell_type": "code",
   "execution_count": 11,
   "metadata": {},
   "outputs": [
    {
     "data": {
      "text/plain": [
       "University         14030\n",
       "Graduate_School    10585\n",
       "High_School         4917\n",
       "Unknown              468\n",
       "Name: EDUCATION, dtype: int64"
      ]
     },
     "execution_count": 11,
     "metadata": {},
     "output_type": "execute_result"
    }
   ],
   "source": [
    "combine['EDUCATION'] = combine['EDUCATION'].replace(1, \"Graduate_School\")\n",
    "combine['EDUCATION'] = combine['EDUCATION'].replace(2, \"University\")\n",
    "combine['EDUCATION'] = combine['EDUCATION'].replace(3, \"High_School\")\n",
    "combine['EDUCATION'] = combine['EDUCATION'].replace(4, \"Unknown\")\n",
    "combine['EDUCATION'] = combine['EDUCATION'].replace(5, \"Unknown\")\n",
    "combine['EDUCATION'] = combine['EDUCATION'].replace(6, \"Unknown\")\n",
    "combine['EDUCATION'] = combine['EDUCATION'].replace(0, \"Unknown\")\n",
    "combine['EDUCATION'].value_counts()"
   ]
  },
  {
   "cell_type": "code",
   "execution_count": 12,
   "metadata": {},
   "outputs": [
    {
     "data": {
      "text/plain": [
       "2    15964\n",
       "1    13659\n",
       "3      323\n",
       "0       54\n",
       "Name: MARRIAGE, dtype: int64"
      ]
     },
     "execution_count": 12,
     "metadata": {},
     "output_type": "execute_result"
    }
   ],
   "source": [
    "combine['MARRIAGE'].value_counts()"
   ]
  },
  {
   "cell_type": "code",
   "execution_count": 13,
   "metadata": {},
   "outputs": [
    {
     "data": {
      "text/plain": [
       "Single      15964\n",
       "Married     13659\n",
       "Divorced      323\n",
       "Unknown        54\n",
       "Name: MARRIAGE, dtype: int64"
      ]
     },
     "execution_count": 13,
     "metadata": {},
     "output_type": "execute_result"
    }
   ],
   "source": [
    "combine['MARRIAGE'] = combine['MARRIAGE'].replace(1, \"Married\")\n",
    "combine['MARRIAGE'] = combine['MARRIAGE'].replace(2, \"Single\")\n",
    "combine['MARRIAGE'] = combine['MARRIAGE'].replace(3, \"Divorced\")\n",
    "combine['MARRIAGE'] = combine['MARRIAGE'].replace(0, \"Unknown\")\n",
    "combine['MARRIAGE'].value_counts()"
   ]
  },
  {
   "cell_type": "code",
   "execution_count": 14,
   "metadata": {},
   "outputs": [
    {
     "data": {
      "text/plain": [
       "count    30000.000000\n",
       "mean        35.485500\n",
       "std          9.217904\n",
       "min         21.000000\n",
       "25%         28.000000\n",
       "50%         34.000000\n",
       "75%         41.000000\n",
       "max         79.000000\n",
       "Name: AGE, dtype: float64"
      ]
     },
     "execution_count": 14,
     "metadata": {},
     "output_type": "execute_result"
    }
   ],
   "source": [
    "combine['AGE'].describe()"
   ]
  },
  {
   "cell_type": "code",
   "execution_count": 15,
   "metadata": {},
   "outputs": [
    {
     "data": {
      "text/plain": [
       "Age_Tier2    11238\n",
       "Age_Tier1     9618\n",
       "Age_Tier3     6464\n",
       "Age_Tier4     2341\n",
       "Age_Tier5      314\n",
       "Age_Tier6       25\n",
       "Name: AGE, dtype: int64"
      ]
     },
     "execution_count": 15,
     "metadata": {},
     "output_type": "execute_result"
    }
   ],
   "source": [
    "bins= [20,30,40,50,60,70,80]\n",
    "labels = ['Age_Tier1','Age_Tier2','Age_Tier3','Age_Tier4','Age_Tier5','Age_Tier6']\n",
    "combine['AGE'] = pd.cut(combine['AGE'], bins=bins, labels=labels, right=False)\n",
    "combine['AGE'].value_counts()"
   ]
  },
  {
   "cell_type": "code",
   "execution_count": 16,
   "metadata": {},
   "outputs": [
    {
     "data": {
      "text/plain": [
       " 0    14737\n",
       "-1     5686\n",
       " 1     3688\n",
       "-2     2759\n",
       " 2     2667\n",
       " 3      322\n",
       " 4       76\n",
       " 5       26\n",
       " 8       19\n",
       " 6       11\n",
       " 7        9\n",
       "Name: PAY_0, dtype: int64"
      ]
     },
     "execution_count": 16,
     "metadata": {},
     "output_type": "execute_result"
    }
   ],
   "source": [
    "combine['PAY_0'].value_counts()"
   ]
  },
  {
   "cell_type": "code",
   "execution_count": 17,
   "metadata": {},
   "outputs": [
    {
     "data": {
      "text/plain": [
       "Paid_On_Time    14737\n",
       "Duly_1           5686\n",
       "Delay_1          3688\n",
       "Duly_2           2759\n",
       "Delay_2          2667\n",
       "Delay_3           322\n",
       "Delay_4            76\n",
       "Delay_5            26\n",
       "Delay_8            19\n",
       "Delay_6            11\n",
       "Delay_7             9\n",
       "Name: PAY_0, dtype: int64"
      ]
     },
     "execution_count": 17,
     "metadata": {},
     "output_type": "execute_result"
    }
   ],
   "source": [
    "combine['PAY_0'] = combine['PAY_0'].replace(0, \"Paid_On_Time\")\n",
    "combine['PAY_0'] = combine['PAY_0'].replace(-1, \"Duly_1\")\n",
    "combine['PAY_0'] = combine['PAY_0'].replace(1, \"Delay_1\")\n",
    "combine['PAY_0'] = combine['PAY_0'].replace(-2, \"Duly_2\")\n",
    "combine['PAY_0'] = combine['PAY_0'].replace(2, \"Delay_2\")\n",
    "combine['PAY_0'] = combine['PAY_0'].replace(3, \"Delay_3\")\n",
    "combine['PAY_0'] = combine['PAY_0'].replace(4, \"Delay_4\")\n",
    "combine['PAY_0'] = combine['PAY_0'].replace(5, \"Delay_5\")\n",
    "combine['PAY_0'] = combine['PAY_0'].replace(8, \"Delay_8\")\n",
    "combine['PAY_0'] = combine['PAY_0'].replace(6, \"Delay_6\")\n",
    "combine['PAY_0'] = combine['PAY_0'].replace(7, \"Delay_7\")\n",
    "combine['PAY_0'].value_counts()"
   ]
  },
  {
   "cell_type": "code",
   "execution_count": 18,
   "metadata": {},
   "outputs": [
    {
     "data": {
      "text/plain": [
       " 0    15730\n",
       "-1     6050\n",
       " 2     3927\n",
       "-2     3782\n",
       " 3      326\n",
       " 4       99\n",
       " 1       28\n",
       " 5       25\n",
       " 7       20\n",
       " 6       12\n",
       " 8        1\n",
       "Name: PAY_2, dtype: int64"
      ]
     },
     "execution_count": 18,
     "metadata": {},
     "output_type": "execute_result"
    }
   ],
   "source": [
    "combine['PAY_2'].value_counts()"
   ]
  },
  {
   "cell_type": "code",
   "execution_count": 19,
   "metadata": {},
   "outputs": [
    {
     "data": {
      "text/plain": [
       "Paid_On_Time    15730\n",
       "Duly_1           6050\n",
       "Delay_2          3927\n",
       "Duly_2           3782\n",
       "Delay_3           326\n",
       "Delay_4            99\n",
       "Delay_1            28\n",
       "Delay_5            25\n",
       "Delay_7            20\n",
       "Delay_6            12\n",
       "Delay_8             1\n",
       "Name: PAY_2, dtype: int64"
      ]
     },
     "execution_count": 19,
     "metadata": {},
     "output_type": "execute_result"
    }
   ],
   "source": [
    "combine['PAY_2'] = combine['PAY_2'].replace(0, \"Paid_On_Time\")\n",
    "combine['PAY_2'] = combine['PAY_2'].replace(-1, \"Duly_1\")\n",
    "combine['PAY_2'] = combine['PAY_2'].replace(1, \"Delay_1\")\n",
    "combine['PAY_2'] = combine['PAY_2'].replace(-2, \"Duly_2\")\n",
    "combine['PAY_2'] = combine['PAY_2'].replace(2, \"Delay_2\")\n",
    "combine['PAY_2'] = combine['PAY_2'].replace(3, \"Delay_3\")\n",
    "combine['PAY_2'] = combine['PAY_2'].replace(4, \"Delay_4\")\n",
    "combine['PAY_2'] = combine['PAY_2'].replace(5, \"Delay_5\")\n",
    "combine['PAY_2'] = combine['PAY_2'].replace(8, \"Delay_8\")\n",
    "combine['PAY_2'] = combine['PAY_2'].replace(6, \"Delay_6\")\n",
    "combine['PAY_2'] = combine['PAY_2'].replace(7, \"Delay_7\")\n",
    "combine['PAY_2'].value_counts()"
   ]
  },
  {
   "cell_type": "code",
   "execution_count": 20,
   "metadata": {},
   "outputs": [
    {
     "data": {
      "text/plain": [
       " 0    15764\n",
       "-1     5938\n",
       "-2     4085\n",
       " 2     3819\n",
       " 3      240\n",
       " 4       76\n",
       " 7       27\n",
       " 6       23\n",
       " 5       21\n",
       " 1        4\n",
       " 8        3\n",
       "Name: PAY_3, dtype: int64"
      ]
     },
     "execution_count": 20,
     "metadata": {},
     "output_type": "execute_result"
    }
   ],
   "source": [
    "combine['PAY_3'].value_counts()"
   ]
  },
  {
   "cell_type": "code",
   "execution_count": 21,
   "metadata": {},
   "outputs": [
    {
     "data": {
      "text/plain": [
       "Paid_On_Time    15764\n",
       "Duly_1           5938\n",
       "Duly_2           4085\n",
       "Delay_2          3819\n",
       "Delay_3           240\n",
       "Delay_4            76\n",
       "Delay_7            27\n",
       "Delay_6            23\n",
       "Delay_5            21\n",
       "Delay_1             4\n",
       "Delay_8             3\n",
       "Name: PAY_3, dtype: int64"
      ]
     },
     "execution_count": 21,
     "metadata": {},
     "output_type": "execute_result"
    }
   ],
   "source": [
    "combine['PAY_3'] = combine['PAY_3'].replace(0, \"Paid_On_Time\")\n",
    "combine['PAY_3'] = combine['PAY_3'].replace(-1, \"Duly_1\")\n",
    "combine['PAY_3'] = combine['PAY_3'].replace(1, \"Delay_1\")\n",
    "combine['PAY_3'] = combine['PAY_3'].replace(-2, \"Duly_2\")\n",
    "combine['PAY_3'] = combine['PAY_3'].replace(2, \"Delay_2\")\n",
    "combine['PAY_3'] = combine['PAY_3'].replace(3, \"Delay_3\")\n",
    "combine['PAY_3'] = combine['PAY_3'].replace(4, \"Delay_4\")\n",
    "combine['PAY_3'] = combine['PAY_3'].replace(5, \"Delay_5\")\n",
    "combine['PAY_3'] = combine['PAY_3'].replace(8, \"Delay_8\")\n",
    "combine['PAY_3'] = combine['PAY_3'].replace(6, \"Delay_6\")\n",
    "combine['PAY_3'] = combine['PAY_3'].replace(7, \"Delay_7\")\n",
    "combine['PAY_3'].value_counts()"
   ]
  },
  {
   "cell_type": "code",
   "execution_count": 22,
   "metadata": {},
   "outputs": [
    {
     "data": {
      "text/plain": [
       " 0    16455\n",
       "-1     5687\n",
       "-2     4348\n",
       " 2     3159\n",
       " 3      180\n",
       " 4       69\n",
       " 7       58\n",
       " 5       35\n",
       " 6        5\n",
       " 8        2\n",
       " 1        2\n",
       "Name: PAY_4, dtype: int64"
      ]
     },
     "execution_count": 22,
     "metadata": {},
     "output_type": "execute_result"
    }
   ],
   "source": [
    "combine['PAY_4'].value_counts()"
   ]
  },
  {
   "cell_type": "code",
   "execution_count": 23,
   "metadata": {},
   "outputs": [
    {
     "data": {
      "text/plain": [
       "Paid_On_Time    16455\n",
       "Duly_1           5687\n",
       "Duly_2           4348\n",
       "Delay_2          3159\n",
       "Delay_3           180\n",
       "Delay_4            69\n",
       "Delay_7            58\n",
       "Delay_5            35\n",
       "Delay_6             5\n",
       "Delay_1             2\n",
       "Delay_8             2\n",
       "Name: PAY_4, dtype: int64"
      ]
     },
     "execution_count": 23,
     "metadata": {},
     "output_type": "execute_result"
    }
   ],
   "source": [
    "combine['PAY_4'] = combine['PAY_4'].replace(0, \"Paid_On_Time\")\n",
    "combine['PAY_4'] = combine['PAY_4'].replace(-1, \"Duly_1\")\n",
    "combine['PAY_4'] = combine['PAY_4'].replace(1, \"Delay_1\")\n",
    "combine['PAY_4'] = combine['PAY_4'].replace(-2, \"Duly_2\")\n",
    "combine['PAY_4'] = combine['PAY_4'].replace(2, \"Delay_2\")\n",
    "combine['PAY_4'] = combine['PAY_4'].replace(3, \"Delay_3\")\n",
    "combine['PAY_4'] = combine['PAY_4'].replace(4, \"Delay_4\")\n",
    "combine['PAY_4'] = combine['PAY_4'].replace(5, \"Delay_5\")\n",
    "combine['PAY_4'] = combine['PAY_4'].replace(8, \"Delay_8\")\n",
    "combine['PAY_4'] = combine['PAY_4'].replace(6, \"Delay_6\")\n",
    "combine['PAY_4'] = combine['PAY_4'].replace(7, \"Delay_7\")\n",
    "combine['PAY_4'].value_counts()"
   ]
  },
  {
   "cell_type": "code",
   "execution_count": 24,
   "metadata": {},
   "outputs": [
    {
     "data": {
      "text/plain": [
       " 0    16947\n",
       "-1     5539\n",
       "-2     4546\n",
       " 2     2626\n",
       " 3      178\n",
       " 4       84\n",
       " 7       58\n",
       " 5       17\n",
       " 6        4\n",
       " 8        1\n",
       "Name: PAY_5, dtype: int64"
      ]
     },
     "execution_count": 24,
     "metadata": {},
     "output_type": "execute_result"
    }
   ],
   "source": [
    "combine['PAY_5'].value_counts()"
   ]
  },
  {
   "cell_type": "code",
   "execution_count": 25,
   "metadata": {},
   "outputs": [
    {
     "data": {
      "text/plain": [
       "Paid_On_Time    16947\n",
       "Duly_1           5539\n",
       "Duly_2           4546\n",
       "Delay_2          2626\n",
       "Delay_3           178\n",
       "Delay_4            84\n",
       "Delay_7            58\n",
       "Delay_5            17\n",
       "Delay_6             4\n",
       "Delay_8             1\n",
       "Name: PAY_5, dtype: int64"
      ]
     },
     "execution_count": 25,
     "metadata": {},
     "output_type": "execute_result"
    }
   ],
   "source": [
    "combine['PAY_5'] = combine['PAY_5'].replace(0, \"Paid_On_Time\")\n",
    "combine['PAY_5'] = combine['PAY_5'].replace(-1, \"Duly_1\")\n",
    "combine['PAY_5'] = combine['PAY_5'].replace(1, \"Delay_1\")\n",
    "combine['PAY_5'] = combine['PAY_5'].replace(-2, \"Duly_2\")\n",
    "combine['PAY_5'] = combine['PAY_5'].replace(2, \"Delay_2\")\n",
    "combine['PAY_5'] = combine['PAY_5'].replace(3, \"Delay_3\")\n",
    "combine['PAY_5'] = combine['PAY_5'].replace(4, \"Delay_4\")\n",
    "combine['PAY_5'] = combine['PAY_5'].replace(5, \"Delay_5\")\n",
    "combine['PAY_5'] = combine['PAY_5'].replace(8, \"Delay_8\")\n",
    "combine['PAY_5'] = combine['PAY_5'].replace(6, \"Delay_6\")\n",
    "combine['PAY_5'] = combine['PAY_5'].replace(7, \"Delay_7\")\n",
    "combine['PAY_5'].value_counts()"
   ]
  },
  {
   "cell_type": "code",
   "execution_count": 26,
   "metadata": {},
   "outputs": [
    {
     "data": {
      "text/plain": [
       " 0    16286\n",
       "-1     5740\n",
       "-2     4895\n",
       " 2     2766\n",
       " 3      184\n",
       " 4       49\n",
       " 7       46\n",
       " 6       19\n",
       " 5       13\n",
       " 8        2\n",
       "Name: PAY_6, dtype: int64"
      ]
     },
     "execution_count": 26,
     "metadata": {},
     "output_type": "execute_result"
    }
   ],
   "source": [
    "combine['PAY_6'].value_counts()"
   ]
  },
  {
   "cell_type": "code",
   "execution_count": 27,
   "metadata": {},
   "outputs": [
    {
     "data": {
      "text/plain": [
       "Paid_On_Time    16286\n",
       "Duly_1           5740\n",
       "Duly_2           4895\n",
       "Delay_2          2766\n",
       "Delay_3           184\n",
       "Delay_4            49\n",
       "Delay_7            46\n",
       "Delay_6            19\n",
       "Delay_5            13\n",
       "Delay_8             2\n",
       "Name: PAY_6, dtype: int64"
      ]
     },
     "execution_count": 27,
     "metadata": {},
     "output_type": "execute_result"
    }
   ],
   "source": [
    "combine['PAY_6'] = combine['PAY_6'].replace(0, \"Paid_On_Time\")\n",
    "combine['PAY_6'] = combine['PAY_6'].replace(-1, \"Duly_1\")\n",
    "combine['PAY_6'] = combine['PAY_6'].replace(1, \"Delay_1\")\n",
    "combine['PAY_6'] = combine['PAY_6'].replace(-2, \"Duly_2\")\n",
    "combine['PAY_6'] = combine['PAY_6'].replace(2, \"Delay_2\")\n",
    "combine['PAY_6'] = combine['PAY_6'].replace(3, \"Delay_3\")\n",
    "combine['PAY_6'] = combine['PAY_6'].replace(4, \"Delay_4\")\n",
    "combine['PAY_6'] = combine['PAY_6'].replace(5, \"Delay_5\")\n",
    "combine['PAY_6'] = combine['PAY_6'].replace(8, \"Delay_8\")\n",
    "combine['PAY_6'] = combine['PAY_6'].replace(6, \"Delay_6\")\n",
    "combine['PAY_6'] = combine['PAY_6'].replace(7, \"Delay_7\")\n",
    "combine['PAY_6'].value_counts()"
   ]
  },
  {
   "cell_type": "code",
   "execution_count": 28,
   "metadata": {},
   "outputs": [
    {
     "data": {
      "text/html": [
       "<div>\n",
       "<style scoped>\n",
       "    .dataframe tbody tr th:only-of-type {\n",
       "        vertical-align: middle;\n",
       "    }\n",
       "\n",
       "    .dataframe tbody tr th {\n",
       "        vertical-align: top;\n",
       "    }\n",
       "\n",
       "    .dataframe thead th {\n",
       "        text-align: right;\n",
       "    }\n",
       "</style>\n",
       "<table border=\"1\" class=\"dataframe\">\n",
       "  <thead>\n",
       "    <tr style=\"text-align: right;\">\n",
       "      <th></th>\n",
       "      <th>BILL_AMT1</th>\n",
       "      <th>BILL_AMT2</th>\n",
       "      <th>BILL_AMT3</th>\n",
       "      <th>BILL_AMT4</th>\n",
       "      <th>BILL_AMT5</th>\n",
       "      <th>BILL_AMT6</th>\n",
       "    </tr>\n",
       "  </thead>\n",
       "  <tbody>\n",
       "    <tr>\n",
       "      <th>count</th>\n",
       "      <td>30000.000000</td>\n",
       "      <td>30000.000000</td>\n",
       "      <td>3.000000e+04</td>\n",
       "      <td>30000.000000</td>\n",
       "      <td>30000.000000</td>\n",
       "      <td>30000.000000</td>\n",
       "    </tr>\n",
       "    <tr>\n",
       "      <th>mean</th>\n",
       "      <td>51223.330900</td>\n",
       "      <td>49179.075167</td>\n",
       "      <td>4.701315e+04</td>\n",
       "      <td>43262.948967</td>\n",
       "      <td>40311.400967</td>\n",
       "      <td>38871.760400</td>\n",
       "    </tr>\n",
       "    <tr>\n",
       "      <th>std</th>\n",
       "      <td>73635.860576</td>\n",
       "      <td>71173.768783</td>\n",
       "      <td>6.934939e+04</td>\n",
       "      <td>64332.856134</td>\n",
       "      <td>60797.155770</td>\n",
       "      <td>59554.107537</td>\n",
       "    </tr>\n",
       "    <tr>\n",
       "      <th>min</th>\n",
       "      <td>-165580.000000</td>\n",
       "      <td>-69777.000000</td>\n",
       "      <td>-1.572640e+05</td>\n",
       "      <td>-170000.000000</td>\n",
       "      <td>-81334.000000</td>\n",
       "      <td>-339603.000000</td>\n",
       "    </tr>\n",
       "    <tr>\n",
       "      <th>25%</th>\n",
       "      <td>3558.750000</td>\n",
       "      <td>2984.750000</td>\n",
       "      <td>2.666250e+03</td>\n",
       "      <td>2326.750000</td>\n",
       "      <td>1763.000000</td>\n",
       "      <td>1256.000000</td>\n",
       "    </tr>\n",
       "    <tr>\n",
       "      <th>50%</th>\n",
       "      <td>22381.500000</td>\n",
       "      <td>21200.000000</td>\n",
       "      <td>2.008850e+04</td>\n",
       "      <td>19052.000000</td>\n",
       "      <td>18104.500000</td>\n",
       "      <td>17071.000000</td>\n",
       "    </tr>\n",
       "    <tr>\n",
       "      <th>75%</th>\n",
       "      <td>67091.000000</td>\n",
       "      <td>64006.250000</td>\n",
       "      <td>6.016475e+04</td>\n",
       "      <td>54506.000000</td>\n",
       "      <td>50190.500000</td>\n",
       "      <td>49198.250000</td>\n",
       "    </tr>\n",
       "    <tr>\n",
       "      <th>max</th>\n",
       "      <td>964511.000000</td>\n",
       "      <td>983931.000000</td>\n",
       "      <td>1.664089e+06</td>\n",
       "      <td>891586.000000</td>\n",
       "      <td>927171.000000</td>\n",
       "      <td>961664.000000</td>\n",
       "    </tr>\n",
       "  </tbody>\n",
       "</table>\n",
       "</div>"
      ],
      "text/plain": [
       "           BILL_AMT1      BILL_AMT2     BILL_AMT3      BILL_AMT4  \\\n",
       "count   30000.000000   30000.000000  3.000000e+04   30000.000000   \n",
       "mean    51223.330900   49179.075167  4.701315e+04   43262.948967   \n",
       "std     73635.860576   71173.768783  6.934939e+04   64332.856134   \n",
       "min   -165580.000000  -69777.000000 -1.572640e+05 -170000.000000   \n",
       "25%      3558.750000    2984.750000  2.666250e+03    2326.750000   \n",
       "50%     22381.500000   21200.000000  2.008850e+04   19052.000000   \n",
       "75%     67091.000000   64006.250000  6.016475e+04   54506.000000   \n",
       "max    964511.000000  983931.000000  1.664089e+06  891586.000000   \n",
       "\n",
       "           BILL_AMT5      BILL_AMT6  \n",
       "count   30000.000000   30000.000000  \n",
       "mean    40311.400967   38871.760400  \n",
       "std     60797.155770   59554.107537  \n",
       "min    -81334.000000 -339603.000000  \n",
       "25%      1763.000000    1256.000000  \n",
       "50%     18104.500000   17071.000000  \n",
       "75%     50190.500000   49198.250000  \n",
       "max    927171.000000  961664.000000  "
      ]
     },
     "execution_count": 28,
     "metadata": {},
     "output_type": "execute_result"
    }
   ],
   "source": [
    "bill_amount = ['BILL_AMT1','BILL_AMT2','BILL_AMT3','BILL_AMT4','BILL_AMT5','BILL_AMT6']\n",
    "combine[bill_amount].describe()"
   ]
  },
  {
   "cell_type": "code",
   "execution_count": 29,
   "metadata": {},
   "outputs": [
    {
     "data": {
      "text/html": [
       "<div>\n",
       "<style scoped>\n",
       "    .dataframe tbody tr th:only-of-type {\n",
       "        vertical-align: middle;\n",
       "    }\n",
       "\n",
       "    .dataframe tbody tr th {\n",
       "        vertical-align: top;\n",
       "    }\n",
       "\n",
       "    .dataframe thead th {\n",
       "        text-align: right;\n",
       "    }\n",
       "</style>\n",
       "<table border=\"1\" class=\"dataframe\">\n",
       "  <thead>\n",
       "    <tr style=\"text-align: right;\">\n",
       "      <th></th>\n",
       "      <th>BILL_AMT1</th>\n",
       "      <th>BILL_AMT2</th>\n",
       "      <th>BILL_AMT3</th>\n",
       "      <th>BILL_AMT4</th>\n",
       "      <th>BILL_AMT5</th>\n",
       "      <th>BILL_AMT6</th>\n",
       "    </tr>\n",
       "  </thead>\n",
       "  <tbody>\n",
       "    <tr>\n",
       "      <th>count</th>\n",
       "      <td>3.000000e+04</td>\n",
       "      <td>3.000000e+04</td>\n",
       "      <td>3.000000e+04</td>\n",
       "      <td>3.000000e+04</td>\n",
       "      <td>3.000000e+04</td>\n",
       "      <td>3.000000e+04</td>\n",
       "    </tr>\n",
       "    <tr>\n",
       "      <th>mean</th>\n",
       "      <td>-3.769308e-17</td>\n",
       "      <td>4.823283e-17</td>\n",
       "      <td>3.031385e-16</td>\n",
       "      <td>-5.507724e-17</td>\n",
       "      <td>9.425377e-17</td>\n",
       "      <td>-8.530075e-17</td>\n",
       "    </tr>\n",
       "    <tr>\n",
       "      <th>std</th>\n",
       "      <td>1.000017e+00</td>\n",
       "      <td>1.000017e+00</td>\n",
       "      <td>1.000017e+00</td>\n",
       "      <td>1.000017e+00</td>\n",
       "      <td>1.000017e+00</td>\n",
       "      <td>1.000017e+00</td>\n",
       "    </tr>\n",
       "    <tr>\n",
       "      <th>min</th>\n",
       "      <td>-2.944312e+00</td>\n",
       "      <td>-1.671375e+00</td>\n",
       "      <td>-2.945672e+00</td>\n",
       "      <td>-3.315048e+00</td>\n",
       "      <td>-2.000874e+00</td>\n",
       "      <td>-6.355247e+00</td>\n",
       "    </tr>\n",
       "    <tr>\n",
       "      <th>25%</th>\n",
       "      <td>-6.473120e-01</td>\n",
       "      <td>-6.490466e-01</td>\n",
       "      <td>-6.394814e-01</td>\n",
       "      <td>-6.363293e-01</td>\n",
       "      <td>-6.340600e-01</td>\n",
       "      <td>-6.316338e-01</td>\n",
       "    </tr>\n",
       "    <tr>\n",
       "      <th>50%</th>\n",
       "      <td>-3.916884e-01</td>\n",
       "      <td>-3.931159e-01</td>\n",
       "      <td>-3.882529e-01</td>\n",
       "      <td>-3.763451e-01</td>\n",
       "      <td>-3.652683e-01</td>\n",
       "      <td>-3.660725e-01</td>\n",
       "    </tr>\n",
       "    <tr>\n",
       "      <th>75%</th>\n",
       "      <td>2.154919e-01</td>\n",
       "      <td>2.083271e-01</td>\n",
       "      <td>1.896457e-01</td>\n",
       "      <td>1.747667e-01</td>\n",
       "      <td>1.624955e-01</td>\n",
       "      <td>1.733997e-01</td>\n",
       "    </tr>\n",
       "    <tr>\n",
       "      <th>max</th>\n",
       "      <td>1.240296e+01</td>\n",
       "      <td>1.313360e+01</td>\n",
       "      <td>2.331820e+01</td>\n",
       "      <td>1.318669e+01</td>\n",
       "      <td>1.458743e+01</td>\n",
       "      <td>1.549528e+01</td>\n",
       "    </tr>\n",
       "  </tbody>\n",
       "</table>\n",
       "</div>"
      ],
      "text/plain": [
       "          BILL_AMT1     BILL_AMT2     BILL_AMT3     BILL_AMT4     BILL_AMT5  \\\n",
       "count  3.000000e+04  3.000000e+04  3.000000e+04  3.000000e+04  3.000000e+04   \n",
       "mean  -3.769308e-17  4.823283e-17  3.031385e-16 -5.507724e-17  9.425377e-17   \n",
       "std    1.000017e+00  1.000017e+00  1.000017e+00  1.000017e+00  1.000017e+00   \n",
       "min   -2.944312e+00 -1.671375e+00 -2.945672e+00 -3.315048e+00 -2.000874e+00   \n",
       "25%   -6.473120e-01 -6.490466e-01 -6.394814e-01 -6.363293e-01 -6.340600e-01   \n",
       "50%   -3.916884e-01 -3.931159e-01 -3.882529e-01 -3.763451e-01 -3.652683e-01   \n",
       "75%    2.154919e-01  2.083271e-01  1.896457e-01  1.747667e-01  1.624955e-01   \n",
       "max    1.240296e+01  1.313360e+01  2.331820e+01  1.318669e+01  1.458743e+01   \n",
       "\n",
       "          BILL_AMT6  \n",
       "count  3.000000e+04  \n",
       "mean  -8.530075e-17  \n",
       "std    1.000017e+00  \n",
       "min   -6.355247e+00  \n",
       "25%   -6.316338e-01  \n",
       "50%   -3.660725e-01  \n",
       "75%    1.733997e-01  \n",
       "max    1.549528e+01  "
      ]
     },
     "execution_count": 29,
     "metadata": {},
     "output_type": "execute_result"
    }
   ],
   "source": [
    "from sklearn.preprocessing import StandardScaler\n",
    "scaler = StandardScaler()\n",
    "\n",
    "combine[bill_amount] = scaler.fit_transform(combine[bill_amount])\n",
    "combine[bill_amount].describe()"
   ]
  },
  {
   "cell_type": "code",
   "execution_count": 30,
   "metadata": {},
   "outputs": [
    {
     "data": {
      "text/html": [
       "<div>\n",
       "<style scoped>\n",
       "    .dataframe tbody tr th:only-of-type {\n",
       "        vertical-align: middle;\n",
       "    }\n",
       "\n",
       "    .dataframe tbody tr th {\n",
       "        vertical-align: top;\n",
       "    }\n",
       "\n",
       "    .dataframe thead th {\n",
       "        text-align: right;\n",
       "    }\n",
       "</style>\n",
       "<table border=\"1\" class=\"dataframe\">\n",
       "  <thead>\n",
       "    <tr style=\"text-align: right;\">\n",
       "      <th></th>\n",
       "      <th>PAY_AMT1</th>\n",
       "      <th>PAY_AMT2</th>\n",
       "      <th>PAY_AMT3</th>\n",
       "      <th>PAY_AMT4</th>\n",
       "      <th>PAY_AMT5</th>\n",
       "      <th>PAY_AMT6</th>\n",
       "    </tr>\n",
       "  </thead>\n",
       "  <tbody>\n",
       "    <tr>\n",
       "      <th>count</th>\n",
       "      <td>30000.000000</td>\n",
       "      <td>3.000000e+04</td>\n",
       "      <td>30000.00000</td>\n",
       "      <td>30000.000000</td>\n",
       "      <td>30000.000000</td>\n",
       "      <td>30000.000000</td>\n",
       "    </tr>\n",
       "    <tr>\n",
       "      <th>mean</th>\n",
       "      <td>5663.580500</td>\n",
       "      <td>5.921163e+03</td>\n",
       "      <td>5225.68150</td>\n",
       "      <td>4826.076867</td>\n",
       "      <td>4799.387633</td>\n",
       "      <td>5215.502567</td>\n",
       "    </tr>\n",
       "    <tr>\n",
       "      <th>std</th>\n",
       "      <td>16563.280354</td>\n",
       "      <td>2.304087e+04</td>\n",
       "      <td>17606.96147</td>\n",
       "      <td>15666.159744</td>\n",
       "      <td>15278.305679</td>\n",
       "      <td>17777.465775</td>\n",
       "    </tr>\n",
       "    <tr>\n",
       "      <th>min</th>\n",
       "      <td>0.000000</td>\n",
       "      <td>0.000000e+00</td>\n",
       "      <td>0.00000</td>\n",
       "      <td>0.000000</td>\n",
       "      <td>0.000000</td>\n",
       "      <td>0.000000</td>\n",
       "    </tr>\n",
       "    <tr>\n",
       "      <th>25%</th>\n",
       "      <td>1000.000000</td>\n",
       "      <td>8.330000e+02</td>\n",
       "      <td>390.00000</td>\n",
       "      <td>296.000000</td>\n",
       "      <td>252.500000</td>\n",
       "      <td>117.750000</td>\n",
       "    </tr>\n",
       "    <tr>\n",
       "      <th>50%</th>\n",
       "      <td>2100.000000</td>\n",
       "      <td>2.009000e+03</td>\n",
       "      <td>1800.00000</td>\n",
       "      <td>1500.000000</td>\n",
       "      <td>1500.000000</td>\n",
       "      <td>1500.000000</td>\n",
       "    </tr>\n",
       "    <tr>\n",
       "      <th>75%</th>\n",
       "      <td>5006.000000</td>\n",
       "      <td>5.000000e+03</td>\n",
       "      <td>4505.00000</td>\n",
       "      <td>4013.250000</td>\n",
       "      <td>4031.500000</td>\n",
       "      <td>4000.000000</td>\n",
       "    </tr>\n",
       "    <tr>\n",
       "      <th>max</th>\n",
       "      <td>873552.000000</td>\n",
       "      <td>1.684259e+06</td>\n",
       "      <td>896040.00000</td>\n",
       "      <td>621000.000000</td>\n",
       "      <td>426529.000000</td>\n",
       "      <td>528666.000000</td>\n",
       "    </tr>\n",
       "  </tbody>\n",
       "</table>\n",
       "</div>"
      ],
      "text/plain": [
       "            PAY_AMT1      PAY_AMT2      PAY_AMT3       PAY_AMT4  \\\n",
       "count   30000.000000  3.000000e+04   30000.00000   30000.000000   \n",
       "mean     5663.580500  5.921163e+03    5225.68150    4826.076867   \n",
       "std     16563.280354  2.304087e+04   17606.96147   15666.159744   \n",
       "min         0.000000  0.000000e+00       0.00000       0.000000   \n",
       "25%      1000.000000  8.330000e+02     390.00000     296.000000   \n",
       "50%      2100.000000  2.009000e+03    1800.00000    1500.000000   \n",
       "75%      5006.000000  5.000000e+03    4505.00000    4013.250000   \n",
       "max    873552.000000  1.684259e+06  896040.00000  621000.000000   \n",
       "\n",
       "            PAY_AMT5       PAY_AMT6  \n",
       "count   30000.000000   30000.000000  \n",
       "mean     4799.387633    5215.502567  \n",
       "std     15278.305679   17777.465775  \n",
       "min         0.000000       0.000000  \n",
       "25%       252.500000     117.750000  \n",
       "50%      1500.000000    1500.000000  \n",
       "75%      4031.500000    4000.000000  \n",
       "max    426529.000000  528666.000000  "
      ]
     },
     "execution_count": 30,
     "metadata": {},
     "output_type": "execute_result"
    }
   ],
   "source": [
    "pay_amount = ['PAY_AMT1','PAY_AMT2','PAY_AMT3','PAY_AMT4','PAY_AMT5','PAY_AMT6']\n",
    "combine[pay_amount].describe()"
   ]
  },
  {
   "cell_type": "code",
   "execution_count": 31,
   "metadata": {},
   "outputs": [
    {
     "data": {
      "text/html": [
       "<div>\n",
       "<style scoped>\n",
       "    .dataframe tbody tr th:only-of-type {\n",
       "        vertical-align: middle;\n",
       "    }\n",
       "\n",
       "    .dataframe tbody tr th {\n",
       "        vertical-align: top;\n",
       "    }\n",
       "\n",
       "    .dataframe thead th {\n",
       "        text-align: right;\n",
       "    }\n",
       "</style>\n",
       "<table border=\"1\" class=\"dataframe\">\n",
       "  <thead>\n",
       "    <tr style=\"text-align: right;\">\n",
       "      <th></th>\n",
       "      <th>PAY_AMT1</th>\n",
       "      <th>PAY_AMT2</th>\n",
       "      <th>PAY_AMT3</th>\n",
       "      <th>PAY_AMT4</th>\n",
       "      <th>PAY_AMT5</th>\n",
       "      <th>PAY_AMT6</th>\n",
       "    </tr>\n",
       "  </thead>\n",
       "  <tbody>\n",
       "    <tr>\n",
       "      <th>count</th>\n",
       "      <td>3.000000e+04</td>\n",
       "      <td>3.000000e+04</td>\n",
       "      <td>3.000000e+04</td>\n",
       "      <td>3.000000e+04</td>\n",
       "      <td>3.000000e+04</td>\n",
       "      <td>3.000000e+04</td>\n",
       "    </tr>\n",
       "    <tr>\n",
       "      <th>mean</th>\n",
       "      <td>1.991703e-16</td>\n",
       "      <td>2.423339e-17</td>\n",
       "      <td>-1.795564e-16</td>\n",
       "      <td>3.956456e-16</td>\n",
       "      <td>-2.057040e-16</td>\n",
       "      <td>-1.101762e-16</td>\n",
       "    </tr>\n",
       "    <tr>\n",
       "      <th>std</th>\n",
       "      <td>1.000017e+00</td>\n",
       "      <td>1.000017e+00</td>\n",
       "      <td>1.000017e+00</td>\n",
       "      <td>1.000017e+00</td>\n",
       "      <td>1.000017e+00</td>\n",
       "      <td>1.000017e+00</td>\n",
       "    </tr>\n",
       "    <tr>\n",
       "      <th>min</th>\n",
       "      <td>-3.419416e-01</td>\n",
       "      <td>-2.569895e-01</td>\n",
       "      <td>-2.968013e-01</td>\n",
       "      <td>-3.080626e-01</td>\n",
       "      <td>-3.141361e-01</td>\n",
       "      <td>-2.933821e-01</td>\n",
       "    </tr>\n",
       "    <tr>\n",
       "      <th>25%</th>\n",
       "      <td>-2.815661e-01</td>\n",
       "      <td>-2.208358e-01</td>\n",
       "      <td>-2.746506e-01</td>\n",
       "      <td>-2.891680e-01</td>\n",
       "      <td>-2.976091e-01</td>\n",
       "      <td>-2.867584e-01</td>\n",
       "    </tr>\n",
       "    <tr>\n",
       "      <th>50%</th>\n",
       "      <td>-2.151530e-01</td>\n",
       "      <td>-1.697952e-01</td>\n",
       "      <td>-1.945673e-01</td>\n",
       "      <td>-2.123132e-01</td>\n",
       "      <td>-2.159561e-01</td>\n",
       "      <td>-2.090042e-01</td>\n",
       "    </tr>\n",
       "    <tr>\n",
       "      <th>75%</th>\n",
       "      <td>-3.970176e-02</td>\n",
       "      <td>-3.998021e-02</td>\n",
       "      <td>-4.093230e-02</td>\n",
       "      <td>-5.188511e-02</td>\n",
       "      <td>-5.026084e-02</td>\n",
       "      <td>-6.837436e-02</td>\n",
       "    </tr>\n",
       "    <tr>\n",
       "      <th>max</th>\n",
       "      <td>5.239921e+01</td>\n",
       "      <td>7.284299e+01</td>\n",
       "      <td>5.059528e+01</td>\n",
       "      <td>3.933218e+01</td>\n",
       "      <td>2.760363e+01</td>\n",
       "      <td>2.944510e+01</td>\n",
       "    </tr>\n",
       "  </tbody>\n",
       "</table>\n",
       "</div>"
      ],
      "text/plain": [
       "           PAY_AMT1      PAY_AMT2      PAY_AMT3      PAY_AMT4      PAY_AMT5  \\\n",
       "count  3.000000e+04  3.000000e+04  3.000000e+04  3.000000e+04  3.000000e+04   \n",
       "mean   1.991703e-16  2.423339e-17 -1.795564e-16  3.956456e-16 -2.057040e-16   \n",
       "std    1.000017e+00  1.000017e+00  1.000017e+00  1.000017e+00  1.000017e+00   \n",
       "min   -3.419416e-01 -2.569895e-01 -2.968013e-01 -3.080626e-01 -3.141361e-01   \n",
       "25%   -2.815661e-01 -2.208358e-01 -2.746506e-01 -2.891680e-01 -2.976091e-01   \n",
       "50%   -2.151530e-01 -1.697952e-01 -1.945673e-01 -2.123132e-01 -2.159561e-01   \n",
       "75%   -3.970176e-02 -3.998021e-02 -4.093230e-02 -5.188511e-02 -5.026084e-02   \n",
       "max    5.239921e+01  7.284299e+01  5.059528e+01  3.933218e+01  2.760363e+01   \n",
       "\n",
       "           PAY_AMT6  \n",
       "count  3.000000e+04  \n",
       "mean  -1.101762e-16  \n",
       "std    1.000017e+00  \n",
       "min   -2.933821e-01  \n",
       "25%   -2.867584e-01  \n",
       "50%   -2.090042e-01  \n",
       "75%   -6.837436e-02  \n",
       "max    2.944510e+01  "
      ]
     },
     "execution_count": 31,
     "metadata": {},
     "output_type": "execute_result"
    }
   ],
   "source": [
    "combine[pay_amount] = scaler.fit_transform(combine[pay_amount])\n",
    "combine[pay_amount].describe()"
   ]
  },
  {
   "cell_type": "code",
   "execution_count": 32,
   "metadata": {},
   "outputs": [
    {
     "data": {
      "text/html": [
       "<div>\n",
       "<style scoped>\n",
       "    .dataframe tbody tr th:only-of-type {\n",
       "        vertical-align: middle;\n",
       "    }\n",
       "\n",
       "    .dataframe tbody tr th {\n",
       "        vertical-align: top;\n",
       "    }\n",
       "\n",
       "    .dataframe thead th {\n",
       "        text-align: right;\n",
       "    }\n",
       "</style>\n",
       "<table border=\"1\" class=\"dataframe\">\n",
       "  <thead>\n",
       "    <tr style=\"text-align: right;\">\n",
       "      <th></th>\n",
       "      <th>AGE</th>\n",
       "      <th>BILL_AMT1</th>\n",
       "      <th>BILL_AMT2</th>\n",
       "      <th>BILL_AMT3</th>\n",
       "      <th>BILL_AMT4</th>\n",
       "      <th>BILL_AMT5</th>\n",
       "      <th>BILL_AMT6</th>\n",
       "      <th>EDUCATION</th>\n",
       "      <th>ID</th>\n",
       "      <th>LIMIT_BAL</th>\n",
       "      <th>...</th>\n",
       "      <th>PAY_5</th>\n",
       "      <th>PAY_6</th>\n",
       "      <th>PAY_AMT1</th>\n",
       "      <th>PAY_AMT2</th>\n",
       "      <th>PAY_AMT3</th>\n",
       "      <th>PAY_AMT4</th>\n",
       "      <th>PAY_AMT5</th>\n",
       "      <th>PAY_AMT6</th>\n",
       "      <th>SEX</th>\n",
       "      <th>default_payment_next_month</th>\n",
       "    </tr>\n",
       "  </thead>\n",
       "  <tbody>\n",
       "    <tr>\n",
       "      <th>0</th>\n",
       "      <td>Age_Tier1</td>\n",
       "      <td>-0.411102</td>\n",
       "      <td>-0.514089</td>\n",
       "      <td>-0.627762</td>\n",
       "      <td>-0.619102</td>\n",
       "      <td>-0.517161</td>\n",
       "      <td>-0.618805</td>\n",
       "      <td>University</td>\n",
       "      <td>25150</td>\n",
       "      <td>12.793859</td>\n",
       "      <td>...</td>\n",
       "      <td>Duly_1</td>\n",
       "      <td>Duly_1</td>\n",
       "      <td>0.418186</td>\n",
       "      <td>-0.105994</td>\n",
       "      <td>-0.101080</td>\n",
       "      <td>0.258135</td>\n",
       "      <td>-0.181920</td>\n",
       "      <td>1.227839</td>\n",
       "      <td>Female</td>\n",
       "      <td>0.0</td>\n",
       "    </tr>\n",
       "    <tr>\n",
       "      <th>1</th>\n",
       "      <td>Age_Tier3</td>\n",
       "      <td>-0.689449</td>\n",
       "      <td>-0.690983</td>\n",
       "      <td>-0.677929</td>\n",
       "      <td>-0.637678</td>\n",
       "      <td>-0.635409</td>\n",
       "      <td>-0.614657</td>\n",
       "      <td>Graduate_School</td>\n",
       "      <td>13470</td>\n",
       "      <td>12.388394</td>\n",
       "      <td>...</td>\n",
       "      <td>Paid_On_Time</td>\n",
       "      <td>Duly_1</td>\n",
       "      <td>-0.341942</td>\n",
       "      <td>-0.256990</td>\n",
       "      <td>-0.169577</td>\n",
       "      <td>-0.308063</td>\n",
       "      <td>-0.165753</td>\n",
       "      <td>-0.120464</td>\n",
       "      <td>Female</td>\n",
       "      <td>0.0</td>\n",
       "    </tr>\n",
       "    <tr>\n",
       "      <th>2</th>\n",
       "      <td>Age_Tier3</td>\n",
       "      <td>-0.018705</td>\n",
       "      <td>0.065080</td>\n",
       "      <td>-0.119630</td>\n",
       "      <td>-0.122085</td>\n",
       "      <td>-0.086772</td>\n",
       "      <td>-0.049246</td>\n",
       "      <td>University</td>\n",
       "      <td>3092</td>\n",
       "      <td>12.676076</td>\n",
       "      <td>...</td>\n",
       "      <td>Paid_On_Time</td>\n",
       "      <td>Paid_On_Time</td>\n",
       "      <td>-0.040064</td>\n",
       "      <td>-0.170186</td>\n",
       "      <td>-0.183208</td>\n",
       "      <td>-0.116564</td>\n",
       "      <td>-0.117776</td>\n",
       "      <td>-0.209004</td>\n",
       "      <td>Female</td>\n",
       "      <td>0.0</td>\n",
       "    </tr>\n",
       "    <tr>\n",
       "      <th>3</th>\n",
       "      <td>Age_Tier1</td>\n",
       "      <td>-0.659314</td>\n",
       "      <td>-0.690983</td>\n",
       "      <td>-0.677929</td>\n",
       "      <td>-0.672497</td>\n",
       "      <td>-0.663059</td>\n",
       "      <td>-0.652724</td>\n",
       "      <td>University</td>\n",
       "      <td>13973</td>\n",
       "      <td>10.819778</td>\n",
       "      <td>...</td>\n",
       "      <td>Duly_2</td>\n",
       "      <td>Duly_2</td>\n",
       "      <td>-0.341942</td>\n",
       "      <td>-0.256990</td>\n",
       "      <td>-0.296801</td>\n",
       "      <td>-0.308063</td>\n",
       "      <td>-0.314136</td>\n",
       "      <td>-0.293382</td>\n",
       "      <td>Female</td>\n",
       "      <td>1.0</td>\n",
       "    </tr>\n",
       "    <tr>\n",
       "      <th>4</th>\n",
       "      <td>Age_Tier4</td>\n",
       "      <td>-0.208629</td>\n",
       "      <td>-0.430757</td>\n",
       "      <td>-0.398397</td>\n",
       "      <td>-0.352889</td>\n",
       "      <td>-0.313349</td>\n",
       "      <td>-0.292424</td>\n",
       "      <td>High_School</td>\n",
       "      <td>10567</td>\n",
       "      <td>11.289782</td>\n",
       "      <td>...</td>\n",
       "      <td>Paid_On_Time</td>\n",
       "      <td>Paid_On_Time</td>\n",
       "      <td>-0.251378</td>\n",
       "      <td>-0.191887</td>\n",
       "      <td>-0.211606</td>\n",
       "      <td>-0.242442</td>\n",
       "      <td>-0.256799</td>\n",
       "      <td>-0.211873</td>\n",
       "      <td>Male</td>\n",
       "      <td>0.0</td>\n",
       "    </tr>\n",
       "  </tbody>\n",
       "</table>\n",
       "<p>5 rows × 25 columns</p>\n",
       "</div>"
      ],
      "text/plain": [
       "         AGE  BILL_AMT1  BILL_AMT2  BILL_AMT3  BILL_AMT4  BILL_AMT5  \\\n",
       "0  Age_Tier1  -0.411102  -0.514089  -0.627762  -0.619102  -0.517161   \n",
       "1  Age_Tier3  -0.689449  -0.690983  -0.677929  -0.637678  -0.635409   \n",
       "2  Age_Tier3  -0.018705   0.065080  -0.119630  -0.122085  -0.086772   \n",
       "3  Age_Tier1  -0.659314  -0.690983  -0.677929  -0.672497  -0.663059   \n",
       "4  Age_Tier4  -0.208629  -0.430757  -0.398397  -0.352889  -0.313349   \n",
       "\n",
       "   BILL_AMT6        EDUCATION     ID  LIMIT_BAL  ...         PAY_5  \\\n",
       "0  -0.618805       University  25150  12.793859  ...        Duly_1   \n",
       "1  -0.614657  Graduate_School  13470  12.388394  ...  Paid_On_Time   \n",
       "2  -0.049246       University   3092  12.676076  ...  Paid_On_Time   \n",
       "3  -0.652724       University  13973  10.819778  ...        Duly_2   \n",
       "4  -0.292424      High_School  10567  11.289782  ...  Paid_On_Time   \n",
       "\n",
       "          PAY_6  PAY_AMT1  PAY_AMT2  PAY_AMT3  PAY_AMT4  PAY_AMT5  PAY_AMT6  \\\n",
       "0        Duly_1  0.418186 -0.105994 -0.101080  0.258135 -0.181920  1.227839   \n",
       "1        Duly_1 -0.341942 -0.256990 -0.169577 -0.308063 -0.165753 -0.120464   \n",
       "2  Paid_On_Time -0.040064 -0.170186 -0.183208 -0.116564 -0.117776 -0.209004   \n",
       "3        Duly_2 -0.341942 -0.256990 -0.296801 -0.308063 -0.314136 -0.293382   \n",
       "4  Paid_On_Time -0.251378 -0.191887 -0.211606 -0.242442 -0.256799 -0.211873   \n",
       "\n",
       "      SEX  default_payment_next_month  \n",
       "0  Female                         0.0  \n",
       "1  Female                         0.0  \n",
       "2  Female                         0.0  \n",
       "3  Female                         1.0  \n",
       "4    Male                         0.0  \n",
       "\n",
       "[5 rows x 25 columns]"
      ]
     },
     "execution_count": 32,
     "metadata": {},
     "output_type": "execute_result"
    }
   ],
   "source": [
    "combine.head()"
   ]
  },
  {
   "cell_type": "code",
   "execution_count": 33,
   "metadata": {},
   "outputs": [
    {
     "data": {
      "text/plain": [
       "(30000, 95)"
      ]
     },
     "execution_count": 33,
     "metadata": {},
     "output_type": "execute_result"
    }
   ],
   "source": [
    "combine = pd.get_dummies(combine)\n",
    "combine.shape"
   ]
  },
  {
   "cell_type": "code",
   "execution_count": 34,
   "metadata": {},
   "outputs": [
    {
     "data": {
      "text/plain": [
       "((21000, 93), (21000,), (9000, 93))"
      ]
     },
     "execution_count": 34,
     "metadata": {},
     "output_type": "execute_result"
    }
   ],
   "source": [
    "X = combine[combine['default_payment_next_month'].isnull()!=True].drop(['ID','default_payment_next_month'], axis=1)\n",
    "y = combine[combine['default_payment_next_month'].isnull()!=True]['default_payment_next_month']\n",
    "\n",
    "X_test = combine[combine['default_payment_next_month'].isnull()==True].drop(['ID','default_payment_next_month'], axis=1)\n",
    "\n",
    "X.shape, y.shape, X_test.shape"
   ]
  },
  {
   "cell_type": "code",
   "execution_count": 35,
   "metadata": {},
   "outputs": [],
   "source": [
    "from sklearn.model_selection import train_test_split\n",
    "x_train, x_val, y_train, y_val = train_test_split(X, y, test_size=0.2)"
   ]
  },
  {
   "cell_type": "code",
   "execution_count": 36,
   "metadata": {},
   "outputs": [
    {
     "name": "stderr",
     "output_type": "stream",
     "text": [
      "/opt/conda/lib/python3.6/site-packages/sklearn/tree/_classes.py:319: FutureWarning: The parameter 'presort' is deprecated and has no effect. It will be removed in v0.24. You can suppress this warning by not passing any value to the 'presort' parameter.\n",
      "  FutureWarning)\n"
     ]
    }
   ],
   "source": [
    "from sklearn.tree import DecisionTreeClassifier\n",
    "model = DecisionTreeClassifier(class_weight=None, criterion='gini', max_depth=3,\n",
    "            max_features=None, max_leaf_nodes=20,\n",
    "            min_impurity_decrease=0.0, min_impurity_split=None,\n",
    "            min_samples_leaf=1, min_samples_split=20,\n",
    "            min_weight_fraction_leaf=0.0, presort=False, random_state=None,\n",
    "            splitter='best')\n",
    "model.fit(x_train,y_train)\n",
    "\n",
    "pred_y = model.predict_proba(x_val)[:,1]"
   ]
  },
  {
   "cell_type": "code",
   "execution_count": 37,
   "metadata": {},
   "outputs": [
    {
     "name": "stdout",
     "output_type": "stream",
     "text": [
      "Training until validation scores don't improve for 100 rounds\n",
      "Did not meet early stopping. Best iteration is:\n",
      "[100]\ttraining's auc: 0.857436\ttraining's binary_logloss: 0.37896\tvalid_1's auc: 0.786893\tvalid_1's binary_logloss: 0.423906\n"
     ]
    }
   ],
   "source": [
    "from lightgbm import LGBMClassifier\n",
    "model = LGBMClassifier(n_estimator=5000,\n",
    "                       random_state=1994,\n",
    "                       learning_rate=0.05,\n",
    "                       reg_alpha=0.2,\n",
    "                       colsample_bytree=0.5,\n",
    "                       bagging_fraction=0.9)\n",
    "\n",
    "model.fit(x_train,y_train,\n",
    "          eval_set=[(x_train,y_train),(x_val, y_val.values)],\n",
    "          eval_metric='auc',\n",
    "          early_stopping_rounds=100,\n",
    "          verbose=200)\n",
    "\n",
    "pred_y = model.predict_proba(x_val)[:,1]"
   ]
  },
  {
   "cell_type": "code",
   "execution_count": 38,
   "metadata": {},
   "outputs": [
    {
     "name": "stdout",
     "output_type": "stream",
     "text": [
      "0.7868928613352116\n"
     ]
    },
    {
     "data": {
      "text/plain": [
       "array([[3135,  153],\n",
       "       [ 612,  300]])"
      ]
     },
     "execution_count": 38,
     "metadata": {},
     "output_type": "execute_result"
    }
   ],
   "source": [
    "from sklearn.metrics import accuracy_score,confusion_matrix,roc_auc_score\n",
    "print(roc_auc_score(y_val, pred_y))\n",
    "confusion_matrix(y_val,pred_y>0.5)"
   ]
  },
  {
   "cell_type": "code",
   "execution_count": 39,
   "metadata": {},
   "outputs": [
    {
     "name": "stdout",
     "output_type": "stream",
     "text": [
      "Training until validation scores don't improve for 200 rounds\n",
      "[200]\ttraining's auc: 0.874115\ttraining's binary_logloss: 0.359053\tvalid_1's auc: 0.786776\tvalid_1's binary_logloss: 0.427097\n",
      "Early stopping, best iteration is:\n",
      "[65]\ttraining's auc: 0.823158\ttraining's binary_logloss: 0.398076\tvalid_1's auc: 0.790301\tvalid_1's binary_logloss: 0.424969\n",
      "err_lgm:  0.7903014606694208\n",
      "Training until validation scores don't improve for 200 rounds\n",
      "[200]\ttraining's auc: 0.869783\ttraining's binary_logloss: 0.363302\tvalid_1's auc: 0.795356\tvalid_1's binary_logloss: 0.419493\n",
      "Early stopping, best iteration is:\n",
      "[42]\ttraining's auc: 0.810009\ttraining's binary_logloss: 0.40919\tvalid_1's auc: 0.805012\tvalid_1's binary_logloss: 0.415811\n",
      "err_lgm:  0.8050115662675997\n",
      "Training until validation scores don't improve for 200 rounds\n",
      "[200]\ttraining's auc: 0.875177\ttraining's binary_logloss: 0.358761\tvalid_1's auc: 0.786265\tvalid_1's binary_logloss: 0.427419\n",
      "Early stopping, best iteration is:\n",
      "[101]\ttraining's auc: 0.839225\ttraining's binary_logloss: 0.387003\tvalid_1's auc: 0.791694\tvalid_1's binary_logloss: 0.422424\n",
      "err_lgm:  0.7916938917460585\n",
      "Training until validation scores don't improve for 200 rounds\n",
      "[200]\ttraining's auc: 0.873597\ttraining's binary_logloss: 0.359816\tvalid_1's auc: 0.779513\tvalid_1's binary_logloss: 0.426287\n",
      "Early stopping, best iteration is:\n",
      "[56]\ttraining's auc: 0.819564\ttraining's binary_logloss: 0.401538\tvalid_1's auc: 0.786407\tvalid_1's binary_logloss: 0.421774\n",
      "err_lgm:  0.7864073960880196\n",
      "Training until validation scores don't improve for 200 rounds\n",
      "[200]\ttraining's auc: 0.873884\ttraining's binary_logloss: 0.359088\tvalid_1's auc: 0.760987\tvalid_1's binary_logloss: 0.446687\n",
      "Early stopping, best iteration is:\n",
      "[113]\ttraining's auc: 0.844948\ttraining's binary_logloss: 0.382559\tvalid_1's auc: 0.765703\tvalid_1's binary_logloss: 0.442587\n",
      "err_lgm:  0.7657027232105219\n",
      "Training until validation scores don't improve for 200 rounds\n",
      "[200]\ttraining's auc: 0.87127\ttraining's binary_logloss: 0.361811\tvalid_1's auc: 0.777976\tvalid_1's binary_logloss: 0.428916\n",
      "Early stopping, best iteration is:\n",
      "[145]\ttraining's auc: 0.853098\ttraining's binary_logloss: 0.375879\tvalid_1's auc: 0.779301\tvalid_1's binary_logloss: 0.427709\n",
      "err_lgm:  0.7793009108546249\n",
      "Training until validation scores don't improve for 200 rounds\n",
      "[200]\ttraining's auc: 0.874093\ttraining's binary_logloss: 0.358619\tvalid_1's auc: 0.768635\tvalid_1's binary_logloss: 0.442956\n",
      "Early stopping, best iteration is:\n",
      "[58]\ttraining's auc: 0.823363\ttraining's binary_logloss: 0.398981\tvalid_1's auc: 0.770071\tvalid_1's binary_logloss: 0.438313\n",
      "err_lgm:  0.7700706981026602\n",
      "Training until validation scores don't improve for 200 rounds\n",
      "[200]\ttraining's auc: 0.869473\ttraining's binary_logloss: 0.363332\tvalid_1's auc: 0.77857\tvalid_1's binary_logloss: 0.427714\n",
      "Early stopping, best iteration is:\n",
      "[49]\ttraining's auc: 0.8182\ttraining's binary_logloss: 0.403912\tvalid_1's auc: 0.784729\tvalid_1's binary_logloss: 0.423173\n",
      "err_lgm:  0.7847285521686231\n",
      "Training until validation scores don't improve for 200 rounds\n",
      "[200]\ttraining's auc: 0.870003\ttraining's binary_logloss: 0.362803\tvalid_1's auc: 0.794981\tvalid_1's binary_logloss: 0.419565\n",
      "Early stopping, best iteration is:\n",
      "[93]\ttraining's auc: 0.834274\ttraining's binary_logloss: 0.390567\tvalid_1's auc: 0.799222\tvalid_1's binary_logloss: 0.418186\n",
      "err_lgm:  0.7992219920423531\n",
      "Training until validation scores don't improve for 200 rounds\n",
      "[200]\ttraining's auc: 0.871727\ttraining's binary_logloss: 0.361667\tvalid_1's auc: 0.792082\tvalid_1's binary_logloss: 0.41998\n",
      "Early stopping, best iteration is:\n",
      "[56]\ttraining's auc: 0.816494\ttraining's binary_logloss: 0.403511\tvalid_1's auc: 0.803061\tvalid_1's binary_logloss: 0.414345\n",
      "err_lgm:  0.8030607346026108\n"
     ]
    }
   ],
   "source": [
    "err = []\n",
    "y_pred_tot_lgm = []\n",
    "\n",
    "from sklearn.model_selection import StratifiedKFold\n",
    "\n",
    "fold = StratifiedKFold(n_splits=10,shuffle=True,random_state=1994)\n",
    "i = 1\n",
    "for train_index, test_index in fold.split(X, y):\n",
    "    x_train, x_val = X.iloc[train_index], X.iloc[test_index]\n",
    "    y_train, y_val = y[train_index], y[test_index]\n",
    "    m = LGBMClassifier(boosting_type='gbdt',\n",
    "                       max_depth=5,\n",
    "                       learning_rate=0.08,\n",
    "                       n_estimators=5000,\n",
    "                       min_child_weight=0.01,\n",
    "                       colsample_bytree=0.5,\n",
    "                       random_state=1994)\n",
    "    m.fit(x_train, y_train,\n",
    "          eval_set=[(x_train,y_train),(x_val, y_val)],\n",
    "          early_stopping_rounds=200,\n",
    "          eval_metric='auc',\n",
    "          verbose=200)\n",
    "    pred_y = m.predict_proba(x_val)[:,1]\n",
    "    print(\"err_lgm: \",roc_auc_score(y_val,pred_y))\n",
    "    err.append(roc_auc_score(y_val, pred_y))\n",
    "    pred_test = m.predict_proba(X_test)[:,1]\n",
    "    i = i + 1\n",
    "    y_pred_tot_lgm.append(pred_test)"
   ]
  },
  {
   "cell_type": "code",
   "execution_count": 40,
   "metadata": {},
   "outputs": [
    {
     "data": {
      "text/plain": [
       "0.7875499925752494"
      ]
     },
     "execution_count": 40,
     "metadata": {},
     "output_type": "execute_result"
    }
   ],
   "source": [
    "np.mean(err,0)"
   ]
  },
  {
   "cell_type": "code",
   "execution_count": 41,
   "metadata": {},
   "outputs": [
    {
     "name": "stdout",
     "output_type": "stream",
     "text": [
      "[0]\tvalidation_0-auc:0.75736\tvalidation_1-auc:0.75818\n",
      "Multiple eval metrics have been passed: 'validation_1-auc' will be used for early stopping.\n",
      "\n",
      "Will train until validation_1-auc hasn't improved in 200 rounds.\n",
      "[200]\tvalidation_0-auc:0.86790\tvalidation_1-auc:0.78850\n",
      "Stopping. Best iteration:\n",
      "[152]\tvalidation_0-auc:0.85555\tvalidation_1-auc:0.79098\n",
      "\n",
      "err_xgb:  0.7909772573981957\n",
      "[0]\tvalidation_0-auc:0.75621\tvalidation_1-auc:0.76717\n",
      "Multiple eval metrics have been passed: 'validation_1-auc' will be used for early stopping.\n",
      "\n",
      "Will train until validation_1-auc hasn't improved in 200 rounds.\n",
      "[200]\tvalidation_0-auc:0.86040\tvalidation_1-auc:0.80020\n",
      "Stopping. Best iteration:\n",
      "[42]\tvalidation_0-auc:0.80757\tvalidation_1-auc:0.80566\n",
      "\n",
      "err_xgb:  0.8056596988027991\n",
      "[0]\tvalidation_0-auc:0.75704\tvalidation_1-auc:0.76209\n",
      "Multiple eval metrics have been passed: 'validation_1-auc' will be used for early stopping.\n",
      "\n",
      "Will train until validation_1-auc hasn't improved in 200 rounds.\n",
      "[200]\tvalidation_0-auc:0.86739\tvalidation_1-auc:0.79258\n",
      "Stopping. Best iteration:\n",
      "[89]\tvalidation_0-auc:0.83103\tvalidation_1-auc:0.79427\n",
      "\n",
      "err_xgb:  0.7942725897900682\n",
      "[0]\tvalidation_0-auc:0.75908\tvalidation_1-auc:0.74993\n",
      "Multiple eval metrics have been passed: 'validation_1-auc' will be used for early stopping.\n",
      "\n",
      "Will train until validation_1-auc hasn't improved in 200 rounds.\n",
      "[200]\tvalidation_0-auc:0.86403\tvalidation_1-auc:0.77716\n",
      "Stopping. Best iteration:\n",
      "[44]\tvalidation_0-auc:0.80894\tvalidation_1-auc:0.78539\n",
      "\n",
      "err_xgb:  0.785390407638479\n",
      "[0]\tvalidation_0-auc:0.76195\tvalidation_1-auc:0.72302\n",
      "Multiple eval metrics have been passed: 'validation_1-auc' will be used for early stopping.\n",
      "\n",
      "Will train until validation_1-auc hasn't improved in 200 rounds.\n",
      "[200]\tvalidation_0-auc:0.86421\tvalidation_1-auc:0.76255\n",
      "Stopping. Best iteration:\n",
      "[131]\tvalidation_0-auc:0.84436\tvalidation_1-auc:0.76420\n",
      "\n",
      "err_xgb:  0.7641970006744794\n",
      "[0]\tvalidation_0-auc:0.76162\tvalidation_1-auc:0.73399\n",
      "Multiple eval metrics have been passed: 'validation_1-auc' will be used for early stopping.\n",
      "\n",
      "Will train until validation_1-auc hasn't improved in 200 rounds.\n",
      "[200]\tvalidation_0-auc:0.86652\tvalidation_1-auc:0.77608\n",
      "[400]\tvalidation_0-auc:0.90880\tvalidation_1-auc:0.77183\n",
      "Stopping. Best iteration:\n",
      "[205]\tvalidation_0-auc:0.86877\tvalidation_1-auc:0.77646\n",
      "\n",
      "err_xgb:  0.7764631218966822\n",
      "[0]\tvalidation_0-auc:0.76316\tvalidation_1-auc:0.73215\n",
      "Multiple eval metrics have been passed: 'validation_1-auc' will be used for early stopping.\n",
      "\n",
      "Will train until validation_1-auc hasn't improved in 200 rounds.\n",
      "[200]\tvalidation_0-auc:0.86638\tvalidation_1-auc:0.77024\n",
      "Stopping. Best iteration:\n",
      "[134]\tvalidation_0-auc:0.84715\tvalidation_1-auc:0.77317\n",
      "\n",
      "err_xgb:  0.773171549768176\n",
      "[0]\tvalidation_0-auc:0.76296\tvalidation_1-auc:0.74433\n",
      "Multiple eval metrics have been passed: 'validation_1-auc' will be used for early stopping.\n",
      "\n",
      "Will train until validation_1-auc hasn't improved in 200 rounds.\n",
      "[200]\tvalidation_0-auc:0.86243\tvalidation_1-auc:0.77346\n",
      "Stopping. Best iteration:\n",
      "[53]\tvalidation_0-auc:0.81649\tvalidation_1-auc:0.78045\n",
      "\n",
      "err_xgb:  0.7804452336325671\n",
      "[0]\tvalidation_0-auc:0.75824\tvalidation_1-auc:0.75000\n",
      "Multiple eval metrics have been passed: 'validation_1-auc' will be used for early stopping.\n",
      "\n",
      "Will train until validation_1-auc hasn't improved in 200 rounds.\n",
      "[200]\tvalidation_0-auc:0.86101\tvalidation_1-auc:0.79280\n",
      "Stopping. Best iteration:\n",
      "[98]\tvalidation_0-auc:0.83212\tvalidation_1-auc:0.79744\n",
      "\n",
      "err_xgb:  0.7974430304823912\n",
      "[0]\tvalidation_0-auc:0.75664\tvalidation_1-auc:0.76665\n",
      "Multiple eval metrics have been passed: 'validation_1-auc' will be used for early stopping.\n",
      "\n",
      "Will train until validation_1-auc hasn't improved in 200 rounds.\n",
      "[200]\tvalidation_0-auc:0.86598\tvalidation_1-auc:0.79334\n",
      "Stopping. Best iteration:\n",
      "[43]\tvalidation_0-auc:0.80881\tvalidation_1-auc:0.80131\n",
      "\n",
      "err_xgb:  0.8013126829107889\n"
     ]
    }
   ],
   "source": [
    "from xgboost import XGBClassifier\n",
    "\n",
    "errxgb = []\n",
    "y_pred_tot_xgb = []\n",
    "\n",
    "from sklearn.model_selection import KFold,StratifiedKFold\n",
    "\n",
    "fold = StratifiedKFold(n_splits=10,shuffle=True,random_state=1994)\n",
    "i = 1\n",
    "for train_index, test_index in fold.split(X,y):\n",
    "    x_train, x_val = X.iloc[train_index], X.iloc[test_index]\n",
    "    y_train, y_val = y[train_index], y[test_index]\n",
    "    m = XGBClassifier(boosting_type='gbdt',\n",
    "                      max_depth=5,\n",
    "                      learning_rate=0.07,\n",
    "                      n_estimators=5000,\n",
    "                      random_state=1994)\n",
    "    m.fit(x_train, y_train,\n",
    "          eval_set=[(x_train,y_train),(x_val, y_val)],\n",
    "          early_stopping_rounds=200,\n",
    "          eval_metric='auc',\n",
    "          verbose=200)\n",
    "    pred_y = m.predict_proba(x_val)[:,-1]\n",
    "    print(\"err_xgb: \",roc_auc_score(y_val,pred_y))\n",
    "    errxgb.append(roc_auc_score(y_val, pred_y))\n",
    "    pred_test = m.predict_proba(X_test)[:,-1]\n",
    "    i = i + 1\n",
    "    y_pred_tot_xgb.append(pred_test)"
   ]
  },
  {
   "cell_type": "code",
   "execution_count": 42,
   "metadata": {},
   "outputs": [
    {
     "name": "stdout",
     "output_type": "stream",
     "text": [
      "0:\ttest: 0.7492461\ttest1: 0.7384722\tbest: 0.7384722 (0)\ttotal: 69.8ms\tremaining: 5m 48s\n",
      "200:\ttest: 0.8057693\ttest1: 0.7884234\tbest: 0.7885658 (198)\ttotal: 2.98s\tremaining: 1m 11s\n",
      "400:\ttest: 0.8291617\ttest1: 0.7910293\tbest: 0.7912607 (396)\ttotal: 5.88s\tremaining: 1m 7s\n",
      "600:\ttest: 0.8495277\ttest1: 0.7909017\tbest: 0.7919103 (533)\ttotal: 8.73s\tremaining: 1m 3s\n",
      "Stopped by overfitting detector  (200 iterations wait)\n",
      "\n",
      "bestTest = 0.791910275\n",
      "bestIteration = 533\n",
      "\n",
      "Shrink model to first 534 iterations.\n",
      "err_cb:  0.7919102750067484\n",
      "0:\ttest: 0.7475461\ttest1: 0.7608100\tbest: 0.7608100 (0)\ttotal: 14.2ms\tremaining: 1m 11s\n",
      "200:\ttest: 0.8050085\ttest1: 0.8035827\tbest: 0.8037132 (186)\ttotal: 2.9s\tremaining: 1m 9s\n",
      "400:\ttest: 0.8275167\ttest1: 0.8048078\tbest: 0.8055820 (335)\ttotal: 5.79s\tremaining: 1m 6s\n",
      "Stopped by overfitting detector  (200 iterations wait)\n",
      "\n",
      "bestTest = 0.8055820052\n",
      "bestIteration = 335\n",
      "\n",
      "Shrink model to first 336 iterations.\n",
      "err_cb:  0.8055820051673148\n",
      "0:\ttest: 0.7487687\ttest1: 0.7434304\tbest: 0.7434304 (0)\ttotal: 16.3ms\tremaining: 1m 21s\n",
      "200:\ttest: 0.8044042\ttest1: 0.7988381\tbest: 0.7990991 (181)\ttotal: 2.86s\tremaining: 1m 8s\n",
      "400:\ttest: 0.8263082\ttest1: 0.8004310\tbest: 0.8007365 (356)\ttotal: 5.72s\tremaining: 1m 5s\n",
      "600:\ttest: 0.8478240\ttest1: 0.7984940\tbest: 0.8008404 (488)\ttotal: 8.58s\tremaining: 1m 2s\n",
      "Stopped by overfitting detector  (200 iterations wait)\n",
      "\n",
      "bestTest = 0.8008403561\n",
      "bestIteration = 488\n",
      "\n",
      "Shrink model to first 489 iterations.\n",
      "err_cb:  0.8008403560760443\n",
      "0:\ttest: 0.7467038\ttest1: 0.7730846\tbest: 0.7730846 (0)\ttotal: 16.4ms\tremaining: 1m 21s\n",
      "200:\ttest: 0.8041187\ttest1: 0.8017169\tbest: 0.8017169 (200)\ttotal: 2.95s\tremaining: 1m 10s\n",
      "400:\ttest: 0.8267012\ttest1: 0.8045260\tbest: 0.8050629 (376)\ttotal: 5.82s\tremaining: 1m 6s\n",
      "Stopped by overfitting detector  (200 iterations wait)\n",
      "\n",
      "bestTest = 0.8050629006\n",
      "bestIteration = 376\n",
      "\n",
      "Shrink model to first 377 iterations.\n",
      "err_cb:  0.8050629006374603\n",
      "0:\ttest: 0.7481993\ttest1: 0.7504131\tbest: 0.7504131 (0)\ttotal: 21.3ms\tremaining: 1m 46s\n",
      "200:\ttest: 0.8054122\ttest1: 0.7913674\tbest: 0.7913674 (200)\ttotal: 3.13s\tremaining: 1m 14s\n",
      "400:\ttest: 0.8274392\ttest1: 0.7925362\tbest: 0.7934884 (312)\ttotal: 6.29s\tremaining: 1m 12s\n",
      "Stopped by overfitting detector  (200 iterations wait)\n",
      "\n",
      "bestTest = 0.7934883528\n",
      "bestIteration = 312\n",
      "\n",
      "Shrink model to first 313 iterations.\n",
      "err_cb:  0.7934883527775058\n",
      "0:\ttest: 0.7482607\ttest1: 0.7285099\tbest: 0.7285099 (0)\ttotal: 16.1ms\tremaining: 1m 20s\n",
      "200:\ttest: 0.8046822\ttest1: 0.7788384\tbest: 0.7790929 (150)\ttotal: 2.98s\tremaining: 1m 11s\n",
      "400:\ttest: 0.8287122\ttest1: 0.7801850\tbest: 0.7805371 (396)\ttotal: 5.92s\tremaining: 1m 7s\n",
      "600:\ttest: 0.8491688\ttest1: 0.7800370\tbest: 0.7813747 (430)\ttotal: 8.75s\tremaining: 1m 4s\n",
      "Stopped by overfitting detector  (200 iterations wait)\n",
      "\n",
      "bestTest = 0.7813746671\n",
      "bestIteration = 430\n",
      "\n",
      "Shrink model to first 431 iterations.\n",
      "err_cb:  0.7813746670612607\n",
      "0:\ttest: 0.7521716\ttest1: 0.6965108\tbest: 0.6965108 (0)\ttotal: 15.6ms\tremaining: 1m 17s\n",
      "200:\ttest: 0.8074137\ttest1: 0.7535351\tbest: 0.7537896 (198)\ttotal: 2.88s\tremaining: 1m 8s\n",
      "400:\ttest: 0.8295017\ttest1: 0.7563791\tbest: 0.7567875 (376)\ttotal: 5.82s\tremaining: 1m 6s\n",
      "600:\ttest: 0.8520633\ttest1: 0.7557191\tbest: 0.7572433 (463)\ttotal: 8.68s\tremaining: 1m 3s\n",
      "Stopped by overfitting detector  (200 iterations wait)\n",
      "\n",
      "bestTest = 0.7572432672\n",
      "bestIteration = 463\n",
      "\n",
      "Shrink model to first 464 iterations.\n",
      "err_cb:  0.7572432672388281\n",
      "0:\ttest: 0.7494349\ttest1: 0.7428648\tbest: 0.7428648 (0)\ttotal: 15.1ms\tremaining: 1m 15s\n",
      "200:\ttest: 0.8058352\ttest1: 0.7701080\tbest: 0.7701879 (192)\ttotal: 2.87s\tremaining: 1m 8s\n",
      "400:\ttest: 0.8275592\ttest1: 0.7720405\tbest: 0.7724430 (383)\ttotal: 5.75s\tremaining: 1m 5s\n",
      "600:\ttest: 0.8479624\ttest1: 0.7729195\tbest: 0.7738636 (472)\ttotal: 8.69s\tremaining: 1m 3s\n",
      "Stopped by overfitting detector  (200 iterations wait)\n",
      "\n",
      "bestTest = 0.7738635691\n",
      "bestIteration = 472\n",
      "\n",
      "Shrink model to first 473 iterations.\n",
      "err_cb:  0.7738635691032851\n",
      "0:\ttest: 0.7483904\ttest1: 0.7467964\tbest: 0.7467964 (0)\ttotal: 16.3ms\tremaining: 1m 21s\n",
      "200:\ttest: 0.8043299\ttest1: 0.7847706\tbest: 0.7847706 (200)\ttotal: 2.89s\tremaining: 1m 8s\n",
      "400:\ttest: 0.8259261\ttest1: 0.7892039\tbest: 0.7900326 (369)\ttotal: 5.76s\tremaining: 1m 6s\n",
      "600:\ttest: 0.8467202\ttest1: 0.7910092\tbest: 0.7913170 (522)\ttotal: 8.79s\tremaining: 1m 4s\n",
      "800:\ttest: 0.8627805\ttest1: 0.7901598\tbest: 0.7915182 (721)\ttotal: 11.6s\tremaining: 1m\n",
      "Stopped by overfitting detector  (200 iterations wait)\n",
      "\n",
      "bestTest = 0.7915182007\n",
      "bestIteration = 721\n",
      "\n",
      "Shrink model to first 722 iterations.\n",
      "err_cb:  0.7915182006510801\n",
      "0:\ttest: 0.7511826\ttest1: 0.7205653\tbest: 0.7205653 (0)\ttotal: 16.2ms\tremaining: 1m 20s\n",
      "200:\ttest: 0.8063615\ttest1: 0.7660832\tbest: 0.7660832 (200)\ttotal: 2.92s\tremaining: 1m 9s\n",
      "400:\ttest: 0.8283954\ttest1: 0.7683619\tbest: 0.7683886 (391)\ttotal: 5.85s\tremaining: 1m 7s\n",
      "600:\ttest: 0.8491238\ttest1: 0.7687585\tbest: 0.7687733 (574)\ttotal: 8.97s\tremaining: 1m 5s\n",
      "800:\ttest: 0.8652980\ttest1: 0.7711320\tbest: 0.7713244 (793)\ttotal: 12s\tremaining: 1m 2s\n",
      "1000:\ttest: 0.8785970\ttest1: 0.7701110\tbest: 0.7714279 (819)\ttotal: 15.2s\tremaining: 1m\n",
      "Stopped by overfitting detector  (200 iterations wait)\n",
      "\n",
      "bestTest = 0.7714279373\n",
      "bestIteration = 819\n",
      "\n",
      "Shrink model to first 820 iterations.\n",
      "err_cb:  0.7714279372595443\n",
      "0:\ttest: 0.7488652\ttest1: 0.7237408\tbest: 0.7237408 (0)\ttotal: 14.6ms\tremaining: 1m 12s\n",
      "200:\ttest: 0.8054956\ttest1: 0.7771841\tbest: 0.7771841 (200)\ttotal: 2.94s\tremaining: 1m 10s\n",
      "400:\ttest: 0.8279195\ttest1: 0.7799497\tbest: 0.7803418 (335)\ttotal: 5.8s\tremaining: 1m 6s\n",
      "600:\ttest: 0.8485253\ttest1: 0.7778070\tbest: 0.7806422 (438)\ttotal: 8.61s\tremaining: 1m 3s\n",
      "Stopped by overfitting detector  (200 iterations wait)\n",
      "\n",
      "bestTest = 0.7806422018\n",
      "bestIteration = 438\n",
      "\n",
      "Shrink model to first 439 iterations.\n",
      "err_cb:  0.7806422018348624\n",
      "0:\ttest: 0.7477270\ttest1: 0.7579683\tbest: 0.7579683 (0)\ttotal: 14.9ms\tremaining: 1m 14s\n",
      "200:\ttest: 0.8052695\ttest1: 0.7804809\tbest: 0.7805105 (197)\ttotal: 2.91s\tremaining: 1m 9s\n",
      "400:\ttest: 0.8270093\ttest1: 0.7844836\tbest: 0.7844836 (400)\ttotal: 5.78s\tremaining: 1m 6s\n",
      "600:\ttest: 0.8477686\ttest1: 0.7841669\tbest: 0.7852412 (514)\ttotal: 8.63s\tremaining: 1m 3s\n",
      "Stopped by overfitting detector  (200 iterations wait)\n",
      "\n",
      "bestTest = 0.7852411956\n",
      "bestIteration = 514\n",
      "\n",
      "Shrink model to first 515 iterations.\n",
      "err_cb:  0.7852411956200058\n",
      "0:\ttest: 0.7480628\ttest1: 0.7534640\tbest: 0.7534640 (0)\ttotal: 16.2ms\tremaining: 1m 21s\n",
      "200:\ttest: 0.8045081\ttest1: 0.7921604\tbest: 0.7922669 (187)\ttotal: 2.93s\tremaining: 1m 9s\n",
      "400:\ttest: 0.8266214\ttest1: 0.7907813\tbest: 0.7924268 (203)\ttotal: 5.81s\tremaining: 1m 6s\n",
      "Stopped by overfitting detector  (200 iterations wait)\n",
      "\n",
      "bestTest = 0.7924267535\n",
      "bestIteration = 203\n",
      "\n",
      "Shrink model to first 204 iterations.\n",
      "err_cb:  0.7924267534773601\n",
      "0:\ttest: 0.7457808\ttest1: 0.7858257\tbest: 0.7858257 (0)\ttotal: 14.5ms\tremaining: 1m 12s\n",
      "200:\ttest: 0.8032845\ttest1: 0.8162474\tbest: 0.8166055 (187)\ttotal: 2.9s\tremaining: 1m 9s\n",
      "400:\ttest: 0.8262914\ttest1: 0.8192868\tbest: 0.8193992 (349)\ttotal: 5.79s\tremaining: 1m 6s\n",
      "600:\ttest: 0.8474795\ttest1: 0.8191506\tbest: 0.8197425 (475)\ttotal: 8.74s\tremaining: 1m 3s\n",
      "Stopped by overfitting detector  (200 iterations wait)\n",
      "\n",
      "bestTest = 0.8197425274\n",
      "bestIteration = 475\n",
      "\n",
      "Shrink model to first 476 iterations.\n",
      "err_cb:  0.8197425273749631\n",
      "0:\ttest: 0.7487496\ttest1: 0.7458908\tbest: 0.7458908 (0)\ttotal: 15.4ms\tremaining: 1m 16s\n",
      "200:\ttest: 0.8053426\ttest1: 0.7846597\tbest: 0.7852131 (164)\ttotal: 3.01s\tremaining: 1m 11s\n",
      "Stopped by overfitting detector  (200 iterations wait)\n",
      "\n",
      "bestTest = 0.7852130808\n",
      "bestIteration = 164\n",
      "\n",
      "Shrink model to first 165 iterations.\n",
      "err_cb:  0.785213080793134\n"
     ]
    }
   ],
   "source": [
    "from catboost import CatBoostClassifier,Pool, cv\n",
    "errCB = []\n",
    "y_pred_tot_cb = []\n",
    "from sklearn.model_selection import KFold,StratifiedKFold\n",
    "\n",
    "fold = StratifiedKFold(n_splits=15,shuffle=True,random_state=1994)\n",
    "i = 1\n",
    "for train_index, test_index in fold.split(X,y):\n",
    "    x_train, x_val = X.iloc[train_index], X.iloc[test_index]\n",
    "    y_train, y_val = y[train_index], y[test_index]\n",
    "    m = CatBoostClassifier(n_estimators=5000,\n",
    "                           random_state=1994,\n",
    "                           eval_metric='AUC',\n",
    "                           learning_rate=0.03)\n",
    "    m.fit(x_train, y_train,\n",
    "          eval_set=[(x_train,y_train),(x_val, y_val)],\n",
    "          early_stopping_rounds=200,\n",
    "          verbose=200)\n",
    "    pred_y = m.predict_proba(x_val)[:,-1]\n",
    "    print(\"err_cb: \",roc_auc_score(y_val,pred_y))\n",
    "    errCB.append(roc_auc_score(y_val,pred_y))\n",
    "    pred_test = m.predict_proba(X_test)[:,-1]\n",
    "    i = i + 1\n",
    "    y_pred_tot_cb.append(pred_test)"
   ]
  },
  {
   "cell_type": "code",
   "execution_count": 43,
   "metadata": {},
   "outputs": [
    {
     "data": {
      "text/plain": [
       "0.7890384860052931"
      ]
     },
     "execution_count": 43,
     "metadata": {},
     "output_type": "execute_result"
    }
   ],
   "source": [
    "np.mean(errCB)"
   ]
  },
  {
   "cell_type": "code",
   "execution_count": 44,
   "metadata": {},
   "outputs": [
    {
     "data": {
      "text/plain": [
       "0.7878405786266683"
      ]
     },
     "execution_count": 44,
     "metadata": {},
     "output_type": "execute_result"
    }
   ],
   "source": [
    "(np.mean(errxgb, 0) + np.mean(err, 0) + np.mean(errCB, 0))/3"
   ]
  },
  {
   "cell_type": "code",
   "execution_count": 45,
   "metadata": {},
   "outputs": [
    {
     "data": {
      "text/plain": [
       "(9000, 2)"
      ]
     },
     "execution_count": 45,
     "metadata": {},
     "output_type": "execute_result"
    }
   ],
   "source": [
    "submission = pd.DataFrame()\n",
    "submission['ID'] = combine[combine['default_payment_next_month'].isnull()==True]['ID']\n",
    "submission['default_payment_next_month'] = (np.mean(y_pred_tot_lgm, 0) + np.mean(y_pred_tot_cb, 0) + \n",
    "                                            np.mean(y_pred_tot_xgb, 0))/3\n",
    "submission.to_csv('rfr_lrg.csv', index=False, header=True)\n",
    "submission.shape"
   ]
  }
 ],
 "metadata": {
  "kernelspec": {
   "display_name": "Python 3",
   "language": "python",
   "name": "python3"
  },
  "language_info": {
   "codemirror_mode": {
    "name": "ipython",
    "version": 3
   },
   "file_extension": ".py",
   "mimetype": "text/x-python",
   "name": "python",
   "nbconvert_exporter": "python",
   "pygments_lexer": "ipython3",
   "version": "3.6.6"
  }
 },
 "nbformat": 4,
 "nbformat_minor": 4
}
