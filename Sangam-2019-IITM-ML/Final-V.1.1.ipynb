{
 "cells": [
  {
   "cell_type": "markdown",
   "metadata": {},
   "source": [
    "# Problem Statement"
   ]
  },
  {
   "cell_type": "markdown",
   "metadata": {},
   "source": [
    "Indian metro cities are famous for their notoriously varied traffic volume that is experienced by commuters every day. People plagued with traffic jams often raise concerns over poor traffic management systems. But with so much technology at our disposal, why should we continue to deal with traffic management in obsolete ways?\n",
    "\n",
    "In this modern and advanced era, why the problems regarding traffic management should be dealt with in obsolete ways?\n",
    "\n",
    "Your city's Traffic Police department has decided to use Machine Learning and Artificial Intelligence techniques to solve their traffic problems. They have collected traffic volume patterns and climate conditions that have been observed for 4 years. They want to be able to forecast the traffic volume.\n",
    "\n",
    "Task: Your task is to predict the traffic volume for given time duration and climate conditions."
   ]
  },
  {
   "cell_type": "markdown",
   "metadata": {},
   "source": [
    "# Hypothesis Generation"
   ]
  },
  {
   "cell_type": "markdown",
   "metadata": {},
   "source": [
    "The factors which might affect our dependent variable. Below are some of the hypotheses which I think can affect the traffic volume (dependent variable for this time series problem):\n",
    "    1. There will be an increase in the traffic as the years pass by.\n",
    "    2. The traffic will be high from May to October.\n",
    "    3. Traffic on weekdays will be more as compared to weekends/holidays.\n",
    "    4. Traffic during the peak hours will be high."
   ]
  },
  {
   "cell_type": "markdown",
   "metadata": {},
   "source": [
    "# Getting system ready, and, importing required libraries and packages"
   ]
  },
  {
   "cell_type": "code",
   "execution_count": 1,
   "metadata": {},
   "outputs": [],
   "source": [
    "import pandas as pd\n",
    "import numpy as np\n",
    "import matplotlib.pyplot as plt\n",
    "%matplotlib inline\n",
    "import warnings\n",
    "import seaborn as sns\n",
    "warnings.filterwarnings(\"ignore\")\n",
    "from datetime import datetime"
   ]
  },
  {
   "cell_type": "code",
   "execution_count": 2,
   "metadata": {},
   "outputs": [],
   "source": [
    "from sklearn.tree import DecisionTreeRegressor\n",
    "from sklearn.linear_model import LinearRegression\n",
    "from sklearn.preprocessing import StandardScaler\n",
    "from sklearn.ensemble import GradientBoostingRegressor\n",
    "from sklearn.ensemble import RandomForestRegressor\n",
    "from sklearn.neighbors import KNeighborsRegressor\n",
    "from sklearn.model_selection import GridSearchCV\n",
    "from sklearn import preprocessing\n",
    "from xgboost.sklearn import XGBClassifier\n",
    "from xgboost.sklearn import XGBRegressor\n",
    "from lightgbm import LGBMRegressor\n",
    "from sklearn.metrics import mean_squared_error\n",
    "from sklearn.model_selection import train_test_split\n",
    "from sklearn.linear_model import Lasso\n",
    "from sklearn.linear_model import ElasticNet\n",
    "from sklearn.feature_selection import RFE\n",
    "from sklearn.model_selection import cross_val_score\n",
    "from sklearn.model_selection import KFold\n",
    "from sklearn.pipeline import Pipeline\n",
    "import math\n",
    "import copy"
   ]
  },
  {
   "cell_type": "markdown",
   "metadata": {},
   "source": [
    "# Loading the data"
   ]
  },
  {
   "cell_type": "code",
   "execution_count": 3,
   "metadata": {},
   "outputs": [],
   "source": [
    "train = pd.read_csv('train.csv')\n",
    "test = pd.read_csv('test.csv')"
   ]
  },
  {
   "cell_type": "markdown",
   "metadata": {},
   "source": [
    "    Making a copy of data, as data changes can happen "
   ]
  },
  {
   "cell_type": "code",
   "execution_count": 4,
   "metadata": {},
   "outputs": [],
   "source": [
    "train_original = train.copy()\n",
    "test_original = test.copy()"
   ]
  },
  {
   "cell_type": "markdown",
   "metadata": {},
   "source": [
    "# Dataset Structure and Understanding Data"
   ]
  },
  {
   "cell_type": "code",
   "execution_count": 5,
   "metadata": {
    "scrolled": false
   },
   "outputs": [
    {
     "data": {
      "text/html": [
       "<div>\n",
       "<style scoped>\n",
       "    .dataframe tbody tr th:only-of-type {\n",
       "        vertical-align: middle;\n",
       "    }\n",
       "\n",
       "    .dataframe tbody tr th {\n",
       "        vertical-align: top;\n",
       "    }\n",
       "\n",
       "    .dataframe thead th {\n",
       "        text-align: right;\n",
       "    }\n",
       "</style>\n",
       "<table border=\"1\" class=\"dataframe\">\n",
       "  <thead>\n",
       "    <tr style=\"text-align: right;\">\n",
       "      <th></th>\n",
       "      <th>date_time</th>\n",
       "      <th>is_holiday</th>\n",
       "      <th>air_pollution_index</th>\n",
       "      <th>humidity</th>\n",
       "      <th>wind_speed</th>\n",
       "      <th>wind_direction</th>\n",
       "      <th>visibility_in_miles</th>\n",
       "      <th>dew_point</th>\n",
       "      <th>temperature</th>\n",
       "      <th>rain_p_h</th>\n",
       "      <th>snow_p_h</th>\n",
       "      <th>clouds_all</th>\n",
       "      <th>weather_type</th>\n",
       "      <th>weather_description</th>\n",
       "      <th>traffic_volume</th>\n",
       "    </tr>\n",
       "  </thead>\n",
       "  <tbody>\n",
       "    <tr>\n",
       "      <th>0</th>\n",
       "      <td>2012-10-02 09:00:00</td>\n",
       "      <td>None</td>\n",
       "      <td>121</td>\n",
       "      <td>89</td>\n",
       "      <td>2</td>\n",
       "      <td>329</td>\n",
       "      <td>1</td>\n",
       "      <td>1</td>\n",
       "      <td>288.28</td>\n",
       "      <td>0.0</td>\n",
       "      <td>0.0</td>\n",
       "      <td>40</td>\n",
       "      <td>Clouds</td>\n",
       "      <td>scattered clouds</td>\n",
       "      <td>5545</td>\n",
       "    </tr>\n",
       "    <tr>\n",
       "      <th>1</th>\n",
       "      <td>2012-10-02 10:00:00</td>\n",
       "      <td>None</td>\n",
       "      <td>178</td>\n",
       "      <td>67</td>\n",
       "      <td>3</td>\n",
       "      <td>330</td>\n",
       "      <td>1</td>\n",
       "      <td>1</td>\n",
       "      <td>289.36</td>\n",
       "      <td>0.0</td>\n",
       "      <td>0.0</td>\n",
       "      <td>75</td>\n",
       "      <td>Clouds</td>\n",
       "      <td>broken clouds</td>\n",
       "      <td>4516</td>\n",
       "    </tr>\n",
       "    <tr>\n",
       "      <th>2</th>\n",
       "      <td>2012-10-02 11:00:00</td>\n",
       "      <td>None</td>\n",
       "      <td>113</td>\n",
       "      <td>66</td>\n",
       "      <td>3</td>\n",
       "      <td>329</td>\n",
       "      <td>2</td>\n",
       "      <td>2</td>\n",
       "      <td>289.58</td>\n",
       "      <td>0.0</td>\n",
       "      <td>0.0</td>\n",
       "      <td>90</td>\n",
       "      <td>Clouds</td>\n",
       "      <td>overcast clouds</td>\n",
       "      <td>4767</td>\n",
       "    </tr>\n",
       "    <tr>\n",
       "      <th>3</th>\n",
       "      <td>2012-10-02 12:00:00</td>\n",
       "      <td>None</td>\n",
       "      <td>20</td>\n",
       "      <td>66</td>\n",
       "      <td>3</td>\n",
       "      <td>329</td>\n",
       "      <td>5</td>\n",
       "      <td>5</td>\n",
       "      <td>290.13</td>\n",
       "      <td>0.0</td>\n",
       "      <td>0.0</td>\n",
       "      <td>90</td>\n",
       "      <td>Clouds</td>\n",
       "      <td>overcast clouds</td>\n",
       "      <td>5026</td>\n",
       "    </tr>\n",
       "    <tr>\n",
       "      <th>4</th>\n",
       "      <td>2012-10-02 13:00:00</td>\n",
       "      <td>None</td>\n",
       "      <td>281</td>\n",
       "      <td>65</td>\n",
       "      <td>3</td>\n",
       "      <td>329</td>\n",
       "      <td>7</td>\n",
       "      <td>7</td>\n",
       "      <td>291.14</td>\n",
       "      <td>0.0</td>\n",
       "      <td>0.0</td>\n",
       "      <td>75</td>\n",
       "      <td>Clouds</td>\n",
       "      <td>broken clouds</td>\n",
       "      <td>4918</td>\n",
       "    </tr>\n",
       "  </tbody>\n",
       "</table>\n",
       "</div>"
      ],
      "text/plain": [
       "             date_time is_holiday  air_pollution_index  humidity  wind_speed  \\\n",
       "0  2012-10-02 09:00:00       None                  121        89           2   \n",
       "1  2012-10-02 10:00:00       None                  178        67           3   \n",
       "2  2012-10-02 11:00:00       None                  113        66           3   \n",
       "3  2012-10-02 12:00:00       None                   20        66           3   \n",
       "4  2012-10-02 13:00:00       None                  281        65           3   \n",
       "\n",
       "   wind_direction  visibility_in_miles  dew_point  temperature  rain_p_h  \\\n",
       "0             329                    1          1       288.28       0.0   \n",
       "1             330                    1          1       289.36       0.0   \n",
       "2             329                    2          2       289.58       0.0   \n",
       "3             329                    5          5       290.13       0.0   \n",
       "4             329                    7          7       291.14       0.0   \n",
       "\n",
       "   snow_p_h  clouds_all weather_type weather_description  traffic_volume  \n",
       "0       0.0          40       Clouds    scattered clouds            5545  \n",
       "1       0.0          75       Clouds       broken clouds            4516  \n",
       "2       0.0          90       Clouds     overcast clouds            4767  \n",
       "3       0.0          90       Clouds     overcast clouds            5026  \n",
       "4       0.0          75       Clouds       broken clouds            4918  "
      ]
     },
     "execution_count": 5,
     "metadata": {},
     "output_type": "execute_result"
    }
   ],
   "source": [
    "train.head()"
   ]
  },
  {
   "cell_type": "code",
   "execution_count": 6,
   "metadata": {},
   "outputs": [
    {
     "data": {
      "text/html": [
       "<div>\n",
       "<style scoped>\n",
       "    .dataframe tbody tr th:only-of-type {\n",
       "        vertical-align: middle;\n",
       "    }\n",
       "\n",
       "    .dataframe tbody tr th {\n",
       "        vertical-align: top;\n",
       "    }\n",
       "\n",
       "    .dataframe thead th {\n",
       "        text-align: right;\n",
       "    }\n",
       "</style>\n",
       "<table border=\"1\" class=\"dataframe\">\n",
       "  <thead>\n",
       "    <tr style=\"text-align: right;\">\n",
       "      <th></th>\n",
       "      <th>date_time</th>\n",
       "      <th>is_holiday</th>\n",
       "      <th>air_pollution_index</th>\n",
       "      <th>humidity</th>\n",
       "      <th>wind_speed</th>\n",
       "      <th>wind_direction</th>\n",
       "      <th>visibility_in_miles</th>\n",
       "      <th>dew_point</th>\n",
       "      <th>temperature</th>\n",
       "      <th>rain_p_h</th>\n",
       "      <th>snow_p_h</th>\n",
       "      <th>clouds_all</th>\n",
       "      <th>weather_type</th>\n",
       "      <th>weather_description</th>\n",
       "    </tr>\n",
       "  </thead>\n",
       "  <tbody>\n",
       "    <tr>\n",
       "      <th>0</th>\n",
       "      <td>2017-05-18 00:00:00</td>\n",
       "      <td>None</td>\n",
       "      <td>73</td>\n",
       "      <td>63</td>\n",
       "      <td>1</td>\n",
       "      <td>27</td>\n",
       "      <td>4</td>\n",
       "      <td>4</td>\n",
       "      <td>285.15</td>\n",
       "      <td>0.0</td>\n",
       "      <td>0</td>\n",
       "      <td>90</td>\n",
       "      <td>Rain</td>\n",
       "      <td>moderate rain</td>\n",
       "    </tr>\n",
       "    <tr>\n",
       "      <th>1</th>\n",
       "      <td>2017-05-18 00:00:00</td>\n",
       "      <td>None</td>\n",
       "      <td>251</td>\n",
       "      <td>63</td>\n",
       "      <td>1</td>\n",
       "      <td>27</td>\n",
       "      <td>4</td>\n",
       "      <td>4</td>\n",
       "      <td>285.15</td>\n",
       "      <td>0.0</td>\n",
       "      <td>0</td>\n",
       "      <td>90</td>\n",
       "      <td>Mist</td>\n",
       "      <td>mist</td>\n",
       "    </tr>\n",
       "    <tr>\n",
       "      <th>2</th>\n",
       "      <td>2017-05-18 00:00:00</td>\n",
       "      <td>None</td>\n",
       "      <td>75</td>\n",
       "      <td>56</td>\n",
       "      <td>1</td>\n",
       "      <td>0</td>\n",
       "      <td>1</td>\n",
       "      <td>1</td>\n",
       "      <td>285.15</td>\n",
       "      <td>0.0</td>\n",
       "      <td>0</td>\n",
       "      <td>90</td>\n",
       "      <td>Drizzle</td>\n",
       "      <td>light intensity drizzle</td>\n",
       "    </tr>\n",
       "    <tr>\n",
       "      <th>3</th>\n",
       "      <td>2017-05-18 01:00:00</td>\n",
       "      <td>None</td>\n",
       "      <td>98</td>\n",
       "      <td>56</td>\n",
       "      <td>1</td>\n",
       "      <td>351</td>\n",
       "      <td>2</td>\n",
       "      <td>2</td>\n",
       "      <td>284.79</td>\n",
       "      <td>0.0</td>\n",
       "      <td>0</td>\n",
       "      <td>90</td>\n",
       "      <td>Rain</td>\n",
       "      <td>heavy intensity rain</td>\n",
       "    </tr>\n",
       "    <tr>\n",
       "      <th>4</th>\n",
       "      <td>2017-05-18 01:00:00</td>\n",
       "      <td>None</td>\n",
       "      <td>283</td>\n",
       "      <td>56</td>\n",
       "      <td>1</td>\n",
       "      <td>351</td>\n",
       "      <td>1</td>\n",
       "      <td>1</td>\n",
       "      <td>284.79</td>\n",
       "      <td>0.0</td>\n",
       "      <td>0</td>\n",
       "      <td>90</td>\n",
       "      <td>Mist</td>\n",
       "      <td>mist</td>\n",
       "    </tr>\n",
       "  </tbody>\n",
       "</table>\n",
       "</div>"
      ],
      "text/plain": [
       "             date_time is_holiday  air_pollution_index  humidity  wind_speed  \\\n",
       "0  2017-05-18 00:00:00       None                   73        63           1   \n",
       "1  2017-05-18 00:00:00       None                  251        63           1   \n",
       "2  2017-05-18 00:00:00       None                   75        56           1   \n",
       "3  2017-05-18 01:00:00       None                   98        56           1   \n",
       "4  2017-05-18 01:00:00       None                  283        56           1   \n",
       "\n",
       "   wind_direction  visibility_in_miles  dew_point  temperature  rain_p_h  \\\n",
       "0              27                    4          4       285.15       0.0   \n",
       "1              27                    4          4       285.15       0.0   \n",
       "2               0                    1          1       285.15       0.0   \n",
       "3             351                    2          2       284.79       0.0   \n",
       "4             351                    1          1       284.79       0.0   \n",
       "\n",
       "   snow_p_h  clouds_all weather_type      weather_description  \n",
       "0         0          90         Rain            moderate rain  \n",
       "1         0          90         Mist                     mist  \n",
       "2         0          90      Drizzle  light intensity drizzle  \n",
       "3         0          90         Rain     heavy intensity rain  \n",
       "4         0          90         Mist                     mist  "
      ]
     },
     "execution_count": 6,
     "metadata": {},
     "output_type": "execute_result"
    }
   ],
   "source": [
    "test.head()"
   ]
  },
  {
   "cell_type": "code",
   "execution_count": 7,
   "metadata": {},
   "outputs": [
    {
     "data": {
      "text/plain": [
       "date_time               object\n",
       "is_holiday              object\n",
       "air_pollution_index      int64\n",
       "humidity                 int64\n",
       "wind_speed               int64\n",
       "wind_direction           int64\n",
       "visibility_in_miles      int64\n",
       "dew_point                int64\n",
       "temperature            float64\n",
       "rain_p_h               float64\n",
       "snow_p_h               float64\n",
       "clouds_all               int64\n",
       "weather_type            object\n",
       "weather_description     object\n",
       "traffic_volume           int64\n",
       "dtype: object"
      ]
     },
     "execution_count": 7,
     "metadata": {},
     "output_type": "execute_result"
    }
   ],
   "source": [
    "train.dtypes"
   ]
  },
  {
   "cell_type": "markdown",
   "metadata": {},
   "source": [
    "# Feature Extraction"
   ]
  },
  {
   "cell_type": "markdown",
   "metadata": {},
   "source": [
    "# converting object to date time format to segregate year, month, day, and hour"
   ]
  },
  {
   "cell_type": "code",
   "execution_count": 8,
   "metadata": {},
   "outputs": [],
   "source": [
    "train['date_time'] = pd.to_datetime(train.date_time,format='%Y-%m-%d %H:%M:%S') \n",
    "test['date_time'] = pd.to_datetime(test.date_time,format='%Y-%m-%d %H:%M:%S')"
   ]
  },
  {
   "cell_type": "code",
   "execution_count": 9,
   "metadata": {},
   "outputs": [],
   "source": [
    "for i in (train, test):\n",
    "    i['year'] = i.date_time.dt.year\n",
    "    i['month'] = i.date_time.dt.month\n",
    "    i['day'] = i.date_time.dt.day\n",
    "    i['Hour'] = i.date_time.dt.hour"
   ]
  },
  {
   "cell_type": "code",
   "execution_count": 10,
   "metadata": {},
   "outputs": [
    {
     "data": {
      "text/html": [
       "<div>\n",
       "<style scoped>\n",
       "    .dataframe tbody tr th:only-of-type {\n",
       "        vertical-align: middle;\n",
       "    }\n",
       "\n",
       "    .dataframe tbody tr th {\n",
       "        vertical-align: top;\n",
       "    }\n",
       "\n",
       "    .dataframe thead th {\n",
       "        text-align: right;\n",
       "    }\n",
       "</style>\n",
       "<table border=\"1\" class=\"dataframe\">\n",
       "  <thead>\n",
       "    <tr style=\"text-align: right;\">\n",
       "      <th></th>\n",
       "      <th>date_time</th>\n",
       "      <th>is_holiday</th>\n",
       "      <th>air_pollution_index</th>\n",
       "      <th>humidity</th>\n",
       "      <th>wind_speed</th>\n",
       "      <th>wind_direction</th>\n",
       "      <th>visibility_in_miles</th>\n",
       "      <th>dew_point</th>\n",
       "      <th>temperature</th>\n",
       "      <th>rain_p_h</th>\n",
       "      <th>snow_p_h</th>\n",
       "      <th>clouds_all</th>\n",
       "      <th>weather_type</th>\n",
       "      <th>weather_description</th>\n",
       "      <th>traffic_volume</th>\n",
       "      <th>year</th>\n",
       "      <th>month</th>\n",
       "      <th>day</th>\n",
       "      <th>Hour</th>\n",
       "    </tr>\n",
       "  </thead>\n",
       "  <tbody>\n",
       "    <tr>\n",
       "      <th>0</th>\n",
       "      <td>2012-10-02 09:00:00</td>\n",
       "      <td>None</td>\n",
       "      <td>121</td>\n",
       "      <td>89</td>\n",
       "      <td>2</td>\n",
       "      <td>329</td>\n",
       "      <td>1</td>\n",
       "      <td>1</td>\n",
       "      <td>288.28</td>\n",
       "      <td>0.0</td>\n",
       "      <td>0.0</td>\n",
       "      <td>40</td>\n",
       "      <td>Clouds</td>\n",
       "      <td>scattered clouds</td>\n",
       "      <td>5545</td>\n",
       "      <td>2012</td>\n",
       "      <td>10</td>\n",
       "      <td>2</td>\n",
       "      <td>9</td>\n",
       "    </tr>\n",
       "    <tr>\n",
       "      <th>1</th>\n",
       "      <td>2012-10-02 10:00:00</td>\n",
       "      <td>None</td>\n",
       "      <td>178</td>\n",
       "      <td>67</td>\n",
       "      <td>3</td>\n",
       "      <td>330</td>\n",
       "      <td>1</td>\n",
       "      <td>1</td>\n",
       "      <td>289.36</td>\n",
       "      <td>0.0</td>\n",
       "      <td>0.0</td>\n",
       "      <td>75</td>\n",
       "      <td>Clouds</td>\n",
       "      <td>broken clouds</td>\n",
       "      <td>4516</td>\n",
       "      <td>2012</td>\n",
       "      <td>10</td>\n",
       "      <td>2</td>\n",
       "      <td>10</td>\n",
       "    </tr>\n",
       "    <tr>\n",
       "      <th>2</th>\n",
       "      <td>2012-10-02 11:00:00</td>\n",
       "      <td>None</td>\n",
       "      <td>113</td>\n",
       "      <td>66</td>\n",
       "      <td>3</td>\n",
       "      <td>329</td>\n",
       "      <td>2</td>\n",
       "      <td>2</td>\n",
       "      <td>289.58</td>\n",
       "      <td>0.0</td>\n",
       "      <td>0.0</td>\n",
       "      <td>90</td>\n",
       "      <td>Clouds</td>\n",
       "      <td>overcast clouds</td>\n",
       "      <td>4767</td>\n",
       "      <td>2012</td>\n",
       "      <td>10</td>\n",
       "      <td>2</td>\n",
       "      <td>11</td>\n",
       "    </tr>\n",
       "    <tr>\n",
       "      <th>3</th>\n",
       "      <td>2012-10-02 12:00:00</td>\n",
       "      <td>None</td>\n",
       "      <td>20</td>\n",
       "      <td>66</td>\n",
       "      <td>3</td>\n",
       "      <td>329</td>\n",
       "      <td>5</td>\n",
       "      <td>5</td>\n",
       "      <td>290.13</td>\n",
       "      <td>0.0</td>\n",
       "      <td>0.0</td>\n",
       "      <td>90</td>\n",
       "      <td>Clouds</td>\n",
       "      <td>overcast clouds</td>\n",
       "      <td>5026</td>\n",
       "      <td>2012</td>\n",
       "      <td>10</td>\n",
       "      <td>2</td>\n",
       "      <td>12</td>\n",
       "    </tr>\n",
       "    <tr>\n",
       "      <th>4</th>\n",
       "      <td>2012-10-02 13:00:00</td>\n",
       "      <td>None</td>\n",
       "      <td>281</td>\n",
       "      <td>65</td>\n",
       "      <td>3</td>\n",
       "      <td>329</td>\n",
       "      <td>7</td>\n",
       "      <td>7</td>\n",
       "      <td>291.14</td>\n",
       "      <td>0.0</td>\n",
       "      <td>0.0</td>\n",
       "      <td>75</td>\n",
       "      <td>Clouds</td>\n",
       "      <td>broken clouds</td>\n",
       "      <td>4918</td>\n",
       "      <td>2012</td>\n",
       "      <td>10</td>\n",
       "      <td>2</td>\n",
       "      <td>13</td>\n",
       "    </tr>\n",
       "  </tbody>\n",
       "</table>\n",
       "</div>"
      ],
      "text/plain": [
       "            date_time is_holiday  air_pollution_index  humidity  wind_speed  \\\n",
       "0 2012-10-02 09:00:00       None                  121        89           2   \n",
       "1 2012-10-02 10:00:00       None                  178        67           3   \n",
       "2 2012-10-02 11:00:00       None                  113        66           3   \n",
       "3 2012-10-02 12:00:00       None                   20        66           3   \n",
       "4 2012-10-02 13:00:00       None                  281        65           3   \n",
       "\n",
       "   wind_direction  visibility_in_miles  dew_point  temperature  rain_p_h  \\\n",
       "0             329                    1          1       288.28       0.0   \n",
       "1             330                    1          1       289.36       0.0   \n",
       "2             329                    2          2       289.58       0.0   \n",
       "3             329                    5          5       290.13       0.0   \n",
       "4             329                    7          7       291.14       0.0   \n",
       "\n",
       "   snow_p_h  clouds_all weather_type weather_description  traffic_volume  \\\n",
       "0       0.0          40       Clouds    scattered clouds            5545   \n",
       "1       0.0          75       Clouds       broken clouds            4516   \n",
       "2       0.0          90       Clouds     overcast clouds            4767   \n",
       "3       0.0          90       Clouds     overcast clouds            5026   \n",
       "4       0.0          75       Clouds       broken clouds            4918   \n",
       "\n",
       "   year  month  day  Hour  \n",
       "0  2012     10    2     9  \n",
       "1  2012     10    2    10  \n",
       "2  2012     10    2    11  \n",
       "3  2012     10    2    12  \n",
       "4  2012     10    2    13  "
      ]
     },
     "execution_count": 10,
     "metadata": {},
     "output_type": "execute_result"
    }
   ],
   "source": [
    "train.head()"
   ]
  },
  {
   "cell_type": "markdown",
   "metadata": {},
   "source": [
    "# Determining day of week and weekends"
   ]
  },
  {
   "cell_type": "code",
   "execution_count": 11,
   "metadata": {},
   "outputs": [],
   "source": [
    "train['day_of_week'] = train['date_time'].dt.dayofweek\n",
    "temp = train['date_time']"
   ]
  },
  {
   "cell_type": "code",
   "execution_count": 12,
   "metadata": {},
   "outputs": [],
   "source": [
    "def weekend_applyer(row):\n",
    "    if row.dayofweek == 5 or row.dayofweek == 6:\n",
    "        return 1\n",
    "    else:\n",
    "        return 0"
   ]
  },
  {
   "cell_type": "code",
   "execution_count": 13,
   "metadata": {},
   "outputs": [],
   "source": [
    "temp2 = train['date_time'].apply(weekend_applyer)\n",
    "train['weekend'] = temp2"
   ]
  },
  {
   "cell_type": "code",
   "execution_count": 14,
   "metadata": {
    "scrolled": false
   },
   "outputs": [
    {
     "data": {
      "text/html": [
       "<div>\n",
       "<style scoped>\n",
       "    .dataframe tbody tr th:only-of-type {\n",
       "        vertical-align: middle;\n",
       "    }\n",
       "\n",
       "    .dataframe tbody tr th {\n",
       "        vertical-align: top;\n",
       "    }\n",
       "\n",
       "    .dataframe thead th {\n",
       "        text-align: right;\n",
       "    }\n",
       "</style>\n",
       "<table border=\"1\" class=\"dataframe\">\n",
       "  <thead>\n",
       "    <tr style=\"text-align: right;\">\n",
       "      <th></th>\n",
       "      <th>date_time</th>\n",
       "      <th>is_holiday</th>\n",
       "      <th>air_pollution_index</th>\n",
       "      <th>humidity</th>\n",
       "      <th>wind_speed</th>\n",
       "      <th>wind_direction</th>\n",
       "      <th>visibility_in_miles</th>\n",
       "      <th>dew_point</th>\n",
       "      <th>temperature</th>\n",
       "      <th>rain_p_h</th>\n",
       "      <th>...</th>\n",
       "      <th>clouds_all</th>\n",
       "      <th>weather_type</th>\n",
       "      <th>weather_description</th>\n",
       "      <th>traffic_volume</th>\n",
       "      <th>year</th>\n",
       "      <th>month</th>\n",
       "      <th>day</th>\n",
       "      <th>Hour</th>\n",
       "      <th>day_of_week</th>\n",
       "      <th>weekend</th>\n",
       "    </tr>\n",
       "  </thead>\n",
       "  <tbody>\n",
       "    <tr>\n",
       "      <th>81</th>\n",
       "      <td>2012-10-06 00:00:00</td>\n",
       "      <td>None</td>\n",
       "      <td>163</td>\n",
       "      <td>23</td>\n",
       "      <td>5</td>\n",
       "      <td>150</td>\n",
       "      <td>6</td>\n",
       "      <td>6</td>\n",
       "      <td>278.81</td>\n",
       "      <td>0.0</td>\n",
       "      <td>...</td>\n",
       "      <td>90</td>\n",
       "      <td>Clouds</td>\n",
       "      <td>overcast clouds</td>\n",
       "      <td>1231</td>\n",
       "      <td>2012</td>\n",
       "      <td>10</td>\n",
       "      <td>6</td>\n",
       "      <td>0</td>\n",
       "      <td>5</td>\n",
       "      <td>1</td>\n",
       "    </tr>\n",
       "    <tr>\n",
       "      <th>82</th>\n",
       "      <td>2012-10-06 01:00:00</td>\n",
       "      <td>None</td>\n",
       "      <td>219</td>\n",
       "      <td>23</td>\n",
       "      <td>5</td>\n",
       "      <td>160</td>\n",
       "      <td>4</td>\n",
       "      <td>4</td>\n",
       "      <td>278.55</td>\n",
       "      <td>0.0</td>\n",
       "      <td>...</td>\n",
       "      <td>90</td>\n",
       "      <td>Clouds</td>\n",
       "      <td>overcast clouds</td>\n",
       "      <td>718</td>\n",
       "      <td>2012</td>\n",
       "      <td>10</td>\n",
       "      <td>6</td>\n",
       "      <td>1</td>\n",
       "      <td>5</td>\n",
       "      <td>1</td>\n",
       "    </tr>\n",
       "    <tr>\n",
       "      <th>83</th>\n",
       "      <td>2012-10-06 02:00:00</td>\n",
       "      <td>None</td>\n",
       "      <td>31</td>\n",
       "      <td>25</td>\n",
       "      <td>4</td>\n",
       "      <td>150</td>\n",
       "      <td>7</td>\n",
       "      <td>7</td>\n",
       "      <td>278.59</td>\n",
       "      <td>0.0</td>\n",
       "      <td>...</td>\n",
       "      <td>90</td>\n",
       "      <td>Clouds</td>\n",
       "      <td>overcast clouds</td>\n",
       "      <td>545</td>\n",
       "      <td>2012</td>\n",
       "      <td>10</td>\n",
       "      <td>6</td>\n",
       "      <td>2</td>\n",
       "      <td>5</td>\n",
       "      <td>1</td>\n",
       "    </tr>\n",
       "    <tr>\n",
       "      <th>84</th>\n",
       "      <td>2012-10-06 04:00:00</td>\n",
       "      <td>None</td>\n",
       "      <td>79</td>\n",
       "      <td>32</td>\n",
       "      <td>2</td>\n",
       "      <td>140</td>\n",
       "      <td>9</td>\n",
       "      <td>9</td>\n",
       "      <td>276.99</td>\n",
       "      <td>0.0</td>\n",
       "      <td>...</td>\n",
       "      <td>75</td>\n",
       "      <td>Clouds</td>\n",
       "      <td>broken clouds</td>\n",
       "      <td>411</td>\n",
       "      <td>2012</td>\n",
       "      <td>10</td>\n",
       "      <td>6</td>\n",
       "      <td>4</td>\n",
       "      <td>5</td>\n",
       "      <td>1</td>\n",
       "    </tr>\n",
       "    <tr>\n",
       "      <th>85</th>\n",
       "      <td>2012-10-06 05:00:00</td>\n",
       "      <td>None</td>\n",
       "      <td>28</td>\n",
       "      <td>30</td>\n",
       "      <td>3</td>\n",
       "      <td>130</td>\n",
       "      <td>7</td>\n",
       "      <td>7</td>\n",
       "      <td>276.35</td>\n",
       "      <td>0.0</td>\n",
       "      <td>...</td>\n",
       "      <td>20</td>\n",
       "      <td>Clouds</td>\n",
       "      <td>few clouds</td>\n",
       "      <td>688</td>\n",
       "      <td>2012</td>\n",
       "      <td>10</td>\n",
       "      <td>6</td>\n",
       "      <td>5</td>\n",
       "      <td>5</td>\n",
       "      <td>1</td>\n",
       "    </tr>\n",
       "  </tbody>\n",
       "</table>\n",
       "<p>5 rows × 21 columns</p>\n",
       "</div>"
      ],
      "text/plain": [
       "             date_time is_holiday  air_pollution_index  humidity  wind_speed  \\\n",
       "81 2012-10-06 00:00:00       None                  163        23           5   \n",
       "82 2012-10-06 01:00:00       None                  219        23           5   \n",
       "83 2012-10-06 02:00:00       None                   31        25           4   \n",
       "84 2012-10-06 04:00:00       None                   79        32           2   \n",
       "85 2012-10-06 05:00:00       None                   28        30           3   \n",
       "\n",
       "    wind_direction  visibility_in_miles  dew_point  temperature  rain_p_h  \\\n",
       "81             150                    6          6       278.81       0.0   \n",
       "82             160                    4          4       278.55       0.0   \n",
       "83             150                    7          7       278.59       0.0   \n",
       "84             140                    9          9       276.99       0.0   \n",
       "85             130                    7          7       276.35       0.0   \n",
       "\n",
       "    ...  clouds_all  weather_type weather_description traffic_volume  year  \\\n",
       "81  ...          90        Clouds     overcast clouds           1231  2012   \n",
       "82  ...          90        Clouds     overcast clouds            718  2012   \n",
       "83  ...          90        Clouds     overcast clouds            545  2012   \n",
       "84  ...          75        Clouds       broken clouds            411  2012   \n",
       "85  ...          20        Clouds          few clouds            688  2012   \n",
       "\n",
       "    month  day  Hour  day_of_week  weekend  \n",
       "81     10    6     0            5        1  \n",
       "82     10    6     1            5        1  \n",
       "83     10    6     2            5        1  \n",
       "84     10    6     4            5        1  \n",
       "85     10    6     5            5        1  \n",
       "\n",
       "[5 rows x 21 columns]"
      ]
     },
     "execution_count": 14,
     "metadata": {},
     "output_type": "execute_result"
    }
   ],
   "source": [
    "train[train['weekend']==1].head()"
   ]
  },
  {
   "cell_type": "code",
   "execution_count": 15,
   "metadata": {},
   "outputs": [],
   "source": [
    "test['day_of_week'] = test['date_time'].dt.dayofweek\n",
    "temp = test['date_time']\n",
    "\n",
    "temp2 = test['date_time'].apply(weekend_applyer)\n",
    "test['weekend'] = temp2"
   ]
  },
  {
   "cell_type": "code",
   "execution_count": 16,
   "metadata": {},
   "outputs": [
    {
     "data": {
      "text/plain": [
       "((14454, 20), (33750, 21))"
      ]
     },
     "execution_count": 16,
     "metadata": {},
     "output_type": "execute_result"
    }
   ],
   "source": [
    "test.shape, train.shape"
   ]
  },
  {
   "cell_type": "code",
   "execution_count": 17,
   "metadata": {},
   "outputs": [],
   "source": [
    "train.index = train['date_time']\n",
    "test.index = test['date_time']"
   ]
  },
  {
   "cell_type": "code",
   "execution_count": 18,
   "metadata": {},
   "outputs": [
    {
     "data": {
      "text/html": [
       "<div>\n",
       "<style scoped>\n",
       "    .dataframe tbody tr th:only-of-type {\n",
       "        vertical-align: middle;\n",
       "    }\n",
       "\n",
       "    .dataframe tbody tr th {\n",
       "        vertical-align: top;\n",
       "    }\n",
       "\n",
       "    .dataframe thead th {\n",
       "        text-align: right;\n",
       "    }\n",
       "</style>\n",
       "<table border=\"1\" class=\"dataframe\">\n",
       "  <thead>\n",
       "    <tr style=\"text-align: right;\">\n",
       "      <th></th>\n",
       "      <th>date_time</th>\n",
       "      <th>is_holiday</th>\n",
       "      <th>air_pollution_index</th>\n",
       "      <th>humidity</th>\n",
       "      <th>wind_speed</th>\n",
       "      <th>wind_direction</th>\n",
       "      <th>visibility_in_miles</th>\n",
       "      <th>dew_point</th>\n",
       "      <th>temperature</th>\n",
       "      <th>rain_p_h</th>\n",
       "      <th>snow_p_h</th>\n",
       "      <th>clouds_all</th>\n",
       "      <th>weather_type</th>\n",
       "      <th>weather_description</th>\n",
       "      <th>year</th>\n",
       "      <th>month</th>\n",
       "      <th>day</th>\n",
       "      <th>Hour</th>\n",
       "      <th>day_of_week</th>\n",
       "      <th>weekend</th>\n",
       "    </tr>\n",
       "    <tr>\n",
       "      <th>date_time</th>\n",
       "      <th></th>\n",
       "      <th></th>\n",
       "      <th></th>\n",
       "      <th></th>\n",
       "      <th></th>\n",
       "      <th></th>\n",
       "      <th></th>\n",
       "      <th></th>\n",
       "      <th></th>\n",
       "      <th></th>\n",
       "      <th></th>\n",
       "      <th></th>\n",
       "      <th></th>\n",
       "      <th></th>\n",
       "      <th></th>\n",
       "      <th></th>\n",
       "      <th></th>\n",
       "      <th></th>\n",
       "      <th></th>\n",
       "      <th></th>\n",
       "    </tr>\n",
       "  </thead>\n",
       "  <tbody>\n",
       "    <tr>\n",
       "      <th>2017-05-18 00:00:00</th>\n",
       "      <td>2017-05-18 00:00:00</td>\n",
       "      <td>None</td>\n",
       "      <td>73</td>\n",
       "      <td>63</td>\n",
       "      <td>1</td>\n",
       "      <td>27</td>\n",
       "      <td>4</td>\n",
       "      <td>4</td>\n",
       "      <td>285.15</td>\n",
       "      <td>0.0</td>\n",
       "      <td>0</td>\n",
       "      <td>90</td>\n",
       "      <td>Rain</td>\n",
       "      <td>moderate rain</td>\n",
       "      <td>2017</td>\n",
       "      <td>5</td>\n",
       "      <td>18</td>\n",
       "      <td>0</td>\n",
       "      <td>3</td>\n",
       "      <td>0</td>\n",
       "    </tr>\n",
       "    <tr>\n",
       "      <th>2017-05-18 00:00:00</th>\n",
       "      <td>2017-05-18 00:00:00</td>\n",
       "      <td>None</td>\n",
       "      <td>251</td>\n",
       "      <td>63</td>\n",
       "      <td>1</td>\n",
       "      <td>27</td>\n",
       "      <td>4</td>\n",
       "      <td>4</td>\n",
       "      <td>285.15</td>\n",
       "      <td>0.0</td>\n",
       "      <td>0</td>\n",
       "      <td>90</td>\n",
       "      <td>Mist</td>\n",
       "      <td>mist</td>\n",
       "      <td>2017</td>\n",
       "      <td>5</td>\n",
       "      <td>18</td>\n",
       "      <td>0</td>\n",
       "      <td>3</td>\n",
       "      <td>0</td>\n",
       "    </tr>\n",
       "    <tr>\n",
       "      <th>2017-05-18 00:00:00</th>\n",
       "      <td>2017-05-18 00:00:00</td>\n",
       "      <td>None</td>\n",
       "      <td>75</td>\n",
       "      <td>56</td>\n",
       "      <td>1</td>\n",
       "      <td>0</td>\n",
       "      <td>1</td>\n",
       "      <td>1</td>\n",
       "      <td>285.15</td>\n",
       "      <td>0.0</td>\n",
       "      <td>0</td>\n",
       "      <td>90</td>\n",
       "      <td>Drizzle</td>\n",
       "      <td>light intensity drizzle</td>\n",
       "      <td>2017</td>\n",
       "      <td>5</td>\n",
       "      <td>18</td>\n",
       "      <td>0</td>\n",
       "      <td>3</td>\n",
       "      <td>0</td>\n",
       "    </tr>\n",
       "    <tr>\n",
       "      <th>2017-05-18 01:00:00</th>\n",
       "      <td>2017-05-18 01:00:00</td>\n",
       "      <td>None</td>\n",
       "      <td>98</td>\n",
       "      <td>56</td>\n",
       "      <td>1</td>\n",
       "      <td>351</td>\n",
       "      <td>2</td>\n",
       "      <td>2</td>\n",
       "      <td>284.79</td>\n",
       "      <td>0.0</td>\n",
       "      <td>0</td>\n",
       "      <td>90</td>\n",
       "      <td>Rain</td>\n",
       "      <td>heavy intensity rain</td>\n",
       "      <td>2017</td>\n",
       "      <td>5</td>\n",
       "      <td>18</td>\n",
       "      <td>1</td>\n",
       "      <td>3</td>\n",
       "      <td>0</td>\n",
       "    </tr>\n",
       "    <tr>\n",
       "      <th>2017-05-18 01:00:00</th>\n",
       "      <td>2017-05-18 01:00:00</td>\n",
       "      <td>None</td>\n",
       "      <td>283</td>\n",
       "      <td>56</td>\n",
       "      <td>1</td>\n",
       "      <td>351</td>\n",
       "      <td>1</td>\n",
       "      <td>1</td>\n",
       "      <td>284.79</td>\n",
       "      <td>0.0</td>\n",
       "      <td>0</td>\n",
       "      <td>90</td>\n",
       "      <td>Mist</td>\n",
       "      <td>mist</td>\n",
       "      <td>2017</td>\n",
       "      <td>5</td>\n",
       "      <td>18</td>\n",
       "      <td>1</td>\n",
       "      <td>3</td>\n",
       "      <td>0</td>\n",
       "    </tr>\n",
       "  </tbody>\n",
       "</table>\n",
       "</div>"
      ],
      "text/plain": [
       "                              date_time is_holiday  air_pollution_index  \\\n",
       "date_time                                                                 \n",
       "2017-05-18 00:00:00 2017-05-18 00:00:00       None                   73   \n",
       "2017-05-18 00:00:00 2017-05-18 00:00:00       None                  251   \n",
       "2017-05-18 00:00:00 2017-05-18 00:00:00       None                   75   \n",
       "2017-05-18 01:00:00 2017-05-18 01:00:00       None                   98   \n",
       "2017-05-18 01:00:00 2017-05-18 01:00:00       None                  283   \n",
       "\n",
       "                     humidity  wind_speed  wind_direction  \\\n",
       "date_time                                                   \n",
       "2017-05-18 00:00:00        63           1              27   \n",
       "2017-05-18 00:00:00        63           1              27   \n",
       "2017-05-18 00:00:00        56           1               0   \n",
       "2017-05-18 01:00:00        56           1             351   \n",
       "2017-05-18 01:00:00        56           1             351   \n",
       "\n",
       "                     visibility_in_miles  dew_point  temperature  rain_p_h  \\\n",
       "date_time                                                                    \n",
       "2017-05-18 00:00:00                    4          4       285.15       0.0   \n",
       "2017-05-18 00:00:00                    4          4       285.15       0.0   \n",
       "2017-05-18 00:00:00                    1          1       285.15       0.0   \n",
       "2017-05-18 01:00:00                    2          2       284.79       0.0   \n",
       "2017-05-18 01:00:00                    1          1       284.79       0.0   \n",
       "\n",
       "                     snow_p_h  clouds_all weather_type  \\\n",
       "date_time                                                \n",
       "2017-05-18 00:00:00         0          90         Rain   \n",
       "2017-05-18 00:00:00         0          90         Mist   \n",
       "2017-05-18 00:00:00         0          90      Drizzle   \n",
       "2017-05-18 01:00:00         0          90         Rain   \n",
       "2017-05-18 01:00:00         0          90         Mist   \n",
       "\n",
       "                         weather_description  year  month  day  Hour  \\\n",
       "date_time                                                              \n",
       "2017-05-18 00:00:00            moderate rain  2017      5   18     0   \n",
       "2017-05-18 00:00:00                     mist  2017      5   18     0   \n",
       "2017-05-18 00:00:00  light intensity drizzle  2017      5   18     0   \n",
       "2017-05-18 01:00:00     heavy intensity rain  2017      5   18     1   \n",
       "2017-05-18 01:00:00                     mist  2017      5   18     1   \n",
       "\n",
       "                     day_of_week  weekend  \n",
       "date_time                                  \n",
       "2017-05-18 00:00:00            3        0  \n",
       "2017-05-18 00:00:00            3        0  \n",
       "2017-05-18 00:00:00            3        0  \n",
       "2017-05-18 01:00:00            3        0  \n",
       "2017-05-18 01:00:00            3        0  "
      ]
     },
     "execution_count": 18,
     "metadata": {},
     "output_type": "execute_result"
    }
   ],
   "source": [
    "test.head()"
   ]
  },
  {
   "cell_type": "markdown",
   "metadata": {},
   "source": [
    "# Exploratory Analysis"
   ]
  },
  {
   "cell_type": "code",
   "execution_count": 19,
   "metadata": {},
   "outputs": [
    {
     "data": {
      "text/plain": [
       "<matplotlib.legend.Legend at 0x170f990be80>"
      ]
     },
     "execution_count": 19,
     "metadata": {},
     "output_type": "execute_result"
    },
    {
     "data": {
      "image/png": "[encoded data removed]",
      "text/plain": [
       "<Figure size 1152x576 with 1 Axes>"
      ]
     },
     "metadata": {
      "needs_background": "light"
     },
     "output_type": "display_data"
    }
   ],
   "source": [
    "df = train.copy()\n",
    "ts = df['traffic_volume']\n",
    "plt.figure(figsize=(16,8))\n",
    "plt.plot(ts, label='Traffic Count')\n",
    "plt.title('Time Series')\n",
    "plt.xlabel(\"Time(year-month)\")\n",
    "plt.ylabel(\"Traffic count\")\n",
    "plt.legend(loc='best')"
   ]
  },
  {
   "cell_type": "code",
   "execution_count": 20,
   "metadata": {},
   "outputs": [
    {
     "data": {
      "text/plain": [
       "<matplotlib.axes._subplots.AxesSubplot at 0x170fa220c88>"
      ]
     },
     "execution_count": 20,
     "metadata": {},
     "output_type": "execute_result"
    },
    {
     "data": {
      "image/png": "[encoded data removed]",
      "text/plain": [
       "<Figure size 432x288 with 1 Axes>"
      ]
     },
     "metadata": {
      "needs_background": "light"
     },
     "output_type": "display_data"
    }
   ],
   "source": [
    "train.groupby('year')['traffic_volume'].mean().plot.bar()"
   ]
  },
  {
   "cell_type": "code",
   "execution_count": 21,
   "metadata": {},
   "outputs": [
    {
     "data": {
      "text/plain": [
       "<matplotlib.axes._subplots.AxesSubplot at 0x170fa5bcef0>"
      ]
     },
     "execution_count": 21,
     "metadata": {},
     "output_type": "execute_result"
    },
    {
     "data": {
      "image/png": "[encoded data removed]",
      "text/plain": [
       "<Figure size 432x288 with 1 Axes>"
      ]
     },
     "metadata": {
      "needs_background": "light"
     },
     "output_type": "display_data"
    }
   ],
   "source": [
    "train.groupby('month')['traffic_volume'].mean().plot.bar()"
   ]
  },
  {
   "cell_type": "code",
   "execution_count": 22,
   "metadata": {},
   "outputs": [
    {
     "data": {
      "text/plain": [
       "<matplotlib.axes._subplots.AxesSubplot at 0x170fa64db70>"
      ]
     },
     "execution_count": 22,
     "metadata": {},
     "output_type": "execute_result"
    },
    {
     "data": {
      "image/png": "[encoded data removed]",
      "text/plain": [
       "<Figure size 432x288 with 1 Axes>"
      ]
     },
     "metadata": {
      "needs_background": "light"
     },
     "output_type": "display_data"
    }
   ],
   "source": [
    "train.groupby('day')['traffic_volume'].mean().plot.bar()"
   ]
  },
  {
   "cell_type": "code",
   "execution_count": 23,
   "metadata": {},
   "outputs": [
    {
     "data": {
      "text/plain": [
       "<matplotlib.axes._subplots.AxesSubplot at 0x170fa213128>"
      ]
     },
     "execution_count": 23,
     "metadata": {},
     "output_type": "execute_result"
    },
    {
     "data": {
      "image/png": "[encoded data removed]",
      "text/plain": [
       "<Figure size 432x288 with 1 Axes>"
      ]
     },
     "metadata": {
      "needs_background": "light"
     },
     "output_type": "display_data"
    }
   ],
   "source": [
    "train.groupby('weekend')['traffic_volume'].mean().plot.bar()"
   ]
  },
  {
   "cell_type": "code",
   "execution_count": 24,
   "metadata": {
    "scrolled": true
   },
   "outputs": [
    {
     "data": {
      "text/plain": [
       "<matplotlib.axes._subplots.AxesSubplot at 0x170fa7af978>"
      ]
     },
     "execution_count": 24,
     "metadata": {},
     "output_type": "execute_result"
    },
    {
     "data": {
      "image/png": "[encoded data removed]",
      "text/plain": [
       "<Figure size 432x288 with 1 Axes>"
      ]
     },
     "metadata": {
      "needs_background": "light"
     },
     "output_type": "display_data"
    }
   ],
   "source": [
    "train.groupby('day_of_week')['traffic_volume'].mean().plot.bar()"
   ]
  },
  {
   "cell_type": "code",
   "execution_count": 25,
   "metadata": {},
   "outputs": [],
   "source": [
    "hourly = train.resample('H').mean() \n",
    "\n",
    "daily = train.resample('D').mean()\n",
    "\n",
    "weekly = train.resample('W').mean() \n",
    "\n",
    "monthly = train.resample('M').mean()"
   ]
  },
  {
   "cell_type": "code",
   "execution_count": 26,
   "metadata": {},
   "outputs": [
    {
     "data": {
      "text/plain": [
       "<matplotlib.axes._subplots.AxesSubplot at 0x17081480a58>"
      ]
     },
     "execution_count": 26,
     "metadata": {},
     "output_type": "execute_result"
    },
    {
     "data": {
      "image/png": "[encoded data removed]",
      "text/plain": [
       "<Figure size 1080x576 with 4 Axes>"
      ]
     },
     "metadata": {
      "needs_background": "light"
     },
     "output_type": "display_data"
    }
   ],
   "source": [
    "fig, axs = plt.subplots(4,1) \n",
    "hourly.traffic_volume.plot(figsize=(15,8), title= 'Hourly', fontsize=14, ax=axs[0])\n",
    "daily.traffic_volume.plot(figsize=(15,8), title= 'Daily', fontsize=14, ax=axs[1])\n",
    "weekly.traffic_volume.plot(figsize=(15,8), title= 'Weekly', fontsize=14, ax=axs[2])\n",
    "monthly.traffic_volume.plot(figsize=(15,8), title= 'Monthly', fontsize=14, ax=axs[3]) "
   ]
  },
  {
   "cell_type": "code",
   "execution_count": 27,
   "metadata": {},
   "outputs": [
    {
     "data": {
      "text/plain": [
       "date_time              datetime64[ns]\n",
       "is_holiday                     object\n",
       "air_pollution_index             int64\n",
       "humidity                        int64\n",
       "wind_speed                      int64\n",
       "wind_direction                  int64\n",
       "visibility_in_miles             int64\n",
       "dew_point                       int64\n",
       "temperature                   float64\n",
       "rain_p_h                      float64\n",
       "snow_p_h                      float64\n",
       "clouds_all                      int64\n",
       "weather_type                   object\n",
       "weather_description            object\n",
       "traffic_volume                  int64\n",
       "year                            int64\n",
       "month                           int64\n",
       "day                             int64\n",
       "Hour                            int64\n",
       "day_of_week                     int64\n",
       "weekend                         int64\n",
       "dtype: object"
      ]
     },
     "execution_count": 27,
     "metadata": {},
     "output_type": "execute_result"
    }
   ],
   "source": [
    "train.dtypes"
   ]
  },
  {
   "cell_type": "code",
   "execution_count": 28,
   "metadata": {},
   "outputs": [
    {
     "data": {
      "text/html": [
       "<div>\n",
       "<style scoped>\n",
       "    .dataframe tbody tr th:only-of-type {\n",
       "        vertical-align: middle;\n",
       "    }\n",
       "\n",
       "    .dataframe tbody tr th {\n",
       "        vertical-align: top;\n",
       "    }\n",
       "\n",
       "    .dataframe thead th {\n",
       "        text-align: right;\n",
       "    }\n",
       "</style>\n",
       "<table border=\"1\" class=\"dataframe\">\n",
       "  <thead>\n",
       "    <tr style=\"text-align: right;\">\n",
       "      <th></th>\n",
       "      <th>date_time</th>\n",
       "      <th>is_holiday</th>\n",
       "      <th>air_pollution_index</th>\n",
       "      <th>humidity</th>\n",
       "      <th>wind_speed</th>\n",
       "      <th>wind_direction</th>\n",
       "      <th>visibility_in_miles</th>\n",
       "      <th>dew_point</th>\n",
       "      <th>temperature</th>\n",
       "      <th>rain_p_h</th>\n",
       "      <th>snow_p_h</th>\n",
       "      <th>clouds_all</th>\n",
       "      <th>weather_type</th>\n",
       "      <th>weather_description</th>\n",
       "      <th>year</th>\n",
       "      <th>month</th>\n",
       "      <th>day</th>\n",
       "      <th>Hour</th>\n",
       "      <th>day_of_week</th>\n",
       "      <th>weekend</th>\n",
       "    </tr>\n",
       "    <tr>\n",
       "      <th>date_time</th>\n",
       "      <th></th>\n",
       "      <th></th>\n",
       "      <th></th>\n",
       "      <th></th>\n",
       "      <th></th>\n",
       "      <th></th>\n",
       "      <th></th>\n",
       "      <th></th>\n",
       "      <th></th>\n",
       "      <th></th>\n",
       "      <th></th>\n",
       "      <th></th>\n",
       "      <th></th>\n",
       "      <th></th>\n",
       "      <th></th>\n",
       "      <th></th>\n",
       "      <th></th>\n",
       "      <th></th>\n",
       "      <th></th>\n",
       "      <th></th>\n",
       "    </tr>\n",
       "  </thead>\n",
       "  <tbody>\n",
       "  </tbody>\n",
       "</table>\n",
       "</div>"
      ],
      "text/plain": [
       "Empty DataFrame\n",
       "Columns: [date_time, is_holiday, air_pollution_index, humidity, wind_speed, wind_direction, visibility_in_miles, dew_point, temperature, rain_p_h, snow_p_h, clouds_all, weather_type, weather_description, year, month, day, Hour, day_of_week, weekend]\n",
       "Index: []"
      ]
     },
     "execution_count": 28,
     "metadata": {},
     "output_type": "execute_result"
    }
   ],
   "source": [
    "test[test['year'] == 2015]"
   ]
  },
  {
   "cell_type": "markdown",
   "metadata": {},
   "source": [
    "# Preprocessing Categorical Data"
   ]
  },
  {
   "cell_type": "code",
   "execution_count": 29,
   "metadata": {},
   "outputs": [],
   "source": [
    "cat_cols = ['is_holiday','weather_type','weather_description']"
   ]
  },
  {
   "cell_type": "code",
   "execution_count": 30,
   "metadata": {
    "scrolled": true
   },
   "outputs": [
    {
     "data": {
      "text/plain": [
       "(12, 12)"
      ]
     },
     "execution_count": 30,
     "metadata": {},
     "output_type": "execute_result"
    }
   ],
   "source": [
    "train['is_holiday'].value_counts().count(), test['is_holiday'].value_counts().count()"
   ]
  },
  {
   "cell_type": "code",
   "execution_count": 31,
   "metadata": {},
   "outputs": [
    {
     "data": {
      "text/plain": [
       "(11, 10)"
      ]
     },
     "execution_count": 31,
     "metadata": {},
     "output_type": "execute_result"
    }
   ],
   "source": [
    "train['weather_type'].value_counts().count(), test['weather_type'].value_counts().count()"
   ]
  },
  {
   "cell_type": "code",
   "execution_count": 32,
   "metadata": {
    "scrolled": true
   },
   "outputs": [
    {
     "data": {
      "text/plain": [
       "(38, 32)"
      ]
     },
     "execution_count": 32,
     "metadata": {},
     "output_type": "execute_result"
    }
   ],
   "source": [
    "train['weather_description'].value_counts().count(), test['weather_description'].value_counts().count()"
   ]
  },
  {
   "cell_type": "code",
   "execution_count": 33,
   "metadata": {},
   "outputs": [
    {
     "data": {
      "text/plain": [
       "<matplotlib.axes._subplots.AxesSubplot at 0x170819db668>"
      ]
     },
     "execution_count": 33,
     "metadata": {},
     "output_type": "execute_result"
    },
    {
     "data": {
      "image/png": "[encoded data removed]",
      "text/plain": [
       "<Figure size 432x288 with 1 Axes>"
      ]
     },
     "metadata": {
      "needs_background": "light"
     },
     "output_type": "display_data"
    }
   ],
   "source": [
    "train.groupby('is_holiday')['traffic_volume'].mean().plot.bar()"
   ]
  },
  {
   "cell_type": "code",
   "execution_count": 34,
   "metadata": {},
   "outputs": [
    {
     "data": {
      "text/plain": [
       "<matplotlib.axes._subplots.AxesSubplot at 0x17081a37588>"
      ]
     },
     "execution_count": 34,
     "metadata": {},
     "output_type": "execute_result"
    },
    {
     "data": {
      "image/png": "[encoded data removed]",
      "text/plain": [
       "<Figure size 432x288 with 1 Axes>"
      ]
     },
     "metadata": {
      "needs_background": "light"
     },
     "output_type": "display_data"
    }
   ],
   "source": [
    "train.groupby('weather_type')['traffic_volume'].mean().plot.bar()"
   ]
  },
  {
   "cell_type": "code",
   "execution_count": 35,
   "metadata": {},
   "outputs": [
    {
     "data": {
      "text/plain": [
       "<matplotlib.axes._subplots.AxesSubplot at 0x17081ace9b0>"
      ]
     },
     "execution_count": 35,
     "metadata": {},
     "output_type": "execute_result"
    },
    {
     "data": {
      "image/png": "[encoded data removed]",
      "text/plain": [
       "<Figure size 432x288 with 1 Axes>"
      ]
     },
     "metadata": {
      "needs_background": "light"
     },
     "output_type": "display_data"
    }
   ],
   "source": [
    "train.groupby('weather_description')['traffic_volume'].mean().plot.bar()"
   ]
  },
  {
   "cell_type": "code",
   "execution_count": 36,
   "metadata": {},
   "outputs": [],
   "source": [
    "for cat_col in cat_cols:\n",
    "    if cat_col == 'is_holiday':\n",
    "        train[cat_col] = train[cat_col].astype('category')\n",
    "        train[cat_col].cat.categories = set(range(1,13))\n",
    "        train[cat_col] = train[cat_col].astype('int')\n",
    "\n",
    "        test[cat_col] = test[cat_col].astype('category')\n",
    "        test[cat_col].cat.categories = set(range(1,13))\n",
    "        test[cat_col] = test[cat_col].astype('int')\n",
    "    elif cat_col == 'weather_type':\n",
    "        train[cat_col] = train[cat_col].astype('category')\n",
    "        train[cat_col].cat.categories = set(range(1,12))\n",
    "        train[cat_col] = train[cat_col].astype('int')\n",
    "\n",
    "        test[cat_col] = test[cat_col].astype('category')\n",
    "        test[cat_col].cat.categories = set(range(1,11))\n",
    "        test[cat_col] = test[cat_col].astype('int')\n",
    "    else:\n",
    "        train[cat_col] = train[cat_col].astype('category')\n",
    "        train[cat_col].cat.categories = set(range(1,39))\n",
    "        train[cat_col] = train[cat_col].astype('int')\n",
    "\n",
    "        test[cat_col] = test[cat_col].astype('category')\n",
    "        test[cat_col].cat.categories = set(range(1,33))\n",
    "        test[cat_col] = test[cat_col].astype('int')"
   ]
  },
  {
   "cell_type": "code",
   "execution_count": 37,
   "metadata": {},
   "outputs": [
    {
     "data": {
      "text/html": [
       "<div>\n",
       "<style scoped>\n",
       "    .dataframe tbody tr th:only-of-type {\n",
       "        vertical-align: middle;\n",
       "    }\n",
       "\n",
       "    .dataframe tbody tr th {\n",
       "        vertical-align: top;\n",
       "    }\n",
       "\n",
       "    .dataframe thead th {\n",
       "        text-align: right;\n",
       "    }\n",
       "</style>\n",
       "<table border=\"1\" class=\"dataframe\">\n",
       "  <thead>\n",
       "    <tr style=\"text-align: right;\">\n",
       "      <th></th>\n",
       "      <th>is_holiday</th>\n",
       "      <th>weather_type</th>\n",
       "      <th>weather_description</th>\n",
       "    </tr>\n",
       "    <tr>\n",
       "      <th>date_time</th>\n",
       "      <th></th>\n",
       "      <th></th>\n",
       "      <th></th>\n",
       "    </tr>\n",
       "  </thead>\n",
       "  <tbody>\n",
       "    <tr>\n",
       "      <th>2012-10-02 09:00:00</th>\n",
       "      <td>8</td>\n",
       "      <td>2</td>\n",
       "      <td>25</td>\n",
       "    </tr>\n",
       "    <tr>\n",
       "      <th>2012-10-02 10:00:00</th>\n",
       "      <td>8</td>\n",
       "      <td>2</td>\n",
       "      <td>3</td>\n",
       "    </tr>\n",
       "    <tr>\n",
       "      <th>2012-10-02 11:00:00</th>\n",
       "      <td>8</td>\n",
       "      <td>2</td>\n",
       "      <td>20</td>\n",
       "    </tr>\n",
       "    <tr>\n",
       "      <th>2012-10-02 12:00:00</th>\n",
       "      <td>8</td>\n",
       "      <td>2</td>\n",
       "      <td>20</td>\n",
       "    </tr>\n",
       "    <tr>\n",
       "      <th>2012-10-02 13:00:00</th>\n",
       "      <td>8</td>\n",
       "      <td>2</td>\n",
       "      <td>3</td>\n",
       "    </tr>\n",
       "  </tbody>\n",
       "</table>\n",
       "</div>"
      ],
      "text/plain": [
       "                     is_holiday  weather_type  weather_description\n",
       "date_time                                                         \n",
       "2012-10-02 09:00:00           8             2                   25\n",
       "2012-10-02 10:00:00           8             2                    3\n",
       "2012-10-02 11:00:00           8             2                   20\n",
       "2012-10-02 12:00:00           8             2                   20\n",
       "2012-10-02 13:00:00           8             2                    3"
      ]
     },
     "execution_count": 37,
     "metadata": {},
     "output_type": "execute_result"
    }
   ],
   "source": [
    "train[cat_cols].head()"
   ]
  },
  {
   "cell_type": "markdown",
   "metadata": {},
   "source": [
    "# Preprocessing Continuous Data"
   ]
  },
  {
   "cell_type": "code",
   "execution_count": 38,
   "metadata": {
    "scrolled": true
   },
   "outputs": [
    {
     "data": {
      "text/html": [
       "<div>\n",
       "<style scoped>\n",
       "    .dataframe tbody tr th:only-of-type {\n",
       "        vertical-align: middle;\n",
       "    }\n",
       "\n",
       "    .dataframe tbody tr th {\n",
       "        vertical-align: top;\n",
       "    }\n",
       "\n",
       "    .dataframe thead th {\n",
       "        text-align: right;\n",
       "    }\n",
       "</style>\n",
       "<table border=\"1\" class=\"dataframe\">\n",
       "  <thead>\n",
       "    <tr style=\"text-align: right;\">\n",
       "      <th></th>\n",
       "      <th>is_holiday</th>\n",
       "      <th>air_pollution_index</th>\n",
       "      <th>humidity</th>\n",
       "      <th>wind_speed</th>\n",
       "      <th>wind_direction</th>\n",
       "      <th>visibility_in_miles</th>\n",
       "      <th>dew_point</th>\n",
       "      <th>temperature</th>\n",
       "      <th>rain_p_h</th>\n",
       "      <th>snow_p_h</th>\n",
       "      <th>clouds_all</th>\n",
       "      <th>weather_type</th>\n",
       "      <th>weather_description</th>\n",
       "      <th>traffic_volume</th>\n",
       "      <th>year</th>\n",
       "      <th>month</th>\n",
       "      <th>day</th>\n",
       "      <th>Hour</th>\n",
       "      <th>day_of_week</th>\n",
       "      <th>weekend</th>\n",
       "    </tr>\n",
       "  </thead>\n",
       "  <tbody>\n",
       "    <tr>\n",
       "      <th>count</th>\n",
       "      <td>33750.000000</td>\n",
       "      <td>33750.000000</td>\n",
       "      <td>33750.000000</td>\n",
       "      <td>33750.000000</td>\n",
       "      <td>33750.000000</td>\n",
       "      <td>33750.000000</td>\n",
       "      <td>33750.000000</td>\n",
       "      <td>33750.000000</td>\n",
       "      <td>33750.000000</td>\n",
       "      <td>33750.000000</td>\n",
       "      <td>33750.000000</td>\n",
       "      <td>33750.000000</td>\n",
       "      <td>33750.000000</td>\n",
       "      <td>33750.000000</td>\n",
       "      <td>33750.000000</td>\n",
       "      <td>33750.000000</td>\n",
       "      <td>33750.000000</td>\n",
       "      <td>33750.000000</td>\n",
       "      <td>33750.000000</td>\n",
       "      <td>33750.000000</td>\n",
       "    </tr>\n",
       "    <tr>\n",
       "      <th>mean</th>\n",
       "      <td>7.997956</td>\n",
       "      <td>154.841422</td>\n",
       "      <td>71.209007</td>\n",
       "      <td>3.378193</td>\n",
       "      <td>199.471852</td>\n",
       "      <td>4.989748</td>\n",
       "      <td>4.989748</td>\n",
       "      <td>280.069587</td>\n",
       "      <td>0.448739</td>\n",
       "      <td>0.000318</td>\n",
       "      <td>50.458785</td>\n",
       "      <td>3.520000</td>\n",
       "      <td>16.959170</td>\n",
       "      <td>3240.118163</td>\n",
       "      <td>2014.639822</td>\n",
       "      <td>6.407674</td>\n",
       "      <td>15.646874</td>\n",
       "      <td>11.404385</td>\n",
       "      <td>2.982667</td>\n",
       "      <td>0.283200</td>\n",
       "    </tr>\n",
       "    <tr>\n",
       "      <th>std</th>\n",
       "      <td>0.143489</td>\n",
       "      <td>83.735515</td>\n",
       "      <td>16.852248</td>\n",
       "      <td>2.055792</td>\n",
       "      <td>99.841088</td>\n",
       "      <td>2.570021</td>\n",
       "      <td>2.570021</td>\n",
       "      <td>13.415256</td>\n",
       "      <td>53.526500</td>\n",
       "      <td>0.009760</td>\n",
       "      <td>38.871734</td>\n",
       "      <td>2.739005</td>\n",
       "      <td>9.081681</td>\n",
       "      <td>1991.487289</td>\n",
       "      <td>1.572845</td>\n",
       "      <td>3.543241</td>\n",
       "      <td>8.700568</td>\n",
       "      <td>6.951078</td>\n",
       "      <td>2.005717</td>\n",
       "      <td>0.450559</td>\n",
       "    </tr>\n",
       "    <tr>\n",
       "      <th>min</th>\n",
       "      <td>1.000000</td>\n",
       "      <td>10.000000</td>\n",
       "      <td>13.000000</td>\n",
       "      <td>0.000000</td>\n",
       "      <td>0.000000</td>\n",
       "      <td>1.000000</td>\n",
       "      <td>1.000000</td>\n",
       "      <td>0.000000</td>\n",
       "      <td>0.000000</td>\n",
       "      <td>0.000000</td>\n",
       "      <td>0.000000</td>\n",
       "      <td>1.000000</td>\n",
       "      <td>1.000000</td>\n",
       "      <td>0.000000</td>\n",
       "      <td>2012.000000</td>\n",
       "      <td>1.000000</td>\n",
       "      <td>1.000000</td>\n",
       "      <td>0.000000</td>\n",
       "      <td>0.000000</td>\n",
       "      <td>0.000000</td>\n",
       "    </tr>\n",
       "    <tr>\n",
       "      <th>25%</th>\n",
       "      <td>8.000000</td>\n",
       "      <td>83.000000</td>\n",
       "      <td>60.000000</td>\n",
       "      <td>2.000000</td>\n",
       "      <td>130.000000</td>\n",
       "      <td>3.000000</td>\n",
       "      <td>3.000000</td>\n",
       "      <td>271.720000</td>\n",
       "      <td>0.000000</td>\n",
       "      <td>0.000000</td>\n",
       "      <td>1.000000</td>\n",
       "      <td>1.000000</td>\n",
       "      <td>8.000000</td>\n",
       "      <td>1165.250000</td>\n",
       "      <td>2013.000000</td>\n",
       "      <td>3.000000</td>\n",
       "      <td>8.000000</td>\n",
       "      <td>5.000000</td>\n",
       "      <td>1.000000</td>\n",
       "      <td>0.000000</td>\n",
       "    </tr>\n",
       "    <tr>\n",
       "      <th>50%</th>\n",
       "      <td>8.000000</td>\n",
       "      <td>155.000000</td>\n",
       "      <td>72.000000</td>\n",
       "      <td>3.000000</td>\n",
       "      <td>200.000000</td>\n",
       "      <td>5.000000</td>\n",
       "      <td>5.000000</td>\n",
       "      <td>280.150000</td>\n",
       "      <td>0.000000</td>\n",
       "      <td>0.000000</td>\n",
       "      <td>64.000000</td>\n",
       "      <td>2.000000</td>\n",
       "      <td>18.000000</td>\n",
       "      <td>3335.000000</td>\n",
       "      <td>2015.000000</td>\n",
       "      <td>6.000000</td>\n",
       "      <td>16.000000</td>\n",
       "      <td>11.000000</td>\n",
       "      <td>3.000000</td>\n",
       "      <td>0.000000</td>\n",
       "    </tr>\n",
       "    <tr>\n",
       "      <th>75%</th>\n",
       "      <td>8.000000</td>\n",
       "      <td>228.000000</td>\n",
       "      <td>85.000000</td>\n",
       "      <td>5.000000</td>\n",
       "      <td>290.000000</td>\n",
       "      <td>7.000000</td>\n",
       "      <td>7.000000</td>\n",
       "      <td>290.620000</td>\n",
       "      <td>0.000000</td>\n",
       "      <td>0.000000</td>\n",
       "      <td>90.000000</td>\n",
       "      <td>6.000000</td>\n",
       "      <td>25.000000</td>\n",
       "      <td>4926.000000</td>\n",
       "      <td>2016.000000</td>\n",
       "      <td>10.000000</td>\n",
       "      <td>23.000000</td>\n",
       "      <td>17.000000</td>\n",
       "      <td>5.000000</td>\n",
       "      <td>1.000000</td>\n",
       "    </tr>\n",
       "    <tr>\n",
       "      <th>max</th>\n",
       "      <td>12.000000</td>\n",
       "      <td>299.000000</td>\n",
       "      <td>100.000000</td>\n",
       "      <td>16.000000</td>\n",
       "      <td>360.000000</td>\n",
       "      <td>9.000000</td>\n",
       "      <td>9.000000</td>\n",
       "      <td>308.240000</td>\n",
       "      <td>9831.300000</td>\n",
       "      <td>0.510000</td>\n",
       "      <td>100.000000</td>\n",
       "      <td>11.000000</td>\n",
       "      <td>38.000000</td>\n",
       "      <td>7280.000000</td>\n",
       "      <td>2017.000000</td>\n",
       "      <td>12.000000</td>\n",
       "      <td>31.000000</td>\n",
       "      <td>23.000000</td>\n",
       "      <td>6.000000</td>\n",
       "      <td>1.000000</td>\n",
       "    </tr>\n",
       "  </tbody>\n",
       "</table>\n",
       "</div>"
      ],
      "text/plain": [
       "         is_holiday  air_pollution_index      humidity    wind_speed  \\\n",
       "count  33750.000000         33750.000000  33750.000000  33750.000000   \n",
       "mean       7.997956           154.841422     71.209007      3.378193   \n",
       "std        0.143489            83.735515     16.852248      2.055792   \n",
       "min        1.000000            10.000000     13.000000      0.000000   \n",
       "25%        8.000000            83.000000     60.000000      2.000000   \n",
       "50%        8.000000           155.000000     72.000000      3.000000   \n",
       "75%        8.000000           228.000000     85.000000      5.000000   \n",
       "max       12.000000           299.000000    100.000000     16.000000   \n",
       "\n",
       "       wind_direction  visibility_in_miles     dew_point   temperature  \\\n",
       "count    33750.000000         33750.000000  33750.000000  33750.000000   \n",
       "mean       199.471852             4.989748      4.989748    280.069587   \n",
       "std         99.841088             2.570021      2.570021     13.415256   \n",
       "min          0.000000             1.000000      1.000000      0.000000   \n",
       "25%        130.000000             3.000000      3.000000    271.720000   \n",
       "50%        200.000000             5.000000      5.000000    280.150000   \n",
       "75%        290.000000             7.000000      7.000000    290.620000   \n",
       "max        360.000000             9.000000      9.000000    308.240000   \n",
       "\n",
       "           rain_p_h      snow_p_h    clouds_all  weather_type  \\\n",
       "count  33750.000000  33750.000000  33750.000000  33750.000000   \n",
       "mean       0.448739      0.000318     50.458785      3.520000   \n",
       "std       53.526500      0.009760     38.871734      2.739005   \n",
       "min        0.000000      0.000000      0.000000      1.000000   \n",
       "25%        0.000000      0.000000      1.000000      1.000000   \n",
       "50%        0.000000      0.000000     64.000000      2.000000   \n",
       "75%        0.000000      0.000000     90.000000      6.000000   \n",
       "max     9831.300000      0.510000    100.000000     11.000000   \n",
       "\n",
       "       weather_description  traffic_volume          year         month  \\\n",
       "count         33750.000000    33750.000000  33750.000000  33750.000000   \n",
       "mean             16.959170     3240.118163   2014.639822      6.407674   \n",
       "std               9.081681     1991.487289      1.572845      3.543241   \n",
       "min               1.000000        0.000000   2012.000000      1.000000   \n",
       "25%               8.000000     1165.250000   2013.000000      3.000000   \n",
       "50%              18.000000     3335.000000   2015.000000      6.000000   \n",
       "75%              25.000000     4926.000000   2016.000000     10.000000   \n",
       "max              38.000000     7280.000000   2017.000000     12.000000   \n",
       "\n",
       "                day          Hour   day_of_week       weekend  \n",
       "count  33750.000000  33750.000000  33750.000000  33750.000000  \n",
       "mean      15.646874     11.404385      2.982667      0.283200  \n",
       "std        8.700568      6.951078      2.005717      0.450559  \n",
       "min        1.000000      0.000000      0.000000      0.000000  \n",
       "25%        8.000000      5.000000      1.000000      0.000000  \n",
       "50%       16.000000     11.000000      3.000000      0.000000  \n",
       "75%       23.000000     17.000000      5.000000      1.000000  \n",
       "max       31.000000     23.000000      6.000000      1.000000  "
      ]
     },
     "execution_count": 38,
     "metadata": {},
     "output_type": "execute_result"
    }
   ],
   "source": [
    "train.describe()"
   ]
  },
  {
   "cell_type": "code",
   "execution_count": 39,
   "metadata": {},
   "outputs": [
    {
     "data": {
      "text/plain": [
       "Index(['date_time', 'is_holiday', 'air_pollution_index', 'humidity',\n",
       "       'wind_speed', 'wind_direction', 'visibility_in_miles', 'dew_point',\n",
       "       'temperature', 'rain_p_h', 'snow_p_h', 'clouds_all', 'weather_type',\n",
       "       'weather_description', 'traffic_volume', 'year', 'month', 'day', 'Hour',\n",
       "       'day_of_week', 'weekend'],\n",
       "      dtype='object')"
      ]
     },
     "execution_count": 39,
     "metadata": {},
     "output_type": "execute_result"
    }
   ],
   "source": [
    "train.columns"
   ]
  },
  {
   "cell_type": "code",
   "execution_count": 40,
   "metadata": {},
   "outputs": [],
   "source": [
    "cols = ['air_pollution_index', 'humidity', 'wind_speed',\n",
    "       'wind_direction', 'visibility_in_miles', 'dew_point', 'temperature',\n",
    "       'rain_p_h', 'snow_p_h', 'clouds_all']"
   ]
  },
  {
   "cell_type": "code",
   "execution_count": 41,
   "metadata": {
    "scrolled": false
   },
   "outputs": [
    {
     "data": {
      "image/png": "[encoded data removed]",
      "text/plain": [
       "<Figure size 1440x720 with 10 Axes>"
      ]
     },
     "metadata": {
      "needs_background": "light"
     },
     "output_type": "display_data"
    }
   ],
   "source": [
    "fig, axarr = plt.subplots(2,5, figsize=(20, 10))\n",
    "k = 0\n",
    "for i in range(0,2):\n",
    "    for j in range(0,5):\n",
    "        train[cols[k]].plot.box(ax=axarr[i][j])\n",
    "        k = k + 1"
   ]
  },
  {
   "cell_type": "code",
   "execution_count": 42,
   "metadata": {},
   "outputs": [
    {
     "data": {
      "image/png": "[encoded data removed]",
      "text/plain": [
       "<Figure size 1440x720 with 10 Axes>"
      ]
     },
     "metadata": {
      "needs_background": "light"
     },
     "output_type": "display_data"
    }
   ],
   "source": [
    "fig, axarr = plt.subplots(2,5, figsize=(20, 10))\n",
    "k = 0\n",
    "for i in range(0,2):\n",
    "    for j in range(0,5):\n",
    "        test[cols[k]].plot.box(ax=axarr[i][j])\n",
    "        k = k + 1"
   ]
  },
  {
   "cell_type": "code",
   "execution_count": 43,
   "metadata": {
    "scrolled": false
   },
   "outputs": [
    {
     "data": {
      "text/html": [
       "<div>\n",
       "<style scoped>\n",
       "    .dataframe tbody tr th:only-of-type {\n",
       "        vertical-align: middle;\n",
       "    }\n",
       "\n",
       "    .dataframe tbody tr th {\n",
       "        vertical-align: top;\n",
       "    }\n",
       "\n",
       "    .dataframe thead th {\n",
       "        text-align: right;\n",
       "    }\n",
       "</style>\n",
       "<table border=\"1\" class=\"dataframe\">\n",
       "  <thead>\n",
       "    <tr style=\"text-align: right;\">\n",
       "      <th></th>\n",
       "      <th>air_pollution_index</th>\n",
       "      <th>humidity</th>\n",
       "      <th>wind_speed</th>\n",
       "      <th>wind_direction</th>\n",
       "      <th>visibility_in_miles</th>\n",
       "      <th>dew_point</th>\n",
       "      <th>temperature</th>\n",
       "      <th>rain_p_h</th>\n",
       "      <th>snow_p_h</th>\n",
       "      <th>clouds_all</th>\n",
       "    </tr>\n",
       "  </thead>\n",
       "  <tbody>\n",
       "    <tr>\n",
       "      <th>count</th>\n",
       "      <td>33750.000000</td>\n",
       "      <td>33750.000000</td>\n",
       "      <td>33750.000000</td>\n",
       "      <td>33750.000000</td>\n",
       "      <td>33750.000000</td>\n",
       "      <td>33750.000000</td>\n",
       "      <td>33750.000000</td>\n",
       "      <td>33750.000000</td>\n",
       "      <td>33750.000000</td>\n",
       "      <td>33750.000000</td>\n",
       "    </tr>\n",
       "    <tr>\n",
       "      <th>mean</th>\n",
       "      <td>154.841422</td>\n",
       "      <td>71.209007</td>\n",
       "      <td>3.378193</td>\n",
       "      <td>199.471852</td>\n",
       "      <td>4.989748</td>\n",
       "      <td>4.989748</td>\n",
       "      <td>280.069587</td>\n",
       "      <td>0.448739</td>\n",
       "      <td>0.000318</td>\n",
       "      <td>50.458785</td>\n",
       "    </tr>\n",
       "    <tr>\n",
       "      <th>std</th>\n",
       "      <td>83.735515</td>\n",
       "      <td>16.852248</td>\n",
       "      <td>2.055792</td>\n",
       "      <td>99.841088</td>\n",
       "      <td>2.570021</td>\n",
       "      <td>2.570021</td>\n",
       "      <td>13.415256</td>\n",
       "      <td>53.526500</td>\n",
       "      <td>0.009760</td>\n",
       "      <td>38.871734</td>\n",
       "    </tr>\n",
       "    <tr>\n",
       "      <th>min</th>\n",
       "      <td>10.000000</td>\n",
       "      <td>13.000000</td>\n",
       "      <td>0.000000</td>\n",
       "      <td>0.000000</td>\n",
       "      <td>1.000000</td>\n",
       "      <td>1.000000</td>\n",
       "      <td>0.000000</td>\n",
       "      <td>0.000000</td>\n",
       "      <td>0.000000</td>\n",
       "      <td>0.000000</td>\n",
       "    </tr>\n",
       "    <tr>\n",
       "      <th>25%</th>\n",
       "      <td>83.000000</td>\n",
       "      <td>60.000000</td>\n",
       "      <td>2.000000</td>\n",
       "      <td>130.000000</td>\n",
       "      <td>3.000000</td>\n",
       "      <td>3.000000</td>\n",
       "      <td>271.720000</td>\n",
       "      <td>0.000000</td>\n",
       "      <td>0.000000</td>\n",
       "      <td>1.000000</td>\n",
       "    </tr>\n",
       "    <tr>\n",
       "      <th>50%</th>\n",
       "      <td>155.000000</td>\n",
       "      <td>72.000000</td>\n",
       "      <td>3.000000</td>\n",
       "      <td>200.000000</td>\n",
       "      <td>5.000000</td>\n",
       "      <td>5.000000</td>\n",
       "      <td>280.150000</td>\n",
       "      <td>0.000000</td>\n",
       "      <td>0.000000</td>\n",
       "      <td>64.000000</td>\n",
       "    </tr>\n",
       "    <tr>\n",
       "      <th>75%</th>\n",
       "      <td>228.000000</td>\n",
       "      <td>85.000000</td>\n",
       "      <td>5.000000</td>\n",
       "      <td>290.000000</td>\n",
       "      <td>7.000000</td>\n",
       "      <td>7.000000</td>\n",
       "      <td>290.620000</td>\n",
       "      <td>0.000000</td>\n",
       "      <td>0.000000</td>\n",
       "      <td>90.000000</td>\n",
       "    </tr>\n",
       "    <tr>\n",
       "      <th>max</th>\n",
       "      <td>299.000000</td>\n",
       "      <td>100.000000</td>\n",
       "      <td>16.000000</td>\n",
       "      <td>360.000000</td>\n",
       "      <td>9.000000</td>\n",
       "      <td>9.000000</td>\n",
       "      <td>308.240000</td>\n",
       "      <td>9831.300000</td>\n",
       "      <td>0.510000</td>\n",
       "      <td>100.000000</td>\n",
       "    </tr>\n",
       "  </tbody>\n",
       "</table>\n",
       "</div>"
      ],
      "text/plain": [
       "       air_pollution_index      humidity    wind_speed  wind_direction  \\\n",
       "count         33750.000000  33750.000000  33750.000000    33750.000000   \n",
       "mean            154.841422     71.209007      3.378193      199.471852   \n",
       "std              83.735515     16.852248      2.055792       99.841088   \n",
       "min              10.000000     13.000000      0.000000        0.000000   \n",
       "25%              83.000000     60.000000      2.000000      130.000000   \n",
       "50%             155.000000     72.000000      3.000000      200.000000   \n",
       "75%             228.000000     85.000000      5.000000      290.000000   \n",
       "max             299.000000    100.000000     16.000000      360.000000   \n",
       "\n",
       "       visibility_in_miles     dew_point   temperature      rain_p_h  \\\n",
       "count         33750.000000  33750.000000  33750.000000  33750.000000   \n",
       "mean              4.989748      4.989748    280.069587      0.448739   \n",
       "std               2.570021      2.570021     13.415256     53.526500   \n",
       "min               1.000000      1.000000      0.000000      0.000000   \n",
       "25%               3.000000      3.000000    271.720000      0.000000   \n",
       "50%               5.000000      5.000000    280.150000      0.000000   \n",
       "75%               7.000000      7.000000    290.620000      0.000000   \n",
       "max               9.000000      9.000000    308.240000   9831.300000   \n",
       "\n",
       "           snow_p_h    clouds_all  \n",
       "count  33750.000000  33750.000000  \n",
       "mean       0.000318     50.458785  \n",
       "std        0.009760     38.871734  \n",
       "min        0.000000      0.000000  \n",
       "25%        0.000000      1.000000  \n",
       "50%        0.000000     64.000000  \n",
       "75%        0.000000     90.000000  \n",
       "max        0.510000    100.000000  "
      ]
     },
     "execution_count": 43,
     "metadata": {},
     "output_type": "execute_result"
    }
   ],
   "source": [
    "train[cols].describe()"
   ]
  },
  {
   "cell_type": "code",
   "execution_count": 44,
   "metadata": {},
   "outputs": [],
   "source": [
    "target_con = ['air_pollution_index', 'humidity', 'wind_speed',\n",
    "       'wind_direction', 'visibility_in_miles', 'dew_point', 'temperature',\n",
    "       'rain_p_h', 'snow_p_h', 'clouds_all','traffic_volume']"
   ]
  },
  {
   "cell_type": "code",
   "execution_count": 45,
   "metadata": {},
   "outputs": [
    {
     "data": {
      "text/plain": [
       "['air_pollution_index',\n",
       " 'humidity',\n",
       " 'wind_speed',\n",
       " 'wind_direction',\n",
       " 'visibility_in_miles',\n",
       " 'dew_point',\n",
       " 'temperature',\n",
       " 'rain_p_h',\n",
       " 'snow_p_h',\n",
       " 'clouds_all',\n",
       " 'traffic_volume']"
      ]
     },
     "execution_count": 45,
     "metadata": {},
     "output_type": "execute_result"
    }
   ],
   "source": [
    "target_con"
   ]
  },
  {
   "cell_type": "code",
   "execution_count": 46,
   "metadata": {
    "scrolled": false
   },
   "outputs": [
    {
     "data": {
      "text/plain": [
       "<matplotlib.axes._subplots.AxesSubplot at 0x1708293b240>"
      ]
     },
     "execution_count": 46,
     "metadata": {},
     "output_type": "execute_result"
    },
    {
     "data": {
      "image/png": "[encoded data removed]",
      "text/plain": [
       "<Figure size 1008x864 with 2 Axes>"
      ]
     },
     "metadata": {
      "needs_background": "light"
     },
     "output_type": "display_data"
    }
   ],
   "source": [
    "plt.figure(figsize=(14,12))\n",
    "sns.heatmap(train[target_con].corr(), annot=True)"
   ]
  },
  {
   "cell_type": "code",
   "execution_count": 47,
   "metadata": {},
   "outputs": [
    {
     "data": {
      "text/plain": [
       "(318.96999999999997, 243.37000000000006)"
      ]
     },
     "execution_count": 47,
     "metadata": {},
     "output_type": "execute_result"
    }
   ],
   "source": [
    "Q1_temperature = train['temperature'].quantile(0.25)\n",
    "Q3_temperature = train['temperature'].quantile(0.75)\n",
    "IQR_temperature = Q3_temperature  - Q1_temperature \n",
    "upper_temperature = Q3_temperature + 1.5 * IQR_temperature\n",
    "lower_temperature = Q1_temperature - 1.5 * IQR_temperature\n",
    "upper_temperature, lower_temperature"
   ]
  },
  {
   "cell_type": "code",
   "execution_count": 48,
   "metadata": {},
   "outputs": [
    {
     "name": "stdout",
     "output_type": "stream",
     "text": [
      "10\n",
      "0\n"
     ]
    }
   ],
   "source": [
    "print(train[train['temperature'] < lower_temperature]['temperature'].count())\n",
    "print(train[train['temperature'] > upper_temperature]['temperature'].count())"
   ]
  },
  {
   "cell_type": "code",
   "execution_count": 49,
   "metadata": {},
   "outputs": [
    {
     "name": "stdout",
     "output_type": "stream",
     "text": [
      "StandardScaler(copy=True, with_mean=True, with_std=True)\n"
     ]
    }
   ],
   "source": [
    "scaler = preprocessing.StandardScaler().fit(train[cols])\n",
    "train[cols] = scaler.transform(train[cols])\n",
    "test[cols] = scaler.transform(test[cols])\n",
    "print(scaler)"
   ]
  },
  {
   "cell_type": "code",
   "execution_count": 50,
   "metadata": {},
   "outputs": [
    {
     "data": {
      "text/html": [
       "<div>\n",
       "<style scoped>\n",
       "    .dataframe tbody tr th:only-of-type {\n",
       "        vertical-align: middle;\n",
       "    }\n",
       "\n",
       "    .dataframe tbody tr th {\n",
       "        vertical-align: top;\n",
       "    }\n",
       "\n",
       "    .dataframe thead th {\n",
       "        text-align: right;\n",
       "    }\n",
       "</style>\n",
       "<table border=\"1\" class=\"dataframe\">\n",
       "  <thead>\n",
       "    <tr style=\"text-align: right;\">\n",
       "      <th></th>\n",
       "      <th>air_pollution_index</th>\n",
       "      <th>humidity</th>\n",
       "      <th>wind_speed</th>\n",
       "      <th>wind_direction</th>\n",
       "      <th>visibility_in_miles</th>\n",
       "      <th>dew_point</th>\n",
       "      <th>temperature</th>\n",
       "      <th>rain_p_h</th>\n",
       "      <th>snow_p_h</th>\n",
       "      <th>clouds_all</th>\n",
       "    </tr>\n",
       "  </thead>\n",
       "  <tbody>\n",
       "    <tr>\n",
       "      <th>count</th>\n",
       "      <td>3.375000e+04</td>\n",
       "      <td>3.375000e+04</td>\n",
       "      <td>3.375000e+04</td>\n",
       "      <td>3.375000e+04</td>\n",
       "      <td>3.375000e+04</td>\n",
       "      <td>3.375000e+04</td>\n",
       "      <td>3.375000e+04</td>\n",
       "      <td>3.375000e+04</td>\n",
       "      <td>3.375000e+04</td>\n",
       "      <td>3.375000e+04</td>\n",
       "    </tr>\n",
       "    <tr>\n",
       "      <th>mean</th>\n",
       "      <td>-1.693542e-16</td>\n",
       "      <td>-3.016353e-17</td>\n",
       "      <td>-6.375818e-15</td>\n",
       "      <td>-2.937436e-16</td>\n",
       "      <td>-1.444770e-16</td>\n",
       "      <td>-1.444770e-16</td>\n",
       "      <td>1.884076e-15</td>\n",
       "      <td>-1.498875e-15</td>\n",
       "      <td>3.239750e-15</td>\n",
       "      <td>1.617712e-14</td>\n",
       "    </tr>\n",
       "    <tr>\n",
       "      <th>std</th>\n",
       "      <td>1.000015e+00</td>\n",
       "      <td>1.000015e+00</td>\n",
       "      <td>1.000015e+00</td>\n",
       "      <td>1.000015e+00</td>\n",
       "      <td>1.000015e+00</td>\n",
       "      <td>1.000015e+00</td>\n",
       "      <td>1.000015e+00</td>\n",
       "      <td>1.000015e+00</td>\n",
       "      <td>1.000015e+00</td>\n",
       "      <td>1.000015e+00</td>\n",
       "    </tr>\n",
       "    <tr>\n",
       "      <th>min</th>\n",
       "      <td>-1.729775e+00</td>\n",
       "      <td>-3.454131e+00</td>\n",
       "      <td>-1.643280e+00</td>\n",
       "      <td>-1.997923e+00</td>\n",
       "      <td>-1.552441e+00</td>\n",
       "      <td>-1.552441e+00</td>\n",
       "      <td>-2.087726e+01</td>\n",
       "      <td>-8.383621e-03</td>\n",
       "      <td>-3.254579e-02</td>\n",
       "      <td>-1.298103e+00</td>\n",
       "    </tr>\n",
       "    <tr>\n",
       "      <th>25%</th>\n",
       "      <td>-8.579691e-01</td>\n",
       "      <td>-6.651441e-01</td>\n",
       "      <td>-6.704049e-01</td>\n",
       "      <td>-6.958346e-01</td>\n",
       "      <td>-7.742261e-01</td>\n",
       "      <td>-7.742261e-01</td>\n",
       "      <td>-6.224042e-01</td>\n",
       "      <td>-8.383621e-03</td>\n",
       "      <td>-3.254579e-02</td>\n",
       "      <td>-1.272377e+00</td>\n",
       "    </tr>\n",
       "    <tr>\n",
       "      <th>50%</th>\n",
       "      <td>1.893822e-03</td>\n",
       "      <td>4.693761e-02</td>\n",
       "      <td>-1.839671e-01</td>\n",
       "      <td>5.289966e-03</td>\n",
       "      <td>3.989074e-03</td>\n",
       "      <td>3.989074e-03</td>\n",
       "      <td>5.994200e-03</td>\n",
       "      <td>-8.383621e-03</td>\n",
       "      <td>-3.254579e-02</td>\n",
       "      <td>3.483615e-01</td>\n",
       "    </tr>\n",
       "    <tr>\n",
       "      <th>75%</th>\n",
       "      <td>8.736993e-01</td>\n",
       "      <td>8.183595e-01</td>\n",
       "      <td>7.889083e-01</td>\n",
       "      <td>9.067358e-01</td>\n",
       "      <td>7.822043e-01</td>\n",
       "      <td>7.822043e-01</td>\n",
       "      <td>7.864605e-01</td>\n",
       "      <td>-8.383621e-03</td>\n",
       "      <td>-3.254579e-02</td>\n",
       "      <td>1.017238e+00</td>\n",
       "    </tr>\n",
       "    <tr>\n",
       "      <th>max</th>\n",
       "      <td>1.721620e+00</td>\n",
       "      <td>1.708462e+00</td>\n",
       "      <td>6.139723e+00</td>\n",
       "      <td>1.607860e+00</td>\n",
       "      <td>1.560420e+00</td>\n",
       "      <td>1.560420e+00</td>\n",
       "      <td>2.099910e+00</td>\n",
       "      <td>1.836660e+02</td>\n",
       "      <td>5.222439e+01</td>\n",
       "      <td>1.274498e+00</td>\n",
       "    </tr>\n",
       "  </tbody>\n",
       "</table>\n",
       "</div>"
      ],
      "text/plain": [
       "       air_pollution_index      humidity    wind_speed  wind_direction  \\\n",
       "count         3.375000e+04  3.375000e+04  3.375000e+04    3.375000e+04   \n",
       "mean         -1.693542e-16 -3.016353e-17 -6.375818e-15   -2.937436e-16   \n",
       "std           1.000015e+00  1.000015e+00  1.000015e+00    1.000015e+00   \n",
       "min          -1.729775e+00 -3.454131e+00 -1.643280e+00   -1.997923e+00   \n",
       "25%          -8.579691e-01 -6.651441e-01 -6.704049e-01   -6.958346e-01   \n",
       "50%           1.893822e-03  4.693761e-02 -1.839671e-01    5.289966e-03   \n",
       "75%           8.736993e-01  8.183595e-01  7.889083e-01    9.067358e-01   \n",
       "max           1.721620e+00  1.708462e+00  6.139723e+00    1.607860e+00   \n",
       "\n",
       "       visibility_in_miles     dew_point   temperature      rain_p_h  \\\n",
       "count         3.375000e+04  3.375000e+04  3.375000e+04  3.375000e+04   \n",
       "mean         -1.444770e-16 -1.444770e-16  1.884076e-15 -1.498875e-15   \n",
       "std           1.000015e+00  1.000015e+00  1.000015e+00  1.000015e+00   \n",
       "min          -1.552441e+00 -1.552441e+00 -2.087726e+01 -8.383621e-03   \n",
       "25%          -7.742261e-01 -7.742261e-01 -6.224042e-01 -8.383621e-03   \n",
       "50%           3.989074e-03  3.989074e-03  5.994200e-03 -8.383621e-03   \n",
       "75%           7.822043e-01  7.822043e-01  7.864605e-01 -8.383621e-03   \n",
       "max           1.560420e+00  1.560420e+00  2.099910e+00  1.836660e+02   \n",
       "\n",
       "           snow_p_h    clouds_all  \n",
       "count  3.375000e+04  3.375000e+04  \n",
       "mean   3.239750e-15  1.617712e-14  \n",
       "std    1.000015e+00  1.000015e+00  \n",
       "min   -3.254579e-02 -1.298103e+00  \n",
       "25%   -3.254579e-02 -1.272377e+00  \n",
       "50%   -3.254579e-02  3.483615e-01  \n",
       "75%   -3.254579e-02  1.017238e+00  \n",
       "max    5.222439e+01  1.274498e+00  "
      ]
     },
     "execution_count": 50,
     "metadata": {},
     "output_type": "execute_result"
    }
   ],
   "source": [
    "train[cols].describe()"
   ]
  },
  {
   "cell_type": "markdown",
   "metadata": {},
   "source": [
    "# Building Model"
   ]
  },
  {
   "cell_type": "code",
   "execution_count": 51,
   "metadata": {},
   "outputs": [],
   "source": [
    "xtrain = train.drop(['date_time','traffic_volume'], axis=1)\n",
    "ytrain = train['traffic_volume']\n",
    "\n",
    "xtest = test.drop(['date_time'],axis=1)"
   ]
  },
  {
   "cell_type": "markdown",
   "metadata": {},
   "source": [
    "    Spliting train data for cross validation"
   ]
  },
  {
   "cell_type": "code",
   "execution_count": 52,
   "metadata": {},
   "outputs": [],
   "source": [
    "x_train, x_valid, y_train, y_valid = train_test_split (xtrain, ytrain, test_size = 0.20, random_state=42)"
   ]
  },
  {
   "cell_type": "markdown",
   "metadata": {},
   "source": [
    "    Using pipeline concept to validate best model for the data"
   ]
  },
  {
   "cell_type": "code",
   "execution_count": 53,
   "metadata": {},
   "outputs": [
    {
     "name": "stdout",
     "output_type": "stream",
     "text": [
      "ScaledLR: -11934748.328214 (26094417.695868)\n",
      "ScaledLASSO: -9959056.630700 (20168157.942860)\n",
      "ScaledEN: -6954261.681692 (10905337.206501)\n",
      "ScaledKNN: -2145085.645910 (47507.253293)\n",
      "ScaledCART: -340613.028630 (22168.797407)\n",
      "ScaledGBM: -320110.448307 (23966.677458)\n",
      "ScaledGBM: -189142.597746 (9763.502433)\n",
      "ScaledLGB: -132088.654965 (8936.049121)\n"
     ]
    }
   ],
   "source": [
    "pipelines = []\n",
    "pipelines.append(('ScaledLR', Pipeline([('Scaler', StandardScaler()),('LR',LinearRegression())])))\n",
    "pipelines.append(('ScaledLASSO', Pipeline([('Scaler', StandardScaler()),('LASSO', Lasso())])))\n",
    "pipelines.append(('ScaledEN', Pipeline([('Scaler', StandardScaler()),('EN', ElasticNet())])))\n",
    "pipelines.append(('ScaledKNN', Pipeline([('Scaler', StandardScaler()),('KNN', KNeighborsRegressor())])))\n",
    "pipelines.append(('ScaledCART', Pipeline([('Scaler', StandardScaler()),('CART', DecisionTreeRegressor())])))\n",
    "pipelines.append(('ScaledGBM', Pipeline([('Scaler', StandardScaler()),('GBM', GradientBoostingRegressor())])))\n",
    "pipelines.append(('ScaledGBM', Pipeline([('Scaler', StandardScaler()),('RFR', RandomForestRegressor())])))\n",
    "pipelines.append(('ScaledLGB', Pipeline([('Scaler', StandardScaler()),('LGB', LGBMRegressor())])))\n",
    "\n",
    "results = []\n",
    "names = []\n",
    "for name, model in pipelines:\n",
    "    kfold = KFold(n_splits=10, random_state=21)\n",
    "    cv_results = cross_val_score(model, x_train, y_train, cv=kfold, scoring='neg_mean_squared_error')\n",
    "    results.append(cv_results)\n",
    "    names.append(name)\n",
    "    msg = \"%s: %f (%f)\" % (name, cv_results.mean(), cv_results.std())\n",
    "    print(msg)"
   ]
  },
  {
   "cell_type": "markdown",
   "metadata": {},
   "source": [
    "    With the above analysis it is scrutinize that LGBMRegressor gives the best mean output"
   ]
  },
  {
   "cell_type": "code",
   "execution_count": 54,
   "metadata": {},
   "outputs": [
    {
     "name": "stdout",
     "output_type": "stream",
     "text": [
      "-161134.286978 (9029.338555) with: {'n_estimators': 50}\n",
      "-132772.510546 (8903.733871) with: {'n_estimators': 100}\n",
      "-115692.061469 (8285.974698) with: {'n_estimators': 200}\n",
      "-109196.436409 (7641.660070) with: {'n_estimators': 300}\n",
      "-105191.246306 (7169.766309) with: {'n_estimators': 400}\n",
      "Best: -105191.246306 using {'n_estimators': 400}\n"
     ]
    }
   ],
   "source": [
    "scaler = StandardScaler().fit(x_train)\n",
    "rescaledX = scaler.transform(x_train)\n",
    "param_grid = dict(n_estimators=np.array([50,100,200,300,400]))\n",
    "model = LGBMRegressor(random_state=21)\n",
    "kfold = KFold(n_splits=10, random_state=21)\n",
    "grid = GridSearchCV(estimator=model, param_grid=param_grid, scoring='neg_mean_squared_error', cv=kfold)\n",
    "grid_result = grid.fit(rescaledX, y_train)\n",
    "\n",
    "means = grid_result.cv_results_['mean_test_score']\n",
    "stds = grid_result.cv_results_['std_test_score']\n",
    "params = grid_result.cv_results_['params']\n",
    "for mean, stdev, param in zip(means, stds, params):\n",
    "    print(\"%f (%f) with: %r\" % (mean, stdev, param))\n",
    "\n",
    "print(\"Best: %f using %s\" % (grid_result.best_score_, grid_result.best_params_))"
   ]
  },
  {
   "cell_type": "markdown",
   "metadata": {},
   "source": [
    "    Apply the LGBM Regressor in the model"
   ]
  },
  {
   "cell_type": "code",
   "execution_count": 55,
   "metadata": {},
   "outputs": [],
   "source": [
    "lreg = LGBMRegressor(random_state=21, n_estimators=400)"
   ]
  },
  {
   "cell_type": "code",
   "execution_count": 56,
   "metadata": {
    "scrolled": false
   },
   "outputs": [
    {
     "data": {
      "text/plain": [
       "LGBMRegressor(boosting_type='gbdt', class_weight=None, colsample_bytree=1.0,\n",
       "              importance_type='split', learning_rate=0.1, max_depth=-1,\n",
       "              min_child_samples=20, min_child_weight=0.001, min_split_gain=0.0,\n",
       "              n_estimators=400, n_jobs=-1, num_leaves=31, objective=None,\n",
       "              random_state=21, reg_alpha=0.0, reg_lambda=0.0, silent=True,\n",
       "              subsample=1.0, subsample_for_bin=200000, subsample_freq=0)"
      ]
     },
     "execution_count": 56,
     "metadata": {},
     "output_type": "execute_result"
    }
   ],
   "source": [
    "lreg.fit(xtrain, ytrain)"
   ]
  },
  {
   "cell_type": "code",
   "execution_count": 57,
   "metadata": {},
   "outputs": [
    {
     "data": {
      "text/plain": [
       "232.9150866400734"
      ]
     },
     "execution_count": 57,
     "metadata": {},
     "output_type": "execute_result"
    }
   ],
   "source": [
    "import math\n",
    "predict_valid = lreg.predict(x_valid)\n",
    "math.sqrt(mean_squared_error(predict_valid, y_valid))"
   ]
  },
  {
   "cell_type": "code",
   "execution_count": 58,
   "metadata": {},
   "outputs": [
    {
     "data": {
      "text/plain": [
       "242.7478967640704"
      ]
     },
     "execution_count": 58,
     "metadata": {},
     "output_type": "execute_result"
    }
   ],
   "source": [
    "predict_train = lreg.predict(xtrain)\n",
    "math.sqrt(mean_squared_error(predict_train, ytrain))"
   ]
  },
  {
   "cell_type": "code",
   "execution_count": 59,
   "metadata": {
    "scrolled": true
   },
   "outputs": [
    {
     "data": {
      "text/plain": [
       "(0.9851417130279392, 1.0)"
      ]
     },
     "execution_count": 59,
     "metadata": {},
     "output_type": "execute_result"
    }
   ],
   "source": [
    "predict_test = lreg.predict(xtest)\n",
    "lreg.score(xtrain, ytrain), lreg.score(xtest, predict_test)"
   ]
  },
  {
   "cell_type": "code",
   "execution_count": 60,
   "metadata": {
    "scrolled": true
   },
   "outputs": [
    {
     "data": {
      "text/plain": [
       "Text(0, 0.5, 'Feature Importance Score')"
      ]
     },
     "execution_count": 60,
     "metadata": {},
     "output_type": "execute_result"
    },
    {
     "data": {
      "image/png": "[encoded data removed]",
      "text/plain": [
       "<Figure size 432x288 with 1 Axes>"
      ]
     },
     "metadata": {
      "needs_background": "light"
     },
     "output_type": "display_data"
    }
   ],
   "source": [
    "feat_imp = pd.Series(lreg.feature_importances_).sort_values(ascending=False)\n",
    "feat_imp.plot.box()\n",
    "plt.ylabel('Feature Importance Score')"
   ]
  },
  {
   "cell_type": "markdown",
   "metadata": {},
   "source": [
    "# Model deployment"
   ]
  },
  {
   "cell_type": "code",
   "execution_count": 61,
   "metadata": {},
   "outputs": [],
   "source": [
    "def clean_dataset(df):\n",
    "    assert isinstance(df, pd.DataFrame), \"df needs to be a pd.DataFrame\"\n",
    "    df.dropna(inplace=True)\n",
    "    indices_to_keep = ~df.isin([np.nan, np.inf, -np.inf]).any(1)\n",
    "    return df[indices_to_keep].astype(np.float64)"
   ]
  },
  {
   "cell_type": "code",
   "execution_count": 62,
   "metadata": {},
   "outputs": [],
   "source": [
    "submission = pd.DataFrame()\n",
    "submission['date_time'] = test_original['date_time']\n",
    "submission['traffic_volume'] = predict_test\n",
    "submission.to_csv('sample.csv', index=False)"
   ]
  },
  {
   "cell_type": "markdown",
   "metadata": {},
   "source": [
    "# Determining Stationarity in the time series model"
   ]
  },
  {
   "cell_type": "markdown",
   "metadata": {},
   "source": [
    "    Function to check whether time series data is stationary or not"
   ]
  },
  {
   "cell_type": "code",
   "execution_count": 63,
   "metadata": {},
   "outputs": [],
   "source": [
    "from statsmodels.tsa.stattools import adfuller\n",
    "def test_stationarity(timeseries):\n",
    "    rolmean = timeseries.rolling(window=365).mean()\n",
    "    rolstd = timeseries.rolling(window=365).std()\n",
    "    \n",
    "    orig = plt.plot(timeseries, color='blue', label='Original')\n",
    "    mean = plt.plot(rolmean, color='red',label='Mean')\n",
    "    std = plt.plot(rolstd, color='black', label='Std')\n",
    "    plt.legend(loc='best')\n",
    "    plt.title('Rolling Mean and Std')\n",
    "    plt.show(block=False)\n",
    "    \n",
    "    print('Result of Dickey Fuller Test')\n",
    "    dftest = adfuller(timeseries['traffic_volume'],autolag='AIC')\n",
    "\n",
    "    dfoutput = pd.Series(dftest[0:4], index=['Test Stats','p-value','#lags used','number of obs use'])\n",
    "    for key, value in dftest[4].items():\n",
    "        dfoutput['Critical Value(%s)'%key] = value\n",
    "\n",
    "    print(dfoutput)"
   ]
  },
  {
   "cell_type": "code",
   "execution_count": 64,
   "metadata": {},
   "outputs": [
    {
     "data": {
      "text/plain": [
       "[<matplotlib.lines.Line2D at 0x170825bcd68>]"
      ]
     },
     "execution_count": 64,
     "metadata": {},
     "output_type": "execute_result"
    },
    {
     "data": {
      "image/png": "[encoded data removed]",
      "text/plain": [
       "<Figure size 432x288 with 1 Axes>"
      ]
     },
     "metadata": {
      "needs_background": "light"
     },
     "output_type": "display_data"
    }
   ],
   "source": [
    "s_train = train_original[['date_time','traffic_volume']]\n",
    "s_train['date_time'] = pd.to_datetime(s_train.date_time,infer_datetime_format=True) \n",
    "s_train = s_train.set_index(['date_time'])\n",
    "s_train.head()\n",
    "plt.xlabel('Data')\n",
    "plt.ylabel('Traffic')\n",
    "plt.plot(s_train)"
   ]
  },
  {
   "cell_type": "code",
   "execution_count": 65,
   "metadata": {},
   "outputs": [
    {
     "data": {
      "image/png": "[encoded data removed]",
      "text/plain": [
       "<Figure size 432x288 with 1 Axes>"
      ]
     },
     "metadata": {
      "needs_background": "light"
     },
     "output_type": "display_data"
    },
    {
     "name": "stdout",
     "output_type": "stream",
     "text": [
      "Result of Dickey Fuller Test\n",
      "Test Stats               -23.779660\n",
      "p-value                    0.000000\n",
      "#lags used                48.000000\n",
      "number of obs use      33701.000000\n",
      "Critical Value(1%)        -3.430544\n",
      "Critical Value(5%)        -2.861626\n",
      "Critical Value(10%)       -2.566816\n",
      "dtype: float64\n"
     ]
    }
   ],
   "source": [
    "test_stationarity(s_train)"
   ]
  },
  {
   "cell_type": "code",
   "execution_count": 66,
   "metadata": {},
   "outputs": [
    {
     "data": {
      "image/png": "[encoded data removed]",
      "text/plain": [
       "<Figure size 432x288 with 1 Axes>"
      ]
     },
     "metadata": {
      "needs_background": "light"
     },
     "output_type": "display_data"
    }
   ],
   "source": [
    "s_train_log = np.log(s_train)\n",
    "plt.plot(s_train_log)\n",
    "rolmean_log = s_train_log.rolling(window=365).mean()\n",
    "rolstd_log = s_train_log.rolling(window=365).std()\n",
    "\n",
    "orig = plt.plot(s_train_log, color='blue', label='Original')\n",
    "mean = plt.plot(rolmean_log, color='red',label='Mean')\n",
    "std = plt.plot(rolstd_log, color='black', label='Std')\n",
    "plt.legend(loc='best')\n",
    "plt.title('Log Rolling Mean and Std')\n",
    "plt.show(block=False)"
   ]
  },
  {
   "cell_type": "code",
   "execution_count": 67,
   "metadata": {},
   "outputs": [
    {
     "data": {
      "text/html": [
       "<div>\n",
       "<style scoped>\n",
       "    .dataframe tbody tr th:only-of-type {\n",
       "        vertical-align: middle;\n",
       "    }\n",
       "\n",
       "    .dataframe tbody tr th {\n",
       "        vertical-align: top;\n",
       "    }\n",
       "\n",
       "    .dataframe thead th {\n",
       "        text-align: right;\n",
       "    }\n",
       "</style>\n",
       "<table border=\"1\" class=\"dataframe\">\n",
       "  <thead>\n",
       "    <tr style=\"text-align: right;\">\n",
       "      <th></th>\n",
       "      <th>traffic_volume</th>\n",
       "    </tr>\n",
       "    <tr>\n",
       "      <th>date_time</th>\n",
       "      <th></th>\n",
       "    </tr>\n",
       "  </thead>\n",
       "  <tbody>\n",
       "    <tr>\n",
       "      <th>2012-10-17 14:00:00</th>\n",
       "      <td>0.518628</td>\n",
       "    </tr>\n",
       "    <tr>\n",
       "      <th>2012-10-17 15:00:00</th>\n",
       "      <td>0.613090</td>\n",
       "    </tr>\n",
       "    <tr>\n",
       "      <th>2012-10-17 16:00:00</th>\n",
       "      <td>0.966998</td>\n",
       "    </tr>\n",
       "    <tr>\n",
       "      <th>2012-10-17 17:00:00</th>\n",
       "      <td>0.882070</td>\n",
       "    </tr>\n",
       "    <tr>\n",
       "      <th>2012-10-17 18:00:00</th>\n",
       "      <td>0.638388</td>\n",
       "    </tr>\n",
       "    <tr>\n",
       "      <th>2012-10-17 19:00:00</th>\n",
       "      <td>0.295854</td>\n",
       "    </tr>\n",
       "    <tr>\n",
       "      <th>2012-10-17 20:00:00</th>\n",
       "      <td>0.135333</td>\n",
       "    </tr>\n",
       "    <tr>\n",
       "      <th>2012-10-17 21:00:00</th>\n",
       "      <td>0.081652</td>\n",
       "    </tr>\n",
       "    <tr>\n",
       "      <th>2012-10-17 22:00:00</th>\n",
       "      <td>-0.274031</td>\n",
       "    </tr>\n",
       "    <tr>\n",
       "      <th>2012-10-17 23:00:00</th>\n",
       "      <td>-0.778726</td>\n",
       "    </tr>\n",
       "  </tbody>\n",
       "</table>\n",
       "</div>"
      ],
      "text/plain": [
       "                     traffic_volume\n",
       "date_time                          \n",
       "2012-10-17 14:00:00        0.518628\n",
       "2012-10-17 15:00:00        0.613090\n",
       "2012-10-17 16:00:00        0.966998\n",
       "2012-10-17 17:00:00        0.882070\n",
       "2012-10-17 18:00:00        0.638388\n",
       "2012-10-17 19:00:00        0.295854\n",
       "2012-10-17 20:00:00        0.135333\n",
       "2012-10-17 21:00:00        0.081652\n",
       "2012-10-17 22:00:00       -0.274031\n",
       "2012-10-17 23:00:00       -0.778726"
      ]
     },
     "execution_count": 67,
     "metadata": {},
     "output_type": "execute_result"
    }
   ],
   "source": [
    "log_movingavg = s_train_log - rolmean_log\n",
    "log_movingavg.head(12)\n",
    "\n",
    "log_movingavg.dropna(inplace=True)\n",
    "log_movingavg.head(10)"
   ]
  },
  {
   "cell_type": "code",
   "execution_count": 68,
   "metadata": {},
   "outputs": [
    {
     "data": {
      "image/png": "[encoded data removed]",
      "text/plain": [
       "<Figure size 432x288 with 1 Axes>"
      ]
     },
     "metadata": {
      "needs_background": "light"
     },
     "output_type": "display_data"
    },
    {
     "name": "stdout",
     "output_type": "stream",
     "text": [
      "Result of Dickey Fuller Test\n",
      "Test Stats               -26.062346\n",
      "p-value                    0.000000\n",
      "#lags used                50.000000\n",
      "number of obs use      32965.000000\n",
      "Critical Value(1%)        -3.430548\n",
      "Critical Value(5%)        -2.861628\n",
      "Critical Value(10%)       -2.566817\n",
      "dtype: float64\n"
     ]
    }
   ],
   "source": [
    "test_stationarity(log_movingavg)"
   ]
  },
  {
   "cell_type": "code",
   "execution_count": 69,
   "metadata": {
    "scrolled": true
   },
   "outputs": [
    {
     "data": {
      "text/plain": [
       "[<matplotlib.lines.Line2D at 0x170824f8f28>]"
      ]
     },
     "execution_count": 69,
     "metadata": {},
     "output_type": "execute_result"
    },
    {
     "data": {
      "image/png": "[encoded data removed]",
      "text/plain": [
       "<Figure size 432x288 with 1 Axes>"
      ]
     },
     "metadata": {
      "needs_background": "light"
     },
     "output_type": "display_data"
    }
   ],
   "source": [
    "exp_weightavg = s_train_log.ewm(halflife=365,min_periods=0, adjust=True).mean()\n",
    "plt.plot(s_train_log)\n",
    "plt.plot(exp_weightavg,color='red')"
   ]
  }
 ],
 "metadata": {
  "kernelspec": {
   "display_name": "Python 3",
   "language": "python",
   "name": "python3"
  },
  "language_info": {
   "codemirror_mode": {
    "name": "ipython",
    "version": 3
   },
   "file_extension": ".py",
   "mimetype": "text/x-python",
   "name": "python",
   "nbconvert_exporter": "python",
   "pygments_lexer": "ipython3",
   "version": "3.7.3"
  }
 },
 "nbformat": 4,
 "nbformat_minor": 2
}
