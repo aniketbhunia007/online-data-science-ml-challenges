{
 "cells": [
  {
   "cell_type": "code",
   "execution_count": 1,
   "metadata": {},
   "outputs": [],
   "source": [
    "import pandas as pd\n",
    "import numpy as np\n",
    "import matplotlib.pyplot as plt\n",
    "%matplotlib inline"
   ]
  },
  {
   "cell_type": "code",
   "execution_count": 2,
   "metadata": {},
   "outputs": [],
   "source": [
    "train = pd.read_csv('Train.csv')\n",
    "test = pd.read_csv('Test.csv')"
   ]
  },
  {
   "cell_type": "code",
   "execution_count": 3,
   "metadata": {},
   "outputs": [
    {
     "name": "stderr",
     "output_type": "stream",
     "text": [
      "C:\\Users\\hungu\\anaconda.x\\lib\\site-packages\\sklearn\\preprocessing\\data.py:645: DataConversionWarning: Data with input dtype int64, float64 were all converted to float64 by StandardScaler.\n",
      "  return self.partial_fit(X, y)\n",
      "C:\\Users\\hungu\\anaconda.x\\lib\\site-packages\\ipykernel_launcher.py:8: DataConversionWarning: Data with input dtype int64, float64 were all converted to float64 by StandardScaler.\n",
      "  \n",
      "C:\\Users\\hungu\\anaconda.x\\lib\\site-packages\\ipykernel_launcher.py:9: DataConversionWarning: Data with input dtype int64, float64 were all converted to float64 by StandardScaler.\n",
      "  if __name__ == '__main__':\n"
     ]
    }
   ],
   "source": [
    "X = train.drop('class', axis=1)\n",
    "y = train['class']\n",
    "X_test = test\n",
    "\n",
    "from sklearn.preprocessing import StandardScaler, MinMaxScaler\n",
    "scaler = StandardScaler()\n",
    "scaler.fit(X)\n",
    "X = pd.DataFrame(scaler.transform(X), columns=test.columns)\n",
    "X_test = pd.DataFrame(scaler.transform(X_test), columns=test.columns)"
   ]
  },
  {
   "cell_type": "code",
   "execution_count": 4,
   "metadata": {},
   "outputs": [],
   "source": [
    "from sklearn.model_selection import train_test_split\n",
    "x_train, x_val, y_train, y_val = train_test_split(X, y, test_size=0.2)"
   ]
  },
  {
   "cell_type": "code",
   "execution_count": 5,
   "metadata": {},
   "outputs": [
    {
     "name": "stderr",
     "output_type": "stream",
     "text": [
      "C:\\Users\\hungu\\anaconda.x\\lib\\site-packages\\sklearn\\ensemble\\forest.py:246: FutureWarning: The default value of n_estimators will change from 10 in version 0.20 to 100 in 0.22.\n",
      "  \"10 in version 0.20 to 100 in 0.22.\", FutureWarning)\n"
     ]
    }
   ],
   "source": [
    "from sklearn.ensemble import RandomForestClassifier\n",
    "model = RandomForestClassifier(random_state=101)\n",
    "\n",
    "model.fit(x_train, y_train)\n",
    "\n",
    "pred_y = model.predict_proba(x_val)"
   ]
  },
  {
   "cell_type": "code",
   "execution_count": 6,
   "metadata": {},
   "outputs": [
    {
     "data": {
      "text/plain": [
       "0.48659927130885877"
      ]
     },
     "execution_count": 6,
     "metadata": {},
     "output_type": "execute_result"
    }
   ],
   "source": [
    "from sklearn.metrics import log_loss, accuracy_score\n",
    "log_loss(y_val, pred_y)"
   ]
  },
  {
   "cell_type": "code",
   "execution_count": 7,
   "metadata": {},
   "outputs": [],
   "source": [
    "from sklearn.model_selection import GridSearchCV\n",
    "\n",
    "param_grid = {\n",
    "    'bootstrap': [True],\n",
    "    'max_depth': [80, 90, 100, 110],\n",
    "    'max_features': [2, 3],\n",
    "    'min_samples_leaf': [3, 4, 5],\n",
    "    'min_samples_split': [8, 10, 12],\n",
    "    'n_estimators': [100, 200, 300, 1000]\n",
    "}\n",
    "grid_search = GridSearchCV(estimator = model, param_grid = param_grid, \n",
    "                          cv = 5, n_jobs = -1, verbose = 10)"
   ]
  },
  {
   "cell_type": "code",
   "execution_count": 8,
   "metadata": {
    "scrolled": true
   },
   "outputs": [
    {
     "name": "stdout",
     "output_type": "stream",
     "text": [
      "Fitting 5 folds for each of 288 candidates, totalling 1440 fits\n"
     ]
    },
    {
     "name": "stderr",
     "output_type": "stream",
     "text": [
      "[Parallel(n_jobs=-1)]: Using backend LokyBackend with 8 concurrent workers.\n",
      "[Parallel(n_jobs=-1)]: Done   2 tasks      | elapsed:   12.3s\n",
      "[Parallel(n_jobs=-1)]: Done   9 tasks      | elapsed:   14.3s\n",
      "[Parallel(n_jobs=-1)]: Done  16 tasks      | elapsed:   18.1s\n",
      "[Parallel(n_jobs=-1)]: Done  25 tasks      | elapsed:   21.9s\n",
      "[Parallel(n_jobs=-1)]: Done  34 tasks      | elapsed:   24.9s\n",
      "[Parallel(n_jobs=-1)]: Done  45 tasks      | elapsed:   29.0s\n",
      "[Parallel(n_jobs=-1)]: Done  56 tasks      | elapsed:   34.5s\n",
      "[Parallel(n_jobs=-1)]: Done  69 tasks      | elapsed:   40.5s\n",
      "[Parallel(n_jobs=-1)]: Done  82 tasks      | elapsed:   44.9s\n",
      "[Parallel(n_jobs=-1)]: Done  97 tasks      | elapsed:   50.9s\n",
      "[Parallel(n_jobs=-1)]: Done 112 tasks      | elapsed:   57.0s\n",
      "[Parallel(n_jobs=-1)]: Done 129 tasks      | elapsed:  1.1min\n",
      "[Parallel(n_jobs=-1)]: Done 146 tasks      | elapsed:  1.2min\n",
      "[Parallel(n_jobs=-1)]: Done 165 tasks      | elapsed:  1.3min\n",
      "[Parallel(n_jobs=-1)]: Done 184 tasks      | elapsed:  1.4min\n",
      "[Parallel(n_jobs=-1)]: Done 205 tasks      | elapsed:  1.6min\n",
      "[Parallel(n_jobs=-1)]: Done 226 tasks      | elapsed:  1.7min\n",
      "[Parallel(n_jobs=-1)]: Done 249 tasks      | elapsed:  1.9min\n",
      "[Parallel(n_jobs=-1)]: Done 272 tasks      | elapsed:  2.0min\n",
      "[Parallel(n_jobs=-1)]: Done 297 tasks      | elapsed:  2.2min\n",
      "[Parallel(n_jobs=-1)]: Done 322 tasks      | elapsed:  2.5min\n",
      "[Parallel(n_jobs=-1)]: Done 349 tasks      | elapsed:  2.6min\n",
      "[Parallel(n_jobs=-1)]: Done 376 tasks      | elapsed:  2.8min\n",
      "[Parallel(n_jobs=-1)]: Done 405 tasks      | elapsed:  3.0min\n",
      "[Parallel(n_jobs=-1)]: Done 434 tasks      | elapsed:  3.2min\n",
      "[Parallel(n_jobs=-1)]: Done 465 tasks      | elapsed:  3.4min\n",
      "[Parallel(n_jobs=-1)]: Done 496 tasks      | elapsed:  3.6min\n",
      "[Parallel(n_jobs=-1)]: Done 529 tasks      | elapsed:  4.0min\n",
      "[Parallel(n_jobs=-1)]: Done 562 tasks      | elapsed:  4.3min\n",
      "[Parallel(n_jobs=-1)]: Done 597 tasks      | elapsed:  4.7min\n",
      "[Parallel(n_jobs=-1)]: Done 632 tasks      | elapsed:  5.0min\n",
      "[Parallel(n_jobs=-1)]: Done 669 tasks      | elapsed:  5.4min\n",
      "[Parallel(n_jobs=-1)]: Done 706 tasks      | elapsed:  5.8min\n",
      "[Parallel(n_jobs=-1)]: Done 745 tasks      | elapsed:  6.2min\n",
      "[Parallel(n_jobs=-1)]: Done 784 tasks      | elapsed:  6.6min\n",
      "[Parallel(n_jobs=-1)]: Done 825 tasks      | elapsed:  7.0min\n",
      "[Parallel(n_jobs=-1)]: Done 866 tasks      | elapsed:  7.4min\n",
      "[Parallel(n_jobs=-1)]: Done 909 tasks      | elapsed:  7.8min\n",
      "[Parallel(n_jobs=-1)]: Done 952 tasks      | elapsed:  8.3min\n",
      "[Parallel(n_jobs=-1)]: Done 997 tasks      | elapsed:  8.7min\n",
      "[Parallel(n_jobs=-1)]: Done 1042 tasks      | elapsed:  9.2min\n",
      "[Parallel(n_jobs=-1)]: Done 1089 tasks      | elapsed:  9.6min\n",
      "[Parallel(n_jobs=-1)]: Done 1136 tasks      | elapsed: 10.1min\n",
      "[Parallel(n_jobs=-1)]: Done 1185 tasks      | elapsed: 10.6min\n",
      "[Parallel(n_jobs=-1)]: Done 1234 tasks      | elapsed: 11.0min\n",
      "[Parallel(n_jobs=-1)]: Done 1285 tasks      | elapsed: 11.5min\n",
      "[Parallel(n_jobs=-1)]: Done 1336 tasks      | elapsed: 12.0min\n",
      "[Parallel(n_jobs=-1)]: Done 1389 tasks      | elapsed: 12.7min\n",
      "[Parallel(n_jobs=-1)]: Done 1440 out of 1440 | elapsed: 13.2min finished\n"
     ]
    },
    {
     "data": {
      "text/plain": [
       "GridSearchCV(cv=5, error_score='raise-deprecating',\n",
       "       estimator=RandomForestClassifier(bootstrap=True, class_weight=None, criterion='gini',\n",
       "            max_depth=None, max_features='auto', max_leaf_nodes=None,\n",
       "            min_impurity_decrease=0.0, min_impurity_split=None,\n",
       "            min_samples_leaf=1, min_samples_split=2,\n",
       "            min_weight_fraction_leaf=0.0, n_estimators=10, n_jobs=None,\n",
       "            oob_score=False, random_state=101, verbose=0, warm_start=False),\n",
       "       fit_params=None, iid='warn', n_jobs=-1,\n",
       "       param_grid={'bootstrap': [True], 'max_depth': [80, 90, 100, 110], 'max_features': [2, 3], 'min_samples_leaf': [3, 4, 5], 'min_samples_split': [8, 10, 12], 'n_estimators': [100, 200, 300, 1000]},\n",
       "       pre_dispatch='2*n_jobs', refit=True, return_train_score='warn',\n",
       "       scoring=None, verbose=10)"
      ]
     },
     "execution_count": 8,
     "metadata": {},
     "output_type": "execute_result"
    }
   ],
   "source": [
    "grid_search.fit(x_train, y_train)"
   ]
  },
  {
   "cell_type": "code",
   "execution_count": 9,
   "metadata": {},
   "outputs": [
    {
     "data": {
      "text/plain": [
       "{'bootstrap': True,\n",
       " 'max_depth': 80,\n",
       " 'max_features': 3,\n",
       " 'min_samples_leaf': 3,\n",
       " 'min_samples_split': 10,\n",
       " 'n_estimators': 100}"
      ]
     },
     "execution_count": 9,
     "metadata": {},
     "output_type": "execute_result"
    }
   ],
   "source": [
    "grid_search.best_params_"
   ]
  },
  {
   "cell_type": "code",
   "execution_count": 10,
   "metadata": {},
   "outputs": [
    {
     "name": "stdout",
     "output_type": "stream",
     "text": [
      "1 err_rf:  0.29051705681662304\n",
      "2 err_rf:  0.33565480982377\n",
      "3 err_rf:  0.2733566255427439\n",
      "4 err_rf:  0.29965259592028853\n",
      "5 err_rf:  0.2659786853895329\n",
      "6 err_rf:  0.2718315343899585\n",
      "7 err_rf:  0.32057062008991694\n",
      "8 err_rf:  0.2653821243059303\n",
      "9 err_rf:  0.2938860856764548\n",
      "10 err_rf:  0.40269728552467143\n",
      "11 err_rf:  0.27368675309712504\n",
      "12 err_rf:  0.27846463278024813\n",
      "13 err_rf:  0.24069633097806692\n",
      "14 err_rf:  0.28043431443400446\n",
      "15 err_rf:  0.2949724699800946\n",
      "16 err_rf:  0.3736332927289014\n",
      "17 err_rf:  0.35816658036930377\n",
      "18 err_rf:  0.33216771200840967\n",
      "19 err_rf:  0.3526668448628008\n",
      "20 err_rf:  0.320985403376823\n"
     ]
    }
   ],
   "source": [
    "err = []\n",
    "y_pred_tot_rf = []\n",
    "features = [col for col in X.columns if col not in [\"class\"]]\n",
    "\n",
    "from sklearn.model_selection import StratifiedKFold, KFold\n",
    "feature_importance_df = pd.DataFrame()\n",
    "\n",
    "fold = StratifiedKFold(n_splits=20, shuffle=True)\n",
    "i = 1\n",
    "for train_index, test_index in fold.split(X, y):\n",
    "    x_train, x_val = X.iloc[train_index], X.iloc[test_index]\n",
    "    y_train, y_val = y[train_index], y[test_index]\n",
    "    m = RandomForestClassifier(random_state=101, \n",
    "                               max_depth=14, \n",
    "                               n_estimators=100,\n",
    "                               max_features=5, \n",
    "                               min_samples_leaf=4, \n",
    "                               min_samples_split=10)\n",
    "    m.fit(x_train, y_train)\n",
    "    pred_y = m.predict_proba(x_val)\n",
    "    print(i, \"err_rf: \",log_loss(y_val,pred_y))\n",
    "    \n",
    "    fold_importance_df = pd.DataFrame()\n",
    "    fold_importance_df[\"Feature\"] = features\n",
    "    fold_importance_df[\"importance\"] = m.feature_importances_\n",
    "    fold_importance_df[\"fold\"] = i + 1\n",
    "    feature_importance_df = pd.concat([feature_importance_df, fold_importance_df], axis=0)\n",
    "    \n",
    "    err.append(log_loss(y_val, pred_y))\n",
    "    pred_test = m.predict_proba(X_test)\n",
    "    i = i + 1\n",
    "    y_pred_tot_rf.append(pred_test)"
   ]
  },
  {
   "cell_type": "code",
   "execution_count": 11,
   "metadata": {},
   "outputs": [
    {
     "data": {
      "text/plain": [
       "0.3062700879047834"
      ]
     },
     "execution_count": 11,
     "metadata": {},
     "output_type": "execute_result"
    }
   ],
   "source": [
    "np.mean(err,0)"
   ]
  },
  {
   "cell_type": "code",
   "execution_count": 12,
   "metadata": {},
   "outputs": [
    {
     "data": {
      "text/html": [
       "<div>\n",
       "<style scoped>\n",
       "    .dataframe tbody tr th:only-of-type {\n",
       "        vertical-align: middle;\n",
       "    }\n",
       "\n",
       "    .dataframe tbody tr th {\n",
       "        vertical-align: top;\n",
       "    }\n",
       "\n",
       "    .dataframe thead th {\n",
       "        text-align: right;\n",
       "    }\n",
       "</style>\n",
       "<table border=\"1\" class=\"dataframe\">\n",
       "  <thead>\n",
       "    <tr style=\"text-align: right;\">\n",
       "      <th></th>\n",
       "      <th>Feature</th>\n",
       "      <th>importance</th>\n",
       "    </tr>\n",
       "  </thead>\n",
       "  <tbody>\n",
       "    <tr>\n",
       "      <th>0</th>\n",
       "      <td>thickness</td>\n",
       "      <td>0.152570</td>\n",
       "    </tr>\n",
       "    <tr>\n",
       "      <th>1</th>\n",
       "      <td>x_component_3</td>\n",
       "      <td>0.122893</td>\n",
       "    </tr>\n",
       "    <tr>\n",
       "      <th>2</th>\n",
       "      <td>x_component_1</td>\n",
       "      <td>0.109949</td>\n",
       "    </tr>\n",
       "    <tr>\n",
       "      <th>3</th>\n",
       "      <td>x_component_2</td>\n",
       "      <td>0.100230</td>\n",
       "    </tr>\n",
       "    <tr>\n",
       "      <th>4</th>\n",
       "      <td>pixel_area</td>\n",
       "      <td>0.063763</td>\n",
       "    </tr>\n",
       "    <tr>\n",
       "      <th>5</th>\n",
       "      <td>max_luminosity</td>\n",
       "      <td>0.061683</td>\n",
       "    </tr>\n",
       "    <tr>\n",
       "      <th>6</th>\n",
       "      <td>log_area</td>\n",
       "      <td>0.058591</td>\n",
       "    </tr>\n",
       "    <tr>\n",
       "      <th>7</th>\n",
       "      <td>ymax</td>\n",
       "      <td>0.057800</td>\n",
       "    </tr>\n",
       "    <tr>\n",
       "      <th>8</th>\n",
       "      <td>xmin</td>\n",
       "      <td>0.055308</td>\n",
       "    </tr>\n",
       "    <tr>\n",
       "      <th>9</th>\n",
       "      <td>ymin</td>\n",
       "      <td>0.053672</td>\n",
       "    </tr>\n",
       "    <tr>\n",
       "      <th>10</th>\n",
       "      <td>xmax</td>\n",
       "      <td>0.051430</td>\n",
       "    </tr>\n",
       "    <tr>\n",
       "      <th>11</th>\n",
       "      <td>x_component_4</td>\n",
       "      <td>0.042180</td>\n",
       "    </tr>\n",
       "    <tr>\n",
       "      <th>12</th>\n",
       "      <td>x_component_5</td>\n",
       "      <td>0.030201</td>\n",
       "    </tr>\n",
       "    <tr>\n",
       "      <th>13</th>\n",
       "      <td>grade_A_Component_2</td>\n",
       "      <td>0.021115</td>\n",
       "    </tr>\n",
       "    <tr>\n",
       "      <th>14</th>\n",
       "      <td>grade_A_Component_1</td>\n",
       "      <td>0.018614</td>\n",
       "    </tr>\n",
       "  </tbody>\n",
       "</table>\n",
       "</div>"
      ],
      "text/plain": [
       "                Feature  importance\n",
       "0             thickness    0.152570\n",
       "1         x_component_3    0.122893\n",
       "2         x_component_1    0.109949\n",
       "3         x_component_2    0.100230\n",
       "4            pixel_area    0.063763\n",
       "5        max_luminosity    0.061683\n",
       "6              log_area    0.058591\n",
       "7                  ymax    0.057800\n",
       "8                  xmin    0.055308\n",
       "9                  ymin    0.053672\n",
       "10                 xmax    0.051430\n",
       "11        x_component_4    0.042180\n",
       "12        x_component_5    0.030201\n",
       "13  grade_A_Component_2    0.021115\n",
       "14  grade_A_Component_1    0.018614"
      ]
     },
     "execution_count": 12,
     "metadata": {},
     "output_type": "execute_result"
    }
   ],
   "source": [
    "all_feat = feature_importance_df[[\"Feature\", \n",
    "                                      \"importance\"]].groupby(\"Feature\").mean().sort_values(by=\"importance\", \n",
    "                                                                                           ascending=False)\n",
    "all_feat.reset_index(inplace=True)\n",
    "important_feat = list(all_feat['Feature'])\n",
    "all_feat"
   ]
  },
  {
   "cell_type": "code",
   "execution_count": 13,
   "metadata": {},
   "outputs": [
    {
     "name": "stdout",
     "output_type": "stream",
     "text": [
      "4\n",
      "['log_area', 'ymin', 'xmax', 'grade_A_Component_1']\n"
     ]
    }
   ],
   "source": [
    "df = X[important_feat]\n",
    "corr_matrix = df.corr().abs()\n",
    "\n",
    "upper = corr_matrix.where(np.triu(np.ones(corr_matrix.shape), k=1).astype(np.bool))\n",
    "\n",
    "high_cor = [column for column in upper.columns if any(upper[column] > 0.98)]\n",
    "print(len(high_cor))\n",
    "print(high_cor)"
   ]
  },
  {
   "cell_type": "code",
   "execution_count": 14,
   "metadata": {},
   "outputs": [
    {
     "name": "stdout",
     "output_type": "stream",
     "text": [
      "11\n",
      "['thickness', 'x_component_3', 'x_component_1', 'x_component_2', 'pixel_area', 'max_luminosity', 'ymax', 'xmin', 'x_component_4', 'x_component_5', 'grade_A_Component_2']\n"
     ]
    }
   ],
   "source": [
    "features = [i for i in important_feat if i not in high_cor]\n",
    "print(len(features))\n",
    "print(features)"
   ]
  },
  {
   "cell_type": "code",
   "execution_count": 15,
   "metadata": {},
   "outputs": [],
   "source": [
    "X1 = X[features]\n",
    "X_test1 = X_test[features]"
   ]
  },
  {
   "cell_type": "code",
   "execution_count": 16,
   "metadata": {},
   "outputs": [
    {
     "name": "stdout",
     "output_type": "stream",
     "text": [
      "1 err_rf:  0.32273478823009155\n",
      "2 err_rf:  0.23505470509668303\n",
      "3 err_rf:  0.2654790349690291\n",
      "4 err_rf:  0.29653864069291913\n",
      "5 err_rf:  0.21976938987873237\n",
      "6 err_rf:  0.2916006308303248\n",
      "7 err_rf:  0.33740261455361453\n",
      "8 err_rf:  0.3158662438223235\n",
      "9 err_rf:  0.2430956945709848\n",
      "10 err_rf:  0.29552729898983027\n",
      "11 err_rf:  0.3154664143069259\n",
      "12 err_rf:  0.2538934823968646\n",
      "13 err_rf:  0.37052473777772055\n",
      "14 err_rf:  0.30298160331384066\n",
      "15 err_rf:  0.23624221121372924\n",
      "16 err_rf:  0.27522762297133085\n",
      "17 err_rf:  0.286161109078772\n",
      "18 err_rf:  0.3951802199334562\n",
      "19 err_rf:  0.28347974224962585\n",
      "20 err_rf:  0.35176617186295095\n"
     ]
    }
   ],
   "source": [
    "err = []\n",
    "y_pred_tot_rf = []\n",
    "\n",
    "from sklearn.model_selection import StratifiedKFold, KFold\n",
    "\n",
    "fold = StratifiedKFold(n_splits=20, shuffle=True)\n",
    "i = 1\n",
    "for train_index, test_index in fold.split(X1, y):\n",
    "    x_train, x_val = X1.iloc[train_index], X1.iloc[test_index]\n",
    "    y_train, y_val = y[train_index], y[test_index]\n",
    "    m = RandomForestClassifier(random_state=101, \n",
    "                               max_depth=14, \n",
    "                               n_estimators=100,\n",
    "                               max_features=5, \n",
    "                               min_samples_leaf=4, \n",
    "                               min_samples_split=10)\n",
    "    m.fit(x_train, y_train)\n",
    "    pred_y = m.predict_proba(x_val)\n",
    "    print(i, \"err_rf: \",log_loss(y_val,pred_y))\n",
    "    \n",
    "    \n",
    "    err.append(log_loss(y_val, pred_y))\n",
    "    pred_test = m.predict_proba(X_test1)\n",
    "    i = i + 1\n",
    "    y_pred_tot_rf.append(pred_test)"
   ]
  },
  {
   "cell_type": "code",
   "execution_count": 17,
   "metadata": {},
   "outputs": [
    {
     "data": {
      "text/plain": [
       "(0.2946996178369875, 0.3951802199334562)"
      ]
     },
     "execution_count": 17,
     "metadata": {},
     "output_type": "execute_result"
    }
   ],
   "source": [
    "np.mean(err,0), err[17]"
   ]
  },
  {
   "cell_type": "code",
   "execution_count": 18,
   "metadata": {},
   "outputs": [],
   "source": [
    "submission = pd.DataFrame(y_pred_tot_rf[17])\n",
    "submission.columns = [1,2]\n",
    "submission.to_excel('Submission.xlsx', index=False)"
   ]
  },
  {
   "cell_type": "code",
   "execution_count": 19,
   "metadata": {},
   "outputs": [
    {
     "data": {
      "text/html": [
       "<div>\n",
       "<style scoped>\n",
       "    .dataframe tbody tr th:only-of-type {\n",
       "        vertical-align: middle;\n",
       "    }\n",
       "\n",
       "    .dataframe tbody tr th {\n",
       "        vertical-align: top;\n",
       "    }\n",
       "\n",
       "    .dataframe thead th {\n",
       "        text-align: right;\n",
       "    }\n",
       "</style>\n",
       "<table border=\"1\" class=\"dataframe\">\n",
       "  <thead>\n",
       "    <tr style=\"text-align: right;\">\n",
       "      <th></th>\n",
       "      <th>1</th>\n",
       "      <th>2</th>\n",
       "    </tr>\n",
       "  </thead>\n",
       "  <tbody>\n",
       "    <tr>\n",
       "      <th>0</th>\n",
       "      <td>0.998932</td>\n",
       "      <td>0.001068</td>\n",
       "    </tr>\n",
       "    <tr>\n",
       "      <th>1</th>\n",
       "      <td>0.193785</td>\n",
       "      <td>0.806215</td>\n",
       "    </tr>\n",
       "    <tr>\n",
       "      <th>2</th>\n",
       "      <td>0.960268</td>\n",
       "      <td>0.039732</td>\n",
       "    </tr>\n",
       "    <tr>\n",
       "      <th>3</th>\n",
       "      <td>1.000000</td>\n",
       "      <td>0.000000</td>\n",
       "    </tr>\n",
       "    <tr>\n",
       "      <th>4</th>\n",
       "      <td>0.475845</td>\n",
       "      <td>0.524155</td>\n",
       "    </tr>\n",
       "  </tbody>\n",
       "</table>\n",
       "</div>"
      ],
      "text/plain": [
       "          1         2\n",
       "0  0.998932  0.001068\n",
       "1  0.193785  0.806215\n",
       "2  0.960268  0.039732\n",
       "3  1.000000  0.000000\n",
       "4  0.475845  0.524155"
      ]
     },
     "execution_count": 19,
     "metadata": {},
     "output_type": "execute_result"
    }
   ],
   "source": [
    "submission.head()"
   ]
  }
 ],
 "metadata": {
  "kernelspec": {
   "display_name": "Python 3",
   "language": "python",
   "name": "python3"
  },
  "language_info": {
   "codemirror_mode": {
    "name": "ipython",
    "version": 3
   },
   "file_extension": ".py",
   "mimetype": "text/x-python",
   "name": "python",
   "nbconvert_exporter": "python",
   "pygments_lexer": "ipython3",
   "version": "3.7.3"
  }
 },
 "nbformat": 4,
 "nbformat_minor": 2
}
