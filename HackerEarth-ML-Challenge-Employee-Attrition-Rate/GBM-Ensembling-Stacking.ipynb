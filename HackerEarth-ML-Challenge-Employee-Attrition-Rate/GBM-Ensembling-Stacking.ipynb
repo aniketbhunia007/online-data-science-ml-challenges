{
 "cells": [
  {
   "cell_type": "code",
   "execution_count": 1,
   "metadata": {},
   "outputs": [],
   "source": [
    "import pandas as pd\n",
    "import numpy as np"
   ]
  },
  {
   "cell_type": "code",
   "execution_count": 2,
   "metadata": {},
   "outputs": [],
   "source": [
    "train = pd.read_csv('Train.csv')\n",
    "test = pd.read_csv('Test.csv')"
   ]
  },
  {
   "cell_type": "code",
   "execution_count": 3,
   "metadata": {},
   "outputs": [
    {
     "data": {
      "text/html": [
       "<div>\n",
       "<style scoped>\n",
       "    .dataframe tbody tr th:only-of-type {\n",
       "        vertical-align: middle;\n",
       "    }\n",
       "\n",
       "    .dataframe tbody tr th {\n",
       "        vertical-align: top;\n",
       "    }\n",
       "\n",
       "    .dataframe thead th {\n",
       "        text-align: right;\n",
       "    }\n",
       "</style>\n",
       "<table border=\"1\" class=\"dataframe\">\n",
       "  <thead>\n",
       "    <tr style=\"text-align: right;\">\n",
       "      <th></th>\n",
       "      <th>Employee_ID</th>\n",
       "      <th>Gender</th>\n",
       "      <th>Age</th>\n",
       "      <th>Education_Level</th>\n",
       "      <th>Relationship_Status</th>\n",
       "      <th>Hometown</th>\n",
       "      <th>Unit</th>\n",
       "      <th>Decision_skill_possess</th>\n",
       "      <th>Time_of_service</th>\n",
       "      <th>Time_since_promotion</th>\n",
       "      <th>...</th>\n",
       "      <th>Compensation_and_Benefits</th>\n",
       "      <th>Work_Life_balance</th>\n",
       "      <th>VAR1</th>\n",
       "      <th>VAR2</th>\n",
       "      <th>VAR3</th>\n",
       "      <th>VAR4</th>\n",
       "      <th>VAR5</th>\n",
       "      <th>VAR6</th>\n",
       "      <th>VAR7</th>\n",
       "      <th>Attrition_rate</th>\n",
       "    </tr>\n",
       "  </thead>\n",
       "  <tbody>\n",
       "    <tr>\n",
       "      <th>0</th>\n",
       "      <td>EID_23371</td>\n",
       "      <td>F</td>\n",
       "      <td>42.0</td>\n",
       "      <td>4</td>\n",
       "      <td>Married</td>\n",
       "      <td>Franklin</td>\n",
       "      <td>IT</td>\n",
       "      <td>Conceptual</td>\n",
       "      <td>4.0</td>\n",
       "      <td>4</td>\n",
       "      <td>...</td>\n",
       "      <td>type2</td>\n",
       "      <td>3.0</td>\n",
       "      <td>4</td>\n",
       "      <td>0.7516</td>\n",
       "      <td>1.8688</td>\n",
       "      <td>2.0</td>\n",
       "      <td>4</td>\n",
       "      <td>5</td>\n",
       "      <td>3</td>\n",
       "      <td>0.1841</td>\n",
       "    </tr>\n",
       "    <tr>\n",
       "      <th>1</th>\n",
       "      <td>EID_18000</td>\n",
       "      <td>M</td>\n",
       "      <td>24.0</td>\n",
       "      <td>3</td>\n",
       "      <td>Single</td>\n",
       "      <td>Springfield</td>\n",
       "      <td>Logistics</td>\n",
       "      <td>Analytical</td>\n",
       "      <td>5.0</td>\n",
       "      <td>4</td>\n",
       "      <td>...</td>\n",
       "      <td>type2</td>\n",
       "      <td>4.0</td>\n",
       "      <td>3</td>\n",
       "      <td>-0.9612</td>\n",
       "      <td>-0.4537</td>\n",
       "      <td>2.0</td>\n",
       "      <td>3</td>\n",
       "      <td>5</td>\n",
       "      <td>3</td>\n",
       "      <td>0.0670</td>\n",
       "    </tr>\n",
       "    <tr>\n",
       "      <th>2</th>\n",
       "      <td>EID_3891</td>\n",
       "      <td>F</td>\n",
       "      <td>58.0</td>\n",
       "      <td>3</td>\n",
       "      <td>Married</td>\n",
       "      <td>Clinton</td>\n",
       "      <td>Quality</td>\n",
       "      <td>Conceptual</td>\n",
       "      <td>27.0</td>\n",
       "      <td>3</td>\n",
       "      <td>...</td>\n",
       "      <td>type2</td>\n",
       "      <td>1.0</td>\n",
       "      <td>4</td>\n",
       "      <td>-0.9612</td>\n",
       "      <td>-0.4537</td>\n",
       "      <td>3.0</td>\n",
       "      <td>3</td>\n",
       "      <td>8</td>\n",
       "      <td>3</td>\n",
       "      <td>0.0851</td>\n",
       "    </tr>\n",
       "    <tr>\n",
       "      <th>3</th>\n",
       "      <td>EID_17492</td>\n",
       "      <td>F</td>\n",
       "      <td>26.0</td>\n",
       "      <td>3</td>\n",
       "      <td>Single</td>\n",
       "      <td>Lebanon</td>\n",
       "      <td>Human Resource Management</td>\n",
       "      <td>Behavioral</td>\n",
       "      <td>4.0</td>\n",
       "      <td>3</td>\n",
       "      <td>...</td>\n",
       "      <td>type2</td>\n",
       "      <td>1.0</td>\n",
       "      <td>3</td>\n",
       "      <td>-1.8176</td>\n",
       "      <td>-0.4537</td>\n",
       "      <td>NaN</td>\n",
       "      <td>3</td>\n",
       "      <td>7</td>\n",
       "      <td>3</td>\n",
       "      <td>0.0668</td>\n",
       "    </tr>\n",
       "    <tr>\n",
       "      <th>4</th>\n",
       "      <td>EID_22534</td>\n",
       "      <td>F</td>\n",
       "      <td>31.0</td>\n",
       "      <td>1</td>\n",
       "      <td>Married</td>\n",
       "      <td>Springfield</td>\n",
       "      <td>Logistics</td>\n",
       "      <td>Conceptual</td>\n",
       "      <td>5.0</td>\n",
       "      <td>4</td>\n",
       "      <td>...</td>\n",
       "      <td>type3</td>\n",
       "      <td>3.0</td>\n",
       "      <td>1</td>\n",
       "      <td>0.7516</td>\n",
       "      <td>-0.4537</td>\n",
       "      <td>2.0</td>\n",
       "      <td>2</td>\n",
       "      <td>8</td>\n",
       "      <td>2</td>\n",
       "      <td>0.1827</td>\n",
       "    </tr>\n",
       "  </tbody>\n",
       "</table>\n",
       "<p>5 rows × 24 columns</p>\n",
       "</div>"
      ],
      "text/plain": [
       "  Employee_ID Gender   Age  Education_Level Relationship_Status     Hometown  \\\n",
       "0   EID_23371      F  42.0                4             Married     Franklin   \n",
       "1   EID_18000      M  24.0                3              Single  Springfield   \n",
       "2    EID_3891      F  58.0                3             Married      Clinton   \n",
       "3   EID_17492      F  26.0                3              Single      Lebanon   \n",
       "4   EID_22534      F  31.0                1             Married  Springfield   \n",
       "\n",
       "                        Unit Decision_skill_possess  Time_of_service  \\\n",
       "0                         IT             Conceptual              4.0   \n",
       "1                  Logistics             Analytical              5.0   \n",
       "2                    Quality             Conceptual             27.0   \n",
       "3  Human Resource Management             Behavioral              4.0   \n",
       "4                  Logistics             Conceptual              5.0   \n",
       "\n",
       "   Time_since_promotion  ...  Compensation_and_Benefits  Work_Life_balance  \\\n",
       "0                     4  ...                      type2                3.0   \n",
       "1                     4  ...                      type2                4.0   \n",
       "2                     3  ...                      type2                1.0   \n",
       "3                     3  ...                      type2                1.0   \n",
       "4                     4  ...                      type3                3.0   \n",
       "\n",
       "   VAR1    VAR2    VAR3  VAR4  VAR5  VAR6  VAR7  Attrition_rate  \n",
       "0     4  0.7516  1.8688   2.0     4     5     3          0.1841  \n",
       "1     3 -0.9612 -0.4537   2.0     3     5     3          0.0670  \n",
       "2     4 -0.9612 -0.4537   3.0     3     8     3          0.0851  \n",
       "3     3 -1.8176 -0.4537   NaN     3     7     3          0.0668  \n",
       "4     1  0.7516 -0.4537   2.0     2     8     2          0.1827  \n",
       "\n",
       "[5 rows x 24 columns]"
      ]
     },
     "execution_count": 3,
     "metadata": {},
     "output_type": "execute_result"
    }
   ],
   "source": [
    "train.head()"
   ]
  },
  {
   "cell_type": "code",
   "execution_count": 4,
   "metadata": {},
   "outputs": [
    {
     "data": {
      "text/plain": [
       "((7000, 24), (3000, 23))"
      ]
     },
     "execution_count": 4,
     "metadata": {},
     "output_type": "execute_result"
    }
   ],
   "source": [
    "train.shape, test.shape"
   ]
  },
  {
   "cell_type": "code",
   "execution_count": 5,
   "metadata": {},
   "outputs": [
    {
     "name": "stderr",
     "output_type": "stream",
     "text": [
      "C:\\Users\\hungu\\anaconda.x\\lib\\site-packages\\pandas\\core\\frame.py:6692: FutureWarning: Sorting because non-concatenation axis is not aligned. A future version\n",
      "of pandas will change to not sort by default.\n",
      "\n",
      "To accept the future behavior, pass 'sort=False'.\n",
      "\n",
      "To retain the current behavior and silence the warning, pass 'sort=True'.\n",
      "\n",
      "  sort=sort)\n"
     ]
    },
    {
     "data": {
      "text/plain": [
       "(10000, 24)"
      ]
     },
     "execution_count": 5,
     "metadata": {},
     "output_type": "execute_result"
    }
   ],
   "source": [
    "combine = train.append(test)\n",
    "combine.shape"
   ]
  },
  {
   "cell_type": "code",
   "execution_count": 6,
   "metadata": {},
   "outputs": [
    {
     "data": {
      "text/plain": [
       "Index(['Age', 'Attrition_rate', 'Compensation_and_Benefits',\n",
       "       'Decision_skill_possess', 'Education_Level', 'Employee_ID', 'Gender',\n",
       "       'Hometown', 'Pay_Scale', 'Post_Level', 'Relationship_Status',\n",
       "       'Time_of_service', 'Time_since_promotion', 'Travel_Rate', 'Unit',\n",
       "       'VAR1', 'VAR2', 'VAR3', 'VAR4', 'VAR5', 'VAR6', 'VAR7',\n",
       "       'Work_Life_balance', 'growth_rate'],\n",
       "      dtype='object')"
      ]
     },
     "execution_count": 6,
     "metadata": {},
     "output_type": "execute_result"
    }
   ],
   "source": [
    "combine.columns"
   ]
  },
  {
   "cell_type": "code",
   "execution_count": 7,
   "metadata": {},
   "outputs": [
    {
     "data": {
      "text/plain": [
       "Age                           573\n",
       "Attrition_rate               3000\n",
       "Compensation_and_Benefits       0\n",
       "Decision_skill_possess          0\n",
       "Education_Level                 0\n",
       "Employee_ID                     0\n",
       "Gender                          0\n",
       "Hometown                        0\n",
       "Pay_Scale                      12\n",
       "Post_Level                      0\n",
       "Relationship_Status             0\n",
       "Time_of_service               196\n",
       "Time_since_promotion            0\n",
       "Travel_Rate                     0\n",
       "Unit                            0\n",
       "VAR1                            0\n",
       "VAR2                          794\n",
       "VAR3                            0\n",
       "VAR4                          954\n",
       "VAR5                            0\n",
       "VAR6                            0\n",
       "VAR7                            0\n",
       "Work_Life_balance              16\n",
       "growth_rate                     0\n",
       "dtype: int64"
      ]
     },
     "execution_count": 7,
     "metadata": {},
     "output_type": "execute_result"
    }
   ],
   "source": [
    "combine.isnull().sum()"
   ]
  },
  {
   "cell_type": "code",
   "execution_count": 8,
   "metadata": {
    "scrolled": true
   },
   "outputs": [
    {
     "data": {
      "text/plain": [
       "count    9427.000000\n",
       "mean       39.675507\n",
       "std        13.574856\n",
       "min        19.000000\n",
       "25%        27.000000\n",
       "50%        38.000000\n",
       "75%        52.000000\n",
       "max        65.000000\n",
       "Name: Age, dtype: float64"
      ]
     },
     "execution_count": 8,
     "metadata": {},
     "output_type": "execute_result"
    }
   ],
   "source": [
    "combine['Age'].describe()"
   ]
  },
  {
   "cell_type": "code",
   "execution_count": 9,
   "metadata": {},
   "outputs": [
    {
     "data": {
      "text/plain": [
       "count    10000.000000\n",
       "mean        39.636800\n",
       "std         13.181095\n",
       "min         19.000000\n",
       "25%         28.000000\n",
       "50%         39.000000\n",
       "75%         51.000000\n",
       "max         65.000000\n",
       "Name: Age, dtype: float64"
      ]
     },
     "execution_count": 9,
     "metadata": {},
     "output_type": "execute_result"
    }
   ],
   "source": [
    "combine['Age'].fillna(int(combine['Age'].mean()), inplace=True)\n",
    "combine['Age'].describe()"
   ]
  },
  {
   "cell_type": "markdown",
   "metadata": {},
   "source": [
    "combine['Age'].fillna(0, inplace=True)\n",
    "bins= [0, 19,30,40,50,70]\n",
    "labels = ['Unknown', 'Age_Tier1','Age_Tier2','Age_Tier3','Age_Tier4']\n",
    "combine['Age'] = pd.cut(combine['Age'], bins=bins, labels=labels, right=False)\n",
    "combine['Age'].value_counts()"
   ]
  },
  {
   "cell_type": "code",
   "execution_count": 10,
   "metadata": {},
   "outputs": [
    {
     "data": {
      "text/plain": [
       "type2    5686\n",
       "type3    3346\n",
       "type4     490\n",
       "type0     280\n",
       "type1     198\n",
       "Name: Compensation_and_Benefits, dtype: int64"
      ]
     },
     "execution_count": 10,
     "metadata": {},
     "output_type": "execute_result"
    }
   ],
   "source": [
    "combine['Compensation_and_Benefits'].value_counts()"
   ]
  },
  {
   "cell_type": "code",
   "execution_count": 11,
   "metadata": {},
   "outputs": [
    {
     "data": {
      "text/plain": [
       "Behavioral    2535\n",
       "Analytical    2501\n",
       "Directive     2488\n",
       "Conceptual    2476\n",
       "Name: Decision_skill_possess, dtype: int64"
      ]
     },
     "execution_count": 11,
     "metadata": {},
     "output_type": "execute_result"
    }
   ],
   "source": [
    "combine['Decision_skill_possess'].value_counts()"
   ]
  },
  {
   "cell_type": "code",
   "execution_count": 12,
   "metadata": {},
   "outputs": [
    {
     "data": {
      "text/plain": [
       "3    4063\n",
       "4    3018\n",
       "2     982\n",
       "1     979\n",
       "5     958\n",
       "Name: Education_Level, dtype: int64"
      ]
     },
     "execution_count": 12,
     "metadata": {},
     "output_type": "execute_result"
    }
   ],
   "source": [
    "combine['Education_Level'].value_counts()"
   ]
  },
  {
   "cell_type": "code",
   "execution_count": 13,
   "metadata": {},
   "outputs": [
    {
     "data": {
      "text/plain": [
       "F    5842\n",
       "M    4158\n",
       "Name: Gender, dtype: int64"
      ]
     },
     "execution_count": 13,
     "metadata": {},
     "output_type": "execute_result"
    }
   ],
   "source": [
    "combine['Gender'].value_counts()"
   ]
  },
  {
   "cell_type": "code",
   "execution_count": 14,
   "metadata": {},
   "outputs": [
    {
     "data": {
      "text/plain": [
       "Lebanon        2953\n",
       "Springfield    2484\n",
       "Franklin       2181\n",
       "Washington     1570\n",
       "Clinton         812\n",
       "Name: Hometown, dtype: int64"
      ]
     },
     "execution_count": 14,
     "metadata": {},
     "output_type": "execute_result"
    }
   ],
   "source": [
    "combine['Hometown'].value_counts()"
   ]
  },
  {
   "cell_type": "code",
   "execution_count": 15,
   "metadata": {},
   "outputs": [
    {
     "data": {
      "text/plain": [
       "8.0     1964\n",
       "6.0     1820\n",
       "5.0     1640\n",
       "4.0     1405\n",
       "7.0     1163\n",
       "9.0      703\n",
       "2.0      383\n",
       "3.0      366\n",
       "10.0     314\n",
       "1.0      230\n",
       "Name: Pay_Scale, dtype: int64"
      ]
     },
     "execution_count": 15,
     "metadata": {},
     "output_type": "execute_result"
    }
   ],
   "source": [
    "combine['Pay_Scale'].value_counts()"
   ]
  },
  {
   "cell_type": "code",
   "execution_count": 16,
   "metadata": {},
   "outputs": [
    {
     "data": {
      "text/plain": [
       "8.0     1964\n",
       "6.0     1832\n",
       "5.0     1640\n",
       "4.0     1405\n",
       "7.0     1163\n",
       "9.0      703\n",
       "2.0      383\n",
       "3.0      366\n",
       "10.0     314\n",
       "1.0      230\n",
       "Name: Pay_Scale, dtype: int64"
      ]
     },
     "execution_count": 16,
     "metadata": {},
     "output_type": "execute_result"
    }
   ],
   "source": [
    "combine['Pay_Scale'].fillna(int(combine['Pay_Scale'].mean()), inplace=True)\n",
    "combine['Pay_Scale'].value_counts()"
   ]
  },
  {
   "cell_type": "code",
   "execution_count": 17,
   "metadata": {},
   "outputs": [
    {
     "data": {
      "text/plain": [
       "3    3469\n",
       "2    2514\n",
       "1    1516\n",
       "4    1486\n",
       "5    1015\n",
       "Name: Post_Level, dtype: int64"
      ]
     },
     "execution_count": 17,
     "metadata": {},
     "output_type": "execute_result"
    }
   ],
   "source": [
    "combine['Post_Level'].value_counts()"
   ]
  },
  {
   "cell_type": "code",
   "execution_count": 18,
   "metadata": {},
   "outputs": [
    {
     "data": {
      "text/plain": [
       "Married    6461\n",
       "Single     3539\n",
       "Name: Relationship_Status, dtype: int64"
      ]
     },
     "execution_count": 18,
     "metadata": {},
     "output_type": "execute_result"
    }
   ],
   "source": [
    "combine['Relationship_Status'].value_counts()"
   ]
  },
  {
   "cell_type": "code",
   "execution_count": 19,
   "metadata": {},
   "outputs": [
    {
     "data": {
      "text/plain": [
       "count    9804.000000\n",
       "mean       13.390657\n",
       "std        10.311381\n",
       "min         0.000000\n",
       "25%         5.000000\n",
       "50%        10.000000\n",
       "75%        21.000000\n",
       "max        43.000000\n",
       "Name: Time_of_service, dtype: float64"
      ]
     },
     "execution_count": 19,
     "metadata": {},
     "output_type": "execute_result"
    }
   ],
   "source": [
    "combine['Time_of_service'].describe()"
   ]
  },
  {
   "cell_type": "code",
   "execution_count": 20,
   "metadata": {},
   "outputs": [
    {
     "data": {
      "text/plain": [
       "count    10000.000000\n",
       "mean        13.383000\n",
       "std         10.209963\n",
       "min          0.000000\n",
       "25%          5.000000\n",
       "50%         11.000000\n",
       "75%         20.000000\n",
       "max         43.000000\n",
       "Name: Time_of_service, dtype: float64"
      ]
     },
     "execution_count": 20,
     "metadata": {},
     "output_type": "execute_result"
    }
   ],
   "source": [
    "combine['Time_of_service'].fillna(int(combine['Time_of_service'].mean()), inplace=True)\n",
    "combine['Time_of_service'].describe()"
   ]
  },
  {
   "cell_type": "markdown",
   "metadata": {},
   "source": [
    "combine['Time_of_service'].fillna(int(combine['VAR4'].mean())m, inplace=True)\n",
    "bins= [-1, 0, 10, 20, 30, 40, 50]\n",
    "labels = ['Unknown', 'TOS_Tier1','TOS_Tier2','TOS_Tier3','TOS_Tier4', 'TOS_Tier5']\n",
    "combine['Time_of_service'] = pd.cut(combine['Time_of_service'], bins=bins, labels=labels, right=False)\n",
    "combine['Time_of_service'].value_counts()"
   ]
  },
  {
   "cell_type": "code",
   "execution_count": 21,
   "metadata": {},
   "outputs": [
    {
     "data": {
      "text/plain": [
       "2    2581\n",
       "1    2574\n",
       "3    2434\n",
       "4    2187\n",
       "0     224\n",
       "Name: Time_since_promotion, dtype: int64"
      ]
     },
     "execution_count": 21,
     "metadata": {},
     "output_type": "execute_result"
    }
   ],
   "source": [
    "combine['Time_since_promotion'].value_counts()"
   ]
  },
  {
   "cell_type": "code",
   "execution_count": 22,
   "metadata": {},
   "outputs": [
    {
     "data": {
      "text/plain": [
       "1    5499\n",
       "0    3147\n",
       "2    1354\n",
       "Name: Travel_Rate, dtype: int64"
      ]
     },
     "execution_count": 22,
     "metadata": {},
     "output_type": "execute_result"
    }
   ],
   "source": [
    "combine['Travel_Rate'].value_counts()"
   ]
  },
  {
   "cell_type": "code",
   "execution_count": 23,
   "metadata": {},
   "outputs": [
    {
     "data": {
      "text/plain": [
       "IT                           1963\n",
       "Logistics                    1648\n",
       "Sales                        1389\n",
       "Operarions                   1008\n",
       "R&D                           991\n",
       "Purchasing                    714\n",
       "Accounting and Finance        679\n",
       "Human Resource Management     513\n",
       "Marketing                     319\n",
       "Production                    292\n",
       "Quality                       290\n",
       "Security                      194\n",
       "Name: Unit, dtype: int64"
      ]
     },
     "execution_count": 23,
     "metadata": {},
     "output_type": "execute_result"
    }
   ],
   "source": [
    "combine['Unit'].value_counts()"
   ]
  },
  {
   "cell_type": "code",
   "execution_count": 24,
   "metadata": {},
   "outputs": [
    {
     "name": "stdout",
     "output_type": "stream",
     "text": [
      "3    6025\n",
      "4    1941\n",
      "2    1026\n",
      "1     510\n",
      "5     498\n",
      "Name: VAR1, dtype: int64\n",
      "2.0    6369\n",
      "1.0    1809\n",
      "3.0     868\n",
      "Name: VAR4, dtype: int64\n",
      "3    3926\n",
      "2    2993\n",
      "4    2073\n",
      "1     687\n",
      "5     321\n",
      "Name: VAR5, dtype: int64\n",
      "8    3809\n",
      "7    2509\n",
      "6    1647\n",
      "5    1283\n",
      "9     752\n",
      "Name: VAR6, dtype: int64\n",
      "3    5619\n",
      "4    1921\n",
      "5    1149\n",
      "2     899\n",
      "1     412\n",
      "Name: VAR7, dtype: int64\n"
     ]
    }
   ],
   "source": [
    "var_rating_cols = ['VAR1', 'VAR4', 'VAR5', 'VAR6', 'VAR7']\n",
    "for var in var_rating_cols:\n",
    "    print(combine[var].value_counts())"
   ]
  },
  {
   "cell_type": "code",
   "execution_count": 25,
   "metadata": {},
   "outputs": [
    {
     "data": {
      "text/plain": [
       "2.0    6369\n",
       "1.0    2763\n",
       "3.0     868\n",
       "Name: VAR4, dtype: int64"
      ]
     },
     "execution_count": 25,
     "metadata": {},
     "output_type": "execute_result"
    }
   ],
   "source": [
    "combine['VAR4'].fillna(int(combine['VAR4'].mean()), inplace=True)\n",
    "combine['VAR4'].value_counts()"
   ]
  },
  {
   "cell_type": "code",
   "execution_count": 26,
   "metadata": {},
   "outputs": [
    {
     "data": {
      "text/plain": [
       "count    9206.000000\n",
       "mean        0.002653\n",
       "std         0.992949\n",
       "min        -1.817600\n",
       "25%        -0.961200\n",
       "50%        -0.104800\n",
       "75%         0.751600\n",
       "max         1.608100\n",
       "Name: VAR2, dtype: float64"
      ]
     },
     "execution_count": 26,
     "metadata": {},
     "output_type": "execute_result"
    }
   ],
   "source": [
    "combine['VAR2'].describe()"
   ]
  },
  {
   "cell_type": "code",
   "execution_count": 27,
   "metadata": {},
   "outputs": [
    {
     "data": {
      "text/plain": [
       "count    10000.000000\n",
       "mean         0.002653\n",
       "std          0.952709\n",
       "min         -1.817600\n",
       "25%         -0.961200\n",
       "50%          0.002653\n",
       "75%          0.751600\n",
       "max          1.608100\n",
       "Name: VAR2, dtype: float64"
      ]
     },
     "execution_count": 27,
     "metadata": {},
     "output_type": "execute_result"
    }
   ],
   "source": [
    "combine['VAR2'].fillna(combine['VAR2'].mean(), inplace=True)\n",
    "combine['VAR2'].describe()"
   ]
  },
  {
   "cell_type": "code",
   "execution_count": 28,
   "metadata": {
    "scrolled": true
   },
   "outputs": [
    {
     "data": {
      "text/plain": [
       "count    10000.000000\n",
       "mean        -0.005826\n",
       "std          0.990812\n",
       "min         -2.776200\n",
       "25%         -0.453700\n",
       "50%         -0.453700\n",
       "75%          0.707500\n",
       "max          1.868800\n",
       "Name: VAR3, dtype: float64"
      ]
     },
     "execution_count": 28,
     "metadata": {},
     "output_type": "execute_result"
    }
   ],
   "source": [
    "combine['VAR3'].describe()"
   ]
  },
  {
   "cell_type": "code",
   "execution_count": 29,
   "metadata": {},
   "outputs": [
    {
     "data": {
      "text/plain": [
       "1.0    2951\n",
       "3.0    2858\n",
       "2.0    2287\n",
       "4.0    1719\n",
       "5.0     169\n",
       "Name: Work_Life_balance, dtype: int64"
      ]
     },
     "execution_count": 29,
     "metadata": {},
     "output_type": "execute_result"
    }
   ],
   "source": [
    "combine['Work_Life_balance'].value_counts()"
   ]
  },
  {
   "cell_type": "code",
   "execution_count": 30,
   "metadata": {},
   "outputs": [
    {
     "data": {
      "text/plain": [
       "1.0    2951\n",
       "3.0    2858\n",
       "2.0    2303\n",
       "4.0    1719\n",
       "5.0     169\n",
       "Name: Work_Life_balance, dtype: int64"
      ]
     },
     "execution_count": 30,
     "metadata": {},
     "output_type": "execute_result"
    }
   ],
   "source": [
    "combine['Work_Life_balance'].fillna(int(combine['Work_Life_balance'].mean()), inplace=True)\n",
    "combine['Work_Life_balance'].value_counts()"
   ]
  },
  {
   "cell_type": "code",
   "execution_count": 31,
   "metadata": {
    "scrolled": true
   },
   "outputs": [
    {
     "data": {
      "text/plain": [
       "count    10000.000000\n",
       "mean        47.008400\n",
       "std         15.848553\n",
       "min         20.000000\n",
       "25%         33.000000\n",
       "50%         47.000000\n",
       "75%         61.000000\n",
       "max         74.000000\n",
       "Name: growth_rate, dtype: float64"
      ]
     },
     "execution_count": 31,
     "metadata": {},
     "output_type": "execute_result"
    }
   ],
   "source": [
    "combine['growth_rate'].describe()"
   ]
  },
  {
   "cell_type": "code",
   "execution_count": 32,
   "metadata": {},
   "outputs": [
    {
     "data": {
      "text/plain": [
       "Age                             0\n",
       "Attrition_rate               3000\n",
       "Compensation_and_Benefits       0\n",
       "Decision_skill_possess          0\n",
       "Education_Level                 0\n",
       "Employee_ID                     0\n",
       "Gender                          0\n",
       "Hometown                        0\n",
       "Pay_Scale                       0\n",
       "Post_Level                      0\n",
       "Relationship_Status             0\n",
       "Time_of_service                 0\n",
       "Time_since_promotion            0\n",
       "Travel_Rate                     0\n",
       "Unit                            0\n",
       "VAR1                            0\n",
       "VAR2                            0\n",
       "VAR3                            0\n",
       "VAR4                            0\n",
       "VAR5                            0\n",
       "VAR6                            0\n",
       "VAR7                            0\n",
       "Work_Life_balance               0\n",
       "growth_rate                     0\n",
       "dtype: int64"
      ]
     },
     "execution_count": 32,
     "metadata": {},
     "output_type": "execute_result"
    }
   ],
   "source": [
    "combine.isnull().sum()"
   ]
  },
  {
   "cell_type": "code",
   "execution_count": 33,
   "metadata": {},
   "outputs": [
    {
     "data": {
      "text/plain": [
       "(10000, 47)"
      ]
     },
     "execution_count": 33,
     "metadata": {},
     "output_type": "execute_result"
    }
   ],
   "source": [
    "combine = pd.get_dummies(combine.drop('Employee_ID', axis=1))\n",
    "combine.shape"
   ]
  },
  {
   "cell_type": "code",
   "execution_count": 34,
   "metadata": {},
   "outputs": [
    {
     "data": {
      "text/html": [
       "<div>\n",
       "<style scoped>\n",
       "    .dataframe tbody tr th:only-of-type {\n",
       "        vertical-align: middle;\n",
       "    }\n",
       "\n",
       "    .dataframe tbody tr th {\n",
       "        vertical-align: top;\n",
       "    }\n",
       "\n",
       "    .dataframe thead th {\n",
       "        text-align: right;\n",
       "    }\n",
       "</style>\n",
       "<table border=\"1\" class=\"dataframe\">\n",
       "  <thead>\n",
       "    <tr style=\"text-align: right;\">\n",
       "      <th></th>\n",
       "      <th>Age</th>\n",
       "      <th>Attrition_rate</th>\n",
       "      <th>Education_Level</th>\n",
       "      <th>Pay_Scale</th>\n",
       "      <th>Post_Level</th>\n",
       "      <th>Time_of_service</th>\n",
       "      <th>Time_since_promotion</th>\n",
       "      <th>Travel_Rate</th>\n",
       "      <th>VAR1</th>\n",
       "      <th>VAR2</th>\n",
       "      <th>...</th>\n",
       "      <th>Unit_IT</th>\n",
       "      <th>Unit_Logistics</th>\n",
       "      <th>Unit_Marketing</th>\n",
       "      <th>Unit_Operarions</th>\n",
       "      <th>Unit_Production</th>\n",
       "      <th>Unit_Purchasing</th>\n",
       "      <th>Unit_Quality</th>\n",
       "      <th>Unit_R&amp;D</th>\n",
       "      <th>Unit_Sales</th>\n",
       "      <th>Unit_Security</th>\n",
       "    </tr>\n",
       "  </thead>\n",
       "  <tbody>\n",
       "    <tr>\n",
       "      <th>0</th>\n",
       "      <td>42.0</td>\n",
       "      <td>0.1841</td>\n",
       "      <td>4</td>\n",
       "      <td>7.0</td>\n",
       "      <td>1</td>\n",
       "      <td>4.0</td>\n",
       "      <td>4</td>\n",
       "      <td>1</td>\n",
       "      <td>4</td>\n",
       "      <td>0.7516</td>\n",
       "      <td>...</td>\n",
       "      <td>1</td>\n",
       "      <td>0</td>\n",
       "      <td>0</td>\n",
       "      <td>0</td>\n",
       "      <td>0</td>\n",
       "      <td>0</td>\n",
       "      <td>0</td>\n",
       "      <td>0</td>\n",
       "      <td>0</td>\n",
       "      <td>0</td>\n",
       "    </tr>\n",
       "    <tr>\n",
       "      <th>1</th>\n",
       "      <td>24.0</td>\n",
       "      <td>0.0670</td>\n",
       "      <td>3</td>\n",
       "      <td>6.0</td>\n",
       "      <td>3</td>\n",
       "      <td>5.0</td>\n",
       "      <td>4</td>\n",
       "      <td>0</td>\n",
       "      <td>3</td>\n",
       "      <td>-0.9612</td>\n",
       "      <td>...</td>\n",
       "      <td>0</td>\n",
       "      <td>1</td>\n",
       "      <td>0</td>\n",
       "      <td>0</td>\n",
       "      <td>0</td>\n",
       "      <td>0</td>\n",
       "      <td>0</td>\n",
       "      <td>0</td>\n",
       "      <td>0</td>\n",
       "      <td>0</td>\n",
       "    </tr>\n",
       "    <tr>\n",
       "      <th>2</th>\n",
       "      <td>58.0</td>\n",
       "      <td>0.0851</td>\n",
       "      <td>3</td>\n",
       "      <td>8.0</td>\n",
       "      <td>2</td>\n",
       "      <td>27.0</td>\n",
       "      <td>3</td>\n",
       "      <td>0</td>\n",
       "      <td>4</td>\n",
       "      <td>-0.9612</td>\n",
       "      <td>...</td>\n",
       "      <td>0</td>\n",
       "      <td>0</td>\n",
       "      <td>0</td>\n",
       "      <td>0</td>\n",
       "      <td>0</td>\n",
       "      <td>0</td>\n",
       "      <td>1</td>\n",
       "      <td>0</td>\n",
       "      <td>0</td>\n",
       "      <td>0</td>\n",
       "    </tr>\n",
       "    <tr>\n",
       "      <th>3</th>\n",
       "      <td>26.0</td>\n",
       "      <td>0.0668</td>\n",
       "      <td>3</td>\n",
       "      <td>8.0</td>\n",
       "      <td>3</td>\n",
       "      <td>4.0</td>\n",
       "      <td>3</td>\n",
       "      <td>1</td>\n",
       "      <td>3</td>\n",
       "      <td>-1.8176</td>\n",
       "      <td>...</td>\n",
       "      <td>0</td>\n",
       "      <td>0</td>\n",
       "      <td>0</td>\n",
       "      <td>0</td>\n",
       "      <td>0</td>\n",
       "      <td>0</td>\n",
       "      <td>0</td>\n",
       "      <td>0</td>\n",
       "      <td>0</td>\n",
       "      <td>0</td>\n",
       "    </tr>\n",
       "    <tr>\n",
       "      <th>4</th>\n",
       "      <td>31.0</td>\n",
       "      <td>0.1827</td>\n",
       "      <td>1</td>\n",
       "      <td>2.0</td>\n",
       "      <td>3</td>\n",
       "      <td>5.0</td>\n",
       "      <td>4</td>\n",
       "      <td>1</td>\n",
       "      <td>1</td>\n",
       "      <td>0.7516</td>\n",
       "      <td>...</td>\n",
       "      <td>0</td>\n",
       "      <td>1</td>\n",
       "      <td>0</td>\n",
       "      <td>0</td>\n",
       "      <td>0</td>\n",
       "      <td>0</td>\n",
       "      <td>0</td>\n",
       "      <td>0</td>\n",
       "      <td>0</td>\n",
       "      <td>0</td>\n",
       "    </tr>\n",
       "  </tbody>\n",
       "</table>\n",
       "<p>5 rows × 47 columns</p>\n",
       "</div>"
      ],
      "text/plain": [
       "    Age  Attrition_rate  Education_Level  Pay_Scale  Post_Level  \\\n",
       "0  42.0          0.1841                4        7.0           1   \n",
       "1  24.0          0.0670                3        6.0           3   \n",
       "2  58.0          0.0851                3        8.0           2   \n",
       "3  26.0          0.0668                3        8.0           3   \n",
       "4  31.0          0.1827                1        2.0           3   \n",
       "\n",
       "   Time_of_service  Time_since_promotion  Travel_Rate  VAR1    VAR2  ...  \\\n",
       "0              4.0                     4            1     4  0.7516  ...   \n",
       "1              5.0                     4            0     3 -0.9612  ...   \n",
       "2             27.0                     3            0     4 -0.9612  ...   \n",
       "3              4.0                     3            1     3 -1.8176  ...   \n",
       "4              5.0                     4            1     1  0.7516  ...   \n",
       "\n",
       "   Unit_IT  Unit_Logistics  Unit_Marketing  Unit_Operarions  Unit_Production  \\\n",
       "0        1               0               0                0                0   \n",
       "1        0               1               0                0                0   \n",
       "2        0               0               0                0                0   \n",
       "3        0               0               0                0                0   \n",
       "4        0               1               0                0                0   \n",
       "\n",
       "   Unit_Purchasing  Unit_Quality  Unit_R&D  Unit_Sales  Unit_Security  \n",
       "0                0             0         0           0              0  \n",
       "1                0             0         0           0              0  \n",
       "2                0             1         0           0              0  \n",
       "3                0             0         0           0              0  \n",
       "4                0             0         0           0              0  \n",
       "\n",
       "[5 rows x 47 columns]"
      ]
     },
     "execution_count": 34,
     "metadata": {},
     "output_type": "execute_result"
    }
   ],
   "source": [
    "combine.head()"
   ]
  },
  {
   "cell_type": "code",
   "execution_count": 35,
   "metadata": {},
   "outputs": [
    {
     "data": {
      "text/plain": [
       "((7000, 46), (7000,), (3000, 46))"
      ]
     },
     "execution_count": 35,
     "metadata": {},
     "output_type": "execute_result"
    }
   ],
   "source": [
    "X = combine[combine['Attrition_rate'].isnull()!=True].drop(['Attrition_rate'], axis=1)\n",
    "y = combine[combine['Attrition_rate'].isnull()!=True]['Attrition_rate'].reset_index(drop=True)\n",
    "\n",
    "X_test = combine[combine['Attrition_rate'].isnull()==True].drop(['Attrition_rate'], axis=1)\n",
    "\n",
    "X.shape, y.shape, X_test.shape"
   ]
  },
  {
   "cell_type": "code",
   "execution_count": 36,
   "metadata": {},
   "outputs": [
    {
     "name": "stderr",
     "output_type": "stream",
     "text": [
      "C:\\Users\\hungu\\anaconda.x\\lib\\site-packages\\ipykernel_launcher.py:3: SettingWithCopyWarning: \n",
      "A value is trying to be set on a copy of a slice from a DataFrame.\n",
      "Try using .loc[row_indexer,col_indexer] = value instead\n",
      "\n",
      "See the caveats in the documentation: http://pandas.pydata.org/pandas-docs/stable/indexing.html#indexing-view-versus-copy\n",
      "  This is separate from the ipykernel package so we can avoid doing imports until\n"
     ]
    }
   ],
   "source": [
    "combine[combine['Attrition_rate'].isnull()!=True].to_csv('Train_Cleaned.csv', index=False)\n",
    "test_clean = combine[combine['Attrition_rate'].isnull()==True]\n",
    "test_clean['Attrition_rate'] = 0\n",
    "test_clean.to_csv('Test_Cleaned.csv', index=False)"
   ]
  },
  {
   "cell_type": "code",
   "execution_count": 37,
   "metadata": {},
   "outputs": [],
   "source": [
    "from xgboost import XGBRegressor\n",
    "from lightgbm import LGBMRegressor\n",
    "\n",
    "from sklearn.metrics import mean_squared_error\n",
    "\n",
    "import lightgbm\n",
    "import matplotlib.pyplot as plt\n",
    "%matplotlib inline"
   ]
  },
  {
   "cell_type": "code",
   "execution_count": 38,
   "metadata": {
    "scrolled": true
   },
   "outputs": [
    {
     "name": "stdout",
     "output_type": "stream",
     "text": [
      "Training until validation scores don't improve for 200 rounds\n",
      "[200]\ttraining's rmse: 0.16516\ttraining's l2: 0.0272779\tvalid_1's rmse: 0.184337\tvalid_1's l2: 0.03398\n",
      "Early stopping, best iteration is:\n",
      "[39]\ttraining's rmse: 0.180169\ttraining's l2: 0.0324609\tvalid_1's rmse: 0.183003\tvalid_1's l2: 0.03349\n",
      "1 err_lgm:  81.69972637428542\n",
      "Training until validation scores don't improve for 200 rounds\n",
      "[200]\ttraining's rmse: 0.1664\ttraining's l2: 0.0276888\tvalid_1's rmse: 0.175309\tvalid_1's l2: 0.0307334\n",
      "Early stopping, best iteration is:\n",
      "[1]\ttraining's rmse: 0.186563\ttraining's l2: 0.0348059\tvalid_1's rmse: 0.170909\tvalid_1's l2: 0.0292098\n",
      "2 err_lgm:  82.90913743335638\n",
      "Training until validation scores don't improve for 200 rounds\n",
      "[200]\ttraining's rmse: 0.165198\ttraining's l2: 0.0272903\tvalid_1's rmse: 0.182596\tvalid_1's l2: 0.0333412\n",
      "Early stopping, best iteration is:\n",
      "[3]\ttraining's rmse: 0.185832\ttraining's l2: 0.0345335\tvalid_1's rmse: 0.177405\tvalid_1's l2: 0.0314725\n",
      "3 err_lgm:  82.25949870340547\n",
      "Training until validation scores don't improve for 200 rounds\n",
      "[200]\ttraining's rmse: 0.164958\ttraining's l2: 0.0272113\tvalid_1's rmse: 0.194021\tvalid_1's l2: 0.0376441\n",
      "Early stopping, best iteration is:\n",
      "[8]\ttraining's rmse: 0.183798\ttraining's l2: 0.0337817\tvalid_1's rmse: 0.192142\tvalid_1's l2: 0.0369187\n",
      "4 err_lgm:  80.78575092970337\n",
      "Training until validation scores don't improve for 200 rounds\n",
      "[200]\ttraining's rmse: 0.165858\ttraining's l2: 0.027509\tvalid_1's rmse: 0.175556\tvalid_1's l2: 0.03082\n",
      "Early stopping, best iteration is:\n",
      "[91]\ttraining's rmse: 0.175457\ttraining's l2: 0.0307851\tvalid_1's rmse: 0.173657\tvalid_1's l2: 0.0301569\n",
      "5 err_lgm:  82.63426861023918\n",
      "Training until validation scores don't improve for 200 rounds\n",
      "[200]\ttraining's rmse: 0.165541\ttraining's l2: 0.0274038\tvalid_1's rmse: 0.183745\tvalid_1's l2: 0.0337621\n",
      "Early stopping, best iteration is:\n",
      "[36]\ttraining's rmse: 0.181027\ttraining's l2: 0.0327706\tvalid_1's rmse: 0.182853\tvalid_1's l2: 0.0334354\n",
      "6 err_lgm:  81.71466304511712\n",
      "Training until validation scores don't improve for 200 rounds\n",
      "[200]\ttraining's rmse: 0.163952\ttraining's l2: 0.0268802\tvalid_1's rmse: 0.193084\tvalid_1's l2: 0.0372814\n",
      "Early stopping, best iteration is:\n",
      "[3]\ttraining's rmse: 0.184965\ttraining's l2: 0.0342121\tvalid_1's rmse: 0.188243\tvalid_1's l2: 0.0354354\n",
      "7 err_lgm:  81.17571958182536\n",
      "Training until validation scores don't improve for 200 rounds\n",
      "[200]\ttraining's rmse: 0.164721\ttraining's l2: 0.027133\tvalid_1's rmse: 0.200792\tvalid_1's l2: 0.0403175\n",
      "Early stopping, best iteration is:\n",
      "[10]\ttraining's rmse: 0.183315\ttraining's l2: 0.0336043\tvalid_1's rmse: 0.198698\tvalid_1's l2: 0.0394809\n",
      "8 err_lgm:  80.13020926884816\n",
      "Training until validation scores don't improve for 200 rounds\n",
      "[200]\ttraining's rmse: 0.165463\ttraining's l2: 0.0273781\tvalid_1's rmse: 0.184748\tvalid_1's l2: 0.0341318\n",
      "Early stopping, best iteration is:\n",
      "[27]\ttraining's rmse: 0.181906\ttraining's l2: 0.0330896\tvalid_1's rmse: 0.183094\tvalid_1's l2: 0.0335233\n",
      "9 err_lgm:  81.69061744532297\n",
      "Training until validation scores don't improve for 200 rounds\n",
      "[200]\ttraining's rmse: 0.164164\ttraining's l2: 0.0269498\tvalid_1's rmse: 0.196958\tvalid_1's l2: 0.0387925\n",
      "Early stopping, best iteration is:\n",
      "[6]\ttraining's rmse: 0.183885\ttraining's l2: 0.0338137\tvalid_1's rmse: 0.195688\tvalid_1's l2: 0.0382939\n",
      "10 err_lgm:  80.43116410339867\n",
      "Training until validation scores don't improve for 200 rounds\n",
      "[200]\ttraining's rmse: 0.163257\ttraining's l2: 0.0266527\tvalid_1's rmse: 0.209455\tvalid_1's l2: 0.0438714\n",
      "Early stopping, best iteration is:\n",
      "[2]\ttraining's rmse: 0.183671\ttraining's l2: 0.033735\tvalid_1's rmse: 0.207008\tvalid_1's l2: 0.0428524\n",
      "11 err_lgm:  79.2991695953616\n",
      "Training until validation scores don't improve for 200 rounds\n",
      "[200]\ttraining's rmse: 0.165463\ttraining's l2: 0.0273781\tvalid_1's rmse: 0.178732\tvalid_1's l2: 0.031945\n",
      "Early stopping, best iteration is:\n",
      "[8]\ttraining's rmse: 0.185007\ttraining's l2: 0.0342277\tvalid_1's rmse: 0.176994\tvalid_1's l2: 0.031327\n",
      "12 err_lgm:  82.30055160550536\n",
      "Training until validation scores don't improve for 200 rounds\n",
      "[200]\ttraining's rmse: 0.165607\ttraining's l2: 0.0274257\tvalid_1's rmse: 0.186741\tvalid_1's l2: 0.0348723\n",
      "Early stopping, best iteration is:\n",
      "[1]\ttraining's rmse: 0.18565\ttraining's l2: 0.0344659\tvalid_1's rmse: 0.184492\tvalid_1's l2: 0.0340373\n",
      "13 err_lgm:  81.55079144284454\n",
      "Training until validation scores don't improve for 200 rounds\n",
      "[200]\ttraining's rmse: 0.165888\ttraining's l2: 0.0275188\tvalid_1's rmse: 0.173941\tvalid_1's l2: 0.0302554\n",
      "Early stopping, best iteration is:\n",
      "[32]\ttraining's rmse: 0.181923\ttraining's l2: 0.033096\tvalid_1's rmse: 0.173589\tvalid_1's l2: 0.0301331\n",
      "14 err_lgm:  82.64109812277944\n",
      "Training until validation scores don't improve for 200 rounds\n",
      "[200]\ttraining's rmse: 0.163999\ttraining's l2: 0.0268956\tvalid_1's rmse: 0.197701\tvalid_1's l2: 0.0390858\n",
      "Early stopping, best iteration is:\n",
      "[1]\ttraining's rmse: 0.185035\ttraining's l2: 0.0342378\tvalid_1's rmse: 0.192543\tvalid_1's l2: 0.0370728\n",
      "15 err_lgm:  80.74570075440549\n"
     ]
    }
   ],
   "source": [
    "err = []\n",
    "y_pred_tot_lgm = []\n",
    "features = X.columns\n",
    "feature_importance_df = pd.DataFrame()\n",
    "\n",
    "from sklearn.model_selection import KFold\n",
    "\n",
    "fold = KFold(n_splits=15, shuffle=True)\n",
    "i = 1\n",
    "for train_index, test_index in fold.split(X, y):\n",
    "    x_train, x_val = X.iloc[train_index], X.iloc[test_index]\n",
    "    y_train, y_val = y[train_index], y[test_index]\n",
    "    m = LGBMRegressor(boosting_type='gbdt',\n",
    "                       max_depth=5,\n",
    "                       learning_rate=0.05,\n",
    "                       n_estimators=5000,\n",
    "                       min_child_weight=0.01,\n",
    "                       colsample_bytree=0.5)\n",
    "    m.fit(x_train, y_train,\n",
    "          eval_set=[(x_train,y_train),(x_val, y_val)],\n",
    "          early_stopping_rounds=200,\n",
    "          eval_metric='rmse',\n",
    "          verbose=200)\n",
    "    pred_y = m.predict(x_val)\n",
    "    \n",
    "    fold_importance_df = pd.DataFrame()\n",
    "    fold_importance_df[\"Feature\"] = features\n",
    "    fold_importance_df[\"importance\"] = m.feature_importances_\n",
    "    fold_importance_df[\"fold\"] = i + 1\n",
    "    feature_importance_df = pd.concat([feature_importance_df, fold_importance_df], axis=0)\n",
    "    \n",
    "    acc = 100 * max(0, 1 - np.sqrt(mean_squared_error(y_val, pred_y)))\n",
    "    \n",
    "    print(i, \"err_lgm: \", acc)\n",
    "    err.append(acc)\n",
    "    pred_test = m.predict(X_test)\n",
    "    i = i + 1\n",
    "    y_pred_tot_lgm.append(pred_test)"
   ]
  },
  {
   "cell_type": "code",
   "execution_count": 39,
   "metadata": {},
   "outputs": [
    {
     "data": {
      "text/plain": [
       "81.46453780109323"
      ]
     },
     "execution_count": 39,
     "metadata": {},
     "output_type": "execute_result"
    }
   ],
   "source": [
    "np.mean(err, 0)"
   ]
  },
  {
   "cell_type": "code",
   "execution_count": 40,
   "metadata": {},
   "outputs": [
    {
     "data": {
      "text/html": [
       "<div>\n",
       "<style scoped>\n",
       "    .dataframe tbody tr th:only-of-type {\n",
       "        vertical-align: middle;\n",
       "    }\n",
       "\n",
       "    .dataframe tbody tr th {\n",
       "        vertical-align: top;\n",
       "    }\n",
       "\n",
       "    .dataframe thead th {\n",
       "        text-align: right;\n",
       "    }\n",
       "</style>\n",
       "<table border=\"1\" class=\"dataframe\">\n",
       "  <thead>\n",
       "    <tr style=\"text-align: right;\">\n",
       "      <th></th>\n",
       "      <th>Feature</th>\n",
       "      <th>importance</th>\n",
       "    </tr>\n",
       "  </thead>\n",
       "  <tbody>\n",
       "    <tr>\n",
       "      <th>0</th>\n",
       "      <td>growth_rate</td>\n",
       "      <td>44.866667</td>\n",
       "    </tr>\n",
       "    <tr>\n",
       "      <th>1</th>\n",
       "      <td>Age</td>\n",
       "      <td>44.600000</td>\n",
       "    </tr>\n",
       "    <tr>\n",
       "      <th>2</th>\n",
       "      <td>Time_of_service</td>\n",
       "      <td>41.533333</td>\n",
       "    </tr>\n",
       "    <tr>\n",
       "      <th>3</th>\n",
       "      <td>Pay_Scale</td>\n",
       "      <td>23.733333</td>\n",
       "    </tr>\n",
       "    <tr>\n",
       "      <th>4</th>\n",
       "      <td>VAR2</td>\n",
       "      <td>21.133333</td>\n",
       "    </tr>\n",
       "    <tr>\n",
       "      <th>5</th>\n",
       "      <td>VAR7</td>\n",
       "      <td>18.866667</td>\n",
       "    </tr>\n",
       "    <tr>\n",
       "      <th>6</th>\n",
       "      <td>Work_Life_balance</td>\n",
       "      <td>18.333333</td>\n",
       "    </tr>\n",
       "    <tr>\n",
       "      <th>7</th>\n",
       "      <td>VAR6</td>\n",
       "      <td>15.866667</td>\n",
       "    </tr>\n",
       "    <tr>\n",
       "      <th>8</th>\n",
       "      <td>VAR1</td>\n",
       "      <td>14.466667</td>\n",
       "    </tr>\n",
       "    <tr>\n",
       "      <th>9</th>\n",
       "      <td>Post_Level</td>\n",
       "      <td>14.000000</td>\n",
       "    </tr>\n",
       "    <tr>\n",
       "      <th>10</th>\n",
       "      <td>Time_since_promotion</td>\n",
       "      <td>13.000000</td>\n",
       "    </tr>\n",
       "    <tr>\n",
       "      <th>11</th>\n",
       "      <td>VAR5</td>\n",
       "      <td>13.000000</td>\n",
       "    </tr>\n",
       "    <tr>\n",
       "      <th>12</th>\n",
       "      <td>VAR3</td>\n",
       "      <td>12.000000</td>\n",
       "    </tr>\n",
       "    <tr>\n",
       "      <th>13</th>\n",
       "      <td>Education_Level</td>\n",
       "      <td>11.933333</td>\n",
       "    </tr>\n",
       "    <tr>\n",
       "      <th>14</th>\n",
       "      <td>Travel_Rate</td>\n",
       "      <td>8.800000</td>\n",
       "    </tr>\n",
       "    <tr>\n",
       "      <th>15</th>\n",
       "      <td>Gender_F</td>\n",
       "      <td>8.466667</td>\n",
       "    </tr>\n",
       "    <tr>\n",
       "      <th>16</th>\n",
       "      <td>Decision_skill_possess_Behavioral</td>\n",
       "      <td>6.933333</td>\n",
       "    </tr>\n",
       "    <tr>\n",
       "      <th>17</th>\n",
       "      <td>Relationship_Status_Married</td>\n",
       "      <td>6.600000</td>\n",
       "    </tr>\n",
       "    <tr>\n",
       "      <th>18</th>\n",
       "      <td>VAR4</td>\n",
       "      <td>6.600000</td>\n",
       "    </tr>\n",
       "    <tr>\n",
       "      <th>19</th>\n",
       "      <td>Hometown_Lebanon</td>\n",
       "      <td>5.866667</td>\n",
       "    </tr>\n",
       "    <tr>\n",
       "      <th>20</th>\n",
       "      <td>Compensation_and_Benefits_type2</td>\n",
       "      <td>5.466667</td>\n",
       "    </tr>\n",
       "    <tr>\n",
       "      <th>21</th>\n",
       "      <td>Compensation_and_Benefits_type0</td>\n",
       "      <td>4.933333</td>\n",
       "    </tr>\n",
       "    <tr>\n",
       "      <th>22</th>\n",
       "      <td>Unit_IT</td>\n",
       "      <td>4.733333</td>\n",
       "    </tr>\n",
       "    <tr>\n",
       "      <th>23</th>\n",
       "      <td>Hometown_Franklin</td>\n",
       "      <td>4.533333</td>\n",
       "    </tr>\n",
       "    <tr>\n",
       "      <th>24</th>\n",
       "      <td>Hometown_Washington</td>\n",
       "      <td>4.533333</td>\n",
       "    </tr>\n",
       "    <tr>\n",
       "      <th>25</th>\n",
       "      <td>Hometown_Springfield</td>\n",
       "      <td>4.200000</td>\n",
       "    </tr>\n",
       "    <tr>\n",
       "      <th>26</th>\n",
       "      <td>Gender_M</td>\n",
       "      <td>4.066667</td>\n",
       "    </tr>\n",
       "    <tr>\n",
       "      <th>27</th>\n",
       "      <td>Unit_R&amp;D</td>\n",
       "      <td>4.066667</td>\n",
       "    </tr>\n",
       "    <tr>\n",
       "      <th>28</th>\n",
       "      <td>Decision_skill_possess_Directive</td>\n",
       "      <td>3.733333</td>\n",
       "    </tr>\n",
       "    <tr>\n",
       "      <th>29</th>\n",
       "      <td>Unit_Sales</td>\n",
       "      <td>3.733333</td>\n",
       "    </tr>\n",
       "    <tr>\n",
       "      <th>30</th>\n",
       "      <td>Compensation_and_Benefits_type3</td>\n",
       "      <td>3.666667</td>\n",
       "    </tr>\n",
       "    <tr>\n",
       "      <th>31</th>\n",
       "      <td>Decision_skill_possess_Analytical</td>\n",
       "      <td>3.600000</td>\n",
       "    </tr>\n",
       "    <tr>\n",
       "      <th>32</th>\n",
       "      <td>Decision_skill_possess_Conceptual</td>\n",
       "      <td>3.533333</td>\n",
       "    </tr>\n",
       "    <tr>\n",
       "      <th>33</th>\n",
       "      <td>Unit_Purchasing</td>\n",
       "      <td>3.400000</td>\n",
       "    </tr>\n",
       "    <tr>\n",
       "      <th>34</th>\n",
       "      <td>Unit_Operarions</td>\n",
       "      <td>2.666667</td>\n",
       "    </tr>\n",
       "    <tr>\n",
       "      <th>35</th>\n",
       "      <td>Relationship_Status_Single</td>\n",
       "      <td>2.666667</td>\n",
       "    </tr>\n",
       "    <tr>\n",
       "      <th>36</th>\n",
       "      <td>Unit_Logistics</td>\n",
       "      <td>2.466667</td>\n",
       "    </tr>\n",
       "    <tr>\n",
       "      <th>37</th>\n",
       "      <td>Compensation_and_Benefits_type1</td>\n",
       "      <td>1.933333</td>\n",
       "    </tr>\n",
       "    <tr>\n",
       "      <th>38</th>\n",
       "      <td>Hometown_Clinton</td>\n",
       "      <td>1.400000</td>\n",
       "    </tr>\n",
       "    <tr>\n",
       "      <th>39</th>\n",
       "      <td>Unit_Human Resource Management</td>\n",
       "      <td>0.800000</td>\n",
       "    </tr>\n",
       "    <tr>\n",
       "      <th>40</th>\n",
       "      <td>Unit_Security</td>\n",
       "      <td>0.666667</td>\n",
       "    </tr>\n",
       "    <tr>\n",
       "      <th>41</th>\n",
       "      <td>Unit_Accounting and Finance</td>\n",
       "      <td>0.666667</td>\n",
       "    </tr>\n",
       "    <tr>\n",
       "      <th>42</th>\n",
       "      <td>Compensation_and_Benefits_type4</td>\n",
       "      <td>0.666667</td>\n",
       "    </tr>\n",
       "    <tr>\n",
       "      <th>43</th>\n",
       "      <td>Unit_Production</td>\n",
       "      <td>0.400000</td>\n",
       "    </tr>\n",
       "    <tr>\n",
       "      <th>44</th>\n",
       "      <td>Unit_Quality</td>\n",
       "      <td>0.333333</td>\n",
       "    </tr>\n",
       "    <tr>\n",
       "      <th>45</th>\n",
       "      <td>Unit_Marketing</td>\n",
       "      <td>0.000000</td>\n",
       "    </tr>\n",
       "  </tbody>\n",
       "</table>\n",
       "</div>"
      ],
      "text/plain": [
       "                              Feature  importance\n",
       "0                         growth_rate   44.866667\n",
       "1                                 Age   44.600000\n",
       "2                     Time_of_service   41.533333\n",
       "3                           Pay_Scale   23.733333\n",
       "4                                VAR2   21.133333\n",
       "5                                VAR7   18.866667\n",
       "6                   Work_Life_balance   18.333333\n",
       "7                                VAR6   15.866667\n",
       "8                                VAR1   14.466667\n",
       "9                          Post_Level   14.000000\n",
       "10               Time_since_promotion   13.000000\n",
       "11                               VAR5   13.000000\n",
       "12                               VAR3   12.000000\n",
       "13                    Education_Level   11.933333\n",
       "14                        Travel_Rate    8.800000\n",
       "15                           Gender_F    8.466667\n",
       "16  Decision_skill_possess_Behavioral    6.933333\n",
       "17        Relationship_Status_Married    6.600000\n",
       "18                               VAR4    6.600000\n",
       "19                   Hometown_Lebanon    5.866667\n",
       "20    Compensation_and_Benefits_type2    5.466667\n",
       "21    Compensation_and_Benefits_type0    4.933333\n",
       "22                            Unit_IT    4.733333\n",
       "23                  Hometown_Franklin    4.533333\n",
       "24                Hometown_Washington    4.533333\n",
       "25               Hometown_Springfield    4.200000\n",
       "26                           Gender_M    4.066667\n",
       "27                           Unit_R&D    4.066667\n",
       "28   Decision_skill_possess_Directive    3.733333\n",
       "29                         Unit_Sales    3.733333\n",
       "30    Compensation_and_Benefits_type3    3.666667\n",
       "31  Decision_skill_possess_Analytical    3.600000\n",
       "32  Decision_skill_possess_Conceptual    3.533333\n",
       "33                    Unit_Purchasing    3.400000\n",
       "34                    Unit_Operarions    2.666667\n",
       "35         Relationship_Status_Single    2.666667\n",
       "36                     Unit_Logistics    2.466667\n",
       "37    Compensation_and_Benefits_type1    1.933333\n",
       "38                   Hometown_Clinton    1.400000\n",
       "39     Unit_Human Resource Management    0.800000\n",
       "40                      Unit_Security    0.666667\n",
       "41        Unit_Accounting and Finance    0.666667\n",
       "42    Compensation_and_Benefits_type4    0.666667\n",
       "43                    Unit_Production    0.400000\n",
       "44                       Unit_Quality    0.333333\n",
       "45                     Unit_Marketing    0.000000"
      ]
     },
     "execution_count": 40,
     "metadata": {},
     "output_type": "execute_result"
    }
   ],
   "source": [
    "all_feat = feature_importance_df[[\"Feature\", \n",
    "                                      \"importance\"]].groupby(\"Feature\").mean().sort_values(by=\"importance\", \n",
    "                                                                                           ascending=False)\n",
    "all_feat.reset_index(inplace=True)\n",
    "important_feat = list(all_feat['Feature'])\n",
    "all_feat"
   ]
  },
  {
   "cell_type": "code",
   "execution_count": 41,
   "metadata": {},
   "outputs": [
    {
     "name": "stdout",
     "output_type": "stream",
     "text": [
      "2\n",
      "['Gender_M', 'Relationship_Status_Single']\n"
     ]
    }
   ],
   "source": [
    "df = X[important_feat]\n",
    "corr_matrix = df.corr().abs()\n",
    "\n",
    "upper = corr_matrix.where(np.triu(np.ones(corr_matrix.shape), k=1).astype(np.bool))\n",
    "\n",
    "high_cor = [column for column in upper.columns if any(upper[column] > 0.98)]\n",
    "print(len(high_cor))\n",
    "print(high_cor)"
   ]
  },
  {
   "cell_type": "code",
   "execution_count": 42,
   "metadata": {},
   "outputs": [
    {
     "name": "stdout",
     "output_type": "stream",
     "text": [
      "44\n",
      "['growth_rate', 'Age', 'Time_of_service', 'Pay_Scale', 'VAR2', 'VAR7', 'Work_Life_balance', 'VAR6', 'VAR1', 'Post_Level', 'Time_since_promotion', 'VAR5', 'VAR3', 'Education_Level', 'Travel_Rate', 'Gender_F', 'Decision_skill_possess_Behavioral', 'Relationship_Status_Married', 'VAR4', 'Hometown_Lebanon', 'Compensation_and_Benefits_type2', 'Compensation_and_Benefits_type0', 'Unit_IT', 'Hometown_Franklin', 'Hometown_Washington', 'Hometown_Springfield', 'Unit_R&D', 'Decision_skill_possess_Directive', 'Unit_Sales', 'Compensation_and_Benefits_type3', 'Decision_skill_possess_Analytical', 'Decision_skill_possess_Conceptual', 'Unit_Purchasing', 'Unit_Operarions', 'Unit_Logistics', 'Compensation_and_Benefits_type1', 'Hometown_Clinton', 'Unit_Human Resource Management', 'Unit_Security', 'Unit_Accounting and Finance', 'Compensation_and_Benefits_type4', 'Unit_Production', 'Unit_Quality', 'Unit_Marketing']\n"
     ]
    }
   ],
   "source": [
    "features = [i for i in important_feat if i not in high_cor]\n",
    "print(len(features))\n",
    "print(features)"
   ]
  },
  {
   "cell_type": "code",
   "execution_count": 43,
   "metadata": {
    "scrolled": true
   },
   "outputs": [
    {
     "name": "stderr",
     "output_type": "stream",
     "text": [
      "C:\\Users\\hungu\\anaconda.x\\lib\\site-packages\\xgboost\\core.py:587: FutureWarning: Series.base is deprecated and will be removed in a future version\n",
      "  if getattr(data, 'base', None) is not None and \\\n"
     ]
    },
    {
     "name": "stdout",
     "output_type": "stream",
     "text": [
      "[16:36:41] WARNING: C:/Jenkins/workspace/xgboost-win64_release_0.90/src/objective/regression_obj.cu:152: reg:linear is now deprecated in favor of reg:squarederror.\n",
      "[0]\tvalidation_0-rmse:0.340184\tvalidation_1-rmse:0.347222\n",
      "Multiple eval metrics have been passed: 'validation_1-rmse' will be used for early stopping.\n",
      "\n",
      "Will train until validation_1-rmse hasn't improved in 200 rounds.\n",
      "[200]\tvalidation_0-rmse:0.140313\tvalidation_1-rmse:0.178271\n",
      "Stopping. Best iteration:\n",
      "[68]\tvalidation_0-rmse:0.166029\tvalidation_1-rmse:0.174727\n",
      "\n",
      "1 err_xgb:  82.5273079833931\n",
      "[16:36:59] WARNING: C:/Jenkins/workspace/xgboost-win64_release_0.90/src/objective/regression_obj.cu:152: reg:linear is now deprecated in favor of reg:squarederror.\n",
      "[0]\tvalidation_0-rmse:0.341096\tvalidation_1-rmse:0.333656\n",
      "Multiple eval metrics have been passed: 'validation_1-rmse' will be used for early stopping.\n",
      "\n",
      "Will train until validation_1-rmse hasn't improved in 200 rounds.\n"
     ]
    },
    {
     "name": "stderr",
     "output_type": "stream",
     "text": [
      "C:\\Users\\hungu\\anaconda.x\\lib\\site-packages\\xgboost\\core.py:587: FutureWarning: Series.base is deprecated and will be removed in a future version\n",
      "  if getattr(data, 'base', None) is not None and \\\n"
     ]
    },
    {
     "name": "stdout",
     "output_type": "stream",
     "text": [
      "[200]\tvalidation_0-rmse:0.14174\tvalidation_1-rmse:0.177114\n",
      "Stopping. Best iteration:\n",
      "[42]\tvalidation_0-rmse:0.172375\tvalidation_1-rmse:0.175247\n",
      "\n",
      "2 err_xgb:  82.47526290950987\n",
      "[16:37:16] WARNING: C:/Jenkins/workspace/xgboost-win64_release_0.90/src/objective/regression_obj.cu:152: reg:linear is now deprecated in favor of reg:squarederror.\n",
      "[0]\tvalidation_0-rmse:0.340957\tvalidation_1-rmse:0.336105\n",
      "Multiple eval metrics have been passed: 'validation_1-rmse' will be used for early stopping.\n",
      "\n",
      "Will train until validation_1-rmse hasn't improved in 200 rounds.\n"
     ]
    },
    {
     "name": "stderr",
     "output_type": "stream",
     "text": [
      "C:\\Users\\hungu\\anaconda.x\\lib\\site-packages\\xgboost\\core.py:587: FutureWarning: Series.base is deprecated and will be removed in a future version\n",
      "  if getattr(data, 'base', None) is not None and \\\n"
     ]
    },
    {
     "name": "stdout",
     "output_type": "stream",
     "text": [
      "[200]\tvalidation_0-rmse:0.141014\tvalidation_1-rmse:0.186789\n",
      "Stopping. Best iteration:\n",
      "[41]\tvalidation_0-rmse:0.171811\tvalidation_1-rmse:0.181461\n",
      "\n",
      "3 err_xgb:  81.85394355429622\n"
     ]
    },
    {
     "name": "stderr",
     "output_type": "stream",
     "text": [
      "C:\\Users\\hungu\\anaconda.x\\lib\\site-packages\\xgboost\\core.py:587: FutureWarning: Series.base is deprecated and will be removed in a future version\n",
      "  if getattr(data, 'base', None) is not None and \\\n"
     ]
    },
    {
     "name": "stdout",
     "output_type": "stream",
     "text": [
      "[16:37:31] WARNING: C:/Jenkins/workspace/xgboost-win64_release_0.90/src/objective/regression_obj.cu:152: reg:linear is now deprecated in favor of reg:squarederror.\n",
      "[0]\tvalidation_0-rmse:0.340451\tvalidation_1-rmse:0.343444\n",
      "Multiple eval metrics have been passed: 'validation_1-rmse' will be used for early stopping.\n",
      "\n",
      "Will train until validation_1-rmse hasn't improved in 200 rounds.\n",
      "[200]\tvalidation_0-rmse:0.139718\tvalidation_1-rmse:0.19525\n",
      "Stopping. Best iteration:\n",
      "[44]\tvalidation_0-rmse:0.170519\tvalidation_1-rmse:0.192084\n",
      "\n",
      "4 err_xgb:  80.79160219116555\n",
      "[16:37:47] WARNING: C:/Jenkins/workspace/xgboost-win64_release_0.90/src/objective/regression_obj.cu:152: reg:linear is now deprecated in favor of reg:squarederror.\n",
      "[0]\tvalidation_0-rmse:0.340617\tvalidation_1-rmse:0.340995\n",
      "Multiple eval metrics have been passed: 'validation_1-rmse' will be used for early stopping.\n",
      "\n",
      "Will train until validation_1-rmse hasn't improved in 200 rounds.\n"
     ]
    },
    {
     "name": "stderr",
     "output_type": "stream",
     "text": [
      "C:\\Users\\hungu\\anaconda.x\\lib\\site-packages\\xgboost\\core.py:587: FutureWarning: Series.base is deprecated and will be removed in a future version\n",
      "  if getattr(data, 'base', None) is not None and \\\n"
     ]
    },
    {
     "name": "stdout",
     "output_type": "stream",
     "text": [
      "[200]\tvalidation_0-rmse:0.140962\tvalidation_1-rmse:0.192537\n",
      "Stopping. Best iteration:\n",
      "[45]\tvalidation_0-rmse:0.171147\tvalidation_1-rmse:0.18742\n",
      "\n",
      "5 err_xgb:  81.25802144344661\n",
      "[16:38:04] WARNING: C:/Jenkins/workspace/xgboost-win64_release_0.90/src/objective/regression_obj.cu:152: reg:linear is now deprecated in favor of reg:squarederror.\n",
      "[0]\tvalidation_0-rmse:0.340878\tvalidation_1-rmse:0.3372\n",
      "Multiple eval metrics have been passed: 'validation_1-rmse' will be used for early stopping.\n",
      "\n",
      "Will train until validation_1-rmse hasn't improved in 200 rounds.\n"
     ]
    },
    {
     "name": "stderr",
     "output_type": "stream",
     "text": [
      "C:\\Users\\hungu\\anaconda.x\\lib\\site-packages\\xgboost\\core.py:587: FutureWarning: Series.base is deprecated and will be removed in a future version\n",
      "  if getattr(data, 'base', None) is not None and \\\n"
     ]
    },
    {
     "name": "stdout",
     "output_type": "stream",
     "text": [
      "[200]\tvalidation_0-rmse:0.139383\tvalidation_1-rmse:0.201664\n",
      "Stopping. Best iteration:\n",
      "[32]\tvalidation_0-rmse:0.175265\tvalidation_1-rmse:0.198768\n",
      "\n",
      "6 err_xgb:  80.12321580410662\n",
      "[16:38:20] WARNING: C:/Jenkins/workspace/xgboost-win64_release_0.90/src/objective/regression_obj.cu:152: reg:linear is now deprecated in favor of reg:squarederror.\n",
      "[0]\tvalidation_0-rmse:0.341124\tvalidation_1-rmse:0.332794\n",
      "Multiple eval metrics have been passed: 'validation_1-rmse' will be used for early stopping.\n",
      "\n",
      "Will train until validation_1-rmse hasn't improved in 200 rounds.\n"
     ]
    },
    {
     "name": "stderr",
     "output_type": "stream",
     "text": [
      "C:\\Users\\hungu\\anaconda.x\\lib\\site-packages\\xgboost\\core.py:587: FutureWarning: Series.base is deprecated and will be removed in a future version\n",
      "  if getattr(data, 'base', None) is not None and \\\n"
     ]
    },
    {
     "name": "stdout",
     "output_type": "stream",
     "text": [
      "[200]\tvalidation_0-rmse:0.138639\tvalidation_1-rmse:0.21038\n",
      "Stopping. Best iteration:\n",
      "[27]\tvalidation_0-rmse:0.176204\tvalidation_1-rmse:0.205067\n",
      "\n",
      "7 err_xgb:  79.4933324790639\n",
      "[16:38:35] WARNING: C:/Jenkins/workspace/xgboost-win64_release_0.90/src/objective/regression_obj.cu:152: reg:linear is now deprecated in favor of reg:squarederror.\n",
      "[0]\tvalidation_0-rmse:0.340395\tvalidation_1-rmse:0.344628\n",
      "Multiple eval metrics have been passed: 'validation_1-rmse' will be used for early stopping.\n",
      "\n",
      "Will train until validation_1-rmse hasn't improved in 200 rounds.\n"
     ]
    },
    {
     "name": "stderr",
     "output_type": "stream",
     "text": [
      "C:\\Users\\hungu\\anaconda.x\\lib\\site-packages\\xgboost\\core.py:587: FutureWarning: Series.base is deprecated and will be removed in a future version\n",
      "  if getattr(data, 'base', None) is not None and \\\n"
     ]
    },
    {
     "name": "stdout",
     "output_type": "stream",
     "text": [
      "[200]\tvalidation_0-rmse:0.142206\tvalidation_1-rmse:0.183392\n",
      "Stopping. Best iteration:\n",
      "[85]\tvalidation_0-rmse:0.162654\tvalidation_1-rmse:0.181479\n",
      "\n",
      "8 err_xgb:  81.85206301173568\n",
      "[16:38:56] WARNING: C:/Jenkins/workspace/xgboost-win64_release_0.90/src/objective/regression_obj.cu:152: reg:linear is now deprecated in favor of reg:squarederror.\n",
      "[0]\tvalidation_0-rmse:0.341049\tvalidation_1-rmse:0.334174\n",
      "Multiple eval metrics have been passed: 'validation_1-rmse' will be used for early stopping.\n",
      "\n",
      "Will train until validation_1-rmse hasn't improved in 200 rounds.\n"
     ]
    },
    {
     "name": "stderr",
     "output_type": "stream",
     "text": [
      "C:\\Users\\hungu\\anaconda.x\\lib\\site-packages\\xgboost\\core.py:587: FutureWarning: Series.base is deprecated and will be removed in a future version\n",
      "  if getattr(data, 'base', None) is not None and \\\n"
     ]
    },
    {
     "name": "stdout",
     "output_type": "stream",
     "text": [
      "[200]\tvalidation_0-rmse:0.141397\tvalidation_1-rmse:0.178519\n",
      "Stopping. Best iteration:\n",
      "[40]\tvalidation_0-rmse:0.173277\tvalidation_1-rmse:0.173075\n",
      "\n",
      "9 err_xgb:  82.69254096699264\n"
     ]
    },
    {
     "name": "stderr",
     "output_type": "stream",
     "text": [
      "C:\\Users\\hungu\\anaconda.x\\lib\\site-packages\\xgboost\\core.py:587: FutureWarning: Series.base is deprecated and will be removed in a future version\n",
      "  if getattr(data, 'base', None) is not None and \\\n"
     ]
    },
    {
     "name": "stdout",
     "output_type": "stream",
     "text": [
      "[16:39:11] WARNING: C:/Jenkins/workspace/xgboost-win64_release_0.90/src/objective/regression_obj.cu:152: reg:linear is now deprecated in favor of reg:squarederror.\n",
      "[0]\tvalidation_0-rmse:0.339945\tvalidation_1-rmse:0.351664\n",
      "Multiple eval metrics have been passed: 'validation_1-rmse' will be used for early stopping.\n",
      "\n",
      "Will train until validation_1-rmse hasn't improved in 200 rounds.\n",
      "[200]\tvalidation_0-rmse:0.139794\tvalidation_1-rmse:0.195984\n",
      "Stopping. Best iteration:\n",
      "[47]\tvalidation_0-rmse:0.17023\tvalidation_1-rmse:0.189408\n",
      "\n",
      "10 err_xgb:  81.05921246442277\n",
      "[16:39:28] WARNING: C:/Jenkins/workspace/xgboost-win64_release_0.90/src/objective/regression_obj.cu:152: reg:linear is now deprecated in favor of reg:squarederror.\n"
     ]
    },
    {
     "name": "stderr",
     "output_type": "stream",
     "text": [
      "C:\\Users\\hungu\\anaconda.x\\lib\\site-packages\\xgboost\\core.py:587: FutureWarning: Series.base is deprecated and will be removed in a future version\n",
      "  if getattr(data, 'base', None) is not None and \\\n"
     ]
    },
    {
     "name": "stdout",
     "output_type": "stream",
     "text": [
      "[0]\tvalidation_0-rmse:0.340323\tvalidation_1-rmse:0.345292\n",
      "Multiple eval metrics have been passed: 'validation_1-rmse' will be used for early stopping.\n",
      "\n",
      "Will train until validation_1-rmse hasn't improved in 200 rounds.\n",
      "[200]\tvalidation_0-rmse:0.14164\tvalidation_1-rmse:0.184799\n",
      "Stopping. Best iteration:\n",
      "[51]\tvalidation_0-rmse:0.170528\tvalidation_1-rmse:0.181399\n",
      "\n",
      "11 err_xgb:  81.86009066195604\n",
      "[16:39:45] WARNING: C:/Jenkins/workspace/xgboost-win64_release_0.90/src/objective/regression_obj.cu:152: reg:linear is now deprecated in favor of reg:squarederror.\n"
     ]
    },
    {
     "name": "stderr",
     "output_type": "stream",
     "text": [
      "C:\\Users\\hungu\\anaconda.x\\lib\\site-packages\\xgboost\\core.py:587: FutureWarning: Series.base is deprecated and will be removed in a future version\n",
      "  if getattr(data, 'base', None) is not None and \\\n"
     ]
    },
    {
     "name": "stdout",
     "output_type": "stream",
     "text": [
      "[0]\tvalidation_0-rmse:0.340753\tvalidation_1-rmse:0.339652\n",
      "Multiple eval metrics have been passed: 'validation_1-rmse' will be used for early stopping.\n",
      "\n",
      "Will train until validation_1-rmse hasn't improved in 200 rounds.\n",
      "[200]\tvalidation_0-rmse:0.140878\tvalidation_1-rmse:0.187702\n",
      "Stopping. Best iteration:\n",
      "[38]\tvalidation_0-rmse:0.17319\tvalidation_1-rmse:0.178444\n",
      "\n",
      "12 err_xgb:  82.1555537046764\n"
     ]
    },
    {
     "name": "stderr",
     "output_type": "stream",
     "text": [
      "C:\\Users\\hungu\\anaconda.x\\lib\\site-packages\\xgboost\\core.py:587: FutureWarning: Series.base is deprecated and will be removed in a future version\n",
      "  if getattr(data, 'base', None) is not None and \\\n"
     ]
    },
    {
     "name": "stdout",
     "output_type": "stream",
     "text": [
      "[16:40:02] WARNING: C:/Jenkins/workspace/xgboost-win64_release_0.90/src/objective/regression_obj.cu:152: reg:linear is now deprecated in favor of reg:squarederror.\n",
      "[0]\tvalidation_0-rmse:0.340567\tvalidation_1-rmse:0.341743\n",
      "Multiple eval metrics have been passed: 'validation_1-rmse' will be used for early stopping.\n",
      "\n",
      "Will train until validation_1-rmse hasn't improved in 200 rounds.\n",
      "[200]\tvalidation_0-rmse:0.140377\tvalidation_1-rmse:0.181578\n",
      "Stopping. Best iteration:\n",
      "[46]\tvalidation_0-rmse:0.171521\tvalidation_1-rmse:0.178413\n",
      "\n",
      "13 err_xgb:  82.15868345622437\n"
     ]
    },
    {
     "name": "stderr",
     "output_type": "stream",
     "text": [
      "C:\\Users\\hungu\\anaconda.x\\lib\\site-packages\\xgboost\\core.py:587: FutureWarning: Series.base is deprecated and will be removed in a future version\n",
      "  if getattr(data, 'base', None) is not None and \\\n"
     ]
    },
    {
     "name": "stdout",
     "output_type": "stream",
     "text": [
      "[16:40:21] WARNING: C:/Jenkins/workspace/xgboost-win64_release_0.90/src/objective/regression_obj.cu:152: reg:linear is now deprecated in favor of reg:squarederror.\n",
      "[0]\tvalidation_0-rmse:0.340513\tvalidation_1-rmse:0.343398\n",
      "Multiple eval metrics have been passed: 'validation_1-rmse' will be used for early stopping.\n",
      "\n",
      "Will train until validation_1-rmse hasn't improved in 200 rounds.\n",
      "[200]\tvalidation_0-rmse:0.140126\tvalidation_1-rmse:0.195663\n",
      "Stopping. Best iteration:\n",
      "[45]\tvalidation_0-rmse:0.171507\tvalidation_1-rmse:0.190822\n",
      "\n",
      "14 err_xgb:  80.91780257842657\n",
      "[16:40:40] WARNING: C:/Jenkins/workspace/xgboost-win64_release_0.90/src/objective/regression_obj.cu:152: reg:linear is now deprecated in favor of reg:squarederror.\n",
      "[0]\tvalidation_0-rmse:0.340434\tvalidation_1-rmse:0.342042\n",
      "Multiple eval metrics have been passed: 'validation_1-rmse' will be used for early stopping.\n",
      "\n",
      "Will train until validation_1-rmse hasn't improved in 200 rounds.\n"
     ]
    },
    {
     "name": "stderr",
     "output_type": "stream",
     "text": [
      "C:\\Users\\hungu\\anaconda.x\\lib\\site-packages\\xgboost\\core.py:587: FutureWarning: Series.base is deprecated and will be removed in a future version\n",
      "  if getattr(data, 'base', None) is not None and \\\n"
     ]
    },
    {
     "name": "stdout",
     "output_type": "stream",
     "text": [
      "[200]\tvalidation_0-rmse:0.139762\tvalidation_1-rmse:0.216027\n",
      "Stopping. Best iteration:\n",
      "[37]\tvalidation_0-rmse:0.172132\tvalidation_1-rmse:0.210611\n",
      "\n",
      "15 err_xgb:  78.93885419079551\n"
     ]
    }
   ],
   "source": [
    "from xgboost import XGBRegressor\n",
    "from sklearn.model_selection import KFold\n",
    "\n",
    "errxgb = []\n",
    "y_pred_tot_xgb = []\n",
    "\n",
    "fold = KFold(n_splits=15, shuffle=True)\n",
    "i = 1\n",
    "for train_index, test_index in fold.split(X, y):\n",
    "    x_train, x_val = X.iloc[train_index], X.iloc[test_index]\n",
    "    y_train, y_val = y[train_index], y[test_index]\n",
    "    m = XGBRegressor(boosting_type='gbdt',\n",
    "                      max_depth=5,\n",
    "                      learning_rate=0.08,\n",
    "                      n_estimators=5000,\n",
    "                      random_state=1994)\n",
    "    m.fit(x_train, y_train,\n",
    "          eval_set=[(x_train,y_train),(x_val, y_val)],\n",
    "          early_stopping_rounds=200,\n",
    "          eval_metric='rmse',\n",
    "          verbose=200)\n",
    "    pred_y = m.predict(x_val)\n",
    "    acc = 100 * max(0, 1 - np.sqrt(mean_squared_error(y_val, pred_y)))\n",
    "\n",
    "    print(i, \"err_xgb: \", acc)\n",
    "    errxgb.append(acc)\n",
    "    pred_test = m.predict(X_test)\n",
    "    i = i + 1\n",
    "    y_pred_tot_xgb.append(pred_test)"
   ]
  },
  {
   "cell_type": "code",
   "execution_count": 44,
   "metadata": {},
   "outputs": [
    {
     "data": {
      "text/plain": [
       "81.34383249334746"
      ]
     },
     "execution_count": 44,
     "metadata": {},
     "output_type": "execute_result"
    }
   ],
   "source": [
    "np.mean(errxgb, 0)"
   ]
  },
  {
   "cell_type": "code",
   "execution_count": 45,
   "metadata": {
    "scrolled": true
   },
   "outputs": [
    {
     "name": "stdout",
     "output_type": "stream",
     "text": [
      "0:\tlearn: 0.1864494\ttest: 0.1864494\ttest1: 0.1772535\tbest: 0.1772535 (0)\ttotal: 467ms\tremaining: 38m 54s\n",
      "200:\tlearn: 0.1360087\ttest: 0.1360087\ttest1: 0.1800592\tbest: 0.1771457 (2)\ttotal: 4.66s\tremaining: 1m 51s\n",
      "Stopped by overfitting detector  (200 iterations wait)\n",
      "\n",
      "bestTest = 0.1771457284\n",
      "bestIteration = 2\n",
      "\n",
      "Shrink model to first 3 iterations.\n",
      "1 err_cb:  82.28542722063474\n",
      "0:\tlearn: 0.1857743\ttest: 0.1857743\ttest1: 0.1835606\tbest: 0.1835606 (0)\ttotal: 32.9ms\tremaining: 2m 44s\n",
      "200:\tlearn: 0.1350433\ttest: 0.1350433\ttest1: 0.1863303\tbest: 0.1835082 (1)\ttotal: 2.81s\tremaining: 1m 7s\n",
      "Stopped by overfitting detector  (200 iterations wait)\n",
      "\n",
      "bestTest = 0.183508152\n",
      "bestIteration = 1\n",
      "\n",
      "Shrink model to first 2 iterations.\n",
      "2 err_cb:  81.64918483021081\n",
      "0:\tlearn: 0.1868597\ttest: 0.1868597\ttest1: 0.1720568\tbest: 0.1720568 (0)\ttotal: 12.2ms\tremaining: 1m\n",
      "200:\tlearn: 0.1363760\ttest: 0.1363760\ttest1: 0.1771013\tbest: 0.1718957 (2)\ttotal: 3.41s\tremaining: 1m 21s\n",
      "Stopped by overfitting detector  (200 iterations wait)\n",
      "\n",
      "bestTest = 0.1718957044\n",
      "bestIteration = 2\n",
      "\n",
      "Shrink model to first 3 iterations.\n",
      "3 err_cb:  82.81042949964159\n",
      "0:\tlearn: 0.1853357\ttest: 0.1853357\ttest1: 0.1868938\tbest: 0.1868938 (0)\ttotal: 108ms\tremaining: 9m\n",
      "200:\tlearn: 0.1376522\ttest: 0.1376522\ttest1: 0.1881518\tbest: 0.1862232 (51)\ttotal: 3.52s\tremaining: 1m 23s\n",
      "Stopped by overfitting detector  (200 iterations wait)\n",
      "\n",
      "bestTest = 0.1862231719\n",
      "bestIteration = 51\n",
      "\n",
      "Shrink model to first 52 iterations.\n",
      "4 err_cb:  81.37768274505504\n",
      "0:\tlearn: 0.1844282\ttest: 0.1844282\ttest1: 0.1943457\tbest: 0.1943457 (0)\ttotal: 66.2ms\tremaining: 5m 30s\n",
      "200:\tlearn: 0.1365372\ttest: 0.1365372\ttest1: 0.1936632\tbest: 0.1934742 (109)\ttotal: 2.34s\tremaining: 55.9s\n",
      "Stopped by overfitting detector  (200 iterations wait)\n",
      "\n",
      "bestTest = 0.1934741651\n",
      "bestIteration = 109\n",
      "\n",
      "Shrink model to first 110 iterations.\n",
      "5 err_cb:  80.65258344269733\n",
      "0:\tlearn: 0.1861335\ttest: 0.1861335\ttest1: 0.1795980\tbest: 0.1795980 (0)\ttotal: 73.2ms\tremaining: 6m 6s\n",
      "200:\tlearn: 0.1352131\ttest: 0.1352131\ttest1: 0.1833992\tbest: 0.1795098 (8)\ttotal: 2.46s\tremaining: 58.8s\n",
      "Stopped by overfitting detector  (200 iterations wait)\n",
      "\n",
      "bestTest = 0.1795098195\n",
      "bestIteration = 8\n",
      "\n",
      "Shrink model to first 9 iterations.\n",
      "6 err_cb:  82.04901810730463\n",
      "0:\tlearn: 0.1857620\ttest: 0.1857620\ttest1: 0.1825381\tbest: 0.1825381 (0)\ttotal: 16.7ms\tremaining: 1m 23s\n",
      "200:\tlearn: 0.1353053\ttest: 0.1353053\ttest1: 0.1857973\tbest: 0.1821138 (7)\ttotal: 2.39s\tremaining: 57.1s\n",
      "Stopped by overfitting detector  (200 iterations wait)\n",
      "\n",
      "bestTest = 0.1821138068\n",
      "bestIteration = 7\n",
      "\n",
      "Shrink model to first 8 iterations.\n",
      "7 err_cb:  81.78861928471845\n",
      "0:\tlearn: 0.1857353\ttest: 0.1857353\ttest1: 0.1821479\tbest: 0.1821479 (0)\ttotal: 30ms\tremaining: 2m 30s\n",
      "200:\tlearn: 0.1361913\ttest: 0.1361913\ttest1: 0.1841662\tbest: 0.1820737 (5)\ttotal: 2.71s\tremaining: 1m 4s\n",
      "Stopped by overfitting detector  (200 iterations wait)\n",
      "\n",
      "bestTest = 0.1820736834\n",
      "bestIteration = 5\n",
      "\n",
      "Shrink model to first 6 iterations.\n",
      "8 err_cb:  81.79263164633703\n",
      "0:\tlearn: 0.1828223\ttest: 0.1828223\ttest1: 0.2082839\tbest: 0.2082839 (0)\ttotal: 11.7ms\tremaining: 58.3s\n",
      "200:\tlearn: 0.1350290\ttest: 0.1350290\ttest1: 0.2085373\tbest: 0.2076364 (49)\ttotal: 3.46s\tremaining: 1m 22s\n",
      "Stopped by overfitting detector  (200 iterations wait)\n",
      "\n",
      "bestTest = 0.2076364031\n",
      "bestIteration = 49\n",
      "\n",
      "Shrink model to first 50 iterations.\n",
      "9 err_cb:  79.23635968562735\n",
      "0:\tlearn: 0.1851794\ttest: 0.1851794\ttest1: 0.1885256\tbest: 0.1885256 (0)\ttotal: 38.2ms\tremaining: 3m 11s\n",
      "200:\tlearn: 0.1334413\ttest: 0.1334413\ttest1: 0.1891607\tbest: 0.1882851 (75)\ttotal: 3.05s\tremaining: 1m 12s\n",
      "Stopped by overfitting detector  (200 iterations wait)\n",
      "\n",
      "bestTest = 0.1882850744\n",
      "bestIteration = 75\n",
      "\n",
      "Shrink model to first 76 iterations.\n",
      "10 err_cb:  81.17149248741566\n"
     ]
    }
   ],
   "source": [
    "from catboost import CatBoostRegressor,Pool, cv\n",
    "errCB = []\n",
    "y_pred_tot_cb = []\n",
    "\n",
    "fold = KFold(n_splits=10)\n",
    "i = 1\n",
    "for train_index, test_index in fold.split(X,y):\n",
    "    x_train, x_val = X.iloc[train_index], X.iloc[test_index]\n",
    "    y_train, y_val = y[train_index], y[test_index]\n",
    "    m = CatBoostRegressor(n_estimators=5000,\n",
    "                          learning_rate=0.08, \n",
    "                          depth=8)\n",
    "    m.fit(x_train, y_train,\n",
    "          eval_set=[(x_train,y_train),(x_val, y_val)],\n",
    "          early_stopping_rounds=200,\n",
    "          verbose=200)\n",
    "    pred_y = m.predict(x_val)\n",
    "    \n",
    "    acc = 100 * max(0, 1 - np.sqrt(mean_squared_error(y_val, pred_y)))\n",
    "    print(i, \"err_cb: \",acc)\n",
    "    errCB.append(acc)\n",
    "    pred_test = m.predict(X_test)\n",
    "    i = i + 1\n",
    "    y_pred_tot_cb.append(pred_test)"
   ]
  },
  {
   "cell_type": "code",
   "execution_count": 46,
   "metadata": {},
   "outputs": [
    {
     "data": {
      "text/plain": [
       "81.48134289496427"
      ]
     },
     "execution_count": 46,
     "metadata": {},
     "output_type": "execute_result"
    }
   ],
   "source": [
    "np.mean(errCB, 0)"
   ]
  },
  {
   "cell_type": "code",
   "execution_count": 47,
   "metadata": {},
   "outputs": [
    {
     "name": "stdout",
     "output_type": "stream",
     "text": [
      "1 err_rf:  80.70591877979288\n",
      "2 err_rf:  84.05406679333551\n",
      "3 err_rf:  81.5066557384491\n",
      "4 err_rf:  81.60505506298131\n",
      "5 err_rf:  79.59576086082564\n",
      "6 err_rf:  82.88474963012258\n",
      "7 err_rf:  81.9970072037085\n",
      "8 err_rf:  81.60875646826852\n",
      "9 err_rf:  81.68450178756994\n",
      "10 err_rf:  80.99226526077213\n",
      "11 err_rf:  80.1559753542003\n",
      "12 err_rf:  79.64741261822618\n",
      "13 err_rf:  80.60547107832286\n",
      "14 err_rf:  82.16602951772434\n",
      "15 err_rf:  82.16989971741572\n"
     ]
    }
   ],
   "source": [
    "from sklearn.ensemble import RandomForestRegressor\n",
    "errrf = []\n",
    "y_pred_tot_rf = []\n",
    "\n",
    "fold = KFold(n_splits=15, shuffle=True)\n",
    "i = 1\n",
    "for train_index, test_index in fold.split(X,y):\n",
    "    x_train, x_val = X.iloc[train_index], X.iloc[test_index]\n",
    "    y_train, y_val = y[train_index], y[test_index]\n",
    "    m = RandomForestRegressor(n_estimators=500, \n",
    "                              max_depth=5)\n",
    "    m.fit(x_train, y_train)\n",
    "    pred_y = m.predict(x_val)\n",
    "    \n",
    "    acc = 100 * max(0, 1 - np.sqrt(mean_squared_error(y_val, pred_y)))\n",
    "    print(i, \"err_rf: \",acc)\n",
    "    errrf.append(acc)\n",
    "    pred_test = m.predict(X_test)\n",
    "    i = i + 1\n",
    "    y_pred_tot_rf.append(pred_test)"
   ]
  },
  {
   "cell_type": "code",
   "execution_count": 48,
   "metadata": {},
   "outputs": [
    {
     "data": {
      "text/plain": [
       "81.42530172478105"
      ]
     },
     "execution_count": 48,
     "metadata": {},
     "output_type": "execute_result"
    }
   ],
   "source": [
    "np.mean(errrf)"
   ]
  },
  {
   "cell_type": "code",
   "execution_count": 49,
   "metadata": {
    "scrolled": true
   },
   "outputs": [
    {
     "data": {
      "text/plain": [
       "81.4287537285465"
      ]
     },
     "execution_count": 49,
     "metadata": {},
     "output_type": "execute_result"
    }
   ],
   "source": [
    "(np.mean(errxgb, 0) + np.mean(err, 0) + np.mean(errCB, 0) + np.mean(errrf, 0))/4"
   ]
  },
  {
   "cell_type": "code",
   "execution_count": 50,
   "metadata": {},
   "outputs": [],
   "source": [
    "submission = pd.DataFrame()\n",
    "submission['Employee_ID'] = test['Employee_ID']\n",
    "submission['Attrition_rate'] = (np.mean(y_pred_tot_xgb, 0) + \n",
    "                                np.mean(y_pred_tot_lgm, 0) + \n",
    "                                np.mean(y_pred_tot_cb, 0) + \n",
    "                                np.mean(y_pred_tot_rf, 0))/4\n",
    "submission.to_csv('Stacking.csv', index=False)"
   ]
  },
  {
   "cell_type": "code",
   "execution_count": 51,
   "metadata": {
    "scrolled": false
   },
   "outputs": [
    {
     "data": {
      "text/html": [
       "<div>\n",
       "<style scoped>\n",
       "    .dataframe tbody tr th:only-of-type {\n",
       "        vertical-align: middle;\n",
       "    }\n",
       "\n",
       "    .dataframe tbody tr th {\n",
       "        vertical-align: top;\n",
       "    }\n",
       "\n",
       "    .dataframe thead th {\n",
       "        text-align: right;\n",
       "    }\n",
       "</style>\n",
       "<table border=\"1\" class=\"dataframe\">\n",
       "  <thead>\n",
       "    <tr style=\"text-align: right;\">\n",
       "      <th></th>\n",
       "      <th>Employee_ID</th>\n",
       "      <th>Attrition_rate</th>\n",
       "    </tr>\n",
       "  </thead>\n",
       "  <tbody>\n",
       "    <tr>\n",
       "      <th>0</th>\n",
       "      <td>EID_22713</td>\n",
       "      <td>0.202048</td>\n",
       "    </tr>\n",
       "    <tr>\n",
       "      <th>1</th>\n",
       "      <td>EID_9658</td>\n",
       "      <td>0.216531</td>\n",
       "    </tr>\n",
       "    <tr>\n",
       "      <th>2</th>\n",
       "      <td>EID_22203</td>\n",
       "      <td>0.190949</td>\n",
       "    </tr>\n",
       "    <tr>\n",
       "      <th>3</th>\n",
       "      <td>EID_7652</td>\n",
       "      <td>0.191930</td>\n",
       "    </tr>\n",
       "    <tr>\n",
       "      <th>4</th>\n",
       "      <td>EID_6516</td>\n",
       "      <td>0.199828</td>\n",
       "    </tr>\n",
       "  </tbody>\n",
       "</table>\n",
       "</div>"
      ],
      "text/plain": [
       "  Employee_ID  Attrition_rate\n",
       "0   EID_22713        0.202048\n",
       "1    EID_9658        0.216531\n",
       "2   EID_22203        0.190949\n",
       "3    EID_7652        0.191930\n",
       "4    EID_6516        0.199828"
      ]
     },
     "execution_count": 51,
     "metadata": {},
     "output_type": "execute_result"
    }
   ],
   "source": [
    "submission.head()"
   ]
  }
 ],
 "metadata": {
  "kernelspec": {
   "display_name": "Python 3",
   "language": "python",
   "name": "python3"
  },
  "language_info": {
   "codemirror_mode": {
    "name": "ipython",
    "version": 3
   },
   "file_extension": ".py",
   "mimetype": "text/x-python",
   "name": "python",
   "nbconvert_exporter": "python",
   "pygments_lexer": "ipython3",
   "version": "3.7.3"
  }
 },
 "nbformat": 4,
 "nbformat_minor": 2
}
