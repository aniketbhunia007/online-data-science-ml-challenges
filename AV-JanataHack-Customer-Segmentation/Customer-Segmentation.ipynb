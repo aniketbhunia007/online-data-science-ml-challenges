{
  "nbformat": 4,
  "nbformat_minor": 0,
  "metadata": {
    "colab": {
      "name": "Customer-Segmentation.ipynb",
      "provenance": [],
      "collapsed_sections": [],
      "authorship_tag": "ABX9TyNx6y3zUFR4fcKNgY9xc0q8",
      "include_colab_link": true
    },
    "kernelspec": {
      "name": "python3",
      "display_name": "Python 3"
    }
  },
  "cells": [
    {
      "cell_type": "markdown",
      "metadata": {
        "id": "view-in-github",
        "colab_type": "text"
      },
      "source": [
        "<a href=\"https://colab.research.google.com/github/bilalProgTech/online-data-science-ml-challenges/blob/master/AV-JanataHack-Customer-Segmentation/Customer-Segmentation.ipynb\" target=\"_parent\"><img src=\"https://colab.research.google.com/assets/colab-badge.svg\" alt=\"Open In Colab\"/></a>"
      ]
    },
    {
      "cell_type": "code",
      "metadata": {
        "id": "O6hVs7eyhvh6",
        "colab_type": "code",
        "colab": {
          "base_uri": "https://localhost:8080/",
          "height": 173
        },
        "outputId": "e1805bf8-bae2-42f0-fa62-17ed81b9cd0c"
      },
      "source": [
        "import os\n",
        "os.environ['KAGGLE_CONFIG_DIR'] = '/content/'\n",
        "\n",
        "!kaggle datasets download -d mustang007/customer-sgmentation\n",
        "\n",
        "!unzip \\*.zip  && rm *.zip"
      ],
      "execution_count": 1,
      "outputs": [
        {
          "output_type": "stream",
          "text": [
            "Warning: Your Kaggle API key is readable by other users on this system! To fix this, you can run 'chmod 600 /content/kaggle.json'\n",
            "Downloading customer-sgmentation.zip to /content\n",
            "  0% 0.00/105k [00:00<?, ?B/s]\n",
            "100% 105k/105k [00:00<00:00, 40.1MB/s]\n",
            "Archive:  customer-sgmentation.zip\n",
            "  inflating: Coustomer_sgmentation/Test_LqhgPWU.csv  \n",
            "  inflating: Coustomer_sgmentation/Train_aBjfeNk.csv  \n",
            "  inflating: Coustomer_sgmentation/sample_submission_wyi0h0z.csv  \n"
          ],
          "name": "stdout"
        }
      ]
    },
    {
      "cell_type": "code",
      "metadata": {
        "id": "c0EF4nMth0-h",
        "colab_type": "code",
        "colab": {}
      },
      "source": [
        "import pandas as pd\n",
        "import numpy as np\n",
        "import matplotlib.pyplot as plt\n",
        "%matplotlib inline"
      ],
      "execution_count": 2,
      "outputs": []
    },
    {
      "cell_type": "code",
      "metadata": {
        "id": "sm03iJx5h1FO",
        "colab_type": "code",
        "colab": {
          "base_uri": "https://localhost:8080/",
          "height": 224
        },
        "outputId": "bb48f0b1-727a-4fa6-9eb0-5f7f7e861783"
      },
      "source": [
        "train = pd.read_csv('/content/Coustomer_sgmentation/Train_aBjfeNk.csv')\n",
        "test = pd.read_csv('/content/Coustomer_sgmentation/Test_LqhgPWU.csv')\n",
        "train.head()"
      ],
      "execution_count": 3,
      "outputs": [
        {
          "output_type": "execute_result",
          "data": {
            "text/html": [
              "<div>\n",
              "<style scoped>\n",
              "    .dataframe tbody tr th:only-of-type {\n",
              "        vertical-align: middle;\n",
              "    }\n",
              "\n",
              "    .dataframe tbody tr th {\n",
              "        vertical-align: top;\n",
              "    }\n",
              "\n",
              "    .dataframe thead th {\n",
              "        text-align: right;\n",
              "    }\n",
              "</style>\n",
              "<table border=\"1\" class=\"dataframe\">\n",
              "  <thead>\n",
              "    <tr style=\"text-align: right;\">\n",
              "      <th></th>\n",
              "      <th>ID</th>\n",
              "      <th>Gender</th>\n",
              "      <th>Ever_Married</th>\n",
              "      <th>Age</th>\n",
              "      <th>Graduated</th>\n",
              "      <th>Profession</th>\n",
              "      <th>Work_Experience</th>\n",
              "      <th>Spending_Score</th>\n",
              "      <th>Family_Size</th>\n",
              "      <th>Var_1</th>\n",
              "      <th>Segmentation</th>\n",
              "    </tr>\n",
              "  </thead>\n",
              "  <tbody>\n",
              "    <tr>\n",
              "      <th>0</th>\n",
              "      <td>462809</td>\n",
              "      <td>Male</td>\n",
              "      <td>No</td>\n",
              "      <td>22</td>\n",
              "      <td>No</td>\n",
              "      <td>Healthcare</td>\n",
              "      <td>1.0</td>\n",
              "      <td>Low</td>\n",
              "      <td>4.0</td>\n",
              "      <td>Cat_4</td>\n",
              "      <td>D</td>\n",
              "    </tr>\n",
              "    <tr>\n",
              "      <th>1</th>\n",
              "      <td>462643</td>\n",
              "      <td>Female</td>\n",
              "      <td>Yes</td>\n",
              "      <td>38</td>\n",
              "      <td>Yes</td>\n",
              "      <td>Engineer</td>\n",
              "      <td>NaN</td>\n",
              "      <td>Average</td>\n",
              "      <td>3.0</td>\n",
              "      <td>Cat_4</td>\n",
              "      <td>A</td>\n",
              "    </tr>\n",
              "    <tr>\n",
              "      <th>2</th>\n",
              "      <td>466315</td>\n",
              "      <td>Female</td>\n",
              "      <td>Yes</td>\n",
              "      <td>67</td>\n",
              "      <td>Yes</td>\n",
              "      <td>Engineer</td>\n",
              "      <td>1.0</td>\n",
              "      <td>Low</td>\n",
              "      <td>1.0</td>\n",
              "      <td>Cat_6</td>\n",
              "      <td>B</td>\n",
              "    </tr>\n",
              "    <tr>\n",
              "      <th>3</th>\n",
              "      <td>461735</td>\n",
              "      <td>Male</td>\n",
              "      <td>Yes</td>\n",
              "      <td>67</td>\n",
              "      <td>Yes</td>\n",
              "      <td>Lawyer</td>\n",
              "      <td>0.0</td>\n",
              "      <td>High</td>\n",
              "      <td>2.0</td>\n",
              "      <td>Cat_6</td>\n",
              "      <td>B</td>\n",
              "    </tr>\n",
              "    <tr>\n",
              "      <th>4</th>\n",
              "      <td>462669</td>\n",
              "      <td>Female</td>\n",
              "      <td>Yes</td>\n",
              "      <td>40</td>\n",
              "      <td>Yes</td>\n",
              "      <td>Entertainment</td>\n",
              "      <td>NaN</td>\n",
              "      <td>High</td>\n",
              "      <td>6.0</td>\n",
              "      <td>Cat_6</td>\n",
              "      <td>A</td>\n",
              "    </tr>\n",
              "  </tbody>\n",
              "</table>\n",
              "</div>"
            ],
            "text/plain": [
              "       ID  Gender Ever_Married  ...  Family_Size  Var_1 Segmentation\n",
              "0  462809    Male           No  ...          4.0  Cat_4            D\n",
              "1  462643  Female          Yes  ...          3.0  Cat_4            A\n",
              "2  466315  Female          Yes  ...          1.0  Cat_6            B\n",
              "3  461735    Male          Yes  ...          2.0  Cat_6            B\n",
              "4  462669  Female          Yes  ...          6.0  Cat_6            A\n",
              "\n",
              "[5 rows x 11 columns]"
            ]
          },
          "metadata": {
            "tags": []
          },
          "execution_count": 3
        }
      ]
    },
    {
      "cell_type": "code",
      "metadata": {
        "id": "mNNnGdQxh1Lr",
        "colab_type": "code",
        "colab": {
          "base_uri": "https://localhost:8080/",
          "height": 34
        },
        "outputId": "cda6c880-be44-434d-ec05-475faca2375f"
      },
      "source": [
        "combine = train.append(test)\n",
        "combine.shape"
      ],
      "execution_count": 4,
      "outputs": [
        {
          "output_type": "execute_result",
          "data": {
            "text/plain": [
              "(10695, 11)"
            ]
          },
          "metadata": {
            "tags": []
          },
          "execution_count": 4
        }
      ]
    },
    {
      "cell_type": "code",
      "metadata": {
        "id": "NMO4j41yh1Ez",
        "colab_type": "code",
        "colab": {
          "base_uri": "https://localhost:8080/",
          "height": 85
        },
        "outputId": "16969259-8af4-49e9-aa17-54d3e1f55b6d"
      },
      "source": [
        "combine.columns"
      ],
      "execution_count": 5,
      "outputs": [
        {
          "output_type": "execute_result",
          "data": {
            "text/plain": [
              "Index(['ID', 'Gender', 'Ever_Married', 'Age', 'Graduated', 'Profession',\n",
              "       'Work_Experience', 'Spending_Score', 'Family_Size', 'Var_1',\n",
              "       'Segmentation'],\n",
              "      dtype='object')"
            ]
          },
          "metadata": {
            "tags": []
          },
          "execution_count": 5
        }
      ]
    },
    {
      "cell_type": "code",
      "metadata": {
        "id": "nJ-yD_WOk9zx",
        "colab_type": "code",
        "colab": {
          "base_uri": "https://localhost:8080/",
          "height": 221
        },
        "outputId": "d858bcc4-d7cc-4635-8457-ae64d94d260a"
      },
      "source": [
        "combine.isnull().sum()"
      ],
      "execution_count": 6,
      "outputs": [
        {
          "output_type": "execute_result",
          "data": {
            "text/plain": [
              "ID                    0\n",
              "Gender                0\n",
              "Ever_Married        190\n",
              "Age                   0\n",
              "Graduated           102\n",
              "Profession          162\n",
              "Work_Experience    1098\n",
              "Spending_Score        0\n",
              "Family_Size         448\n",
              "Var_1               108\n",
              "Segmentation       2627\n",
              "dtype: int64"
            ]
          },
          "metadata": {
            "tags": []
          },
          "execution_count": 6
        }
      ]
    },
    {
      "cell_type": "code",
      "metadata": {
        "id": "N2q_mQPvEqZi",
        "colab_type": "code",
        "colab": {
          "base_uri": "https://localhost:8080/",
          "height": 224
        },
        "outputId": "3908e835-4cbb-4d83-faf0-06251fe5662c"
      },
      "source": [
        "combine['Week'] = combine['ID'] % 7\n",
        "combine['Month'] = combine['ID'] % 30\n",
        "combine['Year'] = combine['ID'] % 365\n",
        "combine['Quarter'] = combine['ID'] % 90\n",
        "\n",
        "combine['NWeeks'] = combine['ID'] // 7\n",
        "combine['NYear'] = combine['ID'] // 365\n",
        "combine['NQuarter'] = combine['ID'] // 90\n",
        "combine['NMonth'] = combine['ID'] // 30\n",
        "\n",
        "combine.head()"
      ],
      "execution_count": 7,
      "outputs": [
        {
          "output_type": "execute_result",
          "data": {
            "text/html": [
              "<div>\n",
              "<style scoped>\n",
              "    .dataframe tbody tr th:only-of-type {\n",
              "        vertical-align: middle;\n",
              "    }\n",
              "\n",
              "    .dataframe tbody tr th {\n",
              "        vertical-align: top;\n",
              "    }\n",
              "\n",
              "    .dataframe thead th {\n",
              "        text-align: right;\n",
              "    }\n",
              "</style>\n",
              "<table border=\"1\" class=\"dataframe\">\n",
              "  <thead>\n",
              "    <tr style=\"text-align: right;\">\n",
              "      <th></th>\n",
              "      <th>ID</th>\n",
              "      <th>Gender</th>\n",
              "      <th>Ever_Married</th>\n",
              "      <th>Age</th>\n",
              "      <th>Graduated</th>\n",
              "      <th>Profession</th>\n",
              "      <th>Work_Experience</th>\n",
              "      <th>Spending_Score</th>\n",
              "      <th>Family_Size</th>\n",
              "      <th>Var_1</th>\n",
              "      <th>Segmentation</th>\n",
              "      <th>Week</th>\n",
              "      <th>Month</th>\n",
              "      <th>Year</th>\n",
              "      <th>Quarter</th>\n",
              "      <th>NWeeks</th>\n",
              "      <th>NYear</th>\n",
              "      <th>NQuarter</th>\n",
              "      <th>NMonth</th>\n",
              "    </tr>\n",
              "  </thead>\n",
              "  <tbody>\n",
              "    <tr>\n",
              "      <th>0</th>\n",
              "      <td>462809</td>\n",
              "      <td>Male</td>\n",
              "      <td>No</td>\n",
              "      <td>22</td>\n",
              "      <td>No</td>\n",
              "      <td>Healthcare</td>\n",
              "      <td>1.0</td>\n",
              "      <td>Low</td>\n",
              "      <td>4.0</td>\n",
              "      <td>Cat_4</td>\n",
              "      <td>D</td>\n",
              "      <td>4</td>\n",
              "      <td>29</td>\n",
              "      <td>354</td>\n",
              "      <td>29</td>\n",
              "      <td>66115</td>\n",
              "      <td>1267</td>\n",
              "      <td>5142</td>\n",
              "      <td>15426</td>\n",
              "    </tr>\n",
              "    <tr>\n",
              "      <th>1</th>\n",
              "      <td>462643</td>\n",
              "      <td>Female</td>\n",
              "      <td>Yes</td>\n",
              "      <td>38</td>\n",
              "      <td>Yes</td>\n",
              "      <td>Engineer</td>\n",
              "      <td>NaN</td>\n",
              "      <td>Average</td>\n",
              "      <td>3.0</td>\n",
              "      <td>Cat_4</td>\n",
              "      <td>A</td>\n",
              "      <td>6</td>\n",
              "      <td>13</td>\n",
              "      <td>188</td>\n",
              "      <td>43</td>\n",
              "      <td>66091</td>\n",
              "      <td>1267</td>\n",
              "      <td>5140</td>\n",
              "      <td>15421</td>\n",
              "    </tr>\n",
              "    <tr>\n",
              "      <th>2</th>\n",
              "      <td>466315</td>\n",
              "      <td>Female</td>\n",
              "      <td>Yes</td>\n",
              "      <td>67</td>\n",
              "      <td>Yes</td>\n",
              "      <td>Engineer</td>\n",
              "      <td>1.0</td>\n",
              "      <td>Low</td>\n",
              "      <td>1.0</td>\n",
              "      <td>Cat_6</td>\n",
              "      <td>B</td>\n",
              "      <td>3</td>\n",
              "      <td>25</td>\n",
              "      <td>210</td>\n",
              "      <td>25</td>\n",
              "      <td>66616</td>\n",
              "      <td>1277</td>\n",
              "      <td>5181</td>\n",
              "      <td>15543</td>\n",
              "    </tr>\n",
              "    <tr>\n",
              "      <th>3</th>\n",
              "      <td>461735</td>\n",
              "      <td>Male</td>\n",
              "      <td>Yes</td>\n",
              "      <td>67</td>\n",
              "      <td>Yes</td>\n",
              "      <td>Lawyer</td>\n",
              "      <td>0.0</td>\n",
              "      <td>High</td>\n",
              "      <td>2.0</td>\n",
              "      <td>Cat_6</td>\n",
              "      <td>B</td>\n",
              "      <td>1</td>\n",
              "      <td>5</td>\n",
              "      <td>10</td>\n",
              "      <td>35</td>\n",
              "      <td>65962</td>\n",
              "      <td>1265</td>\n",
              "      <td>5130</td>\n",
              "      <td>15391</td>\n",
              "    </tr>\n",
              "    <tr>\n",
              "      <th>4</th>\n",
              "      <td>462669</td>\n",
              "      <td>Female</td>\n",
              "      <td>Yes</td>\n",
              "      <td>40</td>\n",
              "      <td>Yes</td>\n",
              "      <td>Entertainment</td>\n",
              "      <td>NaN</td>\n",
              "      <td>High</td>\n",
              "      <td>6.0</td>\n",
              "      <td>Cat_6</td>\n",
              "      <td>A</td>\n",
              "      <td>4</td>\n",
              "      <td>9</td>\n",
              "      <td>214</td>\n",
              "      <td>69</td>\n",
              "      <td>66095</td>\n",
              "      <td>1267</td>\n",
              "      <td>5140</td>\n",
              "      <td>15422</td>\n",
              "    </tr>\n",
              "  </tbody>\n",
              "</table>\n",
              "</div>"
            ],
            "text/plain": [
              "       ID  Gender Ever_Married  Age  ... NWeeks NYear  NQuarter NMonth\n",
              "0  462809    Male           No   22  ...  66115  1267      5142  15426\n",
              "1  462643  Female          Yes   38  ...  66091  1267      5140  15421\n",
              "2  466315  Female          Yes   67  ...  66616  1277      5181  15543\n",
              "3  461735    Male          Yes   67  ...  65962  1265      5130  15391\n",
              "4  462669  Female          Yes   40  ...  66095  1267      5140  15422\n",
              "\n",
              "[5 rows x 19 columns]"
            ]
          },
          "metadata": {
            "tags": []
          },
          "execution_count": 7
        }
      ]
    },
    {
      "cell_type": "code",
      "metadata": {
        "id": "24jc0vpZjuq1",
        "colab_type": "code",
        "colab": {
          "base_uri": "https://localhost:8080/",
          "height": 68
        },
        "outputId": "fa2e528f-91a7-48d1-d4d2-ba2e5c541a96"
      },
      "source": [
        "combine['Gender'].value_counts()"
      ],
      "execution_count": 8,
      "outputs": [
        {
          "output_type": "execute_result",
          "data": {
            "text/plain": [
              "Male      5841\n",
              "Female    4854\n",
              "Name: Gender, dtype: int64"
            ]
          },
          "metadata": {
            "tags": []
          },
          "execution_count": 8
        }
      ]
    },
    {
      "cell_type": "code",
      "metadata": {
        "id": "3tfsp-RujxvU",
        "colab_type": "code",
        "colab": {
          "base_uri": "https://localhost:8080/",
          "height": 68
        },
        "outputId": "7787d8fb-b9de-46a8-d49c-a8843234a376"
      },
      "source": [
        "combine['Ever_Married'].value_counts()"
      ],
      "execution_count": 9,
      "outputs": [
        {
          "output_type": "execute_result",
          "data": {
            "text/plain": [
              "Yes    6163\n",
              "No     4342\n",
              "Name: Ever_Married, dtype: int64"
            ]
          },
          "metadata": {
            "tags": []
          },
          "execution_count": 9
        }
      ]
    },
    {
      "cell_type": "code",
      "metadata": {
        "id": "FF69EG5Uk4YC",
        "colab_type": "code",
        "colab": {
          "base_uri": "https://localhost:8080/",
          "height": 85
        },
        "outputId": "b3c9d598-f15c-440e-d35d-1a7deccb60e4"
      },
      "source": [
        "combine['Ever_Married'].fillna('Unknown', inplace=True)\n",
        "combine['Ever_Married'].value_counts()"
      ],
      "execution_count": 10,
      "outputs": [
        {
          "output_type": "execute_result",
          "data": {
            "text/plain": [
              "Yes        6163\n",
              "No         4342\n",
              "Unknown     190\n",
              "Name: Ever_Married, dtype: int64"
            ]
          },
          "metadata": {
            "tags": []
          },
          "execution_count": 10
        }
      ]
    },
    {
      "cell_type": "code",
      "metadata": {
        "id": "5Cn3UDd1kIuG",
        "colab_type": "code",
        "colab": {
          "base_uri": "https://localhost:8080/",
          "height": 170
        },
        "outputId": "e0550e85-d70f-47e4-b28c-3d1b22be909d"
      },
      "source": [
        "combine['Age'].describe()"
      ],
      "execution_count": 11,
      "outputs": [
        {
          "output_type": "execute_result",
          "data": {
            "text/plain": [
              "count    10695.000000\n",
              "mean        43.511828\n",
              "std         16.774158\n",
              "min         18.000000\n",
              "25%         30.000000\n",
              "50%         41.000000\n",
              "75%         53.000000\n",
              "max         89.000000\n",
              "Name: Age, dtype: float64"
            ]
          },
          "metadata": {
            "tags": []
          },
          "execution_count": 11
        }
      ]
    },
    {
      "cell_type": "code",
      "metadata": {
        "id": "ago728GWkN7S",
        "colab_type": "code",
        "colab": {
          "base_uri": "https://localhost:8080/",
          "height": 119
        },
        "outputId": "b066f2b7-f45a-4b81-9995-f7f0919baf60"
      },
      "source": [
        "bins= [17,30,40,50,60,90]\n",
        "labels = ['Age_Tier1','Age_Tier2','Age_Tier3','Age_Tier4', 'Age_Tier5']\n",
        "combine['Age'] = pd.cut(combine['Age'], bins=bins, labels=labels, right=False)\n",
        "combine['Age'].value_counts()"
      ],
      "execution_count": 12,
      "outputs": [
        {
          "output_type": "execute_result",
          "data": {
            "text/plain": [
              "Age_Tier2    2602\n",
              "Age_Tier1    2429\n",
              "Age_Tier3    2279\n",
              "Age_Tier5    1918\n",
              "Age_Tier4    1467\n",
              "Name: Age, dtype: int64"
            ]
          },
          "metadata": {
            "tags": []
          },
          "execution_count": 12
        }
      ]
    },
    {
      "cell_type": "code",
      "metadata": {
        "id": "M1sRO2bWkqtt",
        "colab_type": "code",
        "colab": {
          "base_uri": "https://localhost:8080/",
          "height": 68
        },
        "outputId": "9d7076a3-c5e2-4d62-9fc6-a55d39952083"
      },
      "source": [
        "combine['Graduated'].value_counts()"
      ],
      "execution_count": 13,
      "outputs": [
        {
          "output_type": "execute_result",
          "data": {
            "text/plain": [
              "Yes    6570\n",
              "No     4023\n",
              "Name: Graduated, dtype: int64"
            ]
          },
          "metadata": {
            "tags": []
          },
          "execution_count": 13
        }
      ]
    },
    {
      "cell_type": "code",
      "metadata": {
        "id": "Vx_yd7dYkzld",
        "colab_type": "code",
        "colab": {
          "base_uri": "https://localhost:8080/",
          "height": 85
        },
        "outputId": "06a0f94b-97d5-4773-ed84-992445de5f1c"
      },
      "source": [
        "combine['Graduated'].fillna('Unknown', inplace=True)\n",
        "combine['Graduated'].value_counts()"
      ],
      "execution_count": 14,
      "outputs": [
        {
          "output_type": "execute_result",
          "data": {
            "text/plain": [
              "Yes        6570\n",
              "No         4023\n",
              "Unknown     102\n",
              "Name: Graduated, dtype: int64"
            ]
          },
          "metadata": {
            "tags": []
          },
          "execution_count": 14
        }
      ]
    },
    {
      "cell_type": "code",
      "metadata": {
        "id": "bkBQbDsglTdO",
        "colab_type": "code",
        "colab": {
          "base_uri": "https://localhost:8080/",
          "height": 187
        },
        "outputId": "0e426c96-67e3-44bf-d3aa-49ecdde7adf9"
      },
      "source": [
        "combine['Profession'].value_counts()"
      ],
      "execution_count": 15,
      "outputs": [
        {
          "output_type": "execute_result",
          "data": {
            "text/plain": [
              "Artist           3318\n",
              "Healthcare       1750\n",
              "Entertainment    1250\n",
              "Engineer          935\n",
              "Doctor            930\n",
              "Lawyer            844\n",
              "Executive         775\n",
              "Marketing         403\n",
              "Homemaker         328\n",
              "Name: Profession, dtype: int64"
            ]
          },
          "metadata": {
            "tags": []
          },
          "execution_count": 15
        }
      ]
    },
    {
      "cell_type": "code",
      "metadata": {
        "id": "lb17y3kElcK7",
        "colab_type": "code",
        "colab": {
          "base_uri": "https://localhost:8080/",
          "height": 204
        },
        "outputId": "b87f97da-55b0-4985-ff21-12ee609c3ed9"
      },
      "source": [
        "combine['Profession'].fillna('Unknown', inplace=True)\n",
        "combine['Profession'].value_counts()"
      ],
      "execution_count": 16,
      "outputs": [
        {
          "output_type": "execute_result",
          "data": {
            "text/plain": [
              "Artist           3318\n",
              "Healthcare       1750\n",
              "Entertainment    1250\n",
              "Engineer          935\n",
              "Doctor            930\n",
              "Lawyer            844\n",
              "Executive         775\n",
              "Marketing         403\n",
              "Homemaker         328\n",
              "Unknown           162\n",
              "Name: Profession, dtype: int64"
            ]
          },
          "metadata": {
            "tags": []
          },
          "execution_count": 16
        }
      ]
    },
    {
      "cell_type": "code",
      "metadata": {
        "id": "PYRCMIdxlfuY",
        "colab_type": "code",
        "colab": {
          "base_uri": "https://localhost:8080/",
          "height": 170
        },
        "outputId": "a3ecde2b-b804-48b1-ea44-0b0468bb6eba"
      },
      "source": [
        "combine['Work_Experience'].describe()"
      ],
      "execution_count": 17,
      "outputs": [
        {
          "output_type": "execute_result",
          "data": {
            "text/plain": [
              "count    9597.000000\n",
              "mean        2.619777\n",
              "std         3.390790\n",
              "min         0.000000\n",
              "25%         0.000000\n",
              "50%         1.000000\n",
              "75%         4.000000\n",
              "max        14.000000\n",
              "Name: Work_Experience, dtype: float64"
            ]
          },
          "metadata": {
            "tags": []
          },
          "execution_count": 17
        }
      ]
    },
    {
      "cell_type": "code",
      "metadata": {
        "id": "7cN7NLnVlkne",
        "colab_type": "code",
        "colab": {
          "base_uri": "https://localhost:8080/",
          "height": 136
        },
        "outputId": "d884cdb5-1218-46f2-9eee-275a9eed0372"
      },
      "source": [
        "combine['Work_Experience'].fillna(-1, inplace=True)\n",
        "bins= [-1, 0, 3, 6, 9, 12, 15]\n",
        "labels = [6, 5, 4, 3, 2, 1]\n",
        "combine['Work_Experience'] = pd.cut(combine['Work_Experience'], bins=bins, labels=labels, right=False)\n",
        "combine['Work_Experience'].value_counts()"
      ],
      "execution_count": 18,
      "outputs": [
        {
          "output_type": "execute_result",
          "data": {
            "text/plain": [
              "5    6587\n",
              "3    1133\n",
              "6    1098\n",
              "4     953\n",
              "2     741\n",
              "1     183\n",
              "Name: Work_Experience, dtype: int64"
            ]
          },
          "metadata": {
            "tags": []
          },
          "execution_count": 18
        }
      ]
    },
    {
      "cell_type": "code",
      "metadata": {
        "id": "QDFONS-tmKHH",
        "colab_type": "code",
        "colab": {
          "base_uri": "https://localhost:8080/",
          "height": 85
        },
        "outputId": "c141dde6-afc7-48c7-b77c-c201587d6717"
      },
      "source": [
        "combine['Spending_Score'].value_counts()"
      ],
      "execution_count": 19,
      "outputs": [
        {
          "output_type": "execute_result",
          "data": {
            "text/plain": [
              "Low        6494\n",
              "Average    2599\n",
              "High       1602\n",
              "Name: Spending_Score, dtype: int64"
            ]
          },
          "metadata": {
            "tags": []
          },
          "execution_count": 19
        }
      ]
    },
    {
      "cell_type": "code",
      "metadata": {
        "id": "cKr_vtCDmifi",
        "colab_type": "code",
        "colab": {
          "base_uri": "https://localhost:8080/",
          "height": 170
        },
        "outputId": "fcbbbfe6-55cb-46b1-c361-a62cda7079ce"
      },
      "source": [
        "combine['Family_Size'].describe()"
      ],
      "execution_count": 20,
      "outputs": [
        {
          "output_type": "execute_result",
          "data": {
            "text/plain": [
              "count    10247.000000\n",
              "mean         2.844052\n",
              "std          1.536427\n",
              "min          1.000000\n",
              "25%          2.000000\n",
              "50%          3.000000\n",
              "75%          4.000000\n",
              "max          9.000000\n",
              "Name: Family_Size, dtype: float64"
            ]
          },
          "metadata": {
            "tags": []
          },
          "execution_count": 20
        }
      ]
    },
    {
      "cell_type": "code",
      "metadata": {
        "id": "qpZkK641moVi",
        "colab_type": "code",
        "colab": {
          "base_uri": "https://localhost:8080/",
          "height": 187
        },
        "outputId": "1948f471-aea7-4f16-b6f0-1a52089f737d"
      },
      "source": [
        "def get_family(years):\n",
        "    switcher = {\n",
        "        1: \"F1\",\n",
        "        2: \"F2\",\n",
        "        3: \"F3\",\n",
        "        4: \"F4\",\n",
        "        5: \"F5\",\n",
        "        6: \"F6\",\n",
        "        7: \"F7\",\n",
        "        8: \"F8\",\n",
        "    }\n",
        "    return (switcher.get(years,\"F9\"))\n",
        "\n",
        "combine['Family_Size'] = combine['Family_Size'].apply(lambda x: get_family(x))\n",
        "combine['Family_Size'].value_counts()"
      ],
      "execution_count": 21,
      "outputs": [
        {
          "output_type": "execute_result",
          "data": {
            "text/plain": [
              "F2    3158\n",
              "F1    1965\n",
              "F3    1952\n",
              "F4    1823\n",
              "F5     812\n",
              "F9     508\n",
              "F6     290\n",
              "F7     122\n",
              "F8      65\n",
              "Name: Family_Size, dtype: int64"
            ]
          },
          "metadata": {
            "tags": []
          },
          "execution_count": 21
        }
      ]
    },
    {
      "cell_type": "code",
      "metadata": {
        "id": "Epqt9nwznM6_",
        "colab_type": "code",
        "colab": {
          "base_uri": "https://localhost:8080/",
          "height": 153
        },
        "outputId": "e8e60550-facb-4d02-d576-c4dc7d2726d7"
      },
      "source": [
        "combine['Var_1'].value_counts()"
      ],
      "execution_count": 22,
      "outputs": [
        {
          "output_type": "execute_result",
          "data": {
            "text/plain": [
              "Cat_6    6910\n",
              "Cat_4    1475\n",
              "Cat_3    1089\n",
              "Cat_2     563\n",
              "Cat_7     269\n",
              "Cat_1     167\n",
              "Cat_5     114\n",
              "Name: Var_1, dtype: int64"
            ]
          },
          "metadata": {
            "tags": []
          },
          "execution_count": 22
        }
      ]
    },
    {
      "cell_type": "code",
      "metadata": {
        "id": "UNaz7VmonRyh",
        "colab_type": "code",
        "colab": {
          "base_uri": "https://localhost:8080/",
          "height": 170
        },
        "outputId": "ce79d6e6-0c46-484f-fd08-e65f27e5795c"
      },
      "source": [
        "combine['Var_1'].fillna('Unknown', inplace=True)\n",
        "combine['Var_1'].value_counts()"
      ],
      "execution_count": 23,
      "outputs": [
        {
          "output_type": "execute_result",
          "data": {
            "text/plain": [
              "Cat_6      6910\n",
              "Cat_4      1475\n",
              "Cat_3      1089\n",
              "Cat_2       563\n",
              "Cat_7       269\n",
              "Cat_1       167\n",
              "Cat_5       114\n",
              "Unknown     108\n",
              "Name: Var_1, dtype: int64"
            ]
          },
          "metadata": {
            "tags": []
          },
          "execution_count": 23
        }
      ]
    },
    {
      "cell_type": "code",
      "metadata": {
        "id": "tNht10oOnWsI",
        "colab_type": "code",
        "colab": {
          "base_uri": "https://localhost:8080/",
          "height": 357
        },
        "outputId": "43b68156-7ca4-4c77-9548-916e0d7da166"
      },
      "source": [
        "combine.isnull().sum()"
      ],
      "execution_count": 24,
      "outputs": [
        {
          "output_type": "execute_result",
          "data": {
            "text/plain": [
              "ID                    0\n",
              "Gender                0\n",
              "Ever_Married          0\n",
              "Age                   0\n",
              "Graduated             0\n",
              "Profession            0\n",
              "Work_Experience       0\n",
              "Spending_Score        0\n",
              "Family_Size           0\n",
              "Var_1                 0\n",
              "Segmentation       2627\n",
              "Week                  0\n",
              "Month                 0\n",
              "Year                  0\n",
              "Quarter               0\n",
              "NWeeks                0\n",
              "NYear                 0\n",
              "NQuarter              0\n",
              "NMonth                0\n",
              "dtype: int64"
            ]
          },
          "metadata": {
            "tags": []
          },
          "execution_count": 24
        }
      ]
    },
    {
      "cell_type": "code",
      "metadata": {
        "id": "FuWEllJMnZJr",
        "colab_type": "code",
        "colab": {}
      },
      "source": [
        "train_cleaned = combine[combine['Segmentation'].isnull()!=True].drop(['ID'], axis=1)"
      ],
      "execution_count": 25,
      "outputs": []
    },
    {
      "cell_type": "code",
      "metadata": {
        "id": "Y92MoXV9hL-f",
        "colab_type": "code",
        "colab": {
          "base_uri": "https://localhost:8080/",
          "height": 102
        },
        "outputId": "7e2f68d3-a658-45a0-9343-76648fddec3b"
      },
      "source": [
        "train_cleaned.columns"
      ],
      "execution_count": 26,
      "outputs": [
        {
          "output_type": "execute_result",
          "data": {
            "text/plain": [
              "Index(['Gender', 'Ever_Married', 'Age', 'Graduated', 'Profession',\n",
              "       'Work_Experience', 'Spending_Score', 'Family_Size', 'Var_1',\n",
              "       'Segmentation', 'Week', 'Month', 'Year', 'Quarter', 'NWeeks', 'NYear',\n",
              "       'NQuarter', 'NMonth'],\n",
              "      dtype='object')"
            ]
          },
          "metadata": {
            "tags": []
          },
          "execution_count": 26
        }
      ]
    },
    {
      "cell_type": "code",
      "metadata": {
        "id": "PSa4lh4AgWHU",
        "colab_type": "code",
        "colab": {
          "base_uri": "https://localhost:8080/",
          "height": 1000
        },
        "outputId": "b02a4467-16c4-4d52-bad0-3b5d61f11994"
      },
      "source": [
        "Gender = pd.crosstab(train_cleaned['Gender'], train_cleaned['Segmentation'])\n",
        "Ever_Married = pd.crosstab(train_cleaned['Ever_Married'], train_cleaned['Segmentation'])\n",
        "Age = pd.crosstab(train_cleaned['Age'], train_cleaned['Segmentation'])\n",
        "Graduated = pd.crosstab(train_cleaned['Graduated'], train_cleaned['Segmentation'])\n",
        "Profession = pd.crosstab(train_cleaned['Profession'], train_cleaned['Segmentation'])\n",
        "Work_Experience = pd.crosstab(train_cleaned['Work_Experience'], train_cleaned['Segmentation'])\n",
        "Spending_Score = pd.crosstab(train_cleaned['Spending_Score'], train_cleaned['Segmentation'])\n",
        "Var_1 = pd.crosstab(train_cleaned['Var_1'], train_cleaned['Segmentation'])\n",
        "\n",
        "\n",
        "\n",
        "Gender.plot(kind=\"bar\", figsize=(4, 4))\n",
        "Ever_Married.plot(kind=\"bar\", figsize=(4, 4))\n",
        "Age.plot(kind=\"bar\", figsize=(4, 4))\n",
        "Graduated.plot(kind=\"bar\", figsize=(4, 4))\n",
        "Profession.plot(kind=\"bar\", figsize=(4, 4))\n",
        "Work_Experience.plot(kind=\"bar\", figsize=(4, 4))\n",
        "Spending_Score.plot(kind=\"bar\", figsize=(4, 4))\n",
        "Var_1.plot(kind=\"bar\", figsize=(4, 4))\n",
        "\n",
        "plt.show()"
      ],
      "execution_count": 27,
      "outputs": [
        {
          "output_type": "display_data",
          "data": {
            "image/png": "[encoded data removed]",
            "text/plain": [
              "<Figure size 288x288 with 1 Axes>"
            ]
          },
          "metadata": {
            "tags": [],
            "needs_background": "light"
          }
        },
        {
          "output_type": "display_data",
          "data": {
            "image/png": "[encoded data removed]",
            "text/plain": [
              "<Figure size 288x288 with 1 Axes>"
            ]
          },
          "metadata": {
            "tags": [],
            "needs_background": "light"
          }
        },
        {
          "output_type": "display_data",
          "data": {
            "image/png": "[encoded data removed]",
            "text/plain": [
              "<Figure size 288x288 with 1 Axes>"
            ]
          },
          "metadata": {
            "tags": [],
            "needs_background": "light"
          }
        },
        {
          "output_type": "display_data",
          "data": {
            "image/png": "[encoded data removed]",
            "text/plain": [
              "<Figure size 288x288 with 1 Axes>"
            ]
          },
          "metadata": {
            "tags": [],
            "needs_background": "light"
          }
        },
        {
          "output_type": "display_data",
          "data": {
            "image/png": "[encoded data removed]",
            "text/plain": [
              "<Figure size 288x288 with 1 Axes>"
            ]
          },
          "metadata": {
            "tags": [],
            "needs_background": "light"
          }
        },
        {
          "output_type": "display_data",
          "data": {
            "image/png": "[encoded data removed]",
            "text/plain": [
              "<Figure size 288x288 with 1 Axes>"
            ]
          },
          "metadata": {
            "tags": [],
            "needs_background": "light"
          }
        },
        {
          "output_type": "display_data",
          "data": {
            "image/png": "[encoded data removed]",
            "text/plain": [
              "<Figure size 288x288 with 1 Axes>"
            ]
          },
          "metadata": {
            "tags": [],
            "needs_background": "light"
          }
        },
        {
          "output_type": "display_data",
          "data": {
            "image/png": "[encoded data removed]",
            "text/plain": [
              "<Figure size 288x288 with 1 Axes>"
            ]
          },
          "metadata": {
            "tags": [],
            "needs_background": "light"
          }
        }
      ]
    },
    {
      "cell_type": "code",
      "metadata": {
        "id": "BoMG33nUoHqi",
        "colab_type": "code",
        "colab": {}
      },
      "source": [
        "segmentation = {'A':1, 'B':2, 'C':3, 'D':4}\n",
        "combine['Segmentation'] = combine['Segmentation'].apply(lambda x: segmentation.get(x))"
      ],
      "execution_count": 28,
      "outputs": []
    },
    {
      "cell_type": "code",
      "metadata": {
        "id": "X0g8unkmnsj2",
        "colab_type": "code",
        "colab": {
          "base_uri": "https://localhost:8080/",
          "height": 34
        },
        "outputId": "75bf4d89-df62-40cc-f865-67bcfd8b297b"
      },
      "source": [
        "from sklearn.preprocessing import LabelEncoder\n",
        "\n",
        "cat_cols = ['Gender', 'Ever_Married', 'Spending_Score', 'Var_1', 'Age', \n",
        "            'Family_Size', 'Profession', 'Graduated']\n",
        "\n",
        "encoder = LabelEncoder()\n",
        "for col in cat_cols:\n",
        "    combine[col] = encoder.fit_transform(combine[col])\n",
        "#combine = pd.get_dummies(combine)\n",
        "combine.shape"
      ],
      "execution_count": 29,
      "outputs": [
        {
          "output_type": "execute_result",
          "data": {
            "text/plain": [
              "(10695, 19)"
            ]
          },
          "metadata": {
            "tags": []
          },
          "execution_count": 29
        }
      ]
    },
    {
      "cell_type": "code",
      "metadata": {
        "id": "VzTxW8Vvnwb4",
        "colab_type": "code",
        "colab": {
          "base_uri": "https://localhost:8080/",
          "height": 34
        },
        "outputId": "06402281-06da-47da-9211-50f0d0237e9e"
      },
      "source": [
        "X = combine[combine['Segmentation'].isnull()!=True].drop(['ID','Segmentation'], axis=1)\n",
        "y = combine[combine['Segmentation'].isnull()!=True]['Segmentation']\n",
        "\n",
        "X_test = combine[combine['Segmentation'].isnull()==True].drop(['ID','Segmentation'], axis=1)\n",
        "\n",
        "X.shape, y.shape, X_test.shape"
      ],
      "execution_count": 30,
      "outputs": [
        {
          "output_type": "execute_result",
          "data": {
            "text/plain": [
              "((8068, 17), (8068,), (2627, 17))"
            ]
          },
          "metadata": {
            "tags": []
          },
          "execution_count": 30
        }
      ]
    },
    {
      "cell_type": "code",
      "metadata": {
        "id": "eOnEEezzn7UV",
        "colab_type": "code",
        "colab": {
          "base_uri": "https://localhost:8080/",
          "height": 224
        },
        "outputId": "d1d6a351-79ad-4357-c067-6ec3acce8c1d"
      },
      "source": [
        "X.head()"
      ],
      "execution_count": 31,
      "outputs": [
        {
          "output_type": "execute_result",
          "data": {
            "text/html": [
              "<div>\n",
              "<style scoped>\n",
              "    .dataframe tbody tr th:only-of-type {\n",
              "        vertical-align: middle;\n",
              "    }\n",
              "\n",
              "    .dataframe tbody tr th {\n",
              "        vertical-align: top;\n",
              "    }\n",
              "\n",
              "    .dataframe thead th {\n",
              "        text-align: right;\n",
              "    }\n",
              "</style>\n",
              "<table border=\"1\" class=\"dataframe\">\n",
              "  <thead>\n",
              "    <tr style=\"text-align: right;\">\n",
              "      <th></th>\n",
              "      <th>Gender</th>\n",
              "      <th>Ever_Married</th>\n",
              "      <th>Age</th>\n",
              "      <th>Graduated</th>\n",
              "      <th>Profession</th>\n",
              "      <th>Work_Experience</th>\n",
              "      <th>Spending_Score</th>\n",
              "      <th>Family_Size</th>\n",
              "      <th>Var_1</th>\n",
              "      <th>Week</th>\n",
              "      <th>Month</th>\n",
              "      <th>Year</th>\n",
              "      <th>Quarter</th>\n",
              "      <th>NWeeks</th>\n",
              "      <th>NYear</th>\n",
              "      <th>NQuarter</th>\n",
              "      <th>NMonth</th>\n",
              "    </tr>\n",
              "  </thead>\n",
              "  <tbody>\n",
              "    <tr>\n",
              "      <th>0</th>\n",
              "      <td>1</td>\n",
              "      <td>0</td>\n",
              "      <td>0</td>\n",
              "      <td>0</td>\n",
              "      <td>5</td>\n",
              "      <td>5</td>\n",
              "      <td>2</td>\n",
              "      <td>3</td>\n",
              "      <td>3</td>\n",
              "      <td>4</td>\n",
              "      <td>29</td>\n",
              "      <td>354</td>\n",
              "      <td>29</td>\n",
              "      <td>66115</td>\n",
              "      <td>1267</td>\n",
              "      <td>5142</td>\n",
              "      <td>15426</td>\n",
              "    </tr>\n",
              "    <tr>\n",
              "      <th>1</th>\n",
              "      <td>0</td>\n",
              "      <td>2</td>\n",
              "      <td>1</td>\n",
              "      <td>2</td>\n",
              "      <td>2</td>\n",
              "      <td>6</td>\n",
              "      <td>0</td>\n",
              "      <td>2</td>\n",
              "      <td>3</td>\n",
              "      <td>6</td>\n",
              "      <td>13</td>\n",
              "      <td>188</td>\n",
              "      <td>43</td>\n",
              "      <td>66091</td>\n",
              "      <td>1267</td>\n",
              "      <td>5140</td>\n",
              "      <td>15421</td>\n",
              "    </tr>\n",
              "    <tr>\n",
              "      <th>2</th>\n",
              "      <td>0</td>\n",
              "      <td>2</td>\n",
              "      <td>4</td>\n",
              "      <td>2</td>\n",
              "      <td>2</td>\n",
              "      <td>5</td>\n",
              "      <td>2</td>\n",
              "      <td>0</td>\n",
              "      <td>5</td>\n",
              "      <td>3</td>\n",
              "      <td>25</td>\n",
              "      <td>210</td>\n",
              "      <td>25</td>\n",
              "      <td>66616</td>\n",
              "      <td>1277</td>\n",
              "      <td>5181</td>\n",
              "      <td>15543</td>\n",
              "    </tr>\n",
              "    <tr>\n",
              "      <th>3</th>\n",
              "      <td>1</td>\n",
              "      <td>2</td>\n",
              "      <td>4</td>\n",
              "      <td>2</td>\n",
              "      <td>7</td>\n",
              "      <td>5</td>\n",
              "      <td>1</td>\n",
              "      <td>1</td>\n",
              "      <td>5</td>\n",
              "      <td>1</td>\n",
              "      <td>5</td>\n",
              "      <td>10</td>\n",
              "      <td>35</td>\n",
              "      <td>65962</td>\n",
              "      <td>1265</td>\n",
              "      <td>5130</td>\n",
              "      <td>15391</td>\n",
              "    </tr>\n",
              "    <tr>\n",
              "      <th>4</th>\n",
              "      <td>0</td>\n",
              "      <td>2</td>\n",
              "      <td>2</td>\n",
              "      <td>2</td>\n",
              "      <td>3</td>\n",
              "      <td>6</td>\n",
              "      <td>1</td>\n",
              "      <td>5</td>\n",
              "      <td>5</td>\n",
              "      <td>4</td>\n",
              "      <td>9</td>\n",
              "      <td>214</td>\n",
              "      <td>69</td>\n",
              "      <td>66095</td>\n",
              "      <td>1267</td>\n",
              "      <td>5140</td>\n",
              "      <td>15422</td>\n",
              "    </tr>\n",
              "  </tbody>\n",
              "</table>\n",
              "</div>"
            ],
            "text/plain": [
              "   Gender  Ever_Married  Age  Graduated  ...  NWeeks NYear  NQuarter  NMonth\n",
              "0       1             0    0          0  ...   66115  1267      5142   15426\n",
              "1       0             2    1          2  ...   66091  1267      5140   15421\n",
              "2       0             2    4          2  ...   66616  1277      5181   15543\n",
              "3       1             2    4          2  ...   65962  1265      5130   15391\n",
              "4       0             2    2          2  ...   66095  1267      5140   15422\n",
              "\n",
              "[5 rows x 17 columns]"
            ]
          },
          "metadata": {
            "tags": []
          },
          "execution_count": 31
        }
      ]
    },
    {
      "cell_type": "code",
      "metadata": {
        "id": "748M0aroJ9hK",
        "colab_type": "code",
        "colab": {}
      },
      "source": [
        "from sklearn.model_selection import train_test_split\n",
        "x_train, x_val, y_train, y_val = train_test_split(X, y, test_size=0.2)"
      ],
      "execution_count": 32,
      "outputs": []
    },
    {
      "cell_type": "code",
      "metadata": {
        "id": "ktiJufWtJ4zx",
        "colab_type": "code",
        "colab": {}
      },
      "source": [
        "from sklearn.ensemble import ExtraTreesClassifier, RandomForestClassifier\n",
        "from sklearn.metrics import confusion_matrix, accuracy_score\n",
        "from xgboost import XGBClassifier\n",
        "from lightgbm import LGBMClassifier"
      ],
      "execution_count": 33,
      "outputs": []
    },
    {
      "cell_type": "code",
      "metadata": {
        "id": "mgs4F9r1JWXJ",
        "colab_type": "code",
        "colab": {
          "base_uri": "https://localhost:8080/",
          "height": 136
        },
        "outputId": "fb185270-6e24-4c1b-f0a5-2d1342176a15"
      },
      "source": [
        "model = LGBMClassifier(n_estimators=5000,\n",
        "                       max_depth = 20,\n",
        "                       max_features=0.85,\n",
        "                       learning_rate=1.1)\n",
        "model.fit(X, y)"
      ],
      "execution_count": 34,
      "outputs": [
        {
          "output_type": "execute_result",
          "data": {
            "text/plain": [
              "LGBMClassifier(boosting_type='gbdt', class_weight=None, colsample_bytree=1.0,\n",
              "               importance_type='split', learning_rate=1.1, max_depth=20,\n",
              "               max_features=0.85, min_child_samples=20, min_child_weight=0.001,\n",
              "               min_split_gain=0.0, n_estimators=5000, n_jobs=-1, num_leaves=31,\n",
              "               objective=None, random_state=None, reg_alpha=0.0, reg_lambda=0.0,\n",
              "               silent=True, subsample=1.0, subsample_for_bin=200000,\n",
              "               subsample_freq=0)"
            ]
          },
          "metadata": {
            "tags": []
          },
          "execution_count": 34
        }
      ]
    },
    {
      "cell_type": "code",
      "metadata": {
        "id": "bO0jgmqtKQT8",
        "colab_type": "code",
        "colab": {
          "base_uri": "https://localhost:8080/",
          "height": 34
        },
        "outputId": "8b15c894-6a9f-4f5a-a32c-b6a1ae7dbbf9"
      },
      "source": [
        "pred_val = model.predict(x_val)\n",
        "accuracy_score(y_val, pred_val)"
      ],
      "execution_count": 35,
      "outputs": [
        {
          "output_type": "execute_result",
          "data": {
            "text/plain": [
              "1.0"
            ]
          },
          "metadata": {
            "tags": []
          },
          "execution_count": 35
        }
      ]
    },
    {
      "cell_type": "code",
      "metadata": {
        "id": "soHyEnSfOWpa",
        "colab_type": "code",
        "colab": {
          "base_uri": "https://localhost:8080/",
          "height": 85
        },
        "outputId": "58ec9c96-146b-4cbe-ab1b-df187d4d2cf5"
      },
      "source": [
        "confusion_matrix(y_val, pred_val)"
      ],
      "execution_count": 36,
      "outputs": [
        {
          "output_type": "execute_result",
          "data": {
            "text/plain": [
              "array([[380,   0,   0,   0],\n",
              "       [  0, 396,   0,   0],\n",
              "       [  0,   0, 386,   0],\n",
              "       [  0,   0,   0, 452]])"
            ]
          },
          "metadata": {
            "tags": []
          },
          "execution_count": 36
        }
      ]
    },
    {
      "cell_type": "code",
      "metadata": {
        "id": "u5jdgJrOpDB7",
        "colab_type": "code",
        "colab": {
          "base_uri": "https://localhost:8080/",
          "height": 204
        },
        "outputId": "7eecbe2e-012f-4ca8-c219-fd14235c1f9c"
      },
      "source": [
        "segmentation = {1:'A', 2:'B', 3:'C', 4:'D'}\n",
        "submission = pd.DataFrame()\n",
        "submission['ID'] = test['ID']\n",
        "submission['Segmentation'] = [segmentation.get(x) for x in model.predict(X_test)]\n",
        "submission.head()"
      ],
      "execution_count": 37,
      "outputs": [
        {
          "output_type": "execute_result",
          "data": {
            "text/html": [
              "<div>\n",
              "<style scoped>\n",
              "    .dataframe tbody tr th:only-of-type {\n",
              "        vertical-align: middle;\n",
              "    }\n",
              "\n",
              "    .dataframe tbody tr th {\n",
              "        vertical-align: top;\n",
              "    }\n",
              "\n",
              "    .dataframe thead th {\n",
              "        text-align: right;\n",
              "    }\n",
              "</style>\n",
              "<table border=\"1\" class=\"dataframe\">\n",
              "  <thead>\n",
              "    <tr style=\"text-align: right;\">\n",
              "      <th></th>\n",
              "      <th>ID</th>\n",
              "      <th>Segmentation</th>\n",
              "    </tr>\n",
              "  </thead>\n",
              "  <tbody>\n",
              "    <tr>\n",
              "      <th>0</th>\n",
              "      <td>458989</td>\n",
              "      <td>B</td>\n",
              "    </tr>\n",
              "    <tr>\n",
              "      <th>1</th>\n",
              "      <td>458994</td>\n",
              "      <td>C</td>\n",
              "    </tr>\n",
              "    <tr>\n",
              "      <th>2</th>\n",
              "      <td>458996</td>\n",
              "      <td>A</td>\n",
              "    </tr>\n",
              "    <tr>\n",
              "      <th>3</th>\n",
              "      <td>459000</td>\n",
              "      <td>C</td>\n",
              "    </tr>\n",
              "    <tr>\n",
              "      <th>4</th>\n",
              "      <td>459001</td>\n",
              "      <td>C</td>\n",
              "    </tr>\n",
              "  </tbody>\n",
              "</table>\n",
              "</div>"
            ],
            "text/plain": [
              "       ID Segmentation\n",
              "0  458989            B\n",
              "1  458994            C\n",
              "2  458996            A\n",
              "3  459000            C\n",
              "4  459001            C"
            ]
          },
          "metadata": {
            "tags": []
          },
          "execution_count": 37
        }
      ]
    },
    {
      "cell_type": "code",
      "metadata": {
        "id": "qxoFmiflpu3D",
        "colab_type": "code",
        "colab": {}
      },
      "source": [
        "submission.to_csv('submission.csv', index=False)"
      ],
      "execution_count": 38,
      "outputs": []
    }
  ]
}