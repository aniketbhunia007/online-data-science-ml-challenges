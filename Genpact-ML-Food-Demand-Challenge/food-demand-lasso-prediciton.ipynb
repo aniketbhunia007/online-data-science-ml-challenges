{
 "cells": [
  {
   "cell_type": "code",
   "execution_count": 1,
   "metadata": {
    "_execution_state": "idle",
    "_uuid": "051d70d956493feee0c6d64651c6a088724dca2a"
   },
   "outputs": [
    {
     "name": "stderr",
     "output_type": "stream",
     "text": [
      "\n",
      "Attaching package: ‘dplyr’\n",
      "\n",
      "\n",
      "The following objects are masked from ‘package:stats’:\n",
      "\n",
      "    filter, lag\n",
      "\n",
      "\n",
      "The following objects are masked from ‘package:base’:\n",
      "\n",
      "    intersect, setdiff, setequal, union\n",
      "\n",
      "\n",
      "\n",
      "Attaching package: ‘MASS’\n",
      "\n",
      "\n",
      "The following object is masked from ‘package:dplyr’:\n",
      "\n",
      "    select\n",
      "\n",
      "\n",
      "Loading required package: Matrix\n",
      "\n",
      "Loaded glmnet 3.0-1\n",
      "\n",
      "\n",
      "Loading required package: carData\n",
      "\n",
      "\n",
      "Attaching package: ‘car’\n",
      "\n",
      "\n",
      "The following object is masked from ‘package:dplyr’:\n",
      "\n",
      "    recode\n",
      "\n",
      "\n"
     ]
    }
   ],
   "source": [
    "library(readxl)\n",
    "library(dplyr)\n",
    "library(caTools)\n",
    "library(mltools)\n",
    "library(MASS)\n",
    "library(leaps)\n",
    "library(glmnet)\n",
    "library(ISLR)\n",
    "library(car)"
   ]
  },
  {
   "cell_type": "code",
   "execution_count": 2,
   "metadata": {},
   "outputs": [],
   "source": [
    "train = read.csv(\"../input/av-genpact-hack-dec2018/train.csv\")\n",
    "test = read.csv('../input/av-genpact-hack-dec2018/test.csv')\n",
    "meal = read.csv('../input/av-genpact-hack-dec2018/meal_info.csv')\n",
    "fulfillment = read.csv('../input/av-genpact-hack-dec2018/fulfilment_center_info.csv')"
   ]
  },
  {
   "cell_type": "markdown",
   "metadata": {},
   "source": [
    "# Data Preprocessing"
   ]
  },
  {
   "cell_type": "code",
   "execution_count": 3,
   "metadata": {},
   "outputs": [],
   "source": [
    "num_orders = 0\n",
    "test = cbind(test, num_orders)\n",
    "\n",
    "data = rbind(train, test)"
   ]
  },
  {
   "cell_type": "code",
   "execution_count": 4,
   "metadata": {},
   "outputs": [],
   "source": [
    "data = merge(data, meal, by = 'meal_id')\n",
    "data = merge(data, fulfillment, by='center_id')\n",
    "\n",
    "data = data[-c(1, 2)]"
   ]
  },
  {
   "cell_type": "code",
   "execution_count": 5,
   "metadata": {},
   "outputs": [
    {
     "data": {
      "text/html": [
       "0"
      ],
      "text/latex": [
       "0"
      ],
      "text/markdown": [
       "0"
      ],
      "text/plain": [
       "[1] 0"
      ]
     },
     "metadata": {},
     "output_type": "display_data"
    }
   ],
   "source": [
    "data = data %>% arrange(week)\n",
    "\n",
    "sum(is.na(data))"
   ]
  },
  {
   "cell_type": "code",
   "execution_count": 6,
   "metadata": {},
   "outputs": [
    {
     "name": "stdout",
     "output_type": "stream",
     "text": [
      "'data.frame':\t489121 obs. of  13 variables:\n",
      " $ id                   : int  1393410 1295523 1174971 1255368 1129188 1225174 1421626 1039159 1188064 1050666 ...\n",
      " $ week                 : int  1 1 1 1 1 1 1 1 1 1 ...\n",
      " $ checkout_price       : num  184 339 323 281 426 ...\n",
      " $ base_price           : num  184 429 383 280 427 ...\n",
      " $ emailer_for_promotion: int  0 0 0 0 0 1 0 0 0 0 ...\n",
      " $ homepage_featured    : int  0 0 0 0 0 0 0 0 0 0 ...\n",
      " $ num_orders           : num  742 298 324 202 1419 ...\n",
      " $ category             : Factor w/ 14 levels \"Beverages\",\"Biryani\",..: 1 1 1 14 9 8 4 1 1 7 ...\n",
      " $ cuisine              : Factor w/ 4 levels \"Continental\",..: 3 2 1 4 2 1 4 1 2 3 ...\n",
      " $ city_code            : int  590 590 590 590 590 590 590 590 590 590 ...\n",
      " $ region_code          : int  56 56 56 56 56 56 56 56 56 56 ...\n",
      " $ center_type          : Factor w/ 3 levels \"TYPE_A\",\"TYPE_B\",..: 2 2 2 2 2 2 2 2 2 2 ...\n",
      " $ op_area              : num  6.3 6.3 6.3 6.3 6.3 6.3 6.3 6.3 6.3 6.3 ...\n"
     ]
    }
   ],
   "source": [
    "str(data)"
   ]
  },
  {
   "cell_type": "code",
   "execution_count": 7,
   "metadata": {},
   "outputs": [
    {
     "data": {
      "text/html": [
       "<dl class=dl-horizontal>\n",
       "\t<dt>Beverages</dt>\n",
       "\t\t<dd>136781</dd>\n",
       "\t<dt>Biryani</dt>\n",
       "\t\t<dd>21951</dd>\n",
       "\t<dt>Desert</dt>\n",
       "\t\t<dd>31407</dd>\n",
       "\t<dt>Extras</dt>\n",
       "\t\t<dd>14554</dd>\n",
       "\t<dt>Fish</dt>\n",
       "\t\t<dd>11518</dd>\n",
       "\t<dt>Other Snacks</dt>\n",
       "\t\t<dd>31483</dd>\n",
       "\t<dt>Pasta</dt>\n",
       "\t\t<dd>29621</dd>\n",
       "\t<dt>Pizza</dt>\n",
       "\t\t<dd>35444</dd>\n",
       "\t<dt>Rice Bowl</dt>\n",
       "\t\t<dd>35717</dd>\n",
       "\t<dt>Salad</dt>\n",
       "\t\t<dd>30868</dd>\n",
       "\t<dt>Sandwich</dt>\n",
       "\t\t<dd>35599</dd>\n",
       "\t<dt>Seafood</dt>\n",
       "\t\t<dd>28613</dd>\n",
       "\t<dt>Soup</dt>\n",
       "\t\t<dd>13640</dd>\n",
       "\t<dt>Starters</dt>\n",
       "\t\t<dd>31925</dd>\n",
       "</dl>\n"
      ],
      "text/latex": [
       "\\begin{description*}\n",
       "\\item[Beverages] 136781\n",
       "\\item[Biryani] 21951\n",
       "\\item[Desert] 31407\n",
       "\\item[Extras] 14554\n",
       "\\item[Fish] 11518\n",
       "\\item[Other Snacks] 31483\n",
       "\\item[Pasta] 29621\n",
       "\\item[Pizza] 35444\n",
       "\\item[Rice Bowl] 35717\n",
       "\\item[Salad] 30868\n",
       "\\item[Sandwich] 35599\n",
       "\\item[Seafood] 28613\n",
       "\\item[Soup] 13640\n",
       "\\item[Starters] 31925\n",
       "\\end{description*}\n"
      ],
      "text/markdown": [
       "Beverages\n",
       ":   136781Biryani\n",
       ":   21951Desert\n",
       ":   31407Extras\n",
       ":   14554Fish\n",
       ":   11518Other Snacks\n",
       ":   31483Pasta\n",
       ":   29621Pizza\n",
       ":   35444Rice Bowl\n",
       ":   35717Salad\n",
       ":   30868Sandwich\n",
       ":   35599Seafood\n",
       ":   28613Soup\n",
       ":   13640Starters\n",
       ":   31925\n",
       "\n"
      ],
      "text/plain": [
       "   Beverages      Biryani       Desert       Extras         Fish Other Snacks \n",
       "      136781        21951        31407        14554        11518        31483 \n",
       "       Pasta        Pizza    Rice Bowl        Salad     Sandwich      Seafood \n",
       "       29621        35444        35717        30868        35599        28613 \n",
       "        Soup     Starters \n",
       "       13640        31925 "
      ]
     },
     "metadata": {},
     "output_type": "display_data"
    },
    {
     "data": {
      "text/html": [
       "<dl class=dl-horizontal>\n",
       "\t<dt>Continental</dt>\n",
       "\t\t<dd>110383</dd>\n",
       "\t<dt>Indian</dt>\n",
       "\t\t<dd>120419</dd>\n",
       "\t<dt>Italian</dt>\n",
       "\t\t<dd>131761</dd>\n",
       "\t<dt>Thai</dt>\n",
       "\t\t<dd>126558</dd>\n",
       "</dl>\n"
      ],
      "text/latex": [
       "\\begin{description*}\n",
       "\\item[Continental] 110383\n",
       "\\item[Indian] 120419\n",
       "\\item[Italian] 131761\n",
       "\\item[Thai] 126558\n",
       "\\end{description*}\n"
      ],
      "text/markdown": [
       "Continental\n",
       ":   110383Indian\n",
       ":   120419Italian\n",
       ":   131761Thai\n",
       ":   126558\n",
       "\n"
      ],
      "text/plain": [
       "Continental      Indian     Italian        Thai \n",
       "     110383      120419      131761      126558 "
      ]
     },
     "metadata": {},
     "output_type": "display_data"
    },
    {
     "data": {
      "text/html": [
       "<dl class=dl-horizontal>\n",
       "\t<dt>TYPE_A</dt>\n",
       "\t\t<dd>281597</dd>\n",
       "\t<dt>TYPE_B</dt>\n",
       "\t\t<dd>100922</dd>\n",
       "\t<dt>TYPE_C</dt>\n",
       "\t\t<dd>106602</dd>\n",
       "</dl>\n"
      ],
      "text/latex": [
       "\\begin{description*}\n",
       "\\item[TYPE\\textbackslash{}\\_A] 281597\n",
       "\\item[TYPE\\textbackslash{}\\_B] 100922\n",
       "\\item[TYPE\\textbackslash{}\\_C] 106602\n",
       "\\end{description*}\n"
      ],
      "text/markdown": [
       "TYPE_A\n",
       ":   281597TYPE_B\n",
       ":   100922TYPE_C\n",
       ":   106602\n",
       "\n"
      ],
      "text/plain": [
       "TYPE_A TYPE_B TYPE_C \n",
       "281597 100922 106602 "
      ]
     },
     "metadata": {},
     "output_type": "display_data"
    }
   ],
   "source": [
    "summary(data$category)\n",
    "summary(data$cuisine)\n",
    "summary(data$center_type)"
   ]
  },
  {
   "cell_type": "code",
   "execution_count": 8,
   "metadata": {},
   "outputs": [
    {
     "data": {
      "image/png": "[encoded data removed]"
     },
     "metadata": {
      "image/png": {
       "height": 420,
       "width": 420
      }
     },
     "output_type": "display_data"
    }
   ],
   "source": [
    "boxplot(log1p(data$num_orders))\n",
    "data$num_orders = log1p(data$num_orders)"
   ]
  },
  {
   "cell_type": "code",
   "execution_count": 9,
   "metadata": {},
   "outputs": [],
   "source": [
    "data$checkout_price = scale(data$checkout_price)\n",
    "data$base_price = scale(data$base_price)"
   ]
  },
  {
   "cell_type": "code",
   "execution_count": 10,
   "metadata": {},
   "outputs": [],
   "source": [
    "data$emailer_for_promotion = as.factor(data$emailer_for_promotion)\n",
    "data$homepage_featured = as.factor(data$homepage_featured)"
   ]
  },
  {
   "cell_type": "code",
   "execution_count": 11,
   "metadata": {},
   "outputs": [
    {
     "name": "stdout",
     "output_type": "stream",
     "text": [
      "'data.frame':\t489121 obs. of  13 variables:\n",
      " $ id                   : int  1393410 1295523 1174971 1255368 1129188 1225174 1421626 1039159 1188064 1050666 ...\n",
      " $ week                 : int  1 1 1 1 1 1 1 1 1 1 ...\n",
      " $ checkout_price       : num [1:489121, 1] -0.9706 0.0371 -0.0645 -0.3369 0.6076 ...\n",
      "  ..- attr(*, \"scaled:center\")= num 333\n",
      "  ..- attr(*, \"scaled:scale\")= num 153\n",
      " $ base_price           : num [1:489121, 1] -1.06 0.464 0.18 -0.461 0.452 ...\n",
      "  ..- attr(*, \"scaled:center\")= num 354\n",
      "  ..- attr(*, \"scaled:scale\")= num 160\n",
      " $ emailer_for_promotion: Factor w/ 2 levels \"0\",\"1\": 1 1 1 1 1 2 1 1 1 1 ...\n",
      " $ homepage_featured    : Factor w/ 2 levels \"0\",\"1\": 1 1 1 1 1 1 1 1 1 1 ...\n",
      " $ num_orders           : num  6.61 5.7 5.78 5.31 7.26 ...\n",
      " $ category             : Factor w/ 14 levels \"Beverages\",\"Biryani\",..: 1 1 1 14 9 8 4 1 1 7 ...\n",
      " $ cuisine              : Factor w/ 4 levels \"Continental\",..: 3 2 1 4 2 1 4 1 2 3 ...\n",
      " $ city_code            : int  590 590 590 590 590 590 590 590 590 590 ...\n",
      " $ region_code          : int  56 56 56 56 56 56 56 56 56 56 ...\n",
      " $ center_type          : Factor w/ 3 levels \"TYPE_A\",\"TYPE_B\",..: 2 2 2 2 2 2 2 2 2 2 ...\n",
      " $ op_area              : num  6.3 6.3 6.3 6.3 6.3 6.3 6.3 6.3 6.3 6.3 ...\n"
     ]
    }
   ],
   "source": [
    "str(data)"
   ]
  },
  {
   "cell_type": "markdown",
   "metadata": {},
   "source": [
    "# Segregation train and test dat"
   ]
  },
  {
   "cell_type": "code",
   "execution_count": 12,
   "metadata": {},
   "outputs": [],
   "source": [
    "train_ = data[1:nrow(train),]\n",
    "test_ = data[(nrow(train) + 1):nrow(data),]"
   ]
  },
  {
   "cell_type": "markdown",
   "metadata": {},
   "source": [
    "# Seperating train into train and validation set"
   ]
  },
  {
   "cell_type": "code",
   "execution_count": 13,
   "metadata": {},
   "outputs": [],
   "source": [
    "train_set = train_[train$week <= 140,]\n",
    "val_set = train_[train_$week > 140, ]\n",
    "\n",
    "# One Hot Encoding\n",
    "X = model.matrix(num_orders ~ .-week-id, data = train_set)[,-1]\n",
    "X_val = model.matrix(num_orders ~ .-week-id, data = val_set)[,-1]"
   ]
  },
  {
   "cell_type": "markdown",
   "metadata": {},
   "source": [
    "# Normal Linear Regression"
   ]
  },
  {
   "cell_type": "code",
   "execution_count": 14,
   "metadata": {},
   "outputs": [
    {
     "data": {
      "text/plain": [
       "\n",
       "Call:\n",
       "lm(formula = num_orders ~ . - week - id, data = train_set)\n",
       "\n",
       "Residuals:\n",
       "    Min      1Q  Median      3Q     Max \n",
       "-3.9658 -0.4455  0.0460  0.4888  3.6549 \n",
       "\n",
       "Coefficients:\n",
       "                         Estimate Std. Error t value Pr(>|t|)    \n",
       "(Intercept)             3.747e+00  1.119e-02  334.97   <2e-16 ***\n",
       "checkout_price         -5.913e-01  4.353e-03 -135.82   <2e-16 ***\n",
       "base_price              2.154e-01  5.305e-03   40.60   <2e-16 ***\n",
       "emailer_for_promotion1  4.013e-01  4.886e-03   82.12   <2e-16 ***\n",
       "homepage_featured1      5.297e-01  3.834e-03  138.13   <2e-16 ***\n",
       "categoryBiryani        -9.795e-02  8.680e-03  -11.28   <2e-16 ***\n",
       "categoryDesert          4.551e-01  8.283e-03   54.95   <2e-16 ***\n",
       "categoryExtras         -4.355e-01  7.595e-03  -57.35   <2e-16 ***\n",
       "categoryFish           -2.709e-01  9.828e-03  -27.57   <2e-16 ***\n",
       "categoryOther Snacks   -9.532e-01  6.643e-03 -143.49   <2e-16 ***\n",
       "categoryPasta          -1.557e+00  8.021e-03 -194.09   <2e-16 ***\n",
       "categoryPizza           5.120e-01  8.576e-03   59.69   <2e-16 ***\n",
       "categoryRice Bowl       2.379e+00  6.405e-03  371.45   <2e-16 ***\n",
       "categorySalad           1.950e-01  6.328e-03   30.81   <2e-16 ***\n",
       "categorySandwich        3.163e-01  6.170e-03   51.26   <2e-16 ***\n",
       "categorySeafood        -2.965e-01  9.035e-03  -32.81   <2e-16 ***\n",
       "categorySoup           -1.613e+00  7.914e-03 -203.88   <2e-16 ***\n",
       "categoryStarters       -8.243e-01  6.793e-03 -121.33   <2e-16 ***\n",
       "cuisineIndian          -1.269e+00  6.773e-03 -187.40   <2e-16 ***\n",
       "cuisineItalian          5.008e-01  6.953e-03   72.03   <2e-16 ***\n",
       "cuisineThai             4.453e-01  7.924e-03   56.19   <2e-16 ***\n",
       "city_code               1.940e-04  1.635e-05   11.87   <2e-16 ***\n",
       "region_code             2.166e-03  6.028e-05   35.94   <2e-16 ***\n",
       "center_typeTYPE_B       1.203e-01  2.844e-03   42.30   <2e-16 ***\n",
       "center_typeTYPE_C      -1.886e-01  2.854e-03  -66.08   <2e-16 ***\n",
       "op_area                 2.223e-01  1.125e-03  197.64   <2e-16 ***\n",
       "---\n",
       "Signif. codes:  0 ‘***’ 0.001 ‘**’ 0.01 ‘*’ 0.05 ‘.’ 0.1 ‘ ’ 1\n",
       "\n",
       "Residual standard error: 0.7021 on 440146 degrees of freedom\n",
       "Multiple R-squared:  0.6604,\tAdjusted R-squared:  0.6604 \n",
       "F-statistic: 3.424e+04 on 25 and 440146 DF,  p-value: < 2.2e-16\n"
      ]
     },
     "metadata": {},
     "output_type": "display_data"
    },
    {
     "name": "stderr",
     "output_type": "stream",
     "text": [
      "Warning message in val_set$num_orders - pred_lm:\n",
      "“longer object length is not a multiple of shorter object length”\n"
     ]
    },
    {
     "data": {
      "text/html": [
       "1.51742432265216"
      ],
      "text/latex": [
       "1.51742432265216"
      ],
      "text/markdown": [
       "1.51742432265216"
      ],
      "text/plain": [
       "[1] 1.517424"
      ]
     },
     "metadata": {},
     "output_type": "display_data"
    }
   ],
   "source": [
    "lm.fit = lm(num_orders ~ .-week-id, data = train_set)\n",
    "summary(lm.fit)\n",
    "pred_lm = predict(lm.fit, newx = X_val)\n",
    "sqrt(mean((val_set$num_orders - pred_lm)^2))"
   ]
  },
  {
   "cell_type": "markdown",
   "metadata": {},
   "source": [
    "# Subsetting"
   ]
  },
  {
   "cell_type": "code",
   "execution_count": 15,
   "metadata": {},
   "outputs": [
    {
     "data": {
      "text/html": [
       "<ol class=list-inline>\n",
       "\t<li>0.0781433937451054</li>\n",
       "\t<li>0.228662956610718</li>\n",
       "\t<li>0.361100776249499</li>\n",
       "\t<li>0.410881635656174</li>\n",
       "\t<li>0.458625688587131</li>\n",
       "\t<li>0.514920413558909</li>\n",
       "\t<li>0.562161012644966</li>\n",
       "\t<li>0.588069399854847</li>\n",
       "\t<li>0.608921620256548</li>\n",
       "\t<li>0.61925353653498</li>\n",
       "</ol>\n"
      ],
      "text/latex": [
       "\\begin{enumerate*}\n",
       "\\item 0.0781433937451054\n",
       "\\item 0.228662956610718\n",
       "\\item 0.361100776249499\n",
       "\\item 0.410881635656174\n",
       "\\item 0.458625688587131\n",
       "\\item 0.514920413558909\n",
       "\\item 0.562161012644966\n",
       "\\item 0.588069399854847\n",
       "\\item 0.608921620256548\n",
       "\\item 0.61925353653498\n",
       "\\end{enumerate*}\n"
      ],
      "text/markdown": [
       "1. 0.0781433937451054\n",
       "2. 0.228662956610718\n",
       "3. 0.361100776249499\n",
       "4. 0.410881635656174\n",
       "5. 0.458625688587131\n",
       "6. 0.514920413558909\n",
       "7. 0.562161012644966\n",
       "8. 0.588069399854847\n",
       "9. 0.608921620256548\n",
       "10. 0.61925353653498\n",
       "\n",
       "\n"
      ],
      "text/plain": [
       " [1] 0.07814339 0.22866296 0.36110078 0.41088164 0.45862569 0.51492041\n",
       " [7] 0.56216101 0.58806940 0.60892162 0.61925354"
      ]
     },
     "metadata": {},
     "output_type": "display_data"
    }
   ],
   "source": [
    "nvmax_ = 10\n",
    "\n",
    "subset.fit = regsubsets(num_orders ~ .-week-id, data = train_set, method='backward', nvmax = nvmax_)\n",
    "k = summary(subset.fit)\n",
    "k$adjr2"
   ]
  },
  {
   "cell_type": "code",
   "execution_count": 16,
   "metadata": {},
   "outputs": [
    {
     "data": {
      "text/html": [
       "<ol class=list-inline>\n",
       "\t<li>1.11865052970612</li>\n",
       "\t<li>1.0297900310617</li>\n",
       "\t<li>0.962499995376201</li>\n",
       "\t<li>0.919450226986271</li>\n",
       "\t<li>0.895175197479691</li>\n",
       "\t<li>0.838420160999369</li>\n",
       "\t<li>0.792992538182825</li>\n",
       "\t<li>0.74988329429188</li>\n",
       "\t<li>0.746078385616717</li>\n",
       "\t<li>0.738701989015657</li>\n",
       "</ol>\n"
      ],
      "text/latex": [
       "\\begin{enumerate*}\n",
       "\\item 1.11865052970612\n",
       "\\item 1.0297900310617\n",
       "\\item 0.962499995376201\n",
       "\\item 0.919450226986271\n",
       "\\item 0.895175197479691\n",
       "\\item 0.838420160999369\n",
       "\\item 0.792992538182825\n",
       "\\item 0.74988329429188\n",
       "\\item 0.746078385616717\n",
       "\\item 0.738701989015657\n",
       "\\end{enumerate*}\n"
      ],
      "text/markdown": [
       "1. 1.11865052970612\n",
       "2. 1.0297900310617\n",
       "3. 0.962499995376201\n",
       "4. 0.919450226986271\n",
       "5. 0.895175197479691\n",
       "6. 0.838420160999369\n",
       "7. 0.792992538182825\n",
       "8. 0.74988329429188\n",
       "9. 0.746078385616717\n",
       "10. 0.738701989015657\n",
       "\n",
       "\n"
      ],
      "text/plain": [
       " [1] 1.1186505 1.0297900 0.9625000 0.9194502 0.8951752 0.8384202 0.7929925\n",
       " [8] 0.7498833 0.7460784 0.7387020"
      ]
     },
     "metadata": {},
     "output_type": "display_data"
    }
   ],
   "source": [
    "val.errors = rep(NA, nvmax_)\n",
    "for(i in 1:nvmax_){\n",
    "  coefi = coef(subset.fit, id=i)\n",
    "  pred = cbind(1, X_val[,names(coefi[-c(1)])]) %*% coefi\n",
    "  val.errors[i]= sqrt(mean((val_set$num_orders - pred) ^2))\n",
    "}\n",
    "val.errors"
   ]
  },
  {
   "cell_type": "code",
   "execution_count": 17,
   "metadata": {},
   "outputs": [
    {
     "data": {
      "text/html": [
       "0.738701989015657"
      ],
      "text/latex": [
       "0.738701989015657"
      ],
      "text/markdown": [
       "0.738701989015657"
      ],
      "text/plain": [
       "[1] 0.738702"
      ]
     },
     "metadata": {},
     "output_type": "display_data"
    }
   ],
   "source": [
    "val.errors[which.min(val.errors)]"
   ]
  },
  {
   "cell_type": "markdown",
   "metadata": {},
   "source": [
    "# Lasso Regression"
   ]
  },
  {
   "cell_type": "code",
   "execution_count": 18,
   "metadata": {},
   "outputs": [
    {
     "name": "stderr",
     "output_type": "stream",
     "text": [
      "Warning message in regularize.values(x, y, ties, missing(ties)):\n",
      "“collapsing to unique 'x' values”\n"
     ]
    },
    {
     "data": {
      "image/png": "[encoded data removed]"
     },
     "metadata": {
      "image/png": {
       "height": 420,
       "width": 420
      }
     },
     "output_type": "display_data"
    }
   ],
   "source": [
    "ld = 10^seq(10, -2, length=150)\n",
    "\n",
    "y = train_set$num_orders\n",
    "rig.fit = glmnet(X, y, alpha=1, lambda=ld)\n",
    "plot(rig.fit)"
   ]
  },
  {
   "cell_type": "code",
   "execution_count": 19,
   "metadata": {},
   "outputs": [
    {
     "data": {
      "image/png": "[encoded data removed]"
     },
     "metadata": {
      "image/png": {
       "height": 420,
       "width": 420
      }
     },
     "output_type": "display_data"
    }
   ],
   "source": [
    "cvglm = cv.glmnet(X, y, alpha=1, lambda=ld, nfolds=10)\n",
    "plot(cvglm)"
   ]
  },
  {
   "cell_type": "code",
   "execution_count": 20,
   "metadata": {},
   "outputs": [
    {
     "data": {
      "text/html": [
       "0.01"
      ],
      "text/latex": [
       "0.01"
      ],
      "text/markdown": [
       "0.01"
      ],
      "text/plain": [
       "[1] 0.01"
      ]
     },
     "metadata": {},
     "output_type": "display_data"
    }
   ],
   "source": [
    "best = cvglm$lambda.min\n",
    "best"
   ]
  },
  {
   "cell_type": "code",
   "execution_count": 21,
   "metadata": {},
   "outputs": [
    {
     "data": {
      "text/plain": [
       "26 x 1 sparse Matrix of class \"dgCMatrix\"\n",
       "                                   1\n",
       "(Intercept)             3.9361136057\n",
       "checkout_price         -0.4941837004\n",
       "base_price              .           \n",
       "emailer_for_promotion1  0.4151791154\n",
       "homepage_featured1      0.5585470004\n",
       "categoryBiryani         .           \n",
       "categoryDesert          0.4782182226\n",
       "categoryExtras         -0.1165255358\n",
       "categoryFish           -0.0809465095\n",
       "categoryOther Snacks   -0.6232702686\n",
       "categoryPasta          -1.3086784865\n",
       "categoryPizza           0.6442992808\n",
       "categoryRice Bowl       2.3090497139\n",
       "categorySalad           0.2602373318\n",
       "categorySandwich        0.3895318467\n",
       "categorySeafood        -0.0741595863\n",
       "categorySoup           -1.2839009475\n",
       "categoryStarters       -0.4913136796\n",
       "cuisineIndian          -1.3018732712\n",
       "cuisineItalian          0.2944585570\n",
       "cuisineThai             0.0362397431\n",
       "city_code               0.0000494368\n",
       "region_code             0.0016549232\n",
       "center_typeTYPE_B       0.1020236942\n",
       "center_typeTYPE_C      -0.1629639302\n",
       "op_area                 0.2167212528"
      ]
     },
     "metadata": {},
     "output_type": "display_data"
    }
   ],
   "source": [
    "predict(rig.fit, s=best, type='coefficients')"
   ]
  },
  {
   "cell_type": "code",
   "execution_count": 22,
   "metadata": {},
   "outputs": [
    {
     "data": {
      "text/html": [
       "0.701594054500433"
      ],
      "text/latex": [
       "0.701594054500433"
      ],
      "text/markdown": [
       "0.701594054500433"
      ],
      "text/plain": [
       "[1] 0.7015941"
      ]
     },
     "metadata": {},
     "output_type": "display_data"
    }
   ],
   "source": [
    "pred_rl = predict(rig.fit, s=best, newx = X_val)\n",
    "sqrt(mean((val_set$num_orders - pred_rl)^2))"
   ]
  },
  {
   "cell_type": "code",
   "execution_count": 23,
   "metadata": {},
   "outputs": [],
   "source": [
    "# Predicting Test Set\n",
    "\n",
    "test_set = model.matrix(num_orders ~ .-week-id, data = test_)[,-1]\n",
    "pred_test = predict(rig.fit, s=best, newx = test_set)\n",
    "\n",
    "submission = data.frame('id'=test$id,\n",
    "                        'num_orders'=exp(pred_test))\n",
    "names(submission)[2] = 'num_orders'\n",
    "\n",
    "write.csv(submission, 'RL.csv', row.names = F)"
   ]
  }
 ],
 "metadata": {
  "kernelspec": {
   "display_name": "R",
   "language": "R",
   "name": "ir"
  },
  "language_info": {
   "codemirror_mode": "r",
   "file_extension": ".r",
   "mimetype": "text/x-r-source",
   "name": "R",
   "pygments_lexer": "r",
   "version": "3.6.0"
  }
 },
 "nbformat": 4,
 "nbformat_minor": 1
}
