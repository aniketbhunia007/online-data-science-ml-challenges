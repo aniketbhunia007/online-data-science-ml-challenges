{
 "cells": [
  {
   "cell_type": "markdown",
   "metadata": {},
   "source": [
    "# Problem Statement"
   ]
  },
  {
   "cell_type": "markdown",
   "metadata": {},
   "source": [
    "Have you ever wondered how lenders use various factors such as credit score, annual income, the loan amount approved, tenure, debt-to-income ratio etc. and select your interest rates? \n",
    "\n",
    "The process, defined as ‘risk-based pricing’, uses a sophisticated algorithm that leverages different determining factors of a loan applicant. Selection of significant factors will help develop a prediction algorithm which can estimate loan interest rates based on clients’ information. On one hand, knowing the factors will help consumers and borrowers to increase their credit worthiness and place themselves in a better position to negotiate for getting a lower interest rate. On the other hand, this will help lending companies to get an immediate fixed interest rate estimation based on clients information. Here, your goal is to use a training dataset to predict the loan rate category (1 / 2 / 3) that will be assigned to each loan in our test set.\n",
    "\n",
    "You can use any combination of the features in the dataset to make your loan rate category predictions. Some features will be easier to use than others."
   ]
  },
  {
   "cell_type": "code",
   "execution_count": 1,
   "metadata": {},
   "outputs": [],
   "source": [
    "import pandas as pd\n",
    "import numpy as np\n",
    "import matplotlib.pyplot as plt\n",
    "import seaborn as sns\n",
    "%matplotlib inline"
   ]
  },
  {
   "cell_type": "code",
   "execution_count": 2,
   "metadata": {},
   "outputs": [],
   "source": [
    "train = pd.read_csv('train_fNxu4vz.csv')\n",
    "test = pd.read_csv('test_fjtUOL8.csv')"
   ]
  },
  {
   "cell_type": "code",
   "execution_count": 3,
   "metadata": {},
   "outputs": [
    {
     "data": {
      "text/html": [
       "<div>\n",
       "<style scoped>\n",
       "    .dataframe tbody tr th:only-of-type {\n",
       "        vertical-align: middle;\n",
       "    }\n",
       "\n",
       "    .dataframe tbody tr th {\n",
       "        vertical-align: top;\n",
       "    }\n",
       "\n",
       "    .dataframe thead th {\n",
       "        text-align: right;\n",
       "    }\n",
       "</style>\n",
       "<table border=\"1\" class=\"dataframe\">\n",
       "  <thead>\n",
       "    <tr style=\"text-align: right;\">\n",
       "      <th></th>\n",
       "      <th>Loan_ID</th>\n",
       "      <th>Loan_Amount_Requested</th>\n",
       "      <th>Length_Employed</th>\n",
       "      <th>Home_Owner</th>\n",
       "      <th>Annual_Income</th>\n",
       "      <th>Income_Verified</th>\n",
       "      <th>Purpose_Of_Loan</th>\n",
       "      <th>Debt_To_Income</th>\n",
       "      <th>Inquiries_Last_6Mo</th>\n",
       "      <th>Months_Since_Deliquency</th>\n",
       "      <th>Number_Open_Accounts</th>\n",
       "      <th>Total_Accounts</th>\n",
       "      <th>Gender</th>\n",
       "      <th>Interest_Rate</th>\n",
       "    </tr>\n",
       "  </thead>\n",
       "  <tbody>\n",
       "    <tr>\n",
       "      <th>0</th>\n",
       "      <td>10000001</td>\n",
       "      <td>7,000</td>\n",
       "      <td>&lt; 1 year</td>\n",
       "      <td>Rent</td>\n",
       "      <td>68000.0</td>\n",
       "      <td>not verified</td>\n",
       "      <td>car</td>\n",
       "      <td>18.37</td>\n",
       "      <td>0</td>\n",
       "      <td>NaN</td>\n",
       "      <td>9</td>\n",
       "      <td>14</td>\n",
       "      <td>Female</td>\n",
       "      <td>1</td>\n",
       "    </tr>\n",
       "    <tr>\n",
       "      <th>1</th>\n",
       "      <td>10000002</td>\n",
       "      <td>30,000</td>\n",
       "      <td>4 years</td>\n",
       "      <td>Mortgage</td>\n",
       "      <td>NaN</td>\n",
       "      <td>VERIFIED - income</td>\n",
       "      <td>debt_consolidation</td>\n",
       "      <td>14.93</td>\n",
       "      <td>0</td>\n",
       "      <td>17.0</td>\n",
       "      <td>12</td>\n",
       "      <td>24</td>\n",
       "      <td>Female</td>\n",
       "      <td>3</td>\n",
       "    </tr>\n",
       "    <tr>\n",
       "      <th>2</th>\n",
       "      <td>10000003</td>\n",
       "      <td>24,725</td>\n",
       "      <td>7 years</td>\n",
       "      <td>Mortgage</td>\n",
       "      <td>75566.4</td>\n",
       "      <td>VERIFIED - income source</td>\n",
       "      <td>debt_consolidation</td>\n",
       "      <td>15.88</td>\n",
       "      <td>0</td>\n",
       "      <td>NaN</td>\n",
       "      <td>12</td>\n",
       "      <td>16</td>\n",
       "      <td>Male</td>\n",
       "      <td>3</td>\n",
       "    </tr>\n",
       "    <tr>\n",
       "      <th>3</th>\n",
       "      <td>10000004</td>\n",
       "      <td>16,000</td>\n",
       "      <td>&lt; 1 year</td>\n",
       "      <td>NaN</td>\n",
       "      <td>56160.0</td>\n",
       "      <td>VERIFIED - income source</td>\n",
       "      <td>debt_consolidation</td>\n",
       "      <td>14.34</td>\n",
       "      <td>3</td>\n",
       "      <td>NaN</td>\n",
       "      <td>16</td>\n",
       "      <td>22</td>\n",
       "      <td>Male</td>\n",
       "      <td>3</td>\n",
       "    </tr>\n",
       "    <tr>\n",
       "      <th>4</th>\n",
       "      <td>10000005</td>\n",
       "      <td>17,000</td>\n",
       "      <td>8 years</td>\n",
       "      <td>Own</td>\n",
       "      <td>96000.0</td>\n",
       "      <td>VERIFIED - income source</td>\n",
       "      <td>debt_consolidation</td>\n",
       "      <td>22.17</td>\n",
       "      <td>1</td>\n",
       "      <td>NaN</td>\n",
       "      <td>19</td>\n",
       "      <td>30</td>\n",
       "      <td>Female</td>\n",
       "      <td>1</td>\n",
       "    </tr>\n",
       "  </tbody>\n",
       "</table>\n",
       "</div>"
      ],
      "text/plain": [
       "    Loan_ID Loan_Amount_Requested Length_Employed Home_Owner  Annual_Income  \\\n",
       "0  10000001                 7,000        < 1 year       Rent        68000.0   \n",
       "1  10000002                30,000         4 years   Mortgage            NaN   \n",
       "2  10000003                24,725         7 years   Mortgage        75566.4   \n",
       "3  10000004                16,000        < 1 year        NaN        56160.0   \n",
       "4  10000005                17,000         8 years        Own        96000.0   \n",
       "\n",
       "            Income_Verified     Purpose_Of_Loan  Debt_To_Income  \\\n",
       "0              not verified                 car           18.37   \n",
       "1         VERIFIED - income  debt_consolidation           14.93   \n",
       "2  VERIFIED - income source  debt_consolidation           15.88   \n",
       "3  VERIFIED - income source  debt_consolidation           14.34   \n",
       "4  VERIFIED - income source  debt_consolidation           22.17   \n",
       "\n",
       "   Inquiries_Last_6Mo  Months_Since_Deliquency  Number_Open_Accounts  \\\n",
       "0                   0                      NaN                     9   \n",
       "1                   0                     17.0                    12   \n",
       "2                   0                      NaN                    12   \n",
       "3                   3                      NaN                    16   \n",
       "4                   1                      NaN                    19   \n",
       "\n",
       "   Total_Accounts  Gender  Interest_Rate  \n",
       "0              14  Female              1  \n",
       "1              24  Female              3  \n",
       "2              16    Male              3  \n",
       "3              22    Male              3  \n",
       "4              30  Female              1  "
      ]
     },
     "execution_count": 3,
     "metadata": {},
     "output_type": "execute_result"
    }
   ],
   "source": [
    "train.head()"
   ]
  },
  {
   "cell_type": "code",
   "execution_count": 4,
   "metadata": {},
   "outputs": [
    {
     "data": {
      "text/plain": [
       "Loan_ID                        0\n",
       "Loan_Amount_Requested          0\n",
       "Length_Employed             7371\n",
       "Home_Owner                 25349\n",
       "Annual_Income              25102\n",
       "Income_Verified                0\n",
       "Purpose_Of_Loan                0\n",
       "Debt_To_Income                 0\n",
       "Inquiries_Last_6Mo             0\n",
       "Months_Since_Deliquency    88379\n",
       "Number_Open_Accounts           0\n",
       "Total_Accounts                 0\n",
       "Gender                         0\n",
       "Interest_Rate                  0\n",
       "dtype: int64"
      ]
     },
     "execution_count": 4,
     "metadata": {},
     "output_type": "execute_result"
    }
   ],
   "source": [
    "train.isnull().sum()"
   ]
  },
  {
   "cell_type": "code",
   "execution_count": 5,
   "metadata": {},
   "outputs": [
    {
     "data": {
      "text/plain": [
       "((164309, 14), (109541, 13))"
      ]
     },
     "execution_count": 5,
     "metadata": {},
     "output_type": "execute_result"
    }
   ],
   "source": [
    "train.shape, test.shape"
   ]
  },
  {
   "cell_type": "code",
   "execution_count": 6,
   "metadata": {},
   "outputs": [
    {
     "name": "stderr",
     "output_type": "stream",
     "text": [
      "C:\\Users\\hungu\\anaconda.x\\lib\\site-packages\\pandas\\core\\frame.py:6692: FutureWarning: Sorting because non-concatenation axis is not aligned. A future version\n",
      "of pandas will change to not sort by default.\n",
      "\n",
      "To accept the future behavior, pass 'sort=False'.\n",
      "\n",
      "To retain the current behavior and silence the warning, pass 'sort=True'.\n",
      "\n",
      "  sort=sort)\n"
     ]
    },
    {
     "data": {
      "text/plain": [
       "(273850, 14)"
      ]
     },
     "execution_count": 6,
     "metadata": {},
     "output_type": "execute_result"
    }
   ],
   "source": [
    "combine = train.append(test)\n",
    "combine.shape"
   ]
  },
  {
   "cell_type": "code",
   "execution_count": 7,
   "metadata": {},
   "outputs": [
    {
     "data": {
      "text/plain": [
       "Index(['Annual_Income', 'Debt_To_Income', 'Gender', 'Home_Owner',\n",
       "       'Income_Verified', 'Inquiries_Last_6Mo', 'Interest_Rate',\n",
       "       'Length_Employed', 'Loan_Amount_Requested', 'Loan_ID',\n",
       "       'Months_Since_Deliquency', 'Number_Open_Accounts', 'Purpose_Of_Loan',\n",
       "       'Total_Accounts'],\n",
       "      dtype='object')"
      ]
     },
     "execution_count": 7,
     "metadata": {},
     "output_type": "execute_result"
    }
   ],
   "source": [
    "combine.columns"
   ]
  },
  {
   "cell_type": "code",
   "execution_count": 8,
   "metadata": {},
   "outputs": [
    {
     "data": {
      "text/plain": [
       "count    2.318500e+05\n",
       "mean     7.339279e+04\n",
       "std      5.852984e+04\n",
       "min      3.000000e+03\n",
       "25%      4.500000e+04\n",
       "50%      6.300000e+04\n",
       "75%      8.900000e+04\n",
       "max      7.500000e+06\n",
       "Name: Annual_Income, dtype: float64"
      ]
     },
     "execution_count": 8,
     "metadata": {},
     "output_type": "execute_result"
    }
   ],
   "source": [
    "combine['Annual_Income'].describe()"
   ]
  },
  {
   "cell_type": "code",
   "execution_count": 9,
   "metadata": {},
   "outputs": [
    {
     "data": {
      "text/plain": [
       "count    273850.000000\n",
       "mean         11.058225\n",
       "std           0.479278\n",
       "min           8.006368\n",
       "25%          10.791379\n",
       "50%          11.058225\n",
       "75%          11.314475\n",
       "max          15.830414\n",
       "Name: Annual_Income, dtype: float64"
      ]
     },
     "execution_count": 9,
     "metadata": {},
     "output_type": "execute_result"
    }
   ],
   "source": [
    "combine['Annual_Income'] = np.log(combine['Annual_Income'])\n",
    "combine['Annual_Income'].fillna(combine['Annual_Income'].mean(), inplace=True)\n",
    "combine['Annual_Income'].describe()"
   ]
  },
  {
   "cell_type": "code",
   "execution_count": 10,
   "metadata": {},
   "outputs": [
    {
     "data": {
      "text/plain": [
       "count    273850.000000\n",
       "mean         17.215901\n",
       "std           7.845967\n",
       "min           0.000000\n",
       "25%          11.360000\n",
       "50%          16.850000\n",
       "75%          22.780000\n",
       "max          39.990000\n",
       "Name: Debt_To_Income, dtype: float64"
      ]
     },
     "execution_count": 10,
     "metadata": {},
     "output_type": "execute_result"
    }
   ],
   "source": [
    "combine['Debt_To_Income'].describe()"
   ]
  },
  {
   "cell_type": "code",
   "execution_count": 11,
   "metadata": {},
   "outputs": [
    {
     "data": {
      "text/plain": [
       "count    273850.000000\n",
       "mean          2.783277\n",
       "std           0.538476\n",
       "min           0.000000\n",
       "25%           2.514465\n",
       "50%           2.882004\n",
       "75%           3.168845\n",
       "max           3.713328\n",
       "Name: Debt_To_Income, dtype: float64"
      ]
     },
     "execution_count": 11,
     "metadata": {},
     "output_type": "execute_result"
    }
   ],
   "source": [
    "combine['Debt_To_Income'] = np.log1p(combine['Debt_To_Income'])\n",
    "combine['Debt_To_Income'].describe()"
   ]
  },
  {
   "cell_type": "code",
   "execution_count": 12,
   "metadata": {},
   "outputs": [
    {
     "data": {
      "text/plain": [
       "Male      194993\n",
       "Female     78857\n",
       "Name: Gender, dtype: int64"
      ]
     },
     "execution_count": 12,
     "metadata": {},
     "output_type": "execute_result"
    }
   ],
   "source": [
    "combine['Gender'].value_counts()"
   ]
  },
  {
   "cell_type": "code",
   "execution_count": 13,
   "metadata": {},
   "outputs": [
    {
     "data": {
      "text/plain": [
       "Mortgage    117270\n",
       "Rent         93542\n",
       "Own          20879\n",
       "Other           79\n",
       "None            20\n",
       "Name: Home_Owner, dtype: int64"
      ]
     },
     "execution_count": 13,
     "metadata": {},
     "output_type": "execute_result"
    }
   ],
   "source": [
    "combine['Home_Owner'].value_counts()"
   ]
  },
  {
   "cell_type": "code",
   "execution_count": 14,
   "metadata": {},
   "outputs": [
    {
     "data": {
      "text/plain": [
       "Mortgage    117270\n",
       "Rent         93542\n",
       "Unknown      42060\n",
       "Own          20879\n",
       "Other           79\n",
       "None            20\n",
       "Name: Home_Owner, dtype: int64"
      ]
     },
     "execution_count": 14,
     "metadata": {},
     "output_type": "execute_result"
    }
   ],
   "source": [
    "combine['Home_Owner'].fillna('Unknown', inplace=True)\n",
    "combine['Home_Owner'].value_counts()"
   ]
  },
  {
   "cell_type": "code",
   "execution_count": 15,
   "metadata": {},
   "outputs": [
    {
     "data": {
      "text/plain": [
       "VERIFIED - income           99076\n",
       "VERIFIED - income source    88253\n",
       "not verified                86521\n",
       "Name: Income_Verified, dtype: int64"
      ]
     },
     "execution_count": 15,
     "metadata": {},
     "output_type": "execute_result"
    }
   ],
   "source": [
    "combine['Income_Verified'].value_counts()"
   ]
  },
  {
   "cell_type": "code",
   "execution_count": 16,
   "metadata": {},
   "outputs": [
    {
     "data": {
      "text/plain": [
       "Verf_inc        99076\n",
       "Verf_inc_src    88253\n",
       "Not_verf        86521\n",
       "Name: Income_Verified, dtype: int64"
      ]
     },
     "execution_count": 16,
     "metadata": {},
     "output_type": "execute_result"
    }
   ],
   "source": [
    "combine['Income_Verified'] = combine['Income_Verified'].replace('VERIFIED - income', 'Verf_inc')\n",
    "combine['Income_Verified'] = combine['Income_Verified'].replace('VERIFIED - income source', 'Verf_inc_src')\n",
    "combine['Income_Verified'] = combine['Income_Verified'].replace('not verified', 'Not_verf')\n",
    "combine['Income_Verified'].value_counts()"
   ]
  },
  {
   "cell_type": "code",
   "execution_count": 17,
   "metadata": {},
   "outputs": [
    {
     "data": {
      "text/plain": [
       "0    142486\n",
       "1     76791\n",
       "2     34006\n",
       "3     14829\n",
       "4      3779\n",
       "5      1363\n",
       "6       556\n",
       "7        30\n",
       "8        10\n",
       "Name: Inquiries_Last_6Mo, dtype: int64"
      ]
     },
     "execution_count": 17,
     "metadata": {},
     "output_type": "execute_result"
    }
   ],
   "source": [
    "combine['Inquiries_Last_6Mo'].value_counts()"
   ]
  },
  {
   "cell_type": "code",
   "execution_count": 18,
   "metadata": {},
   "outputs": [
    {
     "data": {
      "text/plain": [
       "10+ years    88328\n",
       "2 years      24420\n",
       "3 years      21478\n",
       "< 1 year     21133\n",
       "5 years      18042\n",
       "1 year       17336\n",
       "4 years      16393\n",
       "7 years      15444\n",
       "6 years      15351\n",
       "8 years      13115\n",
       "9 years      10503\n",
       "Name: Length_Employed, dtype: int64"
      ]
     },
     "execution_count": 18,
     "metadata": {},
     "output_type": "execute_result"
    }
   ],
   "source": [
    "combine['Length_Employed'].value_counts()"
   ]
  },
  {
   "cell_type": "code",
   "execution_count": 19,
   "metadata": {},
   "outputs": [
    {
     "data": {
      "text/plain": [
       " 10    88328\n",
       " 2     24420\n",
       " 3     21478\n",
       " 0     21133\n",
       " 5     18042\n",
       " 1     17336\n",
       " 4     16393\n",
       " 7     15444\n",
       " 6     15351\n",
       " 8     13115\n",
       "-1     12307\n",
       " 9     10503\n",
       "Name: Length_Employed, dtype: int64"
      ]
     },
     "execution_count": 19,
     "metadata": {},
     "output_type": "execute_result"
    }
   ],
   "source": [
    "combine['Length_Employed'] = combine['Length_Employed'].replace('10+ years', 10)\n",
    "combine['Length_Employed'] = combine['Length_Employed'].replace('2 years', 2)\n",
    "combine['Length_Employed'] = combine['Length_Employed'].replace('3 years', 3)\n",
    "combine['Length_Employed'] = combine['Length_Employed'].replace('< 1 year', 0)\n",
    "combine['Length_Employed'] = combine['Length_Employed'].replace('5 years', 5)\n",
    "combine['Length_Employed'] = combine['Length_Employed'].replace('1 year', 1)\n",
    "combine['Length_Employed'] = combine['Length_Employed'].replace('4 years', 4)\n",
    "combine['Length_Employed'] = combine['Length_Employed'].replace('7 years', 7)\n",
    "combine['Length_Employed'] = combine['Length_Employed'].replace('6 years', 6)\n",
    "combine['Length_Employed'] = combine['Length_Employed'].replace('8 years', 8)\n",
    "combine['Length_Employed'] = combine['Length_Employed'].replace('9 years', 9)\n",
    "combine['Length_Employed'].fillna(-1, inplace=True)\n",
    "combine['Length_Employed'] = combine['Length_Employed'].astype('int')\n",
    "combine['Length_Employed'].value_counts()"
   ]
  },
  {
   "cell_type": "code",
   "execution_count": 20,
   "metadata": {},
   "outputs": [
    {
     "data": {
      "text/plain": [
       "count    273850.000000\n",
       "mean      14352.992240\n",
       "std        8289.036702\n",
       "min         500.000000\n",
       "25%        8000.000000\n",
       "50%       12000.000000\n",
       "75%       20000.000000\n",
       "max       35000.000000\n",
       "Name: Loan_Amount_Requested, dtype: float64"
      ]
     },
     "execution_count": 20,
     "metadata": {},
     "output_type": "execute_result"
    }
   ],
   "source": [
    "combine['Loan_Amount_Requested'] = combine['Loan_Amount_Requested'].str.replace(',','').astype('int')\n",
    "combine['Loan_Amount_Requested'].describe()"
   ]
  },
  {
   "cell_type": "code",
   "execution_count": 21,
   "metadata": {},
   "outputs": [
    {
     "data": {
      "text/plain": [
       "count    273850.000000\n",
       "mean          9.379342\n",
       "std           0.668087\n",
       "min           6.214608\n",
       "25%           8.987197\n",
       "50%           9.392662\n",
       "75%           9.903488\n",
       "max          10.463103\n",
       "Name: Loan_Amount_Requested, dtype: float64"
      ]
     },
     "execution_count": 21,
     "metadata": {},
     "output_type": "execute_result"
    }
   ],
   "source": [
    "combine['Loan_Amount_Requested'] = np.log(combine['Loan_Amount_Requested'])\n",
    "combine['Loan_Amount_Requested'].describe()"
   ]
  },
  {
   "cell_type": "code",
   "execution_count": 22,
   "metadata": {},
   "outputs": [
    {
     "data": {
      "text/plain": [
       "count    126612.000000\n",
       "mean         34.103395\n",
       "std          21.750307\n",
       "min           0.000000\n",
       "25%          16.000000\n",
       "50%          31.000000\n",
       "75%          49.000000\n",
       "max         180.000000\n",
       "Name: Months_Since_Deliquency, dtype: float64"
      ]
     },
     "execution_count": 22,
     "metadata": {},
     "output_type": "execute_result"
    }
   ],
   "source": [
    "combine['Months_Since_Deliquency'].describe()"
   ]
  },
  {
   "cell_type": "code",
   "execution_count": 23,
   "metadata": {},
   "outputs": [
    {
     "data": {
      "text/plain": [
       "Unknown        147238\n",
       "Month_1         60733\n",
       "Month_2         45346\n",
       "Month_3Plus     20533\n",
       "Name: Months_Since_Deliquency, dtype: int64"
      ]
     },
     "execution_count": 23,
     "metadata": {},
     "output_type": "execute_result"
    }
   ],
   "source": [
    "combine['Months_Since_Deliquency'].fillna(-1, inplace=True)\n",
    "bins= [-1, 0, 30, 60, 182]\n",
    "labels = ['Unknown', 'Month_1', 'Month_2', 'Month_3Plus']\n",
    "combine['Months_Since_Deliquency'] = pd.cut(combine['Months_Since_Deliquency'], bins=bins, labels=labels, right=False)\n",
    "combine['Months_Since_Deliquency'].value_counts()"
   ]
  },
  {
   "cell_type": "code",
   "execution_count": 24,
   "metadata": {
    "scrolled": true
   },
   "outputs": [
    {
     "data": {
      "text/plain": [
       "count    273850.000000\n",
       "mean         11.186025\n",
       "std           4.973663\n",
       "min           0.000000\n",
       "25%           8.000000\n",
       "50%          10.000000\n",
       "75%          14.000000\n",
       "max          84.000000\n",
       "Name: Number_Open_Accounts, dtype: float64"
      ]
     },
     "execution_count": 24,
     "metadata": {},
     "output_type": "execute_result"
    }
   ],
   "source": [
    "combine['Number_Open_Accounts'].describe()"
   ]
  },
  {
   "cell_type": "code",
   "execution_count": 25,
   "metadata": {},
   "outputs": [
    {
     "data": {
      "text/plain": [
       "Acc_Tier_2    141494\n",
       "Acc_Tier_1    115026\n",
       "Acc_Tier_3     17330\n",
       "Name: Number_Open_Accounts, dtype: int64"
      ]
     },
     "execution_count": 25,
     "metadata": {},
     "output_type": "execute_result"
    }
   ],
   "source": [
    "bins= [0, 10, 20, 86]\n",
    "labels = ['Acc_Tier_1', 'Acc_Tier_2', 'Acc_Tier_3']\n",
    "combine['Number_Open_Accounts'] = pd.cut(combine['Number_Open_Accounts'], bins=bins, labels=labels, right=False)\n",
    "combine['Number_Open_Accounts'].value_counts()"
   ]
  },
  {
   "cell_type": "code",
   "execution_count": 26,
   "metadata": {},
   "outputs": [
    {
     "data": {
      "text/plain": [
       "debt_consolidation    161403\n",
       "credit_card            61394\n",
       "home_improvement       15455\n",
       "other                  13846\n",
       "major_purchase          5712\n",
       "small_business          4064\n",
       "car                     3149\n",
       "medical                 2633\n",
       "moving                  1675\n",
       "vacation                1453\n",
       "wedding                 1345\n",
       "house                   1316\n",
       "renewable_energy         206\n",
       "educational              199\n",
       "Name: Purpose_Of_Loan, dtype: int64"
      ]
     },
     "execution_count": 26,
     "metadata": {},
     "output_type": "execute_result"
    }
   ],
   "source": [
    "combine['Purpose_Of_Loan'].value_counts()"
   ]
  },
  {
   "cell_type": "code",
   "execution_count": 27,
   "metadata": {},
   "outputs": [
    {
     "data": {
      "text/plain": [
       "count    273850.000000\n",
       "mean         25.067975\n",
       "std          11.589677\n",
       "min           2.000000\n",
       "25%          17.000000\n",
       "50%          23.000000\n",
       "75%          32.000000\n",
       "max         156.000000\n",
       "Name: Total_Accounts, dtype: float64"
      ]
     },
     "execution_count": 27,
     "metadata": {},
     "output_type": "execute_result"
    }
   ],
   "source": [
    "combine['Total_Accounts'].describe()"
   ]
  },
  {
   "cell_type": "code",
   "execution_count": 28,
   "metadata": {},
   "outputs": [
    {
     "data": {
      "text/plain": [
       "Tot_Acc_2    89999\n",
       "Tot_Acc_3    86312\n",
       "Tot_Acc_4    70338\n",
       "Tot_Acc_1    27201\n",
       "Name: Total_Accounts, dtype: int64"
      ]
     },
     "execution_count": 28,
     "metadata": {},
     "output_type": "execute_result"
    }
   ],
   "source": [
    "bins= [2, 12, 22, 32, 159]\n",
    "labels = ['Tot_Acc_1', 'Tot_Acc_2', 'Tot_Acc_3', 'Tot_Acc_4']\n",
    "combine['Total_Accounts'] = pd.cut(combine['Total_Accounts'], bins=bins, labels=labels, right=False)\n",
    "combine['Total_Accounts'].value_counts()"
   ]
  },
  {
   "cell_type": "code",
   "execution_count": 29,
   "metadata": {},
   "outputs": [
    {
     "data": {
      "text/plain": [
       "Annual_Income                   0\n",
       "Debt_To_Income                  0\n",
       "Gender                          0\n",
       "Home_Owner                      0\n",
       "Income_Verified                 0\n",
       "Inquiries_Last_6Mo              0\n",
       "Interest_Rate              109541\n",
       "Length_Employed                 0\n",
       "Loan_Amount_Requested           0\n",
       "Loan_ID                         0\n",
       "Months_Since_Deliquency         0\n",
       "Number_Open_Accounts            0\n",
       "Purpose_Of_Loan                 0\n",
       "Total_Accounts                  0\n",
       "dtype: int64"
      ]
     },
     "execution_count": 29,
     "metadata": {},
     "output_type": "execute_result"
    }
   ],
   "source": [
    "combine.isnull().sum()"
   ]
  },
  {
   "cell_type": "code",
   "execution_count": 30,
   "metadata": {},
   "outputs": [
    {
     "data": {
      "text/plain": [
       "Annual_Income               float64\n",
       "Debt_To_Income              float64\n",
       "Gender                       object\n",
       "Home_Owner                   object\n",
       "Income_Verified              object\n",
       "Inquiries_Last_6Mo            int64\n",
       "Interest_Rate               float64\n",
       "Length_Employed               int32\n",
       "Loan_Amount_Requested       float64\n",
       "Loan_ID                       int64\n",
       "Months_Since_Deliquency    category\n",
       "Number_Open_Accounts       category\n",
       "Purpose_Of_Loan              object\n",
       "Total_Accounts             category\n",
       "dtype: object"
      ]
     },
     "execution_count": 30,
     "metadata": {},
     "output_type": "execute_result"
    }
   ],
   "source": [
    "combine.dtypes"
   ]
  },
  {
   "cell_type": "code",
   "execution_count": 31,
   "metadata": {},
   "outputs": [
    {
     "data": {
      "text/html": [
       "<div>\n",
       "<style scoped>\n",
       "    .dataframe tbody tr th:only-of-type {\n",
       "        vertical-align: middle;\n",
       "    }\n",
       "\n",
       "    .dataframe tbody tr th {\n",
       "        vertical-align: top;\n",
       "    }\n",
       "\n",
       "    .dataframe thead th {\n",
       "        text-align: right;\n",
       "    }\n",
       "</style>\n",
       "<table border=\"1\" class=\"dataframe\">\n",
       "  <thead>\n",
       "    <tr style=\"text-align: right;\">\n",
       "      <th></th>\n",
       "      <th>Annual_Income</th>\n",
       "      <th>Debt_To_Income</th>\n",
       "      <th>Gender</th>\n",
       "      <th>Home_Owner</th>\n",
       "      <th>Income_Verified</th>\n",
       "      <th>Inquiries_Last_6Mo</th>\n",
       "      <th>Interest_Rate</th>\n",
       "      <th>Length_Employed</th>\n",
       "      <th>Loan_Amount_Requested</th>\n",
       "      <th>Months_Since_Deliquency</th>\n",
       "      <th>Number_Open_Accounts</th>\n",
       "      <th>Purpose_Of_Loan</th>\n",
       "      <th>Total_Accounts</th>\n",
       "    </tr>\n",
       "  </thead>\n",
       "  <tbody>\n",
       "    <tr>\n",
       "      <th>0</th>\n",
       "      <td>11.127263</td>\n",
       "      <td>2.963725</td>\n",
       "      <td>Female</td>\n",
       "      <td>Rent</td>\n",
       "      <td>Not_verf</td>\n",
       "      <td>0</td>\n",
       "      <td>1.0</td>\n",
       "      <td>0</td>\n",
       "      <td>8.853665</td>\n",
       "      <td>Unknown</td>\n",
       "      <td>Acc_Tier_1</td>\n",
       "      <td>car</td>\n",
       "      <td>Tot_Acc_2</td>\n",
       "    </tr>\n",
       "    <tr>\n",
       "      <th>1</th>\n",
       "      <td>11.058225</td>\n",
       "      <td>2.768204</td>\n",
       "      <td>Female</td>\n",
       "      <td>Mortgage</td>\n",
       "      <td>Verf_inc</td>\n",
       "      <td>0</td>\n",
       "      <td>3.0</td>\n",
       "      <td>4</td>\n",
       "      <td>10.308953</td>\n",
       "      <td>Month_1</td>\n",
       "      <td>Acc_Tier_2</td>\n",
       "      <td>debt_consolidation</td>\n",
       "      <td>Tot_Acc_3</td>\n",
       "    </tr>\n",
       "    <tr>\n",
       "      <th>2</th>\n",
       "      <td>11.232767</td>\n",
       "      <td>2.826129</td>\n",
       "      <td>Male</td>\n",
       "      <td>Mortgage</td>\n",
       "      <td>Verf_inc_src</td>\n",
       "      <td>0</td>\n",
       "      <td>3.0</td>\n",
       "      <td>7</td>\n",
       "      <td>10.115570</td>\n",
       "      <td>Unknown</td>\n",
       "      <td>Acc_Tier_2</td>\n",
       "      <td>debt_consolidation</td>\n",
       "      <td>Tot_Acc_2</td>\n",
       "    </tr>\n",
       "    <tr>\n",
       "      <th>3</th>\n",
       "      <td>10.935960</td>\n",
       "      <td>2.730464</td>\n",
       "      <td>Male</td>\n",
       "      <td>Unknown</td>\n",
       "      <td>Verf_inc_src</td>\n",
       "      <td>3</td>\n",
       "      <td>3.0</td>\n",
       "      <td>0</td>\n",
       "      <td>9.680344</td>\n",
       "      <td>Unknown</td>\n",
       "      <td>Acc_Tier_2</td>\n",
       "      <td>debt_consolidation</td>\n",
       "      <td>Tot_Acc_3</td>\n",
       "    </tr>\n",
       "    <tr>\n",
       "      <th>4</th>\n",
       "      <td>11.472103</td>\n",
       "      <td>3.142858</td>\n",
       "      <td>Female</td>\n",
       "      <td>Own</td>\n",
       "      <td>Verf_inc_src</td>\n",
       "      <td>1</td>\n",
       "      <td>1.0</td>\n",
       "      <td>8</td>\n",
       "      <td>9.740969</td>\n",
       "      <td>Unknown</td>\n",
       "      <td>Acc_Tier_2</td>\n",
       "      <td>debt_consolidation</td>\n",
       "      <td>Tot_Acc_3</td>\n",
       "    </tr>\n",
       "  </tbody>\n",
       "</table>\n",
       "</div>"
      ],
      "text/plain": [
       "   Annual_Income  Debt_To_Income  Gender Home_Owner Income_Verified  \\\n",
       "0      11.127263        2.963725  Female       Rent        Not_verf   \n",
       "1      11.058225        2.768204  Female   Mortgage        Verf_inc   \n",
       "2      11.232767        2.826129    Male   Mortgage    Verf_inc_src   \n",
       "3      10.935960        2.730464    Male    Unknown    Verf_inc_src   \n",
       "4      11.472103        3.142858  Female        Own    Verf_inc_src   \n",
       "\n",
       "   Inquiries_Last_6Mo  Interest_Rate  Length_Employed  Loan_Amount_Requested  \\\n",
       "0                   0            1.0                0               8.853665   \n",
       "1                   0            3.0                4              10.308953   \n",
       "2                   0            3.0                7              10.115570   \n",
       "3                   3            3.0                0               9.680344   \n",
       "4                   1            1.0                8               9.740969   \n",
       "\n",
       "  Months_Since_Deliquency Number_Open_Accounts     Purpose_Of_Loan  \\\n",
       "0                 Unknown           Acc_Tier_1                 car   \n",
       "1                 Month_1           Acc_Tier_2  debt_consolidation   \n",
       "2                 Unknown           Acc_Tier_2  debt_consolidation   \n",
       "3                 Unknown           Acc_Tier_2  debt_consolidation   \n",
       "4                 Unknown           Acc_Tier_2  debt_consolidation   \n",
       "\n",
       "  Total_Accounts  \n",
       "0      Tot_Acc_2  \n",
       "1      Tot_Acc_3  \n",
       "2      Tot_Acc_2  \n",
       "3      Tot_Acc_3  \n",
       "4      Tot_Acc_3  "
      ]
     },
     "execution_count": 31,
     "metadata": {},
     "output_type": "execute_result"
    }
   ],
   "source": [
    "train_cleaned = combine[combine['Interest_Rate'].isnull()!=True].drop(['Loan_ID'], axis=1)\n",
    "train_cleaned.head()"
   ]
  },
  {
   "cell_type": "code",
   "execution_count": 32,
   "metadata": {
    "scrolled": false
   },
   "outputs": [
    {
     "data": {
      "image/png": "[encoded data removed]",
      "text/plain": [
       "<Figure size 288x288 with 1 Axes>"
      ]
     },
     "metadata": {
      "needs_background": "light"
     },
     "output_type": "display_data"
    },
    {
     "data": {
      "image/png": "[encoded data removed]",
      "text/plain": [
       "<Figure size 432x288 with 1 Axes>"
      ]
     },
     "metadata": {
      "needs_background": "light"
     },
     "output_type": "display_data"
    },
    {
     "data": {
      "image/png": "[encoded data removed]",
      "text/plain": [
       "<Figure size 288x288 with 1 Axes>"
      ]
     },
     "metadata": {
      "needs_background": "light"
     },
     "output_type": "display_data"
    },
    {
     "data": {
      "image/png": "[encoded data removed]",
      "text/plain": [
       "<Figure size 432x288 with 1 Axes>"
      ]
     },
     "metadata": {
      "needs_background": "light"
     },
     "output_type": "display_data"
    },
    {
     "data": {
      "image/png": "[encoded data removed]",
      "text/plain": [
       "<Figure size 432x288 with 1 Axes>"
      ]
     },
     "metadata": {
      "needs_background": "light"
     },
     "output_type": "display_data"
    },
    {
     "data": {
      "image/png": "[encoded data removed]",
      "text/plain": [
       "<Figure size 432x288 with 1 Axes>"
      ]
     },
     "metadata": {
      "needs_background": "light"
     },
     "output_type": "display_data"
    },
    {
     "data": {
      "image/png": "[encoded data removed]",
      "text/plain": [
       "<Figure size 432x288 with 1 Axes>"
      ]
     },
     "metadata": {
      "needs_background": "light"
     },
     "output_type": "display_data"
    },
    {
     "data": {
      "image/png": "[encoded data removed]",
      "text/plain": [
       "<Figure size 432x288 with 1 Axes>"
      ]
     },
     "metadata": {
      "needs_background": "light"
     },
     "output_type": "display_data"
    },
    {
     "data": {
      "image/png": "[encoded data removed]",
      "text/plain": [
       "<Figure size 432x288 with 1 Axes>"
      ]
     },
     "metadata": {
      "needs_background": "light"
     },
     "output_type": "display_data"
    }
   ],
   "source": [
    "Gender = pd.crosstab(train_cleaned['Gender'], train_cleaned['Interest_Rate'])\n",
    "Home_Owner = pd.crosstab(train_cleaned['Home_Owner'], train_cleaned['Interest_Rate'])\n",
    "Income_Verified = pd.crosstab(train_cleaned['Income_Verified'], train_cleaned['Interest_Rate'])\n",
    "Inquiries_Last_6Mo = pd.crosstab(train_cleaned['Inquiries_Last_6Mo'], train_cleaned['Interest_Rate'])\n",
    "Length_Employed = pd.crosstab(train_cleaned['Length_Employed'], train_cleaned['Interest_Rate'])\n",
    "Months_Since_Deliquency = pd.crosstab(train_cleaned['Months_Since_Deliquency'], train_cleaned['Interest_Rate'])\n",
    "Number_Open_Accounts = pd.crosstab(train_cleaned['Number_Open_Accounts'], train_cleaned['Interest_Rate'])\n",
    "Purpose_Of_Loan = pd.crosstab(train_cleaned['Purpose_Of_Loan'], train_cleaned['Interest_Rate'])\n",
    "Total_Accounts = pd.crosstab(train_cleaned['Total_Accounts'], train_cleaned['Interest_Rate'])\n",
    "\n",
    "\n",
    "Gender.div(Gender.sum(1).astype(float), axis=0).plot(kind=\"bar\", figsize=(4,4))\n",
    "Home_Owner.div(Home_Owner.sum(1).astype(float), axis=0).plot(kind=\"bar\")\n",
    "Income_Verified.div(Income_Verified.sum(1).astype(float), axis=0).plot(kind=\"bar\", figsize=(4,4))\n",
    "Inquiries_Last_6Mo.div(Inquiries_Last_6Mo.sum(1).astype(float), axis=0).plot(kind=\"bar\")\n",
    "Length_Employed.div(Length_Employed.sum(1).astype(float), axis=0).plot(kind=\"bar\")\n",
    "Months_Since_Deliquency.div(Months_Since_Deliquency.sum(1).astype(float), axis=0).plot(kind=\"bar\")\n",
    "Number_Open_Accounts.div(Number_Open_Accounts.sum(1).astype(float), axis=0).plot(kind=\"bar\")\n",
    "Purpose_Of_Loan.div(Purpose_Of_Loan.sum(1).astype(float), axis=0).plot(kind=\"bar\")\n",
    "Total_Accounts.div(Total_Accounts.sum(1).astype(float), axis=0).plot(kind=\"bar\")\n",
    "\n",
    "plt.show()"
   ]
  },
  {
   "cell_type": "code",
   "execution_count": 33,
   "metadata": {},
   "outputs": [
    {
     "data": {
      "text/plain": [
       "<matplotlib.axes._subplots.AxesSubplot at 0x1d3fb5220b8>"
      ]
     },
     "execution_count": 33,
     "metadata": {},
     "output_type": "execute_result"
    },
    {
     "data": {
      "image/png": "[encoded data removed]",
      "text/plain": [
       "<Figure size 648x432 with 2 Axes>"
      ]
     },
     "metadata": {
      "needs_background": "light"
     },
     "output_type": "display_data"
    }
   ],
   "source": [
    "matrix = train_cleaned.corr() \n",
    "f, ax = plt.subplots(figsize=(9, 6))\n",
    "sns.heatmap(matrix, vmax=.8, square=True, annot=True)"
   ]
  },
  {
   "cell_type": "code",
   "execution_count": 34,
   "metadata": {},
   "outputs": [
    {
     "data": {
      "text/plain": [
       "(273850, 43)"
      ]
     },
     "execution_count": 34,
     "metadata": {},
     "output_type": "execute_result"
    }
   ],
   "source": [
    "combine = pd.get_dummies(combine)\n",
    "combine.shape"
   ]
  },
  {
   "cell_type": "code",
   "execution_count": 35,
   "metadata": {},
   "outputs": [
    {
     "data": {
      "text/plain": [
       "((164309, 41), (164309,), (109541, 41))"
      ]
     },
     "execution_count": 35,
     "metadata": {},
     "output_type": "execute_result"
    }
   ],
   "source": [
    "X = combine[combine['Interest_Rate'].isnull()!=True].drop(['Loan_ID','Interest_Rate'], axis=1)\n",
    "y = combine[combine['Interest_Rate'].isnull()!=True]['Interest_Rate']\n",
    "\n",
    "X_test = combine[combine['Interest_Rate'].isnull()==True].drop(['Loan_ID','Interest_Rate'], axis=1)\n",
    "\n",
    "X.shape, y.shape, X_test.shape"
   ]
  },
  {
   "cell_type": "code",
   "execution_count": 36,
   "metadata": {},
   "outputs": [],
   "source": [
    "param = {\n",
    "    'bagging_freq': 5,\n",
    "    'bagging_fraction': 0.5,\n",
    "    'boost': 'gbdt',\n",
    "    'feature_fraction': 0.7,\n",
    "    'learning_rate': 0.005,\n",
    "    'num_class':4,\n",
    "    'metric':'multi_logloss',\n",
    "    'max_depth': 8,  \n",
    "    'num_leaves': 70,\n",
    "    'min_data_in_leaf':40,\n",
    "    'objective': 'multiclass',\n",
    "    'scale_pos_weight':1,\n",
    "    'verbosity': 1\n",
    "}"
   ]
  },
  {
   "cell_type": "code",
   "execution_count": 37,
   "metadata": {},
   "outputs": [
    {
     "name": "stdout",
     "output_type": "stream",
     "text": [
      "Fold 0\n",
      "Training until validation scores don't improve for 1000 rounds.\n",
      "[1000]\ttraining's multi_logloss: 0.91574\tvalid_1's multi_logloss: 0.933264\n",
      "[2000]\ttraining's multi_logloss: 0.891854\tvalid_1's multi_logloss: 0.92395\n",
      "[3000]\ttraining's multi_logloss: 0.875851\tvalid_1's multi_logloss: 0.921566\n",
      "[4000]\ttraining's multi_logloss: 0.862144\tvalid_1's multi_logloss: 0.920971\n",
      "[5000]\ttraining's multi_logloss: 0.849706\tvalid_1's multi_logloss: 0.921113\n",
      "Early stopping, best iteration is:\n",
      "[4450]\ttraining's multi_logloss: 0.856398\tvalid_1's multi_logloss: 0.920905\n",
      "CV score: 0.55479 \n",
      "[[1852 1243  371]\n",
      " [4059 9040 4610]\n",
      " [ 851 3833 7004]]\n",
      "Fold 1\n",
      "Training until validation scores don't improve for 1000 rounds.\n",
      "[1000]\ttraining's multi_logloss: 0.915441\tvalid_1's multi_logloss: 0.933128\n",
      "[2000]\ttraining's multi_logloss: 0.891976\tvalid_1's multi_logloss: 0.923753\n",
      "[3000]\ttraining's multi_logloss: 0.87602\tvalid_1's multi_logloss: 0.921129\n",
      "[4000]\ttraining's multi_logloss: 0.86244\tvalid_1's multi_logloss: 0.92044\n",
      "[5000]\ttraining's multi_logloss: 0.850161\tvalid_1's multi_logloss: 0.920384\n",
      "Early stopping, best iteration is:\n",
      "[4618]\ttraining's multi_logloss: 0.854744\tvalid_1's multi_logloss: 0.920346\n",
      "CV score: 0.55183 \n",
      "[[1861 1294  337]\n",
      " [4051 9023 4724]\n",
      " [ 849 3799 6924]]\n",
      "Fold 2\n",
      "Training until validation scores don't improve for 1000 rounds.\n",
      "[1000]\ttraining's multi_logloss: 0.916077\tvalid_1's multi_logloss: 0.931474\n",
      "[2000]\ttraining's multi_logloss: 0.892558\tvalid_1's multi_logloss: 0.921932\n",
      "[3000]\ttraining's multi_logloss: 0.876723\tvalid_1's multi_logloss: 0.919243\n",
      "[4000]\ttraining's multi_logloss: 0.863165\tvalid_1's multi_logloss: 0.918419\n",
      "[5000]\ttraining's multi_logloss: 0.851019\tvalid_1's multi_logloss: 0.918304\n",
      "Early stopping, best iteration is:\n",
      "[4670]\ttraining's multi_logloss: 0.854977\tvalid_1's multi_logloss: 0.918233\n",
      "CV score: 0.55619 \n",
      "[[1816 1273  335]\n",
      " [4056 9155 4698]\n",
      " [ 889 3688 6952]]\n",
      "Fold 3\n",
      "Training until validation scores don't improve for 1000 rounds.\n",
      "[1000]\ttraining's multi_logloss: 0.915926\tvalid_1's multi_logloss: 0.931953\n",
      "[2000]\ttraining's multi_logloss: 0.892247\tvalid_1's multi_logloss: 0.922595\n",
      "[3000]\ttraining's multi_logloss: 0.876503\tvalid_1's multi_logloss: 0.920227\n",
      "[4000]\ttraining's multi_logloss: 0.862874\tvalid_1's multi_logloss: 0.919341\n",
      "[5000]\ttraining's multi_logloss: 0.850557\tvalid_1's multi_logloss: 0.919392\n",
      "Early stopping, best iteration is:\n",
      "[4156]\ttraining's multi_logloss: 0.860809\tvalid_1's multi_logloss: 0.919264\n",
      "CV score: 0.55511 \n",
      "[[1801 1285  315]\n",
      " [4111 9021 4602]\n",
      " [ 849 3810 7067]]\n",
      "Fold 4\n",
      "Training until validation scores don't improve for 1000 rounds.\n",
      "[1000]\ttraining's multi_logloss: 0.91511\tvalid_1's multi_logloss: 0.934496\n",
      "[2000]\ttraining's multi_logloss: 0.89148\tvalid_1's multi_logloss: 0.925585\n",
      "[3000]\ttraining's multi_logloss: 0.875435\tvalid_1's multi_logloss: 0.923233\n",
      "[4000]\ttraining's multi_logloss: 0.861788\tvalid_1's multi_logloss: 0.922464\n",
      "[5000]\ttraining's multi_logloss: 0.849455\tvalid_1's multi_logloss: 0.922524\n",
      "Early stopping, best iteration is:\n",
      "[4484]\ttraining's multi_logloss: 0.855707\tvalid_1's multi_logloss: 0.922385\n",
      "CV score: 0.54790 \n",
      "[[1815 1289  335]\n",
      " [4070 8907 4703]\n",
      " [ 876 3920 6946]]\n"
     ]
    }
   ],
   "source": [
    "import lightgbm as lgb\n",
    "from sklearn.model_selection import StratifiedKFold\n",
    "from sklearn.metrics import confusion_matrix, f1_score\n",
    "\n",
    "features = X.columns\n",
    "\n",
    "folds = StratifiedKFold(n_splits=5, shuffle=True, random_state=1048)\n",
    "\n",
    "pred_test = np.zeros((len(X_test), 4))\n",
    "\n",
    "feature_importance_df = pd.DataFrame()\n",
    "\n",
    "for fold_, (trn_idx, val_idx) in enumerate(folds.split(X.values, y.values)):\n",
    "    print(\"Fold {}\".format(fold_))\n",
    "    train_data = lgb.Dataset(X.iloc[trn_idx], label=y.iloc[trn_idx])\n",
    "    val_data = lgb.Dataset(X.iloc[val_idx], label=y.iloc[val_idx])\n",
    "\n",
    "    num_round = 1000000\n",
    "    classifier = lgb.train(param, train_data, num_round, valid_sets = [train_data, val_data], \n",
    "                    verbose_eval=1000, early_stopping_rounds = 1000)\n",
    "    pred_y = np.argmax(classifier.predict(X.iloc[val_idx], num_iteration=classifier.best_iteration), axis=1)\n",
    "    \n",
    "    print(\"CV score: \", f1_score(pred_y, y.iloc[val_idx], average='weighted'))\n",
    "    print(confusion_matrix(pred_y, y.iloc[val_idx]))\n",
    "    \n",
    "    fold_importance_df = pd.DataFrame()\n",
    "    fold_importance_df[\"Feature\"] = features\n",
    "    fold_importance_df[\"importance\"] = classifier.feature_importance()\n",
    "    fold_importance_df[\"fold\"] = fold_ + 1\n",
    "    feature_importance_df = pd.concat([feature_importance_df, fold_importance_df], axis=0)\n",
    "    \n",
    "    pred_test += classifier.predict(X_test, num_iteration=classifier.best_iteration) / folds.n_splits"
   ]
  },
  {
   "cell_type": "code",
   "execution_count": 38,
   "metadata": {},
   "outputs": [
    {
     "data": {
      "text/html": [
       "<div>\n",
       "<style scoped>\n",
       "    .dataframe tbody tr th:only-of-type {\n",
       "        vertical-align: middle;\n",
       "    }\n",
       "\n",
       "    .dataframe tbody tr th {\n",
       "        vertical-align: top;\n",
       "    }\n",
       "\n",
       "    .dataframe thead th {\n",
       "        text-align: right;\n",
       "    }\n",
       "</style>\n",
       "<table border=\"1\" class=\"dataframe\">\n",
       "  <thead>\n",
       "    <tr style=\"text-align: right;\">\n",
       "      <th></th>\n",
       "      <th>Feature</th>\n",
       "      <th>importance</th>\n",
       "    </tr>\n",
       "  </thead>\n",
       "  <tbody>\n",
       "    <tr>\n",
       "      <th>0</th>\n",
       "      <td>Debt_To_Income</td>\n",
       "      <td>168524.6</td>\n",
       "    </tr>\n",
       "    <tr>\n",
       "      <th>1</th>\n",
       "      <td>Loan_Amount_Requested</td>\n",
       "      <td>163737.0</td>\n",
       "    </tr>\n",
       "    <tr>\n",
       "      <th>2</th>\n",
       "      <td>Annual_Income</td>\n",
       "      <td>153713.2</td>\n",
       "    </tr>\n",
       "    <tr>\n",
       "      <th>3</th>\n",
       "      <td>Length_Employed</td>\n",
       "      <td>66015.6</td>\n",
       "    </tr>\n",
       "    <tr>\n",
       "      <th>4</th>\n",
       "      <td>Inquiries_Last_6Mo</td>\n",
       "      <td>39346.0</td>\n",
       "    </tr>\n",
       "    <tr>\n",
       "      <th>5</th>\n",
       "      <td>Months_Since_Deliquency_Unknown</td>\n",
       "      <td>20016.2</td>\n",
       "    </tr>\n",
       "    <tr>\n",
       "      <th>6</th>\n",
       "      <td>Income_Verified_Verf_inc</td>\n",
       "      <td>15962.2</td>\n",
       "    </tr>\n",
       "    <tr>\n",
       "      <th>7</th>\n",
       "      <td>Home_Owner_Rent</td>\n",
       "      <td>15870.2</td>\n",
       "    </tr>\n",
       "    <tr>\n",
       "      <th>8</th>\n",
       "      <td>Home_Owner_Mortgage</td>\n",
       "      <td>15449.8</td>\n",
       "    </tr>\n",
       "    <tr>\n",
       "      <th>9</th>\n",
       "      <td>Purpose_Of_Loan_debt_consolidation</td>\n",
       "      <td>14613.2</td>\n",
       "    </tr>\n",
       "    <tr>\n",
       "      <th>10</th>\n",
       "      <td>Income_Verified_Not_verf</td>\n",
       "      <td>14421.4</td>\n",
       "    </tr>\n",
       "    <tr>\n",
       "      <th>11</th>\n",
       "      <td>Total_Accounts_Tot_Acc_2</td>\n",
       "      <td>14406.8</td>\n",
       "    </tr>\n",
       "    <tr>\n",
       "      <th>12</th>\n",
       "      <td>Purpose_Of_Loan_credit_card</td>\n",
       "      <td>14241.2</td>\n",
       "    </tr>\n",
       "    <tr>\n",
       "      <th>13</th>\n",
       "      <td>Total_Accounts_Tot_Acc_4</td>\n",
       "      <td>13300.0</td>\n",
       "    </tr>\n",
       "    <tr>\n",
       "      <th>14</th>\n",
       "      <td>Gender_Female</td>\n",
       "      <td>13197.6</td>\n",
       "    </tr>\n",
       "    <tr>\n",
       "      <th>15</th>\n",
       "      <td>Months_Since_Deliquency_Month_1</td>\n",
       "      <td>12705.0</td>\n",
       "    </tr>\n",
       "    <tr>\n",
       "      <th>16</th>\n",
       "      <td>Income_Verified_Verf_inc_src</td>\n",
       "      <td>12356.4</td>\n",
       "    </tr>\n",
       "    <tr>\n",
       "      <th>17</th>\n",
       "      <td>Number_Open_Accounts_Acc_Tier_1</td>\n",
       "      <td>12241.4</td>\n",
       "    </tr>\n",
       "    <tr>\n",
       "      <th>18</th>\n",
       "      <td>Total_Accounts_Tot_Acc_3</td>\n",
       "      <td>12089.2</td>\n",
       "    </tr>\n",
       "    <tr>\n",
       "      <th>19</th>\n",
       "      <td>Number_Open_Accounts_Acc_Tier_2</td>\n",
       "      <td>11479.4</td>\n",
       "    </tr>\n",
       "    <tr>\n",
       "      <th>20</th>\n",
       "      <td>Total_Accounts_Tot_Acc_1</td>\n",
       "      <td>11126.2</td>\n",
       "    </tr>\n",
       "    <tr>\n",
       "      <th>21</th>\n",
       "      <td>Purpose_Of_Loan_other</td>\n",
       "      <td>9741.0</td>\n",
       "    </tr>\n",
       "    <tr>\n",
       "      <th>22</th>\n",
       "      <td>Months_Since_Deliquency_Month_2</td>\n",
       "      <td>8504.8</td>\n",
       "    </tr>\n",
       "    <tr>\n",
       "      <th>23</th>\n",
       "      <td>Home_Owner_Unknown</td>\n",
       "      <td>8135.8</td>\n",
       "    </tr>\n",
       "    <tr>\n",
       "      <th>24</th>\n",
       "      <td>Home_Owner_Own</td>\n",
       "      <td>6589.0</td>\n",
       "    </tr>\n",
       "    <tr>\n",
       "      <th>25</th>\n",
       "      <td>Number_Open_Accounts_Acc_Tier_3</td>\n",
       "      <td>6125.0</td>\n",
       "    </tr>\n",
       "    <tr>\n",
       "      <th>26</th>\n",
       "      <td>Months_Since_Deliquency_Month_3Plus</td>\n",
       "      <td>5670.4</td>\n",
       "    </tr>\n",
       "    <tr>\n",
       "      <th>27</th>\n",
       "      <td>Purpose_Of_Loan_home_improvement</td>\n",
       "      <td>5662.2</td>\n",
       "    </tr>\n",
       "    <tr>\n",
       "      <th>28</th>\n",
       "      <td>Purpose_Of_Loan_small_business</td>\n",
       "      <td>5199.4</td>\n",
       "    </tr>\n",
       "    <tr>\n",
       "      <th>29</th>\n",
       "      <td>Purpose_Of_Loan_major_purchase</td>\n",
       "      <td>4899.6</td>\n",
       "    </tr>\n",
       "    <tr>\n",
       "      <th>30</th>\n",
       "      <td>Gender_Male</td>\n",
       "      <td>4191.2</td>\n",
       "    </tr>\n",
       "    <tr>\n",
       "      <th>31</th>\n",
       "      <td>Purpose_Of_Loan_car</td>\n",
       "      <td>3843.4</td>\n",
       "    </tr>\n",
       "    <tr>\n",
       "      <th>32</th>\n",
       "      <td>Purpose_Of_Loan_medical</td>\n",
       "      <td>3760.6</td>\n",
       "    </tr>\n",
       "    <tr>\n",
       "      <th>33</th>\n",
       "      <td>Purpose_Of_Loan_moving</td>\n",
       "      <td>3275.0</td>\n",
       "    </tr>\n",
       "    <tr>\n",
       "      <th>34</th>\n",
       "      <td>Purpose_Of_Loan_vacation</td>\n",
       "      <td>2542.2</td>\n",
       "    </tr>\n",
       "    <tr>\n",
       "      <th>35</th>\n",
       "      <td>Purpose_Of_Loan_wedding</td>\n",
       "      <td>2428.8</td>\n",
       "    </tr>\n",
       "    <tr>\n",
       "      <th>36</th>\n",
       "      <td>Purpose_Of_Loan_house</td>\n",
       "      <td>1843.6</td>\n",
       "    </tr>\n",
       "    <tr>\n",
       "      <th>37</th>\n",
       "      <td>Purpose_Of_Loan_educational</td>\n",
       "      <td>1073.2</td>\n",
       "    </tr>\n",
       "    <tr>\n",
       "      <th>38</th>\n",
       "      <td>Purpose_Of_Loan_renewable_energy</td>\n",
       "      <td>432.6</td>\n",
       "    </tr>\n",
       "    <tr>\n",
       "      <th>39</th>\n",
       "      <td>Home_Owner_None</td>\n",
       "      <td>0.0</td>\n",
       "    </tr>\n",
       "    <tr>\n",
       "      <th>40</th>\n",
       "      <td>Home_Owner_Other</td>\n",
       "      <td>0.0</td>\n",
       "    </tr>\n",
       "  </tbody>\n",
       "</table>\n",
       "</div>"
      ],
      "text/plain": [
       "                                Feature  importance\n",
       "0                        Debt_To_Income    168524.6\n",
       "1                 Loan_Amount_Requested    163737.0\n",
       "2                         Annual_Income    153713.2\n",
       "3                       Length_Employed     66015.6\n",
       "4                    Inquiries_Last_6Mo     39346.0\n",
       "5       Months_Since_Deliquency_Unknown     20016.2\n",
       "6              Income_Verified_Verf_inc     15962.2\n",
       "7                       Home_Owner_Rent     15870.2\n",
       "8                   Home_Owner_Mortgage     15449.8\n",
       "9    Purpose_Of_Loan_debt_consolidation     14613.2\n",
       "10             Income_Verified_Not_verf     14421.4\n",
       "11             Total_Accounts_Tot_Acc_2     14406.8\n",
       "12          Purpose_Of_Loan_credit_card     14241.2\n",
       "13             Total_Accounts_Tot_Acc_4     13300.0\n",
       "14                        Gender_Female     13197.6\n",
       "15      Months_Since_Deliquency_Month_1     12705.0\n",
       "16         Income_Verified_Verf_inc_src     12356.4\n",
       "17      Number_Open_Accounts_Acc_Tier_1     12241.4\n",
       "18             Total_Accounts_Tot_Acc_3     12089.2\n",
       "19      Number_Open_Accounts_Acc_Tier_2     11479.4\n",
       "20             Total_Accounts_Tot_Acc_1     11126.2\n",
       "21                Purpose_Of_Loan_other      9741.0\n",
       "22      Months_Since_Deliquency_Month_2      8504.8\n",
       "23                   Home_Owner_Unknown      8135.8\n",
       "24                       Home_Owner_Own      6589.0\n",
       "25      Number_Open_Accounts_Acc_Tier_3      6125.0\n",
       "26  Months_Since_Deliquency_Month_3Plus      5670.4\n",
       "27     Purpose_Of_Loan_home_improvement      5662.2\n",
       "28       Purpose_Of_Loan_small_business      5199.4\n",
       "29       Purpose_Of_Loan_major_purchase      4899.6\n",
       "30                          Gender_Male      4191.2\n",
       "31                  Purpose_Of_Loan_car      3843.4\n",
       "32              Purpose_Of_Loan_medical      3760.6\n",
       "33               Purpose_Of_Loan_moving      3275.0\n",
       "34             Purpose_Of_Loan_vacation      2542.2\n",
       "35              Purpose_Of_Loan_wedding      2428.8\n",
       "36                Purpose_Of_Loan_house      1843.6\n",
       "37          Purpose_Of_Loan_educational      1073.2\n",
       "38     Purpose_Of_Loan_renewable_energy       432.6\n",
       "39                      Home_Owner_None         0.0\n",
       "40                     Home_Owner_Other         0.0"
      ]
     },
     "execution_count": 38,
     "metadata": {},
     "output_type": "execute_result"
    }
   ],
   "source": [
    "all_feat = feature_importance_df[[\"Feature\",\n",
    "                                  \"importance\"]].groupby(\"Feature\").mean().sort_values(by=\"importance\", \n",
    "                                                                                           ascending=False)\n",
    "all_feat.reset_index(inplace=True)\n",
    "important_feat = list(all_feat['Feature'])\n",
    "all_feat"
   ]
  },
  {
   "cell_type": "code",
   "execution_count": 39,
   "metadata": {},
   "outputs": [
    {
     "name": "stdout",
     "output_type": "stream",
     "text": [
      "1\n",
      "['Gender_Male']\n"
     ]
    }
   ],
   "source": [
    "df = X[important_feat]\n",
    "corr_matrix = df.corr().abs()\n",
    "\n",
    "upper = corr_matrix.where(np.triu(np.ones(corr_matrix.shape), k=1).astype(np.bool))\n",
    "\n",
    "high_cor = [column for column in upper.columns if any(upper[column] > 0.98)]\n",
    "print(len(high_cor))\n",
    "print(high_cor)"
   ]
  },
  {
   "cell_type": "code",
   "execution_count": 40,
   "metadata": {},
   "outputs": [
    {
     "name": "stdout",
     "output_type": "stream",
     "text": [
      "40\n",
      "['Debt_To_Income', 'Loan_Amount_Requested', 'Annual_Income', 'Length_Employed', 'Inquiries_Last_6Mo', 'Months_Since_Deliquency_Unknown', 'Income_Verified_Verf_inc', 'Home_Owner_Rent', 'Home_Owner_Mortgage', 'Purpose_Of_Loan_debt_consolidation', 'Income_Verified_Not_verf', 'Total_Accounts_Tot_Acc_2', 'Purpose_Of_Loan_credit_card', 'Total_Accounts_Tot_Acc_4', 'Gender_Female', 'Months_Since_Deliquency_Month_1', 'Income_Verified_Verf_inc_src', 'Number_Open_Accounts_Acc_Tier_1', 'Total_Accounts_Tot_Acc_3', 'Number_Open_Accounts_Acc_Tier_2', 'Total_Accounts_Tot_Acc_1', 'Purpose_Of_Loan_other', 'Months_Since_Deliquency_Month_2', 'Home_Owner_Unknown', 'Home_Owner_Own', 'Number_Open_Accounts_Acc_Tier_3', 'Months_Since_Deliquency_Month_3Plus', 'Purpose_Of_Loan_home_improvement', 'Purpose_Of_Loan_small_business', 'Purpose_Of_Loan_major_purchase', 'Purpose_Of_Loan_car', 'Purpose_Of_Loan_medical', 'Purpose_Of_Loan_moving', 'Purpose_Of_Loan_vacation', 'Purpose_Of_Loan_wedding', 'Purpose_Of_Loan_house', 'Purpose_Of_Loan_educational', 'Purpose_Of_Loan_renewable_energy', 'Home_Owner_None', 'Home_Owner_Other']\n"
     ]
    }
   ],
   "source": [
    "features = [i for i in important_feat if i not in high_cor]\n",
    "print(len(features))\n",
    "print(features)"
   ]
  },
  {
   "cell_type": "code",
   "execution_count": 41,
   "metadata": {},
   "outputs": [],
   "source": [
    "p_test = np.argmax(pred_test, axis=1)"
   ]
  },
  {
   "cell_type": "code",
   "execution_count": 42,
   "metadata": {},
   "outputs": [
    {
     "data": {
      "text/html": [
       "<div>\n",
       "<style scoped>\n",
       "    .dataframe tbody tr th:only-of-type {\n",
       "        vertical-align: middle;\n",
       "    }\n",
       "\n",
       "    .dataframe tbody tr th {\n",
       "        vertical-align: top;\n",
       "    }\n",
       "\n",
       "    .dataframe thead th {\n",
       "        text-align: right;\n",
       "    }\n",
       "</style>\n",
       "<table border=\"1\" class=\"dataframe\">\n",
       "  <thead>\n",
       "    <tr style=\"text-align: right;\">\n",
       "      <th></th>\n",
       "      <th>Loan_ID</th>\n",
       "      <th>Interest_Rate</th>\n",
       "    </tr>\n",
       "  </thead>\n",
       "  <tbody>\n",
       "    <tr>\n",
       "      <th>0</th>\n",
       "      <td>10164310</td>\n",
       "      <td>2</td>\n",
       "    </tr>\n",
       "    <tr>\n",
       "      <th>1</th>\n",
       "      <td>10164311</td>\n",
       "      <td>2</td>\n",
       "    </tr>\n",
       "    <tr>\n",
       "      <th>2</th>\n",
       "      <td>10164312</td>\n",
       "      <td>3</td>\n",
       "    </tr>\n",
       "    <tr>\n",
       "      <th>3</th>\n",
       "      <td>10164313</td>\n",
       "      <td>2</td>\n",
       "    </tr>\n",
       "    <tr>\n",
       "      <th>4</th>\n",
       "      <td>10164314</td>\n",
       "      <td>2</td>\n",
       "    </tr>\n",
       "  </tbody>\n",
       "</table>\n",
       "</div>"
      ],
      "text/plain": [
       "    Loan_ID  Interest_Rate\n",
       "0  10164310              2\n",
       "1  10164311              2\n",
       "2  10164312              3\n",
       "3  10164313              2\n",
       "4  10164314              2"
      ]
     },
     "execution_count": 42,
     "metadata": {},
     "output_type": "execute_result"
    }
   ],
   "source": [
    "submission = pd.DataFrame()\n",
    "submission['Loan_ID'] = test['Loan_ID']\n",
    "submission['Interest_Rate'] = p_test.astype('int')\n",
    "submission.head()"
   ]
  },
  {
   "cell_type": "code",
   "execution_count": 43,
   "metadata": {},
   "outputs": [
    {
     "data": {
      "text/plain": [
       "2    59095\n",
       "3    39183\n",
       "1    11263\n",
       "Name: Interest_Rate, dtype: int64"
      ]
     },
     "execution_count": 43,
     "metadata": {},
     "output_type": "execute_result"
    }
   ],
   "source": [
    "submission.to_csv('submission.csv', index=False)\n",
    "submission['Interest_Rate'].value_counts()"
   ]
  }
 ],
 "metadata": {
  "kernelspec": {
   "display_name": "Python 3",
   "language": "python",
   "name": "python3"
  },
  "language_info": {
   "codemirror_mode": {
    "name": "ipython",
    "version": 3
   },
   "file_extension": ".py",
   "mimetype": "text/x-python",
   "name": "python",
   "nbconvert_exporter": "python",
   "pygments_lexer": "ipython3",
   "version": "3.7.3"
  }
 },
 "nbformat": 4,
 "nbformat_minor": 2
}
