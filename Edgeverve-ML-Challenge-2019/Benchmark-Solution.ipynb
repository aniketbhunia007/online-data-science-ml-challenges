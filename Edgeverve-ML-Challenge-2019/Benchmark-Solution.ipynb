{
 "cells": [
  {
   "cell_type": "markdown",
   "metadata": {},
   "source": [
    "# Importing required packages"
   ]
  },
  {
   "cell_type": "code",
   "execution_count": 1,
   "metadata": {},
   "outputs": [],
   "source": [
    "import pandas as pd\n",
    "import numpy as np\n",
    "import matplotlib.pyplot as plt\n",
    "%matplotlib inline"
   ]
  },
  {
   "cell_type": "code",
   "execution_count": 2,
   "metadata": {},
   "outputs": [],
   "source": [
    "from sklearn.tree import DecisionTreeClassifier\n",
    "from sklearn.feature_extraction import FeatureHasher\n",
    "from sklearn.ensemble import RandomForestClassifier\n",
    "from sklearn.linear_model import LogisticRegression\n",
    "from sklearn.metrics import accuracy_score\n",
    "import copy"
   ]
  },
  {
   "cell_type": "markdown",
   "metadata": {},
   "source": [
    "# Reading the data"
   ]
  },
  {
   "cell_type": "code",
   "execution_count": 3,
   "metadata": {},
   "outputs": [],
   "source": [
    "test = pd.read_csv('Test.csv')\n",
    "train = pd.read_csv('Train.csv')\n",
    "sample = pd.read_csv('sample.csv')"
   ]
  },
  {
   "cell_type": "code",
   "execution_count": 4,
   "metadata": {},
   "outputs": [
    {
     "data": {
      "text/html": [
       "<div>\n",
       "<style scoped>\n",
       "    .dataframe tbody tr th:only-of-type {\n",
       "        vertical-align: middle;\n",
       "    }\n",
       "\n",
       "    .dataframe tbody tr th {\n",
       "        vertical-align: top;\n",
       "    }\n",
       "\n",
       "    .dataframe thead th {\n",
       "        text-align: right;\n",
       "    }\n",
       "</style>\n",
       "<table border=\"1\" class=\"dataframe\">\n",
       "  <thead>\n",
       "    <tr style=\"text-align: right;\">\n",
       "      <th></th>\n",
       "      <th>Inv_Id</th>\n",
       "      <th>Vendor_Code</th>\n",
       "      <th>GL_Code</th>\n",
       "      <th>Inv_Amt</th>\n",
       "      <th>Item_Description</th>\n",
       "      <th>Product_Category</th>\n",
       "    </tr>\n",
       "  </thead>\n",
       "  <tbody>\n",
       "    <tr>\n",
       "      <th>0</th>\n",
       "      <td>15001</td>\n",
       "      <td>VENDOR-1676</td>\n",
       "      <td>GL-6100410</td>\n",
       "      <td>83.24</td>\n",
       "      <td>Artworking/Typesetting Production Jun 2009 Cha...</td>\n",
       "      <td>CLASS-1963</td>\n",
       "    </tr>\n",
       "    <tr>\n",
       "      <th>1</th>\n",
       "      <td>15002</td>\n",
       "      <td>VENDOR-1883</td>\n",
       "      <td>GL-2182000</td>\n",
       "      <td>51.18</td>\n",
       "      <td>Auto Leasing Corporate Services Corning Inc /N...</td>\n",
       "      <td>CLASS-1250</td>\n",
       "    </tr>\n",
       "    <tr>\n",
       "      <th>2</th>\n",
       "      <td>15004</td>\n",
       "      <td>VENDOR-1999</td>\n",
       "      <td>GL-6050100</td>\n",
       "      <td>79.02</td>\n",
       "      <td>Store Management Lease/Rent Deltona Corp Real ...</td>\n",
       "      <td>CLASS-1274</td>\n",
       "    </tr>\n",
       "    <tr>\n",
       "      <th>3</th>\n",
       "      <td>15005</td>\n",
       "      <td>VENDOR-1771</td>\n",
       "      <td>GL-6101400</td>\n",
       "      <td>48.50</td>\n",
       "      <td>Store Construction General Requirements Coloni...</td>\n",
       "      <td>CLASS-1522</td>\n",
       "    </tr>\n",
       "    <tr>\n",
       "      <th>4</th>\n",
       "      <td>15006</td>\n",
       "      <td>VENDOR-1331</td>\n",
       "      <td>GL-2182000</td>\n",
       "      <td>63.35</td>\n",
       "      <td>Jul 2015 Aydin Corp Contingent Labor/Temp Labo...</td>\n",
       "      <td>CLASS-1376</td>\n",
       "    </tr>\n",
       "  </tbody>\n",
       "</table>\n",
       "</div>"
      ],
      "text/plain": [
       "   Inv_Id  Vendor_Code     GL_Code  Inv_Amt  \\\n",
       "0   15001  VENDOR-1676  GL-6100410    83.24   \n",
       "1   15002  VENDOR-1883  GL-2182000    51.18   \n",
       "2   15004  VENDOR-1999  GL-6050100    79.02   \n",
       "3   15005  VENDOR-1771  GL-6101400    48.50   \n",
       "4   15006  VENDOR-1331  GL-2182000    63.35   \n",
       "\n",
       "                                    Item_Description Product_Category  \n",
       "0  Artworking/Typesetting Production Jun 2009 Cha...       CLASS-1963  \n",
       "1  Auto Leasing Corporate Services Corning Inc /N...       CLASS-1250  \n",
       "2  Store Management Lease/Rent Deltona Corp Real ...       CLASS-1274  \n",
       "3  Store Construction General Requirements Coloni...       CLASS-1522  \n",
       "4  Jul 2015 Aydin Corp Contingent Labor/Temp Labo...       CLASS-1376  "
      ]
     },
     "execution_count": 4,
     "metadata": {},
     "output_type": "execute_result"
    }
   ],
   "source": [
    "train.head()"
   ]
  },
  {
   "cell_type": "code",
   "execution_count": 5,
   "metadata": {},
   "outputs": [
    {
     "data": {
      "text/html": [
       "<div>\n",
       "<style scoped>\n",
       "    .dataframe tbody tr th:only-of-type {\n",
       "        vertical-align: middle;\n",
       "    }\n",
       "\n",
       "    .dataframe tbody tr th {\n",
       "        vertical-align: top;\n",
       "    }\n",
       "\n",
       "    .dataframe thead th {\n",
       "        text-align: right;\n",
       "    }\n",
       "</style>\n",
       "<table border=\"1\" class=\"dataframe\">\n",
       "  <thead>\n",
       "    <tr style=\"text-align: right;\">\n",
       "      <th></th>\n",
       "      <th>Inv_Id</th>\n",
       "      <th>Vendor_Code</th>\n",
       "      <th>GL_Code</th>\n",
       "      <th>Inv_Amt</th>\n",
       "      <th>Item_Description</th>\n",
       "    </tr>\n",
       "  </thead>\n",
       "  <tbody>\n",
       "    <tr>\n",
       "      <th>0</th>\n",
       "      <td>15003</td>\n",
       "      <td>VENDOR-2513</td>\n",
       "      <td>GL-6050310</td>\n",
       "      <td>56.13</td>\n",
       "      <td>Travel and Entertainment Miscellaneous Company...</td>\n",
       "    </tr>\n",
       "    <tr>\n",
       "      <th>1</th>\n",
       "      <td>15008</td>\n",
       "      <td>VENDOR-1044</td>\n",
       "      <td>GL-6101400</td>\n",
       "      <td>96.56</td>\n",
       "      <td>Final Site Clean Up Store Construction Advance...</td>\n",
       "    </tr>\n",
       "    <tr>\n",
       "      <th>2</th>\n",
       "      <td>15013</td>\n",
       "      <td>VENDOR-1254</td>\n",
       "      <td>GL-6101400</td>\n",
       "      <td>55.93</td>\n",
       "      <td>Arabian American Development Co Final Site Cle...</td>\n",
       "    </tr>\n",
       "    <tr>\n",
       "      <th>3</th>\n",
       "      <td>15019</td>\n",
       "      <td>VENDOR-1331</td>\n",
       "      <td>GL-2182000</td>\n",
       "      <td>32.62</td>\n",
       "      <td>Corporate Services Contingent Labor/Temp Labor...</td>\n",
       "    </tr>\n",
       "    <tr>\n",
       "      <th>4</th>\n",
       "      <td>15020</td>\n",
       "      <td>VENDOR-2513</td>\n",
       "      <td>GL-6050310</td>\n",
       "      <td>25.81</td>\n",
       "      <td>Fortune National Corp Miscellaneous Company Ca...</td>\n",
       "    </tr>\n",
       "  </tbody>\n",
       "</table>\n",
       "</div>"
      ],
      "text/plain": [
       "   Inv_Id  Vendor_Code     GL_Code  Inv_Amt  \\\n",
       "0   15003  VENDOR-2513  GL-6050310    56.13   \n",
       "1   15008  VENDOR-1044  GL-6101400    96.56   \n",
       "2   15013  VENDOR-1254  GL-6101400    55.93   \n",
       "3   15019  VENDOR-1331  GL-2182000    32.62   \n",
       "4   15020  VENDOR-2513  GL-6050310    25.81   \n",
       "\n",
       "                                    Item_Description  \n",
       "0  Travel and Entertainment Miscellaneous Company...  \n",
       "1  Final Site Clean Up Store Construction Advance...  \n",
       "2  Arabian American Development Co Final Site Cle...  \n",
       "3  Corporate Services Contingent Labor/Temp Labor...  \n",
       "4  Fortune National Corp Miscellaneous Company Ca...  "
      ]
     },
     "execution_count": 5,
     "metadata": {},
     "output_type": "execute_result"
    }
   ],
   "source": [
    "test.head()"
   ]
  },
  {
   "cell_type": "markdown",
   "metadata": {},
   "source": [
    "# Variable Identification"
   ]
  },
  {
   "cell_type": "code",
   "execution_count": 6,
   "metadata": {},
   "outputs": [
    {
     "data": {
      "text/plain": [
       "Inv_Id                int64\n",
       "Vendor_Code          object\n",
       "GL_Code              object\n",
       "Inv_Amt             float64\n",
       "Item_Description     object\n",
       "Product_Category     object\n",
       "dtype: object"
      ]
     },
     "execution_count": 6,
     "metadata": {},
     "output_type": "execute_result"
    }
   ],
   "source": [
    "train.dtypes"
   ]
  },
  {
   "cell_type": "code",
   "execution_count": 7,
   "metadata": {},
   "outputs": [
    {
     "data": {
      "text/plain": [
       "Inv_Id                int64\n",
       "Vendor_Code          object\n",
       "GL_Code              object\n",
       "Inv_Amt             float64\n",
       "Item_Description     object\n",
       "dtype: object"
      ]
     },
     "execution_count": 7,
     "metadata": {},
     "output_type": "execute_result"
    }
   ],
   "source": [
    "test.dtypes"
   ]
  },
  {
   "cell_type": "code",
   "execution_count": 8,
   "metadata": {},
   "outputs": [
    {
     "data": {
      "text/plain": [
       "((5566, 6), (2446, 5))"
      ]
     },
     "execution_count": 8,
     "metadata": {},
     "output_type": "execute_result"
    }
   ],
   "source": [
    "train.shape, test.shape"
   ]
  },
  {
   "cell_type": "markdown",
   "metadata": {},
   "source": [
    "# Continuous Variable"
   ]
  },
  {
   "cell_type": "code",
   "execution_count": 9,
   "metadata": {},
   "outputs": [
    {
     "data": {
      "text/html": [
       "<div>\n",
       "<style scoped>\n",
       "    .dataframe tbody tr th:only-of-type {\n",
       "        vertical-align: middle;\n",
       "    }\n",
       "\n",
       "    .dataframe tbody tr th {\n",
       "        vertical-align: top;\n",
       "    }\n",
       "\n",
       "    .dataframe thead th {\n",
       "        text-align: right;\n",
       "    }\n",
       "</style>\n",
       "<table border=\"1\" class=\"dataframe\">\n",
       "  <thead>\n",
       "    <tr style=\"text-align: right;\">\n",
       "      <th></th>\n",
       "      <th>Inv_Id</th>\n",
       "      <th>Inv_Amt</th>\n",
       "    </tr>\n",
       "  </thead>\n",
       "  <tbody>\n",
       "    <tr>\n",
       "      <th>count</th>\n",
       "      <td>2446.000000</td>\n",
       "      <td>2446.000000</td>\n",
       "    </tr>\n",
       "    <tr>\n",
       "      <th>mean</th>\n",
       "      <td>18996.744481</td>\n",
       "      <td>49.449321</td>\n",
       "    </tr>\n",
       "    <tr>\n",
       "      <th>std</th>\n",
       "      <td>2327.955920</td>\n",
       "      <td>28.593046</td>\n",
       "    </tr>\n",
       "    <tr>\n",
       "      <th>min</th>\n",
       "      <td>15003.000000</td>\n",
       "      <td>0.040000</td>\n",
       "    </tr>\n",
       "    <tr>\n",
       "      <th>25%</th>\n",
       "      <td>16985.500000</td>\n",
       "      <td>25.395000</td>\n",
       "    </tr>\n",
       "    <tr>\n",
       "      <th>50%</th>\n",
       "      <td>18990.500000</td>\n",
       "      <td>49.230000</td>\n",
       "    </tr>\n",
       "    <tr>\n",
       "      <th>75%</th>\n",
       "      <td>21035.500000</td>\n",
       "      <td>73.327500</td>\n",
       "    </tr>\n",
       "    <tr>\n",
       "      <th>max</th>\n",
       "      <td>23011.000000</td>\n",
       "      <td>99.940000</td>\n",
       "    </tr>\n",
       "  </tbody>\n",
       "</table>\n",
       "</div>"
      ],
      "text/plain": [
       "             Inv_Id      Inv_Amt\n",
       "count   2446.000000  2446.000000\n",
       "mean   18996.744481    49.449321\n",
       "std     2327.955920    28.593046\n",
       "min    15003.000000     0.040000\n",
       "25%    16985.500000    25.395000\n",
       "50%    18990.500000    49.230000\n",
       "75%    21035.500000    73.327500\n",
       "max    23011.000000    99.940000"
      ]
     },
     "execution_count": 9,
     "metadata": {},
     "output_type": "execute_result"
    }
   ],
   "source": [
    "test.describe()"
   ]
  },
  {
   "cell_type": "code",
   "execution_count": 10,
   "metadata": {},
   "outputs": [
    {
     "data": {
      "text/plain": [
       "<matplotlib.axes._subplots.AxesSubplot at 0x18b8fbdedd8>"
      ]
     },
     "execution_count": 10,
     "metadata": {},
     "output_type": "execute_result"
    },
    {
     "data": {
      "image/png": "[encoded data removed]",
      "text/plain": [
       "<Figure size 1080x360 with 2 Axes>"
      ]
     },
     "metadata": {
      "needs_background": "light"
     },
     "output_type": "display_data"
    }
   ],
   "source": [
    "fig, axarr = plt.subplots(1,2, figsize=(15, 5))\n",
    "train['Inv_Amt'].plot.box(ax=axarr[0])\n",
    "test['Inv_Amt'].plot.box(ax=axarr[1])"
   ]
  },
  {
   "cell_type": "code",
   "execution_count": 11,
   "metadata": {},
   "outputs": [
    {
     "data": {
      "text/plain": [
       "(145.22625, -46.50375000000001)"
      ]
     },
     "execution_count": 11,
     "metadata": {},
     "output_type": "execute_result"
    }
   ],
   "source": [
    "Q1_Amt_test = test['Inv_Amt'].quantile(0.25)\n",
    "Q3_Amt_test = test['Inv_Amt'].quantile(0.75)\n",
    "IQR_Amt_test = Q3_Amt_test - Q1_Amt_test\n",
    "upper_Amt_test = Q3_Amt_test + 1.5 * IQR_Amt_test\n",
    "lower_Amt_test = Q1_Amt_test - 1.5 * IQR_Amt_test\n",
    "upper_Amt_test, lower_Amt_test"
   ]
  },
  {
   "cell_type": "code",
   "execution_count": 12,
   "metadata": {},
   "outputs": [
    {
     "data": {
      "text/plain": [
       "(150.48875, -50.36125000000001)"
      ]
     },
     "execution_count": 12,
     "metadata": {},
     "output_type": "execute_result"
    }
   ],
   "source": [
    "Q1_Amt_train = train['Inv_Amt'].quantile(0.25)\n",
    "Q3_Amt_train = train['Inv_Amt'].quantile(0.75)\n",
    "IQR_Amt_train = Q3_Amt_train - Q1_Amt_train\n",
    "upper_Amt_train = Q3_Amt_train + 1.5 * IQR_Amt_train\n",
    "lower_Amt_train = Q1_Amt_train - 1.5 * IQR_Amt_train\n",
    "upper_Amt_train, lower_Amt_train"
   ]
  },
  {
   "cell_type": "code",
   "execution_count": 13,
   "metadata": {},
   "outputs": [
    {
     "data": {
      "text/plain": [
       "<matplotlib.axes._subplots.AxesSubplot at 0x18b8fe50a58>"
      ]
     },
     "execution_count": 13,
     "metadata": {},
     "output_type": "execute_result"
    },
    {
     "data": {
      "image/png": "[encoded data removed]",
      "text/plain": [
       "<Figure size 432x288 with 1 Axes>"
      ]
     },
     "metadata": {
      "needs_background": "light"
     },
     "output_type": "display_data"
    }
   ],
   "source": [
    "train.loc[train['Inv_Amt'] > upper_Amt_train ,'Inv_Amt'] = np.mean(train['Inv_Amt'])\n",
    "train.loc[train['Inv_Amt'] < lower_Amt_train ,'Inv_Amt'] = np.mean(train['Inv_Amt'])\n",
    "train['Inv_Amt'].plot.box()"
   ]
  },
  {
   "cell_type": "code",
   "execution_count": 14,
   "metadata": {
    "scrolled": true
   },
   "outputs": [
    {
     "data": {
      "text/plain": [
       "<matplotlib.axes._subplots.AxesSubplot at 0x18b8fcd46a0>"
      ]
     },
     "execution_count": 14,
     "metadata": {},
     "output_type": "execute_result"
    },
    {
     "data": {
      "image/png": "[encoded data removed]",
      "text/plain": [
       "<Figure size 432x288 with 1 Axes>"
      ]
     },
     "metadata": {
      "needs_background": "light"
     },
     "output_type": "display_data"
    }
   ],
   "source": [
    "test.loc[test['Inv_Amt'] > upper_Amt_test ,'Inv_Amt'] = np.mean(test['Inv_Amt'])\n",
    "test.loc[test['Inv_Amt'] < lower_Amt_test ,'Inv_Amt'] = np.mean(test['Inv_Amt'])\n",
    "test['Inv_Amt'].plot.box()"
   ]
  },
  {
   "cell_type": "code",
   "execution_count": 15,
   "metadata": {
    "scrolled": true
   },
   "outputs": [
    {
     "data": {
      "text/plain": [
       "count    2446.000000\n",
       "mean       49.449321\n",
       "std        28.593046\n",
       "min         0.040000\n",
       "25%        25.395000\n",
       "50%        49.230000\n",
       "75%        73.327500\n",
       "max        99.940000\n",
       "Name: Inv_Amt, dtype: float64"
      ]
     },
     "execution_count": 15,
     "metadata": {},
     "output_type": "execute_result"
    }
   ],
   "source": [
    "test['Inv_Amt'].describe()"
   ]
  },
  {
   "cell_type": "code",
   "execution_count": 16,
   "metadata": {},
   "outputs": [
    {
     "data": {
      "text/plain": [
       "Inv_Id              0\n",
       "Vendor_Code         0\n",
       "GL_Code             0\n",
       "Inv_Amt             0\n",
       "Item_Description    0\n",
       "Product_Category    0\n",
       "dtype: int64"
      ]
     },
     "execution_count": 16,
     "metadata": {},
     "output_type": "execute_result"
    }
   ],
   "source": [
    "train.isnull().sum()"
   ]
  },
  {
   "cell_type": "code",
   "execution_count": 17,
   "metadata": {},
   "outputs": [
    {
     "data": {
      "text/plain": [
       "Inv_Id              0\n",
       "Vendor_Code         0\n",
       "GL_Code             0\n",
       "Inv_Amt             0\n",
       "Item_Description    0\n",
       "dtype: int64"
      ]
     },
     "execution_count": 17,
     "metadata": {},
     "output_type": "execute_result"
    }
   ],
   "source": [
    "test.isnull().sum()"
   ]
  },
  {
   "cell_type": "markdown",
   "metadata": {},
   "source": [
    "# Categorical Data"
   ]
  },
  {
   "cell_type": "code",
   "execution_count": 18,
   "metadata": {
    "scrolled": false
   },
   "outputs": [
    {
     "data": {
      "text/plain": [
       "<matplotlib.axes._subplots.AxesSubplot at 0x18b8fd5dd68>"
      ]
     },
     "execution_count": 18,
     "metadata": {},
     "output_type": "execute_result"
    },
    {
     "data": {
      "image/png": "[encoded data removed]",
      "text/plain": [
       "<Figure size 1080x360 with 2 Axes>"
      ]
     },
     "metadata": {
      "needs_background": "light"
     },
     "output_type": "display_data"
    }
   ],
   "source": [
    "fig, axarr = plt.subplots(1,2, figsize=(15, 5))\n",
    "test['GL_Code'].value_counts().plot.bar(ax=axarr[0])\n",
    "train['GL_Code'].value_counts().plot.bar(ax=axarr[1])"
   ]
  },
  {
   "cell_type": "code",
   "execution_count": 19,
   "metadata": {},
   "outputs": [
    {
     "data": {
      "text/plain": [
       "36"
      ]
     },
     "execution_count": 19,
     "metadata": {},
     "output_type": "execute_result"
    }
   ],
   "source": [
    "train['Product_Category'].value_counts().count()"
   ]
  },
  {
   "cell_type": "code",
   "execution_count": 20,
   "metadata": {
    "scrolled": false
   },
   "outputs": [
    {
     "data": {
      "text/html": [
       "<div>\n",
       "<style scoped>\n",
       "    .dataframe tbody tr th:only-of-type {\n",
       "        vertical-align: middle;\n",
       "    }\n",
       "\n",
       "    .dataframe tbody tr th {\n",
       "        vertical-align: top;\n",
       "    }\n",
       "\n",
       "    .dataframe thead th {\n",
       "        text-align: right;\n",
       "    }\n",
       "</style>\n",
       "<table border=\"1\" class=\"dataframe\">\n",
       "  <thead>\n",
       "    <tr style=\"text-align: right;\">\n",
       "      <th>GL_Code</th>\n",
       "      <th>GL-2182000</th>\n",
       "      <th>GL-6020600</th>\n",
       "      <th>GL-6050100</th>\n",
       "      <th>GL-6050310</th>\n",
       "      <th>GL-6060100</th>\n",
       "      <th>GL-6100410</th>\n",
       "      <th>GL-6100500</th>\n",
       "      <th>GL-6101400</th>\n",
       "      <th>GL-6121905</th>\n",
       "    </tr>\n",
       "    <tr>\n",
       "      <th>Product_Category</th>\n",
       "      <th></th>\n",
       "      <th></th>\n",
       "      <th></th>\n",
       "      <th></th>\n",
       "      <th></th>\n",
       "      <th></th>\n",
       "      <th></th>\n",
       "      <th></th>\n",
       "      <th></th>\n",
       "    </tr>\n",
       "  </thead>\n",
       "  <tbody>\n",
       "    <tr>\n",
       "      <th>CLASS-1248</th>\n",
       "      <td>5</td>\n",
       "      <td>0</td>\n",
       "      <td>0</td>\n",
       "      <td>0</td>\n",
       "      <td>0</td>\n",
       "      <td>0</td>\n",
       "      <td>0</td>\n",
       "      <td>0</td>\n",
       "      <td>0</td>\n",
       "    </tr>\n",
       "    <tr>\n",
       "      <th>CLASS-1249</th>\n",
       "      <td>176</td>\n",
       "      <td>0</td>\n",
       "      <td>0</td>\n",
       "      <td>0</td>\n",
       "      <td>0</td>\n",
       "      <td>0</td>\n",
       "      <td>0</td>\n",
       "      <td>0</td>\n",
       "      <td>0</td>\n",
       "    </tr>\n",
       "    <tr>\n",
       "      <th>CLASS-1250</th>\n",
       "      <td>451</td>\n",
       "      <td>0</td>\n",
       "      <td>0</td>\n",
       "      <td>0</td>\n",
       "      <td>0</td>\n",
       "      <td>0</td>\n",
       "      <td>0</td>\n",
       "      <td>0</td>\n",
       "      <td>0</td>\n",
       "    </tr>\n",
       "    <tr>\n",
       "      <th>CLASS-1274</th>\n",
       "      <td>0</td>\n",
       "      <td>0</td>\n",
       "      <td>946</td>\n",
       "      <td>0</td>\n",
       "      <td>40</td>\n",
       "      <td>0</td>\n",
       "      <td>0</td>\n",
       "      <td>0</td>\n",
       "      <td>0</td>\n",
       "    </tr>\n",
       "    <tr>\n",
       "      <th>CLASS-1294</th>\n",
       "      <td>25</td>\n",
       "      <td>0</td>\n",
       "      <td>0</td>\n",
       "      <td>0</td>\n",
       "      <td>0</td>\n",
       "      <td>0</td>\n",
       "      <td>0</td>\n",
       "      <td>0</td>\n",
       "      <td>0</td>\n",
       "    </tr>\n",
       "    <tr>\n",
       "      <th>CLASS-1309</th>\n",
       "      <td>0</td>\n",
       "      <td>0</td>\n",
       "      <td>0</td>\n",
       "      <td>0</td>\n",
       "      <td>0</td>\n",
       "      <td>0</td>\n",
       "      <td>32</td>\n",
       "      <td>0</td>\n",
       "      <td>0</td>\n",
       "    </tr>\n",
       "    <tr>\n",
       "      <th>CLASS-1322</th>\n",
       "      <td>0</td>\n",
       "      <td>28</td>\n",
       "      <td>0</td>\n",
       "      <td>0</td>\n",
       "      <td>0</td>\n",
       "      <td>0</td>\n",
       "      <td>0</td>\n",
       "      <td>0</td>\n",
       "      <td>0</td>\n",
       "    </tr>\n",
       "    <tr>\n",
       "      <th>CLASS-1376</th>\n",
       "      <td>365</td>\n",
       "      <td>0</td>\n",
       "      <td>0</td>\n",
       "      <td>0</td>\n",
       "      <td>0</td>\n",
       "      <td>0</td>\n",
       "      <td>0</td>\n",
       "      <td>0</td>\n",
       "      <td>0</td>\n",
       "    </tr>\n",
       "    <tr>\n",
       "      <th>CLASS-1429</th>\n",
       "      <td>0</td>\n",
       "      <td>0</td>\n",
       "      <td>0</td>\n",
       "      <td>0</td>\n",
       "      <td>0</td>\n",
       "      <td>32</td>\n",
       "      <td>0</td>\n",
       "      <td>0</td>\n",
       "      <td>0</td>\n",
       "    </tr>\n",
       "    <tr>\n",
       "      <th>CLASS-1477</th>\n",
       "      <td>50</td>\n",
       "      <td>0</td>\n",
       "      <td>0</td>\n",
       "      <td>0</td>\n",
       "      <td>0</td>\n",
       "      <td>0</td>\n",
       "      <td>0</td>\n",
       "      <td>0</td>\n",
       "      <td>0</td>\n",
       "    </tr>\n",
       "    <tr>\n",
       "      <th>CLASS-1522</th>\n",
       "      <td>0</td>\n",
       "      <td>0</td>\n",
       "      <td>0</td>\n",
       "      <td>0</td>\n",
       "      <td>102</td>\n",
       "      <td>0</td>\n",
       "      <td>0</td>\n",
       "      <td>749</td>\n",
       "      <td>0</td>\n",
       "    </tr>\n",
       "    <tr>\n",
       "      <th>CLASS-1567</th>\n",
       "      <td>0</td>\n",
       "      <td>0</td>\n",
       "      <td>0</td>\n",
       "      <td>84</td>\n",
       "      <td>0</td>\n",
       "      <td>0</td>\n",
       "      <td>0</td>\n",
       "      <td>0</td>\n",
       "      <td>0</td>\n",
       "    </tr>\n",
       "    <tr>\n",
       "      <th>CLASS-1652</th>\n",
       "      <td>0</td>\n",
       "      <td>0</td>\n",
       "      <td>0</td>\n",
       "      <td>0</td>\n",
       "      <td>15</td>\n",
       "      <td>0</td>\n",
       "      <td>0</td>\n",
       "      <td>0</td>\n",
       "      <td>0</td>\n",
       "    </tr>\n",
       "    <tr>\n",
       "      <th>CLASS-1688</th>\n",
       "      <td>4</td>\n",
       "      <td>0</td>\n",
       "      <td>0</td>\n",
       "      <td>0</td>\n",
       "      <td>0</td>\n",
       "      <td>0</td>\n",
       "      <td>0</td>\n",
       "      <td>0</td>\n",
       "      <td>0</td>\n",
       "    </tr>\n",
       "    <tr>\n",
       "      <th>CLASS-1721</th>\n",
       "      <td>0</td>\n",
       "      <td>0</td>\n",
       "      <td>0</td>\n",
       "      <td>0</td>\n",
       "      <td>0</td>\n",
       "      <td>0</td>\n",
       "      <td>107</td>\n",
       "      <td>0</td>\n",
       "      <td>0</td>\n",
       "    </tr>\n",
       "    <tr>\n",
       "      <th>CLASS-1758</th>\n",
       "      <td>0</td>\n",
       "      <td>0</td>\n",
       "      <td>0</td>\n",
       "      <td>1498</td>\n",
       "      <td>0</td>\n",
       "      <td>0</td>\n",
       "      <td>0</td>\n",
       "      <td>0</td>\n",
       "      <td>0</td>\n",
       "    </tr>\n",
       "    <tr>\n",
       "      <th>CLASS-1770</th>\n",
       "      <td>0</td>\n",
       "      <td>0</td>\n",
       "      <td>0</td>\n",
       "      <td>0</td>\n",
       "      <td>0</td>\n",
       "      <td>0</td>\n",
       "      <td>0</td>\n",
       "      <td>0</td>\n",
       "      <td>19</td>\n",
       "    </tr>\n",
       "    <tr>\n",
       "      <th>CLASS-1805</th>\n",
       "      <td>0</td>\n",
       "      <td>0</td>\n",
       "      <td>0</td>\n",
       "      <td>0</td>\n",
       "      <td>0</td>\n",
       "      <td>0</td>\n",
       "      <td>12</td>\n",
       "      <td>0</td>\n",
       "      <td>0</td>\n",
       "    </tr>\n",
       "    <tr>\n",
       "      <th>CLASS-1828</th>\n",
       "      <td>0</td>\n",
       "      <td>0</td>\n",
       "      <td>0</td>\n",
       "      <td>0</td>\n",
       "      <td>0</td>\n",
       "      <td>113</td>\n",
       "      <td>0</td>\n",
       "      <td>0</td>\n",
       "      <td>0</td>\n",
       "    </tr>\n",
       "    <tr>\n",
       "      <th>CLASS-1838</th>\n",
       "      <td>1</td>\n",
       "      <td>0</td>\n",
       "      <td>0</td>\n",
       "      <td>0</td>\n",
       "      <td>0</td>\n",
       "      <td>0</td>\n",
       "      <td>0</td>\n",
       "      <td>0</td>\n",
       "      <td>0</td>\n",
       "    </tr>\n",
       "    <tr>\n",
       "      <th>CLASS-1850</th>\n",
       "      <td>0</td>\n",
       "      <td>0</td>\n",
       "      <td>0</td>\n",
       "      <td>0</td>\n",
       "      <td>0</td>\n",
       "      <td>0</td>\n",
       "      <td>60</td>\n",
       "      <td>0</td>\n",
       "      <td>0</td>\n",
       "    </tr>\n",
       "    <tr>\n",
       "      <th>CLASS-1867</th>\n",
       "      <td>15</td>\n",
       "      <td>0</td>\n",
       "      <td>0</td>\n",
       "      <td>0</td>\n",
       "      <td>0</td>\n",
       "      <td>0</td>\n",
       "      <td>0</td>\n",
       "      <td>0</td>\n",
       "      <td>0</td>\n",
       "    </tr>\n",
       "    <tr>\n",
       "      <th>CLASS-1870</th>\n",
       "      <td>0</td>\n",
       "      <td>0</td>\n",
       "      <td>0</td>\n",
       "      <td>36</td>\n",
       "      <td>0</td>\n",
       "      <td>0</td>\n",
       "      <td>0</td>\n",
       "      <td>0</td>\n",
       "      <td>0</td>\n",
       "    </tr>\n",
       "    <tr>\n",
       "      <th>CLASS-1919</th>\n",
       "      <td>0</td>\n",
       "      <td>0</td>\n",
       "      <td>0</td>\n",
       "      <td>0</td>\n",
       "      <td>0</td>\n",
       "      <td>0</td>\n",
       "      <td>0</td>\n",
       "      <td>0</td>\n",
       "      <td>70</td>\n",
       "    </tr>\n",
       "    <tr>\n",
       "      <th>CLASS-1957</th>\n",
       "      <td>1</td>\n",
       "      <td>0</td>\n",
       "      <td>0</td>\n",
       "      <td>0</td>\n",
       "      <td>0</td>\n",
       "      <td>0</td>\n",
       "      <td>0</td>\n",
       "      <td>0</td>\n",
       "      <td>0</td>\n",
       "    </tr>\n",
       "    <tr>\n",
       "      <th>CLASS-1963</th>\n",
       "      <td>0</td>\n",
       "      <td>0</td>\n",
       "      <td>0</td>\n",
       "      <td>0</td>\n",
       "      <td>0</td>\n",
       "      <td>230</td>\n",
       "      <td>0</td>\n",
       "      <td>0</td>\n",
       "      <td>0</td>\n",
       "    </tr>\n",
       "    <tr>\n",
       "      <th>CLASS-1964</th>\n",
       "      <td>28</td>\n",
       "      <td>0</td>\n",
       "      <td>0</td>\n",
       "      <td>0</td>\n",
       "      <td>0</td>\n",
       "      <td>0</td>\n",
       "      <td>0</td>\n",
       "      <td>0</td>\n",
       "      <td>0</td>\n",
       "    </tr>\n",
       "    <tr>\n",
       "      <th>CLASS-1983</th>\n",
       "      <td>0</td>\n",
       "      <td>0</td>\n",
       "      <td>16</td>\n",
       "      <td>0</td>\n",
       "      <td>1</td>\n",
       "      <td>0</td>\n",
       "      <td>0</td>\n",
       "      <td>0</td>\n",
       "      <td>0</td>\n",
       "    </tr>\n",
       "    <tr>\n",
       "      <th>CLASS-2003</th>\n",
       "      <td>32</td>\n",
       "      <td>0</td>\n",
       "      <td>0</td>\n",
       "      <td>0</td>\n",
       "      <td>0</td>\n",
       "      <td>0</td>\n",
       "      <td>0</td>\n",
       "      <td>0</td>\n",
       "      <td>0</td>\n",
       "    </tr>\n",
       "    <tr>\n",
       "      <th>CLASS-2015</th>\n",
       "      <td>0</td>\n",
       "      <td>2</td>\n",
       "      <td>0</td>\n",
       "      <td>0</td>\n",
       "      <td>0</td>\n",
       "      <td>0</td>\n",
       "      <td>0</td>\n",
       "      <td>0</td>\n",
       "      <td>0</td>\n",
       "    </tr>\n",
       "    <tr>\n",
       "      <th>CLASS-2038</th>\n",
       "      <td>0</td>\n",
       "      <td>0</td>\n",
       "      <td>0</td>\n",
       "      <td>0</td>\n",
       "      <td>0</td>\n",
       "      <td>13</td>\n",
       "      <td>0</td>\n",
       "      <td>0</td>\n",
       "      <td>0</td>\n",
       "    </tr>\n",
       "    <tr>\n",
       "      <th>CLASS-2112</th>\n",
       "      <td>0</td>\n",
       "      <td>0</td>\n",
       "      <td>0</td>\n",
       "      <td>0</td>\n",
       "      <td>0</td>\n",
       "      <td>0</td>\n",
       "      <td>0</td>\n",
       "      <td>53</td>\n",
       "      <td>0</td>\n",
       "    </tr>\n",
       "    <tr>\n",
       "      <th>CLASS-2141</th>\n",
       "      <td>108</td>\n",
       "      <td>0</td>\n",
       "      <td>0</td>\n",
       "      <td>0</td>\n",
       "      <td>0</td>\n",
       "      <td>0</td>\n",
       "      <td>0</td>\n",
       "      <td>0</td>\n",
       "      <td>0</td>\n",
       "    </tr>\n",
       "    <tr>\n",
       "      <th>CLASS-2146</th>\n",
       "      <td>0</td>\n",
       "      <td>2</td>\n",
       "      <td>0</td>\n",
       "      <td>0</td>\n",
       "      <td>0</td>\n",
       "      <td>0</td>\n",
       "      <td>0</td>\n",
       "      <td>0</td>\n",
       "      <td>0</td>\n",
       "    </tr>\n",
       "    <tr>\n",
       "      <th>CLASS-2152</th>\n",
       "      <td>0</td>\n",
       "      <td>0</td>\n",
       "      <td>0</td>\n",
       "      <td>0</td>\n",
       "      <td>0</td>\n",
       "      <td>0</td>\n",
       "      <td>9</td>\n",
       "      <td>0</td>\n",
       "      <td>0</td>\n",
       "    </tr>\n",
       "    <tr>\n",
       "      <th>CLASS-2241</th>\n",
       "      <td>36</td>\n",
       "      <td>0</td>\n",
       "      <td>0</td>\n",
       "      <td>0</td>\n",
       "      <td>0</td>\n",
       "      <td>0</td>\n",
       "      <td>0</td>\n",
       "      <td>0</td>\n",
       "      <td>0</td>\n",
       "    </tr>\n",
       "  </tbody>\n",
       "</table>\n",
       "</div>"
      ],
      "text/plain": [
       "GL_Code           GL-2182000  GL-6020600  GL-6050100  GL-6050310  GL-6060100  \\\n",
       "Product_Category                                                               \n",
       "CLASS-1248                 5           0           0           0           0   \n",
       "CLASS-1249               176           0           0           0           0   \n",
       "CLASS-1250               451           0           0           0           0   \n",
       "CLASS-1274                 0           0         946           0          40   \n",
       "CLASS-1294                25           0           0           0           0   \n",
       "CLASS-1309                 0           0           0           0           0   \n",
       "CLASS-1322                 0          28           0           0           0   \n",
       "CLASS-1376               365           0           0           0           0   \n",
       "CLASS-1429                 0           0           0           0           0   \n",
       "CLASS-1477                50           0           0           0           0   \n",
       "CLASS-1522                 0           0           0           0         102   \n",
       "CLASS-1567                 0           0           0          84           0   \n",
       "CLASS-1652                 0           0           0           0          15   \n",
       "CLASS-1688                 4           0           0           0           0   \n",
       "CLASS-1721                 0           0           0           0           0   \n",
       "CLASS-1758                 0           0           0        1498           0   \n",
       "CLASS-1770                 0           0           0           0           0   \n",
       "CLASS-1805                 0           0           0           0           0   \n",
       "CLASS-1828                 0           0           0           0           0   \n",
       "CLASS-1838                 1           0           0           0           0   \n",
       "CLASS-1850                 0           0           0           0           0   \n",
       "CLASS-1867                15           0           0           0           0   \n",
       "CLASS-1870                 0           0           0          36           0   \n",
       "CLASS-1919                 0           0           0           0           0   \n",
       "CLASS-1957                 1           0           0           0           0   \n",
       "CLASS-1963                 0           0           0           0           0   \n",
       "CLASS-1964                28           0           0           0           0   \n",
       "CLASS-1983                 0           0          16           0           1   \n",
       "CLASS-2003                32           0           0           0           0   \n",
       "CLASS-2015                 0           2           0           0           0   \n",
       "CLASS-2038                 0           0           0           0           0   \n",
       "CLASS-2112                 0           0           0           0           0   \n",
       "CLASS-2141               108           0           0           0           0   \n",
       "CLASS-2146                 0           2           0           0           0   \n",
       "CLASS-2152                 0           0           0           0           0   \n",
       "CLASS-2241                36           0           0           0           0   \n",
       "\n",
       "GL_Code           GL-6100410  GL-6100500  GL-6101400  GL-6121905  \n",
       "Product_Category                                                  \n",
       "CLASS-1248                 0           0           0           0  \n",
       "CLASS-1249                 0           0           0           0  \n",
       "CLASS-1250                 0           0           0           0  \n",
       "CLASS-1274                 0           0           0           0  \n",
       "CLASS-1294                 0           0           0           0  \n",
       "CLASS-1309                 0          32           0           0  \n",
       "CLASS-1322                 0           0           0           0  \n",
       "CLASS-1376                 0           0           0           0  \n",
       "CLASS-1429                32           0           0           0  \n",
       "CLASS-1477                 0           0           0           0  \n",
       "CLASS-1522                 0           0         749           0  \n",
       "CLASS-1567                 0           0           0           0  \n",
       "CLASS-1652                 0           0           0           0  \n",
       "CLASS-1688                 0           0           0           0  \n",
       "CLASS-1721                 0         107           0           0  \n",
       "CLASS-1758                 0           0           0           0  \n",
       "CLASS-1770                 0           0           0          19  \n",
       "CLASS-1805                 0          12           0           0  \n",
       "CLASS-1828               113           0           0           0  \n",
       "CLASS-1838                 0           0           0           0  \n",
       "CLASS-1850                 0          60           0           0  \n",
       "CLASS-1867                 0           0           0           0  \n",
       "CLASS-1870                 0           0           0           0  \n",
       "CLASS-1919                 0           0           0          70  \n",
       "CLASS-1957                 0           0           0           0  \n",
       "CLASS-1963               230           0           0           0  \n",
       "CLASS-1964                 0           0           0           0  \n",
       "CLASS-1983                 0           0           0           0  \n",
       "CLASS-2003                 0           0           0           0  \n",
       "CLASS-2015                 0           0           0           0  \n",
       "CLASS-2038                13           0           0           0  \n",
       "CLASS-2112                 0           0          53           0  \n",
       "CLASS-2141                 0           0           0           0  \n",
       "CLASS-2146                 0           0           0           0  \n",
       "CLASS-2152                 0           9           0           0  \n",
       "CLASS-2241                 0           0           0           0  "
      ]
     },
     "execution_count": 20,
     "metadata": {},
     "output_type": "execute_result"
    }
   ],
   "source": [
    "c = pd.crosstab(train['Product_Category'],train['GL_Code'])\n",
    "c"
   ]
  },
  {
   "cell_type": "code",
   "execution_count": 21,
   "metadata": {
    "scrolled": true
   },
   "outputs": [
    {
     "data": {
      "text/plain": [
       "(39129.798132297925,\n",
       " 0.0,\n",
       " 280,\n",
       " array([[1.16510959e+00, 2.87459576e-02, 8.64175350e-01, 1.45346748e+00,\n",
       "         1.41933166e-01, 3.48544736e-01, 1.97628458e-01, 7.20445562e-01,\n",
       "         7.99496946e-02],\n",
       "        [4.10118577e+01, 1.01185771e+00, 3.04189723e+01, 5.11620553e+01,\n",
       "         4.99604743e+00, 1.22687747e+01, 6.95652174e+00, 2.53596838e+01,\n",
       "         2.81422925e+00],\n",
       "        [1.05092885e+02, 2.59288538e+00, 7.79486166e+01, 1.31102767e+02,\n",
       "         1.28023715e+01, 3.14387352e+01, 1.78260870e+01, 6.49841897e+01,\n",
       "         7.21146245e+00],\n",
       "        [2.29759612e+02, 5.66870284e+00, 1.70415379e+02, 2.86623787e+02,\n",
       "         2.79892203e+01, 6.87330219e+01, 3.89723320e+01, 1.42071865e+02,\n",
       "         1.57660798e+01],\n",
       "        [5.82554797e+00, 1.43729788e-01, 4.32087675e+00, 7.26733741e+00,\n",
       "         7.09665828e-01, 1.74272368e+00, 9.88142292e-01, 3.60222781e+00,\n",
       "         3.99748473e-01],\n",
       "        [7.45670140e+00, 1.83974129e-01, 5.53072224e+00, 9.30219188e+00,\n",
       "         9.08372260e-01, 2.23068631e+00, 1.26482213e+00, 4.61085160e+00,\n",
       "         5.11678045e-01],\n",
       "        [6.52461373e+00, 1.60977363e-01, 4.83938196e+00, 8.13941789e+00,\n",
       "         7.94825728e-01, 1.95185052e+00, 1.10671937e+00, 4.03449515e+00,\n",
       "         4.47718290e-01],\n",
       "        [8.50530004e+01, 2.09845490e+00, 6.30848006e+01, 1.06103126e+02,\n",
       "         1.03611211e+01, 2.54437657e+01, 1.44268775e+01, 5.25925261e+01,\n",
       "         5.83632770e+00],\n",
       "        [7.45670140e+00, 1.83974129e-01, 5.53072224e+00, 9.30219188e+00,\n",
       "         9.08372260e-01, 2.23068631e+00, 1.26482213e+00, 4.61085160e+00,\n",
       "         5.11678045e-01],\n",
       "        [1.16510959e+01, 2.87459576e-01, 8.64175350e+00, 1.45346748e+01,\n",
       "         1.41933166e+00, 3.48544736e+00, 1.97628458e+00, 7.20445562e+00,\n",
       "         7.99496946e-01],\n",
       "        [1.98301653e+02, 4.89256198e+00, 1.47082645e+02, 2.47380165e+02,\n",
       "         2.41570248e+01, 5.93223140e+01, 3.36363636e+01, 1.22619835e+02,\n",
       "         1.36074380e+01],\n",
       "        [1.95738412e+01, 4.82932088e-01, 1.45181459e+01, 2.44182537e+01,\n",
       "         2.38447718e+00, 5.85555156e+00, 3.32015810e+00, 1.21034854e+01,\n",
       "         1.34315487e+00],\n",
       "        [3.49532878e+00, 8.62378728e-02, 2.59252605e+00, 4.36040244e+00,\n",
       "         4.25799497e-01, 1.04563421e+00, 5.92885375e-01, 2.16133669e+00,\n",
       "         2.39849084e-01],\n",
       "        [9.32087675e-01, 2.29967661e-02, 6.91340280e-01, 1.16277398e+00,\n",
       "         1.13546533e-01, 2.78835789e-01, 1.58102767e-01, 5.76356450e-01,\n",
       "         6.39597557e-02],\n",
       "        [2.49333453e+01, 6.15163493e-01, 1.84933525e+01, 3.11042041e+01,\n",
       "         3.03736974e+00, 7.45885735e+00, 4.22924901e+00, 1.54175350e+01,\n",
       "         1.71092346e+00],\n",
       "        [3.49066834e+02, 8.61228890e+00, 2.58906935e+02, 4.35458857e+02,\n",
       "         4.25231764e+01, 1.04424003e+02, 5.92094862e+01, 2.15845490e+02,\n",
       "         2.39529285e+01],\n",
       "        [4.42741646e+00, 1.09234639e-01, 3.28386633e+00, 5.52317643e+00,\n",
       "         5.39346029e-01, 1.32447000e+00, 7.50988142e-01, 2.73769314e+00,\n",
       "         3.03808839e-01],\n",
       "        [2.79626303e+00, 6.89902982e-02, 2.07402084e+00, 3.48832195e+00,\n",
       "         3.40639598e-01, 8.36507366e-01, 4.74308300e-01, 1.72906935e+00,\n",
       "         1.91879267e-01],\n",
       "        [2.63314768e+01, 6.49658642e-01, 1.95303629e+01, 3.28483651e+01,\n",
       "         3.20768954e+00, 7.87711103e+00, 4.46640316e+00, 1.62820697e+01,\n",
       "         1.80686310e+00],\n",
       "        [2.33021919e-01, 5.74919152e-03, 1.72835070e-01, 2.90693496e-01,\n",
       "         2.83866331e-02, 6.97089472e-02, 3.95256917e-02, 1.44089112e-01,\n",
       "         1.59899389e-02],\n",
       "        [1.39813151e+01, 3.44951491e-01, 1.03701042e+01, 1.74416098e+01,\n",
       "         1.70319799e+00, 4.18253683e+00, 2.37154150e+00, 8.64534675e+00,\n",
       "         9.59396335e-01],\n",
       "        [3.49532878e+00, 8.62378728e-02, 2.59252605e+00, 4.36040244e+00,\n",
       "         4.25799497e-01, 1.04563421e+00, 5.92885375e-01, 2.16133669e+00,\n",
       "         2.39849084e-01],\n",
       "        [8.38878908e+00, 2.06970895e-01, 6.22206252e+00, 1.04649659e+01,\n",
       "         1.02191879e+00, 2.50952210e+00, 1.42292490e+00, 5.18720805e+00,\n",
       "         5.75637801e-01],\n",
       "        [1.63115343e+01, 4.02443406e-01, 1.20984549e+01, 2.03485447e+01,\n",
       "         1.98706432e+00, 4.87962630e+00, 2.76679842e+00, 1.00862379e+01,\n",
       "         1.11929572e+00],\n",
       "        [2.33021919e-01, 5.74919152e-03, 1.72835070e-01, 2.90693496e-01,\n",
       "         2.83866331e-02, 6.97089472e-02, 3.95256917e-02, 1.44089112e-01,\n",
       "         1.59899389e-02],\n",
       "        [5.35950413e+01, 1.32231405e+00, 3.97520661e+01, 6.68595041e+01,\n",
       "         6.52892562e+00, 1.60330579e+01, 9.09090909e+00, 3.31404959e+01,\n",
       "         3.67768595e+00],\n",
       "        [6.52461373e+00, 1.60977363e-01, 4.83938196e+00, 8.13941789e+00,\n",
       "         7.94825728e-01, 1.95185052e+00, 1.10671937e+00, 4.03449515e+00,\n",
       "         4.47718290e-01],\n",
       "        [3.96137262e+00, 9.77362558e-02, 2.93819619e+00, 4.94178944e+00,\n",
       "         4.82572763e-01, 1.18505210e+00, 6.71936759e-01, 2.44951491e+00,\n",
       "         2.71828962e-01],\n",
       "        [7.45670140e+00, 1.83974129e-01, 5.53072224e+00, 9.30219188e+00,\n",
       "         9.08372260e-01, 2.23068631e+00, 1.26482213e+00, 4.61085160e+00,\n",
       "         5.11678045e-01],\n",
       "        [4.66043838e-01, 1.14983830e-02, 3.45670140e-01, 5.81386992e-01,\n",
       "         5.67732663e-02, 1.39417894e-01, 7.90513834e-02, 2.88178225e-01,\n",
       "         3.19798778e-02],\n",
       "        [3.02928494e+00, 7.47394898e-02, 2.24685591e+00, 3.77901545e+00,\n",
       "         3.69026231e-01, 9.06216313e-01, 5.13833992e-01, 1.87315846e+00,\n",
       "         2.07869206e-01],\n",
       "        [1.23501617e+01, 3.04707151e-01, 9.16025871e+00, 1.54067553e+01,\n",
       "         1.50449156e+00, 3.69457420e+00, 2.09486166e+00, 7.63672296e+00,\n",
       "         8.47466762e-01],\n",
       "        [2.51663672e+01, 6.20912684e-01, 1.86661876e+01, 3.13948976e+01,\n",
       "         3.06575638e+00, 7.52856630e+00, 4.26877470e+00, 1.55616241e+01,\n",
       "         1.72691340e+00],\n",
       "        [4.66043838e-01, 1.14983830e-02, 3.45670140e-01, 5.81386992e-01,\n",
       "         5.67732663e-02, 1.39417894e-01, 7.90513834e-02, 2.88178225e-01,\n",
       "         3.19798778e-02],\n",
       "        [2.09719727e+00, 5.17427237e-02, 1.55551563e+00, 2.61624147e+00,\n",
       "         2.55479698e-01, 6.27380525e-01, 3.55731225e-01, 1.29680201e+00,\n",
       "         1.43909450e-01],\n",
       "        [8.38878908e+00, 2.06970895e-01, 6.22206252e+00, 1.04649659e+01,\n",
       "         1.02191879e+00, 2.50952210e+00, 1.42292490e+00, 5.18720805e+00,\n",
       "         5.75637801e-01]]))"
      ]
     },
     "execution_count": 21,
     "metadata": {},
     "output_type": "execute_result"
    }
   ],
   "source": [
    "from scipy.stats import chi2_contingency\n",
    "chi2_contingency(c)"
   ]
  },
  {
   "cell_type": "code",
   "execution_count": 22,
   "metadata": {
    "scrolled": true
   },
   "outputs": [
    {
     "data": {
      "text/plain": [
       "1253"
      ]
     },
     "execution_count": 22,
     "metadata": {},
     "output_type": "execute_result"
    }
   ],
   "source": [
    "train['Vendor_Code'].value_counts().count()"
   ]
  },
  {
   "cell_type": "code",
   "execution_count": 23,
   "metadata": {},
   "outputs": [
    {
     "data": {
      "text/plain": [
       "GL_Code\n",
       "GL-2182000    50.911789\n",
       "GL-6020600    45.122188\n",
       "GL-6050100    50.347817\n",
       "GL-6050310    49.634623\n",
       "GL-6060100    51.819177\n",
       "GL-6100410    49.375567\n",
       "GL-6100500    51.789955\n",
       "GL-6101400    48.354800\n",
       "GL-6121905    50.001236\n",
       "Name: Inv_Amt, dtype: float64"
      ]
     },
     "execution_count": 23,
     "metadata": {},
     "output_type": "execute_result"
    }
   ],
   "source": [
    "train.groupby('GL_Code')['Inv_Amt'].mean()"
   ]
  },
  {
   "cell_type": "markdown",
   "metadata": {},
   "source": [
    "# Building Training and Testing Model"
   ]
  },
  {
   "cell_type": "code",
   "execution_count": 24,
   "metadata": {},
   "outputs": [],
   "source": [
    "clf = DecisionTreeClassifier()"
   ]
  },
  {
   "cell_type": "code",
   "execution_count": 25,
   "metadata": {},
   "outputs": [],
   "source": [
    "x_train = train.drop(['Product_Category','Inv_Id'],axis=1)\n",
    "y_train = train['Product_Category']\n",
    "\n",
    "x_test = test.drop('Inv_Id',axis=1)\n",
    "y_test = sample['Product_Category']"
   ]
  },
  {
   "cell_type": "code",
   "execution_count": 26,
   "metadata": {},
   "outputs": [],
   "source": [
    "X_train_hash = copy.copy(x_train)\n",
    "X_test_hash = copy.copy(x_test)\n",
    "for i in range(X_train_hash.shape[1]):\n",
    "    X_train_hash.iloc[:,i]=X_train_hash.iloc[:,i].astype('str')\n",
    "for i in range(X_test_hash.shape[1]):\n",
    "    X_test_hash.iloc[:,i]=X_test_hash.iloc[:,i].astype('str')"
   ]
  },
  {
   "cell_type": "code",
   "execution_count": 27,
   "metadata": {},
   "outputs": [],
   "source": [
    "hashing = FeatureHasher(n_features=1048576+1048576, input_type=\"string\")\n",
    "x_train = hashing.transform(X_train_hash.values)\n",
    "x_test = hashing.transform(X_test_hash.values)"
   ]
  },
  {
   "cell_type": "code",
   "execution_count": 28,
   "metadata": {
    "scrolled": false
   },
   "outputs": [
    {
     "data": {
      "text/plain": [
       "DecisionTreeClassifier(class_weight=None, criterion='gini', max_depth=None,\n",
       "            max_features=None, max_leaf_nodes=None,\n",
       "            min_impurity_decrease=0.0, min_impurity_split=None,\n",
       "            min_samples_leaf=1, min_samples_split=2,\n",
       "            min_weight_fraction_leaf=0.0, presort=False, random_state=None,\n",
       "            splitter='best')"
      ]
     },
     "execution_count": 28,
     "metadata": {},
     "output_type": "execute_result"
    }
   ],
   "source": [
    "clf.fit(x_train, y_train)"
   ]
  },
  {
   "cell_type": "code",
   "execution_count": 29,
   "metadata": {},
   "outputs": [],
   "source": [
    "predict_test = clf.predict(x_test)"
   ]
  },
  {
   "cell_type": "markdown",
   "metadata": {},
   "source": [
    "# Model Deployment"
   ]
  },
  {
   "cell_type": "code",
   "execution_count": 30,
   "metadata": {},
   "outputs": [
    {
     "data": {
      "text/html": [
       "<div>\n",
       "<style scoped>\n",
       "    .dataframe tbody tr th:only-of-type {\n",
       "        vertical-align: middle;\n",
       "    }\n",
       "\n",
       "    .dataframe tbody tr th {\n",
       "        vertical-align: top;\n",
       "    }\n",
       "\n",
       "    .dataframe thead th {\n",
       "        text-align: right;\n",
       "    }\n",
       "</style>\n",
       "<table border=\"1\" class=\"dataframe\">\n",
       "  <thead>\n",
       "    <tr style=\"text-align: right;\">\n",
       "      <th></th>\n",
       "      <th>Inv_Id</th>\n",
       "      <th>Product_Category</th>\n",
       "    </tr>\n",
       "  </thead>\n",
       "  <tbody>\n",
       "    <tr>\n",
       "      <th>0</th>\n",
       "      <td>15003</td>\n",
       "      <td>CLASS-1758</td>\n",
       "    </tr>\n",
       "    <tr>\n",
       "      <th>1</th>\n",
       "      <td>15008</td>\n",
       "      <td>CLASS-1522</td>\n",
       "    </tr>\n",
       "    <tr>\n",
       "      <th>2</th>\n",
       "      <td>15013</td>\n",
       "      <td>CLASS-1522</td>\n",
       "    </tr>\n",
       "    <tr>\n",
       "      <th>3</th>\n",
       "      <td>15019</td>\n",
       "      <td>CLASS-1376</td>\n",
       "    </tr>\n",
       "    <tr>\n",
       "      <th>4</th>\n",
       "      <td>15020</td>\n",
       "      <td>CLASS-1758</td>\n",
       "    </tr>\n",
       "  </tbody>\n",
       "</table>\n",
       "</div>"
      ],
      "text/plain": [
       "   Inv_Id Product_Category\n",
       "0   15003       CLASS-1758\n",
       "1   15008       CLASS-1522\n",
       "2   15013       CLASS-1522\n",
       "3   15019       CLASS-1376\n",
       "4   15020       CLASS-1758"
      ]
     },
     "execution_count": 30,
     "metadata": {},
     "output_type": "execute_result"
    }
   ],
   "source": [
    "sample['Inv_Id'] = test['Inv_Id']\n",
    "sample.fillna('CLASS-784',axis=1).head()"
   ]
  },
  {
   "cell_type": "code",
   "execution_count": 31,
   "metadata": {},
   "outputs": [
    {
     "data": {
      "text/html": [
       "<div>\n",
       "<style scoped>\n",
       "    .dataframe tbody tr th:only-of-type {\n",
       "        vertical-align: middle;\n",
       "    }\n",
       "\n",
       "    .dataframe tbody tr th {\n",
       "        vertical-align: top;\n",
       "    }\n",
       "\n",
       "    .dataframe thead th {\n",
       "        text-align: right;\n",
       "    }\n",
       "</style>\n",
       "<table border=\"1\" class=\"dataframe\">\n",
       "  <thead>\n",
       "    <tr style=\"text-align: right;\">\n",
       "      <th></th>\n",
       "      <th>Inv_Id</th>\n",
       "      <th>Product_Category</th>\n",
       "    </tr>\n",
       "  </thead>\n",
       "  <tbody>\n",
       "    <tr>\n",
       "      <th>0</th>\n",
       "      <td>15003</td>\n",
       "      <td>CLASS-1758</td>\n",
       "    </tr>\n",
       "    <tr>\n",
       "      <th>1</th>\n",
       "      <td>15008</td>\n",
       "      <td>CLASS-1522</td>\n",
       "    </tr>\n",
       "    <tr>\n",
       "      <th>2</th>\n",
       "      <td>15013</td>\n",
       "      <td>CLASS-1522</td>\n",
       "    </tr>\n",
       "    <tr>\n",
       "      <th>3</th>\n",
       "      <td>15019</td>\n",
       "      <td>CLASS-1376</td>\n",
       "    </tr>\n",
       "    <tr>\n",
       "      <th>4</th>\n",
       "      <td>15020</td>\n",
       "      <td>CLASS-1758</td>\n",
       "    </tr>\n",
       "  </tbody>\n",
       "</table>\n",
       "</div>"
      ],
      "text/plain": [
       "   Inv_Id Product_Category\n",
       "0   15003       CLASS-1758\n",
       "1   15008       CLASS-1522\n",
       "2   15013       CLASS-1522\n",
       "3   15019       CLASS-1376\n",
       "4   15020       CLASS-1758"
      ]
     },
     "execution_count": 31,
     "metadata": {},
     "output_type": "execute_result"
    }
   ],
   "source": [
    "sample['Product_Category'] = predict_test\n",
    "sample.to_csv('sample.csv', header=True, index=False)\n",
    "sample.head()"
   ]
  },
  {
   "cell_type": "markdown",
   "metadata": {},
   "source": [
    "# Calculating various metrics"
   ]
  },
  {
   "cell_type": "code",
   "execution_count": 32,
   "metadata": {},
   "outputs": [
    {
     "data": {
      "text/plain": [
       "(1.0, 1.0)"
      ]
     },
     "execution_count": 32,
     "metadata": {},
     "output_type": "execute_result"
    }
   ],
   "source": [
    "clf.score(x_train,y_train), clf.score(x_test, predict_test)"
   ]
  },
  {
   "cell_type": "code",
   "execution_count": 33,
   "metadata": {},
   "outputs": [],
   "source": [
    "from sklearn.metrics import confusion_matrix, classification_report,accuracy_score\n",
    "classify = classification_report(y_test, predict_test)\n",
    "confusion = confusion_matrix(y_test, predict_test)"
   ]
  },
  {
   "cell_type": "code",
   "execution_count": 34,
   "metadata": {},
   "outputs": [
    {
     "data": {
      "text/plain": [
       "1892"
      ]
     },
     "execution_count": 34,
     "metadata": {},
     "output_type": "execute_result"
    }
   ],
   "source": [
    "file1 = open(\"classification report.txt\",\"w+\") \n",
    "file1.write(classify)"
   ]
  },
  {
   "cell_type": "code",
   "execution_count": 35,
   "metadata": {},
   "outputs": [],
   "source": [
    "np.savetxt('confusion matrix.txt',confusion)"
   ]
  },
  {
   "cell_type": "code",
   "execution_count": 36,
   "metadata": {},
   "outputs": [
    {
     "data": {
      "text/plain": [
       "1.0"
      ]
     },
     "execution_count": 36,
     "metadata": {},
     "output_type": "execute_result"
    }
   ],
   "source": [
    "accuracy_score(y_test, predict_test)"
   ]
  }
 ],
 "metadata": {
  "kernelspec": {
   "display_name": "Python 3",
   "language": "python",
   "name": "python3"
  },
  "language_info": {
   "codemirror_mode": {
    "name": "ipython",
    "version": 3
   },
   "file_extension": ".py",
   "mimetype": "text/x-python",
   "name": "python",
   "nbconvert_exporter": "python",
   "pygments_lexer": "ipython3",
   "version": "3.7.3"
  }
 },
 "nbformat": 4,
 "nbformat_minor": 2
}
